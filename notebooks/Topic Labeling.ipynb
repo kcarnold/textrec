{
 "cells": [
  {
   "cell_type": "markdown",
   "metadata": {},
   "source": [
    "# Topic Sequences, and their relationship with quality."
   ]
  },
  {
   "cell_type": "markdown",
   "metadata": {},
   "source": [
    "- Goal: label the topic of each sentence.\n",
    "- Plan: make a long-form dataframe, row per sentence, with the following columns: (doc_id, doc_n_sents, sent_idx, raw, tokenized, topic)\n",
    "- Steps:\n",
    "  - load dataset\n",
    "  - filter 1: sentence length in 25-75 %ile\n",
    "  - project into vector space\n",
    "  - filter 2: vector-space norm > .5\n",
    "  - cluster\n",
    "  - filter 3: distance to cluster center less than median\n"
   ]
  },
  {
   "cell_type": "code",
   "execution_count": 1,
   "metadata": {},
   "outputs": [],
   "source": [
    "import pandas as pd\n",
    "import numpy as np"
   ]
  },
  {
   "cell_type": "code",
   "execution_count": 2,
   "metadata": {},
   "outputs": [],
   "source": [
    "from textrec import cueing"
   ]
  },
  {
   "cell_type": "code",
   "execution_count": 3,
   "metadata": {},
   "outputs": [],
   "source": [
    "class VecPile:\n",
    "    def __init__(self, **kw):\n",
    "        for k, v in kw.items():\n",
    "            setattr(self, k, v)\n",
    "\n",
    "    @staticmethod\n",
    "    def get_len(x):\n",
    "        try:\n",
    "            return x.shape[0]\n",
    "        except AttributeError:\n",
    "            return len(x)\n",
    "\n",
    "            \n",
    "    def __setattr__(self, key, value):\n",
    "        new_len = self.get_len(value)\n",
    "        for existing in self.__dict__.values():\n",
    "            existing_len = self.get_len(existing)\n",
    "            if existing_len != new_len:\n",
    "                raise ValueError(\n",
    "                    f\"Dimension mismatch: vecpile has dimension {existing_len} but trying to add a {new_len}\")\n",
    "        self.__dict__[key] = value\n",
    "        \n",
    "    def __len__(self):\n",
    "        for existing in self.__dict__.values():\n",
    "            return self.get_len(existing)\n",
    "\n",
    "\n",
    "def test_vecpile():\n",
    "    vp = VecPile()\n",
    "    x = np.zeros(10)\n",
    "    vp.x = x\n",
    "    assert vp.x is x\n",
    "    try:\n",
    "        raised = False\n",
    "        vp.y = np.zeros(2)\n",
    "    except ValueError:\n",
    "        raised = True\n",
    "    assert raised\n",
    "\n",
    "    vp = VecPile(x=x)\n",
    "    assert vp.x is x\n",
    "\n",
    "    assert len(vp) == len(x)\n",
    "    \n",
    "test_vecpile()"
   ]
  },
  {
   "cell_type": "markdown",
   "metadata": {},
   "source": [
    "# Load dataset"
   ]
  },
  {
   "cell_type": "code",
   "execution_count": 4,
   "metadata": {},
   "outputs": [],
   "source": [
    "df_full = cueing.cached_dataset('yelp')"
   ]
  },
  {
   "cell_type": "markdown",
   "metadata": {},
   "source": [
    "Find the \"best\" reviews."
   ]
  },
  {
   "cell_type": "code",
   "execution_count": 5,
   "metadata": {},
   "outputs": [],
   "source": [
    "df_full['total_votes'] = df_full['votes_cool'] + df_full['votes_funny'] + df_full['votes_useful']\n",
    "df_full['total_votes_rank'] = df_full.groupby('business_id').total_votes.rank(ascending=False)"
   ]
  },
  {
   "cell_type": "code",
   "execution_count": 6,
   "metadata": {},
   "outputs": [],
   "source": [
    "business_review_counts = df_full.groupby('business_id').review_count.mean()\n",
    "median_review_count = np.median(business_review_counts)"
   ]
  },
  {
   "cell_type": "code",
   "execution_count": 7,
   "metadata": {},
   "outputs": [],
   "source": [
    "df_full['is_best'] = (df_full.review_count >= median_review_count) & (df_full.total_votes >= 10) & (df_full.total_votes_rank <= 5)"
   ]
  },
  {
   "cell_type": "code",
   "execution_count": 8,
   "metadata": {},
   "outputs": [
    {
     "data": {
      "text/plain": [
       "Index(['business_id', 'date', 'review_id', 'stars_review', 'text', 'user_id',\n",
       "       'votes_cool', 'votes_funny', 'votes_useful', 'categories', 'city',\n",
       "       'latitude', 'longitude', 'name', 'neighborhoods', 'review_count',\n",
       "       'stars_biz', 'state', 'average_stars', 'review_count_user',\n",
       "       'votes_cool_user', 'votes_funny_user', 'votes_useful_user',\n",
       "       'age_months', 'tokenized', 'total_votes', 'total_votes_rank',\n",
       "       'is_best'],\n",
       "      dtype='object')"
      ]
     },
     "execution_count": 8,
     "metadata": {},
     "output_type": "execute_result"
    }
   ],
   "source": [
    "df_full.columns"
   ]
  },
  {
   "cell_type": "markdown",
   "metadata": {},
   "source": [
    "# Split sentences."
   ]
  },
  {
   "cell_type": "code",
   "execution_count": 9,
   "metadata": {},
   "outputs": [],
   "source": [
    "sentences = []\n",
    "for row in df_full.itertuples():\n",
    "    doc_id = row.review_id\n",
    "    sents = row.tokenized.split('\\n')\n",
    "    doc_n_sents = len(sents)\n",
    "    for sent_idx, sent in enumerate(sents):\n",
    "        sentences.append((doc_id, doc_n_sents, sent_idx, sent))\n",
    "\n",
    "\n",
    "sentences_df = pd.DataFrame(sentences, columns=\"doc_id doc_n_sents sent_idx sent\".split())\n",
    "del sentences\n",
    "\n",
    "'{:,}'.format(len(sentences_df))"
   ]
  },
  {
   "cell_type": "markdown",
   "metadata": {},
   "source": [
    "# Filter 1: length"
   ]
  },
  {
   "cell_type": "code",
   "execution_count": 10,
   "metadata": {},
   "outputs": [],
   "source": [
    "sentences_df['sent_length'] = [len(sent.split()) for sent in sentences_df.sent]"
   ]
  },
  {
   "cell_type": "code",
   "execution_count": 16,
   "metadata": {},
   "outputs": [
    {
     "data": {
      "text/plain": [
       "'811,963'"
      ]
     },
     "execution_count": 16,
     "metadata": {},
     "output_type": "execute_result"
    }
   ],
   "source": [
    "min_percentile=25\n",
    "max_percentile=75\n",
    "min_sent_len, max_sent_len = np.percentile(sentences_df.sent_length, [min_percentile, max_percentile])\n",
    "length_filtered = VecPile(\n",
    "    sentences=sentences_df[sentences_df.sent_length.between(min_sent_len, max_sent_len)].copy())\n",
    "'{:,}'.format(len(length_filtered))"
   ]
  },
  {
   "cell_type": "markdown",
   "metadata": {},
   "source": [
    "# Project into vector space"
   ]
  },
  {
   "cell_type": "code",
   "execution_count": 17,
   "metadata": {},
   "outputs": [],
   "source": [
    "from sklearn.feature_extraction.text import TfidfVectorizer\n",
    "\n",
    "vectorizer = TfidfVectorizer(min_df=5, max_df=0.5, stop_words=\"english\")\n",
    "length_filtered.raw_vecs = vectorizer.fit_transform(length_filtered.sentences.sent)"
   ]
  },
  {
   "cell_type": "code",
   "execution_count": 18,
   "metadata": {},
   "outputs": [],
   "source": [
    "from textrec import numberbatch_vecs"
   ]
  },
  {
   "cell_type": "code",
   "execution_count": 19,
   "metadata": {},
   "outputs": [],
   "source": [
    "vocab = vectorizer.get_feature_names()\n",
    "projection_mat = numberbatch_vecs.get_projection_mat(vocab)"
   ]
  },
  {
   "cell_type": "code",
   "execution_count": 26,
   "metadata": {},
   "outputs": [],
   "source": [
    "length_filtered.vecs = raw_vecs.dot(projection_mat)"
   ]
  },
  {
   "cell_type": "code",
   "execution_count": 27,
   "metadata": {},
   "outputs": [
    {
     "data": {
      "text/plain": [
       "(811963, 300)"
      ]
     },
     "execution_count": 27,
     "metadata": {},
     "output_type": "execute_result"
    }
   ],
   "source": [
    "length_filtered.projected_vecs.shape"
   ]
  },
  {
   "cell_type": "markdown",
   "metadata": {},
   "source": [
    "Let's skip norm filtering; Note: looks like the norm filtering step didn't do much."
   ]
  },
  {
   "cell_type": "code",
   "execution_count": 28,
   "metadata": {},
   "outputs": [],
   "source": [
    "if False:\n",
    "    min_norm = .5\n",
    "    length_filtered.norms = np.linalg.norm(length_filtered.projected_vecs, axis=1)\n",
    "    large_enough = length_filtered.norms > min_norm\n",
    "\n",
    "    norm_filtered = VecPile(\n",
    "        vecs=length_filtered.projected_vecs[large_enough] / length_filtered.norms[large_enough][:, None],\n",
    "        indices=np.flatnonzero(large_enough))\n",
    "\n",
    "    norm_filtered.sentences = length_filtered.sentences.iloc[norm_filtered.indices].copy()\n",
    "    norm_filtered.raw_vecs = length_filtered.raw_vecs[norm_filtered.indices]\n",
    "    '{:,}'.format(len(norm_filtered.sentences))\n",
    "else:\n",
    "    norm_filtered = length_filtered"
   ]
  },
  {
   "cell_type": "markdown",
   "metadata": {},
   "source": [
    "# Cluster"
   ]
  },
  {
   "cell_type": "code",
   "execution_count": 29,
   "metadata": {},
   "outputs": [],
   "source": [
    "from sklearn.cluster import MiniBatchKMeans"
   ]
  },
  {
   "cell_type": "code",
   "execution_count": 30,
   "metadata": {},
   "outputs": [],
   "source": [
    "random_state = 0\n",
    "n_clusters = 75\n",
    "mbk_wordvecs = MiniBatchKMeans(init='k-means++', n_clusters=n_clusters, n_init=10, random_state=random_state)\n",
    "mbk_wordvecs.fit(norm_filtered.vecs)\n",
    "dists_to_centers = mbk_wordvecs.transform(norm_filtered.vecs)"
   ]
  },
  {
   "cell_type": "markdown",
   "metadata": {},
   "source": [
    "Hard-assign topics, filter to those close enough."
   ]
  },
  {
   "cell_type": "code",
   "execution_count": 31,
   "metadata": {},
   "outputs": [
    {
     "data": {
      "text/plain": [
       "'405,981'"
      ]
     },
     "execution_count": 31,
     "metadata": {},
     "output_type": "execute_result"
    }
   ],
   "source": [
    "norm_filtered.sentences['topic'] = np.argmin(dists_to_centers, axis=1)\n",
    "norm_filtered.dist_to_closest_cluster = np.min(dists_to_centers, axis=1)\n",
    "norm_filtered.is_close = norm_filtered.dist_to_closest_cluster < np.median(norm_filtered.dist_to_closest_cluster)\n",
    "\n",
    "distance_filtered = VecPile(\n",
    "    indices=np.flatnonzero(norm_filtered.is_close),\n",
    "    sentences = norm_filtered.sentences.iloc[norm_filtered.is_close].copy(),\n",
    "    projected_vecs=norm_filtered.vecs[norm_filtered.is_close])\n",
    "'{:,}'.format(len(distance_filtered))"
   ]
  },
  {
   "cell_type": "code",
   "execution_count": 32,
   "metadata": {},
   "outputs": [],
   "source": [
    "distance_filtered.raw_vecs = norm_filtered.raw_vecs[distance_filtered.indices]"
   ]
  },
  {
   "cell_type": "markdown",
   "metadata": {},
   "source": [
    "# Aside: cluster words."
   ]
  },
  {
   "cell_type": "code",
   "execution_count": 28,
   "metadata": {},
   "outputs": [],
   "source": [
    "from sklearn.cluster import KMeans"
   ]
  },
  {
   "cell_type": "code",
   "execution_count": 96,
   "metadata": {},
   "outputs": [],
   "source": [
    "n_word_clusters=100\n",
    "word_kmeans = KMeans(n_clusters=n_word_clusters).fit(projection_mat)"
   ]
  },
  {
   "cell_type": "code",
   "execution_count": 97,
   "metadata": {},
   "outputs": [
    {
     "data": {
      "text/plain": [
       "(21912, 100)"
      ]
     },
     "execution_count": 97,
     "metadata": {},
     "output_type": "execute_result"
    }
   ],
   "source": [
    "word_stuff = VecPile(vocab=vocab)\n",
    "word_stuff.dists_to_centers = word_kmeans.transform(projection_mat)\n",
    "word_stuff.dists_to_centers.shape"
   ]
  },
  {
   "cell_type": "code",
   "execution_count": 98,
   "metadata": {},
   "outputs": [
    {
     "data": {
      "text/plain": [
       "'10,956'"
      ]
     },
     "execution_count": 98,
     "metadata": {},
     "output_type": "execute_result"
    }
   ],
   "source": [
    "word_stuff.cluster = np.argmin(word_stuff.dists_to_centers, axis=1)\n",
    "word_stuff.dist_to_closest_cluster = np.min(word_stuff.dists_to_centers, axis=1)\n",
    "word_stuff.is_close = word_stuff.dist_to_closest_cluster < np.median(word_stuff.dist_to_closest_cluster)\n",
    "\n",
    "close_words = VecPile(\n",
    "    indices=np.flatnonzero(word_stuff.is_close),\n",
    "    vocab=np.array(vocab)[word_stuff.is_close].tolist(),\n",
    "    cluster=word_stuff.cluster[word_stuff.is_close])\n",
    "'{:,}'.format(len(close_words))"
   ]
  },
  {
   "cell_type": "code",
   "execution_count": 100,
   "metadata": {},
   "outputs": [],
   "source": [
    "%matplotlib inline"
   ]
  },
  {
   "cell_type": "code",
   "execution_count": 101,
   "metadata": {},
   "outputs": [
    {
     "data": {
      "text/plain": [
       "<matplotlib.axes._subplots.AxesSubplot at 0x229090860>"
      ]
     },
     "execution_count": 101,
     "metadata": {},
     "output_type": "execute_result"
    },
    {
     "data": {
      "image/png": "[encoded data removed]",
      "text/plain": [
       "<Figure size 432x288 with 1 Axes>"
      ]
     },
     "metadata": {
      "needs_background": "light"
     },
     "output_type": "display_data"
    }
   ],
   "source": [
    "word_clusters = pd.DataFrame(vars(close_words))\n",
    "word_clusters.groupby('cluster').size().hist()"
   ]
  },
  {
   "cell_type": "code",
   "execution_count": 56,
   "metadata": {},
   "outputs": [],
   "source": [
    "from collections import Counter\n",
    "word_frequencies = Counter(word for doc in df_full.tokenized for word in doc.split())\n",
    "\n",
    "word_frequencies = pd.DataFrame(word_frequencies.most_common(), columns='vocab count'.split())"
   ]
  },
  {
   "cell_type": "code",
   "execution_count": 57,
   "metadata": {},
   "outputs": [
    {
     "name": "stdout",
     "output_type": "stream",
     "text": [
      "<class 'pandas.core.frame.DataFrame'>\n",
      "RangeIndex: 108466 entries, 0 to 108465\n",
      "Data columns (total 2 columns):\n",
      "vocab    108466 non-null object\n",
      "count    108466 non-null int64\n",
      "dtypes: int64(1), object(1)\n",
      "memory usage: 1.7+ MB\n"
     ]
    }
   ],
   "source": [
    "word_frequencies.info()"
   ]
  },
  {
   "cell_type": "code",
   "execution_count": 102,
   "metadata": {},
   "outputs": [],
   "source": [
    "word_clusters = pd.merge(word_clusters, word_frequencies, on='vocab')"
   ]
  },
  {
   "cell_type": "code",
   "execution_count": 104,
   "metadata": {},
   "outputs": [],
   "source": [
    "import wordfreq"
   ]
  },
  {
   "cell_type": "code",
   "execution_count": 105,
   "metadata": {},
   "outputs": [],
   "source": [
    "word_clusters['wordfreq'] = [wordfreq.zipf_frequency(term, 'en') for term in word_clusters.vocab]"
   ]
  },
  {
   "cell_type": "code",
   "execution_count": 106,
   "metadata": {},
   "outputs": [],
   "source": [
    "word_clusters = word_clusters.sort_values('wordfreq', ascending=False)"
   ]
  },
  {
   "cell_type": "code",
   "execution_count": 107,
   "metadata": {},
   "outputs": [
    {
     "name": "stdout",
     "output_type": "stream",
     "text": [
      " 62 little children small young girl child baby boy kids girls\n",
      " 68 school course class education study students learn training science studies\n",
      " 21 wet smooth layer mud layers dense texture sticky slick moist\n",
      "3743 50 73 92 18 65 08 88 96 26 13\n",
      " 70 easy difficult interesting impossible prevent trouble useful attractive exciting complicated\n",
      " 54 lot various multiple variety lots thousands numerous thousand crowd massive\n",
      "106 love thanks thank hate respect enjoy welcome loved agree accept\n",
      " 67 people city guys community town cool style culture modern district\n",
      " 32 food eat dinner lunch breakfast meal foods menu delicious meals\n",
      " 63 think really actually maybe probably gonna guess damn knows unless\n",
      " 95 dog animals animal wild horse cat farm bear dogs bird\n",
      " 85 music song performance rock album dance band records soul pop\n",
      " 69 heard phone hear sound voice listen sounds calls hearing bell\n",
      " 69 white black light red blue green dark sun color sky\n",
      " 73 best better greater worst worse largest biggest larger greatest smaller\n",
      " 13 vegetarian vegan eater veg veggie vegetarians carnivorous carnivores carnivore vegetarianism\n",
      " 52 cup table glass kitchen bowl plate cabinet pan pot tables\n",
      "143 sure real believe fact true evidence provide trust complete truth\n",
      " 39 fish waters fishing shark salmon sharks cod shrimp trout crab\n",
      " 29 weak boring ugly unnecessary useless mere miserable pathetic shitty irrelevant\n",
      "148 york washington county california usa texas chicago valley boston florida\n",
      " 53 hot heat warm temperature cook burn burning cooking steam temperatures\n",
      " 44 proud tough friendly attitude careful severe violent rough sensitive intense\n",
      " 59 rest bed sleep dream sit sitting lie seat wake lay\n",
      " 60 drink drinking wine beer alcohol drunk bottle drinks spirits bottles\n",
      "110 work job office experience position services role director management staff\n",
      " 19 limit limits overcome excess dominant excessive overwhelming exceed dominate exceeded\n",
      "114 game team play games win playing field players played player\n",
      " 39 cake pie cookie cakes dessert pudding biscuits pancakes pies pastry\n",
      " 26 italy italian rome di mario venice florence franco roma naples\n",
      " 63 father son mother wife parents brother mom daughter sister husband\n",
      " 78 pretty quite completely highly totally extremely entirely slightly relatively somewhat\n",
      "232 video list art site view media shows design picture page\n",
      " 18 hungry hunger satisfy appetite starving thirsty thirst greedy starve starvation\n",
      "  9 kebab kebabs falafel gyros shawarma shish souvlaki kabob kebap\n",
      "128 simply quickly immediately clearly directly easily fully automatically manner largely\n",
      " 36 symptoms chest stomach throat fever liver organs belly lungs sore\n",
      " 60 shit clean waste dirty mess bathroom shower bath wash dust\n",
      " 92 china chinese lee korea asian kim hong kong korean vietnam\n",
      " 52 water rain flow pool stream tears liquid drops flood filter\n",
      " 53 salt sauce dressing pepper salad garlic ginger tomatoes spice tomato\n",
      "  8 boasts boast brag bragging boasted boasting bragged vaunted\n",
      " 29 pasta spaghetti parmesan macaroni lasagna mozzarella pesto risotto ravioli bolognese\n",
      " 16 soup mushrooms roasted blanc stew gravy broth casserole eggplant marinated\n",
      "  8 noodles sushi noodle ramen tofu dumplings tempura udon\n",
      "262 going doing having looking getting making using working taking coming\n",
      " 54 friends friend partner dude fellow girlfriend boyfriend partners mate enemies\n",
      "111 house room building door wall construction floor structure hall windows\n",
      "119 turn hit bit cut break pass pick beat piece drop\n",
      " 84 great beautiful amazing huge awesome wonderful unique excellent terrible lovely\n",
      " 25 india indian indians khan delhi pakistani gandhi curry mumbai bombay\n",
      " 38 wonder surprise surprised wondering shock impressed surprising shocked wondered wonders\n",
      " 38 taste smell breath bitter tastes smells senses flavor sour rotten\n",
      " 41 rice seed grain seeds crop corn vegetables wheat beans potato\n",
      "100 brown smith thomas hill martin jones johnson williams taylor fox\n",
      " 37 filled vast extensive surrounded occupied situated spaces loaded equipped packed\n",
      " 80 wear wearing clothes dress shoes suit shirt hat jean cap\n",
      " 24 ice coffee tea milk frozen coke soda cola starbucks caffeine\n",
      "119 way road walk visit track train tour travel miles flight\n",
      "  1 gaucho\n",
      "407 said got used called thought told seen took came went\n",
      " 50 weight fat healthy exercise diet pounds protein muscle gym fitness\n",
      "135 money pay account cost tax worth paid income charge costs\n",
      " 95 party special present send paper box letter card parties christmas\n",
      "  2 barney barneys\n",
      "109 away lost stay hold save missing safe kept secret remain\n",
      " 73 change changes changed changing improve fix update replaced improved updated\n",
      "106 deal market buy price trade products product store sold sales\n",
      " 82 san spanish el los mexico spain angeles brazil latin del\n",
      " 38 cheese pizza bacon beef sandwich ham fried burger pork steak\n",
      " 31 remember forget memory forgot memories recall forgotten remind memorial remembered\n",
      " 36 mouth eating sucks suck ate bite consumed eats consuming consume\n",
      "118 non la al et le ex im vs en em\n",
      "  4 zach cody zack lexi\n",
      " 91 yes oh yeah hey ok okay hi wow ha ah\n",
      " 45 university college student institute academic institution campus universities graduate dean\n",
      " 45 week april march june month september july october january november\n",
      " 45 apple fruit orange juice cherry fruits lemon banana apples berry\n",
      " 41 crazy weird mad strange random curious unusual ridiculous odd silly\n",
      " 23 gotta ya hop fuckin outta goin doin mc bitches dope\n",
      " 21 bread flour toast baking baked dough crust slices bakery bun\n",
      " 16 japan japanese tokyo anime ninja manga samurai kobe kyoto osaka\n",
      " 43 crying screaming cried complain scream complaining shout yelling complained shouting\n",
      " 34 sweet sugar cream chocolate honey butter candy cookies nut peanut\n",
      " 66 happy glad concerned afraid tired angry excited scared worried upset\n",
      " 76 quality ability lack strength importance talent grace depth wealth skill\n",
      " 73 car drive parts race cars driving engine van models vehicle\n",
      "181 mr john paul george mrs jack william louis tom robert\n",
      " 30 bar restaurant bars restaurants pub cafe inn lounge salon establishments\n",
      "188 tell information problem talk story question matter ask meet problems\n",
      " 68 sense feeling pain fear doubt feels worry concerns concern feelings\n",
      "  3 gesture gestures gestured\n",
      " 52 day night hours morning hour tomorrow tonight yesterday evening till\n",
      "187 david michael james mark peter chris mike scott sam ben\n",
      "298 like different including mean following understand example according looks type\n",
      "164 want need try trying able hope possible wait needs wanted\n",
      " 69 fun funny lol joke laughing laugh smile joy happiness comedy\n",
      "110 long head face short eyes hands straight hair eye ass\n",
      "  3 beckoning beckoned beckon\n",
      " 22 server chef servants servant clerk servers maid attendant catering waiter\n"
     ]
    }
   ],
   "source": [
    "for i in range(word_kmeans.n_clusters):\n",
    "    words = word_clusters.vocab[word_clusters.cluster == i]\n",
    "    #.sample(n=min(len(words), 10))\n",
    "    print(f\"{len(words):3d} {' '.join(words.iloc[:10])}\")"
   ]
  },
  {
   "cell_type": "code",
   "execution_count": 108,
   "metadata": {},
   "outputs": [
    {
     "data": {
      "text/plain": [
       "10920"
      ]
     },
     "execution_count": 108,
     "metadata": {},
     "output_type": "execute_result"
    }
   ],
   "source": [
    "word_substitute = {}\n",
    "for i in range(word_kmeans.n_clusters):\n",
    "    words = word_clusters.vocab[word_clusters.cluster == i]\n",
    "    ref_word = words.iloc[0].upper()\n",
    "    for word in words:\n",
    "        word_substitute[word] = ref_word\n",
    "len(word_substitute)"
   ]
  },
  {
   "cell_type": "code",
   "execution_count": 109,
   "metadata": {},
   "outputs": [
    {
     "name": "stdout",
     "output_type": "stream",
     "text": [
      "education comes short red stay son data living report watch happy reason child gonna low woman wanted police special action father age light future development major north community started morning york minutes heart leave idea pretty probably win fuck playing needs turn according hit soon million months past example john saying research understand post ask form university pay saw remember cause late office political 18th matter ago 15th 40th 70th 30th 25th 12th 27th question coming 50th 11th guy 96th wait 28th 24th 20th 10th 14th room close 29th 17th 13th act taken 36th single 38th 45th 19th girl taking wrong nice class yeah friend members court season lost video possible story history hours south body hope guys air health hand book large human talk known president news friends maybe control games half problem true local level car food death information able makes trying service shit fact american mind black actually kind face means says given job early working united young social course international try white run using important area line open believe oh thank read support stop hard men war yes states party order law based making far week music looking start following seen country took getting tell came small later went head business bad thanks power live mean company told children today including care water lot times change point general women having free person doing real national mr play public city thought let money group days different called away case set team sure night big left second number family feel god house government end thing school game help things state high home place better old little does look love come best long used use man great say got life going year world really day work did said right need years way want make think know good people new 750 626 150 120 125 600 206 365 501 709 115 180 116 420 300 930 250 110 100 200 650 107 106 400 170 175 700 900 102 101 301 622 630 909 500 230 411 104 730 121 518 105 195 130 530 911 160 800 183 103 512 350 430 140 450 time like just 2007 1230 1960 1972 2011 2009 1998 1970 2008 1975 1984 1993 1985 1994 1988 1940 2005 1950 1130 1200 2010 1980 2001 1500 1992 1996 1981 1995 1999 5000 1000 2003 1997 1920 2006 2012 1963 1989 3000 2002 2004 2000 1990 02 19 81 22 61 15 54 91 70 66 44 42 36 80 78 94 28 48 43 45 14 17 29 97 62 34 73 92 18 65 08 88 96 26 13 95 68 25 85 12 41 09 11 84 40 16 51 57 82 01 52 37 06 46 10 03 00 93 55 53 39 72 24 59 63 07 27 56 75 83 49 98 60 76 69 23 89 99 33 30 05 38 58 86 32 31 47 71 77 79 90 67 04 21 64 20 74 35 50\n"
     ]
    }
   ],
   "source": [
    "print(' '.join(word_clusters.sort_values('wordfreq').vocab.iloc[-500:]))"
   ]
  },
  {
   "cell_type": "code",
   "execution_count": 110,
   "metadata": {},
   "outputs": [
    {
     "data": {
      "text/plain": [
       "'50'"
      ]
     },
     "execution_count": 110,
     "metadata": {},
     "output_type": "execute_result"
    }
   ],
   "source": [
    "word_substitute['report']"
   ]
  },
  {
   "cell_type": "code",
   "execution_count": 117,
   "metadata": {},
   "outputs": [
    {
     "data": {
      "text/plain": [
       "'my FATHER and i 50 this 50 often and have SAID everything from the CHEESE to the FOOD DEAL .'"
      ]
     },
     "execution_count": 117,
     "metadata": {},
     "output_type": "execute_result"
    }
   ],
   "source": [
    "def collapse(tokenized):\n",
    "    result = []\n",
    "    prev = None\n",
    "    for token in tokenized.split():\n",
    "        new_tok = word_substitute.get(token, token)\n",
    "        if new_tok != prev:\n",
    "            result.append(new_tok)\n",
    "            prev = new_tok\n",
    "    return ' '.join(result)\n",
    "collapse(sentences_df.sent.iloc[500])"
   ]
  },
  {
   "cell_type": "code",
   "execution_count": 118,
   "metadata": {},
   "outputs": [
    {
     "data": {
      "text/plain": [
       "'my wife and i frequent this place often and have ordered everything from the burger to the breakfast items .'"
      ]
     },
     "execution_count": 118,
     "metadata": {},
     "output_type": "execute_result"
    }
   ],
   "source": [
    "sentences_df.sent.iloc[500]"
   ]
  },
  {
   "cell_type": "code",
   "execution_count": 127,
   "metadata": {},
   "outputs": [
    {
     "data": {
      "text/plain": [
       "('50', 'WORK', 'SERVER')"
      ]
     },
     "execution_count": 127,
     "metadata": {},
     "output_type": "execute_result"
    }
   ],
   "source": [
    "word_substitute['service'], word_substitute['staff'], word_substitute['waiter']"
   ]
  },
  {
   "cell_type": "code",
   "execution_count": 124,
   "metadata": {},
   "outputs": [
    {
     "data": {
      "text/html": [
       "<div>\n",
       "<style scoped>\n",
       "    .dataframe tbody tr th:only-of-type {\n",
       "        vertical-align: middle;\n",
       "    }\n",
       "\n",
       "    .dataframe tbody tr th {\n",
       "        vertical-align: top;\n",
       "    }\n",
       "\n",
       "    .dataframe thead th {\n",
       "        text-align: right;\n",
       "    }\n",
       "</style>\n",
       "<table border=\"1\" class=\"dataframe\">\n",
       "  <thead>\n",
       "    <tr style=\"text-align: right;\">\n",
       "      <th></th>\n",
       "      <th>sentence</th>\n",
       "      <th>collapsed</th>\n",
       "    </tr>\n",
       "  </thead>\n",
       "  <tbody>\n",
       "    <tr>\n",
       "      <th>429541</th>\n",
       "      <td>it had a soupy texture and didn't add anything...</td>\n",
       "      <td>it had a soupy WET and didn't LIKE anything to...</td>\n",
       "    </tr>\n",
       "    <tr>\n",
       "      <th>1360208</th>\n",
       "      <td>friendliness was the not the point , but the f...</td>\n",
       "      <td>friendliness was the not the 50 , but the FOOD...</td>\n",
       "    </tr>\n",
       "    <tr>\n",
       "      <th>1479184</th>\n",
       "      <td>like i kind of already said , maybe not a lot ...</td>\n",
       "      <td>LIKE i 50 of already SAID , THINK not a LOT fo...</td>\n",
       "    </tr>\n",
       "    <tr>\n",
       "      <th>944131</th>\n",
       "      <td>when i was in college at cmu , larry &amp; carol's...</td>\n",
       "      <td>when i was in UNIVERSITY at 50 , MR &amp; carol's ...</td>\n",
       "    </tr>\n",
       "    <tr>\n",
       "      <th>57357</th>\n",
       "      <td>once , my dessert order got lost &amp; i had to ke...</td>\n",
       "      <td>once , my CAKE 50 SAID AWAY &amp; i had to keep WA...</td>\n",
       "    </tr>\n",
       "    <tr>\n",
       "      <th>236345</th>\n",
       "      <td>i enjoyed that it was a very relaxing diner at...</td>\n",
       "      <td>i LOVE that it was a very REST BAR 50 where th...</td>\n",
       "    </tr>\n",
       "    <tr>\n",
       "      <th>908294</th>\n",
       "      <td>service was not so great .</td>\n",
       "      <td>50 was not so GREAT .</td>\n",
       "    </tr>\n",
       "    <tr>\n",
       "      <th>928169</th>\n",
       "      <td>a patron inside was singled out for being gay ...</td>\n",
       "      <td>a patron 50 was singled out for being 50 and w...</td>\n",
       "    </tr>\n",
       "    <tr>\n",
       "      <th>728019</th>\n",
       "      <td>that was the case when we went - and it wasn't...</td>\n",
       "      <td>that was the 50 when we SAID - and it wasn't a...</td>\n",
       "    </tr>\n",
       "    <tr>\n",
       "      <th>1186119</th>\n",
       "      <td>great vegan cafe that can wow any meaty lover ...</td>\n",
       "      <td>GREAT VEGETARIAN BAR that can YES any meaty FR...</td>\n",
       "    </tr>\n",
       "    <tr>\n",
       "      <th>100209</th>\n",
       "      <td>once again , the food didn't have much flavor ...</td>\n",
       "      <td>once again , the FOOD didn't have much TASTE o...</td>\n",
       "    </tr>\n",
       "    <tr>\n",
       "      <th>540347</th>\n",
       "      <td>i must have some sort of facial gangrene that ...</td>\n",
       "      <td>i must have some 50 of LONG gangrene that i do...</td>\n",
       "    </tr>\n",
       "    <tr>\n",
       "      <th>522276</th>\n",
       "      <td>burger came sans tomato and lettuce .</td>\n",
       "      <td>CHEESE SAID sans SALT and RICE .</td>\n",
       "    </tr>\n",
       "    <tr>\n",
       "      <th>1183365</th>\n",
       "      <td>is this the best chinese food you can get in c...</td>\n",
       "      <td>is this the BEST CHINA FOOD you can get in HOU...</td>\n",
       "    </tr>\n",
       "    <tr>\n",
       "      <th>1470343</th>\n",
       "      <td>don't know what's up with these folks here ...</td>\n",
       "      <td>don't 50 what's up with these PEOPLE here ...</td>\n",
       "    </tr>\n",
       "    <tr>\n",
       "      <th>667246</th>\n",
       "      <td>too full to care how many calories consumed ?</td>\n",
       "      <td>too full to 50 how many WEIGHT MOUTH ?</td>\n",
       "    </tr>\n",
       "    <tr>\n",
       "      <th>1381220</th>\n",
       "      <td>there aren't many reasons for me to head into ...</td>\n",
       "      <td>there aren't many TELL for me to LONG into UNI...</td>\n",
       "    </tr>\n",
       "    <tr>\n",
       "      <th>111823</th>\n",
       "      <td>one of my favorite entrees is the butternut sq...</td>\n",
       "      <td>one of my LOVE entrees is the butternut squash...</td>\n",
       "    </tr>\n",
       "    <tr>\n",
       "      <th>269276</th>\n",
       "      <td>very filling and ulta - satisfying seattle com...</td>\n",
       "      <td>very FILLED and ulta - EASY YORK REST FOOD .</td>\n",
       "    </tr>\n",
       "    <tr>\n",
       "      <th>379041</th>\n",
       "      <td>even for my friend's vegetable sandwich .</td>\n",
       "      <td>even for my friend's RICE CHEESE .</td>\n",
       "    </tr>\n",
       "    <tr>\n",
       "      <th>1284971</th>\n",
       "      <td>basically , scott's is exactly what i was look...</td>\n",
       "      <td>THINK , scott's is LIKE what i was GOING for ;...</td>\n",
       "    </tr>\n",
       "    <tr>\n",
       "      <th>1055979</th>\n",
       "      <td>the bento meals will always leave you full and...</td>\n",
       "      <td>the bento FOOD will always 50 you full and VID...</td>\n",
       "    </tr>\n",
       "    <tr>\n",
       "      <th>1550355</th>\n",
       "      <td>the crust has a great crunch texture but not t...</td>\n",
       "      <td>the BREAD has a GREAT crunch WET but not too c...</td>\n",
       "    </tr>\n",
       "    <tr>\n",
       "      <th>1078672</th>\n",
       "      <td>just somewhat mushy meat and mushier chili .</td>\n",
       "      <td>50 PRETTY WET DOG and mushier SALT .</td>\n",
       "    </tr>\n",
       "    <tr>\n",
       "      <th>709919</th>\n",
       "      <td>other than the wings , the food here is okay ,...</td>\n",
       "      <td>other than the DOG , the FOOD here is YES , bu...</td>\n",
       "    </tr>\n",
       "    <tr>\n",
       "      <th>679912</th>\n",
       "      <td>undoubtedly the best place to grab a myriad of...</td>\n",
       "      <td>THINK the BEST 50 to TURN a LOT of FOOD HOT DR...</td>\n",
       "    </tr>\n",
       "    <tr>\n",
       "      <th>1419715</th>\n",
       "      <td>delivered steaming hot right to your table , i...</td>\n",
       "      <td>SAID steaming HOT 50 to your CUP , i don't LIK...</td>\n",
       "    </tr>\n",
       "    <tr>\n",
       "      <th>419692</th>\n",
       "      <td>it didn't taste bad , but i didn't want a vegg...</td>\n",
       "      <td>it didn't TASTE 50 , but i didn't WANT a VEGET...</td>\n",
       "    </tr>\n",
       "    <tr>\n",
       "      <th>813526</th>\n",
       "      <td>spicy , smoky and full of flavor .</td>\n",
       "      <td>SALT , smoky and full of TASTE .</td>\n",
       "    </tr>\n",
       "    <tr>\n",
       "      <th>1393250</th>\n",
       "      <td>we both thought it was okay .</td>\n",
       "      <td>we both SAID it was YES .</td>\n",
       "    </tr>\n",
       "    <tr>\n",
       "      <th>...</th>\n",
       "      <td>...</td>\n",
       "      <td>...</td>\n",
       "    </tr>\n",
       "    <tr>\n",
       "      <th>521116</th>\n",
       "      <td>to me , this place is just like every other pi...</td>\n",
       "      <td>to me , this 50 is 50 LIKE every other CHEESE ...</td>\n",
       "    </tr>\n",
       "    <tr>\n",
       "      <th>1102015</th>\n",
       "      <td>the staff has always been friendly and helpful...</td>\n",
       "      <td>the WORK has always been PROUD and EASY and th...</td>\n",
       "    </tr>\n",
       "    <tr>\n",
       "      <th>89619</th>\n",
       "      <td>every bite was a revelation of textures and ta...</td>\n",
       "      <td>every MOUTH was a revelation of textures and T...</td>\n",
       "    </tr>\n",
       "    <tr>\n",
       "      <th>462050</th>\n",
       "      <td>i've had everything on their menu except the s...</td>\n",
       "      <td>i've had everything on their FOOD except the C...</td>\n",
       "    </tr>\n",
       "    <tr>\n",
       "      <th>855960</th>\n",
       "      <td>i haven't tried any of them , but my mother sa...</td>\n",
       "      <td>i haven't WANT any of them , but my FATHER SAI...</td>\n",
       "    </tr>\n",
       "    <tr>\n",
       "      <th>675149</th>\n",
       "      <td>food overall 4 / 5 - this place is generally n...</td>\n",
       "      <td>FOOD 50 4 / 5 - this 50 is LIKE not SURE 50 wh...</td>\n",
       "    </tr>\n",
       "    <tr>\n",
       "      <th>1038159</th>\n",
       "      <td>after all , great service doesn't mean you hav...</td>\n",
       "      <td>after all , GREAT 50 doesn't LIKE you have to ...</td>\n",
       "    </tr>\n",
       "    <tr>\n",
       "      <th>549259</th>\n",
       "      <td>they are happy to accommodate groups .</td>\n",
       "      <td>they are HAPPY to FILLED 50 .</td>\n",
       "    </tr>\n",
       "    <tr>\n",
       "      <th>1045111</th>\n",
       "      <td>we paid a lot more than the 20 another review ...</td>\n",
       "      <td>we MONEY a LOT more than the 50 another TELL w...</td>\n",
       "    </tr>\n",
       "    <tr>\n",
       "      <th>935944</th>\n",
       "      <td>p.s .</td>\n",
       "      <td>p.s .</td>\n",
       "    </tr>\n",
       "    <tr>\n",
       "      <th>953344</th>\n",
       "      <td>slow service in a poorly heated dining room .</td>\n",
       "      <td>50 in a SIMPLY HOT FOOD HOUSE .</td>\n",
       "    </tr>\n",
       "    <tr>\n",
       "      <th>1439669</th>\n",
       "      <td>it's 50 cents instead of the usual 1.50 or 2 t...</td>\n",
       "      <td>it's 50 MONEY 50 of the LIKE 1.50 or 2 that th...</td>\n",
       "    </tr>\n",
       "    <tr>\n",
       "      <th>577110</th>\n",
       "      <td>fine for when you're in the mood for thai .</td>\n",
       "      <td>50 for when you're in the 50 for CHINA .</td>\n",
       "    </tr>\n",
       "    <tr>\n",
       "      <th>51970</th>\n",
       "      <td>if you've never had it before , it honestly is...</td>\n",
       "      <td>if you've never had it before , it THINK is a ...</td>\n",
       "    </tr>\n",
       "    <tr>\n",
       "      <th>375830</th>\n",
       "      <td>amazing !</td>\n",
       "      <td>GREAT !</td>\n",
       "    </tr>\n",
       "    <tr>\n",
       "      <th>996489</th>\n",
       "      <td>the bar fell silent as he drew his arm back ov...</td>\n",
       "      <td>the BAR SAID HEARD as he DAVID his LONG back o...</td>\n",
       "    </tr>\n",
       "    <tr>\n",
       "      <th>909218</th>\n",
       "      <td>the \" wowshis \" are definitely what you want t...</td>\n",
       "      <td>the \" 50 \" are THINK what you WANT to TURN up .</td>\n",
       "    </tr>\n",
       "    <tr>\n",
       "      <th>522165</th>\n",
       "      <td>i got the cheeseless vegetable pizza ( the fac...</td>\n",
       "      <td>i SAID the 50 RICE CHEESE ( the SURE that they...</td>\n",
       "    </tr>\n",
       "    <tr>\n",
       "      <th>153534</th>\n",
       "      <td>the prices are a little high for the quality o...</td>\n",
       "      <td>the DEAL are a LITTLE 50 for the QUALITY of th...</td>\n",
       "    </tr>\n",
       "    <tr>\n",
       "      <th>976537</th>\n",
       "      <td>- now , that still means it's good .</td>\n",
       "      <td>- now , that still 50 it's 50 .</td>\n",
       "    </tr>\n",
       "    <tr>\n",
       "      <th>446387</th>\n",
       "      <td>instead of the regular hot wings , i opted to ...</td>\n",
       "      <td>50 of the 50 HOT DOG , i opted to WANT the SWE...</td>\n",
       "    </tr>\n",
       "    <tr>\n",
       "      <th>741536</th>\n",
       "      <td>there were several of us at the table , so we ...</td>\n",
       "      <td>there were several of us at the CUP , so we SA...</td>\n",
       "    </tr>\n",
       "    <tr>\n",
       "      <th>1546298</th>\n",
       "      <td>short ribs are my soft spot , and this one rem...</td>\n",
       "      <td>LONG ribs are my REST 50 , and this one REMEMB...</td>\n",
       "    </tr>\n",
       "    <tr>\n",
       "      <th>899486</th>\n",
       "      <td>the whole process is frying everything in boil...</td>\n",
       "      <td>the whole 50 is HOT everything in HOT 50 .</td>\n",
       "    </tr>\n",
       "    <tr>\n",
       "      <th>989458</th>\n",
       "      <td>tucked on a nice street , parking can definite...</td>\n",
       "      <td>tucked on a 50 , WAY can THINK be a TELL , LIK...</td>\n",
       "    </tr>\n",
       "    <tr>\n",
       "      <th>1497580</th>\n",
       "      <td>plus if you're in to healthier choices , they ...</td>\n",
       "      <td>MONEY if you're in to BEST VIDEO , they have a...</td>\n",
       "    </tr>\n",
       "    <tr>\n",
       "      <th>414284</th>\n",
       "      <td>don't get me wrong ; i love being able to see ...</td>\n",
       "      <td>don't get me 50 ; i LOVE being WANT to see the...</td>\n",
       "    </tr>\n",
       "    <tr>\n",
       "      <th>1205887</th>\n",
       "      <td>if you work at the school , drop by afterwards...</td>\n",
       "      <td>if you WORK at the SCHOOL , TURN by afterwards...</td>\n",
       "    </tr>\n",
       "    <tr>\n",
       "      <th>552416</th>\n",
       "      <td>yay !!</td>\n",
       "      <td>YES !!</td>\n",
       "    </tr>\n",
       "    <tr>\n",
       "      <th>400607</th>\n",
       "      <td>the miso is also excellent .</td>\n",
       "      <td>the miso is also GREAT .</td>\n",
       "    </tr>\n",
       "  </tbody>\n",
       "</table>\n",
       "<p>100 rows × 2 columns</p>\n",
       "</div>"
      ],
      "text/plain": [
       "                                                  sentence  \\\n",
       "429541   it had a soupy texture and didn't add anything...   \n",
       "1360208  friendliness was the not the point , but the f...   \n",
       "1479184  like i kind of already said , maybe not a lot ...   \n",
       "944131   when i was in college at cmu , larry & carol's...   \n",
       "57357    once , my dessert order got lost & i had to ke...   \n",
       "236345   i enjoyed that it was a very relaxing diner at...   \n",
       "908294                          service was not so great .   \n",
       "928169   a patron inside was singled out for being gay ...   \n",
       "728019   that was the case when we went - and it wasn't...   \n",
       "1186119  great vegan cafe that can wow any meaty lover ...   \n",
       "100209   once again , the food didn't have much flavor ...   \n",
       "540347   i must have some sort of facial gangrene that ...   \n",
       "522276               burger came sans tomato and lettuce .   \n",
       "1183365  is this the best chinese food you can get in c...   \n",
       "1470343     don't know what's up with these folks here ...   \n",
       "667246       too full to care how many calories consumed ?   \n",
       "1381220  there aren't many reasons for me to head into ...   \n",
       "111823   one of my favorite entrees is the butternut sq...   \n",
       "269276   very filling and ulta - satisfying seattle com...   \n",
       "379041           even for my friend's vegetable sandwich .   \n",
       "1284971  basically , scott's is exactly what i was look...   \n",
       "1055979  the bento meals will always leave you full and...   \n",
       "1550355  the crust has a great crunch texture but not t...   \n",
       "1078672       just somewhat mushy meat and mushier chili .   \n",
       "709919   other than the wings , the food here is okay ,...   \n",
       "679912   undoubtedly the best place to grab a myriad of...   \n",
       "1419715  delivered steaming hot right to your table , i...   \n",
       "419692   it didn't taste bad , but i didn't want a vegg...   \n",
       "813526                  spicy , smoky and full of flavor .   \n",
       "1393250                      we both thought it was okay .   \n",
       "...                                                    ...   \n",
       "521116   to me , this place is just like every other pi...   \n",
       "1102015  the staff has always been friendly and helpful...   \n",
       "89619    every bite was a revelation of textures and ta...   \n",
       "462050   i've had everything on their menu except the s...   \n",
       "855960   i haven't tried any of them , but my mother sa...   \n",
       "675149   food overall 4 / 5 - this place is generally n...   \n",
       "1038159  after all , great service doesn't mean you hav...   \n",
       "549259              they are happy to accommodate groups .   \n",
       "1045111  we paid a lot more than the 20 another review ...   \n",
       "935944                                               p.s .   \n",
       "953344       slow service in a poorly heated dining room .   \n",
       "1439669  it's 50 cents instead of the usual 1.50 or 2 t...   \n",
       "577110         fine for when you're in the mood for thai .   \n",
       "51970    if you've never had it before , it honestly is...   \n",
       "375830                                           amazing !   \n",
       "996489   the bar fell silent as he drew his arm back ov...   \n",
       "909218   the \" wowshis \" are definitely what you want t...   \n",
       "522165   i got the cheeseless vegetable pizza ( the fac...   \n",
       "153534   the prices are a little high for the quality o...   \n",
       "976537                - now , that still means it's good .   \n",
       "446387   instead of the regular hot wings , i opted to ...   \n",
       "741536   there were several of us at the table , so we ...   \n",
       "1546298  short ribs are my soft spot , and this one rem...   \n",
       "899486   the whole process is frying everything in boil...   \n",
       "989458   tucked on a nice street , parking can definite...   \n",
       "1497580  plus if you're in to healthier choices , they ...   \n",
       "414284   don't get me wrong ; i love being able to see ...   \n",
       "1205887  if you work at the school , drop by afterwards...   \n",
       "552416                                              yay !!   \n",
       "400607                        the miso is also excellent .   \n",
       "\n",
       "                                                 collapsed  \n",
       "429541   it had a soupy WET and didn't LIKE anything to...  \n",
       "1360208  friendliness was the not the 50 , but the FOOD...  \n",
       "1479184  LIKE i 50 of already SAID , THINK not a LOT fo...  \n",
       "944131   when i was in UNIVERSITY at 50 , MR & carol's ...  \n",
       "57357    once , my CAKE 50 SAID AWAY & i had to keep WA...  \n",
       "236345   i LOVE that it was a very REST BAR 50 where th...  \n",
       "908294                               50 was not so GREAT .  \n",
       "928169   a patron 50 was singled out for being 50 and w...  \n",
       "728019   that was the 50 when we SAID - and it wasn't a...  \n",
       "1186119  GREAT VEGETARIAN BAR that can YES any meaty FR...  \n",
       "100209   once again , the FOOD didn't have much TASTE o...  \n",
       "540347   i must have some 50 of LONG gangrene that i do...  \n",
       "522276                    CHEESE SAID sans SALT and RICE .  \n",
       "1183365  is this the BEST CHINA FOOD you can get in HOU...  \n",
       "1470343      don't 50 what's up with these PEOPLE here ...  \n",
       "667246              too full to 50 how many WEIGHT MOUTH ?  \n",
       "1381220  there aren't many TELL for me to LONG into UNI...  \n",
       "111823   one of my LOVE entrees is the butternut squash...  \n",
       "269276        very FILLED and ulta - EASY YORK REST FOOD .  \n",
       "379041                  even for my friend's RICE CHEESE .  \n",
       "1284971  THINK , scott's is LIKE what i was GOING for ;...  \n",
       "1055979  the bento FOOD will always 50 you full and VID...  \n",
       "1550355  the BREAD has a GREAT crunch WET but not too c...  \n",
       "1078672               50 PRETTY WET DOG and mushier SALT .  \n",
       "709919   other than the DOG , the FOOD here is YES , bu...  \n",
       "679912   THINK the BEST 50 to TURN a LOT of FOOD HOT DR...  \n",
       "1419715  SAID steaming HOT 50 to your CUP , i don't LIK...  \n",
       "419692   it didn't TASTE 50 , but i didn't WANT a VEGET...  \n",
       "813526                    SALT , smoky and full of TASTE .  \n",
       "1393250                          we both SAID it was YES .  \n",
       "...                                                    ...  \n",
       "521116   to me , this 50 is 50 LIKE every other CHEESE ...  \n",
       "1102015  the WORK has always been PROUD and EASY and th...  \n",
       "89619    every MOUTH was a revelation of textures and T...  \n",
       "462050   i've had everything on their FOOD except the C...  \n",
       "855960   i haven't WANT any of them , but my FATHER SAI...  \n",
       "675149   FOOD 50 4 / 5 - this 50 is LIKE not SURE 50 wh...  \n",
       "1038159  after all , GREAT 50 doesn't LIKE you have to ...  \n",
       "549259                       they are HAPPY to FILLED 50 .  \n",
       "1045111  we MONEY a LOT more than the 50 another TELL w...  \n",
       "935944                                               p.s .  \n",
       "953344                     50 in a SIMPLY HOT FOOD HOUSE .  \n",
       "1439669  it's 50 MONEY 50 of the LIKE 1.50 or 2 that th...  \n",
       "577110            50 for when you're in the 50 for CHINA .  \n",
       "51970    if you've never had it before , it THINK is a ...  \n",
       "375830                                             GREAT !  \n",
       "996489   the BAR SAID HEARD as he DAVID his LONG back o...  \n",
       "909218     the \" 50 \" are THINK what you WANT to TURN up .  \n",
       "522165   i SAID the 50 RICE CHEESE ( the SURE that they...  \n",
       "153534   the DEAL are a LITTLE 50 for the QUALITY of th...  \n",
       "976537                     - now , that still 50 it's 50 .  \n",
       "446387   50 of the 50 HOT DOG , i opted to WANT the SWE...  \n",
       "741536   there were several of us at the CUP , so we SA...  \n",
       "1546298  LONG ribs are my REST 50 , and this one REMEMB...  \n",
       "899486          the whole 50 is HOT everything in HOT 50 .  \n",
       "989458   tucked on a 50 , WAY can THINK be a TELL , LIK...  \n",
       "1497580  MONEY if you're in to BEST VIDEO , they have a...  \n",
       "414284   don't get me 50 ; i LOVE being WANT to see the...  \n",
       "1205887  if you WORK at the SCHOOL , TURN by afterwards...  \n",
       "552416                                              YES !!  \n",
       "400607                            the miso is also GREAT .  \n",
       "\n",
       "[100 rows x 2 columns]"
      ]
     },
     "execution_count": 124,
     "metadata": {},
     "output_type": "execute_result"
    }
   ],
   "source": [
    "sents = sentences_df.sent.sample(100, random_state=0)\n",
    "sents = sents.to_frame('sentence')\n",
    "sents['collapsed'] = sents.sentence.apply(collapse)\n",
    "sents"
   ]
  },
  {
   "cell_type": "markdown",
   "metadata": {},
   "source": [
    "# Back on main line"
   ]
  },
  {
   "cell_type": "markdown",
   "metadata": {},
   "source": [
    "For each topic, how many different docs does it occur in?"
   ]
  },
  {
   "cell_type": "code",
   "execution_count": 33,
   "metadata": {},
   "outputs": [],
   "source": [
    "%matplotlib inline"
   ]
  },
  {
   "cell_type": "code",
   "execution_count": 34,
   "metadata": {},
   "outputs": [],
   "source": [
    "import seaborn as sns"
   ]
  },
  {
   "cell_type": "code",
   "execution_count": 35,
   "metadata": {},
   "outputs": [
    {
     "data": {
      "text/plain": [
       "<matplotlib.axes._subplots.AxesSubplot at 0x23ff37cf8>"
      ]
     },
     "execution_count": 35,
     "metadata": {},
     "output_type": "execute_result"
    },
    {
     "data": {
      "image/png": "[encoded data removed]",
      "text/plain": [
       "<Figure size 432x288 with 1 Axes>"
      ]
     },
     "metadata": {
      "needs_background": "light"
     },
     "output_type": "display_data"
    }
   ],
   "source": [
    "pervasiveness_by_topic = distance_filtered.sentences[['doc_id','topic']].drop_duplicates().groupby('topic').size()\n",
    "sns.distplot(pervasiveness_by_topic)"
   ]
  },
  {
   "cell_type": "markdown",
   "metadata": {},
   "source": [
    "TODO: Filter to include only topics that occur in more than 1% of documents."
   ]
  },
  {
   "cell_type": "code",
   "execution_count": 36,
   "metadata": {},
   "outputs": [
    {
     "data": {
      "text/plain": [
       "count    75.000000\n",
       "mean      0.027911\n",
       "std       0.034660\n",
       "min       0.000006\n",
       "25%       0.000310\n",
       "50%       0.016171\n",
       "75%       0.049277\n",
       "max       0.206053\n",
       "dtype: float64"
      ]
     },
     "execution_count": 36,
     "metadata": {},
     "output_type": "execute_result"
    }
   ],
   "source": [
    "(pervasiveness_by_topic / len(df_full)).describe()"
   ]
  },
  {
   "cell_type": "code",
   "execution_count": 37,
   "metadata": {},
   "outputs": [
    {
     "data": {
      "text/plain": [
       "43"
      ]
     },
     "execution_count": 37,
     "metadata": {},
     "output_type": "execute_result"
    }
   ],
   "source": [
    "min_pervasiveness = .01 * len(df_full)\n",
    "(pervasiveness_by_topic >= min_pervasiveness).sum()"
   ]
  },
  {
   "cell_type": "markdown",
   "metadata": {},
   "source": [
    "Interpret each topic with a word."
   ]
  },
  {
   "cell_type": "code",
   "execution_count": 38,
   "metadata": {},
   "outputs": [],
   "source": [
    "from sklearn.naive_bayes import BernoulliNB\n",
    "word_to_cluster_clf = BernoulliNB().fit(distance_filtered.raw_vecs, distance_filtered.sentences.topic)\n"
   ]
  },
  {
   "cell_type": "code",
   "execution_count": 39,
   "metadata": {},
   "outputs": [
    {
     "data": {
      "text/plain": [
       "(75, 21912)"
      ]
     },
     "execution_count": 39,
     "metadata": {},
     "output_type": "execute_result"
    }
   ],
   "source": [
    "word_to_cluster_clf.coef_.shape"
   ]
  },
  {
   "cell_type": "code",
   "execution_count": 40,
   "metadata": {},
   "outputs": [],
   "source": [
    "label_words = [vocab[idx] for idx in np.argmax(word_to_cluster_clf.coef_, axis=1)]"
   ]
  },
  {
   "cell_type": "code",
   "execution_count": 41,
   "metadata": {},
   "outputs": [
    {
     "name": "stdout",
     "output_type": "stream",
     "text": [
      "taste\n",
      "early\n",
      "changing\n",
      "paninis\n",
      "make\n",
      "food\n",
      "tasty\n",
      "chicken\n",
      "beer\n",
      "playlist\n",
      "night\n",
      "avocado\n",
      "ambiance\n",
      "good\n",
      "love\n",
      "waitress\n",
      "repeat\n",
      "didn\n",
      "place\n",
      "food\n",
      "shrimp\n",
      "classic\n",
      "sauce\n",
      "place\n",
      "wasn\n",
      "burger\n",
      "try\n",
      "crowded\n",
      "lunch\n",
      "flavorful\n",
      "overpriced\n",
      "place\n",
      "vegetarian\n",
      "chicken\n",
      "crowds\n",
      "chocolate\n",
      "cheese\n",
      "hasn\n",
      "incident\n",
      "fresh\n",
      "tables\n",
      "selection\n",
      "ll\n",
      "fries\n",
      "food\n",
      "worth\n",
      "polite\n",
      "dishes\n",
      "mins\n",
      "stars\n",
      "pasta\n",
      "food\n",
      "friendly\n",
      "nice\n",
      "wait\n",
      "masala\n",
      "menu\n",
      "don\n",
      "thai\n",
      "bloody\n",
      "birthday\n",
      "smelly\n",
      "comparing\n",
      "years\n",
      "deal\n",
      "portions\n",
      "forth\n",
      "ve\n",
      "chicken\n",
      "night\n",
      "la\n",
      "bad\n",
      "yam\n",
      "college\n",
      "artichoke\n"
     ]
    }
   ],
   "source": [
    "print('\\n'.join(label_words))"
   ]
  },
  {
   "cell_type": "code",
   "execution_count": 42,
   "metadata": {},
   "outputs": [],
   "source": [
    "import matplotlib.pyplot as plt"
   ]
  },
  {
   "cell_type": "code",
   "execution_count": 43,
   "metadata": {},
   "outputs": [
    {
     "data": {
      "text/plain": [
       "<matplotlib.axes._subplots.AxesSubplot at 0x14a7bb748>"
      ]
     },
     "execution_count": 43,
     "metadata": {},
     "output_type": "execute_result"
    },
    {
     "data": {
      "image/png": "[encoded data removed]",
      "text/plain": [
       "<Figure size 720x2160 with 1 Axes>"
      ]
     },
     "metadata": {
      "needs_background": "light"
     },
     "output_type": "display_data"
    }
   ],
   "source": [
    "labeled_pervasiveness=pd.DataFrame(dict(pervasiveness=pervasiveness_by_topic, label=label_words))\n",
    "labeled_pervasiveness.sort_values('pervasiveness', inplace=True)\n",
    "\n",
    "fig, ax = plt.subplots(figsize=(10, 30))\n",
    "labeled_pervasiveness.set_index('label').plot.barh(ax=ax)"
   ]
  },
  {
   "cell_type": "code",
   "execution_count": 68,
   "metadata": {},
   "outputs": [
    {
     "data": {
      "text/plain": [
       "topic\n",
       "0      6958\n",
       "1         4\n",
       "2         1\n",
       "3        25\n",
       "4        51\n",
       "5     13883\n",
       "6      6392\n",
       "7      2649\n",
       "8      9997\n",
       "9         2\n",
       "10    10644\n",
       "11        1\n",
       "12      782\n",
       "13    10779\n",
       "14     9696\n",
       "15     8932\n",
       "16        3\n",
       "17    10953\n",
       "18    16724\n",
       "19    13585\n",
       "20     2901\n",
       "21        2\n",
       "22     5131\n",
       "23    36507\n",
       "24     2865\n",
       "25    11545\n",
       "26     9494\n",
       "27      114\n",
       "28    12826\n",
       "29        3\n",
       "      ...  \n",
       "45      128\n",
       "46       59\n",
       "47     5722\n",
       "48      211\n",
       "49      876\n",
       "50     1844\n",
       "51    17669\n",
       "52     6432\n",
       "53     9102\n",
       "54    11134\n",
       "55      209\n",
       "56     7301\n",
       "57     6850\n",
       "58     4024\n",
       "59       16\n",
       "60     2295\n",
       "61        4\n",
       "62        3\n",
       "63     6968\n",
       "64       66\n",
       "65     8410\n",
       "66       18\n",
       "67     8529\n",
       "68        2\n",
       "69     4983\n",
       "70     1173\n",
       "71     3269\n",
       "72       12\n",
       "73     4553\n",
       "74        1\n",
       "Length: 75, dtype: int64"
      ]
     },
     "execution_count": 68,
     "metadata": {},
     "output_type": "execute_result"
    }
   ],
   "source": [
    "pervasiveness_by_topic"
   ]
  },
  {
   "cell_type": "code",
   "execution_count": 70,
   "metadata": {},
   "outputs": [],
   "source": [
    "distance_filtered.sentences = pd.merge(\n",
    "    distance_filtered.sentences,\n",
    "    pervasiveness_by_topic.to_frame('pervasiveness'),\n",
    "    left_on='topic', right_index=True)"
   ]
  },
  {
   "cell_type": "code",
   "execution_count": null,
   "metadata": {},
   "outputs": [],
   "source": []
  },
  {
   "cell_type": "code",
   "execution_count": null,
   "metadata": {},
   "outputs": [],
   "source": []
  },
  {
   "cell_type": "code",
   "execution_count": null,
   "metadata": {},
   "outputs": [],
   "source": []
  },
  {
   "cell_type": "code",
   "execution_count": 73,
   "metadata": {},
   "outputs": [],
   "source": [
    "with_n_topics = pd.merge(\n",
    "    df_full,\n",
    "    distance_filtered.sentences[['doc_id','topic']].drop_duplicates().groupby('doc_id').size().to_frame('n_topics'),\n",
    "    left_on='review_id', right_index=True\n",
    ")\n",
    "with_n_topics = pd.merge(\n",
    "    with_n_topics,\n",
    "    distance_filtered.sentences.groupby('doc_id').pervasiveness.min().to_frame('min_pervasiveness'),\n",
    "    left_on='review_id', right_index=True)"
   ]
  },
  {
   "cell_type": "code",
   "execution_count": 74,
   "metadata": {},
   "outputs": [],
   "source": [
    "with_n_topics['num_words'] = [len(tok.split()) for tok in with_n_topics.tokenized]"
   ]
  },
  {
   "cell_type": "code",
   "execution_count": 75,
   "metadata": {},
   "outputs": [],
   "source": [
    "with_n_topics['num_sentences'] = [len(tok.split('\\n')) for tok in with_n_topics.tokenized]\n",
    "with_n_topics['num_chars'] = with_n_topics.text.str.len()"
   ]
  },
  {
   "cell_type": "code",
   "execution_count": 76,
   "metadata": {},
   "outputs": [],
   "source": [
    "with_n_topics['topic_diversity'] = with_n_topics['n_topics'] / with_n_topics['num_sentences']"
   ]
  },
  {
   "cell_type": "code",
   "execution_count": 77,
   "metadata": {},
   "outputs": [
    {
     "name": "stdout",
     "output_type": "stream",
     "text": [
      "<class 'pandas.core.frame.DataFrame'>\n",
      "Int64Index: 143735 entries, 0 to 177172\n",
      "Data columns (total 34 columns):\n",
      "business_id          143735 non-null object\n",
      "date                 143735 non-null datetime64[ns]\n",
      "review_id            143735 non-null object\n",
      "stars_review         143735 non-null int64\n",
      "text                 143735 non-null object\n",
      "user_id              143735 non-null object\n",
      "votes_cool           143735 non-null int64\n",
      "votes_funny          143735 non-null int64\n",
      "votes_useful         143735 non-null int64\n",
      "categories           143735 non-null object\n",
      "city                 143735 non-null object\n",
      "latitude             143735 non-null float64\n",
      "longitude            143735 non-null float64\n",
      "name                 143735 non-null object\n",
      "neighborhoods        143735 non-null object\n",
      "review_count         143735 non-null int64\n",
      "stars_biz            143735 non-null float64\n",
      "state                143735 non-null object\n",
      "average_stars        143735 non-null float64\n",
      "review_count_user    143735 non-null int64\n",
      "votes_cool_user      143735 non-null int64\n",
      "votes_funny_user     143735 non-null int64\n",
      "votes_useful_user    143735 non-null int64\n",
      "age_months           143735 non-null float64\n",
      "tokenized            143735 non-null object\n",
      "total_votes          143735 non-null int64\n",
      "total_votes_rank     143735 non-null float64\n",
      "is_best              143735 non-null bool\n",
      "n_topics             143735 non-null int64\n",
      "min_pervasiveness    143735 non-null int64\n",
      "num_words            143735 non-null int64\n",
      "num_sentences        143735 non-null int64\n",
      "num_chars            143735 non-null int64\n",
      "topic_diversity      143735 non-null float64\n",
      "dtypes: bool(1), datetime64[ns](1), float64(7), int64(15), object(10)\n",
      "memory usage: 37.4+ MB\n"
     ]
    }
   ],
   "source": [
    "with_n_topics.info()"
   ]
  },
  {
   "cell_type": "code",
   "execution_count": 78,
   "metadata": {},
   "outputs": [],
   "source": [
    "with_n_topics['is_best'] = with_n_topics['is_best'].astype(int)"
   ]
  },
  {
   "cell_type": "code",
   "execution_count": 79,
   "metadata": {},
   "outputs": [],
   "source": [
    "import statsmodels.formula.api as smf"
   ]
  },
  {
   "cell_type": "code",
   "execution_count": 60,
   "metadata": {},
   "outputs": [
    {
     "data": {
      "text/plain": [
       "is_best\n",
       "0    AxesSubplot(0.125,0.125;0.775x0.755)\n",
       "1    AxesSubplot(0.125,0.125;0.775x0.755)\n",
       "Name: num_words, dtype: object"
      ]
     },
     "execution_count": 60,
     "metadata": {},
     "output_type": "execute_result"
    },
    {
     "data": {
      "image/png": "[encoded data removed]",
      "text/plain": [
       "<Figure size 432x288 with 1 Axes>"
      ]
     },
     "metadata": {
      "needs_background": "light"
     },
     "output_type": "display_data"
    }
   ],
   "source": [
    "with_n_topics.groupby('is_best').num_words.apply(sns.kdeplot)"
   ]
  },
  {
   "cell_type": "code",
   "execution_count": 86,
   "metadata": {},
   "outputs": [
    {
     "data": {
      "text/plain": [
       "<matplotlib.axes._subplots.AxesSubplot at 0x14294d5f8>"
      ]
     },
     "execution_count": 86,
     "metadata": {},
     "output_type": "execute_result"
    },
    {
     "data": {
      "image/png": "[encoded data removed]",
      "text/plain": [
       "<Figure size 432x288 with 1 Axes>"
      ]
     },
     "metadata": {
      "needs_background": "light"
     },
     "output_type": "display_data"
    }
   ],
   "source": [
    "sns.kdeplot(np.sqrt(with_n_topics.min_pervasiveness) / 200)"
   ]
  },
  {
   "cell_type": "code",
   "execution_count": 80,
   "metadata": {},
   "outputs": [
    {
     "data": {
      "text/plain": [
       "is_best\n",
       "0    AxesSubplot(0.125,0.125;0.775x0.755)\n",
       "1    AxesSubplot(0.125,0.125;0.775x0.755)\n",
       "Name: min_pervasiveness, dtype: object"
      ]
     },
     "execution_count": 80,
     "metadata": {},
     "output_type": "execute_result"
    },
    {
     "data": {
      "image/png": "[encoded data removed]",
      "text/plain": [
       "<Figure size 432x288 with 1 Axes>"
      ]
     },
     "metadata": {
      "needs_background": "light"
     },
     "output_type": "display_data"
    }
   ],
   "source": [
    "with_n_topics.groupby('is_best').min_pervasiveness.apply(sns.kdeplot)"
   ]
  },
  {
   "cell_type": "code",
   "execution_count": 61,
   "metadata": {},
   "outputs": [
    {
     "name": "stdout",
     "output_type": "stream",
     "text": [
      "Optimization terminated successfully.\n",
      "         Current function value: 0.089041\n",
      "         Iterations 9\n"
     ]
    },
    {
     "data": {
      "text/html": [
       "<table class=\"simpletable\">\n",
       "<caption>Logit Regression Results</caption>\n",
       "<tr>\n",
       "  <th>Dep. Variable:</th>      <td>is_best</td>     <th>  No. Observations:  </th>  <td>143735</td> \n",
       "</tr>\n",
       "<tr>\n",
       "  <th>Model:</th>               <td>Logit</td>      <th>  Df Residuals:      </th>  <td>143729</td> \n",
       "</tr>\n",
       "<tr>\n",
       "  <th>Method:</th>               <td>MLE</td>       <th>  Df Model:          </th>  <td>     5</td> \n",
       "</tr>\n",
       "<tr>\n",
       "  <th>Date:</th>          <td>Fri, 15 Mar 2019</td> <th>  Pseudo R-squ.:     </th>  <td>0.09906</td>\n",
       "</tr>\n",
       "<tr>\n",
       "  <th>Time:</th>              <td>10:59:27</td>     <th>  Log-Likelihood:    </th> <td> -12798.</td>\n",
       "</tr>\n",
       "<tr>\n",
       "  <th>converged:</th>           <td>True</td>       <th>  LL-Null:           </th> <td> -14206.</td>\n",
       "</tr>\n",
       "<tr>\n",
       "  <th> </th>                      <td> </td>        <th>  LLR p-value:       </th>  <td> 0.000</td> \n",
       "</tr>\n",
       "</table>\n",
       "<table class=\"simpletable\">\n",
       "<tr>\n",
       "        <td></td>           <th>coef</th>     <th>std err</th>      <th>z</th>      <th>P>|z|</th>  <th>[0.025</th>    <th>0.975]</th>  \n",
       "</tr>\n",
       "<tr>\n",
       "  <th>Intercept</th>     <td>   -6.0325</td> <td>    0.147</td> <td>  -40.909</td> <td> 0.000</td> <td>   -6.322</td> <td>   -5.743</td>\n",
       "</tr>\n",
       "<tr>\n",
       "  <th>review_count</th>  <td>   -0.0018</td> <td>    0.000</td> <td>  -15.723</td> <td> 0.000</td> <td>   -0.002</td> <td>   -0.002</td>\n",
       "</tr>\n",
       "<tr>\n",
       "  <th>stars_biz</th>     <td>    0.1985</td> <td>    0.039</td> <td>    5.082</td> <td> 0.000</td> <td>    0.122</td> <td>    0.275</td>\n",
       "</tr>\n",
       "<tr>\n",
       "  <th>age_months</th>    <td>    0.0248</td> <td>    0.001</td> <td>   26.628</td> <td> 0.000</td> <td>    0.023</td> <td>    0.027</td>\n",
       "</tr>\n",
       "<tr>\n",
       "  <th>num_sentences</th> <td>    0.0388</td> <td>    0.004</td> <td>    9.120</td> <td> 0.000</td> <td>    0.030</td> <td>    0.047</td>\n",
       "</tr>\n",
       "<tr>\n",
       "  <th>num_words</th>     <td>    0.0027</td> <td>    0.000</td> <td>   11.060</td> <td> 0.000</td> <td>    0.002</td> <td>    0.003</td>\n",
       "</tr>\n",
       "</table>"
      ],
      "text/plain": [
       "<class 'statsmodels.iolib.summary.Summary'>\n",
       "\"\"\"\n",
       "                           Logit Regression Results                           \n",
       "==============================================================================\n",
       "Dep. Variable:                is_best   No. Observations:               143735\n",
       "Model:                          Logit   Df Residuals:                   143729\n",
       "Method:                           MLE   Df Model:                            5\n",
       "Date:                Fri, 15 Mar 2019   Pseudo R-squ.:                 0.09906\n",
       "Time:                        10:59:27   Log-Likelihood:                -12798.\n",
       "converged:                       True   LL-Null:                       -14206.\n",
       "                                        LLR p-value:                     0.000\n",
       "=================================================================================\n",
       "                    coef    std err          z      P>|z|      [0.025      0.975]\n",
       "---------------------------------------------------------------------------------\n",
       "Intercept        -6.0325      0.147    -40.909      0.000      -6.322      -5.743\n",
       "review_count     -0.0018      0.000    -15.723      0.000      -0.002      -0.002\n",
       "stars_biz         0.1985      0.039      5.082      0.000       0.122       0.275\n",
       "age_months        0.0248      0.001     26.628      0.000       0.023       0.027\n",
       "num_sentences     0.0388      0.004      9.120      0.000       0.030       0.047\n",
       "num_words         0.0027      0.000     11.060      0.000       0.002       0.003\n",
       "=================================================================================\n",
       "\"\"\""
      ]
     },
     "execution_count": 61,
     "metadata": {},
     "output_type": "execute_result"
    }
   ],
   "source": [
    "smf.logit(\n",
    "    'is_best ~ review_count + stars_biz + age_months + num_sentences + num_words',\n",
    "    data=with_n_topics).fit().summary()"
   ]
  },
  {
   "cell_type": "code",
   "execution_count": 81,
   "metadata": {},
   "outputs": [
    {
     "name": "stdout",
     "output_type": "stream",
     "text": [
      "Optimization terminated successfully.\n",
      "         Current function value: 0.087623\n",
      "         Iterations 9\n"
     ]
    },
    {
     "data": {
      "text/html": [
       "<table class=\"simpletable\">\n",
       "<caption>Logit Regression Results</caption>\n",
       "<tr>\n",
       "  <th>Dep. Variable:</th>      <td>is_best</td>     <th>  No. Observations:  </th>  <td>143735</td> \n",
       "</tr>\n",
       "<tr>\n",
       "  <th>Model:</th>               <td>Logit</td>      <th>  Df Residuals:      </th>  <td>143727</td> \n",
       "</tr>\n",
       "<tr>\n",
       "  <th>Method:</th>               <td>MLE</td>       <th>  Df Model:          </th>  <td>     7</td> \n",
       "</tr>\n",
       "<tr>\n",
       "  <th>Date:</th>          <td>Fri, 15 Mar 2019</td> <th>  Pseudo R-squ.:     </th>  <td>0.1134</td> \n",
       "</tr>\n",
       "<tr>\n",
       "  <th>Time:</th>              <td>11:09:46</td>     <th>  Log-Likelihood:    </th> <td> -12595.</td>\n",
       "</tr>\n",
       "<tr>\n",
       "  <th>converged:</th>           <td>True</td>       <th>  LL-Null:           </th> <td> -14206.</td>\n",
       "</tr>\n",
       "<tr>\n",
       "  <th> </th>                      <td> </td>        <th>  LLR p-value:       </th>  <td> 0.000</td> \n",
       "</tr>\n",
       "</table>\n",
       "<table class=\"simpletable\">\n",
       "<tr>\n",
       "             <td></td>               <th>coef</th>     <th>std err</th>      <th>z</th>      <th>P>|z|</th>  <th>[0.025</th>    <th>0.975]</th>  \n",
       "</tr>\n",
       "<tr>\n",
       "  <th>Intercept</th>              <td>   -6.4732</td> <td>    0.158</td> <td>  -40.970</td> <td> 0.000</td> <td>   -6.783</td> <td>   -6.163</td>\n",
       "</tr>\n",
       "<tr>\n",
       "  <th>review_count</th>           <td>   -0.0018</td> <td>    0.000</td> <td>  -15.748</td> <td> 0.000</td> <td>   -0.002</td> <td>   -0.002</td>\n",
       "</tr>\n",
       "<tr>\n",
       "  <th>stars_biz</th>              <td>    0.1892</td> <td>    0.039</td> <td>    4.831</td> <td> 0.000</td> <td>    0.112</td> <td>    0.266</td>\n",
       "</tr>\n",
       "<tr>\n",
       "  <th>age_months</th>             <td>    0.0245</td> <td>    0.001</td> <td>   26.100</td> <td> 0.000</td> <td>    0.023</td> <td>    0.026</td>\n",
       "</tr>\n",
       "<tr>\n",
       "  <th>num_words</th>              <td>    0.0017</td> <td>    0.000</td> <td>    7.038</td> <td> 0.000</td> <td>    0.001</td> <td>    0.002</td>\n",
       "</tr>\n",
       "<tr>\n",
       "  <th>num_sentences</th>          <td>    0.1209</td> <td>    0.006</td> <td>   20.750</td> <td> 0.000</td> <td>    0.110</td> <td>    0.132</td>\n",
       "</tr>\n",
       "<tr>\n",
       "  <th>n_topics</th>               <td>    0.0254</td> <td>    0.019</td> <td>    1.313</td> <td> 0.189</td> <td>   -0.013</td> <td>    0.063</td>\n",
       "</tr>\n",
       "<tr>\n",
       "  <th>num_sentences:n_topics</th> <td>   -0.0093</td> <td>    0.001</td> <td>  -13.103</td> <td> 0.000</td> <td>   -0.011</td> <td>   -0.008</td>\n",
       "</tr>\n",
       "</table>"
      ],
      "text/plain": [
       "<class 'statsmodels.iolib.summary.Summary'>\n",
       "\"\"\"\n",
       "                           Logit Regression Results                           \n",
       "==============================================================================\n",
       "Dep. Variable:                is_best   No. Observations:               143735\n",
       "Model:                          Logit   Df Residuals:                   143727\n",
       "Method:                           MLE   Df Model:                            7\n",
       "Date:                Fri, 15 Mar 2019   Pseudo R-squ.:                  0.1134\n",
       "Time:                        11:09:46   Log-Likelihood:                -12595.\n",
       "converged:                       True   LL-Null:                       -14206.\n",
       "                                        LLR p-value:                     0.000\n",
       "==========================================================================================\n",
       "                             coef    std err          z      P>|z|      [0.025      0.975]\n",
       "------------------------------------------------------------------------------------------\n",
       "Intercept                 -6.4732      0.158    -40.970      0.000      -6.783      -6.163\n",
       "review_count              -0.0018      0.000    -15.748      0.000      -0.002      -0.002\n",
       "stars_biz                  0.1892      0.039      4.831      0.000       0.112       0.266\n",
       "age_months                 0.0245      0.001     26.100      0.000       0.023       0.026\n",
       "num_words                  0.0017      0.000      7.038      0.000       0.001       0.002\n",
       "num_sentences              0.1209      0.006     20.750      0.000       0.110       0.132\n",
       "n_topics                   0.0254      0.019      1.313      0.189      -0.013       0.063\n",
       "num_sentences:n_topics    -0.0093      0.001    -13.103      0.000      -0.011      -0.008\n",
       "==========================================================================================\n",
       "\"\"\""
      ]
     },
     "execution_count": 81,
     "metadata": {},
     "output_type": "execute_result"
    }
   ],
   "source": [
    "smf.logit(\n",
    "    'is_best ~ review_count + stars_biz + age_months + num_words + num_sentences * n_topics',\n",
    "    data=with_n_topics).fit().summary()"
   ]
  },
  {
   "cell_type": "code",
   "execution_count": 87,
   "metadata": {},
   "outputs": [
    {
     "name": "stdout",
     "output_type": "stream",
     "text": [
      "Optimization terminated successfully.\n",
      "         Current function value: 0.088743\n",
      "         Iterations 9\n"
     ]
    },
    {
     "data": {
      "text/html": [
       "<table class=\"simpletable\">\n",
       "<caption>Logit Regression Results</caption>\n",
       "<tr>\n",
       "  <th>Dep. Variable:</th>      <td>is_best</td>     <th>  No. Observations:  </th>  <td>143735</td> \n",
       "</tr>\n",
       "<tr>\n",
       "  <th>Model:</th>               <td>Logit</td>      <th>  Df Residuals:      </th>  <td>143728</td> \n",
       "</tr>\n",
       "<tr>\n",
       "  <th>Method:</th>               <td>MLE</td>       <th>  Df Model:          </th>  <td>     6</td> \n",
       "</tr>\n",
       "<tr>\n",
       "  <th>Date:</th>          <td>Fri, 15 Mar 2019</td> <th>  Pseudo R-squ.:     </th>  <td>0.1021</td> \n",
       "</tr>\n",
       "<tr>\n",
       "  <th>Time:</th>              <td>11:11:28</td>     <th>  Log-Likelihood:    </th> <td> -12755.</td>\n",
       "</tr>\n",
       "<tr>\n",
       "  <th>converged:</th>           <td>True</td>       <th>  LL-Null:           </th> <td> -14206.</td>\n",
       "</tr>\n",
       "<tr>\n",
       "  <th> </th>                      <td> </td>        <th>  LLR p-value:       </th>  <td> 0.000</td> \n",
       "</tr>\n",
       "</table>\n",
       "<table class=\"simpletable\">\n",
       "<tr>\n",
       "               <td></td>                 <th>coef</th>     <th>std err</th>      <th>z</th>      <th>P>|z|</th>  <th>[0.025</th>    <th>0.975]</th>  \n",
       "</tr>\n",
       "<tr>\n",
       "  <th>Intercept</th>                  <td>   -6.5944</td> <td>    0.159</td> <td>  -41.389</td> <td> 0.000</td> <td>   -6.907</td> <td>   -6.282</td>\n",
       "</tr>\n",
       "<tr>\n",
       "  <th>review_count</th>               <td>   -0.0018</td> <td>    0.000</td> <td>  -15.551</td> <td> 0.000</td> <td>   -0.002</td> <td>   -0.002</td>\n",
       "</tr>\n",
       "<tr>\n",
       "  <th>stars_biz</th>                  <td>    0.1964</td> <td>    0.039</td> <td>    5.040</td> <td> 0.000</td> <td>    0.120</td> <td>    0.273</td>\n",
       "</tr>\n",
       "<tr>\n",
       "  <th>age_months</th>                 <td>    0.0244</td> <td>    0.001</td> <td>   26.179</td> <td> 0.000</td> <td>    0.023</td> <td>    0.026</td>\n",
       "</tr>\n",
       "<tr>\n",
       "  <th>num_words</th>                  <td>    0.0025</td> <td>    0.000</td> <td>   10.645</td> <td> 0.000</td> <td>    0.002</td> <td>    0.003</td>\n",
       "</tr>\n",
       "<tr>\n",
       "  <th>num_sentences</th>              <td>    0.0454</td> <td>    0.004</td> <td>   10.548</td> <td> 0.000</td> <td>    0.037</td> <td>    0.054</td>\n",
       "</tr>\n",
       "<tr>\n",
       "  <th>np.sqrt(min_pervasiveness)</th> <td>    0.0059</td> <td>    0.001</td> <td>    9.504</td> <td> 0.000</td> <td>    0.005</td> <td>    0.007</td>\n",
       "</tr>\n",
       "</table>"
      ],
      "text/plain": [
       "<class 'statsmodels.iolib.summary.Summary'>\n",
       "\"\"\"\n",
       "                           Logit Regression Results                           \n",
       "==============================================================================\n",
       "Dep. Variable:                is_best   No. Observations:               143735\n",
       "Model:                          Logit   Df Residuals:                   143728\n",
       "Method:                           MLE   Df Model:                            6\n",
       "Date:                Fri, 15 Mar 2019   Pseudo R-squ.:                  0.1021\n",
       "Time:                        11:11:28   Log-Likelihood:                -12755.\n",
       "converged:                       True   LL-Null:                       -14206.\n",
       "                                        LLR p-value:                     0.000\n",
       "==============================================================================================\n",
       "                                 coef    std err          z      P>|z|      [0.025      0.975]\n",
       "----------------------------------------------------------------------------------------------\n",
       "Intercept                     -6.5944      0.159    -41.389      0.000      -6.907      -6.282\n",
       "review_count                  -0.0018      0.000    -15.551      0.000      -0.002      -0.002\n",
       "stars_biz                      0.1964      0.039      5.040      0.000       0.120       0.273\n",
       "age_months                     0.0244      0.001     26.179      0.000       0.023       0.026\n",
       "num_words                      0.0025      0.000     10.645      0.000       0.002       0.003\n",
       "num_sentences                  0.0454      0.004     10.548      0.000       0.037       0.054\n",
       "np.sqrt(min_pervasiveness)     0.0059      0.001      9.504      0.000       0.005       0.007\n",
       "==============================================================================================\n",
       "\"\"\""
      ]
     },
     "execution_count": 87,
     "metadata": {},
     "output_type": "execute_result"
    }
   ],
   "source": [
    "smf.logit(\n",
    "    'is_best ~ review_count + stars_biz + age_months + num_words + num_sentences + np.sqrt(min_pervasiveness)',\n",
    "    data=with_n_topics).fit().summary()"
   ]
  },
  {
   "cell_type": "code",
   "execution_count": 88,
   "metadata": {},
   "outputs": [
    {
     "data": {
      "text/plain": [
       "is_best\n",
       "0    AxesSubplot(0.125,0.125;0.775x0.755)\n",
       "1    AxesSubplot(0.125,0.125;0.775x0.755)\n",
       "Name: num_sentences, dtype: object"
      ]
     },
     "execution_count": 88,
     "metadata": {},
     "output_type": "execute_result"
    },
    {
     "data": {
      "image/png": "[encoded data removed]",
      "text/plain": [
       "<Figure size 432x288 with 1 Axes>"
      ]
     },
     "metadata": {
      "needs_background": "light"
     },
     "output_type": "display_data"
    }
   ],
   "source": [
    "with_n_topics.groupby('is_best').num_sentences.apply(sns.kdeplot)"
   ]
  },
  {
   "cell_type": "code",
   "execution_count": 89,
   "metadata": {},
   "outputs": [
    {
     "data": {
      "text/plain": [
       "is_best\n",
       "0     9.842840\n",
       "1    16.975895\n",
       "Name: num_sentences, dtype: float64"
      ]
     },
     "execution_count": 89,
     "metadata": {},
     "output_type": "execute_result"
    }
   ],
   "source": [
    "with_n_topics.groupby('is_best').num_sentences.mean()"
   ]
  },
  {
   "cell_type": "code",
   "execution_count": 91,
   "metadata": {},
   "outputs": [
    {
     "data": {
      "text/html": [
       "<div>\n",
       "<style scoped>\n",
       "    .dataframe tbody tr th:only-of-type {\n",
       "        vertical-align: middle;\n",
       "    }\n",
       "\n",
       "    .dataframe tbody tr th {\n",
       "        vertical-align: top;\n",
       "    }\n",
       "\n",
       "    .dataframe thead th {\n",
       "        text-align: right;\n",
       "    }\n",
       "</style>\n",
       "<table border=\"1\" class=\"dataframe\">\n",
       "  <thead>\n",
       "    <tr style=\"text-align: right;\">\n",
       "      <th>num_sentences</th>\n",
       "      <th>1</th>\n",
       "      <th>2</th>\n",
       "      <th>3</th>\n",
       "      <th>4</th>\n",
       "      <th>5</th>\n",
       "      <th>6</th>\n",
       "      <th>7</th>\n",
       "      <th>8</th>\n",
       "      <th>9</th>\n",
       "      <th>10</th>\n",
       "      <th>...</th>\n",
       "      <th>75</th>\n",
       "      <th>76</th>\n",
       "      <th>77</th>\n",
       "      <th>78</th>\n",
       "      <th>79</th>\n",
       "      <th>80</th>\n",
       "      <th>86</th>\n",
       "      <th>87</th>\n",
       "      <th>97</th>\n",
       "      <th>99</th>\n",
       "    </tr>\n",
       "    <tr>\n",
       "      <th>is_best</th>\n",
       "      <th></th>\n",
       "      <th></th>\n",
       "      <th></th>\n",
       "      <th></th>\n",
       "      <th></th>\n",
       "      <th></th>\n",
       "      <th></th>\n",
       "      <th></th>\n",
       "      <th></th>\n",
       "      <th></th>\n",
       "      <th></th>\n",
       "      <th></th>\n",
       "      <th></th>\n",
       "      <th></th>\n",
       "      <th></th>\n",
       "      <th></th>\n",
       "      <th></th>\n",
       "      <th></th>\n",
       "      <th></th>\n",
       "      <th></th>\n",
       "      <th></th>\n",
       "    </tr>\n",
       "  </thead>\n",
       "  <tbody>\n",
       "    <tr>\n",
       "      <th>0</th>\n",
       "      <td>1155.0</td>\n",
       "      <td>4249.0</td>\n",
       "      <td>8559.0</td>\n",
       "      <td>11752.0</td>\n",
       "      <td>13497.0</td>\n",
       "      <td>13123.0</td>\n",
       "      <td>12163.0</td>\n",
       "      <td>10830.0</td>\n",
       "      <td>9545.0</td>\n",
       "      <td>8272.0</td>\n",
       "      <td>...</td>\n",
       "      <td>3.0</td>\n",
       "      <td>2.0</td>\n",
       "      <td>1.0</td>\n",
       "      <td>2.0</td>\n",
       "      <td>1.0</td>\n",
       "      <td>1.0</td>\n",
       "      <td>NaN</td>\n",
       "      <td>NaN</td>\n",
       "      <td>1.0</td>\n",
       "      <td>1.0</td>\n",
       "    </tr>\n",
       "    <tr>\n",
       "      <th>1</th>\n",
       "      <td>3.0</td>\n",
       "      <td>10.0</td>\n",
       "      <td>29.0</td>\n",
       "      <td>53.0</td>\n",
       "      <td>82.0</td>\n",
       "      <td>110.0</td>\n",
       "      <td>102.0</td>\n",
       "      <td>140.0</td>\n",
       "      <td>169.0</td>\n",
       "      <td>159.0</td>\n",
       "      <td>...</td>\n",
       "      <td>NaN</td>\n",
       "      <td>NaN</td>\n",
       "      <td>1.0</td>\n",
       "      <td>NaN</td>\n",
       "      <td>1.0</td>\n",
       "      <td>NaN</td>\n",
       "      <td>1.0</td>\n",
       "      <td>1.0</td>\n",
       "      <td>NaN</td>\n",
       "      <td>NaN</td>\n",
       "    </tr>\n",
       "  </tbody>\n",
       "</table>\n",
       "<p>2 rows × 84 columns</p>\n",
       "</div>"
      ],
      "text/plain": [
       "num_sentences      1       2       3        4        5        6        7   \\\n",
       "is_best                                                                     \n",
       "0              1155.0  4249.0  8559.0  11752.0  13497.0  13123.0  12163.0   \n",
       "1                 3.0    10.0    29.0     53.0     82.0    110.0    102.0   \n",
       "\n",
       "num_sentences       8       9       10 ...    75   76   77   78   79   80  \\\n",
       "is_best                                ...                                  \n",
       "0              10830.0  9545.0  8272.0 ...   3.0  2.0  1.0  2.0  1.0  1.0   \n",
       "1                140.0   169.0   159.0 ...   NaN  NaN  1.0  NaN  1.0  NaN   \n",
       "\n",
       "num_sentences   86   87   97   99  \n",
       "is_best                            \n",
       "0              NaN  NaN  1.0  1.0  \n",
       "1              1.0  1.0  NaN  NaN  \n",
       "\n",
       "[2 rows x 84 columns]"
      ]
     },
     "execution_count": 91,
     "metadata": {},
     "output_type": "execute_result"
    }
   ],
   "source": [
    "with_n_topics.groupby(['is_best', 'num_sentences']).size().unstack()"
   ]
  },
  {
   "cell_type": "markdown",
   "metadata": {},
   "source": [
    "Let's look at 5-sentence reviews."
   ]
  },
  {
   "cell_type": "code",
   "execution_count": 108,
   "metadata": {},
   "outputs": [
    {
     "name": "stdout",
     "output_type": "stream",
     "text": [
      "Casual sophistication, with really good food.  We went with about 10 of us, and everyone liked what they got.  That's a pretty good batting average.  Asian fusion with a focus on Thai and Vietnamese.   This isn't a fancy place, but it's well done, and worth a trip.\n",
      "\n",
      "The mozzarella and tomato salad was fresh but small. I also had their lobster risotto and it was perfect. Large chunks of well cooked lobster, oh my! Dessert didn't seem to be their specialty - their selection of teas and sweets was pretty slim. They do have a nice al fresco dining area, perfect for those warm Boston summer nights.\n",
      "\n",
      "One of my favorite places. My husband and I often hang out at the cozy little bar which is even more cozy in the winter with the little open fireplace. They have great food and wonderful service. The deck in the summer is nice too. The whole place has such a delightful, romantic atomsphere.\n",
      "\n",
      "Solid place, and none of the pizzas I've tried have disappointed (steak and gorgonzola, and anything with red peppers are highlights). without getting in pizza fights, probably one of the top destinations for pizza with atmosphere in boston. A very multifunctional space, as some reviewers have noted, fit for any time of the day and occasion, and everything is just right: the menu choices are not overwhelming, the clientele is a good mix, the service prompt .   possibly a longish wait during the weekend evenings, possibly will end up sharing a table (not too much of a drawback, really. unless you are trying to propose to someone.)\n",
      "\n",
      "We really enjoyed the 9 course tasting dinner at the chef's table on a recent Wednesday evening. From start to finish, it was close to 3 hrs of fine dining excellence! The 9 courses actually became 14 courses with assorted amuses and gifts included along the way. Great service complimented the fine work by Chef Anderson and staff. We'd recommend the chef's table for any serious foodies and look forward to returning again.\n",
      "\n",
      "I eat lunch at Bunny's at least once a week.  Bunny's has the best burgers in Champaign County without a doubt. The one I get is called the Broadway Burger, double meat, and all I have to say is \"Swiss\", \"Cheddar\", or \"American\". It comes with a bag of chips so if you want fries you have to order them but this burger doesn't need fries, Load up the burger at the condiment rack with lettuce, tomato, onions, pickles, whatever, and you have the best burger around.  I know, I've eaten a burger at just about every place in all of Champaign County, and this is the best.\n",
      "\n",
      "Your pizza's good, beer's cold, place draws in a crowd.  Though your interior is packed and attracts a rambuctions crowd, I prefer to sit out front with my dog and enjoy the company of calmer folks. Not sure why yelpers go nuts over you. Not familiar with your drink specials, if you have a larger food menu, or a signature drink. I just come here when friends recommend ... and in the end, it ain't all that bad.\n",
      "\n",
      "Ahhh... the memories that come back with a hot chicken tempura donburi at Aki's.  I had forgotten about this dish, but used to eat it a lot while in Berkeley.  It was good years ago, and nothing has changed, which is both good and rare these days.  We also ordered the donkatsu donburi today too, and it was good.  It seems a little a bit generous to give a small hole-in-the-wall college eatery four stars, and mainly based on one dish, but I thought this one dish deserved the four stars.\n",
      "\n",
      "Koreana[1] stocks a standard menu of Korean dishes, prepared above-standard, at decent prices.  Last I was here, I walked in 10 minutes past closing. Talking to the owner/chef/cashier (not sure which), I mentioned I just arrived from out-of-town, and he took pity on me and whipped up some delicious yukgaejang with chicken ($7.25), a piping hot, lightly spiced thick soup. A mildly-pungent side of kimchi kept me entertained, and I left happy.  [1] I miss their previous incarnation sometimes, but I'm glad this is still an option for Korean in University City.\n",
      "\n",
      "i've been here for dinner once and the food was good, but what i want to write about is my lunch experience.  dining at the heights is a pricey though worth the money experience-- but having lunch here instead gives you the same great and attentive service (the waitress checked on us 4-5 times to ask if everything was okay and if we were enjoying our food) and equally delicious and generously portioned food for a fraction of the dinner price.  lunch for two including a coffee only cost $35 before tip.  i had the prosciutto wrapped trout which came with an amazing sweet but savory sauce on a bed of (slightly overly salty/creamy) salmon and asparagus risotto. the cheesesteak was okay-- this fancy version with real steak and cheddar just didnt satisfy my taste for an authentic cheesesteak.\n",
      "\n",
      "BOOOOOO. I wish this pizza was better!  The only great thing was that last year when I lived at the Radisson (yes it is a USC dorm) we had um...eaten some sandwiches (How I Met Your Mother reference...please someone understand) we went in for some pizza but since they were closing they just decided to give us a couple free slices. I have to admit the free pizza after eating those sandwiches tasted pretty damn good!  But normally the pizza pretty much sucks...\n",
      "\n",
      "In another life, I had an illicit affair, and this is where we would go to be around people but lost in a crowd. I think that's a fair description of the ambiance here.   The food is surprisingly (for a Columbia neighborhood restaurant) and consistently good. They make most everything on the premises, and have an often overlooked but very talented pastry chef. The waiters are a little flaky, but order a drink right away and you won't mind :)\n",
      "\n",
      "I've been to Mehek maybe two or three times, and usually go as a special occasion, because of the price, setting, and food, but after being there a few times, I've decided it's more everyday fare, despite the price. That's not to say it's not delicious -- it is, but the specialty of the flavor seems to be no more special than many of the great Indian flavors to be found in the greater Princeton/Trenton area. It's very good food -- fantastic service, beautiful dining, and an exquisite setting. If you like spicy, ask for it -- you'll get it. Highly recommended.\n",
      "\n",
      "i heard that this place makes people sick...but i've eaten there 3x, been fine so far. the menu goes on and on...it takes me about 10 minutes to decide what to get. i've had the pan-fried tomato beef noodles, bbq chow fun (which came with lots of yummy sprouts), and a chicken, fish, and eggplant stir-fry. these were all about $6-7, and very satisfying, coming from someone who's been eating Chinese food for all her life. i wanted to try the 3 dish lunch special ($5) but the pre-cooked food looked greasy and gross.\n",
      "\n",
      "Aut bar always jumps to mind whenever I think of brunch in Ann Arbor - especially for the southwest/Mex themed foods. I especially love the idea of blackbeans, rice and tortillas with my breakfast foods - and legit options and variety - not just the same old breakfast burrito with some cheap salsa slapped on.  The servers are all very kind and accommodating. The mimosas are cheap and plentiful. Perfect for a late Sunday brunch and even better in the summer when the patio's open for dining.\n",
      "\n",
      "Oh no...  This is the epitome of a poor student's dining. When you think of dirt poor college students who are subject to eating tasteless fast food because they cannot afford anything else, this is probably what I think of. Do yourself a favor and hop onto a bus with your bus pass and get yourself some real pho.  Everything else is alright, but would probably taste the same if you had made it yourself.\n",
      "\n",
      "Hands down my favorite bar in SLO.  The food is good, but I only ate there a few times.  I just liked to hang out on the back patio and drink the strong drinks.  This place is awesome during the day (esp graduation morning and st. patties day) and awesome during the night.  Can't wait to go back the next time I visit SLO.\n",
      "\n",
      "I cannot imagine what has brought some people I know to rave about this place! Right along the lines of Anna's and Boca Grande, Felipe's is just another example of getting what you pay for...and less, in this case, is not more!  The dish itself was bland, the guacamole was salty and the chicken was rubbery. I was kicking myself on the walk home, passing Chiptole with a belly full of Felipes.  Lesson Learned.\n",
      "\n",
      "I don't often cry, being as big man and all these days but, this place made me cry.  They ran out of waffle batter on a Saturday at approximately 11:30 AM, and didn't even have the courtesy of telling me that they ran out (after ordering and paying), even though we were waiting over a half hour, watching the staff just chop strawberries. Only after going up front and confronting the incredibly out of control management, did we get the story straight.  I really, really wanted to like this place. :(\n",
      "\n",
      "Kind of like the McSorley's of Austin, if we're talking about a western outpost and 14 times the space.  I make this comparison because 1) Its historic (well, the kind of \"historic\" that we west of the Mississippi consider historic, which is post-WWII .. and no, HitW is not THAT old, but old enough to be an institution), and 2) the grime is charming.  Sure, thats where the comparison's end.    Yeah, a huge bit of a stretch, but whatever.  I guarantee if you like one, you'll like the other, so suck it.\n",
      "\n"
     ]
    }
   ],
   "source": [
    "for row in (\n",
    "    with_n_topics[with_n_topics.num_sentences==5]\n",
    "    .groupby('is_best')\n",
    "    .text.apply(lambda x: x.sample(n=10, random_state=10))).reset_index().sample(frac=1).itertuples():\n",
    "#    print(is_best, text.replace('\\n', ' '))\n",
    "    print(row.text.replace('\\n', ' '))\n",
    "#     print(row.is_best)\n",
    "    print()"
   ]
  },
  {
   "cell_type": "code",
   "execution_count": null,
   "metadata": {},
   "outputs": [],
   "source": []
  },
  {
   "cell_type": "code",
   "execution_count": null,
   "metadata": {},
   "outputs": [],
   "source": []
  },
  {
   "cell_type": "code",
   "execution_count": null,
   "metadata": {},
   "outputs": [],
   "source": []
  },
  {
   "cell_type": "code",
   "execution_count": 133,
   "metadata": {},
   "outputs": [],
   "source": [
    "with_n_topics['sqrt_votes_useful'] = np.sqrt(with_n_topics.votes_useful)"
   ]
  },
  {
   "cell_type": "code",
   "execution_count": 142,
   "metadata": {},
   "outputs": [],
   "source": [
    "with_n_topics.sqrt_votes_useful = np.minimum(with_n_topics.sqrt_votes_useful, 2)"
   ]
  },
  {
   "cell_type": "code",
   "execution_count": 143,
   "metadata": {},
   "outputs": [
    {
     "data": {
      "text/plain": [
       "<matplotlib.axes._subplots.AxesSubplot at 0x14585ecf8>"
      ]
     },
     "execution_count": 143,
     "metadata": {},
     "output_type": "execute_result"
    },
    {
     "data": {
      "image/png": "[encoded data removed]",
      "text/plain": [
       "<Figure size 432x288 with 1 Axes>"
      ]
     },
     "metadata": {
      "needs_background": "light"
     },
     "output_type": "display_data"
    }
   ],
   "source": [
    "sns.distplot(with_n_topics.sqrt_votes_useful)"
   ]
  },
  {
   "cell_type": "code",
   "execution_count": 147,
   "metadata": {},
   "outputs": [
    {
     "data": {
      "text/html": [
       "<table class=\"simpletable\">\n",
       "<caption>OLS Regression Results</caption>\n",
       "<tr>\n",
       "  <th>Dep. Variable:</th>    <td>sqrt_votes_useful</td> <th>  R-squared:         </th>  <td>   0.139</td>  \n",
       "</tr>\n",
       "<tr>\n",
       "  <th>Model:</th>                   <td>OLS</td>        <th>  Adj. R-squared:    </th>  <td>   0.139</td>  \n",
       "</tr>\n",
       "<tr>\n",
       "  <th>Method:</th>             <td>Least Squares</td>   <th>  F-statistic:       </th>  <td>   4575.</td>  \n",
       "</tr>\n",
       "<tr>\n",
       "  <th>Date:</th>             <td>Wed, 13 Mar 2019</td>  <th>  Prob (F-statistic):</th>   <td>  0.00</td>   \n",
       "</tr>\n",
       "<tr>\n",
       "  <th>Time:</th>                 <td>17:04:03</td>      <th>  Log-Likelihood:    </th> <td>-1.3478e+05</td>\n",
       "</tr>\n",
       "<tr>\n",
       "  <th>No. Observations:</th>      <td>141591</td>       <th>  AIC:               </th>  <td>2.696e+05</td> \n",
       "</tr>\n",
       "<tr>\n",
       "  <th>Df Residuals:</th>          <td>141585</td>       <th>  BIC:               </th>  <td>2.696e+05</td> \n",
       "</tr>\n",
       "<tr>\n",
       "  <th>Df Model:</th>              <td>     5</td>       <th>                     </th>      <td> </td>     \n",
       "</tr>\n",
       "<tr>\n",
       "  <th>Covariance Type:</th>      <td>nonrobust</td>     <th>                     </th>      <td> </td>     \n",
       "</tr>\n",
       "</table>\n",
       "<table class=\"simpletable\">\n",
       "<tr>\n",
       "        <td></td>           <th>coef</th>     <th>std err</th>      <th>t</th>      <th>P>|t|</th>  <th>[0.025</th>    <th>0.975]</th>  \n",
       "</tr>\n",
       "<tr>\n",
       "  <th>Intercept</th>     <td>   -0.1349</td> <td>    0.013</td> <td>  -10.509</td> <td> 0.000</td> <td>   -0.160</td> <td>   -0.110</td>\n",
       "</tr>\n",
       "<tr>\n",
       "  <th>review_count</th>  <td>   -0.0002</td> <td>  7.6e-06</td> <td>  -24.617</td> <td> 0.000</td> <td>   -0.000</td> <td>   -0.000</td>\n",
       "</tr>\n",
       "<tr>\n",
       "  <th>stars_biz</th>     <td>    0.0652</td> <td>    0.003</td> <td>   18.812</td> <td> 0.000</td> <td>    0.058</td> <td>    0.072</td>\n",
       "</tr>\n",
       "<tr>\n",
       "  <th>age_months</th>    <td>    0.0082</td> <td> 8.77e-05</td> <td>   93.285</td> <td> 0.000</td> <td>    0.008</td> <td>    0.008</td>\n",
       "</tr>\n",
       "<tr>\n",
       "  <th>num_sentences</th> <td>    0.0083</td> <td>    0.001</td> <td>   14.826</td> <td> 0.000</td> <td>    0.007</td> <td>    0.009</td>\n",
       "</tr>\n",
       "<tr>\n",
       "  <th>num_chars</th>     <td>    0.0002</td> <td> 6.56e-06</td> <td>   36.935</td> <td> 0.000</td> <td>    0.000</td> <td>    0.000</td>\n",
       "</tr>\n",
       "</table>\n",
       "<table class=\"simpletable\">\n",
       "<tr>\n",
       "  <th>Omnibus:</th>       <td>13843.477</td> <th>  Durbin-Watson:     </th> <td>   1.994</td>\n",
       "</tr>\n",
       "<tr>\n",
       "  <th>Prob(Omnibus):</th>  <td> 0.000</td>   <th>  Jarque-Bera (JB):  </th> <td>9950.159</td>\n",
       "</tr>\n",
       "<tr>\n",
       "  <th>Skew:</th>           <td> 0.545</td>   <th>  Prob(JB):          </th> <td>    0.00</td>\n",
       "</tr>\n",
       "<tr>\n",
       "  <th>Kurtosis:</th>       <td> 2.295</td>   <th>  Cond. No.          </th> <td>7.93e+03</td>\n",
       "</tr>\n",
       "</table><br/><br/>Warnings:<br/>[1] Standard Errors assume that the covariance matrix of the errors is correctly specified.<br/>[2] The condition number is large, 7.93e+03. This might indicate that there are<br/>strong multicollinearity or other numerical problems."
      ],
      "text/plain": [
       "<class 'statsmodels.iolib.summary.Summary'>\n",
       "\"\"\"\n",
       "                            OLS Regression Results                            \n",
       "==============================================================================\n",
       "Dep. Variable:      sqrt_votes_useful   R-squared:                       0.139\n",
       "Model:                            OLS   Adj. R-squared:                  0.139\n",
       "Method:                 Least Squares   F-statistic:                     4575.\n",
       "Date:                Wed, 13 Mar 2019   Prob (F-statistic):               0.00\n",
       "Time:                        17:04:03   Log-Likelihood:            -1.3478e+05\n",
       "No. Observations:              141591   AIC:                         2.696e+05\n",
       "Df Residuals:                  141585   BIC:                         2.696e+05\n",
       "Df Model:                           5                                         \n",
       "Covariance Type:            nonrobust                                         \n",
       "=================================================================================\n",
       "                    coef    std err          t      P>|t|      [0.025      0.975]\n",
       "---------------------------------------------------------------------------------\n",
       "Intercept        -0.1349      0.013    -10.509      0.000      -0.160      -0.110\n",
       "review_count     -0.0002    7.6e-06    -24.617      0.000      -0.000      -0.000\n",
       "stars_biz         0.0652      0.003     18.812      0.000       0.058       0.072\n",
       "age_months        0.0082   8.77e-05     93.285      0.000       0.008       0.008\n",
       "num_sentences     0.0083      0.001     14.826      0.000       0.007       0.009\n",
       "num_chars         0.0002   6.56e-06     36.935      0.000       0.000       0.000\n",
       "==============================================================================\n",
       "Omnibus:                    13843.477   Durbin-Watson:                   1.994\n",
       "Prob(Omnibus):                  0.000   Jarque-Bera (JB):             9950.159\n",
       "Skew:                           0.545   Prob(JB):                         0.00\n",
       "Kurtosis:                       2.295   Cond. No.                     7.93e+03\n",
       "==============================================================================\n",
       "\n",
       "Warnings:\n",
       "[1] Standard Errors assume that the covariance matrix of the errors is correctly specified.\n",
       "[2] The condition number is large, 7.93e+03. This might indicate that there are\n",
       "strong multicollinearity or other numerical problems.\n",
       "\"\"\""
      ]
     },
     "execution_count": 147,
     "metadata": {},
     "output_type": "execute_result"
    }
   ],
   "source": [
    "smf.ols('sqrt_votes_useful ~ review_count + stars_biz + age_months + num_sentences + num_chars', data=with_n_topics).fit().summary()"
   ]
  },
  {
   "cell_type": "code",
   "execution_count": 150,
   "metadata": {},
   "outputs": [
    {
     "data": {
      "text/html": [
       "<table class=\"simpletable\">\n",
       "<caption>OLS Regression Results</caption>\n",
       "<tr>\n",
       "  <th>Dep. Variable:</th>    <td>sqrt_votes_useful</td> <th>  R-squared:         </th>  <td>   0.141</td>  \n",
       "</tr>\n",
       "<tr>\n",
       "  <th>Model:</th>                   <td>OLS</td>        <th>  Adj. R-squared:    </th>  <td>   0.141</td>  \n",
       "</tr>\n",
       "<tr>\n",
       "  <th>Method:</th>             <td>Least Squares</td>   <th>  F-statistic:       </th>  <td>   3314.</td>  \n",
       "</tr>\n",
       "<tr>\n",
       "  <th>Date:</th>             <td>Wed, 13 Mar 2019</td>  <th>  Prob (F-statistic):</th>   <td>  0.00</td>   \n",
       "</tr>\n",
       "<tr>\n",
       "  <th>Time:</th>                 <td>17:06:06</td>      <th>  Log-Likelihood:    </th> <td>-1.3464e+05</td>\n",
       "</tr>\n",
       "<tr>\n",
       "  <th>No. Observations:</th>      <td>141591</td>       <th>  AIC:               </th>  <td>2.693e+05</td> \n",
       "</tr>\n",
       "<tr>\n",
       "  <th>Df Residuals:</th>          <td>141583</td>       <th>  BIC:               </th>  <td>2.694e+05</td> \n",
       "</tr>\n",
       "<tr>\n",
       "  <th>Df Model:</th>              <td>     7</td>       <th>                     </th>      <td> </td>     \n",
       "</tr>\n",
       "<tr>\n",
       "  <th>Covariance Type:</th>      <td>nonrobust</td>     <th>                     </th>      <td> </td>     \n",
       "</tr>\n",
       "</table>\n",
       "<table class=\"simpletable\">\n",
       "<tr>\n",
       "        <td></td>           <th>coef</th>     <th>std err</th>      <th>t</th>      <th>P>|t|</th>  <th>[0.025</th>    <th>0.975]</th>  \n",
       "</tr>\n",
       "<tr>\n",
       "  <th>Intercept</th>     <td>   -0.1165</td> <td>    0.013</td> <td>   -9.052</td> <td> 0.000</td> <td>   -0.142</td> <td>   -0.091</td>\n",
       "</tr>\n",
       "<tr>\n",
       "  <th>review_count</th>  <td>   -0.0002</td> <td> 7.59e-06</td> <td>  -24.645</td> <td> 0.000</td> <td>   -0.000</td> <td>   -0.000</td>\n",
       "</tr>\n",
       "<tr>\n",
       "  <th>stars_biz</th>     <td>    0.0664</td> <td>    0.003</td> <td>   19.181</td> <td> 0.000</td> <td>    0.060</td> <td>    0.073</td>\n",
       "</tr>\n",
       "<tr>\n",
       "  <th>age_months</th>    <td>    0.0081</td> <td> 8.78e-05</td> <td>   92.206</td> <td> 0.000</td> <td>    0.008</td> <td>    0.008</td>\n",
       "</tr>\n",
       "<tr>\n",
       "  <th>num_sentences</th> <td>    0.0125</td> <td>    0.001</td> <td>   20.345</td> <td> 0.000</td> <td>    0.011</td> <td>    0.014</td>\n",
       "</tr>\n",
       "<tr>\n",
       "  <th>num_chars</th>     <td>    0.0002</td> <td> 6.59e-06</td> <td>   35.252</td> <td> 0.000</td> <td>    0.000</td> <td>    0.000</td>\n",
       "</tr>\n",
       "<tr>\n",
       "  <th>n_topics</th>      <td>   -0.0178</td> <td>    0.001</td> <td>  -12.597</td> <td> 0.000</td> <td>   -0.021</td> <td>   -0.015</td>\n",
       "</tr>\n",
       "<tr>\n",
       "  <th>n_topics ^ 2</th>  <td>   -0.0032</td> <td>    0.001</td> <td>   -3.780</td> <td> 0.000</td> <td>   -0.005</td> <td>   -0.002</td>\n",
       "</tr>\n",
       "</table>\n",
       "<table class=\"simpletable\">\n",
       "<tr>\n",
       "  <th>Omnibus:</th>       <td>13712.408</td> <th>  Durbin-Watson:     </th> <td>   1.994</td>\n",
       "</tr>\n",
       "<tr>\n",
       "  <th>Prob(Omnibus):</th>  <td> 0.000</td>   <th>  Jarque-Bera (JB):  </th> <td>9878.699</td>\n",
       "</tr>\n",
       "<tr>\n",
       "  <th>Skew:</th>           <td> 0.543</td>   <th>  Prob(JB):          </th> <td>    0.00</td>\n",
       "</tr>\n",
       "<tr>\n",
       "  <th>Kurtosis:</th>       <td> 2.297</td>   <th>  Cond. No.          </th> <td>7.96e+03</td>\n",
       "</tr>\n",
       "</table><br/><br/>Warnings:<br/>[1] Standard Errors assume that the covariance matrix of the errors is correctly specified.<br/>[2] The condition number is large, 7.96e+03. This might indicate that there are<br/>strong multicollinearity or other numerical problems."
      ],
      "text/plain": [
       "<class 'statsmodels.iolib.summary.Summary'>\n",
       "\"\"\"\n",
       "                            OLS Regression Results                            \n",
       "==============================================================================\n",
       "Dep. Variable:      sqrt_votes_useful   R-squared:                       0.141\n",
       "Model:                            OLS   Adj. R-squared:                  0.141\n",
       "Method:                 Least Squares   F-statistic:                     3314.\n",
       "Date:                Wed, 13 Mar 2019   Prob (F-statistic):               0.00\n",
       "Time:                        17:06:06   Log-Likelihood:            -1.3464e+05\n",
       "No. Observations:              141591   AIC:                         2.693e+05\n",
       "Df Residuals:                  141583   BIC:                         2.694e+05\n",
       "Df Model:                           7                                         \n",
       "Covariance Type:            nonrobust                                         \n",
       "=================================================================================\n",
       "                    coef    std err          t      P>|t|      [0.025      0.975]\n",
       "---------------------------------------------------------------------------------\n",
       "Intercept        -0.1165      0.013     -9.052      0.000      -0.142      -0.091\n",
       "review_count     -0.0002   7.59e-06    -24.645      0.000      -0.000      -0.000\n",
       "stars_biz         0.0664      0.003     19.181      0.000       0.060       0.073\n",
       "age_months        0.0081   8.78e-05     92.206      0.000       0.008       0.008\n",
       "num_sentences     0.0125      0.001     20.345      0.000       0.011       0.014\n",
       "num_chars         0.0002   6.59e-06     35.252      0.000       0.000       0.000\n",
       "n_topics         -0.0178      0.001    -12.597      0.000      -0.021      -0.015\n",
       "n_topics ^ 2     -0.0032      0.001     -3.780      0.000      -0.005      -0.002\n",
       "==============================================================================\n",
       "Omnibus:                    13712.408   Durbin-Watson:                   1.994\n",
       "Prob(Omnibus):                  0.000   Jarque-Bera (JB):             9878.699\n",
       "Skew:                           0.543   Prob(JB):                         0.00\n",
       "Kurtosis:                       2.297   Cond. No.                     7.96e+03\n",
       "==============================================================================\n",
       "\n",
       "Warnings:\n",
       "[1] Standard Errors assume that the covariance matrix of the errors is correctly specified.\n",
       "[2] The condition number is large, 7.96e+03. This might indicate that there are\n",
       "strong multicollinearity or other numerical problems.\n",
       "\"\"\""
      ]
     },
     "execution_count": 150,
     "metadata": {},
     "output_type": "execute_result"
    }
   ],
   "source": [
    "smf.ols('sqrt_votes_useful ~ review_count + stars_biz + age_months + num_sentences + num_chars + n_topics + n_topics^2', data=with_n_topics).fit().summary()"
   ]
  },
  {
   "cell_type": "code",
   "execution_count": 151,
   "metadata": {},
   "outputs": [
    {
     "data": {
      "text/html": [
       "<table class=\"simpletable\">\n",
       "<caption>OLS Regression Results</caption>\n",
       "<tr>\n",
       "  <th>Dep. Variable:</th>    <td>sqrt_votes_useful</td> <th>  R-squared:         </th>  <td>   0.142</td>  \n",
       "</tr>\n",
       "<tr>\n",
       "  <th>Model:</th>                   <td>OLS</td>        <th>  Adj. R-squared:    </th>  <td>   0.142</td>  \n",
       "</tr>\n",
       "<tr>\n",
       "  <th>Method:</th>             <td>Least Squares</td>   <th>  F-statistic:       </th>  <td>   1018.</td>  \n",
       "</tr>\n",
       "<tr>\n",
       "  <th>Date:</th>             <td>Wed, 13 Mar 2019</td>  <th>  Prob (F-statistic):</th>   <td>  0.00</td>   \n",
       "</tr>\n",
       "<tr>\n",
       "  <th>Time:</th>                 <td>17:07:40</td>      <th>  Log-Likelihood:    </th> <td>-1.3455e+05</td>\n",
       "</tr>\n",
       "<tr>\n",
       "  <th>No. Observations:</th>      <td>141591</td>       <th>  AIC:               </th>  <td>2.691e+05</td> \n",
       "</tr>\n",
       "<tr>\n",
       "  <th>Df Residuals:</th>          <td>141567</td>       <th>  BIC:               </th>  <td>2.694e+05</td> \n",
       "</tr>\n",
       "<tr>\n",
       "  <th>Df Model:</th>              <td>    23</td>       <th>                     </th>      <td> </td>     \n",
       "</tr>\n",
       "<tr>\n",
       "  <th>Covariance Type:</th>      <td>nonrobust</td>     <th>                     </th>      <td> </td>     \n",
       "</tr>\n",
       "</table>\n",
       "<table class=\"simpletable\">\n",
       "<tr>\n",
       "          <td></td>             <th>coef</th>     <th>std err</th>      <th>t</th>      <th>P>|t|</th>  <th>[0.025</th>    <th>0.975]</th>  \n",
       "</tr>\n",
       "<tr>\n",
       "  <th>Intercept</th>         <td>   -0.1594</td> <td>    0.013</td> <td>  -12.271</td> <td> 0.000</td> <td>   -0.185</td> <td>   -0.134</td>\n",
       "</tr>\n",
       "<tr>\n",
       "  <th>C(n_topics)[T.2]</th>  <td>    0.0010</td> <td>    0.004</td> <td>    0.224</td> <td> 0.822</td> <td>   -0.008</td> <td>    0.010</td>\n",
       "</tr>\n",
       "<tr>\n",
       "  <th>C(n_topics)[T.3]</th>  <td>   -0.0132</td> <td>    0.005</td> <td>   -2.580</td> <td> 0.010</td> <td>   -0.023</td> <td>   -0.003</td>\n",
       "</tr>\n",
       "<tr>\n",
       "  <th>C(n_topics)[T.4]</th>  <td>   -0.0290</td> <td>    0.006</td> <td>   -4.574</td> <td> 0.000</td> <td>   -0.041</td> <td>   -0.017</td>\n",
       "</tr>\n",
       "<tr>\n",
       "  <th>C(n_topics)[T.5]</th>  <td>   -0.0384</td> <td>    0.008</td> <td>   -4.748</td> <td> 0.000</td> <td>   -0.054</td> <td>   -0.023</td>\n",
       "</tr>\n",
       "<tr>\n",
       "  <th>C(n_topics)[T.6]</th>  <td>   -0.0968</td> <td>    0.011</td> <td>   -9.107</td> <td> 0.000</td> <td>   -0.118</td> <td>   -0.076</td>\n",
       "</tr>\n",
       "<tr>\n",
       "  <th>C(n_topics)[T.7]</th>  <td>   -0.0933</td> <td>    0.014</td> <td>   -6.829</td> <td> 0.000</td> <td>   -0.120</td> <td>   -0.067</td>\n",
       "</tr>\n",
       "<tr>\n",
       "  <th>C(n_topics)[T.8]</th>  <td>   -0.1680</td> <td>    0.018</td> <td>   -9.484</td> <td> 0.000</td> <td>   -0.203</td> <td>   -0.133</td>\n",
       "</tr>\n",
       "<tr>\n",
       "  <th>C(n_topics)[T.9]</th>  <td>   -0.2844</td> <td>    0.024</td> <td>  -11.938</td> <td> 0.000</td> <td>   -0.331</td> <td>   -0.238</td>\n",
       "</tr>\n",
       "<tr>\n",
       "  <th>C(n_topics)[T.10]</th> <td>   -0.3272</td> <td>    0.032</td> <td>  -10.107</td> <td> 0.000</td> <td>   -0.391</td> <td>   -0.264</td>\n",
       "</tr>\n",
       "<tr>\n",
       "  <th>C(n_topics)[T.11]</th> <td>   -0.3860</td> <td>    0.043</td> <td>   -8.996</td> <td> 0.000</td> <td>   -0.470</td> <td>   -0.302</td>\n",
       "</tr>\n",
       "<tr>\n",
       "  <th>C(n_topics)[T.12]</th> <td>   -0.4151</td> <td>    0.057</td> <td>   -7.237</td> <td> 0.000</td> <td>   -0.528</td> <td>   -0.303</td>\n",
       "</tr>\n",
       "<tr>\n",
       "  <th>C(n_topics)[T.13]</th> <td>   -0.4663</td> <td>    0.085</td> <td>   -5.481</td> <td> 0.000</td> <td>   -0.633</td> <td>   -0.300</td>\n",
       "</tr>\n",
       "<tr>\n",
       "  <th>C(n_topics)[T.14]</th> <td>   -0.3602</td> <td>    0.121</td> <td>   -2.973</td> <td> 0.003</td> <td>   -0.598</td> <td>   -0.123</td>\n",
       "</tr>\n",
       "<tr>\n",
       "  <th>C(n_topics)[T.15]</th> <td>   -0.6248</td> <td>    0.157</td> <td>   -3.978</td> <td> 0.000</td> <td>   -0.933</td> <td>   -0.317</td>\n",
       "</tr>\n",
       "<tr>\n",
       "  <th>C(n_topics)[T.16]</th> <td>   -0.7462</td> <td>    0.189</td> <td>   -3.940</td> <td> 0.000</td> <td>   -1.117</td> <td>   -0.375</td>\n",
       "</tr>\n",
       "<tr>\n",
       "  <th>C(n_topics)[T.17]</th> <td>   -1.1384</td> <td>    0.313</td> <td>   -3.635</td> <td> 0.000</td> <td>   -1.752</td> <td>   -0.525</td>\n",
       "</tr>\n",
       "<tr>\n",
       "  <th>C(n_topics)[T.18]</th> <td>   -0.8626</td> <td>    0.626</td> <td>   -1.377</td> <td> 0.168</td> <td>   -2.090</td> <td>    0.365</td>\n",
       "</tr>\n",
       "<tr>\n",
       "  <th>C(n_topics)[T.19]</th> <td>   -1.3462</td> <td>    0.443</td> <td>   -3.040</td> <td> 0.002</td> <td>   -2.214</td> <td>   -0.478</td>\n",
       "</tr>\n",
       "<tr>\n",
       "  <th>review_count</th>      <td>   -0.0002</td> <td> 7.59e-06</td> <td>  -24.706</td> <td> 0.000</td> <td>   -0.000</td> <td>   -0.000</td>\n",
       "</tr>\n",
       "<tr>\n",
       "  <th>stars_biz</th>         <td>    0.0669</td> <td>    0.003</td> <td>   19.347</td> <td> 0.000</td> <td>    0.060</td> <td>    0.074</td>\n",
       "</tr>\n",
       "<tr>\n",
       "  <th>age_months</th>        <td>    0.0081</td> <td> 8.77e-05</td> <td>   92.392</td> <td> 0.000</td> <td>    0.008</td> <td>    0.008</td>\n",
       "</tr>\n",
       "<tr>\n",
       "  <th>num_sentences</th>     <td>    0.0130</td> <td>    0.001</td> <td>   21.159</td> <td> 0.000</td> <td>    0.012</td> <td>    0.014</td>\n",
       "</tr>\n",
       "<tr>\n",
       "  <th>num_chars</th>         <td>    0.0002</td> <td> 6.59e-06</td> <td>   34.935</td> <td> 0.000</td> <td>    0.000</td> <td>    0.000</td>\n",
       "</tr>\n",
       "</table>\n",
       "<table class=\"simpletable\">\n",
       "<tr>\n",
       "  <th>Omnibus:</th>       <td>13766.961</td> <th>  Durbin-Watson:     </th> <td>   1.994</td>\n",
       "</tr>\n",
       "<tr>\n",
       "  <th>Prob(Omnibus):</th>  <td> 0.000</td>   <th>  Jarque-Bera (JB):  </th> <td>9861.707</td>\n",
       "</tr>\n",
       "<tr>\n",
       "  <th>Skew:</th>           <td> 0.542</td>   <th>  Prob(JB):          </th> <td>    0.00</td>\n",
       "</tr>\n",
       "<tr>\n",
       "  <th>Kurtosis:</th>       <td> 2.295</td>   <th>  Cond. No.          </th> <td>3.75e+05</td>\n",
       "</tr>\n",
       "</table><br/><br/>Warnings:<br/>[1] Standard Errors assume that the covariance matrix of the errors is correctly specified.<br/>[2] The condition number is large, 3.75e+05. This might indicate that there are<br/>strong multicollinearity or other numerical problems."
      ],
      "text/plain": [
       "<class 'statsmodels.iolib.summary.Summary'>\n",
       "\"\"\"\n",
       "                            OLS Regression Results                            \n",
       "==============================================================================\n",
       "Dep. Variable:      sqrt_votes_useful   R-squared:                       0.142\n",
       "Model:                            OLS   Adj. R-squared:                  0.142\n",
       "Method:                 Least Squares   F-statistic:                     1018.\n",
       "Date:                Wed, 13 Mar 2019   Prob (F-statistic):               0.00\n",
       "Time:                        17:07:40   Log-Likelihood:            -1.3455e+05\n",
       "No. Observations:              141591   AIC:                         2.691e+05\n",
       "Df Residuals:                  141567   BIC:                         2.694e+05\n",
       "Df Model:                          23                                         \n",
       "Covariance Type:            nonrobust                                         \n",
       "=====================================================================================\n",
       "                        coef    std err          t      P>|t|      [0.025      0.975]\n",
       "-------------------------------------------------------------------------------------\n",
       "Intercept            -0.1594      0.013    -12.271      0.000      -0.185      -0.134\n",
       "C(n_topics)[T.2]      0.0010      0.004      0.224      0.822      -0.008       0.010\n",
       "C(n_topics)[T.3]     -0.0132      0.005     -2.580      0.010      -0.023      -0.003\n",
       "C(n_topics)[T.4]     -0.0290      0.006     -4.574      0.000      -0.041      -0.017\n",
       "C(n_topics)[T.5]     -0.0384      0.008     -4.748      0.000      -0.054      -0.023\n",
       "C(n_topics)[T.6]     -0.0968      0.011     -9.107      0.000      -0.118      -0.076\n",
       "C(n_topics)[T.7]     -0.0933      0.014     -6.829      0.000      -0.120      -0.067\n",
       "C(n_topics)[T.8]     -0.1680      0.018     -9.484      0.000      -0.203      -0.133\n",
       "C(n_topics)[T.9]     -0.2844      0.024    -11.938      0.000      -0.331      -0.238\n",
       "C(n_topics)[T.10]    -0.3272      0.032    -10.107      0.000      -0.391      -0.264\n",
       "C(n_topics)[T.11]    -0.3860      0.043     -8.996      0.000      -0.470      -0.302\n",
       "C(n_topics)[T.12]    -0.4151      0.057     -7.237      0.000      -0.528      -0.303\n",
       "C(n_topics)[T.13]    -0.4663      0.085     -5.481      0.000      -0.633      -0.300\n",
       "C(n_topics)[T.14]    -0.3602      0.121     -2.973      0.003      -0.598      -0.123\n",
       "C(n_topics)[T.15]    -0.6248      0.157     -3.978      0.000      -0.933      -0.317\n",
       "C(n_topics)[T.16]    -0.7462      0.189     -3.940      0.000      -1.117      -0.375\n",
       "C(n_topics)[T.17]    -1.1384      0.313     -3.635      0.000      -1.752      -0.525\n",
       "C(n_topics)[T.18]    -0.8626      0.626     -1.377      0.168      -2.090       0.365\n",
       "C(n_topics)[T.19]    -1.3462      0.443     -3.040      0.002      -2.214      -0.478\n",
       "review_count         -0.0002   7.59e-06    -24.706      0.000      -0.000      -0.000\n",
       "stars_biz             0.0669      0.003     19.347      0.000       0.060       0.074\n",
       "age_months            0.0081   8.77e-05     92.392      0.000       0.008       0.008\n",
       "num_sentences         0.0130      0.001     21.159      0.000       0.012       0.014\n",
       "num_chars             0.0002   6.59e-06     34.935      0.000       0.000       0.000\n",
       "==============================================================================\n",
       "Omnibus:                    13766.961   Durbin-Watson:                   1.994\n",
       "Prob(Omnibus):                  0.000   Jarque-Bera (JB):             9861.707\n",
       "Skew:                           0.542   Prob(JB):                         0.00\n",
       "Kurtosis:                       2.295   Cond. No.                     3.75e+05\n",
       "==============================================================================\n",
       "\n",
       "Warnings:\n",
       "[1] Standard Errors assume that the covariance matrix of the errors is correctly specified.\n",
       "[2] The condition number is large, 3.75e+05. This might indicate that there are\n",
       "strong multicollinearity or other numerical problems.\n",
       "\"\"\""
      ]
     },
     "execution_count": 151,
     "metadata": {},
     "output_type": "execute_result"
    }
   ],
   "source": [
    "smf.ols('sqrt_votes_useful ~ review_count + stars_biz + age_months + num_sentences + num_chars + C(n_topics)', data=with_n_topics).fit().summary()"
   ]
  },
  {
   "cell_type": "code",
   "execution_count": 152,
   "metadata": {},
   "outputs": [
    {
     "data": {
      "text/html": [
       "<table class=\"simpletable\">\n",
       "<caption>OLS Regression Results</caption>\n",
       "<tr>\n",
       "  <th>Dep. Variable:</th>    <td>sqrt_votes_useful</td> <th>  R-squared:         </th>  <td>   0.145</td>  \n",
       "</tr>\n",
       "<tr>\n",
       "  <th>Model:</th>                   <td>OLS</td>        <th>  Adj. R-squared:    </th>  <td>   0.145</td>  \n",
       "</tr>\n",
       "<tr>\n",
       "  <th>Method:</th>             <td>Least Squares</td>   <th>  F-statistic:       </th>  <td>   3422.</td>  \n",
       "</tr>\n",
       "<tr>\n",
       "  <th>Date:</th>             <td>Wed, 13 Mar 2019</td>  <th>  Prob (F-statistic):</th>   <td>  0.00</td>   \n",
       "</tr>\n",
       "<tr>\n",
       "  <th>Time:</th>                 <td>17:08:44</td>      <th>  Log-Likelihood:    </th> <td>-1.3432e+05</td>\n",
       "</tr>\n",
       "<tr>\n",
       "  <th>No. Observations:</th>      <td>141591</td>       <th>  AIC:               </th>  <td>2.687e+05</td> \n",
       "</tr>\n",
       "<tr>\n",
       "  <th>Df Residuals:</th>          <td>141583</td>       <th>  BIC:               </th>  <td>2.687e+05</td> \n",
       "</tr>\n",
       "<tr>\n",
       "  <th>Df Model:</th>              <td>     7</td>       <th>                     </th>      <td> </td>     \n",
       "</tr>\n",
       "<tr>\n",
       "  <th>Covariance Type:</th>      <td>nonrobust</td>     <th>                     </th>      <td> </td>     \n",
       "</tr>\n",
       "</table>\n",
       "<table class=\"simpletable\">\n",
       "<tr>\n",
       "             <td></td>               <th>coef</th>     <th>std err</th>      <th>t</th>      <th>P>|t|</th>  <th>[0.025</th>    <th>0.975]</th>  \n",
       "</tr>\n",
       "<tr>\n",
       "  <th>Intercept</th>              <td>   -0.2147</td> <td>    0.013</td> <td>  -16.047</td> <td> 0.000</td> <td>   -0.241</td> <td>   -0.188</td>\n",
       "</tr>\n",
       "<tr>\n",
       "  <th>review_count</th>           <td>   -0.0002</td> <td> 7.57e-06</td> <td>  -24.968</td> <td> 0.000</td> <td>   -0.000</td> <td>   -0.000</td>\n",
       "</tr>\n",
       "<tr>\n",
       "  <th>stars_biz</th>              <td>    0.0680</td> <td>    0.003</td> <td>   19.672</td> <td> 0.000</td> <td>    0.061</td> <td>    0.075</td>\n",
       "</tr>\n",
       "<tr>\n",
       "  <th>age_months</th>             <td>    0.0081</td> <td> 8.76e-05</td> <td>   92.536</td> <td> 0.000</td> <td>    0.008</td> <td>    0.008</td>\n",
       "</tr>\n",
       "<tr>\n",
       "  <th>num_chars</th>              <td>    0.0002</td> <td> 6.58e-06</td> <td>   33.667</td> <td> 0.000</td> <td>    0.000</td> <td>    0.000</td>\n",
       "</tr>\n",
       "<tr>\n",
       "  <th>num_sentences</th>          <td>    0.0214</td> <td>    0.001</td> <td>   30.380</td> <td> 0.000</td> <td>    0.020</td> <td>    0.023</td>\n",
       "</tr>\n",
       "<tr>\n",
       "  <th>n_topics</th>               <td>    0.0102</td> <td>    0.002</td> <td>    5.956</td> <td> 0.000</td> <td>    0.007</td> <td>    0.014</td>\n",
       "</tr>\n",
       "<tr>\n",
       "  <th>num_sentences:n_topics</th> <td>   -0.0020</td> <td> 7.89e-05</td> <td>  -25.692</td> <td> 0.000</td> <td>   -0.002</td> <td>   -0.002</td>\n",
       "</tr>\n",
       "</table>\n",
       "<table class=\"simpletable\">\n",
       "<tr>\n",
       "  <th>Omnibus:</th>       <td>13940.682</td> <th>  Durbin-Watson:     </th> <td>   1.995</td>\n",
       "</tr>\n",
       "<tr>\n",
       "  <th>Prob(Omnibus):</th>  <td> 0.000</td>   <th>  Jarque-Bera (JB):  </th> <td>9746.001</td>\n",
       "</tr>\n",
       "<tr>\n",
       "  <th>Skew:</th>           <td> 0.535</td>   <th>  Prob(JB):          </th> <td>    0.00</td>\n",
       "</tr>\n",
       "<tr>\n",
       "  <th>Kurtosis:</th>       <td> 2.286</td>   <th>  Cond. No.          </th> <td>8.27e+03</td>\n",
       "</tr>\n",
       "</table><br/><br/>Warnings:<br/>[1] Standard Errors assume that the covariance matrix of the errors is correctly specified.<br/>[2] The condition number is large, 8.27e+03. This might indicate that there are<br/>strong multicollinearity or other numerical problems."
      ],
      "text/plain": [
       "<class 'statsmodels.iolib.summary.Summary'>\n",
       "\"\"\"\n",
       "                            OLS Regression Results                            \n",
       "==============================================================================\n",
       "Dep. Variable:      sqrt_votes_useful   R-squared:                       0.145\n",
       "Model:                            OLS   Adj. R-squared:                  0.145\n",
       "Method:                 Least Squares   F-statistic:                     3422.\n",
       "Date:                Wed, 13 Mar 2019   Prob (F-statistic):               0.00\n",
       "Time:                        17:08:44   Log-Likelihood:            -1.3432e+05\n",
       "No. Observations:              141591   AIC:                         2.687e+05\n",
       "Df Residuals:                  141583   BIC:                         2.687e+05\n",
       "Df Model:                           7                                         \n",
       "Covariance Type:            nonrobust                                         \n",
       "==========================================================================================\n",
       "                             coef    std err          t      P>|t|      [0.025      0.975]\n",
       "------------------------------------------------------------------------------------------\n",
       "Intercept                 -0.2147      0.013    -16.047      0.000      -0.241      -0.188\n",
       "review_count              -0.0002   7.57e-06    -24.968      0.000      -0.000      -0.000\n",
       "stars_biz                  0.0680      0.003     19.672      0.000       0.061       0.075\n",
       "age_months                 0.0081   8.76e-05     92.536      0.000       0.008       0.008\n",
       "num_chars                  0.0002   6.58e-06     33.667      0.000       0.000       0.000\n",
       "num_sentences              0.0214      0.001     30.380      0.000       0.020       0.023\n",
       "n_topics                   0.0102      0.002      5.956      0.000       0.007       0.014\n",
       "num_sentences:n_topics    -0.0020   7.89e-05    -25.692      0.000      -0.002      -0.002\n",
       "==============================================================================\n",
       "Omnibus:                    13940.682   Durbin-Watson:                   1.995\n",
       "Prob(Omnibus):                  0.000   Jarque-Bera (JB):             9746.001\n",
       "Skew:                           0.535   Prob(JB):                         0.00\n",
       "Kurtosis:                       2.286   Cond. No.                     8.27e+03\n",
       "==============================================================================\n",
       "\n",
       "Warnings:\n",
       "[1] Standard Errors assume that the covariance matrix of the errors is correctly specified.\n",
       "[2] The condition number is large, 8.27e+03. This might indicate that there are\n",
       "strong multicollinearity or other numerical problems.\n",
       "\"\"\""
      ]
     },
     "execution_count": 152,
     "metadata": {},
     "output_type": "execute_result"
    }
   ],
   "source": [
    "smf.ols('sqrt_votes_useful ~ review_count + stars_biz + age_months + num_chars + num_sentences *n_topics', data=with_n_topics).fit().summary()"
   ]
  },
  {
   "cell_type": "code",
   "execution_count": 154,
   "metadata": {},
   "outputs": [
    {
     "data": {
      "text/html": [
       "<table class=\"simpletable\">\n",
       "<caption>OLS Regression Results</caption>\n",
       "<tr>\n",
       "  <th>Dep. Variable:</th>    <td>sqrt_votes_useful</td> <th>  R-squared:         </th>  <td>   0.142</td>  \n",
       "</tr>\n",
       "<tr>\n",
       "  <th>Model:</th>                   <td>OLS</td>        <th>  Adj. R-squared:    </th>  <td>   0.142</td>  \n",
       "</tr>\n",
       "<tr>\n",
       "  <th>Method:</th>             <td>Least Squares</td>   <th>  F-statistic:       </th>  <td>   3921.</td>  \n",
       "</tr>\n",
       "<tr>\n",
       "  <th>Date:</th>             <td>Wed, 13 Mar 2019</td>  <th>  Prob (F-statistic):</th>   <td>  0.00</td>   \n",
       "</tr>\n",
       "<tr>\n",
       "  <th>Time:</th>                 <td>17:11:43</td>      <th>  Log-Likelihood:    </th> <td>-1.3450e+05</td>\n",
       "</tr>\n",
       "<tr>\n",
       "  <th>No. Observations:</th>      <td>141591</td>       <th>  AIC:               </th>  <td>2.690e+05</td> \n",
       "</tr>\n",
       "<tr>\n",
       "  <th>Df Residuals:</th>          <td>141584</td>       <th>  BIC:               </th>  <td>2.691e+05</td> \n",
       "</tr>\n",
       "<tr>\n",
       "  <th>Df Model:</th>              <td>     6</td>       <th>                     </th>      <td> </td>     \n",
       "</tr>\n",
       "<tr>\n",
       "  <th>Covariance Type:</th>      <td>nonrobust</td>     <th>                     </th>      <td> </td>     \n",
       "</tr>\n",
       "</table>\n",
       "<table class=\"simpletable\">\n",
       "<tr>\n",
       "         <td></td>            <th>coef</th>     <th>std err</th>      <th>t</th>      <th>P>|t|</th>  <th>[0.025</th>    <th>0.975]</th>  \n",
       "</tr>\n",
       "<tr>\n",
       "  <th>Intercept</th>       <td>   -0.0389</td> <td>    0.013</td> <td>   -2.895</td> <td> 0.004</td> <td>   -0.065</td> <td>   -0.013</td>\n",
       "</tr>\n",
       "<tr>\n",
       "  <th>review_count</th>    <td>   -0.0002</td> <td> 7.58e-06</td> <td>  -24.764</td> <td> 0.000</td> <td>   -0.000</td> <td>   -0.000</td>\n",
       "</tr>\n",
       "<tr>\n",
       "  <th>stars_biz</th>       <td>    0.0667</td> <td>    0.003</td> <td>   19.286</td> <td> 0.000</td> <td>    0.060</td> <td>    0.073</td>\n",
       "</tr>\n",
       "<tr>\n",
       "  <th>age_months</th>      <td>    0.0081</td> <td> 8.77e-05</td> <td>   91.844</td> <td> 0.000</td> <td>    0.008</td> <td>    0.008</td>\n",
       "</tr>\n",
       "<tr>\n",
       "  <th>num_chars</th>       <td>    0.0002</td> <td> 6.58e-06</td> <td>   34.771</td> <td> 0.000</td> <td>    0.000</td> <td>    0.000</td>\n",
       "</tr>\n",
       "<tr>\n",
       "  <th>num_sentences</th>   <td>    0.0071</td> <td>    0.001</td> <td>   12.635</td> <td> 0.000</td> <td>    0.006</td> <td>    0.008</td>\n",
       "</tr>\n",
       "<tr>\n",
       "  <th>topic_diversity</th> <td>   -0.2470</td> <td>    0.010</td> <td>  -23.711</td> <td> 0.000</td> <td>   -0.267</td> <td>   -0.227</td>\n",
       "</tr>\n",
       "</table>\n",
       "<table class=\"simpletable\">\n",
       "<tr>\n",
       "  <th>Omnibus:</th>       <td>14326.412</td> <th>  Durbin-Watson:     </th> <td>   1.994</td>\n",
       "</tr>\n",
       "<tr>\n",
       "  <th>Prob(Omnibus):</th>  <td> 0.000</td>   <th>  Jarque-Bera (JB):  </th> <td>9849.389</td>\n",
       "</tr>\n",
       "<tr>\n",
       "  <th>Skew:</th>           <td> 0.535</td>   <th>  Prob(JB):          </th> <td>    0.00</td>\n",
       "</tr>\n",
       "<tr>\n",
       "  <th>Kurtosis:</th>       <td> 2.277</td>   <th>  Cond. No.          </th> <td>8.63e+03</td>\n",
       "</tr>\n",
       "</table><br/><br/>Warnings:<br/>[1] Standard Errors assume that the covariance matrix of the errors is correctly specified.<br/>[2] The condition number is large, 8.63e+03. This might indicate that there are<br/>strong multicollinearity or other numerical problems."
      ],
      "text/plain": [
       "<class 'statsmodels.iolib.summary.Summary'>\n",
       "\"\"\"\n",
       "                            OLS Regression Results                            \n",
       "==============================================================================\n",
       "Dep. Variable:      sqrt_votes_useful   R-squared:                       0.142\n",
       "Model:                            OLS   Adj. R-squared:                  0.142\n",
       "Method:                 Least Squares   F-statistic:                     3921.\n",
       "Date:                Wed, 13 Mar 2019   Prob (F-statistic):               0.00\n",
       "Time:                        17:11:43   Log-Likelihood:            -1.3450e+05\n",
       "No. Observations:              141591   AIC:                         2.690e+05\n",
       "Df Residuals:                  141584   BIC:                         2.691e+05\n",
       "Df Model:                           6                                         \n",
       "Covariance Type:            nonrobust                                         \n",
       "===================================================================================\n",
       "                      coef    std err          t      P>|t|      [0.025      0.975]\n",
       "-----------------------------------------------------------------------------------\n",
       "Intercept          -0.0389      0.013     -2.895      0.004      -0.065      -0.013\n",
       "review_count       -0.0002   7.58e-06    -24.764      0.000      -0.000      -0.000\n",
       "stars_biz           0.0667      0.003     19.286      0.000       0.060       0.073\n",
       "age_months          0.0081   8.77e-05     91.844      0.000       0.008       0.008\n",
       "num_chars           0.0002   6.58e-06     34.771      0.000       0.000       0.000\n",
       "num_sentences       0.0071      0.001     12.635      0.000       0.006       0.008\n",
       "topic_diversity    -0.2470      0.010    -23.711      0.000      -0.267      -0.227\n",
       "==============================================================================\n",
       "Omnibus:                    14326.412   Durbin-Watson:                   1.994\n",
       "Prob(Omnibus):                  0.000   Jarque-Bera (JB):             9849.389\n",
       "Skew:                           0.535   Prob(JB):                         0.00\n",
       "Kurtosis:                       2.277   Cond. No.                     8.63e+03\n",
       "==============================================================================\n",
       "\n",
       "Warnings:\n",
       "[1] Standard Errors assume that the covariance matrix of the errors is correctly specified.\n",
       "[2] The condition number is large, 8.63e+03. This might indicate that there are\n",
       "strong multicollinearity or other numerical problems.\n",
       "\"\"\""
      ]
     },
     "execution_count": 154,
     "metadata": {},
     "output_type": "execute_result"
    }
   ],
   "source": [
    "smf.ols('sqrt_votes_useful ~ review_count + stars_biz + age_months + num_chars + num_sentences + topic_diversity', data=with_n_topics).fit().summary()"
   ]
  },
  {
   "cell_type": "code",
   "execution_count": 157,
   "metadata": {},
   "outputs": [],
   "source": [
    "with_n_topics.drop(columns='business_id date review_id text user_id categories city name neighborhoods tokenized'.split()).to_csv('with_n_topics.csv')"
   ]
  },
  {
   "cell_type": "code",
   "execution_count": 158,
   "metadata": {},
   "outputs": [],
   "source": [
    "!open ."
   ]
  },
  {
   "cell_type": "code",
   "execution_count": null,
   "metadata": {},
   "outputs": [],
   "source": [
    "def show_cluster(idx):\n",
    "    close_indices = np.argsort(dists_to_centers[:,idx])[:10]\n",
    "    for idx in close_indices:\n",
    "        print(sents_2[idx][:100])\n",
    "for i in range(dists_to_centers.shape[1]):\n",
    "    print()\n",
    "    print(i)\n",
    "    close_indices = np.argsort(dists_to_centers[:,i])[:10]\n",
    "    for idx in close_indices:\n",
    "        print(sents_2[idx])\n",
    "#    orig_docs = doc_idx_0[orig_indices_2[close_indices]]\n",
    "#    orig_stars = reviews.stars_review.iloc[orig_docs]\n",
    "#    print(np.bincount(orig_stars, minlength=5)[1:])\n",
    "#    all_stars.append(orig_stars)\n"
   ]
  },
  {
   "cell_type": "markdown",
   "metadata": {},
   "source": [
    "Represent a document as a sequence of topics."
   ]
  },
  {
   "cell_type": "code",
   "execution_count": 133,
   "metadata": {},
   "outputs": [
    {
     "data": {
      "text/plain": [
       "'50 13 68 68 46'"
      ]
     },
     "execution_count": 133,
     "metadata": {},
     "output_type": "execute_result"
    }
   ],
   "source": [
    "def label_topics(tokenized_doc):\n",
    "    sents = tokenized_doc.split('\\n')\n",
    "    vecs = vectorizer.transform(sents)\n",
    "    projected = vecs.dot(projection_mat)\n",
    "    clusters = mbk_wordvecs.predict(projected)\n",
    "    return ' '.join(str(cluster) for cluster in clusters)\n",
    "label_topics(df_full.tokenized.iloc[5])"
   ]
  },
  {
   "cell_type": "code",
   "execution_count": 134,
   "metadata": {},
   "outputs": [
    {
     "name": "stdout",
     "output_type": "stream",
     "text": [
      "we celebrated our anniversary at the lawrence last night and it was all wonderful : potted shrimp , rabbit rillettes , littleneck clams , pork cheeks w / pappardelle and the tri - tip followed by some sort of chocolate / caramel / pretzel deliciousness .\n",
      "the fried green tomato amuse bouche was a nice touch !\n",
      "we also went for drinks a few weeks ago and it was a fun , lively spot on a saturday night , no doubt fueled by eric's delicious cocktails .\n",
      "i am so happy to have a spot in the neighborhood where i can stop in for a drink and a snack or celebrate with a complete , upscale dining experience .\n",
      "we drove and it was no problem to find free street parking on juniper .\n"
     ]
    }
   ],
   "source": [
    "print(df_full.tokenized.iloc[5])"
   ]
  },
  {
   "cell_type": "code",
   "execution_count": 135,
   "metadata": {},
   "outputs": [],
   "source": [
    "import tqdm"
   ]
  },
  {
   "cell_type": "code",
   "execution_count": 136,
   "metadata": {},
   "outputs": [
    {
     "data": {
      "application/vnd.jupyter.widget-view+json": {
       "model_id": "578ec41a40a84af3aa7c67903eb2de2e",
       "version_major": 2,
       "version_minor": 0
      },
      "text/plain": [
       "HBox(children=(IntProgress(value=0, max=177173), HTML(value='')))"
      ]
     },
     "metadata": {},
     "output_type": "display_data"
    },
    {
     "name": "stdout",
     "output_type": "stream",
     "text": [
      "\n"
     ]
    }
   ],
   "source": [
    "df_full['topic_seq'] = [label_topics(tokenized) for tokenized in tqdm.tqdm_notebook(df_full.tokenized)]"
   ]
  },
  {
   "cell_type": "code",
   "execution_count": 137,
   "metadata": {},
   "outputs": [],
   "source": [
    "from textrec.paths import paths"
   ]
  },
  {
   "cell_type": "code",
   "execution_count": 138,
   "metadata": {},
   "outputs": [],
   "source": [
    "with open(paths.models / \"topic_sequence.txt\", 'w') as f:\n",
    "    for line in df_full.topic_seq:\n",
    "        f.write(line + '\\n')"
   ]
  },
  {
   "cell_type": "code",
   "execution_count": 140,
   "metadata": {},
   "outputs": [],
   "source": [
    "from textrec.util import dump_kenlm"
   ]
  },
  {
   "cell_type": "code",
   "execution_count": 141,
   "metadata": {},
   "outputs": [],
   "source": [
    "dump_kenlm('topic_sequence', df_full.topic_seq)"
   ]
  },
  {
   "cell_type": "code",
   "execution_count": 142,
   "metadata": {},
   "outputs": [],
   "source": [
    "from textrec.lang_model import Model"
   ]
  },
  {
   "cell_type": "code",
   "execution_count": 144,
   "metadata": {},
   "outputs": [
    {
     "name": "stderr",
     "output_type": "stream",
     "text": [
      "Loading model topic_sequence ... reading raw ARPA data ...  Encoding bigrams to indices... Loaded.\n"
     ]
    }
   ],
   "source": [
    "model = Model.get_or_load_model('topic_sequence')"
   ]
  },
  {
   "cell_type": "code",
   "execution_count": 146,
   "metadata": {},
   "outputs": [
    {
     "data": {
      "text/plain": [
       "(-137.79803202770034, State([], []))"
      ]
     },
     "execution_count": 146,
     "metadata": {},
     "output_type": "execute_result"
    }
   ],
   "source": [
    "model.score_seq(model.bos_state, '50 13 68 68 46 </s>')"
   ]
  },
  {
   "cell_type": "code",
   "execution_count": 150,
   "metadata": {},
   "outputs": [],
   "source": [
    "def topic_sequence_perplexity(topic_seq):\n",
    "    logprob, state = model.score_seq(model.bos_state, topic_seq + \" </s>\")\n",
    "    return -logprob"
   ]
  },
  {
   "cell_type": "code",
   "execution_count": 151,
   "metadata": {},
   "outputs": [
    {
     "data": {
      "application/vnd.jupyter.widget-view+json": {
       "model_id": "7306946d7d8a45f2b7e5abbb3bf9aac9",
       "version_major": 2,
       "version_minor": 0
      },
      "text/plain": [
       "HBox(children=(IntProgress(value=0, max=177173), HTML(value='')))"
      ]
     },
     "metadata": {},
     "output_type": "display_data"
    }
   ],
   "source": [
    "df_full['topic_seq_perplexity'] = [topic_sequence_perplexity(seq) for seq in tqdm.tqdm_notebook(df_full.topic_seq)]"
   ]
  },
  {
   "cell_type": "code",
   "execution_count": 158,
   "metadata": {},
   "outputs": [],
   "source": [
    "import matplotlib.pyplot as plt\n",
    "import seaborn as sns"
   ]
  },
  {
   "cell_type": "code",
   "execution_count": 160,
   "metadata": {},
   "outputs": [
    {
     "data": {
      "text/plain": [
       "is_best\n",
       "False    AxesSubplot(0.125,0.125;0.775x0.755)\n",
       "True     AxesSubplot(0.125,0.125;0.775x0.755)\n",
       "Name: topic_seq_perplexity, dtype: object"
      ]
     },
     "execution_count": 160,
     "metadata": {},
     "output_type": "execute_result"
    },
    {
     "data": {
      "image/png": "[encoded data removed]",
      "text/plain": [
       "<Figure size 432x288 with 1 Axes>"
      ]
     },
     "metadata": {
      "needs_background": "light"
     },
     "output_type": "display_data"
    }
   ],
   "source": [
    "df_full.groupby('is_best').topic_seq_perplexity.apply(sns.distplot)\n"
   ]
  },
  {
   "cell_type": "code",
   "execution_count": 161,
   "metadata": {},
   "outputs": [
    {
     "data": {
      "text/plain": [
       "is_best\n",
       "False    210.546438\n",
       "True     348.401128\n",
       "Name: topic_seq_perplexity, dtype: float64"
      ]
     },
     "execution_count": 161,
     "metadata": {},
     "output_type": "execute_result"
    }
   ],
   "source": [
    "df_full.groupby('is_best').topic_seq_perplexity.mean()"
   ]
  }
 ],
 "metadata": {
  "kernelspec": {
   "display_name": "Python 3",
   "language": "python",
   "name": "python3"
  },
  "language_info": {
   "codemirror_mode": {
    "name": "ipython",
    "version": 3
   },
   "file_extension": ".py",
   "mimetype": "text/x-python",
   "name": "python",
   "nbconvert_exporter": "python",
   "pygments_lexer": "ipython3",
   "version": "3.6.7"
  },
  "toc": {
   "base_numbering": 1,
   "nav_menu": {},
   "number_sections": true,
   "sideBar": true,
   "skip_h1_title": false,
   "title_cell": "Table of Contents",
   "title_sidebar": "Contents",
   "toc_cell": false,
   "toc_position": {},
   "toc_section_display": true,
   "toc_window_display": false
  }
 },
 "nbformat": 4,
 "nbformat_minor": 2
}
