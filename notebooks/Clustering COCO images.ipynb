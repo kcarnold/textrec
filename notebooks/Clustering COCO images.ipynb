{
 "cells": [
  {
   "cell_type": "code",
   "execution_count": 1,
   "metadata": {},
   "outputs": [],
   "source": [
    "import json\n",
    "from collections import Counter\n",
    "import toolz\n",
    "from IPython.display import Image, HTML\n",
    "import tqdm"
   ]
  },
  {
   "cell_type": "code",
   "execution_count": 2,
   "metadata": {},
   "outputs": [],
   "source": [
    "images = json.load(open('/Users/kcarnold/src/ImageCaptioning.pytorch/data/dataset_coco.json'))['images']"
   ]
  },
  {
   "cell_type": "code",
   "execution_count": 4,
   "metadata": {},
   "outputs": [],
   "source": [
    "id2url = {img['id']: img['coco_url'] for img in\n",
    "              json.load(open('/Data/COCO/annotations/captions_train2017.json'))['images'] +\n",
    "              json.load(open('/Data/COCO/annotations/captions_val2017.json'))['images']\n",
    "         }"
   ]
  },
  {
   "cell_type": "code",
   "execution_count": 5,
   "metadata": {},
   "outputs": [
    {
     "data": {
      "text/plain": [
       "Counter({'restval': 30504, 'test': 5000, 'train': 82783, 'val': 5000})"
      ]
     },
     "execution_count": 5,
     "metadata": {},
     "output_type": "execute_result"
    }
   ],
   "source": [
    "Counter(img['split'] for img in images)"
   ]
  },
  {
   "cell_type": "code",
   "execution_count": 6,
   "metadata": {},
   "outputs": [
    {
     "data": {
      "text/plain": [
       "5000"
      ]
     },
     "execution_count": 6,
     "metadata": {},
     "output_type": "execute_result"
    }
   ],
   "source": [
    "images_by_split = toolz.groupby('split', images)\n",
    "valid_images = images_by_split['val']\n",
    "len(valid_images)"
   ]
  },
  {
   "cell_type": "code",
   "execution_count": 9,
   "metadata": {},
   "outputs": [],
   "source": [
    "def coco_url(cocoid):\n",
    "    return id2url[cocoid]\n",
    "#     return f'http://images.cocodataset.org/train2017/{cocoid:012d}.jpg'"
   ]
  },
  {
   "cell_type": "code",
   "execution_count": 10,
   "metadata": {},
   "outputs": [
    {
     "data": {
      "text/plain": [
       "'http://images.cocodataset.org/train2017/000000184613.jpg'"
      ]
     },
     "execution_count": 10,
     "metadata": {},
     "output_type": "execute_result"
    }
   ],
   "source": [
    "coco_url(valid_images[0]['cocoid'])"
   ]
  },
  {
   "cell_type": "code",
   "execution_count": 11,
   "metadata": {},
   "outputs": [],
   "source": [
    "from sklearn.feature_extraction.text import TfidfVectorizer, CountVectorizer, TfidfTransformer"
   ]
  },
  {
   "cell_type": "code",
   "execution_count": 12,
   "metadata": {},
   "outputs": [],
   "source": [
    "vectorizer = TfidfVectorizer(analyzer=lambda image: [tok for sent in image['sentences'] for tok in sent['tokens']], min_df=5)\n",
    "vectorizer.fit(images)\n",
    "valid_img_by_word = vectorizer.transform(images_by_split['val'])"
   ]
  },
  {
   "cell_type": "code",
   "execution_count": 13,
   "metadata": {},
   "outputs": [
    {
     "data": {
      "text/plain": [
       "<5000x9976 sparse matrix of type '<class 'numpy.float64'>'\n",
       "\twith 137478 stored elements in Compressed Sparse Row format>"
      ]
     },
     "execution_count": 13,
     "metadata": {},
     "output_type": "execute_result"
    }
   ],
   "source": [
    "valid_img_by_word"
   ]
  },
  {
   "cell_type": "code",
   "execution_count": 14,
   "metadata": {},
   "outputs": [],
   "source": [
    "from sklearn.cluster import AffinityPropagation"
   ]
  },
  {
   "cell_type": "code",
   "execution_count": 15,
   "metadata": {},
   "outputs": [],
   "source": [
    "af = AffinityPropagation().fit(valid_img_by_word)"
   ]
  },
  {
   "cell_type": "code",
   "execution_count": 17,
   "metadata": {},
   "outputs": [
    {
     "data": {
      "text/plain": [
       "11"
      ]
     },
     "execution_count": 17,
     "metadata": {},
     "output_type": "execute_result"
    }
   ],
   "source": [
    "af.cluster_centers_indices_[0]"
   ]
  },
  {
   "cell_type": "code",
   "execution_count": 21,
   "metadata": {},
   "outputs": [
    {
     "name": "stdout",
     "output_type": "stream",
     "text": [
      "A cat on the lid of a toilet looking perturbed.\n",
      "A blurry picture of a cat standing on a toilet.\n",
      "A cat standing on the toilet bowl seat\n",
      "A cat is perched on the top of a toilet seat in the bathroom.\n",
      "A cat standing on a toilet with an open lid.\n"
     ]
    }
   ],
   "source": [
    "print('\\n'.join(toolz.pluck('raw', images_by_split['val'][11]['sentences'])))"
   ]
  },
  {
   "cell_type": "code",
   "execution_count": 28,
   "metadata": {},
   "outputs": [],
   "source": [
    "%matplotlib inline\n",
    "import matplotlib.pyplot as plt\n",
    "import seaborn as sns"
   ]
  },
  {
   "cell_type": "code",
   "execution_count": 22,
   "metadata": {},
   "outputs": [
    {
     "data": {
      "text/plain": [
       "12"
      ]
     },
     "execution_count": 22,
     "metadata": {},
     "output_type": "execute_result"
    }
   ],
   "source": [
    "np.sum(af.labels_ == 0)"
   ]
  },
  {
   "cell_type": "code",
   "execution_count": 32,
   "metadata": {},
   "outputs": [
    {
     "data": {
      "text/plain": [
       "(array([110., 116.,  80.,  32.,  21.,  11.,   2.,   2.,   2.,   1.]),\n",
       " array([ 2. ,  7.7, 13.4, 19.1, 24.8, 30.5, 36.2, 41.9, 47.6, 53.3, 59. ]),\n",
       " <a list of 10 Patch objects>)"
      ]
     },
     "execution_count": 32,
     "metadata": {},
     "output_type": "execute_result"
    },
    {
     "data": {
      "image/png": "[encoded data removed]",
      "text/plain": [
       "<matplotlib.figure.Figure at 0x1506354e0>"
      ]
     },
     "metadata": {},
     "output_type": "display_data"
    }
   ],
   "source": [
    "plt.hist(np.bincount(af.labels_))"
   ]
  },
  {
   "cell_type": "code",
   "execution_count": 41,
   "metadata": {},
   "outputs": [
    {
     "data": {
      "text/plain": [
       "array([284, 336, 311, 287,  65, 226, 114, 115,  14, 303, 295, 281, 203,\n",
       "       266,  59, 276,   1, 298, 286, 154,  76, 136, 375, 334, 353,  16,\n",
       "       373,  11, 109, 237, 272, 134, 133, 268, 201, 265, 332, 359, 135,\n",
       "       344, 224, 259, 358,  88,  89,  92,  53, 119,  52, 342,  34, 163,\n",
       "       302,  18,  25,  49, 186,  29, 320, 250, 249, 324, 357,  93,  77,\n",
       "       293, 294, 229, 173, 223, 220, 192, 306, 238,  24, 262,  47,  62,\n",
       "        75, 285, 343, 151, 263, 264,  71,  51, 370,  48, 331, 329, 202,\n",
       "       200, 162, 270, 159,   2, 104, 371, 335, 152,  78, 283,  80, 187,\n",
       "       257,  66, 253, 339, 337,  67, 251, 219, 138, 291, 309,   6,  84,\n",
       "       118, 241, 338, 355, 103, 189, 233, 243,  41, 231,  42, 155,  57,\n",
       "       184, 141, 185, 171, 144, 196, 182, 254, 206, 317, 288,  31, 282,\n",
       "       313, 277, 368, 199,  54,   3,  70, 362, 260,  79,  94, 326, 101,\n",
       "       105, 113, 218, 125, 301,  10, 274, 278, 261, 305, 169, 315, 129,\n",
       "        27, 161, 117, 150, 366,  97,   7,  74, 132, 256, 217, 195, 318,\n",
       "        21, 191,  50, 208, 222, 232,  28, 351, 316, 165, 330, 245, 304,\n",
       "       255,   4,  45, 369,  22, 128, 328, 323, 230, 156, 107, 153, 183,\n",
       "        86, 275, 145,  64,   0,  82, 247,  95,  91,  83, 352, 333, 280,\n",
       "       164,  90, 207, 175, 296, 340, 374, 246, 176, 180,  15, 167,  17,\n",
       "       345, 356, 297, 194, 139, 137, 347,  55,  87,  19,  44,  69, 319,\n",
       "       321, 273, 290,  33,  20, 168,  99, 211, 354, 236, 225, 177, 116,\n",
       "       221, 110, 198,  43, 308, 216,  23, 205, 122, 367, 372, 228, 240,\n",
       "        61, 235,  13, 108, 148, 190, 350, 312, 204,  40, 178, 158, 365,\n",
       "       310, 123, 348,   9, 146, 307,  12, 120, 112, 271, 227,  68, 234,\n",
       "        36,  98,  38, 193, 166,  32, 279,  37, 346, 213, 364,  81, 258,\n",
       "       142, 349, 322, 327, 376, 170, 179,  26,  73, 160, 239, 106, 181,\n",
       "        60, 248,  72,  96, 252, 130, 149, 174,  85, 121, 361, 363,   8,\n",
       "       147, 299, 100, 300,  58, 242, 215, 214,  63, 314,  35, 292, 269,\n",
       "       267, 143, 212, 124, 111, 289, 126, 244, 209,  56,   5, 325, 341,\n",
       "       360,  46, 210, 140, 172, 188,  39, 197, 131,  30, 102, 127, 157])"
      ]
     },
     "execution_count": 41,
     "metadata": {},
     "output_type": "execute_result"
    }
   ],
   "source": [
    "np.argsort(np.bincount(af.labels_))"
   ]
  },
  {
   "cell_type": "code",
   "execution_count": 54,
   "metadata": {},
   "outputs": [
    {
     "data": {
      "text/plain": [
       "array([20, 39, 34,  6, 41, 14,  5,  3, 46, 40, 37,  7,  2, 26, 36, 38, 22,\n",
       "        0, 32, 50, 27, 23, 57, 11, 44, 28, 21, 24,  9, 53, 13, 56, 33,  8,\n",
       "       48,  1, 35, 29, 52, 10, 43, 45, 58, 51,  4, 17, 18, 54, 49, 30, 47,\n",
       "       12, 16, 15, 42, 55, 19, 31, 25])"
      ]
     },
     "execution_count": 54,
     "metadata": {},
     "output_type": "execute_result"
    }
   ],
   "source": [
    "np.argsort(af.affinity_matrix_[af.cluster_centers_indices_[157]][af.labels_ == 157])"
   ]
  },
  {
   "cell_type": "code",
   "execution_count": 87,
   "metadata": {},
   "outputs": [],
   "source": [
    "def show_images(indices):\n",
    "    valid_images = images_by_split['val']\n",
    "    def img(idx):\n",
    "        img = valid_images[idx]\n",
    "        captions = '\\n'.join(\n",
    "            '<div>{}</div>'.format(sent)\n",
    "            for sent in toolz.pluck('raw', img['sentences'])\n",
    "        )\n",
    "        return '<div style=\"display: inline-block;\"><img src=\"{}\">{}</div>'.format(coco_url(img['cocoid']), captions)\n",
    "\n",
    "    return '\\n'.join(img(idx) for idx in indices)\n"
   ]
  },
  {
   "cell_type": "code",
   "execution_count": 88,
   "metadata": {},
   "outputs": [
    {
     "name": "stdout",
     "output_type": "stream",
     "text": [
      "0\n"
     ]
    },
    {
     "data": {
      "text/html": [
       "<div><p>43 images in cluster 30</p><div style=\"display: inline-block;\"><img src=\"http://images.cocodataset.org/train2017/000000145862.jpg\"><div>a train sitting on a train track at a stop.</div>\n",
       "<div>a red train on a train track with a mountain background</div>\n",
       "<div>An old red train car is sitting on the tracks.</div>\n",
       "<div>An old train is on rusted train tracks</div>\n",
       "<div>A train traveling down towards some snow covered mountains.</div></div>\n",
       "<div style=\"display: inline-block;\"><img src=\"http://images.cocodataset.org/train2017/000000356456.jpg\"><div>a cargo and train on the train tracks</div>\n",
       "<div>An old caboose on the train tracks while a modern train passes by</div>\n",
       "<div>An unused train car sits on a track while another train drives by in the distance.</div>\n",
       "<div>A train riding on a track near an old train car. </div>\n",
       "<div>A passenger train is passing a single old train car parked on another track.</div></div>\n",
       "<div style=\"display: inline-block;\"><img src=\"http://images.cocodataset.org/train2017/000000116750.jpg\"><div>a train car parked in a train yard</div>\n",
       "<div>a long blue train is sitting on some tracks</div>\n",
       "<div>A train driving on the tracks near a platform.</div>\n",
       "<div>A blue train sitting on top of train tracks.</div>\n",
       "<div>Blue train cars sitting alone on the side of the train station. </div></div>\n",
       "<div style=\"display: inline-block;\"><img src=\"http://images.cocodataset.org/train2017/000000146836.jpg\"><div>A passenger train traveling on rail road tracks.</div>\n",
       "<div>A train is traveling down a railroad track.</div>\n",
       "<div>The large modern train is on the train track.</div>\n",
       "<div>A train is seen on railroad tracks at a train station.</div>\n",
       "<div>A passenger train runs down a track beneath wires.</div></div>\n",
       "<div style=\"display: inline-block;\"><img src=\"http://images.cocodataset.org/train2017/000000036049.jpg\"><div>the people are standing on a train track </div>\n",
       "<div>A person stands next to a train parked on tracks</div>\n",
       "<div>A man in uniform is standing near a track as a train approaches. </div>\n",
       "<div>A man standing on top of  train tracks near a train.</div>\n",
       "<div>A person standing next to a large train.</div></div>\n",
       "<div style=\"display: inline-block;\"><img src=\"http://images.cocodataset.org/train2017/000000147494.jpg\"><div>A  train traveling on a snow covered track.</div>\n",
       "<div>a train going down the tracks in the snow</div>\n",
       "<div>A passenger train makes its way along the track.</div>\n",
       "<div>A train traveling along a snow covered railroad track.</div>\n",
       "<div>A passenger train traveling over snowy train tracks.</div></div>\n",
       "<div style=\"display: inline-block;\"><img src=\"http://images.cocodataset.org/train2017/000000023879.jpg\"><div>A train traveling down train tracks near a city.</div>\n",
       "<div>A couple people and a car waiting for a train to go by.</div>\n",
       "<div>People stopped for a train that is getting ready to cross the street.</div>\n",
       "<div>a train on a train track with people on a street </div>\n",
       "<div>People waiting at a train crossing for a train to pass</div></div>\n",
       "<div style=\"display: inline-block;\"><img src=\"http://images.cocodataset.org/train2017/000000364703.jpg\"><div>a red train on a train track below power lines.</div>\n",
       "<div>A red train sits on the rail road tracks.</div>\n",
       "<div>A red train traveling past a brick building.</div>\n",
       "<div>a train on a train track with power lines above</div>\n",
       "<div>A red and yellow train engine passing by a building.</div></div>\n",
       "<div style=\"display: inline-block;\"><img src=\"http://images.cocodataset.org/train2017/000000235242.jpg\"><div>A gray train riding on a track as people are walking. </div>\n",
       "<div>a train that is on a train track thats next to a fence</div>\n",
       "<div>Train sitting on track with another track beside. </div>\n",
       "<div>A train with a red stop sign Cal train logo sitting on the side of it.</div>\n",
       "<div>Train engine passing an outside station platform, in California.</div></div>\n",
       "<div style=\"display: inline-block;\"><img src=\"http://images.cocodataset.org/train2017/000000550173.jpg\"><div>this is a train riding down the tracks</div>\n",
       "<div>A red train with a white stripe across it driving up a train track. </div>\n",
       "<div>A passenger train going through an urban area. </div>\n",
       "<div>Two car commuter train on track in metropolitan area.</div>\n",
       "<div>The orange and white train is running beneath wires. </div></div>\n",
       "<div style=\"display: inline-block;\"><img src=\"http://images.cocodataset.org/train2017/000000411215.jpg\"><div>A train traveling on a lush green hillside.</div>\n",
       "<div>The train cars are parked in the meadow.</div>\n",
       "<div>A abandoned train located on country side on a deserted train track.</div>\n",
       "<div>A train going down the tracks on a nice day .</div>\n",
       "<div>A train sitting on a track next to an abandoned track.</div></div>\n",
       "<div style=\"display: inline-block;\"><img src=\"http://images.cocodataset.org/val2017/000000493566.jpg\"><div>An orange and green train reads \"BNSF\" on the side.</div>\n",
       "<div>A train caboose on tracks next to another train.</div>\n",
       "<div>The last car of a train sits on train tracks.</div>\n",
       "<div>Diesel train engine with company logo in train yard.</div>\n",
       "<div>This train car has letters and numbers on it.</div></div>\n",
       "<div style=\"display: inline-block;\"><img src=\"http://images.cocodataset.org/train2017/000000451046.jpg\"><div>A train traveling down tracks through a field.</div>\n",
       "<div>The bus is travelling through the grass outside.</div>\n",
       "<div>A train engine that is being looked over by an train engineer.</div>\n",
       "<div>a train is traveling down the train track in the grass</div>\n",
       "<div>Two men standing by a corner of a train car.</div></div>\n",
       "<div style=\"display: inline-block;\"><img src=\"http://images.cocodataset.org/train2017/000000286450.jpg\"><div>A large black train on a train track. </div>\n",
       "<div>A drab locomotive moves on tracks past several outbuildings.</div>\n",
       "<div>A freight train is sitting on a train track.</div>\n",
       "<div>The train on this track has specialized compartments.</div>\n",
       "<div>A long convey of train cars is parked in a railway station.</div></div>\n",
       "<div style=\"display: inline-block;\"><img src=\"http://images.cocodataset.org/train2017/000000503724.jpg\"><div>a train on a track near a street </div>\n",
       "<div>A red train sitting in a train station under a blue sky.</div>\n",
       "<div>a red and black passenger train sitting on the track</div>\n",
       "<div>A red Railjet is on the track on a clear day.</div>\n",
       "<div>A red bullet style train moving through town near a city street.</div></div>\n",
       "<div style=\"display: inline-block;\"><img src=\"http://images.cocodataset.org/train2017/000000409241.jpg\"><div>A train traveling under a bridge next to a bunch of trees.</div>\n",
       "<div>A black train is driving under a bridge.</div>\n",
       "<div>A black train going down the train track</div>\n",
       "<div>A steam train is parked on the train track.</div>\n",
       "<div>A black train passes under a small bridge.</div></div>\n",
       "<div style=\"display: inline-block;\"><img src=\"http://images.cocodataset.org/train2017/000000112820.jpg\"><div>A red, white and blue train next to satellites.</div>\n",
       "<div>A train traveling on train tracks by some satellite dishes and houses.</div>\n",
       "<div>A picture of a red and white train traveling in the city. </div>\n",
       "<div>a long red white and blue train going through a city\n",
       "</div>\n",
       "<div>Several satellites grouped together on stands with a train passing by in the background.</div></div>\n",
       "<div style=\"display: inline-block;\"><img src=\"http://images.cocodataset.org/train2017/000000058651.jpg\"><div>A green train traveling through a train yard.</div>\n",
       "<div>An old-fashioned train going down the tracks with lots of wires overhead.</div>\n",
       "<div>Train engine on a train track and releasing steam.</div>\n",
       "<div>An old locomotive is on the railroad tracks.</div>\n",
       "<div>A locomotive train spewing steam from it's engine.</div></div>\n",
       "<div style=\"display: inline-block;\"><img src=\"http://images.cocodataset.org/train2017/000000054618.jpg\"><div>A train is passing another train sitting on a track.</div>\n",
       "<div>Commercial train moving quickly passed a commuter rail</div>\n",
       "<div>The train passes by another train as it moves through a rail yard.</div>\n",
       "<div>a train that is rolling by a large building</div>\n",
       "<div>A moving train pulling tanks down the tracks.</div></div>\n",
       "<div style=\"display: inline-block;\"><img src=\"http://images.cocodataset.org/train2017/000000086602.jpg\"><div>a train travels o some tracks next to some water </div>\n",
       "<div>A train traveling down the rail road tracks near a road.</div>\n",
       "<div>A train travelling next to a rural highway with water on the other side.</div>\n",
       "<div>a train on a track near many bushes</div>\n",
       "<div>A very long, yellow train coming around a corner. </div></div></div>"
      ],
      "text/plain": [
       "<IPython.core.display.HTML object>"
      ]
     },
     "execution_count": 88,
     "metadata": {},
     "output_type": "execute_result"
    }
   ],
   "source": [
    "def show_cluster(cluster, n=20):\n",
    "    valid_images = images_by_split['val']\n",
    "    def img(idx):\n",
    "        img = valid_images[idx]\n",
    "        captions = '\\n'.join(\n",
    "            '<div>{}</div>'.format(sent)\n",
    "            for sent in toolz.pluck('raw', img['sentences'])\n",
    "        )\n",
    "        return '<div style=\"display: inline-block;\"><img src=\"{}\">{}</div>'.format(coco_url(img['cocoid']), captions)\n",
    "\n",
    "    members = np.flatnonzero(af.labels_ == cluster)\n",
    "    cluster_center = af.cluster_centers_indices_[cluster]\n",
    "#     indices.remove(cluster_center)\n",
    "#     indices.insert(0, cluster_center)\n",
    "    affinity_row = af.affinity_matrix_[af.cluster_centers_indices_[cluster]]\n",
    "    indices = members[np.argsort(affinity_row[members])[::-1]]\n",
    "    print(indices.tolist().index(cluster_center))\n",
    "    total_imgs = len(indices)\n",
    "    indices = indices[:n]\n",
    "#     print('\\n\\n'.join(\n",
    "#             '\\n'.join(toolz.pluck('raw', images_by_split['val'][idx]['sentences']))\n",
    "#             for idx in indices))\n",
    "    return HTML(f'<div><p>{total_imgs} images in cluster {cluster}</p>' \n",
    "#                 + '\\n'.join(img(idx) for idx in indices)\n",
    "                + show_images(indices)\n",
    "                + '</div>')\n",
    "show_cluster(30)"
   ]
  },
  {
   "cell_type": "markdown",
   "metadata": {},
   "source": [
    "# Similar Pairs"
   ]
  },
  {
   "cell_type": "code",
   "execution_count": 79,
   "metadata": {},
   "outputs": [],
   "source": [
    "import scipy.sparse"
   ]
  },
  {
   "cell_type": "code",
   "execution_count": 82,
   "metadata": {},
   "outputs": [],
   "source": [
    "sims = scipy.sparse.triu(valid_img_by_word.dot(valid_img_by_word.T), 1)\n",
    "sims = sims.tocoo()"
   ]
  },
  {
   "cell_type": "code",
   "execution_count": 83,
   "metadata": {},
   "outputs": [
    {
     "data": {
      "text/plain": [
       "<5000x5000 sparse matrix of type '<class 'numpy.float64'>'\n",
       "\twith 12497377 stored elements in COOrdinate format>"
      ]
     },
     "execution_count": 83,
     "metadata": {},
     "output_type": "execute_result"
    }
   ],
   "source": [
    "sims"
   ]
  },
  {
   "cell_type": "code",
   "execution_count": 84,
   "metadata": {},
   "outputs": [
    {
     "data": {
      "text/plain": [
       "array([  757979,  2328953,  3834256, 12288405, 11674940,  6863350,\n",
       "        2660571,  9672436, 11090967,  3834255])"
      ]
     },
     "execution_count": 84,
     "metadata": {},
     "output_type": "execute_result"
    }
   ],
   "source": [
    "sorts = np.argsort(sims.data)[::-1]\n",
    "sorts[-10:]"
   ]
  },
  {
   "cell_type": "code",
   "execution_count": 109,
   "metadata": {},
   "outputs": [],
   "source": [
    "def get_most_similar_unique_pairs(sim_matrix_coo, num_pairs):\n",
    "    similar_pairs = []\n",
    "    used_images = set()\n",
    "    for data_idx in np.argsort(sim_matrix_coo.data)[::-1]:\n",
    "        a = sim_matrix_coo.row[data_idx]\n",
    "        b = sim_matrix_coo.col[data_idx]\n",
    "        if a in used_images or b in used_images:\n",
    "            continue\n",
    "        used_images.add(a)\n",
    "        used_images.add(b)\n",
    "        similar_pairs.append((a, b))\n",
    "        if len(similar_pairs) == num_pairs:\n",
    "            break\n",
    "    return similar_pairs\n",
    "similar_pairs = get_most_similar_unique_pairs(scipy.sparse.triu(valid_img_by_word.dot(valid_img_by_word.T), 1).tocoo(), 12)"
   ]
  },
  {
   "cell_type": "code",
   "execution_count": 110,
   "metadata": {},
   "outputs": [
    {
     "data": {
      "text/plain": [
       "[(836, 3414),\n",
       " (3322, 3323),\n",
       " (2622, 4295),\n",
       " (563, 1758),\n",
       " (1642, 3163),\n",
       " (3716, 3835),\n",
       " (4352, 4353),\n",
       " (489, 1614),\n",
       " (2024, 3063),\n",
       " (472, 1968),\n",
       " (1370, 3440),\n",
       " (1894, 3559)]"
      ]
     },
     "execution_count": 110,
     "metadata": {},
     "output_type": "execute_result"
    }
   ],
   "source": [
    "similar_pairs"
   ]
  },
  {
   "cell_type": "code",
   "execution_count": 111,
   "metadata": {},
   "outputs": [
    {
     "data": {
      "text/html": [
       "<div style=\"display: inline-block;\"><img src=\"http://images.cocodataset.org/train2017/000000236272.jpg\"><div>A baseball player swinging his bat at a baseball game. </div>\n",
       "<div>A baseball player has just swung his bat.</div>\n",
       "<div>A baseball hitter swinging his bat during a baseball game.</div>\n",
       "<div>A baseball player playing on a baseball field.</div>\n",
       "<div>A baseball batter swinging at a baseball pitch.</div></div>\n",
       "<div style=\"display: inline-block;\"><img src=\"http://images.cocodataset.org/train2017/000000467791.jpg\"><div>A baseball player swinging a bat on a field.</div>\n",
       "<div>A batter swinging at a pitch at a baseball game with a runner on first base.</div>\n",
       "<div>a baseball game where the batter just swung the bat </div>\n",
       "<div>A baseball player swinging his bat at the plate.</div>\n",
       "<div>Baseball players are playing baseball on a baseball field.</div></div>\n",
       "<div style=\"display: inline-block;\"><img src=\"http://images.cocodataset.org/train2017/000000247576.jpg\"><div>A red double decker bus driving down the street</div>\n",
       "<div>A large red double decker bus traveling down a street surrounded by tall buildings.</div>\n",
       "<div>A double decker bus driving down the street</div>\n",
       "<div>Double decker bus moving through the center of an old downtown area. </div>\n",
       "<div>A busy city street with a double Decker bus. </div></div>\n",
       "<div style=\"display: inline-block;\"><img src=\"http://images.cocodataset.org/train2017/000000315976.jpg\"><div>a red double decker bus is seen coming up the street</div>\n",
       "<div>A red double bus is traveling down the road. </div>\n",
       "<div>A double decker bus is on a street.</div>\n",
       "<div>A red double decker bus driving down a street.</div>\n",
       "<div>A red double decker bus is riding down the road.  </div></div>\n",
       "<div style=\"display: inline-block;\"><img src=\"http://images.cocodataset.org/train2017/000000313214.jpg\"><div>A group of people flying kites at the beach.</div>\n",
       "<div>people on a sandy beach flying multi-colored kites</div>\n",
       "<div>People flying high kites on beach with city background</div>\n",
       "<div>People together on a beach flying several kites.</div>\n",
       "<div>Several people on a beach flying their kites.</div></div>\n",
       "<div style=\"display: inline-block;\"><img src=\"http://images.cocodataset.org/train2017/000000200451.jpg\"><div>A group of people standing on top of a sandy beach.</div>\n",
       "<div>A picture of people on the beach flying kites. </div>\n",
       "<div>A crowd of people are flying kites with long tails on the beach.</div>\n",
       "<div>A group of people standing on the beach flying kites</div>\n",
       "<div>Several people flying colorful kites on a beach.</div></div>\n",
       "<div style=\"display: inline-block;\"><img src=\"http://images.cocodataset.org/train2017/000000527375.jpg\"><div>A computer desk topped with a desktop computer and a laptop.</div>\n",
       "<div>Two computers and a keyboard sit on a desk</div>\n",
       "<div>A desk with a laptop and a desktop computer.</div>\n",
       "<div>A desk with a laptop and desktop computer.</div>\n",
       "<div>A desk top computer and a laptop sitting on a wooden desk.</div></div>\n",
       "<div style=\"display: inline-block;\"><img src=\"http://images.cocodataset.org/train2017/000000164170.jpg\"><div>A desktop computer sitting on top of a wooden desk.</div>\n",
       "<div>Images on a computer screen on a desk while another laptop on the desk sits blank.</div>\n",
       "<div>A computer desk with a monitor, phone, and laptop on top of it.</div>\n",
       "<div>A desktop and laptop computer on a desk. </div>\n",
       "<div>A desk with a computer monitor, a mouse, a keyboard and a laptop computer.</div></div>\n",
       "<div style=\"display: inline-block;\"><img src=\"http://images.cocodataset.org/train2017/000000341011.jpg\"><div>a bathroom with a toilet sitting next to a sink </div>\n",
       "<div>A white sink and toilet in a room.</div>\n",
       "<div>A bathroom with a mirror, sinks, toilet and toilet roll.</div>\n",
       "<div>A bathroom that has a toilet sink and mirror in it.</div>\n",
       "<div>A bathroom with a toilet next to a sink.</div></div>\n",
       "<div style=\"display: inline-block;\"><img src=\"http://images.cocodataset.org/val2017/000000431140.jpg\"><div>A toilet and sink side by side in a bathroom and a mirror. </div>\n",
       "<div>A bathroom with a sink, mirror, and toilet with handicap rail.</div>\n",
       "<div>A toilet and sink that is in a bathroom.</div>\n",
       "<div>A bathroom with a white toilet and a white sink and a mirror</div>\n",
       "<div>A bathroom with sink, mirror, and toilet in it.</div></div>\n",
       "<div style=\"display: inline-block;\"><img src=\"http://images.cocodataset.org/train2017/000000280480.jpg\"><div>A bird is sitting on a branch among unfocused trees</div>\n",
       "<div>A bird sitting on a branch of a tree.</div>\n",
       "<div>A bird sitting on the branch of a tree.</div>\n",
       "<div>A small bird sitting on a branch in a tree</div>\n",
       "<div>A picture of a bird sitting on a tree branch</div></div>\n",
       "<div style=\"display: inline-block;\"><img src=\"http://images.cocodataset.org/train2017/000000440500.jpg\"><div>A bird sitting in a tree on a branch.</div>\n",
       "<div>A small bird perched on a branch of a tree </div>\n",
       "<div>A SMALL BIRD SITTING ON A SMALL BRANCH IN A TREE.</div>\n",
       "<div>A small bird perched on top of a tree branch.</div>\n",
       "<div>Small bird perched on a branch in a wooded area.</div></div>\n",
       "<div style=\"display: inline-block;\"><img src=\"http://images.cocodataset.org/train2017/000000349130.jpg\"><div>A cat sitting on a table behind a glass filled with wine. </div>\n",
       "<div>A cat sitting by a glass of wine.</div>\n",
       "<div>A cat is sitting on the kitchen table staring at a glass.</div>\n",
       "<div>A cat is sitting in front of a glass of wine.</div>\n",
       "<div>A cat is sitting on a chair looking at a glass of wine.</div></div>\n",
       "<div style=\"display: inline-block;\"><img src=\"http://images.cocodataset.org/train2017/000000275449.jpg\"><div>A is cat seated near a wine glass. </div>\n",
       "<div>A glass of wine placed next to a cat</div>\n",
       "<div>A cat and half empty glass of wine sitting on a table.</div>\n",
       "<div>Glass of red wine with mottled cat behind on table.</div>\n",
       "<div>A glass of wine sitting on a table in front of a grey cat.</div></div>\n",
       "<div style=\"display: inline-block;\"><img src=\"http://images.cocodataset.org/train2017/000000240739.jpg\"><div>A tennis player is swinging to hit the ball.</div>\n",
       "<div>A man playing tennis on a tennis court during the day.</div>\n",
       "<div>man playing tennis on an outdoor tennis court</div>\n",
       "<div>A man hitting a tennis ball on a tennis court.</div>\n",
       "<div>A man hitting a tennis ball with a racquet on a court.</div></div>\n",
       "<div style=\"display: inline-block;\"><img src=\"http://images.cocodataset.org/train2017/000000071815.jpg\"><div>A guy playing tennis about to hit the ball. </div>\n",
       "<div>A MAN IS HITTING A TENNIS BALL WITH A TENNIS RACKET</div>\n",
       "<div>A tennis player preparing to hit the tennis ball.</div>\n",
       "<div>a tennis player in a white shirt is playing tennis</div>\n",
       "<div>A man swinging at the ball on a tennis court.</div></div>\n",
       "<div style=\"display: inline-block;\"><img src=\"http://images.cocodataset.org/train2017/000000223777.jpg\"><div>A train car pulling away from a train station next to a forest.</div>\n",
       "<div>A train on a train track at a train depot.</div>\n",
       "<div>A train pulling into a station with buildings</div>\n",
       "<div>A train rolls down the tracks at the train station.</div>\n",
       "<div>A train is waiting at a small train station.</div></div>\n",
       "<div style=\"display: inline-block;\"><img src=\"http://images.cocodataset.org/train2017/000000401320.jpg\"><div>A train pulling into a train station pulling a line of train cars behind it.</div>\n",
       "<div>A train engine with several boxcars waiting at a train station.</div>\n",
       "<div>An older yellow train pulling into a station.</div>\n",
       "<div>A train stopped on a train track next to a train platform.</div>\n",
       "<div>a train sitting on the track while a man looks at it</div></div>\n",
       "<div style=\"display: inline-block;\"><img src=\"http://images.cocodataset.org/train2017/000000476864.jpg\"><div>A surfer in a wetsuit riding a wave</div>\n",
       "<div>A surfer rides a wave in the ocean.</div>\n",
       "<div>A man on a surfboard riding a wave.</div>\n",
       "<div>A man riding a wave on top of a surfboard.</div>\n",
       "<div>A man in a wet suit riding a high wave on his surfboard. </div></div>\n",
       "<div style=\"display: inline-block;\"><img src=\"http://images.cocodataset.org/train2017/000000240275.jpg\"><div>A surfer rides a wave in the ocean.</div>\n",
       "<div>a man is riding a wave on a board</div>\n",
       "<div>a man is riding a surfboard at the beach</div>\n",
       "<div>A man riding a surfboard on top of a wave.</div>\n",
       "<div>A surfer heads down the incline of a wave.</div></div>\n",
       "<div style=\"display: inline-block;\"><img src=\"http://images.cocodataset.org/train2017/000000227326.jpg\"><div>A man and woman that is standing near a cake.</div>\n",
       "<div>a man and woman cut into a wedding cake </div>\n",
       "<div>A bride and groom are getting help to cut the cake.</div>\n",
       "<div>A couple who is cutting their wedding cake together.</div>\n",
       "<div>A bride and groom cutting a wedding cake while the photographer gives directions.</div></div>\n",
       "<div style=\"display: inline-block;\"><img src=\"http://images.cocodataset.org/train2017/000000523217.jpg\"><div>Two people are cutting into a cake at a celebration.</div>\n",
       "<div>A bride and groom are about to cut their wedding cake. </div>\n",
       "<div>a bride and groom cutting their wedding cake</div>\n",
       "<div>A man and woman standing in front of a large cake.</div>\n",
       "<div>a married couple cut into a wedding cake </div></div>\n",
       "<div style=\"display: inline-block;\"><img src=\"http://images.cocodataset.org/train2017/000000301595.jpg\"><div>A shower and a white toilet in a small bathroom.</div>\n",
       "<div>A bathroom that has a glass shower door.</div>\n",
       "<div>a bathroom with a toilet and a sink and a shower</div>\n",
       "<div>a bathroom with a glass shower and white toilet</div>\n",
       "<div>A bathroom with a toilet, shower stall, sink and a mirror.</div></div>\n",
       "<div style=\"display: inline-block;\"><img src=\"http://images.cocodataset.org/train2017/000000396295.jpg\"><div>A bathroom shower with towel hanging from the door.</div>\n",
       "<div>A bathroom scene with a shower and toilet in view</div>\n",
       "<div>A shower with a sliding glass door in a small bathroom.</div>\n",
       "<div>A small dirty bathroom with walk in shower and toilet</div>\n",
       "<div>A white toilet and a shower in a room.</div></div>"
      ],
      "text/plain": [
       "<IPython.core.display.HTML object>"
      ]
     },
     "execution_count": 111,
     "metadata": {},
     "output_type": "execute_result"
    }
   ],
   "source": [
    "HTML('\\n'.join(show_images(pair) for pair in similar_pairs))"
   ]
  },
  {
   "cell_type": "code",
   "execution_count": 114,
   "metadata": {},
   "outputs": [
    {
     "ename": "AttributeError",
     "evalue": "'mtrand.RandomState' object has no attribute 'shuffled'",
     "output_type": "error",
     "traceback": [
      "\u001b[0;31m---------------------------------------------------------------------------\u001b[0m",
      "\u001b[0;31mAttributeError\u001b[0m                            Traceback (most recent call last)",
      "\u001b[0;32m<ipython-input-114-de4185a9fbe2>\u001b[0m in \u001b[0;36m<module>\u001b[0;34m()\u001b[0m\n\u001b[1;32m      1\u001b[0m \u001b[0mx\u001b[0m \u001b[0;34m=\u001b[0m \u001b[0mlist\u001b[0m\u001b[0;34m(\u001b[0m\u001b[0mrange\u001b[0m\u001b[0;34m(\u001b[0m\u001b[0;36m10\u001b[0m\u001b[0;34m)\u001b[0m\u001b[0;34m)\u001b[0m\u001b[0;34m\u001b[0m\u001b[0m\n\u001b[0;32m----> 2\u001b[0;31m \u001b[0mnp\u001b[0m\u001b[0;34m.\u001b[0m\u001b[0mrandom\u001b[0m\u001b[0;34m.\u001b[0m\u001b[0mRandomState\u001b[0m\u001b[0;34m(\u001b[0m\u001b[0;36m0\u001b[0m\u001b[0;34m)\u001b[0m\u001b[0;34m.\u001b[0m\u001b[0mshuffled\u001b[0m\u001b[0;34m(\u001b[0m\u001b[0mx\u001b[0m\u001b[0;34m)\u001b[0m\u001b[0;34m\u001b[0m\u001b[0m\n\u001b[0m\u001b[1;32m      3\u001b[0m \u001b[0mx\u001b[0m\u001b[0;34m\u001b[0m\u001b[0m\n",
      "\u001b[0;31mAttributeError\u001b[0m: 'mtrand.RandomState' object has no attribute 'shuffled'"
     ]
    }
   ],
   "source": [
    "x = list(range(10))\n",
    "np.random.RandomState(0).shuffle(x)\n",
    "x"
   ]
  },
  {
   "cell_type": "code",
   "execution_count": 115,
   "metadata": {},
   "outputs": [],
   "source": [
    "def get_stimulus_images():\n",
    "    sim_matrix_coo = scipy.sparse.triu(valid_img_by_word.dot(valid_img_by_word.T), 1).tocoo()\n",
    "    similar_pairs = list(map(list, get_most_similar_unique_pairs(sim_matrix_coo, 12)))\n",
    "    rs = np.random.RandomState(0)\n",
    "    rs.shuffle(similar_pairs)\n",
    "    for pair in similar_pairs:\n",
    "        rs.shuffle(pair)\n",
    "    return similar_pairs\n",
    "stimuli = get_stimulus_images()"
   ]
  },
  {
   "cell_type": "code",
   "execution_count": 116,
   "metadata": {},
   "outputs": [
    {
     "data": {
      "text/html": [
       "<div style=\"display: inline-block;\"><img src=\"http://images.cocodataset.org/train2017/000000275449.jpg\"><div>A is cat seated near a wine glass. </div>\n",
       "<div>A glass of wine placed next to a cat</div>\n",
       "<div>A cat and half empty glass of wine sitting on a table.</div>\n",
       "<div>Glass of red wine with mottled cat behind on table.</div>\n",
       "<div>A glass of wine sitting on a table in front of a grey cat.</div></div>\n",
       "<div style=\"display: inline-block;\"><img src=\"http://images.cocodataset.org/train2017/000000349130.jpg\"><div>A cat sitting on a table behind a glass filled with wine. </div>\n",
       "<div>A cat sitting by a glass of wine.</div>\n",
       "<div>A cat is sitting on the kitchen table staring at a glass.</div>\n",
       "<div>A cat is sitting in front of a glass of wine.</div>\n",
       "<div>A cat is sitting on a chair looking at a glass of wine.</div></div>\n",
       "<div style=\"display: inline-block;\"><img src=\"http://images.cocodataset.org/train2017/000000396295.jpg\"><div>A bathroom shower with towel hanging from the door.</div>\n",
       "<div>A bathroom scene with a shower and toilet in view</div>\n",
       "<div>A shower with a sliding glass door in a small bathroom.</div>\n",
       "<div>A small dirty bathroom with walk in shower and toilet</div>\n",
       "<div>A white toilet and a shower in a room.</div></div>\n",
       "<div style=\"display: inline-block;\"><img src=\"http://images.cocodataset.org/train2017/000000301595.jpg\"><div>A shower and a white toilet in a small bathroom.</div>\n",
       "<div>A bathroom that has a glass shower door.</div>\n",
       "<div>a bathroom with a toilet and a sink and a shower</div>\n",
       "<div>a bathroom with a glass shower and white toilet</div>\n",
       "<div>A bathroom with a toilet, shower stall, sink and a mirror.</div></div>\n",
       "<div style=\"display: inline-block;\"><img src=\"http://images.cocodataset.org/val2017/000000431140.jpg\"><div>A toilet and sink side by side in a bathroom and a mirror. </div>\n",
       "<div>A bathroom with a sink, mirror, and toilet with handicap rail.</div>\n",
       "<div>A toilet and sink that is in a bathroom.</div>\n",
       "<div>A bathroom with a white toilet and a white sink and a mirror</div>\n",
       "<div>A bathroom with sink, mirror, and toilet in it.</div></div>\n",
       "<div style=\"display: inline-block;\"><img src=\"http://images.cocodataset.org/train2017/000000341011.jpg\"><div>a bathroom with a toilet sitting next to a sink </div>\n",
       "<div>A white sink and toilet in a room.</div>\n",
       "<div>A bathroom with a mirror, sinks, toilet and toilet roll.</div>\n",
       "<div>A bathroom that has a toilet sink and mirror in it.</div>\n",
       "<div>A bathroom with a toilet next to a sink.</div></div>\n",
       "<div style=\"display: inline-block;\"><img src=\"http://images.cocodataset.org/train2017/000000227326.jpg\"><div>A man and woman that is standing near a cake.</div>\n",
       "<div>a man and woman cut into a wedding cake </div>\n",
       "<div>A bride and groom are getting help to cut the cake.</div>\n",
       "<div>A couple who is cutting their wedding cake together.</div>\n",
       "<div>A bride and groom cutting a wedding cake while the photographer gives directions.</div></div>\n",
       "<div style=\"display: inline-block;\"><img src=\"http://images.cocodataset.org/train2017/000000523217.jpg\"><div>Two people are cutting into a cake at a celebration.</div>\n",
       "<div>A bride and groom are about to cut their wedding cake. </div>\n",
       "<div>a bride and groom cutting their wedding cake</div>\n",
       "<div>A man and woman standing in front of a large cake.</div>\n",
       "<div>a married couple cut into a wedding cake </div></div>\n",
       "<div style=\"display: inline-block;\"><img src=\"http://images.cocodataset.org/train2017/000000200451.jpg\"><div>A group of people standing on top of a sandy beach.</div>\n",
       "<div>A picture of people on the beach flying kites. </div>\n",
       "<div>A crowd of people are flying kites with long tails on the beach.</div>\n",
       "<div>A group of people standing on the beach flying kites</div>\n",
       "<div>Several people flying colorful kites on a beach.</div></div>\n",
       "<div style=\"display: inline-block;\"><img src=\"http://images.cocodataset.org/train2017/000000313214.jpg\"><div>A group of people flying kites at the beach.</div>\n",
       "<div>people on a sandy beach flying multi-colored kites</div>\n",
       "<div>People flying high kites on beach with city background</div>\n",
       "<div>People together on a beach flying several kites.</div>\n",
       "<div>Several people on a beach flying their kites.</div></div>\n",
       "<div style=\"display: inline-block;\"><img src=\"http://images.cocodataset.org/train2017/000000223777.jpg\"><div>A train car pulling away from a train station next to a forest.</div>\n",
       "<div>A train on a train track at a train depot.</div>\n",
       "<div>A train pulling into a station with buildings</div>\n",
       "<div>A train rolls down the tracks at the train station.</div>\n",
       "<div>A train is waiting at a small train station.</div></div>\n",
       "<div style=\"display: inline-block;\"><img src=\"http://images.cocodataset.org/train2017/000000401320.jpg\"><div>A train pulling into a train station pulling a line of train cars behind it.</div>\n",
       "<div>A train engine with several boxcars waiting at a train station.</div>\n",
       "<div>An older yellow train pulling into a station.</div>\n",
       "<div>A train stopped on a train track next to a train platform.</div>\n",
       "<div>a train sitting on the track while a man looks at it</div></div>\n",
       "<div style=\"display: inline-block;\"><img src=\"http://images.cocodataset.org/train2017/000000247576.jpg\"><div>A red double decker bus driving down the street</div>\n",
       "<div>A large red double decker bus traveling down a street surrounded by tall buildings.</div>\n",
       "<div>A double decker bus driving down the street</div>\n",
       "<div>Double decker bus moving through the center of an old downtown area. </div>\n",
       "<div>A busy city street with a double Decker bus. </div></div>\n",
       "<div style=\"display: inline-block;\"><img src=\"http://images.cocodataset.org/train2017/000000315976.jpg\"><div>a red double decker bus is seen coming up the street</div>\n",
       "<div>A red double bus is traveling down the road. </div>\n",
       "<div>A double decker bus is on a street.</div>\n",
       "<div>A red double decker bus driving down a street.</div>\n",
       "<div>A red double decker bus is riding down the road.  </div></div>\n",
       "<div style=\"display: inline-block;\"><img src=\"http://images.cocodataset.org/train2017/000000071815.jpg\"><div>A guy playing tennis about to hit the ball. </div>\n",
       "<div>A MAN IS HITTING A TENNIS BALL WITH A TENNIS RACKET</div>\n",
       "<div>A tennis player preparing to hit the tennis ball.</div>\n",
       "<div>a tennis player in a white shirt is playing tennis</div>\n",
       "<div>A man swinging at the ball on a tennis court.</div></div>\n",
       "<div style=\"display: inline-block;\"><img src=\"http://images.cocodataset.org/train2017/000000240739.jpg\"><div>A tennis player is swinging to hit the ball.</div>\n",
       "<div>A man playing tennis on a tennis court during the day.</div>\n",
       "<div>man playing tennis on an outdoor tennis court</div>\n",
       "<div>A man hitting a tennis ball on a tennis court.</div>\n",
       "<div>A man hitting a tennis ball with a racquet on a court.</div></div>\n",
       "<div style=\"display: inline-block;\"><img src=\"http://images.cocodataset.org/train2017/000000240275.jpg\"><div>A surfer rides a wave in the ocean.</div>\n",
       "<div>a man is riding a wave on a board</div>\n",
       "<div>a man is riding a surfboard at the beach</div>\n",
       "<div>A man riding a surfboard on top of a wave.</div>\n",
       "<div>A surfer heads down the incline of a wave.</div></div>\n",
       "<div style=\"display: inline-block;\"><img src=\"http://images.cocodataset.org/train2017/000000476864.jpg\"><div>A surfer in a wetsuit riding a wave</div>\n",
       "<div>A surfer rides a wave in the ocean.</div>\n",
       "<div>A man on a surfboard riding a wave.</div>\n",
       "<div>A man riding a wave on top of a surfboard.</div>\n",
       "<div>A man in a wet suit riding a high wave on his surfboard. </div></div>\n",
       "<div style=\"display: inline-block;\"><img src=\"http://images.cocodataset.org/train2017/000000527375.jpg\"><div>A computer desk topped with a desktop computer and a laptop.</div>\n",
       "<div>Two computers and a keyboard sit on a desk</div>\n",
       "<div>A desk with a laptop and a desktop computer.</div>\n",
       "<div>A desk with a laptop and desktop computer.</div>\n",
       "<div>A desk top computer and a laptop sitting on a wooden desk.</div></div>\n",
       "<div style=\"display: inline-block;\"><img src=\"http://images.cocodataset.org/train2017/000000164170.jpg\"><div>A desktop computer sitting on top of a wooden desk.</div>\n",
       "<div>Images on a computer screen on a desk while another laptop on the desk sits blank.</div>\n",
       "<div>A computer desk with a monitor, phone, and laptop on top of it.</div>\n",
       "<div>A desktop and laptop computer on a desk. </div>\n",
       "<div>A desk with a computer monitor, a mouse, a keyboard and a laptop computer.</div></div>\n",
       "<div style=\"display: inline-block;\"><img src=\"http://images.cocodataset.org/train2017/000000236272.jpg\"><div>A baseball player swinging his bat at a baseball game. </div>\n",
       "<div>A baseball player has just swung his bat.</div>\n",
       "<div>A baseball hitter swinging his bat during a baseball game.</div>\n",
       "<div>A baseball player playing on a baseball field.</div>\n",
       "<div>A baseball batter swinging at a baseball pitch.</div></div>\n",
       "<div style=\"display: inline-block;\"><img src=\"http://images.cocodataset.org/train2017/000000467791.jpg\"><div>A baseball player swinging a bat on a field.</div>\n",
       "<div>A batter swinging at a pitch at a baseball game with a runner on first base.</div>\n",
       "<div>a baseball game where the batter just swung the bat </div>\n",
       "<div>A baseball player swinging his bat at the plate.</div>\n",
       "<div>Baseball players are playing baseball on a baseball field.</div></div>\n",
       "<div style=\"display: inline-block;\"><img src=\"http://images.cocodataset.org/train2017/000000280480.jpg\"><div>A bird is sitting on a branch among unfocused trees</div>\n",
       "<div>A bird sitting on a branch of a tree.</div>\n",
       "<div>A bird sitting on the branch of a tree.</div>\n",
       "<div>A small bird sitting on a branch in a tree</div>\n",
       "<div>A picture of a bird sitting on a tree branch</div></div>\n",
       "<div style=\"display: inline-block;\"><img src=\"http://images.cocodataset.org/train2017/000000440500.jpg\"><div>A bird sitting in a tree on a branch.</div>\n",
       "<div>A small bird perched on a branch of a tree </div>\n",
       "<div>A SMALL BIRD SITTING ON A SMALL BRANCH IN A TREE.</div>\n",
       "<div>A small bird perched on top of a tree branch.</div>\n",
       "<div>Small bird perched on a branch in a wooded area.</div></div>"
      ],
      "text/plain": [
       "<IPython.core.display.HTML object>"
      ]
     },
     "execution_count": 116,
     "metadata": {},
     "output_type": "execute_result"
    }
   ],
   "source": [
    "HTML('\\n'.join(show_images(pair) for pair in stimuli))"
   ]
  },
  {
   "cell_type": "markdown",
   "metadata": {},
   "source": [
    "# Here are the images that we're using in the experiment!"
   ]
  },
  {
   "cell_type": "code",
   "execution_count": 118,
   "metadata": {},
   "outputs": [
    {
     "data": {
      "text/plain": [
       "[[275449, 349130],\n",
       " [396295, 301595],\n",
       " [431140, 341011],\n",
       " [227326, 523217],\n",
       " [200451, 313214],\n",
       " [223777, 401320],\n",
       " [247576, 315976],\n",
       " [71815, 240739],\n",
       " [240275, 476864],\n",
       " [527375, 164170],\n",
       " [236272, 467791],\n",
       " [280480, 440500]]"
      ]
     },
     "execution_count": 118,
     "metadata": {},
     "output_type": "execute_result"
    }
   ],
   "source": [
    "[[valid_images[i]['cocoid'] for i in pair] for pair in stimuli]"
   ]
  },
  {
   "cell_type": "code",
   "execution_count": 100,
   "metadata": {},
   "outputs": [
    {
     "data": {
      "text/plain": [
       "3.0180957701134536"
      ]
     },
     "execution_count": 100,
     "metadata": {},
     "output_type": "execute_result"
    }
   ],
   "source": [
    "\n",
    "vectorizer.idf_[vectorizer.vocabulary_['person']]"
   ]
  },
  {
   "cell_type": "code",
   "execution_count": 77,
   "metadata": {},
   "outputs": [],
   "source": [
    "def show_caps(indices):\n",
    "    print('\\n\\n'.join(\n",
    "        '\\n'.join([sent['raw'] for sent in images_by_split['val'][idx]['sentences']])\n",
    "        for idx in indices))"
   ]
  },
  {
   "cell_type": "code",
   "execution_count": 104,
   "metadata": {},
   "outputs": [
    {
     "data": {
      "text/plain": [
       "236272"
      ]
     },
     "execution_count": 104,
     "metadata": {},
     "output_type": "execute_result"
    }
   ],
   "source": [
    "valid_images[836]['cocoid']"
   ]
  },
  {
   "cell_type": "code",
   "execution_count": 95,
   "metadata": {},
   "outputs": [
    {
     "data": {
      "text/html": [
       "<div style=\"display: inline-block;\"><img src=\"http://images.cocodataset.org/train2017/000000236272.jpg\"><div>A baseball player swinging his bat at a baseball game. </div>\n",
       "<div>A baseball player has just swung his bat.</div>\n",
       "<div>A baseball hitter swinging his bat during a baseball game.</div>\n",
       "<div>A baseball player playing on a baseball field.</div>\n",
       "<div>A baseball batter swinging at a baseball pitch.</div></div>\n",
       "<div style=\"display: inline-block;\"><img src=\"http://images.cocodataset.org/train2017/000000336654.jpg\"><div>Professional baseball player at bat at citi stadium.</div>\n",
       "<div>A baseball player standing on a baseball field swinging a bat. </div>\n",
       "<div>A baseball player has just swung his bat at a pitch.</div>\n",
       "<div>A baseball player has swung a baseball bat.</div>\n",
       "<div>A baseball player swinging his bat in front of a crowd.</div></div>"
      ],
      "text/plain": [
       "<IPython.core.display.HTML object>"
      ]
     },
     "execution_count": 95,
     "metadata": {},
     "output_type": "execute_result"
    }
   ],
   "source": [
    "# HTML(show_images([153, 3323]))\n",
    "# HTML(show_images([489, 1614]))\n",
    "HTML(show_images([836, 1508]))\n",
    "# HTML(show_images([4352, 4353]))"
   ]
  },
  {
   "cell_type": "code",
   "execution_count": 35,
   "metadata": {},
   "outputs": [
    {
     "data": {
      "text/plain": [
       "['A child holding a flowered umbrella and petting a yak.',\n",
       " 'A young man holding an umbrella next to a herd of cattle.',\n",
       " 'a young boy barefoot holding an umbrella touching the horn of a cow',\n",
       " 'A young boy with an umbrella who is touching the horn of a cow.',\n",
       " 'A boy holding an umbrella while standing next to livestock.']"
      ]
     },
     "execution_count": 35,
     "metadata": {},
     "output_type": "execute_result"
    }
   ],
   "source": [
    "[sent['raw'] for sent in images_by_split['val'][0]['sentences']]"
   ]
  },
  {
   "cell_type": "code",
   "execution_count": 42,
   "metadata": {},
   "outputs": [
    {
     "data": {
      "text/plain": [
       "array([ 293, 1648,  755, 4121, 3980, 1459, 3607,  943, 2166,    0])"
      ]
     },
     "execution_count": 42,
     "metadata": {},
     "output_type": "execute_result"
    }
   ],
   "source": [
    "np.argsort(sims[0].A[0])[-10:]"
   ]
  },
  {
   "cell_type": "code",
   "execution_count": 53,
   "metadata": {},
   "outputs": [],
   "source": [
    "closest_data_indices = np.argsort(sims.data)"
   ]
  },
  {
   "cell_type": "code",
   "execution_count": 46,
   "metadata": {},
   "outputs": [],
   "source": [
    "from sklearn.metrics import pairwise"
   ]
  },
  {
   "cell_type": "code",
   "execution_count": 50,
   "metadata": {},
   "outputs": [
    {
     "data": {
      "text/plain": [
       "(array([2165]), array([0.91825199]))"
      ]
     },
     "execution_count": 50,
     "metadata": {},
     "output_type": "execute_result"
    }
   ],
   "source": [
    "pairwise.pairwise_distances_argmin_min(valid_img_by_word[0], valid_img_by_word[1:])\n"
   ]
  },
  {
   "cell_type": "code",
   "execution_count": 52,
   "metadata": {},
   "outputs": [
    {
     "data": {
      "text/plain": [
       "['Young boy holding an umbrella on a rainy day.',\n",
       " 'The boy is walking in the rain with an umbrella.',\n",
       " 'a boy holding an umbrella as he walks down the road ',\n",
       " 'a young boy walks towards the camera holding an umbrella ',\n",
       " 'A young boy with an umbrella covering on a rainy day']"
      ]
     },
     "execution_count": 52,
     "metadata": {},
     "output_type": "execute_result"
    }
   ],
   "source": [
    "[sent['raw'] for sent in images_by_split['val'][2166]['sentences']]"
   ]
  },
  {
   "cell_type": "code",
   "execution_count": 45,
   "metadata": {},
   "outputs": [
    {
     "name": "stdout",
     "output_type": "stream",
     "text": [
      "A child holding a flowered umbrella and petting a yak.\n",
      "A young man holding an umbrella next to a herd of cattle.\n",
      "a young boy barefoot holding an umbrella touching the horn of a cow\n",
      "A young boy with an umbrella who is touching the horn of a cow.\n",
      "A boy holding an umbrella while standing next to livestock.\n",
      "\n",
      "Young boy holding an umbrella on a rainy day.\n",
      "The boy is walking in the rain with an umbrella.\n",
      "a boy holding an umbrella as he walks down the road \n",
      "a young boy walks towards the camera holding an umbrella \n",
      "A young boy with an umbrella covering on a rainy day\n",
      "\n",
      "A woman walking down a street holding an umbrella.\n",
      "A woman with an umbrella and a man walking.\n",
      "A woman is standing beside an older gentleman while holding an umbrella.\n",
      "A woman holding an umbrella while a man walks behind her.\n",
      "A woman walking with a man and holding an umbrella looks off to the side. \n",
      "\n",
      "an image of a woman holding an umbrella with her coat on\n",
      "A woman holding an umbrella in the rain\n",
      "A woman holding a white umbrella with a sleek car in the background.\n",
      "A woman holding an umbrella is standing near a sports car track.\n",
      "A woman with an umbrella standing next to a parking lot.\n",
      "\n",
      "A young lady poses for a photograph while holding an umbrella.\n",
      "A woman on a sidewalk holding an umbrella.\n",
      "A beautiful woman walking down a sidewalk while looking over her should and carrying a blue umbrella.\n",
      "A girl holds an umbrella and looks back.\n",
      "a  young girl holding an umbrella and walking down the sidewalk\n",
      "\n",
      "A woman is standing on cobblestone with an umbrella.\n",
      "A woman in blue jeans and a black coat stands under a blue umbrella.\n",
      "a person holding an open umbrella posing for a photo\n",
      "A woman stands in the sun holding an umbrella \n",
      "A woman on the street holding an umbrella.\n",
      "\n",
      "a close up of a child holding a closed umbrella\n",
      "A young girl stands holding a red umbrella.\n",
      "A little girl holding an umbrella in her hand.\n",
      "A little girl holding a red umbrella in her hand.\n",
      "A small asian girl holding a red umbrella.\n",
      "\n",
      "A woman holding an umbrella standing next to a black wall.\n",
      "A woman is standing under her umbrella in the rain.\n",
      "A woman holding a brown umbrella standing behind another umbrella on the street.\n",
      "Woman with umbrella standing on sidewalk in the rain.\n",
      "Woman with umbrella on a rainy day, near a broken, abandoned umbrella.\n",
      "\n",
      "A man is holding an umbrella beside a truck.\n",
      "A man is walking by a truck holding an umbrella.\n",
      "A man walking past a truck with an umbrella.\n",
      "Black and white image of man with an umbrella on a city street.\n",
      "A black and white picture of a man with an umbrella standing in front of a truck.\n",
      "\n",
      "A man sitting outside under an umbrella using a laptop.\n",
      "a man that is under a blue umbrella\n",
      "A man in a suite sitting in a chair with a laptop and holding an umbrella.\n",
      "A young man dressed in a suit sits under an umbrella. \n",
      "A man sitting on a chair with a laptop holding an umbrella.\n"
     ]
    }
   ],
   "source": [
    "print('\\n\\n'.join([\n",
    "    '\\n'.join([sent['raw'] for sent in images_by_split['val'][idx]['sentences']])\n",
    "    for idx in np.argsort(sims[0].A[0])[-10:][::-1]]))"
   ]
  },
  {
   "cell_type": "code",
   "execution_count": null,
   "metadata": {},
   "outputs": [],
   "source": []
  },
  {
   "cell_type": "code",
   "execution_count": null,
   "metadata": {},
   "outputs": [],
   "source": []
  },
  {
   "cell_type": "code",
   "execution_count": null,
   "metadata": {},
   "outputs": [],
   "source": []
  },
  {
   "cell_type": "code",
   "execution_count": 9,
   "metadata": {},
   "outputs": [
    {
     "name": "stderr",
     "output_type": "stream",
     "text": [
      "/Users/kcarnold/anaconda3/envs/py36/lib/python3.6/site-packages/h5py/__init__.py:36: FutureWarning: Conversion of the second argument of issubdtype from `float` to `np.floating` is deprecated. In future, it will be treated as `np.float64 == np.dtype(float).type`.\n",
      "  from ._conv import register_converters as _register_converters\n"
     ]
    }
   ],
   "source": [
    "import h5py"
   ]
  },
  {
   "cell_type": "code",
   "execution_count": 30,
   "metadata": {},
   "outputs": [],
   "source": [
    "img_data_file = h5py.File('/Users/kcarnold/code/textrec/models-aside/feats_by_imgid.h5')"
   ]
  },
  {
   "cell_type": "code",
   "execution_count": 31,
   "metadata": {},
   "outputs": [],
   "source": [
    "def get_vec_for_image(cocoid):\n",
    "    return img_data_file[str(cocoid)][:].mean(axis=0)"
   ]
  },
  {
   "cell_type": "code",
   "execution_count": 32,
   "metadata": {},
   "outputs": [
    {
     "data": {
      "application/vnd.jupyter.widget-view+json": {
       "model_id": "cd7da254c0554a61bd9ae02f2a475a30",
       "version_major": 2,
       "version_minor": 0
      },
      "text/html": [
       "<p>Failed to display Jupyter Widget of type <code>HBox</code>.</p>\n",
       "<p>\n",
       "  If you're reading this message in Jupyter Notebook or JupyterLab, it may mean\n",
       "  that the widgets JavaScript is still loading. If this message persists, it\n",
       "  likely means that the widgets JavaScript library is either not installed or\n",
       "  not enabled. See the <a href=\"https://ipywidgets.readthedocs.io/en/stable/user_install.html\">Jupyter\n",
       "  Widgets Documentation</a> for setup instructions.\n",
       "</p>\n",
       "<p>\n",
       "  If you're reading this message in another notebook frontend (for example, a static\n",
       "  rendering on GitHub or <a href=\"https://nbviewer.jupyter.org/\">NBViewer</a>),\n",
       "  it may mean that your frontend doesn't currently support widgets.\n",
       "</p>\n"
      ],
      "text/plain": [
       "HBox(children=(IntProgress(value=0, max=123287), HTML(value='')))"
      ]
     },
     "metadata": {},
     "output_type": "display_data"
    },
    {
     "name": "stdout",
     "output_type": "stream",
     "text": [
      "\n"
     ]
    }
   ],
   "source": [
    "mean_features = np.array([get_vec_for_image(img['cocoid']) for img in tqdm.tqdm_notebook(images)])"
   ]
  },
  {
   "cell_type": "code",
   "execution_count": null,
   "metadata": {},
   "outputs": [],
   "source": [
    "from sklearn.metrics import pairwise_distances"
   ]
  },
  {
   "cell_type": "code",
   "execution_count": null,
   "metadata": {},
   "outputs": [],
   "source": [
    "pdists = pairwise_distances(mean_features)"
   ]
  },
  {
   "cell_type": "code",
   "execution_count": null,
   "metadata": {},
   "outputs": [],
   "source": [
    "def show_similar_images(valid_idx, n=10):\n",
    "    return '\\n'.join(\n",
    "        '<img src=\"{}\">'.format(coco_url(valid_images[idx]['cocoid']))\n",
    "        for idx in np.argsort(pdists[valid_idx])[:n])\n",
    "HTML(show_similar_images(1))"
   ]
  },
  {
   "cell_type": "code",
   "execution_count": null,
   "metadata": {},
   "outputs": [],
   "source": []
  },
  {
   "cell_type": "code",
   "execution_count": 18,
   "metadata": {},
   "outputs": [
    {
     "data": {
      "text/html": [
       "<img src=\"http://images.cocodataset.org/train2017/000000360772.jpg\">\n",
       "<img src=\"http://images.cocodataset.org/train2017/000000575946.jpg\">\n",
       "<img src=\"http://images.cocodataset.org/train2017/000000572399.jpg\">\n",
       "<img src=\"http://images.cocodataset.org/train2017/000000030432.jpg\">\n",
       "<img src=\"http://images.cocodataset.org/val2017/000000431140.jpg\">\n",
       "<img src=\"http://images.cocodataset.org/train2017/000000431352.jpg\">\n",
       "<img src=\"http://images.cocodataset.org/train2017/000000098895.jpg\">\n",
       "<img src=\"http://images.cocodataset.org/train2017/000000071618.jpg\">\n",
       "<img src=\"http://images.cocodataset.org/train2017/000000144809.jpg\">\n",
       "<img src=\"http://images.cocodataset.org/train2017/000000485916.jpg\">"
      ],
      "text/plain": [
       "<IPython.core.display.HTML object>"
      ]
     },
     "execution_count": 18,
     "metadata": {},
     "output_type": "execute_result"
    }
   ],
   "source": [
    "HTML(show_similar_images(3))"
   ]
  }
 ],
 "metadata": {
  "kernelspec": {
   "display_name": "Python 3",
   "language": "python",
   "name": "python3"
  },
  "language_info": {
   "codemirror_mode": {
    "name": "ipython",
    "version": 3
   },
   "file_extension": ".py",
   "mimetype": "text/x-python",
   "name": "python",
   "nbconvert_exporter": "python",
   "pygments_lexer": "ipython3",
   "version": "3.6.4"
  }
 },
 "nbformat": 4,
 "nbformat_minor": 2
}
