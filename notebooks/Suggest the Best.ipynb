{
 "cells": [
  {
   "cell_type": "code",
   "execution_count": 18,
   "metadata": {},
   "outputs": [],
   "source": [
    "import datetime\n",
    "import json\n",
    "import os\n",
    "import pathlib\n",
    "from contextlib import contextmanager\n",
    "\n",
    "import matplotlib as mpl\n",
    "import matplotlib.pyplot as plt\n",
    "import numpy as np\n",
    "import pandas as pd\n",
    "import seaborn as sns\n",
    "import toolz\n",
    "import yaml\n",
    "\n",
    "from textrec.paths import paths\n",
    "\n",
    "from IPython.display import display, HTML"
   ]
  },
  {
   "cell_type": "code",
   "execution_count": 14,
   "metadata": {},
   "outputs": [],
   "source": [
    "pd.set_option('display.max_colwidth', 200)"
   ]
  },
  {
   "cell_type": "markdown",
   "metadata": {},
   "source": [
    "# Find good examples from existing data"
   ]
  },
  {
   "cell_type": "code",
   "execution_count": 4,
   "metadata": {},
   "outputs": [],
   "source": [
    "trial_level_data = pd.read_csv(\n",
    "    paths.analyzed / f\"combined_data.csv\", dtype={\"stimulus\": str}\n",
    ")\n",
    "\n",
    "assert len(trial_level_data[trial_level_data[\"corrected_text\"].isnull()]) == 0\n",
    "\n",
    "for col in \"participant stimulus\".split():\n",
    "    trial_level_data[col] = trial_level_data[col].astype(\"category\")\n",
    "\n",
    "condition_type = pd.api.types.CategoricalDtype(\n",
    "    categories=[\"gated\", \"contextual\", \"standard\", \"norecs\"], ordered=True\n",
    ")\n",
    "trial_level_data[\"condition\"] = trial_level_data[\"condition\"].astype(condition_type)\n"
   ]
  },
  {
   "cell_type": "code",
   "execution_count": 5,
   "metadata": {},
   "outputs": [],
   "source": [
    "dataset = trial_level_data[['participant', 'stimulus', 'condition', 'corrected_text']].rename(columns={'corrected_text': 'text'})"
   ]
  },
  {
   "cell_type": "code",
   "execution_count": 6,
   "metadata": {},
   "outputs": [],
   "source": [
    "def strip_uninformative(text):\n",
    "    text = text.strip()\n",
    "    for beginning in ['there is', 'there are', 'a view of', 'a photo of', 'a photo shows']:\n",
    "        beginning = beginning + ' '\n",
    "        if text.startswith(beginning):\n",
    "            text = text[len(beginning):]\n",
    "            return strip_uninformative(text)\n",
    "    return text\n",
    "dataset['text'] = dataset.text.str.strip().str.rstrip('.')\n",
    "dataset['text'] = dataset.text.apply(strip_uninformative)"
   ]
  },
  {
   "cell_type": "code",
   "execution_count": 7,
   "metadata": {},
   "outputs": [],
   "source": [
    "import wordfreq\n",
    "\n",
    "dataset['num_words'] = [\n",
    "    len(wordfreq.tokenize(text, 'en'))\n",
    "    for text in dataset.text]\n",
    "\n",
    "dataset['min_freq'] = [\n",
    "    np.min([wordfreq.zipf_frequency(tok, 'en') for tok in wordfreq.tokenize(text, 'en')])\n",
    "    for text in dataset.text]\n",
    "\n",
    "dataset['mean_freq'] = [\n",
    "    np.mean([wordfreq.zipf_frequency(tok, 'en') for tok in wordfreq.tokenize(text, 'en')])\n",
    "    for text in dataset.text]"
   ]
  },
  {
   "cell_type": "code",
   "execution_count": 8,
   "metadata": {},
   "outputs": [],
   "source": [
    "dataset['mean_rarity'] = (7 - dataset.mean_freq) / 7\n",
    "dataset['total_rarity'] = dataset['mean_rarity'] * dataset['num_words']"
   ]
  },
  {
   "cell_type": "code",
   "execution_count": 11,
   "metadata": {},
   "outputs": [],
   "source": [
    "dataset['predicted_details'] = dataset.num_words * 0.148274 + dataset.total_rarity * 1.198227"
   ]
  },
  {
   "cell_type": "code",
   "execution_count": 12,
   "metadata": {},
   "outputs": [
    {
     "data": {
      "text/plain": [
       "0.1711752857142857"
      ]
     },
     "execution_count": 12,
     "metadata": {},
     "output_type": "execute_result"
    }
   ],
   "source": [
    "1.198227/7"
   ]
  },
  {
   "cell_type": "markdown",
   "metadata": {},
   "source": [
    "What is the marginal effect of adding an additional word?\n",
    "\n",
    "0.148274 - .171175 zipf_freq(word)"
   ]
  },
  {
   "cell_type": "code",
   "execution_count": 23,
   "metadata": {},
   "outputs": [
    {
     "data": {
      "text/html": [
       "<div>\n",
       "<style scoped>\n",
       "    .dataframe tbody tr th:only-of-type {\n",
       "        vertical-align: middle;\n",
       "    }\n",
       "\n",
       "    .dataframe tbody tr th {\n",
       "        vertical-align: top;\n",
       "    }\n",
       "\n",
       "    .dataframe thead th {\n",
       "        text-align: right;\n",
       "    }\n",
       "</style>\n",
       "<table border=\"1\" class=\"dataframe\">\n",
       "  <thead>\n",
       "    <tr style=\"text-align: right;\">\n",
       "      <th></th>\n",
       "      <th>participant</th>\n",
       "      <th>stimulus</th>\n",
       "      <th>condition</th>\n",
       "      <th>text</th>\n",
       "      <th>num_words</th>\n",
       "      <th>min_freq</th>\n",
       "      <th>mean_freq</th>\n",
       "      <th>mean_rarity</th>\n",
       "      <th>total_rarity</th>\n",
       "      <th>predicted_details</th>\n",
       "    </tr>\n",
       "  </thead>\n",
       "  <tbody>\n",
       "    <tr>\n",
       "      <th>191</th>\n",
       "      <td>4pc77f</td>\n",
       "      <td>275449</td>\n",
       "      <td>standard</td>\n",
       "      <td>a glass of red wine is in the foreground. a tabby cat is crouched on the table behind it, looking up cheekily at the camera holder. you can see the picture taker reflected in the glass</td>\n",
       "      <td>36</td>\n",
       "      <td>1.91</td>\n",
       "      <td>5.801111</td>\n",
       "      <td>0.171270</td>\n",
       "      <td>6.165714</td>\n",
       "      <td>12.725789</td>\n",
       "    </tr>\n",
       "    <tr>\n",
       "      <th>229</th>\n",
       "      <td>5cgvvc</td>\n",
       "      <td>396295</td>\n",
       "      <td>norecs</td>\n",
       "      <td>two shower doors closed with opaque glass. a beige towel hangs on the handle of the door on the right. visible through the glass are various showering implements hanging from a rack</td>\n",
       "      <td>32</td>\n",
       "      <td>3.11</td>\n",
       "      <td>5.537813</td>\n",
       "      <td>0.208884</td>\n",
       "      <td>6.684286</td>\n",
       "      <td>12.754060</td>\n",
       "    </tr>\n",
       "    <tr>\n",
       "      <th>1462</th>\n",
       "      <td>7h666q</td>\n",
       "      <td>236272</td>\n",
       "      <td>norecs</td>\n",
       "      <td>a baseball player wearing a black helmet and a black shirt with a red stripe on the sleeve and a number eight on the back with grey pants swinging a bat in front of a catcher and his teammates</td>\n",
       "      <td>39</td>\n",
       "      <td>3.39</td>\n",
       "      <td>5.917436</td>\n",
       "      <td>0.154652</td>\n",
       "      <td>6.031429</td>\n",
       "      <td>13.009707</td>\n",
       "    </tr>\n",
       "    <tr>\n",
       "      <th>736</th>\n",
       "      <td>g55cwj</td>\n",
       "      <td>71815</td>\n",
       "      <td>standard</td>\n",
       "      <td>a man is lunging to his right and swinging his racket at a tennis ball. he is wearing a pink polo and brown shorts with white shoes. the word toronto is written underneath his knee</td>\n",
       "      <td>35</td>\n",
       "      <td>2.26</td>\n",
       "      <td>5.686286</td>\n",
       "      <td>0.187673</td>\n",
       "      <td>6.568571</td>\n",
       "      <td>13.060230</td>\n",
       "    </tr>\n",
       "    <tr>\n",
       "      <th>1730</th>\n",
       "      <td>533r6c</td>\n",
       "      <td>431140</td>\n",
       "      <td>standard</td>\n",
       "      <td>a bathroom with one white sink and a white toilet with a toilet paper roll on the back lid sits next to the sink which has a mirror above it which shows the exact same toilet across the room</td>\n",
       "      <td>39</td>\n",
       "      <td>3.78</td>\n",
       "      <td>5.905128</td>\n",
       "      <td>0.156410</td>\n",
       "      <td>6.100000</td>\n",
       "      <td>13.091871</td>\n",
       "    </tr>\n",
       "    <tr>\n",
       "      <th>231</th>\n",
       "      <td>5cgvvc</td>\n",
       "      <td>227326</td>\n",
       "      <td>norecs</td>\n",
       "      <td>the bride and groom cut wedding cake together. the groom is on the left and the bride on the right. a photographer to their left is guiding their hands. another photographer in the left background snaps a picture from behind</td>\n",
       "      <td>40</td>\n",
       "      <td>3.58</td>\n",
       "      <td>5.944750</td>\n",
       "      <td>0.150750</td>\n",
       "      <td>6.030000</td>\n",
       "      <td>13.156269</td>\n",
       "    </tr>\n",
       "    <tr>\n",
       "      <th>238</th>\n",
       "      <td>5cgvvc</td>\n",
       "      <td>236272</td>\n",
       "      <td>gated</td>\n",
       "      <td>a baseball player swings at homeplate. he wears a uniform with a black top and grey pants. the number eight is visible on his back in orange. the catcher's arm and mitt are visible on the left. other players watch in the background</td>\n",
       "      <td>43</td>\n",
       "      <td>1.14</td>\n",
       "      <td>5.745116</td>\n",
       "      <td>0.179269</td>\n",
       "      <td>7.708571</td>\n",
       "      <td>15.612400</td>\n",
       "    </tr>\n",
       "    <tr>\n",
       "      <th>235</th>\n",
       "      <td>5cgvvc</td>\n",
       "      <td>71815</td>\n",
       "      <td>standard</td>\n",
       "      <td>a tennis player is preparing to backhand a ball that is in midair in front of him. he wears a white shirt and green shorts with white sneakers. he behind the baseline on what looks like grass. the word toronto is printed on the grass in white</td>\n",
       "      <td>47</td>\n",
       "      <td>2.70</td>\n",
       "      <td>5.850000</td>\n",
       "      <td>0.164286</td>\n",
       "      <td>7.721429</td>\n",
       "      <td>16.220902</td>\n",
       "    </tr>\n",
       "    <tr>\n",
       "      <th>230</th>\n",
       "      <td>5cgvvc</td>\n",
       "      <td>431140</td>\n",
       "      <td>norecs</td>\n",
       "      <td>this is a bathroom with a white commode on the left and a white sink with a mirror above on the right. there is a roll of toilet paper on top of the toilet tank and behind this is a stainless steel grab bar mounted to the wall. another commode is visible in the mirror</td>\n",
       "      <td>55</td>\n",
       "      <td>2.25</td>\n",
       "      <td>6.013455</td>\n",
       "      <td>0.140935</td>\n",
       "      <td>7.751429</td>\n",
       "      <td>17.443041</td>\n",
       "    </tr>\n",
       "    <tr>\n",
       "      <th>734</th>\n",
       "      <td>g55cwj</td>\n",
       "      <td>527375</td>\n",
       "      <td>norecs</td>\n",
       "      <td>a very old apple computer is sitting on a wooden l desk surrounded by speakers, an apple keyboard and an apple mouse. there is also a small laptop with a picture from the movie cars displayed on it. there is a speaker next to the laptop and a shelf with lots of trinkets above it</td>\n",
       "      <td>55</td>\n",
       "      <td>2.82</td>\n",
       "      <td>5.892909</td>\n",
       "      <td>0.158156</td>\n",
       "      <td>8.698571</td>\n",
       "      <td>18.577933</td>\n",
       "    </tr>\n",
       "  </tbody>\n",
       "</table>\n",
       "</div>"
      ],
      "text/plain": [
       "     participant stimulus condition  \\\n",
       "191       4pc77f   275449  standard   \n",
       "229       5cgvvc   396295    norecs   \n",
       "1462      7h666q   236272    norecs   \n",
       "736       g55cwj    71815  standard   \n",
       "1730      533r6c   431140  standard   \n",
       "231       5cgvvc   227326    norecs   \n",
       "238       5cgvvc   236272     gated   \n",
       "235       5cgvvc    71815  standard   \n",
       "230       5cgvvc   431140    norecs   \n",
       "734       g55cwj   527375    norecs   \n",
       "\n",
       "                                                                                                                                                                                                                                                                                         text  \\\n",
       "191                                                                                                  a glass of red wine is in the foreground. a tabby cat is crouched on the table behind it, looking up cheekily at the camera holder. you can see the picture taker reflected in the glass   \n",
       "229                                                                                                     two shower doors closed with opaque glass. a beige towel hangs on the handle of the door on the right. visible through the glass are various showering implements hanging from a rack   \n",
       "1462                                                                                         a baseball player wearing a black helmet and a black shirt with a red stripe on the sleeve and a number eight on the back with grey pants swinging a bat in front of a catcher and his teammates   \n",
       "736                                                                                                      a man is lunging to his right and swinging his racket at a tennis ball. he is wearing a pink polo and brown shorts with white shoes. the word toronto is written underneath his knee   \n",
       "1730                                                                                           a bathroom with one white sink and a white toilet with a toilet paper roll on the back lid sits next to the sink which has a mirror above it which shows the exact same toilet across the room   \n",
       "231                                                          the bride and groom cut wedding cake together. the groom is on the left and the bride on the right. a photographer to their left is guiding their hands. another photographer in the left background snaps a picture from behind   \n",
       "238                                                   a baseball player swings at homeplate. he wears a uniform with a black top and grey pants. the number eight is visible on his back in orange. the catcher's arm and mitt are visible on the left. other players watch in the background   \n",
       "235                                        a tennis player is preparing to backhand a ball that is in midair in front of him. he wears a white shirt and green shorts with white sneakers. he behind the baseline on what looks like grass. the word toronto is printed on the grass in white   \n",
       "230              this is a bathroom with a white commode on the left and a white sink with a mirror above on the right. there is a roll of toilet paper on top of the toilet tank and behind this is a stainless steel grab bar mounted to the wall. another commode is visible in the mirror   \n",
       "734   a very old apple computer is sitting on a wooden l desk surrounded by speakers, an apple keyboard and an apple mouse. there is also a small laptop with a picture from the movie cars displayed on it. there is a speaker next to the laptop and a shelf with lots of trinkets above it   \n",
       "\n",
       "      num_words  min_freq  mean_freq  mean_rarity  total_rarity  \\\n",
       "191          36      1.91   5.801111     0.171270      6.165714   \n",
       "229          32      3.11   5.537813     0.208884      6.684286   \n",
       "1462         39      3.39   5.917436     0.154652      6.031429   \n",
       "736          35      2.26   5.686286     0.187673      6.568571   \n",
       "1730         39      3.78   5.905128     0.156410      6.100000   \n",
       "231          40      3.58   5.944750     0.150750      6.030000   \n",
       "238          43      1.14   5.745116     0.179269      7.708571   \n",
       "235          47      2.70   5.850000     0.164286      7.721429   \n",
       "230          55      2.25   6.013455     0.140935      7.751429   \n",
       "734          55      2.82   5.892909     0.158156      8.698571   \n",
       "\n",
       "      predicted_details  \n",
       "191           12.725789  \n",
       "229           12.754060  \n",
       "1462          13.009707  \n",
       "736           13.060230  \n",
       "1730          13.091871  \n",
       "231           13.156269  \n",
       "238           15.612400  \n",
       "235           16.220902  \n",
       "230           17.443041  \n",
       "734           18.577933  "
      ]
     },
     "metadata": {},
     "output_type": "display_data"
    }
   ],
   "source": [
    "with pd.option_context('display.max_colwidth', 500):\n",
    "    display(dataset.sort_values('predicted_details').iloc[-10:])"
   ]
  },
  {
   "cell_type": "markdown",
   "metadata": {},
   "source": [
    "That's mostly just the long descriptions. But I wonder if there are some words that characterize them that we could target."
   ]
  },
  {
   "cell_type": "markdown",
   "metadata": {},
   "source": [
    "Waaait.. what I really want is a _local_ measure of specificity. Can I predict the _overall_ specificity from a slice of, say, 5 words of the original?"
   ]
  },
  {
   "cell_type": "code",
   "execution_count": null,
   "metadata": {},
   "outputs": [],
   "source": []
  }
 ],
 "metadata": {
  "kernelspec": {
   "display_name": "Python 3",
   "language": "python",
   "name": "python3"
  },
  "language_info": {
   "codemirror_mode": {
    "name": "ipython",
    "version": 3
   },
   "file_extension": ".py",
   "mimetype": "text/x-python",
   "name": "python",
   "nbconvert_exporter": "python",
   "pygments_lexer": "ipython3",
   "version": "3.6.4"
  }
 },
 "nbformat": 4,
 "nbformat_minor": 2
}
