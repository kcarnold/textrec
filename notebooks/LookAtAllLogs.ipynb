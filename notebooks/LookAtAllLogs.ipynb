{
 "cells": [
  {
   "cell_type": "code",
   "execution_count": null,
   "metadata": {},
   "outputs": [],
   "source": [
    "import pathlib\n",
    "import json"
   ]
  },
  {
   "cell_type": "code",
   "execution_count": null,
   "metadata": {},
   "outputs": [],
   "source": [
    "from textrec.paths import paths"
   ]
  },
  {
   "cell_type": "code",
   "execution_count": null,
   "metadata": {},
   "outputs": [],
   "source": [
    "import glob\n",
    "import os\n",
    "import json\n",
    "import dateutil.parser\n",
    "import datetime\n",
    "import toolz"
   ]
  },
  {
   "cell_type": "code",
   "execution_count": null,
   "metadata": {},
   "outputs": [],
   "source": []
  },
  {
   "cell_type": "code",
   "execution_count": null,
   "metadata": {},
   "outputs": [],
   "source": [
    "def get_log_data(log_file, earliest):\n",
    "    size = os.path.getsize(log_file)\n",
    "    meta = None\n",
    "    num_nexts = 0\n",
    "    with open(log_file) as f:\n",
    "        for idx, line in enumerate(f):\n",
    "            if 'next' not in line and 'login' not in line and 'finalData' not in line:\n",
    "                continue\n",
    "            line = json.loads(line)\n",
    "            if line.get('type') == 'next':\n",
    "                num_nexts += 1\n",
    "            elif line.get('type') == 'login':\n",
    "                if 'jsTimestamp' in line:\n",
    "                    timestamp = datetime.datetime.fromtimestamp(line['jsTimestamp'] / 1000)\n",
    "                else:\n",
    "                    timestamp = dateutil.parser.parse(line['timestamp'])\n",
    "                if timestamp < earliest:\n",
    "                    return\n",
    "                platform_id = line['platform_id']\n",
    "                meta = dict(timestamp=timestamp, config=line['config'], platform_id=platform_id, participant_id=line['participant_id'], size=size)\n",
    "            elif line.get('type') == 'finalData':\n",
    "#                 meta['finalData'] = line['finalData']\n",
    "                meta['complete'] = True\n",
    "    if meta:\n",
    "        return dict(meta, num_nexts=num_nexts)\n",
    "\n",
    "\n",
    "def get_logs(log_path, earliest):\n",
    "    log_files = []\n",
    "    for log_file in log_path.glob('*.jsonl'):\n",
    "        data = get_log_data(log_file, earliest)\n",
    "        if data is not None:\n",
    "#             print(data)\n",
    "            log_files.append(data)\n",
    "    return log_files"
   ]
  },
  {
   "cell_type": "code",
   "execution_count": null,
   "metadata": {},
   "outputs": [],
   "source": [
    "log_files = get_logs(paths.top_level / 'logs-gcp1', earliest = datetime.datetime(2018, 5, 2))"
   ]
  },
  {
   "cell_type": "code",
   "execution_count": null,
   "metadata": {},
   "outputs": [],
   "source": [
    "import pandas as pd\n",
    "' '.join(pd.DataFrame([data for data in log_files if data.get('complete')]).sort_values('timestamp').participant_id)"
   ]
  },
  {
   "cell_type": "code",
   "execution_count": null,
   "metadata": {},
   "outputs": [],
   "source": [
    "# Dump a list of participant_ids\n",
    "for config, group in toolz.groupby('config', completed_participants).items():\n",
    "    print()\n",
    "    group = sorted(group, key=lambda x: x['timestamp'])\n",
    "    print(f'{len(group)} completed in {config}')\n",
    "    print(f'{config}:',  ' '.join(participant['participant_id'] for participant in group))"
   ]
  }
 ],
 "metadata": {
  "kernelspec": {
   "display_name": "Python 3",
   "language": "python",
   "name": "python3"
  },
  "language_info": {
   "codemirror_mode": {
    "name": "ipython",
    "version": 3
   },
   "file_extension": ".py",
   "mimetype": "text/x-python",
   "name": "python",
   "nbconvert_exporter": "python",
   "pygments_lexer": "ipython3",
   "version": "3.6.4"
  }
 },
 "nbformat": 4,
 "nbformat_minor": 2
}
