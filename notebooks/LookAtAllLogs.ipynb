{
 "cells": [
  {
   "cell_type": "code",
   "execution_count": 1,
   "metadata": {},
   "outputs": [],
   "source": [
    "import pathlib\n",
    "import json"
   ]
  },
  {
   "cell_type": "code",
   "execution_count": 2,
   "metadata": {},
   "outputs": [],
   "source": [
    "from textrec.paths import paths"
   ]
  },
  {
   "cell_type": "code",
   "execution_count": 3,
   "metadata": {},
   "outputs": [],
   "source": [
    "import glob\n",
    "import os\n",
    "import json\n",
    "import dateutil.parser\n",
    "import datetime\n",
    "import toolz"
   ]
  },
  {
   "cell_type": "code",
   "execution_count": 7,
   "metadata": {},
   "outputs": [],
   "source": [
    "INVALID = (\n",
    "    '3vf5fg', #(already done as 9fmfm4),\n",
    "    '73qq5q', #(already done as 77j4mf),\n",
    "    'ffhgxm', #(something messed up in analysis, logfile is out of sync)\n",
    ")\n"
   ]
  },
  {
   "cell_type": "code",
   "execution_count": 11,
   "metadata": {},
   "outputs": [],
   "source": [
    "def get_log_data(log_file, earliest):\n",
    "    size = os.path.getsize(log_file)\n",
    "    meta = None\n",
    "    num_nexts = 0\n",
    "    with open(log_file) as f:\n",
    "        for idx, line in enumerate(f):\n",
    "            if 'next' not in line and 'login' not in line and 'finalData' not in line:\n",
    "                continue\n",
    "            line = json.loads(line)\n",
    "            if line.get('type') == 'next':\n",
    "                num_nexts += 1\n",
    "            elif line.get('type') == 'login':\n",
    "                if 'jsTimestamp' in line:\n",
    "                    timestamp = datetime.datetime.fromtimestamp(line['jsTimestamp'] / 1000)\n",
    "                else:\n",
    "                    timestamp = dateutil.parser.parse(line['timestamp'])\n",
    "                if timestamp < earliest:\n",
    "                    return\n",
    "                platform_id = line['platform_id']\n",
    "                meta = dict(\n",
    "                    timestamp=timestamp,\n",
    "                    config=line['config'],\n",
    "                    platform_id=platform_id,\n",
    "                    participant_id=line['participant_id'],\n",
    "                    size=size,\n",
    "                    complete=False) # will override\n",
    "            elif line.get('type') == 'finalData':\n",
    "#                 meta['finalData'] = line['finalData']\n",
    "                meta['complete'] = True\n",
    "    if meta:\n",
    "        return dict(meta, num_nexts=num_nexts)\n",
    "\n",
    "\n",
    "def get_logs(log_path, earliest):\n",
    "    log_files = []\n",
    "    for log_file in log_path.glob('*.jsonl'):\n",
    "        data = get_log_data(log_file, earliest)\n",
    "        if data is not None:\n",
    "#             print(data)\n",
    "            log_files.append(data)\n",
    "    return log_files"
   ]
  },
  {
   "cell_type": "code",
   "execution_count": 12,
   "metadata": {},
   "outputs": [],
   "source": [
    "log_files = get_logs(paths.top_level / 'logs-gcp1', earliest = datetime.datetime(2018, 5, 2))"
   ]
  },
  {
   "cell_type": "code",
   "execution_count": 13,
   "metadata": {},
   "outputs": [],
   "source": [
    "not_invalid = [entry for entry in log_files if entry['participant_id'] not in INVALID]"
   ]
  },
  {
   "cell_type": "code",
   "execution_count": 14,
   "metadata": {},
   "outputs": [],
   "source": [
    "did_some_work = [entry for entry in not_invalid if entry['num_nexts'] > 4] # arbitrary cutoff"
   ]
  },
  {
   "cell_type": "code",
   "execution_count": 15,
   "metadata": {},
   "outputs": [],
   "source": [
    "incomplete = [entry for entry in did_some_work if not entry['complete']]"
   ]
  },
  {
   "cell_type": "code",
   "execution_count": 16,
   "metadata": {},
   "outputs": [
    {
     "data": {
      "text/plain": [
       "7"
      ]
     },
     "execution_count": 16,
     "metadata": {},
     "output_type": "execute_result"
    }
   ],
   "source": [
    "len(incomplete)"
   ]
  },
  {
   "cell_type": "code",
   "execution_count": 17,
   "metadata": {},
   "outputs": [
    {
     "data": {
      "text/html": [
       "<div>\n",
       "<style scoped>\n",
       "    .dataframe tbody tr th:only-of-type {\n",
       "        vertical-align: middle;\n",
       "    }\n",
       "\n",
       "    .dataframe tbody tr th {\n",
       "        vertical-align: top;\n",
       "    }\n",
       "\n",
       "    .dataframe thead th {\n",
       "        text-align: right;\n",
       "    }\n",
       "</style>\n",
       "<table border=\"1\" class=\"dataframe\">\n",
       "  <thead>\n",
       "    <tr style=\"text-align: right;\">\n",
       "      <th></th>\n",
       "      <th>complete</th>\n",
       "      <th>config</th>\n",
       "      <th>num_nexts</th>\n",
       "      <th>participant_id</th>\n",
       "      <th>platform_id</th>\n",
       "      <th>size</th>\n",
       "      <th>timestamp</th>\n",
       "    </tr>\n",
       "  </thead>\n",
       "  <tbody>\n",
       "    <tr>\n",
       "      <th>0</th>\n",
       "      <td>False</td>\n",
       "      <td>cap</td>\n",
       "      <td>9</td>\n",
       "      <td>3wjx7c</td>\n",
       "      <td>turkA1DL3NEZFY4V4E</td>\n",
       "      <td>287633</td>\n",
       "      <td>2018-05-11 12:31:27.764</td>\n",
       "    </tr>\n",
       "    <tr>\n",
       "      <th>1</th>\n",
       "      <td>False</td>\n",
       "      <td>cap</td>\n",
       "      <td>12</td>\n",
       "      <td>5xc2f3</td>\n",
       "      <td>turkA3QEVFM3UD67BA</td>\n",
       "      <td>240119</td>\n",
       "      <td>2018-05-02 12:37:34.886</td>\n",
       "    </tr>\n",
       "    <tr>\n",
       "      <th>2</th>\n",
       "      <td>False</td>\n",
       "      <td>cap</td>\n",
       "      <td>9</td>\n",
       "      <td>j2hq4v</td>\n",
       "      <td>turkA3QEVFM3UD67BA</td>\n",
       "      <td>78844</td>\n",
       "      <td>2018-05-02 13:16:35.184</td>\n",
       "    </tr>\n",
       "    <tr>\n",
       "      <th>3</th>\n",
       "      <td>False</td>\n",
       "      <td>cap</td>\n",
       "      <td>5</td>\n",
       "      <td>pmvwxg</td>\n",
       "      <td>turkA3GJWXA13GMS9H</td>\n",
       "      <td>8466</td>\n",
       "      <td>2018-05-16 20:15:05.341</td>\n",
       "    </tr>\n",
       "    <tr>\n",
       "      <th>4</th>\n",
       "      <td>False</td>\n",
       "      <td>cap</td>\n",
       "      <td>10</td>\n",
       "      <td>qwfvx5</td>\n",
       "      <td>turkA1DL3NEZFY4V4E</td>\n",
       "      <td>358967</td>\n",
       "      <td>2018-05-11 12:23:03.013</td>\n",
       "    </tr>\n",
       "    <tr>\n",
       "      <th>5</th>\n",
       "      <td>False</td>\n",
       "      <td>cap</td>\n",
       "      <td>5</td>\n",
       "      <td>rm9g6v</td>\n",
       "      <td>turkA326O3VWP8TO8N</td>\n",
       "      <td>5217</td>\n",
       "      <td>2018-05-16 15:29:23.444</td>\n",
       "    </tr>\n",
       "    <tr>\n",
       "      <th>6</th>\n",
       "      <td>False</td>\n",
       "      <td>cap</td>\n",
       "      <td>5</td>\n",
       "      <td>ww3222</td>\n",
       "      <td>None</td>\n",
       "      <td>15539</td>\n",
       "      <td>2018-05-11 06:27:59.416</td>\n",
       "    </tr>\n",
       "  </tbody>\n",
       "</table>\n",
       "</div>"
      ],
      "text/plain": [
       "   complete config  num_nexts participant_id         platform_id    size  \\\n",
       "0     False    cap          9         3wjx7c  turkA1DL3NEZFY4V4E  287633   \n",
       "1     False    cap         12         5xc2f3  turkA3QEVFM3UD67BA  240119   \n",
       "2     False    cap          9         j2hq4v  turkA3QEVFM3UD67BA   78844   \n",
       "3     False    cap          5         pmvwxg  turkA3GJWXA13GMS9H    8466   \n",
       "4     False    cap         10         qwfvx5  turkA1DL3NEZFY4V4E  358967   \n",
       "5     False    cap          5         rm9g6v  turkA326O3VWP8TO8N    5217   \n",
       "6     False    cap          5         ww3222                None   15539   \n",
       "\n",
       "                timestamp  \n",
       "0 2018-05-11 12:31:27.764  \n",
       "1 2018-05-02 12:37:34.886  \n",
       "2 2018-05-02 13:16:35.184  \n",
       "3 2018-05-16 20:15:05.341  \n",
       "4 2018-05-11 12:23:03.013  \n",
       "5 2018-05-16 15:29:23.444  \n",
       "6 2018-05-11 06:27:59.416  "
      ]
     },
     "execution_count": 17,
     "metadata": {},
     "output_type": "execute_result"
    }
   ],
   "source": [
    "pd.DataFrame(incomplete)"
   ]
  },
  {
   "cell_type": "code",
   "execution_count": 22,
   "metadata": {},
   "outputs": [],
   "source": [
    "complete = [entry for entry in not_invalid if entry['complete']]\n",
    "complete.sort(key=lambda x: x['timestamp'])"
   ]
  },
  {
   "cell_type": "code",
   "execution_count": 23,
   "metadata": {},
   "outputs": [
    {
     "data": {
      "text/plain": [
       "'h52x67 jvccx2 36x2r3 gg65g6 692c8j qmwvwv 77j4mf 4ggxj8 5c39rx fvwhpc 26w4jv 7g8xw8 533r6c 74v545 vxjcf7 9f5xwx 3267ww wf4c3m 7jcm37 cf9p8m phqcw9 5jj59g gw3w72 559x69 gvwqp6'"
      ]
     },
     "execution_count": 23,
     "metadata": {},
     "output_type": "execute_result"
    }
   ],
   "source": [
    "' '.join(entry['participant_id'] for entry in complete)"
   ]
  },
  {
   "cell_type": "code",
   "execution_count": 24,
   "metadata": {},
   "outputs": [
    {
     "name": "stdout",
     "output_type": "stream",
     "text": [
      "\n",
      "25 completed in cap\n",
      "cap: h52x67 jvccx2 36x2r3 gg65g6 692c8j qmwvwv 77j4mf 4ggxj8 5c39rx fvwhpc 26w4jv 7g8xw8 533r6c 74v545 vxjcf7 9f5xwx 3267ww wf4c3m 7jcm37 cf9p8m phqcw9 5jj59g gw3w72 559x69 gvwqp6\n"
     ]
    }
   ],
   "source": [
    "# Dump a list of participant_ids\n",
    "for config, group in toolz.groupby('config', complete).items():\n",
    "    print()\n",
    "    group = sorted(group, key=lambda x: x['timestamp'])\n",
    "    print(f'{len(group)} completed in {config}')\n",
    "    print(f'{config}:',  ' '.join(participant['participant_id'] for participant in group))"
   ]
  },
  {
   "cell_type": "code",
   "execution_count": null,
   "metadata": {},
   "outputs": [],
   "source": []
  }
 ],
 "metadata": {
  "kernelspec": {
   "display_name": "Python 3",
   "language": "python",
   "name": "python3"
  },
  "language_info": {
   "codemirror_mode": {
    "name": "ipython",
    "version": 3
   },
   "file_extension": ".py",
   "mimetype": "text/x-python",
   "name": "python",
   "nbconvert_exporter": "python",
   "pygments_lexer": "ipython3",
   "version": "3.6.4"
  }
 },
 "nbformat": 4,
 "nbformat_minor": 2
}
