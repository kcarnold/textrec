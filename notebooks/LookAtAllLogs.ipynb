{
 "cells": [
  {
   "cell_type": "code",
   "execution_count": 19,
   "metadata": {
    "scrolled": true
   },
   "outputs": [],
   "source": [
    "import pathlib\n",
    "import json"
   ]
  },
  {
   "cell_type": "code",
   "execution_count": 20,
   "metadata": {
    "scrolled": true
   },
   "outputs": [],
   "source": [
    "from textrec.paths import paths"
   ]
  },
  {
   "cell_type": "code",
   "execution_count": 21,
   "metadata": {
    "scrolled": true
   },
   "outputs": [],
   "source": [
    "import glob\n",
    "import os\n",
    "import json\n",
    "import dateutil.parser\n",
    "import datetime\n",
    "import toolz"
   ]
  },
  {
   "cell_type": "code",
   "execution_count": 32,
   "metadata": {
    "scrolled": true
   },
   "outputs": [],
   "source": [
    "INVALID = (\n",
    "    '3vf5fg', #(already done as 9fmfm4),\n",
    "    '73qq5q', #(already done as 77j4mf),\n",
    "    'ffhgxm', #(something messed up in analysis, logfile is out of sync)\n",
    "    'mhh838', # reconnected during experiment, messed up\n",
    ")\n"
   ]
  },
  {
   "cell_type": "code",
   "execution_count": 33,
   "metadata": {
    "scrolled": true
   },
   "outputs": [],
   "source": [
    "def get_log_data(log_file, earliest):\n",
    "    size = os.path.getsize(log_file)\n",
    "    meta = None\n",
    "    num_nexts = 0\n",
    "    with open(log_file) as f:\n",
    "        for idx, line in enumerate(f):\n",
    "            if 'next' not in line and 'login' not in line and 'finalData' not in line:\n",
    "                continue\n",
    "            line = json.loads(line)\n",
    "            if line.get('type') == 'next':\n",
    "                num_nexts += 1\n",
    "            elif line.get('type') == 'login':\n",
    "                if 'jsTimestamp' in line:\n",
    "                    timestamp = datetime.datetime.fromtimestamp(line['jsTimestamp'] / 1000)\n",
    "                else:\n",
    "                    timestamp = dateutil.parser.parse(line['timestamp'])\n",
    "                if timestamp < earliest:\n",
    "                    return\n",
    "                platform_id = line['platform_id']\n",
    "                meta = dict(\n",
    "                    timestamp=timestamp,\n",
    "                    batch=line.get('batch'),\n",
    "                    config=line['config'],\n",
    "                    platform_id=platform_id,\n",
    "                    participant_id=line['participant_id'],\n",
    "                    size=size,\n",
    "                    complete=False) # will override\n",
    "            elif line.get('type') == 'finalData':\n",
    "#                 meta['finalData'] = line['finalData']\n",
    "                meta['complete'] = True\n",
    "    if meta:\n",
    "        return dict(meta, num_nexts=num_nexts)\n",
    "\n",
    "\n",
    "def get_logs(log_path, earliest):\n",
    "    log_files = []\n",
    "    for log_file in log_path.glob('*.jsonl'):\n",
    "        data = get_log_data(log_file, earliest)\n",
    "        if data is not None:\n",
    "#             print(data)\n",
    "            log_files.append(data)\n",
    "    return log_files"
   ]
  },
  {
   "cell_type": "code",
   "execution_count": 34,
   "metadata": {
    "scrolled": true
   },
   "outputs": [],
   "source": [
    "log_files = get_logs(paths.top_level / 'logs-gcp1', earliest = datetime.datetime(2018, 5, 2))"
   ]
  },
  {
   "cell_type": "code",
   "execution_count": 35,
   "metadata": {
    "scrolled": true
   },
   "outputs": [],
   "source": [
    "not_invalid = [entry for entry in log_files if entry['participant_id'] not in INVALID]"
   ]
  },
  {
   "cell_type": "code",
   "execution_count": 36,
   "metadata": {
    "scrolled": true
   },
   "outputs": [],
   "source": [
    "did_some_work = [entry for entry in not_invalid if entry['num_nexts'] > 4] # arbitrary cutoff"
   ]
  },
  {
   "cell_type": "code",
   "execution_count": 37,
   "metadata": {
    "scrolled": true
   },
   "outputs": [],
   "source": [
    "incomplete = [entry for entry in did_some_work if not entry['complete']]"
   ]
  },
  {
   "cell_type": "code",
   "execution_count": 38,
   "metadata": {
    "scrolled": true
   },
   "outputs": [
    {
     "data": {
      "text/plain": [
       "10"
      ]
     },
     "execution_count": 38,
     "metadata": {},
     "output_type": "execute_result"
    }
   ],
   "source": [
    "len(incomplete)"
   ]
  },
  {
   "cell_type": "code",
   "execution_count": 13,
   "metadata": {},
   "outputs": [],
   "source": [
    "from textrec import analysis_util"
   ]
  },
  {
   "cell_type": "code",
   "execution_count": 23,
   "metadata": {},
   "outputs": [],
   "source": [
    "an = analysis_util.get_log_analysis(incomplete[0]['participant_id'])"
   ]
  },
  {
   "cell_type": "code",
   "execution_count": 24,
   "metadata": {},
   "outputs": [
    {
     "data": {
      "text/plain": [
       "dict_keys(['participant_id', 'isComplete', 'byExpPage', 'pageSeq', 'screenTimes', 'allControlledInputs', 'git_rev'])"
      ]
     },
     "execution_count": 24,
     "metadata": {},
     "output_type": "execute_result"
    }
   ],
   "source": [
    "an.keys()"
   ]
  },
  {
   "cell_type": "code",
   "execution_count": 25,
   "metadata": {},
   "outputs": [
    {
     "data": {
      "text/plain": [
       "False"
      ]
     },
     "execution_count": 25,
     "metadata": {},
     "output_type": "execute_result"
    }
   ],
   "source": [
    "an['isComplete']"
   ]
  },
  {
   "cell_type": "code",
   "execution_count": 26,
   "metadata": {},
   "outputs": [
    {
     "data": {
      "text/plain": [
       "[['intro-use_predictive', 'Yes'],\n",
       " ['intro-I like to solve complex problems.', 1],\n",
       " ['intro-I have difficulty understanding abstract ideas.', 1],\n",
       " ['intro-I feel comfortable around people.', 2],\n",
       " ['intro-I have little to say.', 2]]"
      ]
     },
     "execution_count": 26,
     "metadata": {},
     "output_type": "execute_result"
    }
   ],
   "source": [
    "an['allControlledInputs']"
   ]
  },
  {
   "cell_type": "code",
   "execution_count": 32,
   "metadata": {},
   "outputs": [],
   "source": [
    "%run -m textrec.batch_analysis"
   ]
  },
  {
   "cell_type": "code",
   "execution_count": 35,
   "metadata": {},
   "outputs": [
    {
     "name": "stdout",
     "output_type": "stream",
     "text": [
      "\n",
      "3wjx7c\n",
      "practice-0:general:a black cat napping on a sunny unpainted wood bench in front of a red wall \n",
      "final-0-0:general:there is a cat that is laying on top of a tablet in front of a cup of wine.? the cat is looking at its master. \n",
      "final-0-1:general:this is a small bathroom and there is someone in tne shower and the bathroom is also a modern toilet. \n",
      "final-0-2:general:\n",
      "\n",
      "intro-use_predictive: Yes\n",
      "\n",
      "Total time: 4.7m\n",
      "ExperimentScreen: 245.0\n",
      "IntroSurvey: 16.3\n",
      "Welcome: 12.2\n",
      "TaskDescription: 4.2\n",
      "PostPractice: 1.9\n",
      "StudyDesc: 1.8\n",
      "Instructions: 1.1\n",
      "\n",
      "5xc2f3\n",
      "practice-0:specific:a black cat napping on a sunny unpainted wood bench in front of a red wall \n",
      "final-0-0:specific:a cat sitting in front of a glass of wine looking up at the camera. \n",
      "final-0-1:specific:a bathroom shower with dirty glass doors with a towel hanging on it \n",
      "final-0-2:specific:there is no image here \n",
      "practice-1:general:a man with black hair and glasses placing a large turkey into an upper oven\n",
      "\n",
      "intro-use_predictive: Yes\n",
      "postTask-0-techDiff: Yes, there was no third image on this series.\n",
      "postTask-0-other: It seems that the descriptions were taken from others, the exact words I needed were on the keyboard already.\n",
      "\n",
      "Total time: 6.9m\n",
      "ExperimentScreen: 163.3\n",
      "Welcome: 113.8\n",
      "PostTaskSurvey: 107.9\n",
      "TaskDescription: 8.4\n",
      "IntroSurvey: 8.2\n",
      "StudyDesc: 7.6\n",
      "Instructions: 2.7\n",
      "PostPractice: 1.1\n",
      "\n",
      "j2hq4v\n",
      "practice-0:specific:a black cat napping on a sunny unpainted wood bench in front of a red wall \n",
      "final-0-0:specific:a cat in front of a glass of wine looking at the camera \n",
      "final-0-1:specific:s shower with dirty doors with a towel on it \n",
      "final-0-2:specific:\n",
      "\n",
      "intro-use_predictive: Yes\n",
      "\n",
      "Total time: 3.1m\n",
      "ExperimentScreen: 157.1\n",
      "IntroSurvey: 12.5\n",
      "Welcome: 5.7\n",
      "TaskDescription: 4.8\n",
      "PostPractice: 2.1\n",
      "StudyDesc: 1.5\n",
      "Instructions: 1.2\n",
      "\n",
      "pmvwxg\n",
      "practice-0:norecs:\n",
      "\n",
      "intro-use_predictive: Yes\n",
      "\n",
      "Total time: 3.0m\n",
      "TaskDescription: 131.4\n",
      "StudyDesc: 24.0\n",
      "IntroSurvey: 17.1\n",
      "Welcome: 8.3\n",
      "Instructions: 1.7\n",
      "\n",
      "qwfvx5\n",
      "practice-0:general:a black cat napping on a sunny unpainted wood bench in front of a red wall \n",
      "final-0-0:general:there is a cat that is laying on top of the table in front of a cup of wine \n",
      "final-0-1:general:\n",
      "\n",
      "intro-use_predictive: Yes\n",
      "\n",
      "Total time: 8.4m\n",
      "ExperimentScreen: 322.9\n",
      "TaskDescription: 76.6\n",
      "StudyDesc: 34.9\n",
      "Welcome: 28.8\n",
      "IntroSurvey: 23.0\n",
      "PostPractice: 12.2\n",
      "Instructions: 2.9\n",
      "\n",
      "rm9g6v\n",
      "practice-0:specific:\n",
      "\n",
      "intro-use_predictive: Yes\n",
      "\n",
      "Total time: 3.9m\n",
      "TaskDescription: 106.2\n",
      "Welcome: 100.2\n",
      "IntroSurvey: 13.8\n",
      "StudyDesc: 10.2\n",
      "Instructions: 1.0\n",
      "\n",
      "ww3222\n",
      "practice-0:specific:a black cat napping on a sunny unpainted \n",
      "\n",
      "\n",
      "Total time: 0.3m\n",
      "StudyDesc: 5.1\n",
      "Welcome: 4.4\n",
      "TaskDescription: 4.0\n",
      "IntroSurvey: 2.8\n",
      "Instructions: 1.2\n"
     ]
    }
   ],
   "source": [
    "summarize([x['participant_id'] for x in incomplete], incomplete_ok=True)"
   ]
  },
  {
   "cell_type": "code",
   "execution_count": null,
   "metadata": {},
   "outputs": [],
   "source": []
  },
  {
   "cell_type": "code",
   "execution_count": 39,
   "metadata": {
    "scrolled": true
   },
   "outputs": [],
   "source": [
    "complete = [entry for entry in not_invalid if entry['complete']]\n",
    "complete.sort(key=lambda x: x['timestamp'])"
   ]
  },
  {
   "cell_type": "code",
   "execution_count": 40,
   "metadata": {
    "scrolled": true
   },
   "outputs": [
    {
     "data": {
      "text/plain": [
       "'h52x67 jvccx2 36x2r3 gg65g6 692c8j qmwvwv 77j4mf 4ggxj8 5c39rx fvwhpc 26w4jv 7g8xw8 533r6c 74v545 vxjcf7 9f5xwx 3267ww wf4c3m 7jcm37 cf9p8m phqcw9 5jj59g gw3w72 559x69 gvwqp6 8fwr56 qxqm88 pmr872 x9m97g 48mr5g h6c27m pfqcmf fcc4fp 3qjwxv 5p7cf7 xxxp65 94wwrq vg926m fjr9xf rp3jwh 46gc8v 8v9qq5 vj2c8r 7fwgf9 26f62q wxf9cx gmvv6r w3xwhj 3pcfjp 85c66x'"
      ]
     },
     "execution_count": 40,
     "metadata": {},
     "output_type": "execute_result"
    }
   ],
   "source": [
    "' '.join(entry['participant_id'] for entry in complete)"
   ]
  },
  {
   "cell_type": "code",
   "execution_count": 41,
   "metadata": {
    "scrolled": true
   },
   "outputs": [
    {
     "name": "stdout",
     "output_type": "stream",
     "text": [
      "\n",
      "28 completed in None\n",
      "None: h52x67 jvccx2 36x2r3 gg65g6 692c8j qmwvwv 77j4mf 4ggxj8 5c39rx fvwhpc 26w4jv 7g8xw8 533r6c 74v545 vxjcf7 9f5xwx 3267ww wf4c3m 7jcm37 cf9p8m phqcw9 5jj59g gw3w72 559x69 gvwqp6 8fwr56 qxqm88 pmr872\n",
      "\n",
      "22 completed in gc1\n",
      "gc1: x9m97g 48mr5g h6c27m pfqcmf fcc4fp 3qjwxv 5p7cf7 xxxp65 94wwrq vg926m fjr9xf rp3jwh 46gc8v 8v9qq5 vj2c8r 7fwgf9 26f62q wxf9cx gmvv6r w3xwhj 3pcfjp 85c66x\n"
     ]
    }
   ],
   "source": [
    "# Dump a list of participant_ids\n",
    "for config, group in toolz.groupby('batch', complete).items():\n",
    "    print()\n",
    "    group = sorted(group, key=lambda x: x['timestamp'])\n",
    "    print(f'{len(group)} completed in {config}')\n",
    "    print(f'{config}:',  ' '.join(participant['participant_id'] for participant in group))"
   ]
  },
  {
   "cell_type": "code",
   "execution_count": null,
   "metadata": {
    "scrolled": true
   },
   "outputs": [],
   "source": []
  },
  {
   "cell_type": "code",
   "execution_count": null,
   "metadata": {},
   "outputs": [],
   "source": []
  },
  {
   "cell_type": "code",
   "execution_count": null,
   "metadata": {},
   "outputs": [],
   "source": []
  },
  {
   "cell_type": "code",
   "execution_count": 42,
   "metadata": {},
   "outputs": [],
   "source": [
    "from textrec.counterbalancing import get_completion_data"
   ]
  },
  {
   "cell_type": "code",
   "execution_count": 44,
   "metadata": {},
   "outputs": [],
   "source": [
    "import pandas as pd"
   ]
  },
  {
   "cell_type": "code",
   "execution_count": 65,
   "metadata": {},
   "outputs": [],
   "source": [
    "completions = pd.DataFrame(get_completion_data('gc1'))\n",
    "completions['login_timestamp'] = pd.to_datetime(completions.login_timestamp, unit='s')\n",
    "completions = completions.sort_values('login_timestamp')"
   ]
  },
  {
   "cell_type": "code",
   "execution_count": 68,
   "metadata": {},
   "outputs": [
    {
     "data": {
      "text/plain": [
       "Timestamp('2018-06-29 19:31:11.057917')"
      ]
     },
     "execution_count": 68,
     "metadata": {},
     "output_type": "execute_result"
    }
   ],
   "source": [
    "completions.login_timestamp.iloc[-5]"
   ]
  },
  {
   "cell_type": "code",
   "execution_count": 70,
   "metadata": {},
   "outputs": [
    {
     "data": {
      "text/plain": [
       "2    4\n",
       "1    4\n",
       "0    4\n",
       "4    3\n",
       "3    3\n",
       "5    2\n",
       "Name: assignment, dtype: int64"
      ]
     },
     "execution_count": 70,
     "metadata": {},
     "output_type": "execute_result"
    }
   ],
   "source": [
    "completions[\n",
    "    completions.completed\n",
    "   & (completions.login_timestamp < pd.Timestamp(year=2018, month=6, day=29))].assignment.value_counts()\n"
   ]
  },
  {
   "cell_type": "code",
   "execution_count": 66,
   "metadata": {},
   "outputs": [
    {
     "data": {
      "text/html": [
       "<div>\n",
       "<style scoped>\n",
       "    .dataframe tbody tr th:only-of-type {\n",
       "        vertical-align: middle;\n",
       "    }\n",
       "\n",
       "    .dataframe tbody tr th {\n",
       "        vertical-align: top;\n",
       "    }\n",
       "\n",
       "    .dataframe thead th {\n",
       "        text-align: right;\n",
       "    }\n",
       "</style>\n",
       "<table border=\"1\" class=\"dataframe\">\n",
       "  <thead>\n",
       "    <tr style=\"text-align: right;\">\n",
       "      <th></th>\n",
       "      <th>assignment</th>\n",
       "      <th>completed</th>\n",
       "      <th>login_timestamp</th>\n",
       "      <th>participant_id</th>\n",
       "    </tr>\n",
       "  </thead>\n",
       "  <tbody>\n",
       "    <tr>\n",
       "      <th>5</th>\n",
       "      <td>0</td>\n",
       "      <td>False</td>\n",
       "      <td>2018-06-11 16:52:46.376846000</td>\n",
       "      <td>cc67cg</td>\n",
       "    </tr>\n",
       "    <tr>\n",
       "      <th>31</th>\n",
       "      <td>1</td>\n",
       "      <td>False</td>\n",
       "      <td>2018-06-11 17:02:25.574920000</td>\n",
       "      <td>h53736</td>\n",
       "    </tr>\n",
       "    <tr>\n",
       "      <th>46</th>\n",
       "      <td>2</td>\n",
       "      <td>True</td>\n",
       "      <td>2018-06-11 17:03:54.946232000</td>\n",
       "      <td>r6xh7g</td>\n",
       "    </tr>\n",
       "    <tr>\n",
       "      <th>35</th>\n",
       "      <td>0</td>\n",
       "      <td>False</td>\n",
       "      <td>2018-06-13 16:58:30.992824000</td>\n",
       "      <td>fh7wf7</td>\n",
       "    </tr>\n",
       "    <tr>\n",
       "      <th>6</th>\n",
       "      <td>1</td>\n",
       "      <td>True</td>\n",
       "      <td>2018-06-13 17:02:00.581406000</td>\n",
       "      <td>567vjj</td>\n",
       "    </tr>\n",
       "    <tr>\n",
       "      <th>21</th>\n",
       "      <td>2</td>\n",
       "      <td>False</td>\n",
       "      <td>2018-06-13 17:09:01.195205000</td>\n",
       "      <td>g22xw9</td>\n",
       "    </tr>\n",
       "    <tr>\n",
       "      <th>29</th>\n",
       "      <td>0</td>\n",
       "      <td>False</td>\n",
       "      <td>2018-06-14 15:56:20.811908000</td>\n",
       "      <td>vx6c3q</td>\n",
       "    </tr>\n",
       "    <tr>\n",
       "      <th>22</th>\n",
       "      <td>3</td>\n",
       "      <td>False</td>\n",
       "      <td>2018-06-14 15:58:52.523238000</td>\n",
       "      <td>8xm39m</td>\n",
       "    </tr>\n",
       "    <tr>\n",
       "      <th>36</th>\n",
       "      <td>1</td>\n",
       "      <td>False</td>\n",
       "      <td>2018-06-14 19:43:29.298186000</td>\n",
       "      <td>8v3fmf</td>\n",
       "    </tr>\n",
       "    <tr>\n",
       "      <th>10</th>\n",
       "      <td>1</td>\n",
       "      <td>False</td>\n",
       "      <td>2018-06-15 16:13:40.956185000</td>\n",
       "      <td>9qcf68</td>\n",
       "    </tr>\n",
       "    <tr>\n",
       "      <th>2</th>\n",
       "      <td>0</td>\n",
       "      <td>False</td>\n",
       "      <td>2018-06-15 17:03:54.469832000</td>\n",
       "      <td>4r854f</td>\n",
       "    </tr>\n",
       "    <tr>\n",
       "      <th>1</th>\n",
       "      <td>2</td>\n",
       "      <td>False</td>\n",
       "      <td>2018-06-15 18:30:05.909293000</td>\n",
       "      <td>g2r893</td>\n",
       "    </tr>\n",
       "    <tr>\n",
       "      <th>9</th>\n",
       "      <td>3</td>\n",
       "      <td>True</td>\n",
       "      <td>2018-06-15 22:05:06.539296000</td>\n",
       "      <td>x9m97g</td>\n",
       "    </tr>\n",
       "    <tr>\n",
       "      <th>44</th>\n",
       "      <td>4</td>\n",
       "      <td>False</td>\n",
       "      <td>2018-06-16 04:07:37.926465000</td>\n",
       "      <td>x9pj67</td>\n",
       "    </tr>\n",
       "    <tr>\n",
       "      <th>30</th>\n",
       "      <td>0</td>\n",
       "      <td>True</td>\n",
       "      <td>2018-06-16 13:21:56.317387000</td>\n",
       "      <td>48mr5g</td>\n",
       "    </tr>\n",
       "    <tr>\n",
       "      <th>8</th>\n",
       "      <td>1</td>\n",
       "      <td>True</td>\n",
       "      <td>2018-06-16 15:01:51.101408000</td>\n",
       "      <td>h6c27m</td>\n",
       "    </tr>\n",
       "    <tr>\n",
       "      <th>18</th>\n",
       "      <td>2</td>\n",
       "      <td>False</td>\n",
       "      <td>2018-06-18 14:36:39.588495000</td>\n",
       "      <td>8rcfwv</td>\n",
       "    </tr>\n",
       "    <tr>\n",
       "      <th>38</th>\n",
       "      <td>4</td>\n",
       "      <td>False</td>\n",
       "      <td>2018-06-18 14:37:40.949760000</td>\n",
       "      <td>x4rw2x</td>\n",
       "    </tr>\n",
       "    <tr>\n",
       "      <th>41</th>\n",
       "      <td>5</td>\n",
       "      <td>False</td>\n",
       "      <td>2018-06-18 14:41:28.065513000</td>\n",
       "      <td>wwj852</td>\n",
       "    </tr>\n",
       "    <tr>\n",
       "      <th>7</th>\n",
       "      <td>2</td>\n",
       "      <td>True</td>\n",
       "      <td>2018-06-18 14:42:07.362365000</td>\n",
       "      <td>pfqcmf</td>\n",
       "    </tr>\n",
       "    <tr>\n",
       "      <th>17</th>\n",
       "      <td>4</td>\n",
       "      <td>True</td>\n",
       "      <td>2018-06-18 17:14:01.484295000</td>\n",
       "      <td>fcc4fp</td>\n",
       "    </tr>\n",
       "    <tr>\n",
       "      <th>32</th>\n",
       "      <td>5</td>\n",
       "      <td>True</td>\n",
       "      <td>2018-06-18 17:32:25.684626000</td>\n",
       "      <td>3qjwxv</td>\n",
       "    </tr>\n",
       "    <tr>\n",
       "      <th>37</th>\n",
       "      <td>0</td>\n",
       "      <td>True</td>\n",
       "      <td>2018-06-18 19:50:02.137483000</td>\n",
       "      <td>5p7cf7</td>\n",
       "    </tr>\n",
       "    <tr>\n",
       "      <th>20</th>\n",
       "      <td>1</td>\n",
       "      <td>True</td>\n",
       "      <td>2018-06-18 20:20:57.964990000</td>\n",
       "      <td>mhh838</td>\n",
       "    </tr>\n",
       "    <tr>\n",
       "      <th>50</th>\n",
       "      <td>3</td>\n",
       "      <td>False</td>\n",
       "      <td>2018-06-18 20:41:58.995449000</td>\n",
       "      <td>w4mg78</td>\n",
       "    </tr>\n",
       "    <tr>\n",
       "      <th>39</th>\n",
       "      <td>1</td>\n",
       "      <td>False</td>\n",
       "      <td>2018-06-18 20:44:39.092430000</td>\n",
       "      <td>ccq38p</td>\n",
       "    </tr>\n",
       "    <tr>\n",
       "      <th>12</th>\n",
       "      <td>2</td>\n",
       "      <td>True</td>\n",
       "      <td>2018-06-18 20:45:17.463646000</td>\n",
       "      <td>xxxp65</td>\n",
       "    </tr>\n",
       "    <tr>\n",
       "      <th>0</th>\n",
       "      <td>3</td>\n",
       "      <td>True</td>\n",
       "      <td>2018-06-18 22:01:44.731314000</td>\n",
       "      <td>94wwrq</td>\n",
       "    </tr>\n",
       "    <tr>\n",
       "      <th>28</th>\n",
       "      <td>4</td>\n",
       "      <td>True</td>\n",
       "      <td>2018-06-18 22:54:14.450814000</td>\n",
       "      <td>vg926m</td>\n",
       "    </tr>\n",
       "    <tr>\n",
       "      <th>25</th>\n",
       "      <td>5</td>\n",
       "      <td>False</td>\n",
       "      <td>2018-06-18 23:25:00.966041000</td>\n",
       "      <td>fw68w3</td>\n",
       "    </tr>\n",
       "    <tr>\n",
       "      <th>3</th>\n",
       "      <td>0</td>\n",
       "      <td>True</td>\n",
       "      <td>2018-06-18 23:26:09.849871000</td>\n",
       "      <td>fjr9xf</td>\n",
       "    </tr>\n",
       "    <tr>\n",
       "      <th>47</th>\n",
       "      <td>5</td>\n",
       "      <td>True</td>\n",
       "      <td>2018-06-19 00:23:19.957237000</td>\n",
       "      <td>rp3jwh</td>\n",
       "    </tr>\n",
       "    <tr>\n",
       "      <th>19</th>\n",
       "      <td>1</td>\n",
       "      <td>False</td>\n",
       "      <td>2018-06-19 14:00:23.655849000</td>\n",
       "      <td>hg5wrj</td>\n",
       "    </tr>\n",
       "    <tr>\n",
       "      <th>13</th>\n",
       "      <td>2</td>\n",
       "      <td>True</td>\n",
       "      <td>2018-06-19 14:01:46.931647000</td>\n",
       "      <td>46gc8v</td>\n",
       "    </tr>\n",
       "    <tr>\n",
       "      <th>26</th>\n",
       "      <td>3</td>\n",
       "      <td>True</td>\n",
       "      <td>2018-06-19 14:04:57.174423000</td>\n",
       "      <td>8v9qq5</td>\n",
       "    </tr>\n",
       "    <tr>\n",
       "      <th>16</th>\n",
       "      <td>4</td>\n",
       "      <td>True</td>\n",
       "      <td>2018-06-19 14:13:45.909285000</td>\n",
       "      <td>vj2c8r</td>\n",
       "    </tr>\n",
       "    <tr>\n",
       "      <th>34</th>\n",
       "      <td>5</td>\n",
       "      <td>False</td>\n",
       "      <td>2018-06-19 14:21:16.768986000</td>\n",
       "      <td>g894qw</td>\n",
       "    </tr>\n",
       "    <tr>\n",
       "      <th>4</th>\n",
       "      <td>1</td>\n",
       "      <td>True</td>\n",
       "      <td>2018-06-19 18:48:11.579185000</td>\n",
       "      <td>7fwgf9</td>\n",
       "    </tr>\n",
       "    <tr>\n",
       "      <th>11</th>\n",
       "      <td>5</td>\n",
       "      <td>False</td>\n",
       "      <td>2018-06-19 21:41:36.483206000</td>\n",
       "      <td>wvm2v2</td>\n",
       "    </tr>\n",
       "    <tr>\n",
       "      <th>14</th>\n",
       "      <td>0</td>\n",
       "      <td>True</td>\n",
       "      <td>2018-06-19 23:20:14.480438000</td>\n",
       "      <td>26f62q</td>\n",
       "    </tr>\n",
       "    <tr>\n",
       "      <th>49</th>\n",
       "      <td>5</td>\n",
       "      <td>True</td>\n",
       "      <td>2018-06-29 19:08:23.426032000</td>\n",
       "      <td>wxf9cx</td>\n",
       "    </tr>\n",
       "    <tr>\n",
       "      <th>48</th>\n",
       "      <td>5</td>\n",
       "      <td>False</td>\n",
       "      <td>2018-06-29 19:09:58.941305000</td>\n",
       "      <td>q249xr</td>\n",
       "    </tr>\n",
       "    <tr>\n",
       "      <th>15</th>\n",
       "      <td>1</td>\n",
       "      <td>False</td>\n",
       "      <td>2018-06-29 19:10:55.429305000</td>\n",
       "      <td>x534g7</td>\n",
       "    </tr>\n",
       "    <tr>\n",
       "      <th>42</th>\n",
       "      <td>2</td>\n",
       "      <td>True</td>\n",
       "      <td>2018-06-29 19:13:47.400024000</td>\n",
       "      <td>gmvv6r</td>\n",
       "    </tr>\n",
       "    <tr>\n",
       "      <th>27</th>\n",
       "      <td>3</td>\n",
       "      <td>False</td>\n",
       "      <td>2018-06-29 19:28:20.351801000</td>\n",
       "      <td>9w9289</td>\n",
       "    </tr>\n",
       "    <tr>\n",
       "      <th>23</th>\n",
       "      <td>4</td>\n",
       "      <td>False</td>\n",
       "      <td>2018-06-29 19:30:50.432306000</td>\n",
       "      <td>82vfr3</td>\n",
       "    </tr>\n",
       "    <tr>\n",
       "      <th>45</th>\n",
       "      <td>5</td>\n",
       "      <td>False</td>\n",
       "      <td>2018-06-29 19:31:11.057917000</td>\n",
       "      <td>39rc8p</td>\n",
       "    </tr>\n",
       "    <tr>\n",
       "      <th>33</th>\n",
       "      <td>1</td>\n",
       "      <td>False</td>\n",
       "      <td>2018-06-29 19:46:37.500757000</td>\n",
       "      <td>4mc59p</td>\n",
       "    </tr>\n",
       "    <tr>\n",
       "      <th>24</th>\n",
       "      <td>3</td>\n",
       "      <td>True</td>\n",
       "      <td>2018-06-29 19:47:23.932932000</td>\n",
       "      <td>w3xwhj</td>\n",
       "    </tr>\n",
       "    <tr>\n",
       "      <th>43</th>\n",
       "      <td>4</td>\n",
       "      <td>True</td>\n",
       "      <td>2018-06-29 22:32:56.217884000</td>\n",
       "      <td>3pcfjp</td>\n",
       "    </tr>\n",
       "    <tr>\n",
       "      <th>40</th>\n",
       "      <td>0</td>\n",
       "      <td>True</td>\n",
       "      <td>2018-06-30 02:06:47.522958999</td>\n",
       "      <td>85c66x</td>\n",
       "    </tr>\n",
       "  </tbody>\n",
       "</table>\n",
       "</div>"
      ],
      "text/plain": [
       "    assignment  completed               login_timestamp participant_id\n",
       "5            0      False 2018-06-11 16:52:46.376846000         cc67cg\n",
       "31           1      False 2018-06-11 17:02:25.574920000         h53736\n",
       "46           2       True 2018-06-11 17:03:54.946232000         r6xh7g\n",
       "35           0      False 2018-06-13 16:58:30.992824000         fh7wf7\n",
       "6            1       True 2018-06-13 17:02:00.581406000         567vjj\n",
       "21           2      False 2018-06-13 17:09:01.195205000         g22xw9\n",
       "29           0      False 2018-06-14 15:56:20.811908000         vx6c3q\n",
       "22           3      False 2018-06-14 15:58:52.523238000         8xm39m\n",
       "36           1      False 2018-06-14 19:43:29.298186000         8v3fmf\n",
       "10           1      False 2018-06-15 16:13:40.956185000         9qcf68\n",
       "2            0      False 2018-06-15 17:03:54.469832000         4r854f\n",
       "1            2      False 2018-06-15 18:30:05.909293000         g2r893\n",
       "9            3       True 2018-06-15 22:05:06.539296000         x9m97g\n",
       "44           4      False 2018-06-16 04:07:37.926465000         x9pj67\n",
       "30           0       True 2018-06-16 13:21:56.317387000         48mr5g\n",
       "8            1       True 2018-06-16 15:01:51.101408000         h6c27m\n",
       "18           2      False 2018-06-18 14:36:39.588495000         8rcfwv\n",
       "38           4      False 2018-06-18 14:37:40.949760000         x4rw2x\n",
       "41           5      False 2018-06-18 14:41:28.065513000         wwj852\n",
       "7            2       True 2018-06-18 14:42:07.362365000         pfqcmf\n",
       "17           4       True 2018-06-18 17:14:01.484295000         fcc4fp\n",
       "32           5       True 2018-06-18 17:32:25.684626000         3qjwxv\n",
       "37           0       True 2018-06-18 19:50:02.137483000         5p7cf7\n",
       "20           1       True 2018-06-18 20:20:57.964990000         mhh838\n",
       "50           3      False 2018-06-18 20:41:58.995449000         w4mg78\n",
       "39           1      False 2018-06-18 20:44:39.092430000         ccq38p\n",
       "12           2       True 2018-06-18 20:45:17.463646000         xxxp65\n",
       "0            3       True 2018-06-18 22:01:44.731314000         94wwrq\n",
       "28           4       True 2018-06-18 22:54:14.450814000         vg926m\n",
       "25           5      False 2018-06-18 23:25:00.966041000         fw68w3\n",
       "3            0       True 2018-06-18 23:26:09.849871000         fjr9xf\n",
       "47           5       True 2018-06-19 00:23:19.957237000         rp3jwh\n",
       "19           1      False 2018-06-19 14:00:23.655849000         hg5wrj\n",
       "13           2       True 2018-06-19 14:01:46.931647000         46gc8v\n",
       "26           3       True 2018-06-19 14:04:57.174423000         8v9qq5\n",
       "16           4       True 2018-06-19 14:13:45.909285000         vj2c8r\n",
       "34           5      False 2018-06-19 14:21:16.768986000         g894qw\n",
       "4            1       True 2018-06-19 18:48:11.579185000         7fwgf9\n",
       "11           5      False 2018-06-19 21:41:36.483206000         wvm2v2\n",
       "14           0       True 2018-06-19 23:20:14.480438000         26f62q\n",
       "49           5       True 2018-06-29 19:08:23.426032000         wxf9cx\n",
       "48           5      False 2018-06-29 19:09:58.941305000         q249xr\n",
       "15           1      False 2018-06-29 19:10:55.429305000         x534g7\n",
       "42           2       True 2018-06-29 19:13:47.400024000         gmvv6r\n",
       "27           3      False 2018-06-29 19:28:20.351801000         9w9289\n",
       "23           4      False 2018-06-29 19:30:50.432306000         82vfr3\n",
       "45           5      False 2018-06-29 19:31:11.057917000         39rc8p\n",
       "33           1      False 2018-06-29 19:46:37.500757000         4mc59p\n",
       "24           3       True 2018-06-29 19:47:23.932932000         w3xwhj\n",
       "43           4       True 2018-06-29 22:32:56.217884000         3pcfjp\n",
       "40           0       True 2018-06-30 02:06:47.522958999         85c66x"
      ]
     },
     "execution_count": 66,
     "metadata": {},
     "output_type": "execute_result"
    }
   ],
   "source": [
    "completions"
   ]
  }
 ],
 "metadata": {
  "kernelspec": {
   "display_name": "Python 3",
   "language": "python",
   "name": "python3"
  },
  "language_info": {
   "codemirror_mode": {
    "name": "ipython",
    "version": 3
   },
   "file_extension": ".py",
   "mimetype": "text/x-python",
   "name": "python",
   "nbconvert_exporter": "python",
   "pygments_lexer": "ipython3",
   "version": "3.6.4"
  }
 },
 "nbformat": 4,
 "nbformat_minor": 2
}
