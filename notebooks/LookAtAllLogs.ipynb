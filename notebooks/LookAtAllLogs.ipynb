{
 "cells": [
  {
   "cell_type": "code",
   "execution_count": 1,
   "metadata": {
    "scrolled": true
   },
   "outputs": [],
   "source": [
    "import pathlib\n",
    "import json"
   ]
  },
  {
   "cell_type": "code",
   "execution_count": 2,
   "metadata": {
    "scrolled": true
   },
   "outputs": [],
   "source": [
    "from textrec.paths import paths"
   ]
  },
  {
   "cell_type": "code",
   "execution_count": 3,
   "metadata": {
    "scrolled": true
   },
   "outputs": [],
   "source": [
    "import glob\n",
    "import os\n",
    "import json\n",
    "import dateutil.parser\n",
    "import datetime\n",
    "import toolz"
   ]
  },
  {
   "cell_type": "code",
   "execution_count": 4,
   "metadata": {
    "scrolled": true
   },
   "outputs": [],
   "source": [
    "INVALID = (\n",
    "    '3vf5fg', #(already done as 9fmfm4),\n",
    "    '73qq5q', #(already done as 77j4mf),\n",
    "    'ffhgxm', #(something messed up in analysis, logfile is out of sync)\n",
    ")\n"
   ]
  },
  {
   "cell_type": "code",
   "execution_count": 5,
   "metadata": {
    "scrolled": true
   },
   "outputs": [],
   "source": [
    "def get_log_data(log_file, earliest):\n",
    "    size = os.path.getsize(log_file)\n",
    "    meta = None\n",
    "    num_nexts = 0\n",
    "    with open(log_file) as f:\n",
    "        for idx, line in enumerate(f):\n",
    "            if 'next' not in line and 'login' not in line and 'finalData' not in line:\n",
    "                continue\n",
    "            line = json.loads(line)\n",
    "            if line.get('type') == 'next':\n",
    "                num_nexts += 1\n",
    "            elif line.get('type') == 'login':\n",
    "                if 'jsTimestamp' in line:\n",
    "                    timestamp = datetime.datetime.fromtimestamp(line['jsTimestamp'] / 1000)\n",
    "                else:\n",
    "                    timestamp = dateutil.parser.parse(line['timestamp'])\n",
    "                if timestamp < earliest:\n",
    "                    return\n",
    "                platform_id = line['platform_id']\n",
    "                meta = dict(\n",
    "                    timestamp=timestamp,\n",
    "                    config=line['config'],\n",
    "                    platform_id=platform_id,\n",
    "                    participant_id=line['participant_id'],\n",
    "                    size=size,\n",
    "                    complete=False) # will override\n",
    "            elif line.get('type') == 'finalData':\n",
    "#                 meta['finalData'] = line['finalData']\n",
    "                meta['complete'] = True\n",
    "    if meta:\n",
    "        return dict(meta, num_nexts=num_nexts)\n",
    "\n",
    "\n",
    "def get_logs(log_path, earliest):\n",
    "    log_files = []\n",
    "    for log_file in log_path.glob('*.jsonl'):\n",
    "        data = get_log_data(log_file, earliest)\n",
    "        if data is not None:\n",
    "#             print(data)\n",
    "            log_files.append(data)\n",
    "    return log_files"
   ]
  },
  {
   "cell_type": "code",
   "execution_count": 6,
   "metadata": {
    "scrolled": true
   },
   "outputs": [],
   "source": [
    "log_files = get_logs(paths.top_level / 'logs-gcp1', earliest = datetime.datetime(2018, 5, 2))"
   ]
  },
  {
   "cell_type": "code",
   "execution_count": 7,
   "metadata": {
    "scrolled": true
   },
   "outputs": [],
   "source": [
    "not_invalid = [entry for entry in log_files if entry['participant_id'] not in INVALID]"
   ]
  },
  {
   "cell_type": "code",
   "execution_count": 8,
   "metadata": {
    "scrolled": true
   },
   "outputs": [],
   "source": [
    "did_some_work = [entry for entry in not_invalid if entry['num_nexts'] > 4] # arbitrary cutoff"
   ]
  },
  {
   "cell_type": "code",
   "execution_count": 9,
   "metadata": {
    "scrolled": true
   },
   "outputs": [],
   "source": [
    "incomplete = [entry for entry in did_some_work if not entry['complete']]"
   ]
  },
  {
   "cell_type": "code",
   "execution_count": 10,
   "metadata": {
    "scrolled": true
   },
   "outputs": [
    {
     "data": {
      "text/plain": [
       "7"
      ]
     },
     "execution_count": 10,
     "metadata": {},
     "output_type": "execute_result"
    }
   ],
   "source": [
    "len(incomplete)"
   ]
  },
  {
   "cell_type": "code",
   "execution_count": 13,
   "metadata": {},
   "outputs": [],
   "source": [
    "from textrec import analysis_util"
   ]
  },
  {
   "cell_type": "code",
   "execution_count": 23,
   "metadata": {},
   "outputs": [],
   "source": [
    "an = analysis_util.get_log_analysis(incomplete[0]['participant_id'])"
   ]
  },
  {
   "cell_type": "code",
   "execution_count": 24,
   "metadata": {},
   "outputs": [
    {
     "data": {
      "text/plain": [
       "dict_keys(['participant_id', 'isComplete', 'byExpPage', 'pageSeq', 'screenTimes', 'allControlledInputs', 'git_rev'])"
      ]
     },
     "execution_count": 24,
     "metadata": {},
     "output_type": "execute_result"
    }
   ],
   "source": [
    "an.keys()"
   ]
  },
  {
   "cell_type": "code",
   "execution_count": 25,
   "metadata": {},
   "outputs": [
    {
     "data": {
      "text/plain": [
       "False"
      ]
     },
     "execution_count": 25,
     "metadata": {},
     "output_type": "execute_result"
    }
   ],
   "source": [
    "an['isComplete']"
   ]
  },
  {
   "cell_type": "code",
   "execution_count": 26,
   "metadata": {},
   "outputs": [
    {
     "data": {
      "text/plain": [
       "[['intro-use_predictive', 'Yes'],\n",
       " ['intro-I like to solve complex problems.', 1],\n",
       " ['intro-I have difficulty understanding abstract ideas.', 1],\n",
       " ['intro-I feel comfortable around people.', 2],\n",
       " ['intro-I have little to say.', 2]]"
      ]
     },
     "execution_count": 26,
     "metadata": {},
     "output_type": "execute_result"
    }
   ],
   "source": [
    "an['allControlledInputs']"
   ]
  },
  {
   "cell_type": "code",
   "execution_count": 32,
   "metadata": {},
   "outputs": [],
   "source": [
    "%run -m textrec.batch_analysis"
   ]
  },
  {
   "cell_type": "code",
   "execution_count": 35,
   "metadata": {},
   "outputs": [
    {
     "name": "stdout",
     "output_type": "stream",
     "text": [
      "\n",
      "3wjx7c\n",
      "practice-0:general:a black cat napping on a sunny unpainted wood bench in front of a red wall \n",
      "final-0-0:general:there is a cat that is laying on top of a tablet in front of a cup of wine.? the cat is looking at its master. \n",
      "final-0-1:general:this is a small bathroom and there is someone in tne shower and the bathroom is also a modern toilet. \n",
      "final-0-2:general:\n",
      "\n",
      "intro-use_predictive: Yes\n",
      "\n",
      "Total time: 4.7m\n",
      "ExperimentScreen: 245.0\n",
      "IntroSurvey: 16.3\n",
      "Welcome: 12.2\n",
      "TaskDescription: 4.2\n",
      "PostPractice: 1.9\n",
      "StudyDesc: 1.8\n",
      "Instructions: 1.1\n",
      "\n",
      "5xc2f3\n",
      "practice-0:specific:a black cat napping on a sunny unpainted wood bench in front of a red wall \n",
      "final-0-0:specific:a cat sitting in front of a glass of wine looking up at the camera. \n",
      "final-0-1:specific:a bathroom shower with dirty glass doors with a towel hanging on it \n",
      "final-0-2:specific:there is no image here \n",
      "practice-1:general:a man with black hair and glasses placing a large turkey into an upper oven\n",
      "\n",
      "intro-use_predictive: Yes\n",
      "postTask-0-techDiff: Yes, there was no third image on this series.\n",
      "postTask-0-other: It seems that the descriptions were taken from others, the exact words I needed were on the keyboard already.\n",
      "\n",
      "Total time: 6.9m\n",
      "ExperimentScreen: 163.3\n",
      "Welcome: 113.8\n",
      "PostTaskSurvey: 107.9\n",
      "TaskDescription: 8.4\n",
      "IntroSurvey: 8.2\n",
      "StudyDesc: 7.6\n",
      "Instructions: 2.7\n",
      "PostPractice: 1.1\n",
      "\n",
      "j2hq4v\n",
      "practice-0:specific:a black cat napping on a sunny unpainted wood bench in front of a red wall \n",
      "final-0-0:specific:a cat in front of a glass of wine looking at the camera \n",
      "final-0-1:specific:s shower with dirty doors with a towel on it \n",
      "final-0-2:specific:\n",
      "\n",
      "intro-use_predictive: Yes\n",
      "\n",
      "Total time: 3.1m\n",
      "ExperimentScreen: 157.1\n",
      "IntroSurvey: 12.5\n",
      "Welcome: 5.7\n",
      "TaskDescription: 4.8\n",
      "PostPractice: 2.1\n",
      "StudyDesc: 1.5\n",
      "Instructions: 1.2\n",
      "\n",
      "pmvwxg\n",
      "practice-0:norecs:\n",
      "\n",
      "intro-use_predictive: Yes\n",
      "\n",
      "Total time: 3.0m\n",
      "TaskDescription: 131.4\n",
      "StudyDesc: 24.0\n",
      "IntroSurvey: 17.1\n",
      "Welcome: 8.3\n",
      "Instructions: 1.7\n",
      "\n",
      "qwfvx5\n",
      "practice-0:general:a black cat napping on a sunny unpainted wood bench in front of a red wall \n",
      "final-0-0:general:there is a cat that is laying on top of the table in front of a cup of wine \n",
      "final-0-1:general:\n",
      "\n",
      "intro-use_predictive: Yes\n",
      "\n",
      "Total time: 8.4m\n",
      "ExperimentScreen: 322.9\n",
      "TaskDescription: 76.6\n",
      "StudyDesc: 34.9\n",
      "Welcome: 28.8\n",
      "IntroSurvey: 23.0\n",
      "PostPractice: 12.2\n",
      "Instructions: 2.9\n",
      "\n",
      "rm9g6v\n",
      "practice-0:specific:\n",
      "\n",
      "intro-use_predictive: Yes\n",
      "\n",
      "Total time: 3.9m\n",
      "TaskDescription: 106.2\n",
      "Welcome: 100.2\n",
      "IntroSurvey: 13.8\n",
      "StudyDesc: 10.2\n",
      "Instructions: 1.0\n",
      "\n",
      "ww3222\n",
      "practice-0:specific:a black cat napping on a sunny unpainted \n",
      "\n",
      "\n",
      "Total time: 0.3m\n",
      "StudyDesc: 5.1\n",
      "Welcome: 4.4\n",
      "TaskDescription: 4.0\n",
      "IntroSurvey: 2.8\n",
      "Instructions: 1.2\n"
     ]
    }
   ],
   "source": [
    "summarize([x['participant_id'] for x in incomplete], incomplete_ok=True)"
   ]
  },
  {
   "cell_type": "code",
   "execution_count": null,
   "metadata": {},
   "outputs": [],
   "source": []
  },
  {
   "cell_type": "code",
   "execution_count": 36,
   "metadata": {
    "scrolled": true
   },
   "outputs": [],
   "source": [
    "complete = [entry for entry in not_invalid if entry['complete']]\n",
    "complete.sort(key=lambda x: x['timestamp'])"
   ]
  },
  {
   "cell_type": "code",
   "execution_count": 37,
   "metadata": {
    "scrolled": true
   },
   "outputs": [
    {
     "data": {
      "text/plain": [
       "'h52x67 jvccx2 36x2r3 gg65g6 692c8j qmwvwv 77j4mf 4ggxj8 5c39rx fvwhpc 26w4jv 7g8xw8 533r6c 74v545 vxjcf7 9f5xwx 3267ww wf4c3m 7jcm37 cf9p8m phqcw9 5jj59g gw3w72 559x69 gvwqp6'"
      ]
     },
     "execution_count": 37,
     "metadata": {},
     "output_type": "execute_result"
    }
   ],
   "source": [
    "' '.join(entry['participant_id'] for entry in complete)"
   ]
  },
  {
   "cell_type": "code",
   "execution_count": 38,
   "metadata": {
    "scrolled": true
   },
   "outputs": [
    {
     "name": "stdout",
     "output_type": "stream",
     "text": [
      "\n",
      "25 completed in cap\n",
      "cap: h52x67 jvccx2 36x2r3 gg65g6 692c8j qmwvwv 77j4mf 4ggxj8 5c39rx fvwhpc 26w4jv 7g8xw8 533r6c 74v545 vxjcf7 9f5xwx 3267ww wf4c3m 7jcm37 cf9p8m phqcw9 5jj59g gw3w72 559x69 gvwqp6\n"
     ]
    }
   ],
   "source": [
    "# Dump a list of participant_ids\n",
    "for config, group in toolz.groupby('config', complete).items():\n",
    "    print()\n",
    "    group = sorted(group, key=lambda x: x['timestamp'])\n",
    "    print(f'{len(group)} completed in {config}')\n",
    "    print(f'{config}:',  ' '.join(participant['participant_id'] for participant in group))"
   ]
  },
  {
   "cell_type": "code",
   "execution_count": null,
   "metadata": {
    "scrolled": true
   },
   "outputs": [],
   "source": []
  }
 ],
 "metadata": {
  "kernelspec": {
   "display_name": "Python 3",
   "language": "python",
   "name": "python3"
  },
  "language_info": {
   "codemirror_mode": {
    "name": "ipython",
    "version": 3
   },
   "file_extension": ".py",
   "mimetype": "text/x-python",
   "name": "python",
   "nbconvert_exporter": "python",
   "pygments_lexer": "ipython3",
   "version": "3.6.4"
  }
 },
 "nbformat": 4,
 "nbformat_minor": 2
}
