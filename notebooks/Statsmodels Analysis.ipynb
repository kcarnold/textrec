{
 "cells": [
  {
   "cell_type": "code",
   "execution_count": 1,
   "metadata": {},
   "outputs": [],
   "source": [
    "%matplotlib inline\n",
    "import numpy as np\n",
    "import pandas as pd\n",
    "import statsmodels.api as sm\n",
    "import statsmodels.formula.api as smf"
   ]
  },
  {
   "cell_type": "code",
   "execution_count": 13,
   "metadata": {},
   "outputs": [],
   "source": [
    "data = pd.read_csv('../data/analyzed/combined_data.csv', dtype={'stimulus': str})"
   ]
  },
  {
   "cell_type": "code",
   "execution_count": 15,
   "metadata": {},
   "outputs": [],
   "source": [
    "data['mintaps_standard'] = data['corrected_tapstotype_standard'] / data['num_words']"
   ]
  },
  {
   "cell_type": "code",
   "execution_count": 18,
   "metadata": {},
   "outputs": [
    {
     "name": "stderr",
     "output_type": "stream",
     "text": [
      "/Users/kcarnold/anaconda/lib/python3.6/site-packages/statsmodels/regression/mixed_linear_model.py:2066: ConvergenceWarning: The Hessian matrix at the estimated parameter values is not positive definite.\n",
      "  warnings.warn(msg, ConvergenceWarning)\n"
     ]
    },
    {
     "data": {
      "text/html": [
       "<table class=\"simpletable\">\n",
       "<tr>\n",
       "       <td>Model:</td>       <td>MixedLM</td> <td>Dependent Variable:</td> <td>mintaps_standard</td>\n",
       "</tr>\n",
       "<tr>\n",
       "  <td>No. Observations:</td>  <td>1908</td>         <td>Method:</td>             <td>REML</td>      \n",
       "</tr>\n",
       "<tr>\n",
       "     <td>No. Groups:</td>     <td>1908</td>         <td>Scale:</td>             <td>0.0770</td>     \n",
       "</tr>\n",
       "<tr>\n",
       "  <td>Min. group size:</td>     <td>1</td>        <td>Likelihood:</td>         <td>-941.0048</td>   \n",
       "</tr>\n",
       "<tr>\n",
       "  <td>Max. group size:</td>     <td>1</td>        <td>Converged:</td>             <td>Yes</td>      \n",
       "</tr>\n",
       "<tr>\n",
       "  <td>Mean group size:</td>    <td>1.0</td>            <td></td>                   <td></td>        \n",
       "</tr>\n",
       "</table>\n",
       "<table class=\"simpletable\">\n",
       "<tr>\n",
       "              <td></td>              <th>Coef.</th> <th>Std.Err.</th>    <th>z</th>    <th>P>|z|</th> <th>[0.025</th> <th>0.975]</th>\n",
       "</tr>\n",
       "<tr>\n",
       "  <th>Intercept</th>                 <td>1.694</td>   <td>0.009</td>  <td>192.289</td> <td>0.000</td>  <td>1.677</td>  <td>1.711</td>\n",
       "</tr>\n",
       "<tr>\n",
       "  <th>C(experiment)[T.spec1]</th>    <td>0.045</td>   <td>0.028</td>   <td>1.600</td>  <td>0.110</td> <td>-0.010</td>  <td>0.100</td>\n",
       "</tr>\n",
       "<tr>\n",
       "  <th>C(experiment)[T.spec2]</th>   <td>-0.054</td>   <td>0.024</td>  <td>-2.235</td>  <td>0.025</td> <td>-0.101</td> <td>-0.007</td>\n",
       "</tr>\n",
       "<tr>\n",
       "  <th>C(condition)[T.gated]</th>     <td>0.090</td>   <td>0.028</td>   <td>3.208</td>  <td>0.001</td>  <td>0.035</td>  <td>0.144</td>\n",
       "</tr>\n",
       "<tr>\n",
       "  <th>C(condition)[T.norecs]</th>    <td>0.148</td>   <td>0.025</td>   <td>5.819</td>  <td>0.000</td>  <td>0.098</td>  <td>0.198</td>\n",
       "</tr>\n",
       "<tr>\n",
       "  <th>C(condition)[T.standard]</th> <td>-0.013</td>   <td>0.024</td>  <td>-0.516</td>  <td>0.606</td> <td>-0.061</td>  <td>0.035</td>\n",
       "</tr>\n",
       "<tr>\n",
       "  <th>idx</th>                      <td>-0.008</td>   <td>0.002</td>  <td>-3.545</td>  <td>0.000</td> <td>-0.012</td> <td>-0.003</td>\n",
       "</tr>\n",
       "<tr>\n",
       "  <th>Group Var</th>                 <td>0.077</td>     <td></td>        <td></td>       <td></td>       <td></td>       <td></td>   \n",
       "</tr>\n",
       "</table>"
      ],
      "text/plain": [
       "<class 'statsmodels.iolib.summary2.Summary'>\n",
       "\"\"\"\n",
       "               Mixed Linear Model Regression Results\n",
       "====================================================================\n",
       "Model:              MixedLM   Dependent Variable:   mintaps_standard\n",
       "No. Observations:   1908      Method:               REML            \n",
       "No. Groups:         1908      Scale:                0.0770          \n",
       "Min. group size:    1         Likelihood:           -941.0048       \n",
       "Max. group size:    1         Converged:            Yes             \n",
       "Mean group size:    1.0                                             \n",
       "--------------------------------------------------------------------\n",
       "                         Coef.  Std.Err.    z    P>|z| [0.025 0.975]\n",
       "--------------------------------------------------------------------\n",
       "Intercept                 1.694    0.009 192.289 0.000  1.677  1.711\n",
       "C(experiment)[T.spec1]    0.045    0.028   1.600 0.110 -0.010  0.100\n",
       "C(experiment)[T.spec2]   -0.054    0.024  -2.235 0.025 -0.101 -0.007\n",
       "C(condition)[T.gated]     0.090    0.028   3.208 0.001  0.035  0.144\n",
       "C(condition)[T.norecs]    0.148    0.025   5.819 0.000  0.098  0.198\n",
       "C(condition)[T.standard] -0.013    0.024  -0.516 0.606 -0.061  0.035\n",
       "idx                      -0.008    0.002  -3.545 0.000 -0.012 -0.003\n",
       "Group Var                 0.077                                     \n",
       "====================================================================\n",
       "\n",
       "\"\"\""
      ]
     },
     "execution_count": 18,
     "metadata": {},
     "output_type": "execute_result"
    }
   ],
   "source": [
    "model = smf.mixedlm(\"mintaps_standard ~ C(experiment) + C(condition) + idx\", data=data, groups=data.participant.str.cat(data.stimulus, sep='-'))\n",
    "model.fit().summary()"
   ]
  },
  {
   "cell_type": "code",
   "execution_count": 22,
   "metadata": {},
   "outputs": [
    {
     "data": {
      "text/html": [
       "<table class=\"simpletable\">\n",
       "<tr>\n",
       "       <td>Model:</td>       <td>MixedLM</td> <td>Dependent Variable:</td> <td>mintaps_standard</td>\n",
       "</tr>\n",
       "<tr>\n",
       "  <td>No. Observations:</td>  <td>1908</td>         <td>Method:</td>             <td>REML</td>      \n",
       "</tr>\n",
       "<tr>\n",
       "     <td>No. Groups:</td>      <td>165</td>         <td>Scale:</td>             <td>0.1339</td>     \n",
       "</tr>\n",
       "<tr>\n",
       "  <td>Min. group size:</td>     <td>9</td>        <td>Likelihood:</td>         <td>-890.2097</td>   \n",
       "</tr>\n",
       "<tr>\n",
       "  <td>Max. group size:</td>    <td>12</td>        <td>Converged:</td>             <td>Yes</td>      \n",
       "</tr>\n",
       "<tr>\n",
       "  <td>Mean group size:</td>   <td>11.6</td>            <td></td>                   <td></td>        \n",
       "</tr>\n",
       "</table>\n",
       "<table class=\"simpletable\">\n",
       "<tr>\n",
       "              <td></td>              <th>Coef.</th> <th>Std.Err.</th>    <th>z</th>   <th>P>|z|</th> <th>[0.025</th> <th>0.975]</th>\n",
       "</tr>\n",
       "<tr>\n",
       "  <th>Intercept</th>                 <td>1.694</td>   <td>0.040</td>  <td>42.543</td> <td>0.000</td>  <td>1.616</td>  <td>1.772</td>\n",
       "</tr>\n",
       "<tr>\n",
       "  <th>C(experiment)[T.spec1]</th>    <td>0.045</td>   <td>0.044</td>   <td>1.028</td> <td>0.304</td> <td>-0.041</td>  <td>0.131</td>\n",
       "</tr>\n",
       "<tr>\n",
       "  <th>C(experiment)[T.spec2]</th>   <td>-0.054</td>   <td>0.039</td>  <td>-1.386</td> <td>0.166</td> <td>-0.129</td>  <td>0.022</td>\n",
       "</tr>\n",
       "<tr>\n",
       "  <th>C(condition)[T.gated]</th>     <td>0.090</td>   <td>0.039</td>   <td>2.314</td> <td>0.021</td>  <td>0.014</td>  <td>0.165</td>\n",
       "</tr>\n",
       "<tr>\n",
       "  <th>C(condition)[T.norecs]</th>    <td>0.148</td>   <td>0.034</td>   <td>4.360</td> <td>0.000</td>  <td>0.081</td>  <td>0.214</td>\n",
       "</tr>\n",
       "<tr>\n",
       "  <th>C(condition)[T.standard]</th> <td>-0.013</td>   <td>0.034</td>  <td>-0.373</td> <td>0.709</td> <td>-0.079</td>  <td>0.054</td>\n",
       "</tr>\n",
       "<tr>\n",
       "  <th>idx</th>                      <td>-0.008</td>   <td>0.002</td>  <td>-3.126</td> <td>0.002</td> <td>-0.013</td> <td>-0.003</td>\n",
       "</tr>\n",
       "<tr>\n",
       "  <th>participant Var</th>           <td>0.020</td>   <td>0.010</td>     <td></td>      <td></td>       <td></td>       <td></td>   \n",
       "</tr>\n",
       "</table>"
      ],
      "text/plain": [
       "<class 'statsmodels.iolib.summary2.Summary'>\n",
       "\"\"\"\n",
       "               Mixed Linear Model Regression Results\n",
       "===================================================================\n",
       "Model:               MixedLM  Dependent Variable:  mintaps_standard\n",
       "No. Observations:    1908     Method:              REML            \n",
       "No. Groups:          165      Scale:               0.1339          \n",
       "Min. group size:     9        Likelihood:          -890.2097       \n",
       "Max. group size:     12       Converged:           Yes             \n",
       "Mean group size:     11.6                                          \n",
       "-------------------------------------------------------------------\n",
       "                         Coef.  Std.Err.   z    P>|z| [0.025 0.975]\n",
       "-------------------------------------------------------------------\n",
       "Intercept                 1.694    0.040 42.543 0.000  1.616  1.772\n",
       "C(experiment)[T.spec1]    0.045    0.044  1.028 0.304 -0.041  0.131\n",
       "C(experiment)[T.spec2]   -0.054    0.039 -1.386 0.166 -0.129  0.022\n",
       "C(condition)[T.gated]     0.090    0.039  2.314 0.021  0.014  0.165\n",
       "C(condition)[T.norecs]    0.148    0.034  4.360 0.000  0.081  0.214\n",
       "C(condition)[T.standard] -0.013    0.034 -0.373 0.709 -0.079  0.054\n",
       "idx                      -0.008    0.002 -3.126 0.002 -0.013 -0.003\n",
       "participant Var           0.020    0.010                           \n",
       "===================================================================\n",
       "\n",
       "\"\"\""
      ]
     },
     "execution_count": 22,
     "metadata": {},
     "output_type": "execute_result"
    }
   ],
   "source": [
    "model = smf.mixedlm(\"mintaps_standard ~ C(experiment) + C(condition) + idx\", data=data, groups='participant')\n",
    "model.fit().summary()"
   ]
  },
  {
   "cell_type": "code",
   "execution_count": 25,
   "metadata": {},
   "outputs": [
    {
     "data": {
      "text/html": [
       "<table class=\"simpletable\">\n",
       "<tr>\n",
       "       <td>Model:</td>       <td>MixedLM</td> <td>Dependent Variable:</td> <td>mintaps_standard</td>\n",
       "</tr>\n",
       "<tr>\n",
       "  <td>No. Observations:</td>  <td>1908</td>         <td>Method:</td>             <td>REML</td>      \n",
       "</tr>\n",
       "<tr>\n",
       "     <td>No. Groups:</td>       <td>1</td>          <td>Scale:</td>             <td>0.1119</td>     \n",
       "</tr>\n",
       "<tr>\n",
       "  <td>Min. group size:</td>   <td>1908</td>       <td>Likelihood:</td>         <td>-753.8494</td>   \n",
       "</tr>\n",
       "<tr>\n",
       "  <td>Max. group size:</td>   <td>1908</td>       <td>Converged:</td>             <td>Yes</td>      \n",
       "</tr>\n",
       "<tr>\n",
       "  <td>Mean group size:</td>  <td>1908.0</td>           <td></td>                   <td></td>        \n",
       "</tr>\n",
       "</table>\n",
       "<table class=\"simpletable\">\n",
       "<tr>\n",
       "              <td></td>              <th>Coef.</th> <th>Std.Err.</th>    <th>z</th>   <th>P>|z|</th> <th>[0.025</th> <th>0.975]</th>\n",
       "</tr>\n",
       "<tr>\n",
       "  <th>Intercept</th>                 <td>1.557</td>   <td>0.245</td>   <td>6.365</td> <td>0.000</td>  <td>1.078</td>  <td>2.037</td>\n",
       "</tr>\n",
       "<tr>\n",
       "  <th>C(experiment)[T.spec1]</th>    <td>0.042</td>   <td>0.043</td>   <td>0.979</td> <td>0.328</td> <td>-0.043</td>  <td>0.128</td>\n",
       "</tr>\n",
       "<tr>\n",
       "  <th>C(experiment)[T.spec2]</th>   <td>-0.039</td>   <td>0.037</td>  <td>-1.053</td> <td>0.292</td> <td>-0.113</td>  <td>0.034</td>\n",
       "</tr>\n",
       "<tr>\n",
       "  <th>C(condition)[T.gated]</th>     <td>0.081</td>   <td>0.035</td>   <td>2.294</td> <td>0.022</td>  <td>0.012</td>  <td>0.151</td>\n",
       "</tr>\n",
       "<tr>\n",
       "  <th>C(condition)[T.norecs]</th>    <td>0.139</td>   <td>0.031</td>   <td>4.474</td> <td>0.000</td>  <td>0.078</td>  <td>0.200</td>\n",
       "</tr>\n",
       "<tr>\n",
       "  <th>C(condition)[T.standard]</th> <td>-0.020</td>   <td>0.031</td>  <td>-0.656</td> <td>0.512</td> <td>-0.081</td>  <td>0.040</td>\n",
       "</tr>\n",
       "<tr>\n",
       "  <th>idx</th>                      <td>-0.001</td>   <td>0.002</td>  <td>-0.595</td> <td>0.552</td> <td>-0.006</td>  <td>0.003</td>\n",
       "</tr>\n",
       "<tr>\n",
       "  <th>participant Var</th>           <td>0.022</td>   <td>0.011</td>     <td></td>      <td></td>       <td></td>       <td></td>   \n",
       "</tr>\n",
       "<tr>\n",
       "  <th>stimulus Var</th>              <td>0.036</td>   <td>0.051</td>     <td></td>      <td></td>       <td></td>       <td></td>   \n",
       "</tr>\n",
       "</table>"
      ],
      "text/plain": [
       "<class 'statsmodels.iolib.summary2.Summary'>\n",
       "\"\"\"\n",
       "               Mixed Linear Model Regression Results\n",
       "===================================================================\n",
       "Model:               MixedLM  Dependent Variable:  mintaps_standard\n",
       "No. Observations:    1908     Method:              REML            \n",
       "No. Groups:          1        Scale:               0.1119          \n",
       "Min. group size:     1908     Likelihood:          -753.8494       \n",
       "Max. group size:     1908     Converged:           Yes             \n",
       "Mean group size:     1908.0                                        \n",
       "-------------------------------------------------------------------\n",
       "                         Coef.  Std.Err.   z    P>|z| [0.025 0.975]\n",
       "-------------------------------------------------------------------\n",
       "Intercept                 1.557    0.245  6.365 0.000  1.078  2.037\n",
       "C(experiment)[T.spec1]    0.042    0.043  0.979 0.328 -0.043  0.128\n",
       "C(experiment)[T.spec2]   -0.039    0.037 -1.053 0.292 -0.113  0.034\n",
       "C(condition)[T.gated]     0.081    0.035  2.294 0.022  0.012  0.151\n",
       "C(condition)[T.norecs]    0.139    0.031  4.474 0.000  0.078  0.200\n",
       "C(condition)[T.standard] -0.020    0.031 -0.656 0.512 -0.081  0.040\n",
       "idx                      -0.001    0.002 -0.595 0.552 -0.006  0.003\n",
       "participant Var           0.022    0.011                           \n",
       "stimulus Var              0.036    0.051                           \n",
       "===================================================================\n",
       "\n",
       "\"\"\""
      ]
     },
     "execution_count": 25,
     "metadata": {},
     "output_type": "execute_result"
    }
   ],
   "source": [
    "model = smf.mixedlm(\"mintaps_standard ~ C(experiment) + C(condition) + idx\", data=data, \n",
    "                    groups=np.zeros(len(data)), vc_formula={\n",
    "                        'participant': '1 + C(participant)',\n",
    "                        'stimulus': '1 + C(stimulus)',\n",
    "#                        'cross': '1 + C(stimulus)*C(participant)'\n",
    "                    })\n",
    "model.fit().summary()"
   ]
  },
  {
   "cell_type": "code",
   "execution_count": null,
   "metadata": {},
   "outputs": [],
   "source": []
  }
 ],
 "metadata": {
  "kernelspec": {
   "display_name": "Python 3",
   "language": "python",
   "name": "python3"
  },
  "language_info": {
   "codemirror_mode": {
    "name": "ipython",
    "version": 3
   },
   "file_extension": ".py",
   "mimetype": "text/x-python",
   "name": "python",
   "nbconvert_exporter": "python",
   "pygments_lexer": "ipython3",
   "version": "3.6.6"
  },
  "toc": {
   "base_numbering": 1,
   "nav_menu": {},
   "number_sections": true,
   "sideBar": true,
   "skip_h1_title": false,
   "title_cell": "Table of Contents",
   "title_sidebar": "Contents",
   "toc_cell": false,
   "toc_position": {},
   "toc_section_display": true,
   "toc_window_display": false
  }
 },
 "nbformat": 4,
 "nbformat_minor": 2
}
