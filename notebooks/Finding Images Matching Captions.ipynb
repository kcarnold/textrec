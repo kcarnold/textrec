{
 "cells": [
  {
   "cell_type": "code",
   "execution_count": 1,
   "metadata": {},
   "outputs": [],
   "source": [
    "import json\n",
    "from collections import Counter\n",
    "import toolz\n",
    "from IPython.display import Image, HTML\n",
    "import tqdm"
   ]
  },
  {
   "cell_type": "code",
   "execution_count": 2,
   "metadata": {},
   "outputs": [],
   "source": [
    "images = json.load(open('/Users/kcarnold/src/ImageCaptioning.pytorch/data/dataset_coco.json'))['images']"
   ]
  },
  {
   "cell_type": "code",
   "execution_count": 4,
   "metadata": {},
   "outputs": [],
   "source": [
    "id2url = {img['id']: img['coco_url'] for img in\n",
    "              json.load(open('/Data/COCO/annotations/captions_train2017.json'))['images'] +\n",
    "              json.load(open('/Data/COCO/annotations/captions_val2017.json'))['images']\n",
    "         }"
   ]
  },
  {
   "cell_type": "code",
   "execution_count": 5,
   "metadata": {},
   "outputs": [
    {
     "data": {
      "text/plain": [
       "Counter({'restval': 30504, 'test': 5000, 'train': 82783, 'val': 5000})"
      ]
     },
     "execution_count": 5,
     "metadata": {},
     "output_type": "execute_result"
    }
   ],
   "source": [
    "Counter(img['split'] for img in images)"
   ]
  },
  {
   "cell_type": "code",
   "execution_count": 6,
   "metadata": {},
   "outputs": [
    {
     "data": {
      "text/plain": [
       "5000"
      ]
     },
     "execution_count": 6,
     "metadata": {},
     "output_type": "execute_result"
    }
   ],
   "source": [
    "images_by_split = toolz.groupby('split', images)\n",
    "valid_images = images_by_split['val']\n",
    "len(valid_images)"
   ]
  },
  {
   "cell_type": "code",
   "execution_count": 9,
   "metadata": {},
   "outputs": [],
   "source": [
    "def coco_url(cocoid):\n",
    "    return id2url[cocoid]\n",
    "#     return f'http://images.cocodataset.org/train2017/{cocoid:012d}.jpg'"
   ]
  },
  {
   "cell_type": "code",
   "execution_count": 10,
   "metadata": {},
   "outputs": [
    {
     "data": {
      "text/plain": [
       "'http://images.cocodataset.org/train2017/000000184613.jpg'"
      ]
     },
     "execution_count": 10,
     "metadata": {},
     "output_type": "execute_result"
    }
   ],
   "source": [
    "coco_url(valid_images[0]['cocoid'])"
   ]
  },
  {
   "cell_type": "code",
   "execution_count": 87,
   "metadata": {},
   "outputs": [],
   "source": [
    "def show_images(indices):\n",
    "    valid_images = images_by_split['val']\n",
    "    def img(idx):\n",
    "        img = valid_images[idx]\n",
    "        captions = '\\n'.join(\n",
    "            '<div>{}</div>'.format(sent)\n",
    "            for sent in toolz.pluck('raw', img['sentences'])\n",
    "        )\n",
    "        return '<div style=\"display: inline-block;\"><img src=\"{}\">{}</div>'.format(coco_url(img['cocoid']), captions)\n",
    "\n",
    "    return '\\n'.join(img(idx) for idx in indices)\n"
   ]
  },
  {
   "cell_type": "code",
   "execution_count": 9,
   "metadata": {},
   "outputs": [
    {
     "name": "stderr",
     "output_type": "stream",
     "text": [
      "/Users/kcarnold/anaconda3/envs/py36/lib/python3.6/site-packages/h5py/__init__.py:36: FutureWarning: Conversion of the second argument of issubdtype from `float` to `np.floating` is deprecated. In future, it will be treated as `np.float64 == np.dtype(float).type`.\n",
      "  from ._conv import register_converters as _register_converters\n"
     ]
    }
   ],
   "source": [
    "import h5py"
   ]
  },
  {
   "cell_type": "code",
   "execution_count": 30,
   "metadata": {},
   "outputs": [],
   "source": [
    "img_data_file = h5py.File('/Users/kcarnold/code/textrec/models-aside/feats_by_imgid.h5')"
   ]
  },
  {
   "cell_type": "code",
   "execution_count": 31,
   "metadata": {},
   "outputs": [],
   "source": [
    "def get_vec_for_image(cocoid):\n",
    "    return img_data_file[str(cocoid)][:].mean(axis=0)"
   ]
  },
  {
   "cell_type": "code",
   "execution_count": 32,
   "metadata": {},
   "outputs": [
    {
     "data": {
      "application/vnd.jupyter.widget-view+json": {
       "model_id": "cd7da254c0554a61bd9ae02f2a475a30",
       "version_major": 2,
       "version_minor": 0
      },
      "text/html": [
       "<p>Failed to display Jupyter Widget of type <code>HBox</code>.</p>\n",
       "<p>\n",
       "  If you're reading this message in Jupyter Notebook or JupyterLab, it may mean\n",
       "  that the widgets JavaScript is still loading. If this message persists, it\n",
       "  likely means that the widgets JavaScript library is either not installed or\n",
       "  not enabled. See the <a href=\"https://ipywidgets.readthedocs.io/en/stable/user_install.html\">Jupyter\n",
       "  Widgets Documentation</a> for setup instructions.\n",
       "</p>\n",
       "<p>\n",
       "  If you're reading this message in another notebook frontend (for example, a static\n",
       "  rendering on GitHub or <a href=\"https://nbviewer.jupyter.org/\">NBViewer</a>),\n",
       "  it may mean that your frontend doesn't currently support widgets.\n",
       "</p>\n"
      ],
      "text/plain": [
       "HBox(children=(IntProgress(value=0, max=123287), HTML(value='')))"
      ]
     },
     "metadata": {},
     "output_type": "display_data"
    },
    {
     "name": "stdout",
     "output_type": "stream",
     "text": [
      "\n"
     ]
    }
   ],
   "source": [
    "mean_features = np.array([get_vec_for_image(img['cocoid']) for img in tqdm.tqdm_notebook(images)])"
   ]
  },
  {
   "cell_type": "code",
   "execution_count": null,
   "metadata": {},
   "outputs": [],
   "source": [
    "from sklearn.metrics import pairwise_distances"
   ]
  },
  {
   "cell_type": "code",
   "execution_count": null,
   "metadata": {},
   "outputs": [],
   "source": [
    "pdists = pairwise_distances(mean_features)"
   ]
  },
  {
   "cell_type": "code",
   "execution_count": null,
   "metadata": {},
   "outputs": [],
   "source": [
    "def show_similar_images(valid_idx, n=10):\n",
    "    return '\\n'.join(\n",
    "        '<img src=\"{}\">'.format(coco_url(valid_images[idx]['cocoid']))\n",
    "        for idx in np.argsort(pdists[valid_idx])[:n])\n",
    "HTML(show_similar_images(1))"
   ]
  },
  {
   "cell_type": "code",
   "execution_count": null,
   "metadata": {},
   "outputs": [],
   "source": []
  },
  {
   "cell_type": "code",
   "execution_count": 18,
   "metadata": {},
   "outputs": [
    {
     "data": {
      "text/html": [
       "<img src=\"http://images.cocodataset.org/train2017/000000360772.jpg\">\n",
       "<img src=\"http://images.cocodataset.org/train2017/000000575946.jpg\">\n",
       "<img src=\"http://images.cocodataset.org/train2017/000000572399.jpg\">\n",
       "<img src=\"http://images.cocodataset.org/train2017/000000030432.jpg\">\n",
       "<img src=\"http://images.cocodataset.org/val2017/000000431140.jpg\">\n",
       "<img src=\"http://images.cocodataset.org/train2017/000000431352.jpg\">\n",
       "<img src=\"http://images.cocodataset.org/train2017/000000098895.jpg\">\n",
       "<img src=\"http://images.cocodataset.org/train2017/000000071618.jpg\">\n",
       "<img src=\"http://images.cocodataset.org/train2017/000000144809.jpg\">\n",
       "<img src=\"http://images.cocodataset.org/train2017/000000485916.jpg\">"
      ],
      "text/plain": [
       "<IPython.core.display.HTML object>"
      ]
     },
     "execution_count": 18,
     "metadata": {},
     "output_type": "execute_result"
    }
   ],
   "source": [
    "HTML(show_similar_images(3))"
   ]
  },
  {
   "cell_type": "code",
   "execution_count": 58,
   "metadata": {},
   "outputs": [],
   "source": [
    "id2img = {img['cocoid']: img for img in images}"
   ]
  },
  {
   "cell_type": "code",
   "execution_count": null,
   "metadata": {},
   "outputs": [],
   "source": []
  },
  {
   "cell_type": "code",
   "execution_count": 69,
   "metadata": {
    "scrolled": true
   },
   "outputs": [
    {
     "data": {
      "text/html": [
       "<img src=\"http://images.cocodataset.org/train2017/000000150367.jpg\">\n",
       "<img src=\"http://images.cocodataset.org/train2017/000000265472.jpg\">\n",
       "<img src=\"http://images.cocodataset.org/train2017/000000331339.jpg\">\n",
       "<img src=\"http://images.cocodataset.org/train2017/000000514527.jpg\">\n",
       "<img src=\"http://images.cocodataset.org/train2017/000000351770.jpg\">\n",
       "<img src=\"http://images.cocodataset.org/train2017/000000550414.jpg\">\n",
       "<img src=\"http://images.cocodataset.org/train2017/000000226262.jpg\">\n",
       "<img src=\"http://images.cocodataset.org/val2017/000000468925.jpg\">\n",
       "<img src=\"http://images.cocodataset.org/train2017/000000261064.jpg\">\n",
       "<img src=\"http://images.cocodataset.org/train2017/000000471658.jpg\">"
      ],
      "text/plain": [
       "<IPython.core.display.HTML object>"
      ]
     },
     "execution_count": 69,
     "metadata": {},
     "output_type": "execute_result"
    }
   ],
   "source": [
    "# query_words = 'red bird bowl'\n",
    "# query_words = 'kite green field'\n",
    "# query_words = 'kitchen island'\n",
    "# query_words = 'kitten red scarf'\n",
    "# query_words = 'bluebird branch'\n",
    "# query_words = 'woman tennis'\n",
    "# query_words = 'crosswalk traffic light'\n",
    "def find_matching_imgs(query_words, limit=10):\n",
    "    query_words = query_words.split()\n",
    "    scores = (sum(1 for word in query_words for sent in img['sentences'] if word in sent['raw'].lower()) for img in images)\n",
    "    scored_images = [(img, score) for img, score in zip(images, scores) if score > 0]\n",
    "    scored_images.sort(key=lambda x: x[1], reverse=True)\n",
    "    return HTML('\\n'.join('<img src=\"{}\">'.format(coco_url(img['cocoid'])) for img, score in scored_images[:limit]))\n",
    "# a plate with pancakes with bananas and bacon with a cute coffee mug behind it\n",
    "find_matching_imgs('pancake banana bacon')"
   ]
  },
  {
   "cell_type": "code",
   "execution_count": null,
   "metadata": {},
   "outputs": [],
   "source": []
  },
  {
   "cell_type": "code",
   "execution_count": 18,
   "metadata": {
    "scrolled": true
   },
   "outputs": [
    {
     "data": {
      "text/html": [
       "<img src=\"http://images.cocodataset.org/train2017/000000524881.jpg\">\n",
       "<img src=\"http://images.cocodataset.org/train2017/000000037999.jpg\">\n",
       "<img src=\"http://images.cocodataset.org/train2017/000000370857.jpg\">\n",
       "<img src=\"http://images.cocodataset.org/train2017/000000502285.jpg\">\n",
       "<img src=\"http://images.cocodataset.org/train2017/000000155777.jpg\">\n",
       "<img src=\"http://images.cocodataset.org/train2017/000000337716.jpg\">\n",
       "<img src=\"http://images.cocodataset.org/train2017/000000388905.jpg\">\n",
       "<img src=\"http://images.cocodataset.org/train2017/000000420536.jpg\">\n",
       "<img src=\"http://images.cocodataset.org/train2017/000000543686.jpg\">\n",
       "<img src=\"http://images.cocodataset.org/train2017/000000041271.jpg\">"
      ],
      "text/plain": [
       "<IPython.core.display.HTML object>"
      ]
     },
     "execution_count": 18,
     "metadata": {},
     "output_type": "execute_result"
    }
   ],
   "source": [
    "# a red bird and green bird about to eat out of a dish\n",
    "find_matching_imgs('red green bird eat dish bowl')"
   ]
  },
  {
   "cell_type": "code",
   "execution_count": 23,
   "metadata": {
    "scrolled": true
   },
   "outputs": [
    {
     "data": {
      "text/html": [
       "<img src=\"http://images.cocodataset.org/train2017/000000031736.jpg\">\n",
       "<img src=\"http://images.cocodataset.org/train2017/000000266207.jpg\">\n",
       "<img src=\"http://images.cocodataset.org/train2017/000000187334.jpg\">\n",
       "<img src=\"http://images.cocodataset.org/val2017/000000230166.jpg\">\n",
       "<img src=\"http://images.cocodataset.org/train2017/000000122137.jpg\">\n",
       "<img src=\"http://images.cocodataset.org/train2017/000000349892.jpg\">\n",
       "<img src=\"http://images.cocodataset.org/train2017/000000529433.jpg\">\n",
       "<img src=\"http://images.cocodataset.org/train2017/000000579731.jpg\">\n",
       "<img src=\"http://images.cocodataset.org/train2017/000000425398.jpg\">\n",
       "<img src=\"http://images.cocodataset.org/train2017/000000258727.jpg\">\n",
       "<img src=\"http://images.cocodataset.org/train2017/000000103819.jpg\">\n",
       "<img src=\"http://images.cocodataset.org/train2017/000000579885.jpg\">\n",
       "<img src=\"http://images.cocodataset.org/train2017/000000563381.jpg\">\n",
       "<img src=\"http://images.cocodataset.org/train2017/000000002164.jpg\">\n",
       "<img src=\"http://images.cocodataset.org/train2017/000000104676.jpg\">\n",
       "<img src=\"http://images.cocodataset.org/train2017/000000087483.jpg\">\n",
       "<img src=\"http://images.cocodataset.org/train2017/000000297669.jpg\">\n",
       "<img src=\"http://images.cocodataset.org/train2017/000000021088.jpg\">\n",
       "<img src=\"http://images.cocodataset.org/train2017/000000413260.jpg\">\n",
       "<img src=\"http://images.cocodataset.org/train2017/000000018736.jpg\">\n",
       "<img src=\"http://images.cocodataset.org/train2017/000000319866.jpg\">\n",
       "<img src=\"http://images.cocodataset.org/train2017/000000228627.jpg\">\n",
       "<img src=\"http://images.cocodataset.org/train2017/000000311286.jpg\">\n",
       "<img src=\"http://images.cocodataset.org/train2017/000000541570.jpg\">\n",
       "<img src=\"http://images.cocodataset.org/train2017/000000488726.jpg\">\n",
       "<img src=\"http://images.cocodataset.org/train2017/000000425032.jpg\">\n",
       "<img src=\"http://images.cocodataset.org/train2017/000000160746.jpg\">\n",
       "<img src=\"http://images.cocodataset.org/train2017/000000035156.jpg\">\n",
       "<img src=\"http://images.cocodataset.org/train2017/000000293598.jpg\">\n",
       "<img src=\"http://images.cocodataset.org/val2017/000000410428.jpg\">\n",
       "<img src=\"http://images.cocodataset.org/train2017/000000237566.jpg\">\n",
       "<img src=\"http://images.cocodataset.org/train2017/000000546980.jpg\">\n",
       "<img src=\"http://images.cocodataset.org/train2017/000000048907.jpg\">\n",
       "<img src=\"http://images.cocodataset.org/train2017/000000044860.jpg\">\n",
       "<img src=\"http://images.cocodataset.org/train2017/000000529981.jpg\">\n",
       "<img src=\"http://images.cocodataset.org/train2017/000000370266.jpg\">\n",
       "<img src=\"http://images.cocodataset.org/train2017/000000434060.jpg\">\n",
       "<img src=\"http://images.cocodataset.org/train2017/000000513968.jpg\">\n",
       "<img src=\"http://images.cocodataset.org/train2017/000000334542.jpg\">\n",
       "<img src=\"http://images.cocodataset.org/train2017/000000564301.jpg\">\n",
       "<img src=\"http://images.cocodataset.org/train2017/000000575403.jpg\">\n",
       "<img src=\"http://images.cocodataset.org/train2017/000000193050.jpg\">\n",
       "<img src=\"http://images.cocodataset.org/train2017/000000237881.jpg\">\n",
       "<img src=\"http://images.cocodataset.org/train2017/000000156195.jpg\">\n",
       "<img src=\"http://images.cocodataset.org/train2017/000000565742.jpg\">\n",
       "<img src=\"http://images.cocodataset.org/val2017/000000552612.jpg\">\n",
       "<img src=\"http://images.cocodataset.org/train2017/000000372501.jpg\">\n",
       "<img src=\"http://images.cocodataset.org/val2017/000000235857.jpg\">\n",
       "<img src=\"http://images.cocodataset.org/train2017/000000321705.jpg\">\n",
       "<img src=\"http://images.cocodataset.org/train2017/000000558483.jpg\">"
      ],
      "text/plain": [
       "<IPython.core.display.HTML object>"
      ]
     },
     "execution_count": 23,
     "metadata": {},
     "output_type": "execute_result"
    }
   ],
   "source": [
    "# a man is watching a field of sheep eat grass.\n",
    "find_matching_imgs('person watch sheep field eat grass', limit=50)"
   ]
  },
  {
   "cell_type": "code",
   "execution_count": 81,
   "metadata": {
    "scrolled": true
   },
   "outputs": [
    {
     "data": {
      "text/html": [
       "<img src=\"http://images.cocodataset.org/train2017/000000165203.jpg\">\n",
       "<img src=\"http://images.cocodataset.org/train2017/000000498371.jpg\">\n",
       "<img src=\"http://images.cocodataset.org/train2017/000000017613.jpg\">\n",
       "<img src=\"http://images.cocodataset.org/train2017/000000259235.jpg\">\n",
       "<img src=\"http://images.cocodataset.org/train2017/000000232148.jpg\">\n",
       "<img src=\"http://images.cocodataset.org/train2017/000000330229.jpg\">\n",
       "<img src=\"http://images.cocodataset.org/train2017/000000487245.jpg\">\n",
       "<img src=\"http://images.cocodataset.org/train2017/000000385535.jpg\">\n",
       "<img src=\"http://images.cocodataset.org/train2017/000000435750.jpg\">\n",
       "<img src=\"http://images.cocodataset.org/train2017/000000427876.jpg\">"
      ],
      "text/plain": [
       "<IPython.core.display.HTML object>"
      ]
     },
     "execution_count": 81,
     "metadata": {},
     "output_type": "execute_result"
    }
   ],
   "source": [
    "pdists2=pairwise_distances([get_vec_for_image(stimulus_images[8]['cocoid'])], mean_features)[0]\n",
    "HTML('\\n'.join(\n",
    "        '<img src=\"{}\">'.format(coco_url(images[idx]['cocoid']))\n",
    "        for idx in np.argsort(pdists2)[:10]))"
   ]
  },
  {
   "cell_type": "code",
   "execution_count": 25,
   "metadata": {
    "scrolled": true
   },
   "outputs": [
    {
     "data": {
      "text/html": [
       "<img src=\"http://images.cocodataset.org/train2017/000000551023.jpg\">\n",
       "<img src=\"http://images.cocodataset.org/train2017/000000244692.jpg\">\n",
       "<img src=\"http://images.cocodataset.org/train2017/000000283728.jpg\">\n",
       "<img src=\"http://images.cocodataset.org/train2017/000000442356.jpg\">\n",
       "<img src=\"http://images.cocodataset.org/train2017/000000034808.jpg\">\n",
       "<img src=\"http://images.cocodataset.org/train2017/000000118741.jpg\">\n",
       "<img src=\"http://images.cocodataset.org/train2017/000000398031.jpg\">\n",
       "<img src=\"http://images.cocodataset.org/train2017/000000377055.jpg\">\n",
       "<img src=\"http://images.cocodataset.org/train2017/000000486413.jpg\">\n",
       "<img src=\"http://images.cocodataset.org/train2017/000000542231.jpg\">"
      ],
      "text/plain": [
       "<IPython.core.display.HTML object>"
      ]
     },
     "execution_count": 25,
     "metadata": {},
     "output_type": "execute_result"
    }
   ],
   "source": [
    "# a man is standing with a very large colorful kite.\n",
    "find_matching_imgs('man colorful kite')"
   ]
  },
  {
   "cell_type": "code",
   "execution_count": 27,
   "metadata": {
    "scrolled": true
   },
   "outputs": [
    {
     "data": {
      "text/html": [
       "<img src=\"http://images.cocodataset.org/train2017/000000548219.jpg\">\n",
       "<img src=\"http://images.cocodataset.org/train2017/000000397894.jpg\">\n",
       "<img src=\"http://images.cocodataset.org/train2017/000000438059.jpg\">\n",
       "<img src=\"http://images.cocodataset.org/train2017/000000277793.jpg\">\n",
       "<img src=\"http://images.cocodataset.org/train2017/000000539971.jpg\">\n",
       "<img src=\"http://images.cocodataset.org/train2017/000000042741.jpg\">\n",
       "<img src=\"http://images.cocodataset.org/train2017/000000280866.jpg\">\n",
       "<img src=\"http://images.cocodataset.org/train2017/000000353351.jpg\">\n",
       "<img src=\"http://images.cocodataset.org/train2017/000000005435.jpg\">\n",
       "<img src=\"http://images.cocodataset.org/train2017/000000168948.jpg\">\n",
       "<img src=\"http://images.cocodataset.org/train2017/000000424760.jpg\">\n",
       "<img src=\"http://images.cocodataset.org/train2017/000000439132.jpg\">\n",
       "<img src=\"http://images.cocodataset.org/train2017/000000081552.jpg\">\n",
       "<img src=\"http://images.cocodataset.org/train2017/000000236117.jpg\">\n",
       "<img src=\"http://images.cocodataset.org/train2017/000000066271.jpg\">\n",
       "<img src=\"http://images.cocodataset.org/train2017/000000520933.jpg\">\n",
       "<img src=\"http://images.cocodataset.org/train2017/000000369817.jpg\">\n",
       "<img src=\"http://images.cocodataset.org/train2017/000000283111.jpg\">\n",
       "<img src=\"http://images.cocodataset.org/train2017/000000552142.jpg\">\n",
       "<img src=\"http://images.cocodataset.org/train2017/000000151975.jpg\">\n",
       "<img src=\"http://images.cocodataset.org/train2017/000000194372.jpg\">\n",
       "<img src=\"http://images.cocodataset.org/train2017/000000366643.jpg\">\n",
       "<img src=\"http://images.cocodataset.org/train2017/000000567049.jpg\">\n",
       "<img src=\"http://images.cocodataset.org/train2017/000000511148.jpg\">\n",
       "<img src=\"http://images.cocodataset.org/train2017/000000416668.jpg\">\n",
       "<img src=\"http://images.cocodataset.org/train2017/000000243218.jpg\">\n",
       "<img src=\"http://images.cocodataset.org/val2017/000000284623.jpg\">\n",
       "<img src=\"http://images.cocodataset.org/train2017/000000300324.jpg\">\n",
       "<img src=\"http://images.cocodataset.org/train2017/000000027075.jpg\">\n",
       "<img src=\"http://images.cocodataset.org/train2017/000000205523.jpg\">\n",
       "<img src=\"http://images.cocodataset.org/train2017/000000189939.jpg\">\n",
       "<img src=\"http://images.cocodataset.org/train2017/000000146981.jpg\">\n",
       "<img src=\"http://images.cocodataset.org/train2017/000000201918.jpg\">\n",
       "<img src=\"http://images.cocodataset.org/train2017/000000137507.jpg\">\n",
       "<img src=\"http://images.cocodataset.org/val2017/000000312340.jpg\">\n",
       "<img src=\"http://images.cocodataset.org/train2017/000000318571.jpg\">\n",
       "<img src=\"http://images.cocodataset.org/train2017/000000337188.jpg\">\n",
       "<img src=\"http://images.cocodataset.org/train2017/000000568559.jpg\">\n",
       "<img src=\"http://images.cocodataset.org/train2017/000000531594.jpg\">\n",
       "<img src=\"http://images.cocodataset.org/train2017/000000325598.jpg\">\n",
       "<img src=\"http://images.cocodataset.org/train2017/000000470521.jpg\">\n",
       "<img src=\"http://images.cocodataset.org/train2017/000000158109.jpg\">\n",
       "<img src=\"http://images.cocodataset.org/train2017/000000261333.jpg\">\n",
       "<img src=\"http://images.cocodataset.org/train2017/000000455365.jpg\">\n",
       "<img src=\"http://images.cocodataset.org/train2017/000000033008.jpg\">\n",
       "<img src=\"http://images.cocodataset.org/train2017/000000194313.jpg\">\n",
       "<img src=\"http://images.cocodataset.org/train2017/000000261981.jpg\">\n",
       "<img src=\"http://images.cocodataset.org/train2017/000000466988.jpg\">\n",
       "<img src=\"http://images.cocodataset.org/train2017/000000258523.jpg\">\n",
       "<img src=\"http://images.cocodataset.org/train2017/000000042865.jpg\">"
      ],
      "text/plain": [
       "<IPython.core.display.HTML object>"
      ]
     },
     "execution_count": 27,
     "metadata": {},
     "output_type": "execute_result"
    }
   ],
   "source": [
    "# a black cat with big green eyes with something red behind its head.\n",
    "find_matching_imgs('black cat red', limit=50)"
   ]
  },
  {
   "cell_type": "code",
   "execution_count": 29,
   "metadata": {},
   "outputs": [
    {
     "data": {
      "text/html": [
       "<img src=\"http://images.cocodataset.org/train2017/000000036004.jpg\">\n",
       "<img src=\"http://images.cocodataset.org/train2017/000000396252.jpg\">\n",
       "<img src=\"http://images.cocodataset.org/train2017/000000551861.jpg\">\n",
       "<img src=\"http://images.cocodataset.org/train2017/000000482064.jpg\">\n",
       "<img src=\"http://images.cocodataset.org/train2017/000000357041.jpg\">\n",
       "<img src=\"http://images.cocodataset.org/train2017/000000108982.jpg\">\n",
       "<img src=\"http://images.cocodataset.org/val2017/000000100489.jpg\">\n",
       "<img src=\"http://images.cocodataset.org/train2017/000000095022.jpg\">\n",
       "<img src=\"http://images.cocodataset.org/train2017/000000163460.jpg\">\n",
       "<img src=\"http://images.cocodataset.org/train2017/000000440706.jpg\">\n",
       "<img src=\"http://images.cocodataset.org/train2017/000000346067.jpg\">\n",
       "<img src=\"http://images.cocodataset.org/train2017/000000055652.jpg\">\n",
       "<img src=\"http://images.cocodataset.org/train2017/000000275075.jpg\">\n",
       "<img src=\"http://images.cocodataset.org/train2017/000000176904.jpg\">\n",
       "<img src=\"http://images.cocodataset.org/train2017/000000326357.jpg\">\n",
       "<img src=\"http://images.cocodataset.org/train2017/000000550341.jpg\">\n",
       "<img src=\"http://images.cocodataset.org/train2017/000000074348.jpg\">\n",
       "<img src=\"http://images.cocodataset.org/train2017/000000330018.jpg\">\n",
       "<img src=\"http://images.cocodataset.org/train2017/000000354061.jpg\">\n",
       "<img src=\"http://images.cocodataset.org/val2017/000000482477.jpg\">\n",
       "<img src=\"http://images.cocodataset.org/train2017/000000175774.jpg\">\n",
       "<img src=\"http://images.cocodataset.org/train2017/000000209685.jpg\">\n",
       "<img src=\"http://images.cocodataset.org/train2017/000000453452.jpg\">\n",
       "<img src=\"http://images.cocodataset.org/train2017/000000504921.jpg\">\n",
       "<img src=\"http://images.cocodataset.org/val2017/000000337987.jpg\">\n",
       "<img src=\"http://images.cocodataset.org/train2017/000000170788.jpg\">\n",
       "<img src=\"http://images.cocodataset.org/train2017/000000190617.jpg\">\n",
       "<img src=\"http://images.cocodataset.org/train2017/000000399213.jpg\">\n",
       "<img src=\"http://images.cocodataset.org/train2017/000000194195.jpg\">\n",
       "<img src=\"http://images.cocodataset.org/train2017/000000232586.jpg\">\n",
       "<img src=\"http://images.cocodataset.org/train2017/000000068293.jpg\">\n",
       "<img src=\"http://images.cocodataset.org/train2017/000000199499.jpg\">\n",
       "<img src=\"http://images.cocodataset.org/train2017/000000542751.jpg\">\n",
       "<img src=\"http://images.cocodataset.org/train2017/000000015016.jpg\">\n",
       "<img src=\"http://images.cocodataset.org/train2017/000000424029.jpg\">\n",
       "<img src=\"http://images.cocodataset.org/train2017/000000280852.jpg\">\n",
       "<img src=\"http://images.cocodataset.org/train2017/000000284089.jpg\">\n",
       "<img src=\"http://images.cocodataset.org/train2017/000000129719.jpg\">\n",
       "<img src=\"http://images.cocodataset.org/train2017/000000237004.jpg\">\n",
       "<img src=\"http://images.cocodataset.org/train2017/000000031396.jpg\">\n",
       "<img src=\"http://images.cocodataset.org/train2017/000000452224.jpg\">\n",
       "<img src=\"http://images.cocodataset.org/train2017/000000367433.jpg\">\n",
       "<img src=\"http://images.cocodataset.org/train2017/000000101304.jpg\">\n",
       "<img src=\"http://images.cocodataset.org/train2017/000000233327.jpg\">\n",
       "<img src=\"http://images.cocodataset.org/train2017/000000097868.jpg\">\n",
       "<img src=\"http://images.cocodataset.org/train2017/000000052322.jpg\">\n",
       "<img src=\"http://images.cocodataset.org/train2017/000000104108.jpg\">\n",
       "<img src=\"http://images.cocodataset.org/train2017/000000580084.jpg\">\n",
       "<img src=\"http://images.cocodataset.org/train2017/000000574256.jpg\">\n",
       "<img src=\"http://images.cocodataset.org/train2017/000000375087.jpg\">"
      ],
      "text/plain": [
       "<IPython.core.display.HTML object>"
      ]
     },
     "execution_count": 29,
     "metadata": {},
     "output_type": "execute_result"
    }
   ],
   "source": [
    "# a small white and blue bird perched on a branch of a fir tree.\n",
    "find_matching_imgs('white blue bird branch', limit=50)"
   ]
  },
  {
   "cell_type": "code",
   "execution_count": 70,
   "metadata": {},
   "outputs": [
    {
     "data": {
      "text/html": [
       "<img src=\"http://images.cocodataset.org/train2017/000000564489.jpg\">\n",
       "<img src=\"http://images.cocodataset.org/train2017/000000043856.jpg\">\n",
       "<img src=\"http://images.cocodataset.org/train2017/000000162475.jpg\">\n",
       "<img src=\"http://images.cocodataset.org/train2017/000000321030.jpg\">\n",
       "<img src=\"http://images.cocodataset.org/train2017/000000504304.jpg\">\n",
       "<img src=\"http://images.cocodataset.org/train2017/000000300324.jpg\">\n",
       "<img src=\"http://images.cocodataset.org/train2017/000000294495.jpg\">\n",
       "<img src=\"http://images.cocodataset.org/train2017/000000002239.jpg\">\n",
       "<img src=\"http://images.cocodataset.org/train2017/000000251580.jpg\">\n",
       "<img src=\"http://images.cocodataset.org/val2017/000000271402.jpg\">"
      ],
      "text/plain": [
       "<IPython.core.display.HTML object>"
      ]
     },
     "execution_count": 70,
     "metadata": {},
     "output_type": "execute_result"
    }
   ],
   "source": [
    "# a young girl in a red top and black skirt playing tennis.\n",
    "find_matching_imgs('girl red black tennis')"
   ]
  },
  {
   "cell_type": "code",
   "execution_count": 71,
   "metadata": {},
   "outputs": [
    {
     "data": {
      "text/html": [
       "<img src=\"http://images.cocodataset.org/train2017/000000496214.jpg\">\n",
       "<img src=\"http://images.cocodataset.org/train2017/000000388026.jpg\">\n",
       "<img src=\"http://images.cocodataset.org/train2017/000000095063.jpg\">\n",
       "<img src=\"http://images.cocodataset.org/train2017/000000165203.jpg\">\n",
       "<img src=\"http://images.cocodataset.org/train2017/000000357508.jpg\">\n",
       "<img src=\"http://images.cocodataset.org/train2017/000000062387.jpg\">\n",
       "<img src=\"http://images.cocodataset.org/train2017/000000488812.jpg\">\n",
       "<img src=\"http://images.cocodataset.org/train2017/000000577355.jpg\">\n",
       "<img src=\"http://images.cocodataset.org/train2017/000000155216.jpg\">\n",
       "<img src=\"http://images.cocodataset.org/train2017/000000077811.jpg\">"
      ],
      "text/plain": [
       "<IPython.core.display.HTML object>"
      ]
     },
     "execution_count": 71,
     "metadata": {},
     "output_type": "execute_result"
    }
   ],
   "source": [
    "# a yellow light hanging above a pedestrian crossing sign.\n",
    "find_matching_imgs('yellow light pedestrian')"
   ]
  },
  {
   "cell_type": "code",
   "execution_count": 72,
   "metadata": {},
   "outputs": [
    {
     "data": {
      "text/html": [
       "<img src=\"http://images.cocodataset.org/train2017/000000150367.jpg\">\n",
       "<img src=\"http://images.cocodataset.org/train2017/000000265472.jpg\">\n",
       "<img src=\"http://images.cocodataset.org/train2017/000000331339.jpg\">\n",
       "<img src=\"http://images.cocodataset.org/train2017/000000514527.jpg\">\n",
       "<img src=\"http://images.cocodataset.org/train2017/000000351770.jpg\">\n",
       "<img src=\"http://images.cocodataset.org/train2017/000000550414.jpg\">\n",
       "<img src=\"http://images.cocodataset.org/train2017/000000226262.jpg\">\n",
       "<img src=\"http://images.cocodataset.org/val2017/000000468925.jpg\">\n",
       "<img src=\"http://images.cocodataset.org/train2017/000000261064.jpg\">\n",
       "<img src=\"http://images.cocodataset.org/train2017/000000471658.jpg\">"
      ],
      "text/plain": [
       "<IPython.core.display.HTML object>"
      ]
     },
     "execution_count": 72,
     "metadata": {},
     "output_type": "execute_result"
    }
   ],
   "source": [
    "#breakfast that consists of pancakes banana bacon blackerry with maple syrup and a smiley mug in the background\n",
    "find_matching_imgs('pancake banana bacon blackberry')"
   ]
  },
  {
   "cell_type": "code",
   "execution_count": 74,
   "metadata": {},
   "outputs": [
    {
     "data": {
      "text/html": [
       "<img src=\"http://images.cocodataset.org/train2017/000000388905.jpg\">\n",
       "<img src=\"http://images.cocodataset.org/train2017/000000155777.jpg\">\n",
       "<img src=\"http://images.cocodataset.org/train2017/000000524881.jpg\">\n",
       "<img src=\"http://images.cocodataset.org/train2017/000000370857.jpg\">\n",
       "<img src=\"http://images.cocodataset.org/train2017/000000041271.jpg\">\n",
       "<img src=\"http://images.cocodataset.org/train2017/000000576136.jpg\">\n",
       "<img src=\"http://images.cocodataset.org/train2017/000000206109.jpg\">\n",
       "<img src=\"http://images.cocodataset.org/train2017/000000054341.jpg\">\n",
       "<img src=\"http://images.cocodataset.org/train2017/000000563987.jpg\">\n",
       "<img src=\"http://images.cocodataset.org/train2017/000000267543.jpg\">"
      ],
      "text/plain": [
       "<IPython.core.display.HTML object>"
      ]
     },
     "execution_count": 74,
     "metadata": {},
     "output_type": "execute_result"
    }
   ],
   "source": [
    "#tri colored bird eating fruits from a bowl\n",
    "find_matching_imgs('bird eat bowl')"
   ]
  },
  {
   "cell_type": "code",
   "execution_count": 75,
   "metadata": {},
   "outputs": [
    {
     "data": {
      "text/html": [
       "<img src=\"http://images.cocodataset.org/train2017/000000044860.jpg\">\n",
       "<img src=\"http://images.cocodataset.org/train2017/000000579885.jpg\">\n",
       "<img src=\"http://images.cocodataset.org/train2017/000000563381.jpg\">\n",
       "<img src=\"http://images.cocodataset.org/train2017/000000434060.jpg\">\n",
       "<img src=\"http://images.cocodataset.org/train2017/000000513968.jpg\">\n",
       "<img src=\"http://images.cocodataset.org/train2017/000000564301.jpg\">\n",
       "<img src=\"http://images.cocodataset.org/train2017/000000384007.jpg\">\n",
       "<img src=\"http://images.cocodataset.org/train2017/000000152731.jpg\">\n",
       "<img src=\"http://images.cocodataset.org/train2017/000000280999.jpg\">\n",
       "<img src=\"http://images.cocodataset.org/train2017/000000125872.jpg\">"
      ],
      "text/plain": [
       "<IPython.core.display.HTML object>"
      ]
     },
     "execution_count": 75,
     "metadata": {},
     "output_type": "execute_result"
    }
   ],
   "source": [
    "#flock of sheep grazing in an open field\n",
    "find_matching_imgs('sheep field')"
   ]
  },
  {
   "cell_type": "code",
   "execution_count": 78,
   "metadata": {},
   "outputs": [
    {
     "data": {
      "text/html": [
       "<img src=\"http://images.cocodataset.org/train2017/000000320200.jpg\">\n",
       "<img src=\"http://images.cocodataset.org/train2017/000000400253.jpg\">\n",
       "<img src=\"http://images.cocodataset.org/train2017/000000490415.jpg\">\n",
       "<img src=\"http://images.cocodataset.org/val2017/000000163057.jpg\">\n",
       "<img src=\"http://images.cocodataset.org/train2017/000000182820.jpg\">\n",
       "<img src=\"http://images.cocodataset.org/train2017/000000155912.jpg\">\n",
       "<img src=\"http://images.cocodataset.org/train2017/000000302071.jpg\">\n",
       "<img src=\"http://images.cocodataset.org/train2017/000000551023.jpg\">\n",
       "<img src=\"http://images.cocodataset.org/train2017/000000509049.jpg\">\n",
       "<img src=\"http://images.cocodataset.org/train2017/000000515289.jpg\">"
      ],
      "text/plain": [
       "<IPython.core.display.HTML object>"
      ]
     },
     "execution_count": 78,
     "metadata": {},
     "output_type": "execute_result"
    }
   ],
   "source": [
    "# man with kite with a bike and roller blader in the background\n",
    "find_matching_imgs('kite bicyc blade')"
   ]
  },
  {
   "cell_type": "code",
   "execution_count": 80,
   "metadata": {},
   "outputs": [
    {
     "data": {
      "text/html": [
       "<img src=\"http://images.cocodataset.org/train2017/000000581177.jpg\">\n",
       "<img src=\"http://images.cocodataset.org/train2017/000000226517.jpg\">\n",
       "<img src=\"http://images.cocodataset.org/train2017/000000493197.jpg\">\n",
       "<img src=\"http://images.cocodataset.org/train2017/000000002429.jpg\">\n",
       "<img src=\"http://images.cocodataset.org/train2017/000000156628.jpg\">\n",
       "<img src=\"http://images.cocodataset.org/val2017/000000082180.jpg\">\n",
       "<img src=\"http://images.cocodataset.org/train2017/000000209145.jpg\">\n",
       "<img src=\"http://images.cocodataset.org/train2017/000000395512.jpg\">\n",
       "<img src=\"http://images.cocodataset.org/train2017/000000393054.jpg\">\n",
       "<img src=\"http://images.cocodataset.org/train2017/000000116588.jpg\">"
      ],
      "text/plain": [
       "<IPython.core.display.HTML object>"
      ]
     },
     "execution_count": 80,
     "metadata": {},
     "output_type": "execute_result"
    }
   ],
   "source": [
    "# kitchen with marble counter tops and wooden cabinets and wooden chairs\n",
    "find_matching_imgs('kitchen marble wood chair')"
   ]
  },
  {
   "cell_type": "code",
   "execution_count": 84,
   "metadata": {},
   "outputs": [
    {
     "data": {
      "text/html": [
       "<img src=\"http://images.cocodataset.org/train2017/000000438059.jpg\">\n",
       "<img src=\"http://images.cocodataset.org/train2017/000000100008.jpg\">\n",
       "<img src=\"http://images.cocodataset.org/train2017/000000488004.jpg\">\n",
       "<img src=\"http://images.cocodataset.org/train2017/000000485149.jpg\">\n",
       "<img src=\"http://images.cocodataset.org/train2017/000000282591.jpg\">\n",
       "<img src=\"http://images.cocodataset.org/train2017/000000271875.jpg\">\n",
       "<img src=\"http://images.cocodataset.org/train2017/000000033177.jpg\">\n",
       "<img src=\"http://images.cocodataset.org/train2017/000000565110.jpg\">\n",
       "<img src=\"http://images.cocodataset.org/train2017/000000311066.jpg\">\n",
       "<img src=\"http://images.cocodataset.org/train2017/000000182933.jpg\">"
      ],
      "text/plain": [
       "<IPython.core.display.HTML object>"
      ]
     },
     "execution_count": 84,
     "metadata": {},
     "output_type": "execute_result"
    }
   ],
   "source": [
    "# black kitty with a red knitted scarf\n",
    "find_matching_imgs('cat scarf')"
   ]
  },
  {
   "cell_type": "code",
   "execution_count": 88,
   "metadata": {},
   "outputs": [
    {
     "data": {
      "text/html": [
       "<img src=\"http://images.cocodataset.org/train2017/000000055652.jpg\">\n",
       "<img src=\"http://images.cocodataset.org/train2017/000000267224.jpg\">\n",
       "<img src=\"http://images.cocodataset.org/train2017/000000473347.jpg\">\n",
       "<img src=\"http://images.cocodataset.org/train2017/000000482064.jpg\">\n",
       "<img src=\"http://images.cocodataset.org/train2017/000000030775.jpg\">\n",
       "<img src=\"http://images.cocodataset.org/train2017/000000542751.jpg\">\n",
       "<img src=\"http://images.cocodataset.org/train2017/000000125117.jpg\">\n",
       "<img src=\"http://images.cocodataset.org/train2017/000000347097.jpg\">\n",
       "<img src=\"http://images.cocodataset.org/train2017/000000309571.jpg\">\n",
       "<img src=\"http://images.cocodataset.org/train2017/000000396252.jpg\">"
      ],
      "text/plain": [
       "<IPython.core.display.HTML object>"
      ]
     },
     "execution_count": 88,
     "metadata": {},
     "output_type": "execute_result"
    }
   ],
   "source": [
    "# a bluejay perched on a tree looking right\n",
    "find_matching_imgs('blue jay tree right')"
   ]
  },
  {
   "cell_type": "code",
   "execution_count": 89,
   "metadata": {},
   "outputs": [
    {
     "data": {
      "text/html": [
       "<img src=\"http://images.cocodataset.org/train2017/000000320609.jpg\">\n",
       "<img src=\"http://images.cocodataset.org/train2017/000000043856.jpg\">\n",
       "<img src=\"http://images.cocodataset.org/train2017/000000564489.jpg\">\n",
       "<img src=\"http://images.cocodataset.org/train2017/000000102024.jpg\">\n",
       "<img src=\"http://images.cocodataset.org/train2017/000000504304.jpg\">\n",
       "<img src=\"http://images.cocodataset.org/train2017/000000330967.jpg\">\n",
       "<img src=\"http://images.cocodataset.org/train2017/000000306670.jpg\">\n",
       "<img src=\"http://images.cocodataset.org/train2017/000000497141.jpg\">\n",
       "<img src=\"http://images.cocodataset.org/train2017/000000508984.jpg\">\n",
       "<img src=\"http://images.cocodataset.org/train2017/000000299351.jpg\">"
      ],
      "text/plain": [
       "<IPython.core.display.HTML object>"
      ]
     },
     "execution_count": 89,
     "metadata": {},
     "output_type": "execute_result"
    }
   ],
   "source": [
    "# a girl wearing red and black clothes playing tennis\n",
    "find_matching_imgs('girl woman red black tennis')"
   ]
  },
  {
   "cell_type": "code",
   "execution_count": 90,
   "metadata": {},
   "outputs": [
    {
     "data": {
      "text/html": [
       "<img src=\"http://images.cocodataset.org/train2017/000000059458.jpg\">\n",
       "<img src=\"http://images.cocodataset.org/train2017/000000165203.jpg\">\n",
       "<img src=\"http://images.cocodataset.org/train2017/000000132531.jpg\">\n",
       "<img src=\"http://images.cocodataset.org/train2017/000000065612.jpg\">\n",
       "<img src=\"http://images.cocodataset.org/train2017/000000219514.jpg\">\n",
       "<img src=\"http://images.cocodataset.org/train2017/000000538828.jpg\">\n",
       "<img src=\"http://images.cocodataset.org/train2017/000000206290.jpg\">\n",
       "<img src=\"http://images.cocodataset.org/train2017/000000558594.jpg\">\n",
       "<img src=\"http://images.cocodataset.org/train2017/000000095063.jpg\">\n",
       "<img src=\"http://images.cocodataset.org/train2017/000000412632.jpg\">"
      ],
      "text/plain": [
       "<IPython.core.display.HTML object>"
      ]
     },
     "execution_count": 90,
     "metadata": {},
     "output_type": "execute_result"
    }
   ],
   "source": [
    "# a yellow pedestrian crossing sign sittting below a signal light that is yellow.\n",
    "find_matching_imgs('yellow sign light')"
   ]
  },
  {
   "cell_type": "code",
   "execution_count": 91,
   "metadata": {},
   "outputs": [
    {
     "data": {
      "text/html": [
       "<img src=\"http://images.cocodataset.org/train2017/000000575403.jpg\">\n",
       "<img src=\"http://images.cocodataset.org/train2017/000000360205.jpg\">\n",
       "<img src=\"http://images.cocodataset.org/train2017/000000528130.jpg\">\n",
       "<img src=\"http://images.cocodataset.org/train2017/000000241461.jpg\">\n",
       "<img src=\"http://images.cocodataset.org/train2017/000000160820.jpg\">\n",
       "<img src=\"http://images.cocodataset.org/train2017/000000391229.jpg\">\n",
       "<img src=\"http://images.cocodataset.org/train2017/000000367695.jpg\">\n",
       "<img src=\"http://images.cocodataset.org/train2017/000000431315.jpg\">\n",
       "<img src=\"http://images.cocodataset.org/train2017/000000089949.jpg\">\n",
       "<img src=\"http://images.cocodataset.org/train2017/000000388214.jpg\">"
      ],
      "text/plain": [
       "<IPython.core.display.HTML object>"
      ]
     },
     "execution_count": 91,
     "metadata": {},
     "output_type": "execute_result"
    }
   ],
   "source": [
    "# a green field has a small group of white sheep grazing on it\n",
    "find_matching_imgs('green white sheep')"
   ]
  },
  {
   "cell_type": "code",
   "execution_count": 92,
   "metadata": {},
   "outputs": [
    {
     "data": {
      "text/html": [
       "<img src=\"http://images.cocodataset.org/train2017/000000318384.jpg\">\n",
       "<img src=\"http://images.cocodataset.org/train2017/000000159213.jpg\">\n",
       "<img src=\"http://images.cocodataset.org/train2017/000000511363.jpg\">\n",
       "<img src=\"http://images.cocodataset.org/val2017/000000140840.jpg\">\n",
       "<img src=\"http://images.cocodataset.org/train2017/000000090925.jpg\">\n",
       "<img src=\"http://images.cocodataset.org/train2017/000000479387.jpg\">\n",
       "<img src=\"http://images.cocodataset.org/train2017/000000135566.jpg\">\n",
       "<img src=\"http://images.cocodataset.org/train2017/000000233848.jpg\">\n",
       "<img src=\"http://images.cocodataset.org/train2017/000000487612.jpg\">\n",
       "<img src=\"http://images.cocodataset.org/val2017/000000549738.jpg\">"
      ],
      "text/plain": [
       "<IPython.core.display.HTML object>"
      ]
     },
     "execution_count": 92,
     "metadata": {},
     "output_type": "execute_result"
    }
   ],
   "source": [
    "# a man is in a field holding a kite to the ground\n",
    "find_matching_imgs('kite ground')"
   ]
  },
  {
   "cell_type": "code",
   "execution_count": 93,
   "metadata": {},
   "outputs": [
    {
     "data": {
      "text/html": [
       "<img src=\"http://images.cocodataset.org/train2017/000000363190.jpg\">\n",
       "<img src=\"http://images.cocodataset.org/train2017/000000258370.jpg\">\n",
       "<img src=\"http://images.cocodataset.org/train2017/000000388214.jpg\">\n",
       "<img src=\"http://images.cocodataset.org/train2017/000000104326.jpg\">\n",
       "<img src=\"http://images.cocodataset.org/train2017/000000321865.jpg\">\n",
       "<img src=\"http://images.cocodataset.org/train2017/000000304078.jpg\">\n",
       "<img src=\"http://images.cocodataset.org/train2017/000000228514.jpg\">\n",
       "<img src=\"http://images.cocodataset.org/train2017/000000562335.jpg\">\n",
       "<img src=\"http://images.cocodataset.org/train2017/000000217811.jpg\">\n",
       "<img src=\"http://images.cocodataset.org/train2017/000000568717.jpg\">"
      ],
      "text/plain": [
       "<IPython.core.display.HTML object>"
      ]
     },
     "execution_count": 93,
     "metadata": {},
     "output_type": "execute_result"
    }
   ],
   "source": [
    "# the lights are on in a green kitchen with dark cabinets\n",
    "find_matching_imgs('green kitchen')"
   ]
  },
  {
   "cell_type": "code",
   "execution_count": 94,
   "metadata": {},
   "outputs": [
    {
     "data": {
      "text/html": [
       "<img src=\"http://images.cocodataset.org/train2017/000000416668.jpg\">\n",
       "<img src=\"http://images.cocodataset.org/val2017/000000284623.jpg\">\n",
       "<img src=\"http://images.cocodataset.org/train2017/000000027075.jpg\">\n",
       "<img src=\"http://images.cocodataset.org/train2017/000000189939.jpg\">\n",
       "<img src=\"http://images.cocodataset.org/val2017/000000312340.jpg\">\n",
       "<img src=\"http://images.cocodataset.org/train2017/000000439132.jpg\">\n",
       "<img src=\"http://images.cocodataset.org/train2017/000000318571.jpg\">\n",
       "<img src=\"http://images.cocodataset.org/train2017/000000337188.jpg\">\n",
       "<img src=\"http://images.cocodataset.org/train2017/000000568559.jpg\">\n",
       "<img src=\"http://images.cocodataset.org/train2017/000000531594.jpg\">"
      ],
      "text/plain": [
       "<IPython.core.display.HTML object>"
      ]
     },
     "execution_count": 94,
     "metadata": {},
     "output_type": "execute_result"
    }
   ],
   "source": [
    "#a black cat looks to the left\n",
    "find_matching_imgs('black cat')"
   ]
  },
  {
   "cell_type": "code",
   "execution_count": 95,
   "metadata": {},
   "outputs": [
    {
     "data": {
      "text/html": [
       "<img src=\"http://images.cocodataset.org/train2017/000000504304.jpg\">\n",
       "<img src=\"http://images.cocodataset.org/train2017/000000102024.jpg\">\n",
       "<img src=\"http://images.cocodataset.org/train2017/000000355477.jpg\">\n",
       "<img src=\"http://images.cocodataset.org/train2017/000000197827.jpg\">\n",
       "<img src=\"http://images.cocodataset.org/train2017/000000416489.jpg\">\n",
       "<img src=\"http://images.cocodataset.org/train2017/000000138180.jpg\">\n",
       "<img src=\"http://images.cocodataset.org/train2017/000000010123.jpg\">\n",
       "<img src=\"http://images.cocodataset.org/train2017/000000233915.jpg\">\n",
       "<img src=\"http://images.cocodataset.org/train2017/000000564489.jpg\">\n",
       "<img src=\"http://images.cocodataset.org/train2017/000000330967.jpg\">"
      ],
      "text/plain": [
       "<IPython.core.display.HTML object>"
      ]
     },
     "execution_count": 95,
     "metadata": {},
     "output_type": "execute_result"
    }
   ],
   "source": [
    "#a girl reacts to a bouncing tennis ball while holding her racket up\n",
    "find_matching_imgs('girl woman tennis')"
   ]
  },
  {
   "cell_type": "code",
   "execution_count": 96,
   "metadata": {},
   "outputs": [
    {
     "data": {
      "text/html": [
       "<img src=\"http://images.cocodataset.org/train2017/000000575403.jpg\">\n",
       "<img src=\"http://images.cocodataset.org/train2017/000000160820.jpg\">\n",
       "<img src=\"http://images.cocodataset.org/train2017/000000337826.jpg\">\n",
       "<img src=\"http://images.cocodataset.org/train2017/000000119469.jpg\">\n",
       "<img src=\"http://images.cocodataset.org/train2017/000000388322.jpg\">\n",
       "<img src=\"http://images.cocodataset.org/train2017/000000431315.jpg\">\n",
       "<img src=\"http://images.cocodataset.org/train2017/000000501346.jpg\">\n",
       "<img src=\"http://images.cocodataset.org/train2017/000000528130.jpg\">\n",
       "<img src=\"http://images.cocodataset.org/train2017/000000242325.jpg\">\n",
       "<img src=\"http://images.cocodataset.org/train2017/000000541570.jpg\">"
      ],
      "text/plain": [
       "<IPython.core.display.HTML object>"
      ]
     },
     "execution_count": 96,
     "metadata": {},
     "output_type": "execute_result"
    }
   ],
   "source": [
    "#. a lone sheep by itself in a green field with other sheep around it\n",
    "find_matching_imgs('sheep green')"
   ]
  },
  {
   "cell_type": "code",
   "execution_count": 97,
   "metadata": {},
   "outputs": [
    {
     "data": {
      "text/html": [
       "<img src=\"http://images.cocodataset.org/train2017/000000571396.jpg\">\n",
       "<img src=\"http://images.cocodataset.org/train2017/000000003118.jpg\">\n",
       "<img src=\"http://images.cocodataset.org/train2017/000000158922.jpg\">\n",
       "<img src=\"http://images.cocodataset.org/train2017/000000244692.jpg\">\n",
       "<img src=\"http://images.cocodataset.org/train2017/000000179758.jpg\">\n",
       "<img src=\"http://images.cocodataset.org/train2017/000000083023.jpg\">\n",
       "<img src=\"http://images.cocodataset.org/train2017/000000320759.jpg\">\n",
       "<img src=\"http://images.cocodataset.org/train2017/000000138477.jpg\">\n",
       "<img src=\"http://images.cocodataset.org/train2017/000000384101.jpg\">\n",
       "<img src=\"http://images.cocodataset.org/train2017/000000302071.jpg\">"
      ],
      "text/plain": [
       "<IPython.core.display.HTML object>"
      ]
     },
     "execution_count": 97,
     "metadata": {},
     "output_type": "execute_result"
    }
   ],
   "source": [
    "#a man in blue pants setting up a multi-colored kite on a grass field.\n",
    "find_matching_imgs('man blue pants kite color grass field')"
   ]
  },
  {
   "cell_type": "code",
   "execution_count": 100,
   "metadata": {},
   "outputs": [
    {
     "data": {
      "text/html": [
       "<img src=\"http://images.cocodataset.org/train2017/000000568717.jpg\">\n",
       "<img src=\"http://images.cocodataset.org/train2017/000000321865.jpg\">\n",
       "<img src=\"http://images.cocodataset.org/train2017/000000363190.jpg\">\n",
       "<img src=\"http://images.cocodataset.org/train2017/000000258370.jpg\">\n",
       "<img src=\"http://images.cocodataset.org/train2017/000000388214.jpg\">\n",
       "<img src=\"http://images.cocodataset.org/train2017/000000104326.jpg\">\n",
       "<img src=\"http://images.cocodataset.org/train2017/000000095569.jpg\">\n",
       "<img src=\"http://images.cocodataset.org/train2017/000000228514.jpg\">\n",
       "<img src=\"http://images.cocodataset.org/train2017/000000217811.jpg\">\n",
       "<img src=\"http://images.cocodataset.org/train2017/000000074388.jpg\">\n",
       "<img src=\"http://images.cocodataset.org/train2017/000000132342.jpg\">\n",
       "<img src=\"http://images.cocodataset.org/train2017/000000502749.jpg\">\n",
       "<img src=\"http://images.cocodataset.org/train2017/000000304078.jpg\">\n",
       "<img src=\"http://images.cocodataset.org/train2017/000000562335.jpg\">\n",
       "<img src=\"http://images.cocodataset.org/train2017/000000539355.jpg\">\n",
       "<img src=\"http://images.cocodataset.org/train2017/000000354041.jpg\">\n",
       "<img src=\"http://images.cocodataset.org/train2017/000000061938.jpg\">\n",
       "<img src=\"http://images.cocodataset.org/train2017/000000428712.jpg\">\n",
       "<img src=\"http://images.cocodataset.org/train2017/000000222494.jpg\">\n",
       "<img src=\"http://images.cocodataset.org/train2017/000000074096.jpg\">"
      ],
      "text/plain": [
       "<IPython.core.display.HTML object>"
      ]
     },
     "execution_count": 100,
     "metadata": {},
     "output_type": "execute_result"
    }
   ],
   "source": [
    "# a green colored kitchen with a tiled floor. there is an island in the middle\n",
    "find_matching_imgs('green green kitchen tile island', limit=20)"
   ]
  },
  {
   "cell_type": "code",
   "execution_count": 101,
   "metadata": {},
   "outputs": [
    {
     "data": {
      "text/html": [
       "<img src=\"http://images.cocodataset.org/train2017/000000396252.jpg\">\n",
       "<img src=\"http://images.cocodataset.org/train2017/000000108982.jpg\">\n",
       "<img src=\"http://images.cocodataset.org/train2017/000000482064.jpg\">\n",
       "<img src=\"http://images.cocodataset.org/train2017/000000055652.jpg\">\n",
       "<img src=\"http://images.cocodataset.org/val2017/000000100489.jpg\">\n",
       "<img src=\"http://images.cocodataset.org/train2017/000000440706.jpg\">\n",
       "<img src=\"http://images.cocodataset.org/train2017/000000542751.jpg\">\n",
       "<img src=\"http://images.cocodataset.org/train2017/000000074348.jpg\">\n",
       "<img src=\"http://images.cocodataset.org/train2017/000000036004.jpg\">\n",
       "<img src=\"http://images.cocodataset.org/train2017/000000280480.jpg\">"
      ],
      "text/plain": [
       "<IPython.core.display.HTML object>"
      ]
     },
     "execution_count": 101,
     "metadata": {},
     "output_type": "execute_result"
    }
   ],
   "source": [
    "#a blue jay looking to the left on a fir branch.\n",
    "find_matching_imgs('blue jay bird fir tree branch')"
   ]
  },
  {
   "cell_type": "code",
   "execution_count": 102,
   "metadata": {},
   "outputs": [
    {
     "data": {
      "text/html": [
       "<img src=\"http://images.cocodataset.org/train2017/000000564489.jpg\">\n",
       "<img src=\"http://images.cocodataset.org/train2017/000000077155.jpg\">\n",
       "<img src=\"http://images.cocodataset.org/train2017/000000102024.jpg\">\n",
       "<img src=\"http://images.cocodataset.org/train2017/000000043856.jpg\">\n",
       "<img src=\"http://images.cocodataset.org/train2017/000000504304.jpg\">\n",
       "<img src=\"http://images.cocodataset.org/train2017/000000330967.jpg\">\n",
       "<img src=\"http://images.cocodataset.org/train2017/000000320609.jpg\">\n",
       "<img src=\"http://images.cocodataset.org/train2017/000000355477.jpg\">\n",
       "<img src=\"http://images.cocodataset.org/train2017/000000189614.jpg\">\n",
       "<img src=\"http://images.cocodataset.org/train2017/000000197827.jpg\">"
      ],
      "text/plain": [
       "<IPython.core.display.HTML object>"
      ]
     },
     "execution_count": 102,
     "metadata": {},
     "output_type": "execute_result"
    }
   ],
   "source": [
    "# a female tennis player with a red shirt about to hit a tennis ball.\n",
    "find_matching_imgs('female woman girl tennis red')"
   ]
  },
  {
   "cell_type": "code",
   "execution_count": 105,
   "metadata": {},
   "outputs": [
    {
     "data": {
      "text/html": [
       "<img src=\"http://images.cocodataset.org/train2017/000000137300.jpg\">\n",
       "<img src=\"http://images.cocodataset.org/train2017/000000304853.jpg\">\n",
       "<img src=\"http://images.cocodataset.org/train2017/000000571396.jpg\">\n",
       "<img src=\"http://images.cocodataset.org/train2017/000000083023.jpg\">\n",
       "<img src=\"http://images.cocodataset.org/train2017/000000232524.jpg\">\n",
       "<img src=\"http://images.cocodataset.org/train2017/000000402248.jpg\">\n",
       "<img src=\"http://images.cocodataset.org/train2017/000000210190.jpg\">\n",
       "<img src=\"http://images.cocodataset.org/train2017/000000065008.jpg\">\n",
       "<img src=\"http://images.cocodataset.org/train2017/000000236505.jpg\">\n",
       "<img src=\"http://images.cocodataset.org/train2017/000000311589.jpg\">\n",
       "<img src=\"http://images.cocodataset.org/train2017/000000028184.jpg\">\n",
       "<img src=\"http://images.cocodataset.org/train2017/000000499120.jpg\">\n",
       "<img src=\"http://images.cocodataset.org/train2017/000000487269.jpg\">\n",
       "<img src=\"http://images.cocodataset.org/train2017/000000557517.jpg\">\n",
       "<img src=\"http://images.cocodataset.org/train2017/000000275015.jpg\">\n",
       "<img src=\"http://images.cocodataset.org/train2017/000000457780.jpg\">\n",
       "<img src=\"http://images.cocodataset.org/train2017/000000259576.jpg\">\n",
       "<img src=\"http://images.cocodataset.org/train2017/000000420548.jpg\">\n",
       "<img src=\"http://images.cocodataset.org/train2017/000000217899.jpg\">\n",
       "<img src=\"http://images.cocodataset.org/train2017/000000338064.jpg\">\n",
       "<img src=\"http://images.cocodataset.org/train2017/000000253148.jpg\">\n",
       "<img src=\"http://images.cocodataset.org/train2017/000000221015.jpg\">\n",
       "<img src=\"http://images.cocodataset.org/train2017/000000498795.jpg\">\n",
       "<img src=\"http://images.cocodataset.org/train2017/000000142735.jpg\">\n",
       "<img src=\"http://images.cocodataset.org/train2017/000000551023.jpg\">\n",
       "<img src=\"http://images.cocodataset.org/train2017/000000578856.jpg\">\n",
       "<img src=\"http://images.cocodataset.org/train2017/000000018373.jpg\">\n",
       "<img src=\"http://images.cocodataset.org/train2017/000000469515.jpg\">\n",
       "<img src=\"http://images.cocodataset.org/train2017/000000005312.jpg\">\n",
       "<img src=\"http://images.cocodataset.org/train2017/000000122440.jpg\">\n",
       "<img src=\"http://images.cocodataset.org/train2017/000000008019.jpg\">\n",
       "<img src=\"http://images.cocodataset.org/train2017/000000291550.jpg\">\n",
       "<img src=\"http://images.cocodataset.org/train2017/000000323791.jpg\">\n",
       "<img src=\"http://images.cocodataset.org/train2017/000000478985.jpg\">\n",
       "<img src=\"http://images.cocodataset.org/train2017/000000078861.jpg\">\n",
       "<img src=\"http://images.cocodataset.org/train2017/000000101252.jpg\">\n",
       "<img src=\"http://images.cocodataset.org/train2017/000000580732.jpg\">\n",
       "<img src=\"http://images.cocodataset.org/train2017/000000320759.jpg\">\n",
       "<img src=\"http://images.cocodataset.org/train2017/000000431067.jpg\">\n",
       "<img src=\"http://images.cocodataset.org/train2017/000000281782.jpg\">"
      ],
      "text/plain": [
       "<IPython.core.display.HTML object>"
      ]
     },
     "execution_count": 105,
     "metadata": {},
     "output_type": "execute_result"
    }
   ],
   "source": [
    "#a man stands next to a large kite on a grass lawn\n",
    "find_matching_imgs('man person kite grass green lawn', limit=40)"
   ]
  },
  {
   "cell_type": "code",
   "execution_count": 106,
   "metadata": {},
   "outputs": [
    {
     "data": {
      "text/html": [
       "<img src=\"http://images.cocodataset.org/train2017/000000544299.jpg\">\n",
       "<img src=\"http://images.cocodataset.org/train2017/000000413984.jpg\">\n",
       "<img src=\"http://images.cocodataset.org/train2017/000000210453.jpg\">\n",
       "<img src=\"http://images.cocodataset.org/train2017/000000507812.jpg\">\n",
       "<img src=\"http://images.cocodataset.org/train2017/000000246327.jpg\">\n",
       "<img src=\"http://images.cocodataset.org/train2017/000000163444.jpg\">\n",
       "<img src=\"http://images.cocodataset.org/train2017/000000422161.jpg\">\n",
       "<img src=\"http://images.cocodataset.org/train2017/000000373727.jpg\">\n",
       "<img src=\"http://images.cocodataset.org/train2017/000000021801.jpg\">\n",
       "<img src=\"http://images.cocodataset.org/train2017/000000036567.jpg\">"
      ],
      "text/plain": [
       "<IPython.core.display.HTML object>"
      ]
     },
     "execution_count": 106,
     "metadata": {},
     "output_type": "execute_result"
    }
   ],
   "source": [
    "#a kitchen has dark wood cabinets and stainless steel appliances\n",
    "find_matching_imgs('kitchen dark wood cabinet stainless steel appl')"
   ]
  },
  {
   "cell_type": "code",
   "execution_count": 107,
   "metadata": {},
   "outputs": [
    {
     "data": {
      "text/html": [
       "<img src=\"http://images.cocodataset.org/train2017/000000482064.jpg\">\n",
       "<img src=\"http://images.cocodataset.org/train2017/000000396252.jpg\">\n",
       "<img src=\"http://images.cocodataset.org/train2017/000000108982.jpg\">\n",
       "<img src=\"http://images.cocodataset.org/val2017/000000100489.jpg\">\n",
       "<img src=\"http://images.cocodataset.org/train2017/000000551861.jpg\">\n",
       "<img src=\"http://images.cocodataset.org/train2017/000000440706.jpg\">\n",
       "<img src=\"http://images.cocodataset.org/train2017/000000036004.jpg\">\n",
       "<img src=\"http://images.cocodataset.org/val2017/000000337987.jpg\">\n",
       "<img src=\"http://images.cocodataset.org/train2017/000000542751.jpg\">\n",
       "<img src=\"http://images.cocodataset.org/train2017/000000129719.jpg\">"
      ],
      "text/plain": [
       "<IPython.core.display.HTML object>"
      ]
     },
     "execution_count": 107,
     "metadata": {},
     "output_type": "execute_result"
    }
   ],
   "source": [
    "#a blue and white bird sits on a tree branch\n",
    "find_matching_imgs('blue white bird tree branch')"
   ]
  },
  {
   "cell_type": "code",
   "execution_count": null,
   "metadata": {},
   "outputs": [],
   "source": []
  }
 ],
 "metadata": {
  "kernelspec": {
   "display_name": "Python 3",
   "language": "python",
   "name": "python3"
  },
  "language_info": {
   "codemirror_mode": {
    "name": "ipython",
    "version": 3
   },
   "file_extension": ".py",
   "mimetype": "text/x-python",
   "name": "python",
   "nbconvert_exporter": "python",
   "pygments_lexer": "ipython3",
   "version": "3.6.4"
  }
 },
 "nbformat": 4,
 "nbformat_minor": 2
}
