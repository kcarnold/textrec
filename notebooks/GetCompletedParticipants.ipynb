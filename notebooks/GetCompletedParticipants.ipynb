{
 "cells": [
  {
   "cell_type": "code",
   "execution_count": 7,
   "metadata": {},
   "outputs": [
    {
     "name": "stdout",
     "output_type": "stream",
     "text": [
      "/Users/kcarnold/code/textrec\n",
      "8 invalid\n",
      "\n",
      "27 completed in None\n",
      "None: jvccx2 36x2r3 gg65g6 692c8j qmwvwv 77j4mf 4ggxj8 5c39rx fvwhpc 26w4jv 7g8xw8 533r6c 74v545 vxjcf7 9f5xwx 3267ww wf4c3m 7jcm37 cf9p8m phqcw9 5jj59g gw3w72 559x69 gvwqp6 8fwr56 qxqm88 pmr872\n",
      "\n",
      "108 completed in gc1\n",
      "gc1: x9m97g 48mr5g h6c27m pfqcmf fcc4fp 3qjwxv 5p7cf7 xxxp65 94wwrq vg926m fjr9xf rp3jwh 46gc8v 8v9qq5 vj2c8r 7fwgf9 26f62q wxf9cx gmvv6r w3xwhj 3pcfjp 85c66x 5cgvvc ch945r 7xcppv qmchp7 62wvgm mw7pc7 63mrcq 4vmgqv 32fr2w cw8jpm 7jp5h4 f3892v p4q4jp f479h2 f8frp2 4x7jjx 7j4gc6 5pf4h7 gcjjqc xgcr52 pr5hff jh3rx5 3cm2qq 6fgx6j cf73g3 xvxq7w c2wv83 gx8vx9 hq2g7q x3mrpx vvfj4x 8vcxq6 96gq9f 7grhw7 qm6wqx q3xfvf 9m46qq j88jgg 47xrm7 x2fw4m mwv4gj 3h7vfg q428cv 8h9qf7 h9m9w2 rcpx47 xx7p4w cxm3q7 rw98hv g55cwj rm7x3w g3q964 qgxp9h 4pc77f 6mfxp2 3x5mhw hv4pj4 fhjmc3 5p7cw2 c9m5p2 3ppjq7 2xj467 6jvhvp cgh5vf v6fc3x q6235r p593rx 654p57 pvh35q wcmr62 9rpwf7 9c8wwq 37jqj6 wj7fj6 vqrw88 p475m7 wrh49v 7x6428 88cv8q rgjjpm 4v7g27 26cj6j r453r6 7q253f fh7mpr hx3m26\n",
      "\n",
      "4 completed in xs0\n",
      "xs0: gmq64w xq9hcm qj5rm6 fg392m\n",
      "\n",
      "2 completed in xs1\n",
      "xs1: 9g8qch c4chqc\n"
     ]
    }
   ],
   "source": [
    "%cd ~/code/textrec\n",
    "%run scripts/get_completed_participants.py"
   ]
  },
  {
   "cell_type": "code",
   "execution_count": 8,
   "metadata": {},
   "outputs": [],
   "source": [
    "from textrec.quick_summary import summarize"
   ]
  },
  {
   "cell_type": "code",
   "execution_count": 9,
   "metadata": {},
   "outputs": [],
   "source": [
    "import sys"
   ]
  },
  {
   "cell_type": "code",
   "execution_count": 10,
   "metadata": {},
   "outputs": [
    {
     "data": {
      "text/plain": [
       "<module 'textrec.quick_summary' from '/Users/kcarnold/code/textrec/src/textrec/quick_summary.py'>"
      ]
     },
     "execution_count": 10,
     "metadata": {},
     "output_type": "execute_result"
    }
   ],
   "source": [
    "reload(sys.modules[summarize.__module__])"
   ]
  },
  {
   "cell_type": "code",
   "execution_count": 11,
   "metadata": {},
   "outputs": [
    {
     "name": "stdout",
     "output_type": "stream",
     "text": [
      "\n",
      "9g8qch\n",
      "final-0-0:always:glazed donuts on a cooling rack have been bitten into \n",
      "final-0-1:always:a cat sits on a desk in front of a computer \n",
      "final-0-2:always:this gray cat has curled up into a ball\n",
      "final-0-3:always:sun rays breaking through an overcast sky over a beach pier \n",
      "final-0-4:always:a happy woman about to eat a slice of pizza \n",
      "final-0-5:always:a man who is looking at his cell phone \n",
      "final-0-6:always:a train on a track with a lot of graffiti written on it \n",
      "final-1-0:gated:a person on a bike rides down a street \n",
      "final-1-1:gated:the baseball memorabilia is being displayed in the showcase \n",
      "final-1-2:gated:man focused with controller and window with wall\n",
      "final-1-3:gated:a group of young children playing in the snow next to each other \n",
      "final-1-4:gated:two people on skateboards, one is doing tricks \n",
      "final-1-5:gated:a metal statue with a robe and a pole\n",
      "final-1-6:gated:a passenger jet that is flying in the sky \n",
      "final-2-0:norecs:two zebras eating from small piles of food\n",
      "final-2-1:norecs:a couple of people on a beach flying a kite\n",
      "final-2-2:norecs:a train is pulling into the train station\n",
      "final-2-3:norecs:a large truck on the side of a street\n",
      "final-2-4:norecs:a white and blue truck parked on a street\n",
      "final-2-5:norecs:odd plat and flower arrangement in a vase\n",
      "final-2-6:norecs:woman talking on a cell phone in a lobby\n",
      "\n",
      "intro-use_predictive: Often\n",
      "postTask-0-techDiff: No. Everything worked fine.\n",
      "postTask-1-techDiff: No\n",
      "postTask-2-techDiff: No\n",
      "postExp-helpfulRank-accurate-most: Keyboard Design 1\n",
      "postExp-helpfulRank-accurate-least: Keyboard Design 3\n",
      "postExp-helpfulRank-quick-most: Keyboard Design 1\n",
      "postExp-helpfulRank-quick-least: Keyboard Design 3\n",
      "postExp-verbalized_during: Yes\n",
      "postExp-age: 48\n",
      "postExp-gender: Female\n",
      "postExp-english_proficiency: Native or bilingual\n",
      "postExp-techDiff: No\n",
      "postExp-other: This was a really fun survey. I enjoyed it a lot.\n",
      "\n",
      "Total time: 27.5m\n",
      "IntroSurvey: 706.1\n",
      "ExperimentScreen: 677.3\n",
      "PostTaskSurvey: 137.5\n",
      "PostExpSurvey: 78.0\n",
      "StudyDesc: 25.2\n",
      "PostPractice: 8.4\n",
      "Welcome: 7.2\n",
      "TaskDescription: 5.5\n",
      "Instructions: 5.0\n",
      "\n",
      "c4chqc\n",
      "final-0-0:gated:glazed donuts on a cooling rack have been bitten into \n",
      "final-0-1:gated:a cat sits on a desk in front of a computer\n",
      "\n",
      "final-0-2:gated:this gray cat has curled up into a ball\n",
      "final-0-3:gated:sun rays breaking through an overcast sky over a beach pier\n",
      "final-0-4:gated:a happy woman about to eat a slice of pizza\n",
      "final-0-5:gated:a man who is looking at his cell phone\n",
      "final-0-6:gated:a train on a track with a lot of graffiti written on it \n",
      "final-1-0:always:a person on a bike rides down a street \n",
      "final-1-1:always:the baseball memorabilia is being displayed in the showcase \n",
      "final-1-2:always:man focused with controller and window with wall\n",
      "final-1-3:always:a group of young children playing in the snow next to each other \n",
      "final-1-4:always:two people on skateboards, one is doing tricks \n",
      "final-1-5:always:a metal statue with a robe and a pole\n",
      "final-1-6:always:a passenger jet that is flying in the sky\n",
      "final-2-0:norecs:two zebras eating from small piles of food\n",
      "final-2-1:norecs:a couple of people on a beach flying a kite\n",
      "final-2-2:norecs:a train is pulling into the train station\n",
      "final-2-3:norecs:a large truck on the side of a street\n",
      "final-2-4:norecs:a white and blue truck parked on a street\n",
      "final-2-5:norecs:odd plant and flower arrangement in a vase\n",
      "final-2-6:norecs:woman talking on a cell phone in a lobby\n",
      "\n",
      "intro-use_predictive: Very Rarely\n",
      "postTask-0-techDiff: No\n",
      "postTask-0-other: How am i supposed to remember the exact wording\n",
      "postTask-1-techDiff: No\n",
      "postTask-1-other: No\n",
      "postTask-2-techDiff: No\n",
      "postExp-helpfulRank-accurate-most: Keyboard Design 3\n",
      "postExp-helpfulRank-accurate-least: Keyboard Design 1\n",
      "postExp-helpfulRank-quick-most: Keyboard Design 3\n",
      "postExp-helpfulRank-quick-least: Keyboard Design 1\n",
      "postExp-verbalized_during: No\n",
      "postExp-age: 34\n",
      "postExp-gender: Female\n",
      "postExp-english_proficiency: Native or bilingual\n",
      "postExp-techDiff: No\n",
      "postExp-other: It was distracting to see the predictions because it distracted from my mental repeating of the phrase, and it broke the flow of using spaces\n",
      "\n",
      "Total time: 15.0m\n",
      "ExperimentScreen: 548.1\n",
      "PostTaskSurvey: 146.8\n",
      "PostExpSurvey: 113.3\n",
      "IntroSurvey: 28.3\n",
      "PostPractice: 26.1\n",
      "Welcome: 18.4\n",
      "StudyDesc: 12.9\n",
      "Instructions: 3.0\n",
      "TaskDescription: 2.7\n"
     ]
    }
   ],
   "source": [
    "summarize(complete_by_group['xs1'])"
   ]
  },
  {
   "cell_type": "code",
   "execution_count": null,
   "metadata": {
    "scrolled": true
   },
   "outputs": [],
   "source": [
    "did_some_work = [entry for entry in not_invalid if entry['num_nexts'] > 4] # arbitrary cutoff"
   ]
  },
  {
   "cell_type": "code",
   "execution_count": null,
   "metadata": {
    "scrolled": true
   },
   "outputs": [],
   "source": [
    "incomplete = [entry for entry in did_some_work if not entry['complete']]"
   ]
  },
  {
   "cell_type": "code",
   "execution_count": null,
   "metadata": {
    "scrolled": true
   },
   "outputs": [],
   "source": [
    "len(incomplete)"
   ]
  },
  {
   "cell_type": "code",
   "execution_count": null,
   "metadata": {},
   "outputs": [],
   "source": [
    "%run -m textrec.quick_summary"
   ]
  },
  {
   "cell_type": "code",
   "execution_count": null,
   "metadata": {},
   "outputs": [],
   "source": [
    "summarize([x['participant_id'] for x in incomplete], incomplete_ok=True)"
   ]
  },
  {
   "cell_type": "code",
   "execution_count": null,
   "metadata": {
    "scrolled": true
   },
   "outputs": [],
   "source": [
    "' '.join(entry['participant_id'] for entry in complete)"
   ]
  },
  {
   "cell_type": "code",
   "execution_count": null,
   "metadata": {},
   "outputs": [],
   "source": [
    "from textrec.counterbalancing import get_completion_data"
   ]
  },
  {
   "cell_type": "code",
   "execution_count": null,
   "metadata": {},
   "outputs": [],
   "source": [
    "import pandas as pd"
   ]
  },
  {
   "cell_type": "code",
   "execution_count": null,
   "metadata": {},
   "outputs": [],
   "source": [
    "completions = pd.DataFrame(get_completion_data('gc1'))\n",
    "completions['login_timestamp'] = pd.to_datetime(completions.login_timestamp, unit='s')\n",
    "completions = completions.sort_values('login_timestamp')"
   ]
  },
  {
   "cell_type": "code",
   "execution_count": null,
   "metadata": {},
   "outputs": [],
   "source": [
    "completions.login_timestamp.iloc[-5]"
   ]
  },
  {
   "cell_type": "code",
   "execution_count": null,
   "metadata": {},
   "outputs": [],
   "source": [
    "completions[\n",
    "    completions.completed\n",
    "   & (completions.login_timestamp < pd.Timestamp(year=2018, month=6, day=29))].assignment.value_counts()\n"
   ]
  },
  {
   "cell_type": "code",
   "execution_count": null,
   "metadata": {},
   "outputs": [],
   "source": [
    "completions"
   ]
  }
 ],
 "metadata": {
  "kernelspec": {
   "display_name": "Python 3",
   "language": "python",
   "name": "python3"
  },
  "language_info": {
   "codemirror_mode": {
    "name": "ipython",
    "version": 3
   },
   "file_extension": ".py",
   "mimetype": "text/x-python",
   "name": "python",
   "nbconvert_exporter": "python",
   "pygments_lexer": "ipython3",
   "version": "3.6.4"
  }
 },
 "nbformat": 4,
 "nbformat_minor": 2
}
