{
 "cells": [
  {
   "cell_type": "markdown",
   "metadata": {},
   "source": [
    "Do some ppts just answer randomly to traits questions?\n",
    "Indication of random responses: very little time between responses.\n",
    "So compute stats on time between responses."
   ]
  },
  {
   "cell_type": "code",
   "execution_count": 1,
   "metadata": {},
   "outputs": [
    {
     "name": "stderr",
     "output_type": "stream",
     "text": [
      "/Users/kcarnold/anaconda3/envs/py36/lib/python3.6/site-packages/h5py/__init__.py:36: FutureWarning: Conversion of the second argument of issubdtype from `float` to `np.floating` is deprecated. In future, it will be treated as `np.float64 == np.dtype(float).type`.\n",
      "  from ._conv import register_converters as _register_converters\n"
     ]
    },
    {
     "name": "stdout",
     "output_type": "stream",
     "text": [
      "Loading ONMT models...\n",
      "coco_lm_adam_acc_46.00_ppl_16.32_e10_nooptim.pt\n",
      "Loading model parameters.\n",
      "coco_cap_adam_acc_48.73_ppl_12.56_e10_nooptim.pt\n",
      "Loading model parameters.\n",
      "Ready.\n",
      "Loading SpaCy...done\n"
     ]
    }
   ],
   "source": [
    "from textrec.paths import paths\n",
    "import json\n",
    "import pandas as pd\n",
    "from textrec import logs_to_csv\n",
    "import tqdm\n",
    "from collections import OrderedDict"
   ]
  },
  {
   "cell_type": "code",
   "execution_count": 2,
   "metadata": {},
   "outputs": [],
   "source": [
    "participants_by_batch = logs_to_csv.get_participants_by_batch()\n",
    "gc1 = ['gc1']"
   ]
  },
  {
   "cell_type": "code",
   "execution_count": 3,
   "metadata": {},
   "outputs": [],
   "source": [
    "participants = [(batch, id) for batch in ['gc1', 'spec1', 'spec2'] for id in participants_by_batch[batch]]"
   ]
  },
  {
   "cell_type": "code",
   "execution_count": 4,
   "metadata": {},
   "outputs": [
    {
     "data": {
      "application/vnd.jupyter.widget-view+json": {
       "model_id": "b8cab2a9962b4287b792fb0d6962d2fd",
       "version_major": 2,
       "version_minor": 0
      },
      "text/plain": [
       "HBox(children=(IntProgress(value=0, max=165), HTML(value='')))"
      ]
     },
     "metadata": {},
     "output_type": "display_data"
    },
    {
     "name": "stdout",
     "output_type": "stream",
     "text": [
      "\n"
     ]
    }
   ],
   "source": [
    "all_results = []\n",
    "for batch, participant in tqdm.tqdm_notebook(participants):\n",
    "    with open(paths.logdir / f'{participant}.jsonl') as f:\n",
    "        log = [json.loads(line.strip()) for line in f]\n",
    "    responses = {}\n",
    "\n",
    "    for i, event in enumerate(log):\n",
    "        if event['type'] != 'controlledInputChanged':\n",
    "            continue\n",
    "        if isinstance(event['value'], str):\n",
    "            continue\n",
    "\n",
    "        if event['name'] in responses:\n",
    "            prev_delay = responses[event['name']]['delay']\n",
    "        else:\n",
    "            prev_delay = 0.\n",
    "            \n",
    "        # Find the previous event that was actually a user input (has a 'jsTimestamp').\n",
    "        prev_idx = i - 1\n",
    "        while 'jsTimestamp' not in log[prev_idx]:\n",
    "            prev_idx -= 1\n",
    "        responses[event['name']] = dict(\n",
    "            num_updates=0,\n",
    "            value=event['value'],\n",
    "            delay=prev_delay + (log[i]['jsTimestamp'] - log[prev_idx]['jsTimestamp']) / 1000)\n",
    "    \n",
    "    for name, data in responses.items():\n",
    "        entry = OrderedDict()\n",
    "        entry['batch'] = batch\n",
    "        entry['participant'] = participant\n",
    "        entry['name'] = name\n",
    "        entry.update(data)\n",
    "        all_results.append(entry)\n",
    "        \n",
    "    del responses"
   ]
  },
  {
   "cell_type": "code",
   "execution_count": 5,
   "metadata": {},
   "outputs": [],
   "source": [
    "df = pd.DataFrame(all_results)"
   ]
  },
  {
   "cell_type": "code",
   "execution_count": 6,
   "metadata": {},
   "outputs": [],
   "source": [
    "df.set_index(['batch', 'participant', 'name']).value.unstack(level=-1).to_csv('survey_responses.csv')"
   ]
  },
  {
   "cell_type": "code",
   "execution_count": 7,
   "metadata": {},
   "outputs": [],
   "source": [
    "agg = df.groupby(['batch', 'participant']).delay.aggregate(['mean', 'median', 'min'])"
   ]
  },
  {
   "cell_type": "code",
   "execution_count": 8,
   "metadata": {},
   "outputs": [],
   "source": [
    "agg.rename(columns={col: 'response_time_'+col for col in agg.columns}).to_csv('thoughtfulness.csv')"
   ]
  },
  {
   "cell_type": "code",
   "execution_count": 9,
   "metadata": {},
   "outputs": [
    {
     "data": {
      "text/plain": [
       "participant\n",
       "7q253f    0.7000\n",
       "46gc8v    0.8400\n",
       "pr5hff    0.8810\n",
       "w3xwhj    1.0260\n",
       "w46px5    1.0450\n",
       "559x69    1.1000\n",
       "3pcfjp    1.1270\n",
       "77j4mf    1.1360\n",
       "gmvv6r    1.1990\n",
       "fh7mpr    1.2520\n",
       "9c8wwq    1.2710\n",
       "4x7jjx    1.2965\n",
       "2q4327    1.3120\n",
       "63mrcq    1.3170\n",
       "ch945r    1.3210\n",
       "c2wv83    1.3230\n",
       "9rpwf7    1.3710\n",
       "6pmv8x    1.4010\n",
       "cf73g3    1.4060\n",
       "85c66x    1.4250\n",
       "phqcw9    1.4340\n",
       "p45469    1.4360\n",
       "94wwrq    1.4490\n",
       "vj2c8r    1.4580\n",
       "vg926m    1.4880\n",
       "654p57    1.5150\n",
       "r453r6    1.5190\n",
       "f3892v    1.5480\n",
       "9f5xwx    1.5530\n",
       "7xcppv    1.5550\n",
       "           ...  \n",
       "gvwqp6    2.6570\n",
       "rp3jwh    2.6650\n",
       "gg65g6    2.6950\n",
       "wf82v8    2.8260\n",
       "533r6c    2.8310\n",
       "gw3w72    2.8550\n",
       "vxjcf7    2.8850\n",
       "26cj6j    2.9070\n",
       "24ccf8    2.9100\n",
       "7x6428    2.9125\n",
       "f8frp2    2.9170\n",
       "26w4jv    2.9340\n",
       "qgxp9h    3.0660\n",
       "7hxmrr    3.0730\n",
       "p475m7    3.2610\n",
       "phv4hj    3.2820\n",
       "wcmr62    3.3230\n",
       "46qwpm    3.3810\n",
       "w768j6    3.4220\n",
       "v6fc3x    3.4760\n",
       "mh78w9    3.5500\n",
       "5r26hq    3.6410\n",
       "5pf4h7    3.6525\n",
       "3ppjq7    3.6790\n",
       "7grhw7    3.8085\n",
       "p4hxrf    3.9470\n",
       "jvccx2    4.0720\n",
       "6mfxp2    4.1510\n",
       "p593rx    4.5120\n",
       "wf4c3m    4.6150\n",
       "Name: delay, Length: 165, dtype: float64"
      ]
     },
     "execution_count": 9,
     "metadata": {},
     "output_type": "execute_result"
    }
   ],
   "source": [
    "df.groupby('participant').delay.median().sort_values()"
   ]
  },
  {
   "cell_type": "code",
   "execution_count": 10,
   "metadata": {},
   "outputs": [
    {
     "data": {
      "text/html": [
       "<div>\n",
       "<style scoped>\n",
       "    .dataframe tbody tr th:only-of-type {\n",
       "        vertical-align: middle;\n",
       "    }\n",
       "\n",
       "    .dataframe tbody tr th {\n",
       "        vertical-align: top;\n",
       "    }\n",
       "\n",
       "    .dataframe thead th {\n",
       "        text-align: right;\n",
       "    }\n",
       "</style>\n",
       "<table border=\"1\" class=\"dataframe\">\n",
       "  <thead>\n",
       "    <tr style=\"text-align: right;\">\n",
       "      <th></th>\n",
       "      <th>count</th>\n",
       "      <th>mean</th>\n",
       "      <th>std</th>\n",
       "      <th>min</th>\n",
       "      <th>25%</th>\n",
       "      <th>50%</th>\n",
       "      <th>75%</th>\n",
       "      <th>max</th>\n",
       "    </tr>\n",
       "    <tr>\n",
       "      <th>participant</th>\n",
       "      <th></th>\n",
       "      <th></th>\n",
       "      <th></th>\n",
       "      <th></th>\n",
       "      <th></th>\n",
       "      <th></th>\n",
       "      <th></th>\n",
       "      <th></th>\n",
       "    </tr>\n",
       "  </thead>\n",
       "  <tbody>\n",
       "    <tr>\n",
       "      <th>p475m7</th>\n",
       "      <td>67.0</td>\n",
       "      <td>4.776343</td>\n",
       "      <td>5.437048</td>\n",
       "      <td>0.007</td>\n",
       "      <td>2.3200</td>\n",
       "      <td>3.261</td>\n",
       "      <td>4.6540</td>\n",
       "      <td>31.745</td>\n",
       "    </tr>\n",
       "    <tr>\n",
       "      <th>283hmx</th>\n",
       "      <td>67.0</td>\n",
       "      <td>1.860537</td>\n",
       "      <td>1.759908</td>\n",
       "      <td>0.067</td>\n",
       "      <td>1.1805</td>\n",
       "      <td>1.594</td>\n",
       "      <td>1.8375</td>\n",
       "      <td>12.711</td>\n",
       "    </tr>\n",
       "    <tr>\n",
       "      <th>6pmv8x</th>\n",
       "      <td>67.0</td>\n",
       "      <td>1.589060</td>\n",
       "      <td>0.750829</td>\n",
       "      <td>0.082</td>\n",
       "      <td>1.1380</td>\n",
       "      <td>1.401</td>\n",
       "      <td>1.9555</td>\n",
       "      <td>4.247</td>\n",
       "    </tr>\n",
       "    <tr>\n",
       "      <th>p3x3wj</th>\n",
       "      <td>67.0</td>\n",
       "      <td>5.100567</td>\n",
       "      <td>14.024209</td>\n",
       "      <td>0.109</td>\n",
       "      <td>1.4525</td>\n",
       "      <td>2.012</td>\n",
       "      <td>3.3635</td>\n",
       "      <td>100.930</td>\n",
       "    </tr>\n",
       "    <tr>\n",
       "      <th>6fgx6j</th>\n",
       "      <td>67.0</td>\n",
       "      <td>2.861970</td>\n",
       "      <td>3.713779</td>\n",
       "      <td>0.144</td>\n",
       "      <td>1.3555</td>\n",
       "      <td>1.851</td>\n",
       "      <td>2.5745</td>\n",
       "      <td>23.261</td>\n",
       "    </tr>\n",
       "    <tr>\n",
       "      <th>xvxq7w</th>\n",
       "      <td>67.0</td>\n",
       "      <td>2.823642</td>\n",
       "      <td>1.545386</td>\n",
       "      <td>0.156</td>\n",
       "      <td>1.8930</td>\n",
       "      <td>2.501</td>\n",
       "      <td>3.4350</td>\n",
       "      <td>9.717</td>\n",
       "    </tr>\n",
       "    <tr>\n",
       "      <th>xx7p4w</th>\n",
       "      <td>67.0</td>\n",
       "      <td>1.976000</td>\n",
       "      <td>1.342354</td>\n",
       "      <td>0.183</td>\n",
       "      <td>1.2590</td>\n",
       "      <td>1.618</td>\n",
       "      <td>2.3500</td>\n",
       "      <td>7.144</td>\n",
       "    </tr>\n",
       "    <tr>\n",
       "      <th>9c8wwq</th>\n",
       "      <td>67.0</td>\n",
       "      <td>1.659045</td>\n",
       "      <td>1.137401</td>\n",
       "      <td>0.191</td>\n",
       "      <td>0.9655</td>\n",
       "      <td>1.271</td>\n",
       "      <td>2.2265</td>\n",
       "      <td>5.960</td>\n",
       "    </tr>\n",
       "    <tr>\n",
       "      <th>cxm3q7</th>\n",
       "      <td>67.0</td>\n",
       "      <td>10.715836</td>\n",
       "      <td>43.734768</td>\n",
       "      <td>0.195</td>\n",
       "      <td>1.1645</td>\n",
       "      <td>2.301</td>\n",
       "      <td>3.8920</td>\n",
       "      <td>353.096</td>\n",
       "    </tr>\n",
       "    <tr>\n",
       "      <th>rm7x3w</th>\n",
       "      <td>67.0</td>\n",
       "      <td>2.215090</td>\n",
       "      <td>3.208668</td>\n",
       "      <td>0.201</td>\n",
       "      <td>1.0005</td>\n",
       "      <td>1.589</td>\n",
       "      <td>2.1895</td>\n",
       "      <td>25.805</td>\n",
       "    </tr>\n",
       "  </tbody>\n",
       "</table>\n",
       "</div>"
      ],
      "text/plain": [
       "             count       mean        std    min     25%    50%     75%  \\\n",
       "participant                                                              \n",
       "p475m7        67.0   4.776343   5.437048  0.007  2.3200  3.261  4.6540   \n",
       "283hmx        67.0   1.860537   1.759908  0.067  1.1805  1.594  1.8375   \n",
       "6pmv8x        67.0   1.589060   0.750829  0.082  1.1380  1.401  1.9555   \n",
       "p3x3wj        67.0   5.100567  14.024209  0.109  1.4525  2.012  3.3635   \n",
       "6fgx6j        67.0   2.861970   3.713779  0.144  1.3555  1.851  2.5745   \n",
       "xvxq7w        67.0   2.823642   1.545386  0.156  1.8930  2.501  3.4350   \n",
       "xx7p4w        67.0   1.976000   1.342354  0.183  1.2590  1.618  2.3500   \n",
       "9c8wwq        67.0   1.659045   1.137401  0.191  0.9655  1.271  2.2265   \n",
       "cxm3q7        67.0  10.715836  43.734768  0.195  1.1645  2.301  3.8920   \n",
       "rm7x3w        67.0   2.215090   3.208668  0.201  1.0005  1.589  2.1895   \n",
       "\n",
       "                 max  \n",
       "participant           \n",
       "p475m7        31.745  \n",
       "283hmx        12.711  \n",
       "6pmv8x         4.247  \n",
       "p3x3wj       100.930  \n",
       "6fgx6j        23.261  \n",
       "xvxq7w         9.717  \n",
       "xx7p4w         7.144  \n",
       "9c8wwq         5.960  \n",
       "cxm3q7       353.096  \n",
       "rm7x3w        25.805  "
      ]
     },
     "execution_count": 10,
     "metadata": {},
     "output_type": "execute_result"
    }
   ],
   "source": [
    "df.groupby('participant').delay.describe().sort_values(by='min').head(10)"
   ]
  }
 ],
 "metadata": {
  "kernelspec": {
   "display_name": "Python 3",
   "language": "python",
   "name": "python3"
  },
  "language_info": {
   "codemirror_mode": {
    "name": "ipython",
    "version": 3
   },
   "file_extension": ".py",
   "mimetype": "text/x-python",
   "name": "python",
   "nbconvert_exporter": "python",
   "pygments_lexer": "ipython3",
   "version": "3.6.4"
  }
 },
 "nbformat": 4,
 "nbformat_minor": 2
}
