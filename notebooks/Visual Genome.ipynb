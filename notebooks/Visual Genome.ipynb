{
 "cells": [
  {
   "cell_type": "code",
   "execution_count": 1,
   "metadata": {},
   "outputs": [],
   "source": [
    "import pandas as pd\n",
    "import numpy as np\n",
    "import json\n",
    "import ujson\n",
    "import toolz\n",
    "import pathlib\n",
    "from IPython.display import Image, HTML"
   ]
  },
  {
   "cell_type": "code",
   "execution_count": 2,
   "metadata": {},
   "outputs": [],
   "source": [
    "vg_base = pathlib.Path('/Data/VisualGenome')\n",
    "image_objects = ujson.load(open(vg_base / 'objects.json'))\n"
   ]
  },
  {
   "cell_type": "code",
   "execution_count": 3,
   "metadata": {},
   "outputs": [],
   "source": [
    "img_by_id = {img['image_id']: img for img in image_objects}"
   ]
  },
  {
   "cell_type": "code",
   "execution_count": 4,
   "metadata": {},
   "outputs": [],
   "source": [
    "image_objects_df = pd.DataFrame(image_objects)"
   ]
  },
  {
   "cell_type": "code",
   "execution_count": 6,
   "metadata": {},
   "outputs": [
    {
     "ename": "ImportError",
     "evalue": "the feather-format library is not installed\nyou can install via conda\nconda install feather-format -c conda-forge\nor via pip\npip install -U feather-format\n",
     "output_type": "error",
     "traceback": [
      "\u001b[0;31m---------------------------------------------------------------------------\u001b[0m",
      "\u001b[0;31mModuleNotFoundError\u001b[0m                       Traceback (most recent call last)",
      "\u001b[0;32m~/anaconda3/envs/py36/lib/python3.6/site-packages/pandas/io/feather_format.py\u001b[0m in \u001b[0;36m_try_import\u001b[0;34m()\u001b[0m\n\u001b[1;32m     13\u001b[0m     \u001b[0;32mtry\u001b[0m\u001b[0;34m:\u001b[0m\u001b[0;34m\u001b[0m\u001b[0m\n\u001b[0;32m---> 14\u001b[0;31m         \u001b[0;32mimport\u001b[0m \u001b[0mfeather\u001b[0m\u001b[0;34m\u001b[0m\u001b[0m\n\u001b[0m\u001b[1;32m     15\u001b[0m     \u001b[0;32mexcept\u001b[0m \u001b[0mImportError\u001b[0m\u001b[0;34m:\u001b[0m\u001b[0;34m\u001b[0m\u001b[0m\n",
      "\u001b[0;31mModuleNotFoundError\u001b[0m: No module named 'feather'",
      "\nDuring handling of the above exception, another exception occurred:\n",
      "\u001b[0;31mImportError\u001b[0m                               Traceback (most recent call last)",
      "\u001b[0;32m<ipython-input-6-55ecff591cc9>\u001b[0m in \u001b[0;36m<module>\u001b[0;34m()\u001b[0m\n\u001b[0;32m----> 1\u001b[0;31m \u001b[0mimage_objects_df\u001b[0m\u001b[0;34m.\u001b[0m\u001b[0mto_feather\u001b[0m\u001b[0;34m(\u001b[0m\u001b[0;34m'visual_genome_objects.feather'\u001b[0m\u001b[0;34m)\u001b[0m\u001b[0;34m\u001b[0m\u001b[0m\n\u001b[0m",
      "\u001b[0;32m~/anaconda3/envs/py36/lib/python3.6/site-packages/pandas/core/frame.py\u001b[0m in \u001b[0;36mto_feather\u001b[0;34m(self, fname)\u001b[0m\n\u001b[1;32m   1623\u001b[0m         \"\"\"\n\u001b[1;32m   1624\u001b[0m         \u001b[0;32mfrom\u001b[0m \u001b[0mpandas\u001b[0m\u001b[0;34m.\u001b[0m\u001b[0mio\u001b[0m\u001b[0;34m.\u001b[0m\u001b[0mfeather_format\u001b[0m \u001b[0;32mimport\u001b[0m \u001b[0mto_feather\u001b[0m\u001b[0;34m\u001b[0m\u001b[0m\n\u001b[0;32m-> 1625\u001b[0;31m         \u001b[0mto_feather\u001b[0m\u001b[0;34m(\u001b[0m\u001b[0mself\u001b[0m\u001b[0;34m,\u001b[0m \u001b[0mfname\u001b[0m\u001b[0;34m)\u001b[0m\u001b[0;34m\u001b[0m\u001b[0m\n\u001b[0m\u001b[1;32m   1626\u001b[0m \u001b[0;34m\u001b[0m\u001b[0m\n\u001b[1;32m   1627\u001b[0m     def to_parquet(self, fname, engine='auto', compression='snappy',\n",
      "\u001b[0;32m~/anaconda3/envs/py36/lib/python3.6/site-packages/pandas/io/feather_format.py\u001b[0m in \u001b[0;36mto_feather\u001b[0;34m(df, path)\u001b[0m\n\u001b[1;32m     49\u001b[0m         \u001b[0;32mraise\u001b[0m \u001b[0mValueError\u001b[0m\u001b[0;34m(\u001b[0m\u001b[0;34m\"feather only support IO with DataFrames\"\u001b[0m\u001b[0;34m)\u001b[0m\u001b[0;34m\u001b[0m\u001b[0m\n\u001b[1;32m     50\u001b[0m \u001b[0;34m\u001b[0m\u001b[0m\n\u001b[0;32m---> 51\u001b[0;31m     \u001b[0mfeather\u001b[0m \u001b[0;34m=\u001b[0m \u001b[0m_try_import\u001b[0m\u001b[0;34m(\u001b[0m\u001b[0;34m)\u001b[0m\u001b[0;34m\u001b[0m\u001b[0m\n\u001b[0m\u001b[1;32m     52\u001b[0m     \u001b[0mvalid_types\u001b[0m \u001b[0;34m=\u001b[0m \u001b[0;34m{\u001b[0m\u001b[0;34m'string'\u001b[0m\u001b[0;34m,\u001b[0m \u001b[0;34m'unicode'\u001b[0m\u001b[0;34m}\u001b[0m\u001b[0;34m\u001b[0m\u001b[0m\n\u001b[1;32m     53\u001b[0m \u001b[0;34m\u001b[0m\u001b[0m\n",
      "\u001b[0;32m~/anaconda3/envs/py36/lib/python3.6/site-packages/pandas/io/feather_format.py\u001b[0m in \u001b[0;36m_try_import\u001b[0;34m()\u001b[0m\n\u001b[1;32m     16\u001b[0m \u001b[0;34m\u001b[0m\u001b[0m\n\u001b[1;32m     17\u001b[0m         \u001b[0;31m# give a nice error message\u001b[0m\u001b[0;34m\u001b[0m\u001b[0;34m\u001b[0m\u001b[0m\n\u001b[0;32m---> 18\u001b[0;31m         raise ImportError(\"the feather-format library is not installed\\n\"\n\u001b[0m\u001b[1;32m     19\u001b[0m                           \u001b[0;34m\"you can install via conda\\n\"\u001b[0m\u001b[0;34m\u001b[0m\u001b[0m\n\u001b[1;32m     20\u001b[0m                           \u001b[0;34m\"conda install feather-format -c conda-forge\\n\"\u001b[0m\u001b[0;34m\u001b[0m\u001b[0m\n",
      "\u001b[0;31mImportError\u001b[0m: the feather-format library is not installed\nyou can install via conda\nconda install feather-format -c conda-forge\nor via pip\npip install -U feather-format\n"
     ]
    }
   ],
   "source": [
    "image_objects_df.to_feather('visual_genome_objects.feather')"
   ]
  },
  {
   "cell_type": "code",
   "execution_count": 4,
   "metadata": {},
   "outputs": [],
   "source": [
    "if False:\n",
    "    def show_images(imgids):\n",
    "        return HTML('\\n'.join('<img src=\"{}\">'.format(img_by_id[imgid]['image_url']) for imgid in imgids))\n",
    "\n",
    "    obj_synsets = json.load(open(vg_base / 'object_synsets.json'))\n",
    "    obj_attributes = json.load(open(vg_base / 'attributes.json'))\n",
    "\n",
    "    attributes_by_img = {att['image_id']: att['attributes'] for att in obj_attributes}\n",
    "\n",
    "    def has_object(imgid, obj_name):\n",
    "        return any(obj_name in '\\n'.join(obj['names']) for obj in attributes_by_img[imgid])\n",
    "\n",
    "    def has_synset(imgid, obj_synset):\n",
    "        return any(obj_synset in obj['synsets'] for obj in attributes_by_img[imgid])\n",
    "\n",
    "    def has_attr(imgid, attr):\n",
    "        return any(attr in obj['attributes'] for obj in attributes_by_img[imgid])\n",
    "\n",
    "    def has_obj_with_attr(imgid, obj_name, attr):\n",
    "        return any(\n",
    "            (obj_name in '\\n'.join(obj['names'])) and (attr in obj.get('attributes', []))\n",
    "            for obj in attributes_by_img[imgid])\n",
    "\n",
    "    def has_synset_with_attr(imgid, obj_synset, attr):\n",
    "        return any(\n",
    "            (obj_synset in obj['synsets']) and (attr in obj.get('attributes', []))\n",
    "            for obj in attributes_by_img[imgid])\n",
    "\n",
    "    def has_obj_without_attr(imgid, obj_name, attr):\n",
    "        return any(\n",
    "            (obj_name in '\\n'.join(obj['names'])) and (attr not in obj.get('attributes', []))\n",
    "            for obj in attributes_by_img[imgid])\n",
    "\n",
    "    def has_synset_without_attr(imgid, obj_synset, attr):\n",
    "        return any(\n",
    "            (obj_synset in obj['synsets']) and (attr not in obj.get('attributes', []))\n",
    "            for obj in attributes_by_img[imgid])\n",
    "\n",
    "    candidates = {\n",
    "        imgid for imgid in attributes_by_img.keys()\n",
    "        if (\n",
    "            (\n",
    "                has_object(imgid, 'pedestrian sign') or\n",
    "                has_object(imgid, 'pedestrian crossing sign') or\n",
    "                has_object(imgid, 'crossing sign') or\n",
    "                has_obj_with_attr(imgid, 'sign', 'yellow')\n",
    "            ) and (\n",
    "                has_obj_without_attr(imgid, 'traffic light', 'red') or\n",
    "                has_synset_without_attr(imgid, 'traffic_light.n.01', 'red')\n",
    "            ))}\n",
    "    len(candidates)\n",
    "\n",
    "\n",
    "    show_images(list(candidates)[:10])\n",
    "    show_images(candidates)\n",
    "\n",
    "    candidates = {\n",
    "        imgid for imgid in attributes_by_img.keys()\n",
    "        if has_obj_with_attr(imgid, \"train\", \"brown\")\n",
    "    }"
   ]
  },
  {
   "cell_type": "code",
   "execution_count": 7,
   "metadata": {},
   "outputs": [],
   "source": [
    "region_descs = ujson.load(open(vg_base / 'region_descriptions.json'))"
   ]
  },
  {
   "cell_type": "code",
   "execution_count": 8,
   "metadata": {},
   "outputs": [
    {
     "data": {
      "text/plain": [
       "dict_keys(['regions', 'id'])"
      ]
     },
     "execution_count": 8,
     "metadata": {},
     "output_type": "execute_result"
    }
   ],
   "source": [
    "region_descs[0].keys()"
   ]
  },
  {
   "cell_type": "code",
   "execution_count": 9,
   "metadata": {},
   "outputs": [],
   "source": [
    "regions_by_img = {r['id']: r['regions'] for r in region_descs}"
   ]
  },
  {
   "cell_type": "code",
   "execution_count": 10,
   "metadata": {},
   "outputs": [],
   "source": [
    "phrases_by_img = {id: {region['phrase'].strip() for region in regions} for id, regions in regions_by_img.items()}"
   ]
  },
  {
   "cell_type": "code",
   "execution_count": 11,
   "metadata": {},
   "outputs": [
    {
     "data": {
      "text/plain": [
       "{'7760 on back of train',\n",
       " 'MARC  on back of train',\n",
       " 'a blue metal pipe',\n",
       " 'a bright green light',\n",
       " 'a bunch of wires and plugs',\n",
       " 'a few telephone posts',\n",
       " 'a red traffic light',\n",
       " 'a small grey outbuilding',\n",
       " 'a small grey shack',\n",
       " 'a small puddle of water',\n",
       " 'a straigh train track',\n",
       " 'a tall electrical pole with powerlines',\n",
       " 'a train in motion',\n",
       " 'a white train with blue and orange stripes',\n",
       " 'a yellow and blue logo sticker',\n",
       " 'blue and orange stripes',\n",
       " 'bright red lights on the back of a train',\n",
       " 'brown train tracks',\n",
       " 'green and red stoplights',\n",
       " 'green dense trees',\n",
       " 'green traffic light on right',\n",
       " 'orange and blue stripes on back',\n",
       " 'red light on the left',\n",
       " 'red light on the right',\n",
       " 'red traffic light on right',\n",
       " 'rough rocky ground',\n",
       " 'some piles of gravel',\n",
       " 'the door is white',\n",
       " 'the light is red',\n",
       " 'the lights are red',\n",
       " 'the nummber 7760 is on the train',\n",
       " 'the photo was taken during the day',\n",
       " 'the pole is white',\n",
       " 'the portable is standing',\n",
       " 'the rail road is brown',\n",
       " 'the sky is clear',\n",
       " 'the sky is dim',\n",
       " 'the stoplight is red',\n",
       " 'the tracks are rusted',\n",
       " 'the train has two windows',\n",
       " 'the train is stopped',\n",
       " 'the tree is green',\n",
       " 'there  are trees on the side',\n",
       " 'there are two bulbs below the train',\n",
       " 'there is gravel between the tracks',\n",
       " 'there is gravel on th eground',\n",
       " 'track on the left',\n",
       " 'track the train is on',\n",
       " 'train car on a track'}"
      ]
     },
     "execution_count": 11,
     "metadata": {},
     "output_type": "execute_result"
    }
   ],
   "source": [
    "phrases_by_img[2408456]"
   ]
  },
  {
   "cell_type": "code",
   "execution_count": 12,
   "metadata": {},
   "outputs": [],
   "source": [
    "question_answers = ujson.load(open(vg_base / 'question_answers.json'))"
   ]
  },
  {
   "cell_type": "code",
   "execution_count": 13,
   "metadata": {},
   "outputs": [],
   "source": [
    "def show_images(imgids, max_width=200):\n",
    "    def img(idx):\n",
    "        img = img_by_id[idx]\n",
    "#         attrs = {\n",
    "#             '<b>{}</b>=<i>{}</i>'.format(', '.join(obj['names']), ', '.join(obj.get('attributes', [])))\n",
    "#             for obj in attributes_by_img[idx]}\n",
    "        attrs = sorted(phrases_by_img[idx])\n",
    "        return '<div style=\"display: inline-block;\">{}<img src=\"{}\" style=\"max-width: {}px\">{}</div>'.format(\n",
    "            idx, img['image_url'], max_width, '; '.join(sorted(attrs)))\n",
    "    return '\\n'.join(img(idx) for idx in imgids)"
   ]
  },
  {
   "cell_type": "code",
   "execution_count": 14,
   "metadata": {},
   "outputs": [
    {
     "data": {
      "text/plain": [
       "108077"
      ]
     },
     "execution_count": 14,
     "metadata": {},
     "output_type": "execute_result"
    }
   ],
   "source": [
    "len(question_answers)"
   ]
  },
  {
   "cell_type": "code",
   "execution_count": 15,
   "metadata": {},
   "outputs": [
    {
     "data": {
      "text/plain": [
       "91"
      ]
     },
     "execution_count": 15,
     "metadata": {},
     "output_type": "execute_result"
    }
   ],
   "source": [
    "len(question_answers[0]['qas'])"
   ]
  },
  {
   "cell_type": "code",
   "execution_count": 16,
   "metadata": {},
   "outputs": [
    {
     "data": {
      "text/plain": [
       "dict_keys(['a_objects', 'question', 'image_id', 'qa_id', 'answer', 'q_objects'])"
      ]
     },
     "execution_count": 16,
     "metadata": {},
     "output_type": "execute_result"
    }
   ],
   "source": [
    "question_answers[0]['qas'][0].keys()"
   ]
  },
  {
   "cell_type": "code",
   "execution_count": 17,
   "metadata": {},
   "outputs": [],
   "source": [
    "question_answers = {qa['id']: qa['qas'] for qa in question_answers if len(qa['qas'])}"
   ]
  },
  {
   "cell_type": "code",
   "execution_count": 18,
   "metadata": {},
   "outputs": [
    {
     "data": {
      "text/plain": [
       "[('How many people are walking on the sidewalk?', 'Two.'),\n",
       " ('Where are the two women walking?', 'On the sidewalk.'),\n",
       " ('When is the photograph taken?', 'Daytime.'),\n",
       " ('What does the sign in the far left say?', '\"Made Frames\".'),\n",
       " ('What color shirt is the woman on the left wearing?', 'White.'),\n",
       " ('What is the color of the face of the clock?', 'Black.'),\n",
       " ('Who is walking faster?', 'The woman in the white shirt.'),\n",
       " ('Why is it bright outside?', 'It is daytime.')]"
      ]
     },
     "execution_count": 18,
     "metadata": {},
     "output_type": "execute_result"
    }
   ],
   "source": [
    "import random\n",
    "img_qa = random.choice(list(question_answers.values()))\n",
    "list(toolz.pluck(['question', 'answer'], img_qa))"
   ]
  },
  {
   "cell_type": "code",
   "execution_count": 19,
   "metadata": {},
   "outputs": [
    {
     "data": {
      "text/plain": [
       "[{'a_objects': [],\n",
       "  'question': 'Why are the lights on?',\n",
       "  'image_id': 12,\n",
       "  'qa_id': 988489,\n",
       "  'answer': 'To see better.',\n",
       "  'q_objects': []},\n",
       " {'a_objects': [],\n",
       "  'question': 'Who us named on the clock face?',\n",
       "  'image_id': 2411253,\n",
       "  'qa_id': 166360,\n",
       "  'answer': 'J. C. Leadbetter.',\n",
       "  'q_objects': []},\n",
       " {'a_objects': [],\n",
       "  'question': 'Why are these scissors in light?',\n",
       "  'image_id': 2408221,\n",
       "  'qa_id': 190623,\n",
       "  'answer': 'To see better.',\n",
       "  'q_objects': []},\n",
       " {'a_objects': [],\n",
       "  'question': 'Why do the players wear cleats?',\n",
       "  'image_id': 2407189,\n",
       "  'qa_id': 1201108,\n",
       "  'answer': 'Better footing.',\n",
       "  'q_objects': []},\n",
       " {'a_objects': [],\n",
       "  'question': 'Why is there a light around the mirror?',\n",
       "  'image_id': 2407180,\n",
       "  'qa_id': 198948,\n",
       "  'answer': 'For better visibility.',\n",
       "  'q_objects': []},\n",
       " {'a_objects': [],\n",
       "  'question': 'Why is the dog sleeping in the bed curled up in a ball?',\n",
       "  'image_id': 2405369,\n",
       "  'qa_id': 1158833,\n",
       "  'answer': 'To sleep better.',\n",
       "  'q_objects': []},\n",
       " {'a_objects': [],\n",
       "  'question': 'Why does the giraffe need to spread the legs?',\n",
       "  'image_id': 2404233,\n",
       "  'qa_id': 1299656,\n",
       "  'answer': 'To reach grass better.',\n",
       "  'q_objects': []},\n",
       " {'a_objects': [],\n",
       "  'question': 'Why is the frosting on the cake?',\n",
       "  'image_id': 2400662,\n",
       "  'qa_id': 1226887,\n",
       "  'answer': 'To make it taste better.',\n",
       "  'q_objects': []},\n",
       " {'a_objects': [],\n",
       "  'question': 'What does the hanging sign say?',\n",
       "  'image_id': 2400449,\n",
       "  'qa_id': 1222023,\n",
       "  'answer': \"You'll feel better.\",\n",
       "  'q_objects': []},\n",
       " {'a_objects': [],\n",
       "  'question': 'Why is the man wearing glasses?',\n",
       "  'image_id': 2399713,\n",
       "  'qa_id': 1531540,\n",
       "  'answer': 'To see better.',\n",
       "  'q_objects': []},\n",
       " {'a_objects': [],\n",
       "  'question': 'Why does the judge sit so high?',\n",
       "  'image_id': 2398919,\n",
       "  'qa_id': 348492,\n",
       "  'answer': 'To see better.',\n",
       "  'q_objects': []},\n",
       " {'a_objects': [],\n",
       "  'question': 'Why are the hot dogs cut?',\n",
       "  'image_id': 2397868,\n",
       "  'qa_id': 1522232,\n",
       "  'answer': 'Better cooking.',\n",
       "  'q_objects': []},\n",
       " {'a_objects': [],\n",
       "  'question': 'Why is the man wearing gloves?',\n",
       "  'image_id': 2396865,\n",
       "  'qa_id': 1517648,\n",
       "  'answer': 'To have better grasp of the baseball bat.',\n",
       "  'q_objects': []},\n",
       " {'a_objects': [],\n",
       "  'question': 'Why is she wearing glasses?',\n",
       "  'image_id': 2396845,\n",
       "  'qa_id': 797940,\n",
       "  'answer': 'To see better.',\n",
       "  'q_objects': []},\n",
       " {'a_objects': [],\n",
       "  'question': 'Why is the motorcycle front wheel smaller?',\n",
       "  'image_id': 2396120,\n",
       "  'qa_id': 1514409,\n",
       "  'answer': 'To better handle the motorcycle while operating it.',\n",
       "  'q_objects': []},\n",
       " {'a_objects': [],\n",
       "  'question': 'Why is the boy looking down?',\n",
       "  'image_id': 2393625,\n",
       "  'qa_id': 1501170,\n",
       "  'answer': 'To better control the skateboard.',\n",
       "  'q_objects': []},\n",
       " {'a_objects': [],\n",
       "  'question': 'Why is there a mirror?',\n",
       "  'image_id': 2392285,\n",
       "  'qa_id': 801587,\n",
       "  'answer': 'To see better.',\n",
       "  'q_objects': []},\n",
       " {'a_objects': [],\n",
       "  'question': 'What is the raised diamond-shaped pattern on the gloves used for?',\n",
       "  'image_id': 2392233,\n",
       "  'qa_id': 1367170,\n",
       "  'answer': 'To have a better grip.',\n",
       "  'q_objects': []},\n",
       " {'a_objects': [],\n",
       "  'question': \"Why is the man's finger in his ear?\",\n",
       "  'image_id': 2392131,\n",
       "  'qa_id': 673733,\n",
       "  'answer': 'To hear better on phone.',\n",
       "  'q_objects': []},\n",
       " {'a_objects': [],\n",
       "  'question': 'Why does the girl wear glasses?',\n",
       "  'image_id': 2389862,\n",
       "  'qa_id': 227763,\n",
       "  'answer': 'To see better.',\n",
       "  'q_objects': []},\n",
       " {'a_objects': [],\n",
       "  'question': 'Why is the boy wearing glasses?',\n",
       "  'image_id': 2389388,\n",
       "  'qa_id': 1542818,\n",
       "  'answer': 'To see better.',\n",
       "  'q_objects': []},\n",
       " {'a_objects': [],\n",
       "  'question': 'Why is this photo a close-up?',\n",
       "  'image_id': 2388234,\n",
       "  'qa_id': 484991,\n",
       "  'answer': 'Better detail.',\n",
       "  'q_objects': []},\n",
       " {'a_objects': [],\n",
       "  'question': 'Why is there an antenna?',\n",
       "  'image_id': 2387016,\n",
       "  'qa_id': 421927,\n",
       "  'answer': 'Better reception.',\n",
       "  'q_objects': []},\n",
       " {'a_objects': [],\n",
       "  'question': 'Why are his ears up?',\n",
       "  'image_id': 2384601,\n",
       "  'qa_id': 294155,\n",
       "  'answer': 'To hear better.',\n",
       "  'q_objects': []},\n",
       " {'a_objects': [],\n",
       "  'question': 'Why is the wood so dark?',\n",
       "  'image_id': 2377344,\n",
       "  'qa_id': 1983558,\n",
       "  'answer': 'Better for sleep.',\n",
       "  'q_objects': []},\n",
       " {'a_objects': [],\n",
       "  'question': 'Why is the man wearing glasses?',\n",
       "  'image_id': 2376387,\n",
       "  'qa_id': 1965652,\n",
       "  'answer': 'To see better.',\n",
       "  'q_objects': []},\n",
       " {'a_objects': [],\n",
       "  'question': 'Why are two men wearing glasses?',\n",
       "  'image_id': 2376271,\n",
       "  'qa_id': 1963104,\n",
       "  'answer': 'To see better.',\n",
       "  'q_objects': []},\n",
       " {'a_objects': [],\n",
       "  'question': 'Why does the batter wear gloves?',\n",
       "  'image_id': 2374752,\n",
       "  'qa_id': 1933010,\n",
       "  'answer': 'Better grip on the bat.',\n",
       "  'q_objects': []},\n",
       " {'a_objects': [],\n",
       "  'question': 'Why does the woman wear eyeglasses?',\n",
       "  'image_id': 2374172,\n",
       "  'qa_id': 1920987,\n",
       "  'answer': 'To better her vision.',\n",
       "  'q_objects': []},\n",
       " {'a_objects': [],\n",
       "  'question': 'Why are the smallest children in the front?',\n",
       "  'image_id': 2374171,\n",
       "  'qa_id': 688100,\n",
       "  'answer': 'So they can be seen better.',\n",
       "  'q_objects': []},\n",
       " {'a_objects': [],\n",
       "  'question': 'Why is the catcher crouched over on the field?',\n",
       "  'image_id': 2373871,\n",
       "  'qa_id': 1915052,\n",
       "  'answer': 'See the ball better.',\n",
       "  'q_objects': []},\n",
       " {'a_objects': [],\n",
       "  'question': 'Why is the man in the suit wearing glasses?',\n",
       "  'image_id': 2372932,\n",
       "  'qa_id': 1895700,\n",
       "  'answer': 'So he can see better.',\n",
       "  'q_objects': []},\n",
       " {'a_objects': [],\n",
       "  'question': 'Why is the person holding the hair?',\n",
       "  'image_id': 2372904,\n",
       "  'qa_id': 1895059,\n",
       "  'answer': 'To better cut it.',\n",
       "  'q_objects': []},\n",
       " {'a_objects': [],\n",
       "  'question': 'Why is the woman looking at the man?',\n",
       "  'image_id': 2372894,\n",
       "  'qa_id': 497268,\n",
       "  'answer': 'To help him look better.',\n",
       "  'q_objects': []},\n",
       " {'a_objects': [],\n",
       "  'question': 'Why is the woman wearing glasses?',\n",
       "  'image_id': 2372786,\n",
       "  'qa_id': 1892421,\n",
       "  'answer': 'To see better.',\n",
       "  'q_objects': []},\n",
       " {'a_objects': [],\n",
       "  'question': 'Why is ther a point at the front of the plane?',\n",
       "  'image_id': 2372486,\n",
       "  'qa_id': 1885861,\n",
       "  'answer': 'To get better wind resistence when in the air.',\n",
       "  'q_objects': []},\n",
       " {'a_objects': [],\n",
       "  'question': 'Why is the wall behind devoid of decoration?',\n",
       "  'image_id': 2372410,\n",
       "  'qa_id': 1884088,\n",
       "  'answer': 'To better focus on the glassware.',\n",
       "  'q_objects': []},\n",
       " {'a_objects': [],\n",
       "  'question': 'Why is the man wearing glasses?',\n",
       "  'image_id': 2371267,\n",
       "  'qa_id': 1859950,\n",
       "  'answer': 'To see better.',\n",
       "  'q_objects': []},\n",
       " {'a_objects': [],\n",
       "  'question': 'Why is the woman holding up the child?',\n",
       "  'image_id': 2371132,\n",
       "  'qa_id': 562643,\n",
       "  'answer': 'For a better view.',\n",
       "  'q_objects': []},\n",
       " {'a_objects': [],\n",
       "  'question': 'Why is the man wearing glasses?',\n",
       "  'image_id': 2371070,\n",
       "  'qa_id': 1855811,\n",
       "  'answer': 'To see better.',\n",
       "  'q_objects': []},\n",
       " {'a_objects': [],\n",
       "  'question': 'Why is the boy practicing tricks on the skateboard?',\n",
       "  'image_id': 2369775,\n",
       "  'qa_id': 1830056,\n",
       "  'answer': 'In order to better his foot placement on the skateboard.',\n",
       "  'q_objects': []},\n",
       " {'a_objects': [],\n",
       "  'question': 'Why are there two wheels under the head of the aircraft?',\n",
       "  'image_id': 2369512,\n",
       "  'qa_id': 1824790,\n",
       "  'answer': 'To better control landings on runways.',\n",
       "  'q_objects': []},\n",
       " {'a_objects': [],\n",
       "  'question': 'What kind of condition is the teddy bear in?',\n",
       "  'image_id': 2369340,\n",
       "  'qa_id': 1821275,\n",
       "  'answer': 'Like it has seen better days.',\n",
       "  'q_objects': []},\n",
       " {'a_objects': [],\n",
       "  'question': 'Why is the chair tall?',\n",
       "  'image_id': 2369086,\n",
       "  'qa_id': 1816055,\n",
       "  'answer': 'See better.',\n",
       "  'q_objects': []},\n",
       " {'a_objects': [],\n",
       "  'question': 'Why is the umpire bending down?',\n",
       "  'image_id': 2368156,\n",
       "  'qa_id': 1796333,\n",
       "  'answer': 'To get a better view.',\n",
       "  'q_objects': []},\n",
       " {'a_objects': [],\n",
       "  'question': 'Why is the cat on the table?',\n",
       "  'image_id': 2367774,\n",
       "  'qa_id': 501361,\n",
       "  'answer': 'To see better.',\n",
       "  'q_objects': []},\n",
       " {'a_objects': [],\n",
       "  'question': 'Why does the player have bent knees?',\n",
       "  'image_id': 2366891,\n",
       "  'qa_id': 1770657,\n",
       "  'answer': 'To better strike the ball.',\n",
       "  'q_objects': []},\n",
       " {'a_objects': [],\n",
       "  'question': 'Why did the players wear shoes with cleats?',\n",
       "  'image_id': 2364622,\n",
       "  'qa_id': 247957,\n",
       "  'answer': 'So they could get better traction.',\n",
       "  'q_objects': []},\n",
       " {'a_objects': [],\n",
       "  'question': 'Why are the pipes painted yellow?',\n",
       "  'image_id': 2364284,\n",
       "  'qa_id': 1718821,\n",
       "  'answer': 'To be noticed better.',\n",
       "  'q_objects': []},\n",
       " {'a_objects': [],\n",
       "  'question': 'Why is the man wearing headphones?',\n",
       "  'image_id': 2364016,\n",
       "  'qa_id': 440180,\n",
       "  'answer': 'To hear the music better.',\n",
       "  'q_objects': []},\n",
       " {'a_objects': [],\n",
       "  'question': \"Why is the woman's arm up?\",\n",
       "  'image_id': 2363962,\n",
       "  'qa_id': 1712160,\n",
       "  'answer': 'Get a better view.',\n",
       "  'q_objects': []},\n",
       " {'a_objects': [],\n",
       "  'question': 'Why is the players holding a big racket?',\n",
       "  'image_id': 2362793,\n",
       "  'qa_id': 1688605,\n",
       "  'answer': 'Hit the ball better.',\n",
       "  'q_objects': []},\n",
       " {'a_objects': [],\n",
       "  'question': 'How would you describe these bananas?',\n",
       "  'image_id': 2362468,\n",
       "  'qa_id': 1681857,\n",
       "  'answer': 'Like they have seen better days.',\n",
       "  'q_objects': []},\n",
       " {'a_objects': [],\n",
       "  'question': 'Why is man wearing glasses?',\n",
       "  'image_id': 2362466,\n",
       "  'qa_id': 1681815,\n",
       "  'answer': 'Better vision.',\n",
       "  'q_objects': []},\n",
       " {'a_objects': [],\n",
       "  'question': 'What are the words at the bottom of the picture?',\n",
       "  'image_id': 2362366,\n",
       "  'qa_id': 1679818,\n",
       "  'answer': '...because of a better bench.',\n",
       "  'q_objects': []},\n",
       " {'a_objects': [],\n",
       "  'question': \"Why is the woman's hand on the customer forehead?\",\n",
       "  'image_id': 2361219,\n",
       "  'qa_id': 1657785,\n",
       "  'answer': 'Better grip to do eyebrows.',\n",
       "  'q_objects': []},\n",
       " {'a_objects': [],\n",
       "  'question': 'Why is the player gripping a tennis racket with both hands in the photo?',\n",
       "  'image_id': 2361007,\n",
       "  'qa_id': 1653636,\n",
       "  'answer': 'Better hit the ball.',\n",
       "  'q_objects': []},\n",
       " {'a_objects': [],\n",
       "  'question': 'Why are the boys with legs crossed in first row in the photo?',\n",
       "  'image_id': 2360966,\n",
       "  'qa_id': 1652699,\n",
       "  'answer': 'Better sitting position.',\n",
       "  'q_objects': []},\n",
       " {'a_objects': [],\n",
       "  'question': 'Why did the woman jump?',\n",
       "  'image_id': 2359646,\n",
       "  'qa_id': 763711,\n",
       "  'answer': 'To hit the ball better.',\n",
       "  'q_objects': []},\n",
       " {'a_objects': [],\n",
       "  'question': 'Why is the player wearing a glove?',\n",
       "  'image_id': 2358907,\n",
       "  'qa_id': 1611159,\n",
       "  'answer': 'For better grip on bat.',\n",
       "  'q_objects': []},\n",
       " {'a_objects': [],\n",
       "  'question': 'Why is the man wearing glasses?',\n",
       "  'image_id': 2343715,\n",
       "  'qa_id': 520599,\n",
       "  'answer': 'To see better.',\n",
       "  'q_objects': []},\n",
       " {'a_objects': [],\n",
       "  'question': 'Why is he crouching on the skateboard?',\n",
       "  'image_id': 2341782,\n",
       "  'qa_id': 266163,\n",
       "  'answer': 'For better balance.',\n",
       "  'q_objects': []},\n",
       " {'a_objects': [],\n",
       "  'question': 'Why is the man wearing glasses?',\n",
       "  'image_id': 2339144,\n",
       "  'qa_id': 844109,\n",
       "  'answer': 'To be able to see better.',\n",
       "  'q_objects': []},\n",
       " {'a_objects': [],\n",
       "  'question': 'Why is he wearing glasses?',\n",
       "  'image_id': 2323760,\n",
       "  'qa_id': 866271,\n",
       "  'answer': 'To see better.',\n",
       "  'q_objects': []},\n",
       " {'a_objects': [],\n",
       "  'question': 'Why is the woman pressing her hand to her ear?',\n",
       "  'image_id': 2318816,\n",
       "  'qa_id': 905822,\n",
       "  'answer': 'To hear better.',\n",
       "  'q_objects': []},\n",
       " {'a_objects': [],\n",
       "  'question': 'Why is she wearing eyeglasses?',\n",
       "  'image_id': 2317421,\n",
       "  'qa_id': 916982,\n",
       "  'answer': 'To see better.',\n",
       "  'q_objects': []},\n",
       " {'a_objects': [],\n",
       "  'question': 'Why is the man on the left covering the meter?',\n",
       "  'image_id': 2414114,\n",
       "  'qa_id': 1023618,\n",
       "  'answer': 'To see better.',\n",
       "  'q_objects': []},\n",
       " {'a_objects': [],\n",
       "  'question': 'Why is she looking at the ball?',\n",
       "  'image_id': 2413109,\n",
       "  'qa_id': 151519,\n",
       "  'answer': 'To hit it better.',\n",
       "  'q_objects': []},\n",
       " {'a_objects': [],\n",
       "  'question': 'Why are the lights on?',\n",
       "  'image_id': 2412488,\n",
       "  'qa_id': 156484,\n",
       "  'answer': 'For better visibility.',\n",
       "  'q_objects': []},\n",
       " {'a_objects': [],\n",
       "  'question': 'Why are the people wearing cleats?',\n",
       "  'image_id': 2411631,\n",
       "  'qa_id': 1333685,\n",
       "  'answer': 'To better grip the ground when running.',\n",
       "  'q_objects': []}]"
      ]
     },
     "execution_count": 19,
     "metadata": {},
     "output_type": "execute_result"
    }
   ],
   "source": [
    "[qa for qa in toolz.concat(question_answers.values()) if 'better' in qa['answer'].lower()]"
   ]
  },
  {
   "cell_type": "code",
   "execution_count": 20,
   "metadata": {},
   "outputs": [
    {
     "data": {
      "text/plain": [
       "38672"
      ]
     },
     "execution_count": 20,
     "metadata": {},
     "output_type": "execute_result"
    }
   ],
   "source": [
    "whys = [qa for qa in toolz.concat(question_answers.values()) if qa['question'].lower().startswith('why ')]\n",
    "len(whys)"
   ]
  },
  {
   "cell_type": "code",
   "execution_count": 19,
   "metadata": {},
   "outputs": [
    {
     "data": {
      "text/plain": [
       "[{'a_objects': [],\n",
       "  'question': 'Why is there a toilet sitting on the grass?',\n",
       "  'image_id': 2360916,\n",
       "  'qa_id': 1651536,\n",
       "  'answer': 'Remodeling.',\n",
       "  'q_objects': []},\n",
       " {'a_objects': [],\n",
       "  'question': 'Why does the clock have a knob and ring on top?',\n",
       "  'image_id': 2377631,\n",
       "  'qa_id': 1988012,\n",
       "  'answer': 'To make it resemble a pocket watch.',\n",
       "  'q_objects': []},\n",
       " {'a_objects': [],\n",
       "  'question': 'Why are there cowboys?',\n",
       "  'image_id': 2327245,\n",
       "  'qa_id': 853622,\n",
       "  'answer': 'No cowboys.',\n",
       "  'q_objects': []},\n",
       " {'a_objects': [],\n",
       "  'question': 'Why was the picture taken?',\n",
       "  'image_id': 2330184,\n",
       "  'qa_id': 851274,\n",
       "  'answer': 'To capture the animals.',\n",
       "  'q_objects': []},\n",
       " {'a_objects': [],\n",
       "  'question': 'Why is the man squatting?',\n",
       "  'image_id': 2365280,\n",
       "  'qa_id': 1738567,\n",
       "  'answer': 'To feed cats.',\n",
       "  'q_objects': []},\n",
       " {'a_objects': [],\n",
       "  'question': 'Why are both people wearing glasses?',\n",
       "  'image_id': 2349942,\n",
       "  'qa_id': 259666,\n",
       "  'answer': 'So they can see properly.',\n",
       "  'q_objects': []},\n",
       " {'a_objects': [],\n",
       "  'question': 'Why is his hand glowing?',\n",
       "  'image_id': 2395953,\n",
       "  'qa_id': 542812,\n",
       "  'answer': 'He has a cell phone in hand.',\n",
       "  'q_objects': []},\n",
       " {'a_objects': [],\n",
       "  'question': 'Why does the man holding ski poles?',\n",
       "  'image_id': 2411934,\n",
       "  'qa_id': 1113909,\n",
       "  'answer': 'To ski.',\n",
       "  'q_objects': []},\n",
       " {'a_objects': [],\n",
       "  'question': 'Why is the man wearing sweatbands on the wrists?',\n",
       "  'image_id': 2393604,\n",
       "  'qa_id': 1565328,\n",
       "  'answer': 'To wipe his face with.',\n",
       "  'q_objects': []},\n",
       " {'a_objects': [],\n",
       "  'question': 'Why is the plane in the air?',\n",
       "  'image_id': 2414463,\n",
       "  'qa_id': 140689,\n",
       "  'answer': 'It is flying.',\n",
       "  'q_objects': []}]"
      ]
     },
     "execution_count": 19,
     "metadata": {},
     "output_type": "execute_result"
    }
   ],
   "source": [
    "random.sample(whys, 10)"
   ]
  },
  {
   "cell_type": "code",
   "execution_count": 21,
   "metadata": {},
   "outputs": [
    {
     "data": {
      "text/html": [
       "<div style=\"display: inline-block;\">2370308<img src=\"http://crowdfile.blob.core.chinacloudapi.cn/4615/2370308.jpg\" style=\"max-width: 200px\">A dark small handbag; A spotted open umbrella; The black man on the right; The building with two white windows; The gray background  building; The man wearing a leather jacket; The old lady wearing pants; The partially hidden person on the left; The senior old woman; The woman carrying an umbrella; a black backpack on a man's back; a man wearing a leather jacket; a woman wearing a black jacket; a woman wearing white pants; a woman's black leather bag; an animal print umbrella held in the air; buttons on the jacket; cloudy grey skies over the city; edge of a coat; edge of a trouser; edge of an umbrella; grey concrete on the ground; man has short hair; man is carrying a bag; man is wearing a jacket; man wears dark pants; man wears leather jacket; part of a floor; part of a trouser; purse around woman's arm; sidewalk behind people is wet; sidewalk is wet; the sun shining off of the wet ground; umbrella has a leopard print; woman carrying her purse on her arm; woman has dark coat; woman has dark purse; woman has light hair; woman has light slacks; woman holds spotted umbrella; woman is holding the umbrella; woman is wearing earrings; woman is wearing glasses; woman is wearing rings; wooden doors of a building</div>"
      ],
      "text/plain": [
       "<IPython.core.display.HTML object>"
      ]
     },
     "execution_count": 21,
     "metadata": {},
     "output_type": "execute_result"
    }
   ],
   "source": [
    "HTML(show_images([2370308]))"
   ]
  },
  {
   "cell_type": "code",
   "execution_count": 22,
   "metadata": {},
   "outputs": [
    {
     "data": {
      "text/html": [
       "<div style=\"display: inline-block;\">2327000<img src=\"http://crowdfile.blob.core.chinacloudapi.cn/4615/2327000.jpg\" style=\"max-width: 200px\">A black clock with gold on it.; A blonde woman walking in jeans holding flowers.; A brown balcony under a clock.; A dark haired woman in grey walking.; A large black frame with white paper inside that has writing on it.; A large concrete archway on a building.; A long white sign that says Made Frames.; Black bell to the left of a clock.; Blue F in Frames.; The word Made.; a woman is walking; advertisement on store front; balcony beneath clock; clock face is black; clock on front of building; clock on the wall; flag on the roof; mail slot on store door; marquee on front of building; numbers and hands are gold; people on side walk; sign is white and blue; sign on the building; the sign is black; two bells on either side of clock; windows on the wall; woman carrying blue pocketbook; woman walking on sidewalk pointing; woman wearing long gray coat</div>"
      ],
      "text/plain": [
       "<IPython.core.display.HTML object>"
      ]
     },
     "execution_count": 22,
     "metadata": {},
     "output_type": "execute_result"
    }
   ],
   "source": [
    "HTML(show_images([img_qa[0]['image_id']]))"
   ]
  },
  {
   "cell_type": "markdown",
   "metadata": {},
   "source": [
    "So the region descriptions contain more information than the objects/attributes."
   ]
  },
  {
   "cell_type": "markdown",
   "metadata": {},
   "source": [
    "# Image-Object Questions"
   ]
  },
  {
   "cell_type": "code",
   "execution_count": 23,
   "metadata": {},
   "outputs": [],
   "source": [
    "from sklearn.feature_extraction.text import TfidfVectorizer"
   ]
  },
  {
   "cell_type": "code",
   "execution_count": 24,
   "metadata": {},
   "outputs": [],
   "source": [
    "object_names = [[name for obj in img['objects'] for name in obj['names']] for img in image_objects]"
   ]
  },
  {
   "cell_type": "code",
   "execution_count": 25,
   "metadata": {},
   "outputs": [
    {
     "data": {
      "text/plain": [
       "['couch',\n",
       " 'floor',\n",
       " 'curtains',\n",
       " 'curtains',\n",
       " 'lamp',\n",
       " 'cushion',\n",
       " 'shade',\n",
       " 'cord',\n",
       " 'foot',\n",
       " 'foot']"
      ]
     },
     "execution_count": 25,
     "metadata": {},
     "output_type": "execute_result"
    }
   ],
   "source": [
    "object_names[500]"
   ]
  },
  {
   "cell_type": "code",
   "execution_count": null,
   "metadata": {},
   "outputs": [],
   "source": []
  },
  {
   "cell_type": "code",
   "execution_count": 26,
   "metadata": {},
   "outputs": [],
   "source": [
    "object_vectorizer = TfidfVectorizer(analyzer=lambda x: x)\n",
    "object_vec_matrix = object_vectorizer.fit_transform(object_names)"
   ]
  },
  {
   "cell_type": "code",
   "execution_count": 27,
   "metadata": {},
   "outputs": [
    {
     "data": {
      "text/plain": [
       "<108077x82827 sparse matrix of type '<class 'numpy.float64'>'\n",
       "\twith 1929060 stored elements in Compressed Sparse Row format>"
      ]
     },
     "execution_count": 27,
     "metadata": {},
     "output_type": "execute_result"
    }
   ],
   "source": [
    "object_vec_matrix"
   ]
  },
  {
   "cell_type": "code",
   "execution_count": 28,
   "metadata": {},
   "outputs": [
    {
     "data": {
      "text/plain": [
       "62957"
      ]
     },
     "execution_count": 28,
     "metadata": {},
     "output_type": "execute_result"
    }
   ],
   "source": [
    "object_vectorizer.vocabulary_['shower']"
   ]
  },
  {
   "cell_type": "code",
   "execution_count": 29,
   "metadata": {},
   "outputs": [],
   "source": [
    "id2objname = object_vectorizer.get_feature_names()"
   ]
  },
  {
   "cell_type": "code",
   "execution_count": 30,
   "metadata": {},
   "outputs": [],
   "source": [
    "from sklearn.metrics.pairwise import pairwise_distances_argmin"
   ]
  },
  {
   "cell_type": "code",
   "execution_count": 31,
   "metadata": {},
   "outputs": [],
   "source": [
    "#pairwise_distances_argmin()"
   ]
  },
  {
   "cell_type": "code",
   "execution_count": 32,
   "metadata": {},
   "outputs": [
    {
     "data": {
      "text/plain": [
       "['floor',\n",
       " 'mirror',\n",
       " 'faucet',\n",
       " 'sink',\n",
       " 'towel',\n",
       " 'toilet',\n",
       " 'wall',\n",
       " 'bathroom',\n",
       " 'tile',\n",
       " 'shower']"
      ]
     },
     "execution_count": 32,
     "metadata": {},
     "output_type": "execute_result"
    }
   ],
   "source": [
    "sims = object_vec_matrix.T.dot(object_vec_matrix[:,object_vectorizer.vocabulary_['shower']]).A.ravel()\n",
    "[id2objname[x] for x in np.argsort(sims)[-10:]]"
   ]
  },
  {
   "cell_type": "code",
   "execution_count": 33,
   "metadata": {},
   "outputs": [
    {
     "data": {
      "text/plain": [
       "['string',\n",
       " 'shirt',\n",
       " 'clouds',\n",
       " 'kites',\n",
       " 'people',\n",
       " 'beach',\n",
       " 'man',\n",
       " 'person',\n",
       " 'sky',\n",
       " 'kite']"
      ]
     },
     "execution_count": 33,
     "metadata": {},
     "output_type": "execute_result"
    }
   ],
   "source": [
    "sims = object_vec_matrix.T.dot(object_vec_matrix[:,object_vectorizer.vocabulary_['kite']]).A.ravel()\n",
    "[id2objname[x] for x in np.argsort(sims)[-10:]]"
   ]
  },
  {
   "cell_type": "code",
   "execution_count": 34,
   "metadata": {},
   "outputs": [
    {
     "data": {
      "text/plain": [
       "['window',\n",
       " 'laptop',\n",
       " 'wall',\n",
       " 'mouse',\n",
       " 'keyboard',\n",
       " 'chair',\n",
       " 'computer',\n",
       " 'monitor',\n",
       " 'desk',\n",
       " 'office']"
      ]
     },
     "execution_count": 34,
     "metadata": {},
     "output_type": "execute_result"
    }
   ],
   "source": [
    "sims = object_vec_matrix.T.dot(object_vec_matrix[:,object_vectorizer.vocabulary_['office']]).A.ravel()\n",
    "[id2objname[x] for x in np.argsort(sims)[-10:]]"
   ]
  },
  {
   "cell_type": "code",
   "execution_count": 35,
   "metadata": {},
   "outputs": [
    {
     "data": {
      "text/plain": [
       "['tree',\n",
       " 'tire',\n",
       " 'street',\n",
       " 'light',\n",
       " 'road',\n",
       " 'car',\n",
       " 'building',\n",
       " 'sign',\n",
       " 'window',\n",
       " 'bus']"
      ]
     },
     "execution_count": 35,
     "metadata": {},
     "output_type": "execute_result"
    }
   ],
   "source": [
    "sims = object_vec_matrix.T.dot(object_vec_matrix[:,object_vectorizer.vocabulary_['bus']]).A.ravel()\n",
    "[id2objname[x] for x in np.argsort(sims)[-10:]]"
   ]
  },
  {
   "cell_type": "markdown",
   "metadata": {},
   "source": [
    "Ok great, I can generate \"is there a \\_\" questions."
   ]
  },
  {
   "cell_type": "markdown",
   "metadata": {},
   "source": [
    "How about more general questions?"
   ]
  },
  {
   "cell_type": "code",
   "execution_count": 36,
   "metadata": {},
   "outputs": [],
   "source": [
    "from collections import Counter"
   ]
  },
  {
   "cell_type": "code",
   "execution_count": 37,
   "metadata": {},
   "outputs": [
    {
     "data": {
      "text/plain": [
       "[('Where is the kite?', 397),\n",
       " ('What color is the kite?', 265),\n",
       " ('Where are the kites?', 223),\n",
       " ('How many kites are there?', 182),\n",
       " ('Who is flying the kite?', 164),\n",
       " ('Who is holding the kite?', 80),\n",
       " ('Who is flying a kite?', 63),\n",
       " ('How many kites are in the sky?', 59),\n",
       " ('How many kites?', 52),\n",
       " ('What is attached to the kite?', 41),\n",
       " ('How many kites are shown?', 37),\n",
       " ('What shape is the kite?', 37),\n",
       " ('What color are the kites?', 30),\n",
       " ('Who is flying the kites?', 30),\n",
       " ('How many kites are in the air?', 29),\n",
       " ('Where are the kites flying?', 27),\n",
       " ('How many kites are flying?', 25),\n",
       " ('What is on the kite?', 23),\n",
       " ('How many kites are in the photo?', 21),\n",
       " ('Where is the kite flying?', 21)]"
      ]
     },
     "execution_count": 37,
     "metadata": {},
     "output_type": "execute_result"
    }
   ],
   "source": [
    "qs = [qa for qa in toolz.concat(question_answers.values()) if 'kite' in qa['question'].lower()]\n",
    "Counter(toolz.pluck('question', qs)).most_common(20)"
   ]
  },
  {
   "cell_type": "code",
   "execution_count": 38,
   "metadata": {},
   "outputs": [
    {
     "data": {
      "text/plain": [
       "[('What color is the bus?', 1102),\n",
       " ('Where is the bus?', 823),\n",
       " ('How many buses are there?', 381),\n",
       " ('What is behind the bus?', 202),\n",
       " ('Where are the bushes?', 177),\n",
       " ('What color are the bushes?', 157),\n",
       " ('Where is the bus parked?', 143),\n",
       " ('What color are the buses?', 126),\n",
       " ('Who is driving the bus?', 123),\n",
       " ('Where is the bus going?', 115),\n",
       " ('What is the bus doing?', 113),\n",
       " ('What is on the bus?', 111),\n",
       " ('What kind of bus is this?', 104),\n",
       " ('What is on the side of the bus?', 100),\n",
       " ('How many buses?', 98),\n",
       " ('Where are the buses?', 89),\n",
       " ('What number is on the bus?', 89),\n",
       " ('How many buses are in the picture?', 85),\n",
       " ('How many buses are shown?', 83),\n",
       " ('What type of bus is this?', 79)]"
      ]
     },
     "execution_count": 38,
     "metadata": {},
     "output_type": "execute_result"
    }
   ],
   "source": [
    "qs = [qa for qa in toolz.concat(question_answers.values()) if 'bus' in qa['question'].lower()]\n",
    "Counter(toolz.pluck('question', qs)).most_common(20)"
   ]
  },
  {
   "cell_type": "code",
   "execution_count": 39,
   "metadata": {},
   "outputs": [
    {
     "data": {
      "text/plain": [
       "[('What is on the street?', 395),\n",
       " ('What color is the street?', 371),\n",
       " ('What is the street made of?', 196),\n",
       " ('What color is the street sign?', 161),\n",
       " ('What color are the street signs?', 113),\n",
       " ('Where is the street sign?', 98),\n",
       " ('What is the name of the street?', 93),\n",
       " ('What is in the street?', 92),\n",
       " ('What is parked on the street?', 87),\n",
       " ('What is across the street?', 85),\n",
       " ('What does the street sign say?', 76),\n",
       " ('Where is the street light?', 73),\n",
       " ('How many street signs are there?', 71),\n",
       " ('What color are the lines on the street?', 70),\n",
       " ('What is painted on the street?', 67),\n",
       " ('Where are the street signs?', 65),\n",
       " ('Where are the street lights?', 55),\n",
       " ('What color is the street light?', 53),\n",
       " ('What street is this?', 51),\n",
       " ('Who is crossing the street?', 50)]"
      ]
     },
     "execution_count": 39,
     "metadata": {},
     "output_type": "execute_result"
    }
   ],
   "source": [
    "qs = [qa for qa in toolz.concat(question_answers.values()) if 'street' in qa['question'].lower()]\n",
    "Counter(toolz.pluck('question', qs)).most_common(20)"
   ]
  },
  {
   "cell_type": "markdown",
   "metadata": {},
   "source": [
    "So thereare some questions that don't make sense, but surprisingly many seem like they will."
   ]
  },
  {
   "cell_type": "markdown",
   "metadata": {},
   "source": [
    "## Phrase Suggestions"
   ]
  },
  {
   "cell_type": "code",
   "execution_count": 41,
   "metadata": {},
   "outputs": [
    {
     "data": {
      "text/html": [
       "<div style=\"display: inline-block;\">2399674<img src=\"http://crowdfile.blob.core.chinacloudapi.cn/4615/2399674.jpg\" style=\"max-width: 200px\">The grass is green.; a black bag hanging from the wheelchair; a black bag is hanging from the chair; a grassy field; a gray rope on the back of the wheelchair; a man in a wheel chair; a man in a wheelchair; a power cube is tied to the back of the chair; a sidewalk; a small black, brown, and white dog; back of a head of a man; battery on back of a wheelchair; big green plants in the background; black leash of a dog; concrete curbing along side of street; dog attached to leash of grass; green grass on the ground; green leaves of trees; greenery is along the pathway; man on an electric wheelchair with a dog; sidewalk where wheelchair is; the back of the man's head; the battery for the wheelchair; the dog has a white tipped tail; the dog is black; the dog is blackthe dog is black; the dog is on a leash; the dog's legs are white; the wheelchair is battery operated; the wheelchair is on a pathway; tire of a wheelchair; two gray wheels; two handles on the wheelchair</div>\n",
       "<div style=\"display: inline-block;\">2335313<img src=\"http://crowdfile.blob.core.chinacloudapi.cn/4615/2335313.jpg\" style=\"max-width: 200px\">Black beanie with a white logo; Brown sheep and a white sheep; Brown sheep with black and white legs and face; FENCE AROUND SHEEP PEN AREA; FENCE IS MADE OF WOOD; Fluffy brown sheep with spotted legs; Fluffy white sheep with hand under chin; Grey sheep on the grass; Guy on a wheelchair wearing jeans; MAN IS WEARING BLUE JEANS; MAN IS WEARING SKI CAP; Man bending over; Man holding a sheep; Man in a blue shirt; Man in a grey shirt and black hat; Man with a sheep; PERSON SITTING IN WHEEL CHAIR; SHEEP HAVE HOOVES ON FEET; SPECTATORS BEHIND FENCE LOOKING AT SHEEP; Sheep and people in a grazing space; THREE PEOPLE EXAMINING SHEEP; TWO SHEEP STANDING IN GRASS; The group of people on the fence; The healthy sheep on the right; The man on the right holding the sheep; The man with a knitted dark cap; The people inspecting sheep; The person sitting on a wheel chair; The sheep on the left; The two people holding one sheep; The white painted fence in the background; The whtie fluffy sheep being held; Three people tend to two sheep; Two people holding a brown sheep; Two sheep on grass; White sheep on the grass; White sheep with a thick coat; Woman behind grey sheep; Woman in black tee shirt; a big round fat sheep; a colorful brown and white sheep near the white one; a man holding a sheep; a man in a black cap; a patch of lush green grass; a person sitting in a wheelchair; a person wearing a black shirt; a slim brown sheep; a wheelchair; a white sheep; a wooden fence; fat fluffy white sheep; fat white sheep being petted; grass under the animals; man holding sheep's head; man holding sheep's neck; man sitting in wheelchair; man wearing black beanie; man wearing blue jeans; people standing outside the fence; sheep with black and white legs; the big white fluffy sheep being held; the fence at the end of the pen; the funny face of the colorful sheep; the green grass everyone is tanding on; the hat on the man's head; the man holding onto the big white sheep; the man holding onto the other sheep; the men standing at the fence; two people holding an animal</div>\n",
       "<div style=\"display: inline-block;\">2315656<img src=\"http://crowdfile.blob.core.chinacloudapi.cn/4615/2315656.jpg\" style=\"max-width: 200px\">A blue arm band; A man sitting on a wheelchair; A pair of blue shorts; A pair of white socks; A round green tennis ball; A round tennis ball; A round wheel of a wheelchair; A tattoo on an arm; A tennis player sitting on a wheelchair; A yellow tank top; Tennis racket in a hand; The tennis court is two shades of blue; White lines on tennis court; a blue tennis court; a dark blue wrist band; a man holding a tennis racket; a man in a wheelchair; a man playing tennis in a wheelchair; a man wearing blue shorts; a man wearing white socks; a man with a beard and mustache; a man with short hair; a man's yellow sleeveless t-shirt; a pair of blue shorts; a red white and blue tennis racket; a white and black tennis net; a yellow and black shoe; a yellow tennis ball; black straps on persons legs; blue wristband man is wearing; blue wristband on person; man is playing tennis; net is white and black; person in wheelchair playing tennis; person in wheelchair wearing blue pants; person in wheelchair wearing yellow shirt; person in wheelchair wearing yellow shoes; person on wheelchair playing tennis; tennis racket is red, white, and blue; the ball is green; the ball is mid air; the lines are white; the man has a yellow shirt; the man has blue shorts; the man is handicapped; the man is in a wheel chair; the man is in a wheelchair; the man is playing tennis; the shirt is yellow; the shoes are yellow; the shorts are blue; the socks are white; the top is yellow; the wheel is large; the wristband is blue; this is a tennis court; wheel chair is specially designed; wheelchair tennis player; white and dark blue tennis court; white lines on a tennis court; yellow laces in shoes; yellow shirt on person; yellow shirt with blue stripe; yellow tennis ball next to man</div>\n",
       "<div style=\"display: inline-block;\">2411670<img src=\"http://crowdfile.blob.core.chinacloudapi.cn/4615/2411670.jpg\" style=\"max-width: 200px\">A white wheelchair sign.; Closed window with part of a white bicycle sticker on it.; Closed window.; Code on the bottom of the train.; Coupling section connecting cars of a red train.; Koge on a sign.; Large white bicycle sign.; Open window on the side of a red train.; Red train car with white stickers on it.; Red train car without white stickers on it.; Sign in Austrian talking about the zone.; Sign is not in English.; Sign that reads Koge.; Space between the train cars.; The design is over the window.; The train is red.; The window is open.; White and green sign on the other side of the train.; White bicycle sticker on the side of a red train.; White handicap sticker on the side of a red train.; a black sign with several words on it; a black sign with white letters; a red passenger train; a red vehicle for public transportation; depiction of a bicycle; depiction of a wheelchair bound person; front wheel of the bicycle; graffiti on the public transportation; handle bars of the bicycle; letters and numbers painted on a train; middle window of the public transportation; picture of a bike painted on a train; rear wheel of the bicycle; sign at a train stop; sign with multiple words; sign with one word; symbol for handicap on a train; the letters SB are next to the numbers; the numbers are 9303; the numbers are white; the sign has white lettering; the sign is black; the train has a wheelchair painted on the side; the train has a white bicycle painted on the side; the train has numbers on it; the train is red; the wheelchair is painted in white; three windows in train cars; two train cars connected; windows on a train car</div>\n",
       "<div style=\"display: inline-block;\">2398601<img src=\"http://crowdfile.blob.core.chinacloudapi.cn/4615/2398601.jpg\" style=\"max-width: 200px\">A large group of surfers; Footprints in the sand.; One person is sitting.; People standing on the beach.; Surfboard on the ground.; The canoe on the beach; The cone on the beach; The filter is sepia.; The horizon line; The ocean in front of the people; The people are casting shadows.; The people are holding surfboards.; The people standing on the beach; The person in the wheelchair; The person standing on the far right; The person's wheelchair; The shadow of the person in the wheelchair; The sky is cloudy.; The water is choppy.; The wave in the ocean; a group of people holding surf boards; a man at the beach; a man with a sufboard; a person sitting to the side of everyone; a small group of people not holding anything; a surf board sitting to the side of a group; a surf board standing alone; a wave in the water; kayak on the sand; ocean with waves; people standing in a line.; person carrying surfboard; person in wheelchair; person sitting down not holding surfboard; row of surfers on beach; sandy beach; shadows of people standing on sand; sky with some clouds in it; the image of a sunset; the ocean; the sky at sunset; tracks on the beach</div>\n",
       "<div style=\"display: inline-block;\">2398664<img src=\"http://crowdfile.blob.core.chinacloudapi.cn/4615/2398664.jpg\" style=\"max-width: 200px\">A black and white photo; A man wearin glasses; A tile floor; A wheel chair; Black and white filter.; Head phones in man's ears.; Man is wearing glasses.; Row of seats in background.; The laptop is on.; The luggage is black.; The man's shoes are black.; The wall is brick.; Trash can is metal.; Trash can is silver.; a man sitting down; a man sitting on a bench; a man useing a lap top; a man useing ear buds; a man with crossed feet; black and silver eye glasses; black and white earbuds; black and white floor; black and white photograph; black edges of the wall; black luggage on wheels; bottom of a chiar; edge of a seat; face of a man; floor with small square pattern; lap top on mans lap; lid of lap top; man doing work on lap top computer; man looking at laptop computer; man wearing dark shirt; man wearing eye glasses; man wearing shiny black dress shoes; man's shiny black shoues; part of a surface; round labels on silver basket; section of a black shoe; section of a surface; section of hair; silver handle on chair; silver trash can with black lid; tan bricks on the wall; the head of a man; wire earphones in mans ear</div>\n",
       "<div style=\"display: inline-block;\">2399819<img src=\"http://crowdfile.blob.core.chinacloudapi.cn/4615/2399819.jpg\" style=\"max-width: 200px\">;arge scissor used to cut ribbon of new business; BROWN AND WHITE TRAIN; CROWD OF PEOPLE WATCHING CEREMONY; FOUR WOMEN AND ONE MAN; GIANT SCISSORS CUTTING RIBBON; GREEN RIBBON WITH WHITE WRITING; Giant pair of scissors; Green paper sign held by people; MAN WEARING BLACK HAT AND JACKET; Man holding a camera over his head; Metal circle on a sidewalk; NUMBER 7504 ON SIDE OF TRAIN; Number 7504 on a train; PERSON IN WHEELCHAIR; Person sitting in wheel chair; WINDOW ON SIDE OF TRAIN; White flower on a woman's coat; Window on a train car; Woman wearing colorful scarf; Woman wearing glasses on her head; YELLOW LINE ON PLATFORM; a giant pair of scissors; a green ribbon; a man in a gray coat; a person sitting in a wheelchair; a row of spectators in the background; a train in the background; a woman in a dark blue coat; burgundy and white train; four people posing with a giant pair of scissors; green symbolic ribbon used to cutting at opening of new business; man taking picture; man wearing black leather jacket; man wearing gray suit coat; police officer in blue uniform; police officers in the background; the shirt is red; two women in red coats; woman wearing blue jacket; woman wearing red coat</div>\n",
       "<div style=\"display: inline-block;\">2392225<img src=\"http://crowdfile.blob.core.chinacloudapi.cn/4615/2392225.jpg\" style=\"max-width: 200px\">A blue court.; A bunch of bracelets.; A pair of adidas.; A pair of red shoes.; A small set of wheels.; A white wheel chair.; A women holds onto a racquet.; A women in a wheel chair.; Adidas logo on tank top; Bracelet is green; Chair of wheelchair is white; Hair is bright red; Necklace on woman; Shoe is bright red; Tennis ball stuck on wheel; The floor has a white symbol; The floor is blue; The girl's hair is in a bun; The wheel chair has 2 large wheels; The wheel chair has two small wheels; The woman has a tank top on; The woman has a tennis racket; The woman has bracelets on; The woman is in a wheel chair; The woman's hair is red; White logo on the blue court.; White shoe soles.; Woman holding racket; Woman sitting on wheelchair; Woman wearing many bracelets; a tennis racket; a woman; a woman in a wheelchair; a woman playing tennis; a woman playing tennis in a wheelchair; a woman wearing a blue and red tank top; a woman wearing a necklace; a woman wearing bracelets; a woman wearing red sneakers; a yellow tennis ball; feet of a tennis spectator; harness on the wheelchair for feet; necklace around a tennis player's neck; sports wheelchair used for playing tennis; tennis ball in wheelchair spokes; tennis player in a wheelchair; tennis player with red hair; tiny wheels on a wheelchair; white addidas logo on shirt; white designs on a blue tennis court</div>\n",
       "<div style=\"display: inline-block;\">2324635<img src=\"http://crowdfile.blob.core.chinacloudapi.cn/4615/2324635.jpg\" style=\"max-width: 200px\">A beach.; A couple on the beach.; A dog on the beach.; A woman in a wheelchair on the beach.; Bracelets on the wrist.; Dog by the wheelchair.; HAT OF MAN ON BEACH; HEAD OF DOG ON BEACH; HEAD OF WOMAN ON BEACH; Hat on the man.; PAW OF DOG ON BEACH; PERSON STANDING ON BEACH; Shorts on the man.; The couple is looking to the left.; The dog stands next to the wheelchair.; The ocean.; The woman in the wheelchair is on the beach.; WAVES ROLLING IN TO SHORE; WHITE CHURNING OCEAN SURF; WOMAN SITTING IN WHEEL CHAIR; Water in the background.; Wave in the water.; Waves rolling in to the shore.; Wheel on the wheel chair.; Wheelchair under the woman.; Woman on the beach.; a dog in the beach; body of dog is black; head of dog is black; legs of dog are white; man beside the woman.; man wearing a hat; people at the beach; people in the beach; right wheel of wheelchair; the dog has his leg raised; the woman is blonde; this is a dog; this is a man; this is a wheelchair; this is a woman; waves in the water; wheel of the wheelchair; woman sit on wheelchair; woman sitting in a wheelchair</div>\n",
       "<div style=\"display: inline-block;\">1210<img src=\"http://crowdfile.blob.core.chinacloudapi.cn/4615/1210.jpg\" style=\"max-width: 200px\">A light on the ceiling; Aquarium in the back of the room; Blue flowered shirt on the woman; Easter bunny decoration on the wall; Elderly man sitting in a wheelchair; Lady in blue pants and white sweater in a wheel chair; Mirror over the aquarium; Old lady in wheelchair; Old man in wheelchair; Picture on the wall.; Plant hanging from the ceiling; Rabbit decoration on the wall; Rabbit hanging on wall; Two elderly women sitting at a table; Window in the wall.; Woman sitting in a wheelchair; dark blue rectangular fish tank against wall; fish tank on cabinet; floral print on wall; floral valances on three windows; florescent light on ceiling; framed mirror on the wall; full dark green plant hanging from ceiling; lady dressed in green; lady wearing a dress is standing by wall; lady wearing blue; large claw hammer on top of table; large easter bunny holding carrot poster on wall; large mirror with gold frame on wall; man in wheel chair; mirror framed in brass on back wall; mirror with tv reflecting in it; old lady sitting in wheel chair; old lady wearing blue dress; picture on the wall; roman shades on windows; valace on window; walking cane on a table; woman standing with head bowed; woman wearing dark green and white looking down; woman wearing white sweater sitting in wheelchair; yellow and blue decoration hanging from ceiling; yellow decoration hanging from the ceiling</div>"
      ],
      "text/plain": [
       "<IPython.core.display.HTML object>"
      ]
     },
     "execution_count": 41,
     "metadata": {},
     "output_type": "execute_result"
    }
   ],
   "source": [
    "query_words = 'wheelchair'.split()\n",
    "query_vec = np.zeros(object_vec_matrix.shape[1])\n",
    "for word in query_words:\n",
    "    query_vec[object_vectorizer.vocabulary_[word]] = 1\n",
    "HTML(show_images([image_objects[idx]['image_id'] for idx in np.argsort(object_vec_matrix.dot(query_vec))[-10:]]))"
   ]
  },
  {
   "cell_type": "code",
   "execution_count": 44,
   "metadata": {},
   "outputs": [
    {
     "data": {
      "text/html": [
       "<div style=\"display: inline-block;\">2372092<img src=\"http://crowdfile.blob.core.chinacloudapi.cn/4615/2372092.jpg\" style=\"max-width: 200px\">Arrows, lines and dashes, on asphalt of street and crosswalk.; Blue bus parked in lot.; Blue bus's front windshield; Bus driving on road.; City-style view, with minimal nature, probably taken before fall, winter.; Curb, with street lights, and garbage bin with reflecter lights.; Exterior shot, in full sunlight.; Faint, overhanging, electrical wires in sky.; Flawless, blue, summery sky.; Front of blue bus; Front of blue car parked by red and white bus; Front red and white bus; Front windshield of red and white bus; Large building in background.; Large building in the distance; Lush, green trees and buildings in distance.; Metal fencing, with dark car parked inside it.; Numerous, colorful, city buses parked against  island, and on street.; Panoramic shot depicts crosswalk, bus lot and trees and buildings beyond.; Passenger bus terminal; Right front wheel of red and white bus; Trees in the distance; White building in the distance; White bus parked in lot.; barrel with orange and white stripes; blue parked bus; bright blue sky with no clouds; building behind parked busses; bus driving down the road; buses parked in a parking lot; cars on the road; clear blue of sky; front of blue bus; gray buildings on horizon; pole on the corner; row of parked buses; row of parked busses; silver metal pole on sidewalk; white and red bus; white arrow on asphalt; white arrow on the ground; white lines of the crosswalk; white lines on asphalt; white wire in sky</div>\n",
       "<div style=\"display: inline-block;\">1592861<img src=\"http://crowdfile.blob.core.chinacloudapi.cn/4615/1592861.jpg\" style=\"max-width: 200px\">A row of windows; A set of red buses parked; Bus in the parking lot; Bus parked in the lot; Electric wires above the bus; The buildings in the background; The digital display on the bus; The entrance way on the bus; The front tire of the bus; The mountains in the background; The parked red buses; The windshield on the bus; a pole is above the street; a view of buses; a view of clouds; a view of evening; a view of pole; a view of sky; a view of sun set; a view of wires; black circle on front of bus; bus is red and white; cables are running above the street; digital window on top of bus with orange print; electric sign on the bus; green leaves on the tree; headlight on front of bus; lights on the pole; power lines over the buses; red and white bus on street; red electric bus is parked; tall stone tower in background; tall street lamp on side of street; the bus is parked on the street; the bus is red and white; the buses are parked; the city on the horizon; the doors on the bus; the parking lot is paved with asphalt; the tree with green leaves; this picture is taken outdoors; wheel on side of bus; white door on the bus; white framed door on side of bus; windshield on front of bus</div>\n",
       "<div style=\"display: inline-block;\">2353122<img src=\"http://crowdfile.blob.core.chinacloudapi.cn/4615/2353122.jpg\" style=\"max-width: 200px\">One bus in front of other bus.; a bus in a parking lot; a large water puddle; a white and green bus; a white top on a bus; big puddle of water; buses side by side; he ground is partially wet; lots of buses in a parkinlot; picture taken during the day; picture taken outdoors; side windows ona bus; the bus is green and white; the bus is white on top; the buses are parked; the busses are lined up in a row; the busses are not moving; the headlight on a bus; the house is red; the house is red in color; the top of a bus; the wheel ona bus; the windshield on a bus; trees behind the busses; various busses in a lot</div>\n",
       "<div style=\"display: inline-block;\">2370629<img src=\"http://crowdfile.blob.core.chinacloudapi.cn/4615/2370629.jpg\" style=\"max-width: 200px\">A sparsely clouded sky; A town full of buses; Blue sky with white clouds.; Buses that are parked.; Fence by the parking lot.; Green bus in the parking lot.; People by the buses.; People by the fence.; Road by the buses.; The central group of people; The green double-decker on the left; The partially blocked double-decker; The partially blocked red double-decker; The trees on the left; The trees on the right; The woman wearing all blue; Town full of gray buildings; White clouds in the blue sky.; Windows on the bus.; a bunch of parked buses; a double decker bus; a double decker green bus; a gray fence; a green double decker bus; a large tree with no leaves; a man's white cap; a one story green bus; a red double decker bus; a small white cloud; a two story bus; a two story green bus; a woman's purple jacket; buildings in the background.; bunch of peopleon bus stop; busses parked in the lot; busses parked on the ground; dark green double decker bus; different color busses; girl with purple cardigan and blue jeans; gray metal barn in the left side; gray metal barn in the right side; large metal fence; light green with red line bus; man with white cap blue t-shirt and blue jeans; part of a blue sky; part of a building window; part of a red bus; people standing in the dirt; red double decker bus; the roof of a building</div>\n",
       "<div style=\"display: inline-block;\">285825<img src=\"http://crowdfile.blob.core.chinacloudapi.cn/4615/285825.jpg\" style=\"max-width: 200px\">A brownstone building in the distance; A grey sedan that is parked; A metal railing on the roof; A streetlight in the parking lot; An old cream colored sedan; Blue double decker bus with \"Sorry\" message; Large green double decker bus; Multi color double decker bus; The blue car is parked on the pavement.; The bus in the middle is red, white and blue.; The bus on the left is blue in color.; The bus on the right is green in color.; The car parked on the left is white in color.; The car parked on the right is blue in color.; The pole on the left is gray in color.; The pole on the left is made from metal.; The roof is black in color.; The roof of a building in a parking lot; The white car is parked on the pavement.; a window on a building; a window on the building; bank of trees; blue & white double decker bus parked in a lot; blue and black bus; blue double deck passenger bus; blue double decker tour bus; colorful double deck passenger bus; dark green vehicle parked in a lot; green and brown leaves in tree; green double deck passenger bus; green double decker bus parked in a lot; green double decker tour bus; large brown and white building; multi-story brick building; red white and blue double decker tour bus; red,white & blue double decker bus parked in a lot; silver vehicle parked in a lot; street lights seen behind trees; tall brick building erected in background; tall green bush growing in front of building; white and blue cars parked in a lot; white clouds in blue sky</div>\n",
       "<div style=\"display: inline-block;\">2359450<img src=\"http://crowdfile.blob.core.chinacloudapi.cn/4615/2359450.jpg\" style=\"max-width: 200px\">a black SUV in road; a brown building in the background; a greyhound bus; a large parked Greyhound bus; a row of buses parked in the street; a traffic light; a yellow line on the ground; green bushes in the foreground; green trees beside the bus; it is a black car in the road; it is a bus; it is a green tree; large building in distance; side mirror on the bus; the bus is blue; the buses are lined up; the buses are parked; the car behind the large truck; the line of buses next to the building; the mirror on the bus; the street light near the bus; the tall buildings in the distance; the traffic light in the distance; the window on the building; the yellow lines on the ground; the yellow street sign</div>\n",
       "<div style=\"display: inline-block;\">1591968<img src=\"http://crowdfile.blob.core.chinacloudapi.cn/4615/1591968.jpg\" style=\"max-width: 200px\">A person walking on the street; A person wearing a plaid coat; A wall on the side of a building; A yellow security jacket with stripes; Destination sign on a bus; Orange bumper sticker on a bus; People are enjoying the outdoors; Several people standing next to a bus; Shelter to protect people from weather; Woman sitting on a bench; a bus stop near the street; a man and woman standing near a bus; a white double decker bus; a woman sitting in a bus stop; a woman wearing a plaid jacket; big building in the corner; big windshield in orange and white double decker bus; bus stop in sidewalk; double deck white and orange bus; double deck white and orange passenger bus; double deck white passenger bus; glass is clean and clear; license plate on the buss; light on the bus; man standing in the sidewalk wearing blue vest; man standing on sidewalk wearing yellow vest; orange letters on screen of double decker bus; passenger bus; people walking on the crosswalk; perosn standing in front of a bus wearing black and white plaid shirt; person holding a bag; sign on the side of the bus; window in white bus; windows on the upper level of a double decker bus; windshield on a double decker bus; windshield wipers on the bus; woman texting on her cellphone; woman wearing black dress and panty hose; yellow safety vest worn by man</div>\n",
       "<div style=\"display: inline-block;\">2332042<img src=\"http://crowdfile.blob.core.chinacloudapi.cn/4615/2332042.jpg\" style=\"max-width: 200px\">An advertisement is on the side of the bus.; Bus on the road; Bus on the street; Buses on the road; Buses on the street; Picture with a lady is on the bus.; The bus has a number on it.; The bus' wheel is turned to the right.; The guard rail is next to the bus.; The sunlight is coming through the trees.; The window is closed.; Tires on the bus; Two buses are next to each other.; Two buses on the road; Two buses on the street; a bus passenger window; a silver and red bus; advertisement on the back of the bus; advertisement on the side of the bus; an electric bus destination sign; back of the bus; buses on the street; four windows on the side of the bus; green grass on the ground; green leaves on the tree; part fo a wheel; part of a ground; part of a wheel; red light on the back of the bus; red stripe on the top of the bus; shadow on the street; side of the bus; sun on the street; the back tire is straight; the bus is red and white; the couple on the poster are smiling; the number 29 is orange; the poster on the bus is blue; the poster on the bus is white; the storage on the roof is white; the tire on the bus is turned; the trees are massive; the woman on the poster is wearing jeans; top of the bus; two buses on the road; wheel is turned; wheel of the bus; yellow line on the ground</div>\n",
       "<div style=\"display: inline-block;\">2339691<img src=\"http://crowdfile.blob.core.chinacloudapi.cn/4615/2339691.jpg\" style=\"max-width: 200px\">Bus is behind bus; Bus is in front of bus; Windshield on bus; a row of buses; back tire of bus; banner on front of bus; black number one on a white background; blue and purple bus; blue of daytime sky; blue sky in the photo; bus windshield with wipers; cloud in the sky; design on side of bus; double doors on bus; front of the bus; green leaves on trees; leaves o the ground; leaves on the tree; light on front of bus; line of parked busses; red and blue lines; red and blue stripes on the side of the bus; red lines on the side of the bus; shadow under the bus; side of the bus; sign on the front of the bus; sign with black letters; thick white clouds in the bright blue sk; tire on the bus; transit bus on the side of the road; white bus; white clouds in blue sky; windows on side of bus; wires above the train; wires on telephone poles; yellow, black, and white sign</div>\n",
       "<div style=\"display: inline-block;\">2337627<img src=\"http://crowdfile.blob.core.chinacloudapi.cn/4615/2337627.jpg\" style=\"max-width: 200px\">A window on a bus; Black sign with white lettering; Bus made out of two stacked bus frames; Bus on the grass; Bus parked next to a bus; Bus tire with green wheels; Bus with large windows; Buses parked on grass; Double decker bus is parked; Dry yellow and green grass; Green bus with yellow trim; Green wheel on the black tire; Small window on a bus; Three yellow and green buses; Yellow lettering on side of green bus; a black grill on the front; a brown ad on the bus; a double decker bus; a green and tan bus; a green and yellow bus; a green and yellow double decker bus; a green and yellow single level bus; a green double decker bus; black fender over wheel; brown and white sign on bus; bus has two tiers; buses on the grass; green rim on wheel; green wheels on tires; headlights on the front of bus; one regular bus; smaller bus is yellow and green; the bus is parked in a field; the buses are all green; the buses are parked; the buses are parked on grass; the green bus is parked in a field; the green double decker bus is in the middle; the single level bus is next to the green bus; the single level bus is parked in a field; the tire is all black; the wheel is green; there are three buses; there are two double decker buses; this bus is green and yellow; this is a double decker bus; this is a green bus with white accents; this is a tourist bus; three similar buses but different; two double decker buses; white rear of car; writing on the side of bus; yellow around the windows; yellow writing on bus</div>"
      ],
      "text/plain": [
       "<IPython.core.display.HTML object>"
      ]
     },
     "execution_count": 44,
     "metadata": {},
     "output_type": "execute_result"
    }
   ],
   "source": [
    "HTML(show_images([image_objects[idx]['image_id'] for idx in np.argsort(object_vec_matrix[:,object_vectorizer.vocabulary_['bus']].A.ravel())[-10:]]))"
   ]
  },
  {
   "cell_type": "code",
   "execution_count": 42,
   "metadata": {},
   "outputs": [
    {
     "data": {
      "text/plain": [
       "{'image_id': 2372092,\n",
       " 'objects': [{'synsets': ['arrow.n.01'],\n",
       "   'h': 13,\n",
       "   'object_id': 594085,\n",
       "   'merged_object_ids': [],\n",
       "   'names': ['arrow'],\n",
       "   'w': 15,\n",
       "   'y': 170,\n",
       "   'x': 392},\n",
       "  {'synsets': ['barrel.n.01'],\n",
       "   'h': 22,\n",
       "   'object_id': 594088,\n",
       "   'merged_object_ids': [],\n",
       "   'names': ['barrel'],\n",
       "   'w': 23,\n",
       "   'y': 156,\n",
       "   'x': 6},\n",
       "  {'synsets': ['building.n.01'],\n",
       "   'h': 15,\n",
       "   'object_id': 594084,\n",
       "   'merged_object_ids': [],\n",
       "   'names': ['building'],\n",
       "   'w': 70,\n",
       "   'y': 111,\n",
       "   'x': 321},\n",
       "  {'synsets': ['building.n.01'],\n",
       "   'h': 24,\n",
       "   'object_id': 594099,\n",
       "   'merged_object_ids': [],\n",
       "   'names': ['building'],\n",
       "   'w': 91,\n",
       "   'y': 92,\n",
       "   'x': 78},\n",
       "  {'synsets': ['bus.n.01'],\n",
       "   'h': 24,\n",
       "   'object_id': 594096,\n",
       "   'merged_object_ids': [],\n",
       "   'names': ['bus'],\n",
       "   'w': 17,\n",
       "   'y': 124,\n",
       "   'x': 339},\n",
       "  {'synsets': ['bus.n.01'],\n",
       "   'h': 35,\n",
       "   'object_id': 594093,\n",
       "   'merged_object_ids': [],\n",
       "   'names': ['bus'],\n",
       "   'w': 32,\n",
       "   'y': 116,\n",
       "   'x': 275},\n",
       "  {'synsets': ['bus.n.01'],\n",
       "   'h': 31,\n",
       "   'object_id': 594094,\n",
       "   'merged_object_ids': [],\n",
       "   'names': ['bus'],\n",
       "   'w': 17,\n",
       "   'y': 118,\n",
       "   'x': 307},\n",
       "  {'synsets': ['bus.n.01'],\n",
       "   'h': 30,\n",
       "   'object_id': 594091,\n",
       "   'merged_object_ids': [],\n",
       "   'names': ['bus'],\n",
       "   'w': 35,\n",
       "   'y': 123,\n",
       "   'x': 434},\n",
       "  {'synsets': ['bus.n.01'],\n",
       "   'h': 36,\n",
       "   'object_id': 594090,\n",
       "   'merged_object_ids': [],\n",
       "   'names': ['bus'],\n",
       "   'w': 60,\n",
       "   'y': 114,\n",
       "   'x': 214},\n",
       "  {'synsets': ['bus.n.01'],\n",
       "   'h': 26,\n",
       "   'object_id': 594089,\n",
       "   'merged_object_ids': [],\n",
       "   'names': ['bus'],\n",
       "   'w': 30,\n",
       "   'y': 115,\n",
       "   'x': 103},\n",
       "  {'synsets': ['bus.n.01'],\n",
       "   'h': 20,\n",
       "   'object_id': 594098,\n",
       "   'merged_object_ids': [],\n",
       "   'names': ['bus'],\n",
       "   'w': 12,\n",
       "   'y': 126,\n",
       "   'x': 369},\n",
       "  {'synsets': ['bus.n.01'],\n",
       "   'h': 28,\n",
       "   'object_id': 594095,\n",
       "   'merged_object_ids': [],\n",
       "   'names': ['bus'],\n",
       "   'w': 17,\n",
       "   'y': 121,\n",
       "   'x': 323},\n",
       "  {'synsets': ['bus.n.01'],\n",
       "   'h': 22,\n",
       "   'object_id': 594097,\n",
       "   'merged_object_ids': [],\n",
       "   'names': ['bus'],\n",
       "   'w': 13,\n",
       "   'y': 125,\n",
       "   'x': 357},\n",
       "  {'synsets': ['bus.n.01'],\n",
       "   'h': 17,\n",
       "   'object_id': 594079,\n",
       "   'merged_object_ids': [],\n",
       "   'names': ['buses'],\n",
       "   'w': 8,\n",
       "   'y': 129,\n",
       "   'x': 387},\n",
       "  {'synsets': ['bus.n.01'],\n",
       "   'h': 32,\n",
       "   'object_id': 594100,\n",
       "   'merged_object_ids': [],\n",
       "   'names': ['buses'],\n",
       "   'w': 45,\n",
       "   'y': 111,\n",
       "   'x': 6},\n",
       "  {'synsets': ['car.n.01'],\n",
       "   'h': 27,\n",
       "   'object_id': 594107,\n",
       "   'merged_object_ids': [],\n",
       "   'names': ['car'],\n",
       "   'w': 35,\n",
       "   'y': 127,\n",
       "   'x': 0},\n",
       "  {'synsets': ['car.n.01'],\n",
       "   'h': 14,\n",
       "   'object_id': 594105,\n",
       "   'merged_object_ids': [],\n",
       "   'names': ['car'],\n",
       "   'w': 17,\n",
       "   'y': 137,\n",
       "   'x': 470},\n",
       "  {'synsets': ['car.n.01'],\n",
       "   'h': 15,\n",
       "   'object_id': 594092,\n",
       "   'merged_object_ids': [],\n",
       "   'names': ['cars'],\n",
       "   'w': 15,\n",
       "   'y': 137,\n",
       "   'x': 485},\n",
       "  {'synsets': ['fence.n.01'],\n",
       "   'h': 57,\n",
       "   'object_id': 594106,\n",
       "   'merged_object_ids': [],\n",
       "   'names': ['fence'],\n",
       "   'w': 65,\n",
       "   'y': 101,\n",
       "   'x': 1},\n",
       "  {'synsets': ['line.n.01'],\n",
       "   'h': 13,\n",
       "   'object_id': 594082,\n",
       "   'merged_object_ids': [],\n",
       "   'names': ['lines'],\n",
       "   'w': 36,\n",
       "   'y': 165,\n",
       "   'x': 169},\n",
       "  {'synsets': ['pole.n.01'],\n",
       "   'h': 172,\n",
       "   'object_id': 594080,\n",
       "   'merged_object_ids': [],\n",
       "   'names': ['pole'],\n",
       "   'w': 10,\n",
       "   'y': 1,\n",
       "   'x': 32},\n",
       "  {'synsets': ['road.n.01'],\n",
       "   'h': 24,\n",
       "   'object_id': 594083,\n",
       "   'merged_object_ids': [],\n",
       "   'names': ['road'],\n",
       "   'w': 46,\n",
       "   'y': 142,\n",
       "   'x': 318},\n",
       "  {'synsets': ['sidewalk.n.01'],\n",
       "   'h': 26,\n",
       "   'object_id': 594081,\n",
       "   'merged_object_ids': [],\n",
       "   'names': ['sidewalk'],\n",
       "   'w': 101,\n",
       "   'y': 155,\n",
       "   'x': 1},\n",
       "  {'synsets': ['sky.n.01'],\n",
       "   'h': 23,\n",
       "   'object_id': 594078,\n",
       "   'merged_object_ids': [],\n",
       "   'names': ['sky'],\n",
       "   'w': 46,\n",
       "   'y': 1,\n",
       "   'x': 97},\n",
       "  {'synsets': ['band.n.04'],\n",
       "   'h': 13,\n",
       "   'object_id': 594087,\n",
       "   'merged_object_ids': [],\n",
       "   'names': ['stripes'],\n",
       "   'w': 9,\n",
       "   'y': 159,\n",
       "   'x': 8},\n",
       "  {'synsets': ['tree.n.01'],\n",
       "   'h': 35,\n",
       "   'object_id': 594103,\n",
       "   'merged_object_ids': [],\n",
       "   'names': ['trees'],\n",
       "   'w': 60,\n",
       "   'y': 77,\n",
       "   'x': 3},\n",
       "  {'synsets': ['wheel.n.01'],\n",
       "   'h': 12,\n",
       "   'object_id': 594104,\n",
       "   'merged_object_ids': [],\n",
       "   'names': ['wheel'],\n",
       "   'w': 7,\n",
       "   'y': 137,\n",
       "   'x': 235},\n",
       "  {'synsets': ['windshield.n.01'],\n",
       "   'h': 17,\n",
       "   'object_id': 594101,\n",
       "   'merged_object_ids': [],\n",
       "   'names': ['windshield'],\n",
       "   'w': 26,\n",
       "   'y': 122,\n",
       "   'x': 247},\n",
       "  {'synsets': ['windshield.n.01'],\n",
       "   'h': 12,\n",
       "   'object_id': 594102,\n",
       "   'merged_object_ids': [],\n",
       "   'names': ['windshield'],\n",
       "   'w': 19,\n",
       "   'y': 120,\n",
       "   'x': 104},\n",
       "  {'synsets': ['wire.n.01'],\n",
       "   'h': 30,\n",
       "   'object_id': 594086,\n",
       "   'merged_object_ids': [],\n",
       "   'names': ['wire'],\n",
       "   'w': 189,\n",
       "   'y': 4,\n",
       "   'x': 287}],\n",
       " 'image_url': 'http://crowdfile.blob.core.chinacloudapi.cn/4615/2372092.jpg'}"
      ]
     },
     "execution_count": 42,
     "metadata": {},
     "output_type": "execute_result"
    }
   ],
   "source": [
    "image_objects[48577]"
   ]
  },
  {
   "cell_type": "code",
   "execution_count": null,
   "metadata": {},
   "outputs": [],
   "source": []
  },
  {
   "cell_type": "code",
   "execution_count": null,
   "metadata": {},
   "outputs": [],
   "source": []
  },
  {
   "cell_type": "code",
   "execution_count": 39,
   "metadata": {},
   "outputs": [
    {
     "ename": "AssertionError",
     "evalue": "",
     "output_type": "error",
     "traceback": [
      "\u001b[0;31m---------------------------------------------------------------------------\u001b[0m",
      "\u001b[0;31mAssertionError\u001b[0m                            Traceback (most recent call last)",
      "\u001b[0;32m<ipython-input-39-a871fdc9ebee>\u001b[0m in \u001b[0;36m<module>\u001b[0;34m()\u001b[0m\n\u001b[0;32m----> 1\u001b[0;31m \u001b[0;32massert\u001b[0m \u001b[0;32mFalse\u001b[0m\u001b[0;34m\u001b[0m\u001b[0m\n\u001b[0m",
      "\u001b[0;31mAssertionError\u001b[0m: "
     ]
    }
   ],
   "source": [
    "assert False"
   ]
  },
  {
   "cell_type": "code",
   "execution_count": 48,
   "metadata": {},
   "outputs": [],
   "source": [
    "ngram_range = (1, 2)\n",
    "min_df = 20\n",
    "vectorizer = TfidfVectorizer(ngram_range=ngram_range, min_df=min_df, max_df=.7)\n",
    "joined_captions = ['\\n'.join(phrases) for phrases in phrases_by_img.values()]\n",
    "caption_vecs = vectorizer.fit_transform(joined_captions)\n"
   ]
  },
  {
   "cell_type": "code",
   "execution_count": 49,
   "metadata": {},
   "outputs": [
    {
     "data": {
      "text/plain": [
       "91408"
      ]
     },
     "execution_count": 49,
     "metadata": {},
     "output_type": "execute_result"
    }
   ],
   "source": [
    "len(vectorizer.vocabulary_)"
   ]
  },
  {
   "cell_type": "code",
   "execution_count": 50,
   "metadata": {},
   "outputs": [],
   "source": [
    "voc = vectorizer.get_feature_names()"
   ]
  },
  {
   "cell_type": "code",
   "execution_count": 51,
   "metadata": {},
   "outputs": [],
   "source": [
    "imgids = list(phrases_by_img.keys())"
   ]
  },
  {
   "cell_type": "code",
   "execution_count": null,
   "metadata": {},
   "outputs": [],
   "source": [
    "# query_caption = \"a shower with a blue mat on the floor in front of it\"\n",
    "query_caption = \"a red city bus\"\n",
    "query_vec = vectorizer.transform([query_caption])\n",
    "similarity = caption_vecs.dot(query_vec.T).A.ravel()"
   ]
  },
  {
   "cell_type": "code",
   "execution_count": null,
   "metadata": {},
   "outputs": [],
   "source": [
    "sorted([(query_vec[0,x], voc[x]) for x in query_vec.tocoo().col])"
   ]
  },
  {
   "cell_type": "markdown",
   "metadata": {},
   "source": [
    "CosMul similarity. https://tedboy.github.io/nlps/_modules/gensim/models/word2vec.html#Word2Vec.most_similar_cosmul"
   ]
  },
  {
   "cell_type": "code",
   "execution_count": 55,
   "metadata": {},
   "outputs": [
    {
     "data": {
      "text/html": [
       "<div style=\"display: inline-block;\">1592210<img src=\"http://crowdfile.blob.core.chinacloudapi.cn/4615/1592210.jpg\" style=\"max-width: 200px\">A black car on a street; A black car on the street; A bus on the road.; A clock on a building; A clock on top of the building.; A clock on top of the tower.; A green car parked on the side of the street; A green car parked on the street; A headlight on a car; A man walking on the sidewalk; A man walking on the sidewalk.; A red bus in the street; A red bus on the road.; A red double decker bus on the road.; A stoplight beside a street; A stoplight near a street; A street in a city; A window on a building.; A windshield on a car; Cars parked on the side of the road.; Flags on a building; People are enjoying the outdoors; THE SHADOWS ARE ON THE STREET; THESE ROOFS ARE POINTY; THIS BUS IS RED; THIS CAR IS BLACK; THIS CAR IS GREEN; THIS FLAG IS BLUE AND WHITE; THIS IS A BUS; THIS IS A CAR; THIS IS A CLOCK; THIS IS A FLAG; The car is black.; The clouds are white.; The sky is blue.; The sky is full of clouds.; The traffic signal is red.; Windows on a building; a big cloud in the sky; a black car is parked; a white bus; glass window on the building; it is a red bus; it is a traffic light; light on the car; side mirror; the bus is red; the cars are parked; the clouds are fluffy; the road is grey; the sky is blue and white; the sky is mostly cloudy; the tower is gray; the tower is old; this is a city center; this is a clock tower</div>\n",
       "<div style=\"display: inline-block;\">150526<img src=\"http://crowdfile.blob.core.chinacloudapi.cn/4615/150526.jpg\" style=\"max-width: 200px\">A black care on other side of the bus; A red and white bus; A white car on the other side of bus; A white directional sign with black arrow; An orange sign with black arrow; Black car on the street; Black signs with street names and arrows; Blue and white handicap sign on bus; Buses and cars on the road.; Driver sitting on the red bus.; Flag hanging from post; Green street lights with white globes; License plate on back of car; Lights on a post; No U-turn sign; No left turn sign; Orange sign on a post; Orange sign on the post; Red bus in the middle of the road; Red bus on the raod; Red bus on the road; Street lamps on a post; The bus is red.; The car is white.; The number 6 on the front of the bus; The sign is black and white.; Traffic light at the intersection; Two red and white buses; Two white round lights; White broken line in the crosswalk; White car on the road; White car on the street; White line in the street.; White lines on street walkway; White straight arrow; Windshield of a bus; Yellow stop lights; a bright orange sign in a post; a bus in the foreground; a bus travelling up a hill; a concrete island in the street; a pair of globes on a post; a pair of left turn signs; a red truck in the distance; a red, black and white bus; a small white coupe in the left lane; a white car in traffic; an advertisement banner; an area of brown bricks; an orange street sign; bridege over the street; building next to a road; bus driving down the street; cars at a stop light; headlights of the red bus; part of a person's face on a poster; stop lights at an intersection; street lights on the sidewalk; the number 4 bus; white circular bulb; white street lamp on the side of the road</div>\n",
       "<div style=\"display: inline-block;\">2317822<img src=\"http://crowdfile.blob.core.chinacloudapi.cn/4615/2317822.jpg\" style=\"max-width: 200px\">Black car on a street; Bus is on the street; Bus on the street; Double decker bus is on the street; Double decker bus on the street; Large red bus on a street; Passenger inside red bus; Passenger windows on a red bus; Rear tire on red bus; Red bus is on the street; Red bus on a street; Red bus on the street; Red double decker bus is on the street; Red double decker bus on the street; Red double decker buses are on the street; Red double decker buses on the street; Sign on front of bus; Small white car with black top; Tail light on small yellow car; White stripe on a red bus; a black car on the road; a black street light; a gold vehicle on the road; a gray asphalt road; a large group of buildings; a red double decker bus; a shop sign on a building; a white car on the road; a white line on the road; black car is blurry because it's moving; blurry black car on road; brick buildings behind buses; buses and cars in an urban setting; gas cap area for bus; large red double decker bus; mini coop in front of bus; red double decker bus on left; red double decker bus on right; store front display; store sign above entrance; street lamp affixed to building; tail end of yellow car; this vehicle is gold with red tail lights; top level of a double decker bus; traffic on a busy street; two double decker buses parked near one another; white car is blurry because it's moving; white sign for a business in this building; white stripe on road</div>\n",
       "<div style=\"display: inline-block;\">2408137<img src=\"http://crowdfile.blob.core.chinacloudapi.cn/4615/2408137.jpg\" style=\"max-width: 200px\">A Wrong Way sign; A gray automobile driving down the street; A large black truck.; A large brick building with many windows.; A red double-decker bus.; A red two story bus; A row of buildings.; A silver car driving down the street; A small black car.; A storm drain in the sidewalk.; A street light and post; A street sign.; A tractor trailer travelling behind two cars.; A white delivery type truck.; An advertisement on the side of the bus; Bus number D8; D8 written in large yellow letters on bus; Double decker red bus on the street; Man driving bus.; Metal grate in curb; Metal grate in the street.; People walking on the sidewalk.; Street sign; The bus driver.; The bus' windshield.; The bus's sign; The bus's windshield; The bus's windshield wipers; The destination of the bus.; The top level of the bus; Two cars in the street.; a black car on the street; a manhole cover on the street; a red and white sign; a set of street lights; a silver car on the road; a white truck on the street; city street with white line painted on it; four floored apartment building; grate covering hole leading to sewer; red and white do not enter sign; red double deck city bus; shadow cast on road by city bus; simi truck pulling black trailer; small black car behind red bus; tall overhead street lights; the door of a bus; the headlight of a bus; the second deck of a bus; the window of a building</div>\n",
       "<div style=\"display: inline-block;\">2361632<img src=\"http://crowdfile.blob.core.chinacloudapi.cn/4615/2361632.jpg\" style=\"max-width: 200px\">A black round tire; A black rubber tire; A green metal railing; A large brown building; A long red bus; A tall street lamp; A tall street light; A tree across the street; Bricks on the sidewalk; Green leaves on a tree; Headlight on the car; Many windows on a building; Many windows on brown building; Railing made of metal; Red bus on city street; Round sign on the bus; Shadow on the building; Thick white lines on street; Vehicles in the street; White lines on the street; Windows on red bus; Windows on the bus; a brick sidewalk; a building with a lot of windows; a green metal fence; a man hole cover; a red public bus; a tall red building; a tall street light; a white building with several levels; a white car on a road way; building is brown and big; buildings behind the bus; bus has blue letters; bus is on the road; bus is red and big; car is near bus; cross walk on city street; front wheel on red bus; light pole on side of city street; light post in front of bus; metal railings near street; railing along city street; rear wheel on red bus; sidewalk is red and bricks; street has white lines; traffic lights over city street; white car on city street; white lines painted on a street; word sky written on side of city bus</div>\n",
       "<div style=\"display: inline-block;\">2414588<img src=\"http://crowdfile.blob.core.chinacloudapi.cn/4615/2414588.jpg\" style=\"max-width: 200px\">A black car parked by the side of the road.; A blue car and a bus; A commuter bus in England; A large brick building.; A parked British car; A red bus driving down the street.; Beige building on the street; Blue car driving next to bus; Blue door; Blue door.; Bus driver; Busy traffic on a British street; Chimneys on a roof; City bus in the street; Destination sign on a bus; Fluffy, white cloud.; Front license plate on a bus; License plate of bus; Next stop for the bus; Parked black car on the street; Red door; Red door.; Side mirror on car.; Street light.; The front of a red bus; Three cars and a bus; Trees planted along side the street.; Windows in a row house; Writing on the front of the bus; Yellow license plate on a blue car.; arched windows on lower level of building; blue car parked on street; blue door in building; broken white line on steeet; bus driver seen through bus' front window; chimneys on top of large building; clear blue sky with no cloud; dark metal fence in front of building; headlights on bus are on; large fluffy white cloud in sky; red bus driving down the street; red bus on street; red door on brown building front; red door on building; reflection of tree on front window of car; row of white building; side mirror on car; small white marking on street; vehicles parked near fence; white license plate on public bus</div>\n",
       "<div style=\"display: inline-block;\">2361207<img src=\"http://crowdfile.blob.core.chinacloudapi.cn/4615/2361207.jpg\" style=\"max-width: 200px\">A black car near the bus; A bus on the road; A door on the side of the bus; A shadow on the road; A white license plate behind the car; Black car parked on the side of the road; Black car parked under many leafy trees; Black car passing next to large bus; Bright blue sky behind leafy trees; Bus driving on a road between parked cars; Bus passing next to black car; Green bus driving between many green trees; Headlights on the bus; The front wheel of the bus; The rear tire of the black car; White bus with green along the bottom on road; White car parked next to many trees; White car parked on the side of the road; Windows at the front of the bus; Yellow flowers by the tree; a black car parked on the side of a street; a car next to a bus; a green and white bus; a large tree trunk; a street with trees on both sides; a white car parked on the side of a street; a white line painted on a street; a windshield on a bus; brown tree trunk near a street; bus on a street; car on a street; edge of a bus; edge of a window; headlights on a bus; light on a bus; part of  a tree; part of a  stem; part of a bush; part of a door; part of a wheel; part of a window; tire on a bus; window on a bus; yellow flowers next to a street</div>\n",
       "<div style=\"display: inline-block;\">2349839<img src=\"http://crowdfile.blob.core.chinacloudapi.cn/4615/2349839.jpg\" style=\"max-width: 200px\">Black car in the road; Black car in the street; Black car on the road; Black car on the street; Buses on the road; Buses on the street; Double decker buses on the road; Double decker buses on the street; Red buses on the road; Red buses on the street; back window of vehicle; black cars in front of buses; brake light on a car; brown building with square panels for clocks; buildings on side of road; bus number and route info; car in the road; clock on tower of building; clock tower in the background; clocks on a tower; curved front panels of red double decker buses; curved pole and yellow mirror in front of bus; dark cars following rear of buses; distorted image of England city street; flag hanging off building; flat and curved white columns on tan buildings; front window of vehicle; headlight of a red bus turned on; leafless tree over bus roofs; license on a car; light on the vehicle; number 29 on a bus; number 87 on the back of a bus; red bus behind a black car; red bus behind another red bus; red bus in front of a black car; route on a bus; tree tops in the back; vehicle on the road; vehicles in front of clocktower; white clock faces with dark numbers and hands; white dashes painted on street; white license plate on a black car; white line on street; white windows and trim on brick building; window on a bus; windows on a building; yellow license plate on the back of black car; yellow mirror on a red bus</div>\n",
       "<div style=\"display: inline-block;\">1160213<img src=\"http://crowdfile.blob.core.chinacloudapi.cn/4615/1160213.jpg\" style=\"max-width: 200px\">a bus; a bus that is red; a car on road; a group of bushes that are green; a large and green tree; a row of white Chinese characters; a row of windows; a seat on the bus; a tall green tree in the background; a view of car; a view of grass; a view of trees; a white car in the street; a white fence; back light of the black car; black car parked on the side of the road; car on the sidewalk; dark green leaves on the tree; it is a black car; it is a red city bus; it is the back tire of the bus; it is the front tire of the bus; large red bus in the street; large suv; logo of a bull on bus; logo on the bus; logo on the side of the bus; mirror on the side of the bus; name on the bus; passenger window on side of bus; red bus ont he side of the road; the back light of the bus; the back wheel of a red bus; the back window of a red bus; the door of a red bus; the front wheel of a red bus; the groudn is made of bricks; the license plate of a red bus; the mirror of a red bus; the rim of a red bus; the street is grey; the wheel of a red bus; the window of a red bus; the windows of a red bus; the writings of a red bus; tire of bus; white writing on the side of the bus; window on side of minivan; window on side of red bus; writing on the bus</div>\n",
       "<div style=\"display: inline-block;\">2415666<img src=\"http://crowdfile.blob.core.chinacloudapi.cn/4615/2415666.jpg\" style=\"max-width: 200px\">A black car parked on the street; A city bus picking up passengers; A red and yellow bus stop painted on the ground; A white minivan behind a black car; a bare leafed tree; a black car driving on street; a large building in distance; a one lane city street; a parked SUV; a red bus lane; a red public service bus; a tall building in distance; a white van driving on street; an electronic bus destination sign; black car driving down street; digital window on front of red bus; leafless brown tree bordering sidewalk; line drawn on street; picture of multiple men skateboarding; red bus parked next to sidewalk; the bus has windows; the bus is red; the lines are faded; the lines are white; the lines are yellow; the tree has no leaves; the wheel of the bus; this is a bus; this is a car; this is a city street; this is a metro bus; vent grill on rear of red bus</div>"
      ],
      "text/plain": [
       "<IPython.core.display.HTML object>"
      ]
     },
     "execution_count": 55,
     "metadata": {},
     "output_type": "execute_result"
    }
   ],
   "source": [
    "descs = 'shower,towel,hanging,handle'\n",
    "descs = 'red bus,black car,street'\n",
    "similarities = caption_vecs.dot(vectorizer.transform(descs.split(',')).T.A).T\n",
    "similarity = np.prod(1 + similarities / 2, axis=0)\n",
    "\n",
    "HTML(show_images([imgids[x] for x in np.argsort(similarity)[-10:]]))"
   ]
  },
  {
   "cell_type": "code",
   "execution_count": null,
   "metadata": {},
   "outputs": [],
   "source": []
  }
 ],
 "metadata": {
  "kernelspec": {
   "display_name": "Python 3",
   "language": "python",
   "name": "python3"
  },
  "language_info": {
   "codemirror_mode": {
    "name": "ipython",
    "version": 3
   },
   "file_extension": ".py",
   "mimetype": "text/x-python",
   "name": "python",
   "nbconvert_exporter": "python",
   "pygments_lexer": "ipython3",
   "version": "3.6.4"
  }
 },
 "nbformat": 4,
 "nbformat_minor": 2
}
