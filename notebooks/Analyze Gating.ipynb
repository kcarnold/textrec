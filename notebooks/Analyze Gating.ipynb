{
 "cells": [
  {
   "cell_type": "markdown",
   "metadata": {},
   "source": [
    "# Analysis pipeline for Gating Task"
   ]
  },
  {
   "cell_type": "markdown",
   "metadata": {},
   "source": [
    "## Preliminaries"
   ]
  },
  {
   "cell_type": "code",
   "execution_count": 1,
   "metadata": {},
   "outputs": [
    {
     "name": "stdout",
     "output_type": "stream",
     "text": [
      "/Users/kcarnold/code/textrec\n"
     ]
    }
   ],
   "source": [
    "%cd ~/code/textrec/"
   ]
  },
  {
   "cell_type": "code",
   "execution_count": 2,
   "metadata": {},
   "outputs": [],
   "source": [
    "import datetime\n",
    "import json\n",
    "import pathlib\n",
    "\n",
    "import pandas as pd\n",
    "import numpy as np\n",
    "import toolz\n",
    "from IPython.display import Image, HTML"
   ]
  },
  {
   "cell_type": "code",
   "execution_count": 3,
   "metadata": {},
   "outputs": [
    {
     "name": "stdout",
     "output_type": "stream",
     "text": [
      "Loading COCO captions\n",
      "Loading COCO id2url\n",
      "Done\n"
     ]
    },
    {
     "name": "stderr",
     "output_type": "stream",
     "text": [
      "/Users/kcarnold/anaconda3/envs/py36/lib/python3.6/site-packages/h5py/__init__.py:36: FutureWarning: Conversion of the second argument of issubdtype from `float` to `np.floating` is deprecated. In future, it will be treated as `np.float64 == np.dtype(float).type`.\n",
      "  from ._conv import register_converters as _register_converters\n"
     ]
    },
    {
     "name": "stdout",
     "output_type": "stream",
     "text": [
      "Loading ONMT models...\n",
      "coco_lm_adam_acc_46.00_ppl_16.32_e10_nooptim.pt\n",
      "Loading model parameters.\n",
      "coco_cap_adam_acc_48.73_ppl_12.56_e10_nooptim.pt\n",
      "Loading model parameters.\n",
      "Ready.\n",
      "Loading SpaCy...done\n",
      "Loading COCO captions\n",
      "Loading COCO id2url\n",
      "Done\n",
      "Loading SpaCy...done\n"
     ]
    },
    {
     "data": {
      "text/plain": [
       "(<module 'textrec.analysis_util' from '/Users/kcarnold/code/textrec/src/textrec/analysis_util.py'>,\n",
       " <module 'textrec.util' from '/Users/kcarnold/code/textrec/src/textrec/util.py'>,\n",
       " <module 'textrec.notebook_util' from '/Users/kcarnold/code/textrec/src/textrec/notebook_util.py'>,\n",
       " <module 'textrec.automated_analyses' from '/Users/kcarnold/code/textrec/src/textrec/automated_analyses.py'>)"
      ]
     },
     "execution_count": 3,
     "metadata": {},
     "output_type": "execute_result"
    }
   ],
   "source": [
    "from textrec.paths import paths\n",
    "from textrec import analysis_util, util, notebook_util, automated_analyses\n",
    "reload(analysis_util), reload(util), reload(notebook_util), reload(automated_analyses)"
   ]
  },
  {
   "cell_type": "code",
   "execution_count": 4,
   "metadata": {},
   "outputs": [],
   "source": [
    "from textrec.notebook_util import images, id2img, id2url, show_images"
   ]
  },
  {
   "cell_type": "code",
   "execution_count": 5,
   "metadata": {},
   "outputs": [],
   "source": [
    "# HTML(show_images([images_by_split['val'][0]['cocoid']]))"
   ]
  },
  {
   "cell_type": "code",
   "execution_count": 6,
   "metadata": {},
   "outputs": [],
   "source": [
    "%matplotlib inline"
   ]
  },
  {
   "cell_type": "markdown",
   "metadata": {},
   "source": [
    "## Load results of writing experiment"
   ]
  },
  {
   "cell_type": "code",
   "execution_count": 7,
   "metadata": {},
   "outputs": [],
   "source": [
    "%run -m textrec.batch_analysis"
   ]
  },
  {
   "cell_type": "code",
   "execution_count": 8,
   "metadata": {},
   "outputs": [
    {
     "data": {
      "text/plain": [
       "dict_keys(['2018-04-09', '2018-04-24', '2018-04-27', '2018-05-02-invalid', '2018-05-02-old', '2018-05-02', '2018-06-07-gcap', 'gc1'])"
      ]
     },
     "execution_count": 8,
     "metadata": {},
     "output_type": "execute_result"
    }
   ],
   "source": [
    "participants = get_participants_by_batch()\n",
    "participants.keys()"
   ]
  },
  {
   "cell_type": "code",
   "execution_count": 9,
   "metadata": {},
   "outputs": [],
   "source": [
    "#batch = '2018-06-07-gcap'\n",
    "batch = 'gc1'"
   ]
  },
  {
   "cell_type": "code",
   "execution_count": 10,
   "metadata": {},
   "outputs": [
    {
     "data": {
      "text/plain": [
       "3"
      ]
     },
     "execution_count": 10,
     "metadata": {},
     "output_type": "execute_result"
    }
   ],
   "source": [
    "len(participants[batch])"
   ]
  },
  {
   "cell_type": "code",
   "execution_count": 12,
   "metadata": {},
   "outputs": [
    {
     "name": "stdout",
     "output_type": "stream",
     "text": [
      "\n",
      "x9m97g\n",
      "________________________________________________________________________________\n",
      "[Memory] Calling textrec.analysis_util.get_log_analysis_raw...\n",
      "get_log_analysis_raw('/Users/kcarnold/code/textrec/logs/x9m97g.jsonl', 1416884, git_rev='f57aaec', analysis_files={ 'analyze.js': '76f95f2156828639ea7c756411b37a4e03cdd403',\n",
      "  'run-analysis': '11083c5f51c5c469297e930142323920f09fe548',\n",
      "  'src/Analyzer.js': '6e3b1f25e82dfb711f502dafff2bf75855bb32a3'})\n",
      "_____________________________________________get_log_analysis_raw - 3.4s, 0.1min\n",
      "practice-0:gated:a black cat napping on a sunny unpainted wood bench in front of a red wall \n",
      "final-0-0:gated:a wine glass filled partially is on a table with a striped cat close next to the glass. \n",
      "final-0-1:gated:there is a stand up shower stall with dirty glass and a tan towel hanging outside of it. \n",
      "final-0-2:gated:a basic public restroom with a toilet and a sink. \n",
      "final-0-3:gated:newlywed husband and wife cut their wedding cake with help of a photographer. \n",
      "practice-1:always:a man with black hair and glasses placing a large turkey into an upper oven \n",
      "final-1-0:always:six kites flying together up in the blue sky \n",
      "final-1-1:always:a train pulls into a train station in town next to a white and blue building \n",
      "final-1-2:always:a double decker bus is in the middle lane of traffic in a cityscape area \n",
      "final-1-3:always:a fit tennis player swings his racket at the tennis ball approaching him \n",
      "practice-2:norecs:a black and red vehicle with bikes on top and people standing nearby with umbrellas. \n",
      "final-2-0:norecs:a surfer catches a small wave in the aquamarine ocean\n",
      "final-2-1:norecs:a corner desk in an office room has both a laptop and a desktop computer set up with a shelf next to it on the wall for paper and file storage. \n",
      "final-2-2:norecs:a batter completes his swing after hitting the baseball with the catcher ready for any incoming balls that come his way as his teammmates in the dugout watch\n",
      "final-2-3:norecs:a penguin is in focus with a blurry background. \n",
      "\n",
      "intro-use_predictive: Rarely\n",
      "postTask-0-techDiff: No\n",
      "postTask-0-other: No\n",
      "postTask-1-techDiff: No\n",
      "postTask-1-other: No\n",
      "postTask-2-techDiff: No\n",
      "postTask-2-other: No\n",
      "postExp-helpfulRank-specific-most: Keyboard Design 2\n",
      "postExp-helpfulRank-specific-least: Keyboard Design 3\n",
      "postExp-helpfulRank-accurate-most: Keyboard Design 2\n",
      "postExp-helpfulRank-accurate-least: Keyboard Design 3\n",
      "postExp-helpfulRank-quick-most: Keyboard Design 2\n",
      "postExp-helpfulRank-quick-least: Keyboard Design 1\n",
      "postExp-verbalized_during: No\n",
      "postExp-age: 30\n",
      "postExp-gender: Female\n",
      "postExp-english_proficiency: Native or bilingual\n",
      "postExp-techDiff: No\n",
      "postExp-other: I enjoyed the experience\n",
      "\n",
      "Total time: 21.0m\n",
      "ExperimentScreen: 840.7\n",
      "PostTaskSurvey: 142.0\n",
      "PostExpSurvey: 70.6\n",
      "TaskDescription: 63.9\n",
      "Welcome: 55.3\n",
      "PostPractice: 32.7\n",
      "IntroSurvey: 28.9\n",
      "StudyDesc: 19.4\n",
      "Instructions: 4.5\n",
      "\n",
      "h6c27m\n",
      "________________________________________________________________________________\n",
      "[Memory] Calling textrec.analysis_util.get_log_analysis_raw...\n",
      "get_log_analysis_raw('/Users/kcarnold/code/textrec/logs/h6c27m.jsonl', 1167057, git_rev='f57aaec', analysis_files={ 'analyze.js': '76f95f2156828639ea7c756411b37a4e03cdd403',\n",
      "  'run-analysis': '11083c5f51c5c469297e930142323920f09fe548',\n",
      "  'src/Analyzer.js': '6e3b1f25e82dfb711f502dafff2bf75855bb32a3'})\n",
      "_____________________________________________get_log_analysis_raw - 2.6s, 0.0min\n",
      "practice-0:norecs:a black cat napping on a sunny unpainted wood bench in front of a red wall\n",
      "final-0-0:norecs:a yellow eyed tabby cat sits on a placemat on the table and looks past a wine glass containing red wine\n",
      "final-0-1:norecs:a red bath scrubber can be seen through a glass shower door that has a beige towel hanging on an attached towel bar. \n",
      "final-0-2:norecs:a white commode and sink share a wall with a mirror that reflects a second commode. \n",
      "final-0-3:norecs:a newly married couple cut the cake with assistance of a camera woman. \n",
      "practice-1:always:a man with black hair and glasses placing a large turkey into an upper oven \n",
      "final-1-0:always:a man and two children prepare to launch a kite on a beach while others are also flying kites. \n",
      "final-1-1:always:a train moves along tracks past white and blue buildings\n",
      "final-1-2:always:a red double-decker bus drives down a street between tall buildings and crowded streets \n",
      "final-1-3:always:a tennis player swings his racket to hit a tennis ball on a green surface with writing on it \n",
      "practice-2:gated:a black and red vehicle with bikes on top and people standing nearby with umbrellas. \n",
      "final-2-0:gated:a surfer dressed in white and black rides a board on a greenish wave that is breaking behind him \n",
      "final-2-1:gated:a laptop and an apple computer sit on a desk near a window and bellow a wall shelf \n",
      "final-2-2:gated:a baseball player swings the bat with other players looking on while the catcher holds his glove in readiness \n",
      "final-2-3:gated:a bird with black and white colors on its head and throat and a yellow chest and belly sits on a branch \n",
      "\n",
      "intro-use_predictive: Often\n",
      "postTask-0-techDiff: No\n",
      "postTask-1-techDiff: No\n",
      "postTask-2-techDiff: No\n",
      "postExp-helpfulRank-specific-most: Keyboard Design 2\n",
      "postExp-helpfulRank-specific-least: Keyboard Design 1\n",
      "postExp-helpfulRank-accurate-most: Keyboard Design 2\n",
      "postExp-helpfulRank-accurate-least: Keyboard Design 1\n",
      "postExp-helpfulRank-quick-most: Keyboard Design 2\n",
      "postExp-helpfulRank-quick-least: Keyboard Design 1\n",
      "postExp-verbalized_during: No\n",
      "postExp-age: 47\n",
      "postExp-gender: Female \n",
      "postExp-english_proficiency: Native or bilingual\n",
      "postExp-techDiff: No\n",
      "\n",
      "Total time: 27.5m\n",
      "ExperimentScreen: 1084.2\n",
      "PostTaskSurvey: 182.4\n",
      "PostExpSurvey: 113.1\n",
      "TaskDescription: 92.0\n",
      "Welcome: 84.9\n",
      "IntroSurvey: 45.0\n",
      "StudyDesc: 31.7\n",
      "PostPractice: 10.3\n",
      "Instructions: 5.0\n",
      "\n",
      "48mr5g\n",
      "________________________________________________________________________________\n",
      "[Memory] Calling textrec.analysis_util.get_log_analysis_raw...\n",
      "get_log_analysis_raw('/Users/kcarnold/code/textrec/logs/48mr5g.jsonl', 1694639, git_rev='f57aaec', analysis_files={ 'analyze.js': '76f95f2156828639ea7c756411b37a4e03cdd403',\n",
      "  'run-analysis': '11083c5f51c5c469297e930142323920f09fe548',\n",
      "  'src/Analyzer.js': '6e3b1f25e82dfb711f502dafff2bf75855bb32a3'})\n",
      "_____________________________________________get_log_analysis_raw - 2.7s, 0.0min\n",
      "practice-0:norecs:a black cat napping on a sunny unpainted wood bench in front of a red wall\n",
      "final-0-0:norecs:a cat looking intrugued by someone taking a picture behind a glass woth red wine in it. \n",
      "final-0-1:norecs:a stabdung shower with the doors shut and you can see colorful loofas through the foggy door\n",
      "final-0-2:norecs:a public bathroom that has everything nicr and neat in place and looks recently cleaned\n",
      "final-0-3:norecs:a black and white photo of a woman at her wedding slicing into a peice of cake with someone in a camera helping\n",
      "practice-1:gated:a man with black hair and glasses placing a large turkey into an upper oven\n",
      "final-1-0:gated:a day by the water with twi kids and a man trying to fly kites with other kites being up in the background already\n",
      "final-1-1:gated:a railroad track with a train coming into the light blue and white train station\n",
      "final-1-2:gated:a double decker bus drives though a town of medium sized white buildings with a bunch of people walking outside\n",
      "final-1-3:gated:a guy in wa white shirt and brown shorts in trying to hit a tennis ball with a tennis racket \n",
      "practice-2:always:a black and red vehicle with bikes on top and people standing nearby with umbrellas. \n",
      "final-2-0:always:a guy in a white top blacl bottom wet suit rides a small wave on his brown surf board\n",
      "final-2-1:always:a silver laptop wirh a green vehicle on the screen next to an apple computer thats also turned on\n",
      "final-2-2:always:a baseball player with a nlack shurt with red eight on it swinging his bat at a ball\n",
      "final-2-3:always:a small bird with a black head and bead and wjite neck with white and brown on his belly sit on a tree branch\n",
      "\n",
      "intro-use_predictive: Rarely\n",
      "postTask-0-techDiff: No\n",
      "postTask-0-other: No\n",
      "postTask-1-techDiff: No\n",
      "postTask-1-other: No\n",
      "postTask-2-techDiff: No\n",
      "postTask-2-other: No\n",
      "postExp-helpfulRank-specific-most: Keyboard Design 2\n",
      "postExp-helpfulRank-specific-least: Keyboard Design 1\n",
      "postExp-helpfulRank-accurate-most: Keyboard Design 2\n",
      "postExp-helpfulRank-accurate-least: Keyboard Design 1\n",
      "postExp-helpfulRank-quick-most: Keyboard Design 2\n",
      "postExp-helpfulRank-quick-least: Keyboard Design 1\n",
      "postExp-verbalized_during: No\n",
      "postExp-age: 26\n",
      "postExp-gender: Female\n",
      "postExp-english_proficiency: Native or bilingual\n",
      "postExp-techDiff: No\n",
      "postExp-other: It went well\n",
      "\n",
      "Total time: 22.4m\n",
      "ExperimentScreen: 749.5\n",
      "PostTaskSurvey: 186.2\n",
      "PostExpSurvey: 130.8\n",
      "TaskDescription: 107.9\n",
      "IntroSurvey: 82.5\n",
      "Welcome: 39.2\n",
      "StudyDesc: 34.4\n",
      "PostPractice: 10.3\n",
      "Instructions: 5.8\n"
     ]
    }
   ],
   "source": [
    "try:\n",
    "    summarize(participants[batch])\n",
    "except Exception as e:\n",
    "    print(e.message)"
   ]
  },
  {
   "cell_type": "code",
   "execution_count": 13,
   "metadata": {},
   "outputs": [
    {
     "name": "stdout",
     "output_type": "stream",
     "text": [
      "________________________________________________________________________________\n",
      "[Memory] Calling textrec.automated_analyses.eval_logprobs_conditional...\n",
      "eval_logprobs_conditional(275449, ('a wine glass filled partially is on a table with a striped cat close next to '\n",
      " 'the glass.'))\n",
      "________________________________________eval_logprobs_conditional - 0.6s, 0.0min\n",
      "________________________________________________________________________________\n",
      "[Memory] Calling textrec.automated_analyses.eval_logprobs_unconditional...\n",
      "eval_logprobs_unconditional(('a wine glass filled partially is on a table with a striped cat close next to '\n",
      " 'the glass.'))\n",
      "______________________________________eval_logprobs_unconditional - 0.2s, 0.0min\n",
      "________________________________________________________________________________\n",
      "[Memory] Calling textrec.automated_analyses.eval_logprobs_conditional...\n",
      "eval_logprobs_conditional(396295, ('there is a stand up shower stall with dirty glass and a tan towel hanging '\n",
      " 'outside of it.'))\n",
      "________________________________________eval_logprobs_conditional - 0.3s, 0.0min\n",
      "________________________________________________________________________________\n",
      "[Memory] Calling textrec.automated_analyses.eval_logprobs_unconditional...\n",
      "eval_logprobs_unconditional(('there is a stand up shower stall with dirty glass and a tan towel hanging '\n",
      " 'outside of it.'))\n",
      "______________________________________eval_logprobs_unconditional - 0.2s, 0.0min\n",
      "________________________________________________________________________________\n",
      "[Memory] Calling textrec.automated_analyses.eval_logprobs_conditional...\n",
      "eval_logprobs_conditional(431140, 'a basic public restroom with a toilet and a sink.')\n",
      "________________________________________eval_logprobs_conditional - 0.2s, 0.0min\n",
      "________________________________________________________________________________\n",
      "[Memory] Calling textrec.automated_analyses.eval_logprobs_unconditional...\n",
      "eval_logprobs_unconditional('a basic public restroom with a toilet and a sink.')\n",
      "______________________________________eval_logprobs_unconditional - 0.1s, 0.0min\n",
      "________________________________________________________________________________\n",
      "[Memory] Calling textrec.automated_analyses.eval_logprobs_conditional...\n",
      "eval_logprobs_conditional(227326, 'newlywed husband and wife cut their wedding cake with help of a photographer.')\n",
      "________________________________________eval_logprobs_conditional - 0.2s, 0.0min\n",
      "________________________________________________________________________________\n",
      "[Memory] Calling textrec.automated_analyses.eval_logprobs_unconditional...\n",
      "eval_logprobs_unconditional('newlywed husband and wife cut their wedding cake with help of a photographer.')\n",
      "______________________________________eval_logprobs_unconditional - 0.2s, 0.0min\n",
      "________________________________________________________________________________\n",
      "[Memory] Calling textrec.automated_analyses.eval_logprobs_conditional...\n",
      "eval_logprobs_conditional(200451, 'six kites flying together up in the blue sky')\n",
      "________________________________________eval_logprobs_conditional - 0.1s, 0.0min\n",
      "________________________________________________________________________________\n",
      "[Memory] Calling textrec.automated_analyses.eval_logprobs_unconditional...\n",
      "eval_logprobs_unconditional('six kites flying together up in the blue sky')\n",
      "______________________________________eval_logprobs_unconditional - 0.1s, 0.0min\n",
      "________________________________________________________________________________\n",
      "[Memory] Calling textrec.automated_analyses.eval_logprobs_conditional...\n",
      "eval_logprobs_conditional(223777, 'a train pulls into a train station in town next to a white and blue building')\n",
      "________________________________________eval_logprobs_conditional - 0.2s, 0.0min\n",
      "________________________________________________________________________________\n",
      "[Memory] Calling textrec.automated_analyses.eval_logprobs_unconditional...\n",
      "eval_logprobs_unconditional('a train pulls into a train station in town next to a white and blue building')\n",
      "______________________________________eval_logprobs_unconditional - 0.2s, 0.0min\n",
      "________________________________________________________________________________\n",
      "[Memory] Calling textrec.automated_analyses.eval_logprobs_conditional...\n",
      "eval_logprobs_conditional(247576, 'a double decker bus is in the middle lane of traffic in a cityscape area')\n",
      "________________________________________eval_logprobs_conditional - 0.2s, 0.0min\n",
      "________________________________________________________________________________\n",
      "[Memory] Calling textrec.automated_analyses.eval_logprobs_unconditional...\n",
      "eval_logprobs_unconditional('a double decker bus is in the middle lane of traffic in a cityscape area')\n",
      "______________________________________eval_logprobs_unconditional - 0.2s, 0.0min\n",
      "________________________________________________________________________________\n",
      "[Memory] Calling textrec.automated_analyses.eval_logprobs_conditional...\n",
      "eval_logprobs_conditional(71815, 'a fit tennis player swings his racket at the tennis ball approaching him')\n",
      "________________________________________eval_logprobs_conditional - 0.2s, 0.0min\n",
      "________________________________________________________________________________\n",
      "[Memory] Calling textrec.automated_analyses.eval_logprobs_unconditional...\n",
      "eval_logprobs_unconditional('a fit tennis player swings his racket at the tennis ball approaching him')\n",
      "______________________________________eval_logprobs_unconditional - 0.2s, 0.0min\n",
      "________________________________________________________________________________\n",
      "[Memory] Calling textrec.automated_analyses.eval_logprobs_conditional...\n",
      "eval_logprobs_conditional(240275, 'a surfer catches a small wave in the aquamarine ocean')\n",
      "________________________________________eval_logprobs_conditional - 0.1s, 0.0min\n",
      "________________________________________________________________________________\n",
      "[Memory] Calling textrec.automated_analyses.eval_logprobs_unconditional...\n",
      "eval_logprobs_unconditional('a surfer catches a small wave in the aquamarine ocean')\n",
      "______________________________________eval_logprobs_unconditional - 0.1s, 0.0min\n",
      "________________________________________________________________________________\n",
      "[Memory] Calling textrec.automated_analyses.eval_logprobs_conditional...\n",
      "eval_logprobs_conditional(527375, ('a corner desk in an office room has both a laptop and a desktop computer set '\n",
      " 'up with a shelf next to it on the wall for paper and file storage.'))\n",
      "________________________________________eval_logprobs_conditional - 0.4s, 0.0min\n",
      "________________________________________________________________________________\n",
      "[Memory] Calling textrec.automated_analyses.eval_logprobs_unconditional...\n",
      "eval_logprobs_unconditional(('a corner desk in an office room has both a laptop and a desktop computer set '\n",
      " 'up with a shelf next to it on the wall for paper and file storage.'))\n",
      "______________________________________eval_logprobs_unconditional - 0.3s, 0.0min\n",
      "________________________________________________________________________________\n",
      "[Memory] Calling textrec.automated_analyses.eval_logprobs_conditional...\n",
      "eval_logprobs_conditional(236272, ('a batter completes his swing after hitting the baseball with the catcher '\n",
      " 'ready for any incoming balls that come his way as his teammmates in the '\n",
      " 'dugout watch'))\n",
      "________________________________________eval_logprobs_conditional - 0.3s, 0.0min\n",
      "________________________________________________________________________________\n",
      "[Memory] Calling textrec.automated_analyses.eval_logprobs_unconditional...\n",
      "eval_logprobs_unconditional(('a batter completes his swing after hitting the baseball with the catcher '\n",
      " 'ready for any incoming balls that come his way as his teammmates in the '\n",
      " 'dugout watch'))\n",
      "______________________________________eval_logprobs_unconditional - 0.3s, 0.0min\n",
      "________________________________________________________________________________\n",
      "[Memory] Calling textrec.automated_analyses.eval_logprobs_conditional...\n",
      "eval_logprobs_conditional(280480, 'a penguin is in focus with a blurry background.')\n",
      "________________________________________eval_logprobs_conditional - 0.1s, 0.0min\n",
      "________________________________________________________________________________\n",
      "[Memory] Calling textrec.automated_analyses.eval_logprobs_unconditional...\n",
      "eval_logprobs_unconditional('a penguin is in focus with a blurry background.')\n"
     ]
    },
    {
     "name": "stdout",
     "output_type": "stream",
     "text": [
      "______________________________________eval_logprobs_unconditional - 0.1s, 0.0min\n",
      "________________________________________________________________________________\n",
      "[Memory] Calling textrec.automated_analyses.eval_logprobs_conditional...\n",
      "eval_logprobs_conditional(275449, ('a yellow eyed tabby cat sits on a placemat on the table and looks past a '\n",
      " 'wine glass containing red wine'))\n",
      "________________________________________eval_logprobs_conditional - 0.3s, 0.0min\n",
      "________________________________________________________________________________\n",
      "[Memory] Calling textrec.automated_analyses.eval_logprobs_unconditional...\n",
      "eval_logprobs_unconditional(('a yellow eyed tabby cat sits on a placemat on the table and looks past a '\n",
      " 'wine glass containing red wine'))\n",
      "______________________________________eval_logprobs_unconditional - 0.3s, 0.0min\n",
      "________________________________________________________________________________\n",
      "[Memory] Calling textrec.automated_analyses.eval_logprobs_conditional...\n",
      "eval_logprobs_conditional(396295, ('a red bath scrubber can be seen through a glass shower door that has a beige '\n",
      " 'towel hanging on an attached towel bar.'))\n",
      "________________________________________eval_logprobs_conditional - 0.3s, 0.0min\n",
      "________________________________________________________________________________\n",
      "[Memory] Calling textrec.automated_analyses.eval_logprobs_unconditional...\n",
      "eval_logprobs_unconditional(('a red bath scrubber can be seen through a glass shower door that has a beige '\n",
      " 'towel hanging on an attached towel bar.'))\n",
      "______________________________________eval_logprobs_unconditional - 0.3s, 0.0min\n",
      "________________________________________________________________________________\n",
      "[Memory] Calling textrec.automated_analyses.eval_logprobs_conditional...\n",
      "eval_logprobs_conditional(431140, ('a white commode and sink share a wall with a mirror that reflects a second '\n",
      " 'commode.'))\n",
      "________________________________________eval_logprobs_conditional - 0.2s, 0.0min\n",
      "________________________________________________________________________________\n",
      "[Memory] Calling textrec.automated_analyses.eval_logprobs_unconditional...\n",
      "eval_logprobs_unconditional(('a white commode and sink share a wall with a mirror that reflects a second '\n",
      " 'commode.'))\n",
      "______________________________________eval_logprobs_unconditional - 0.2s, 0.0min\n",
      "________________________________________________________________________________\n",
      "[Memory] Calling textrec.automated_analyses.eval_logprobs_conditional...\n",
      "eval_logprobs_conditional(227326, 'a newly married couple cut the cake with assistance of a camera woman.')\n",
      "________________________________________eval_logprobs_conditional - 0.2s, 0.0min\n",
      "________________________________________________________________________________\n",
      "[Memory] Calling textrec.automated_analyses.eval_logprobs_unconditional...\n",
      "eval_logprobs_unconditional('a newly married couple cut the cake with assistance of a camera woman.')\n",
      "______________________________________eval_logprobs_unconditional - 0.2s, 0.0min\n",
      "________________________________________________________________________________\n",
      "[Memory] Calling textrec.automated_analyses.eval_logprobs_conditional...\n",
      "eval_logprobs_conditional(200451, ('a man and two children prepare to launch a kite on a beach while others are '\n",
      " 'also flying kites.'))\n",
      "________________________________________eval_logprobs_conditional - 0.2s, 0.0min\n",
      "________________________________________________________________________________\n",
      "[Memory] Calling textrec.automated_analyses.eval_logprobs_unconditional...\n",
      "eval_logprobs_unconditional(('a man and two children prepare to launch a kite on a beach while others are '\n",
      " 'also flying kites.'))\n",
      "______________________________________eval_logprobs_unconditional - 0.2s, 0.0min\n",
      "________________________________________________________________________________\n",
      "[Memory] Calling textrec.automated_analyses.eval_logprobs_conditional...\n",
      "eval_logprobs_conditional(223777, 'a train moves along tracks past white and blue buildings')\n",
      "________________________________________eval_logprobs_conditional - 0.1s, 0.0min\n",
      "________________________________________________________________________________\n",
      "[Memory] Calling textrec.automated_analyses.eval_logprobs_unconditional...\n",
      "eval_logprobs_unconditional('a train moves along tracks past white and blue buildings')\n",
      "______________________________________eval_logprobs_unconditional - 0.1s, 0.0min\n",
      "________________________________________________________________________________\n",
      "[Memory] Calling textrec.automated_analyses.eval_logprobs_conditional...\n",
      "eval_logprobs_conditional(247576, ('a red double-decker bus drives down a street between tall buildings and '\n",
      " 'crowded streets'))\n",
      "________________________________________eval_logprobs_conditional - 0.2s, 0.0min\n",
      "________________________________________________________________________________\n",
      "[Memory] Calling textrec.automated_analyses.eval_logprobs_unconditional...\n",
      "eval_logprobs_unconditional(('a red double-decker bus drives down a street between tall buildings and '\n",
      " 'crowded streets'))\n",
      "______________________________________eval_logprobs_unconditional - 0.2s, 0.0min\n",
      "________________________________________________________________________________\n",
      "[Memory] Calling textrec.automated_analyses.eval_logprobs_conditional...\n",
      "eval_logprobs_conditional(71815, ('a tennis player swings his racket to hit a tennis ball on a green surface '\n",
      " 'with writing on it'))\n",
      "________________________________________eval_logprobs_conditional - 0.2s, 0.0min\n",
      "________________________________________________________________________________\n",
      "[Memory] Calling textrec.automated_analyses.eval_logprobs_unconditional...\n",
      "eval_logprobs_unconditional(('a tennis player swings his racket to hit a tennis ball on a green surface '\n",
      " 'with writing on it'))\n",
      "______________________________________eval_logprobs_unconditional - 0.2s, 0.0min\n",
      "________________________________________________________________________________\n",
      "[Memory] Calling textrec.automated_analyses.eval_logprobs_conditional...\n",
      "eval_logprobs_conditional(240275, ('a surfer dressed in white and black rides a board on a greenish wave that is '\n",
      " 'breaking behind him'))\n",
      "________________________________________eval_logprobs_conditional - 0.2s, 0.0min\n",
      "________________________________________________________________________________\n",
      "[Memory] Calling textrec.automated_analyses.eval_logprobs_unconditional...\n",
      "eval_logprobs_unconditional(('a surfer dressed in white and black rides a board on a greenish wave that is '\n",
      " 'breaking behind him'))\n",
      "______________________________________eval_logprobs_unconditional - 0.2s, 0.0min\n",
      "________________________________________________________________________________\n",
      "[Memory] Calling textrec.automated_analyses.eval_logprobs_conditional...\n",
      "eval_logprobs_conditional(527375, ('a laptop and an apple computer sit on a desk near a window and bellow a wall '\n",
      " 'shelf'))\n",
      "________________________________________eval_logprobs_conditional - 0.2s, 0.0min\n",
      "________________________________________________________________________________\n",
      "[Memory] Calling textrec.automated_analyses.eval_logprobs_unconditional...\n",
      "eval_logprobs_unconditional(('a laptop and an apple computer sit on a desk near a window and bellow a wall '\n",
      " 'shelf'))\n",
      "______________________________________eval_logprobs_unconditional - 0.2s, 0.0min\n",
      "________________________________________________________________________________\n",
      "[Memory] Calling textrec.automated_analyses.eval_logprobs_conditional...\n",
      "eval_logprobs_conditional(236272, ('a baseball player swings the bat with other players looking on while the '\n",
      " 'catcher holds his glove in readiness'))\n",
      "________________________________________eval_logprobs_conditional - 0.2s, 0.0min\n",
      "________________________________________________________________________________\n",
      "[Memory] Calling textrec.automated_analyses.eval_logprobs_unconditional...\n",
      "eval_logprobs_unconditional(('a baseball player swings the bat with other players looking on while the '\n",
      " 'catcher holds his glove in readiness'))\n",
      "______________________________________eval_logprobs_unconditional - 0.2s, 0.0min\n",
      "________________________________________________________________________________\n",
      "[Memory] Calling textrec.automated_analyses.eval_logprobs_conditional...\n",
      "eval_logprobs_conditional(280480, ('a bird with black and white colors on its head and throat and a yellow chest '\n",
      " 'and belly sits on a branch'))\n"
     ]
    },
    {
     "name": "stdout",
     "output_type": "stream",
     "text": [
      "________________________________________eval_logprobs_conditional - 0.3s, 0.0min\n",
      "________________________________________________________________________________\n",
      "[Memory] Calling textrec.automated_analyses.eval_logprobs_unconditional...\n",
      "eval_logprobs_unconditional(('a bird with black and white colors on its head and throat and a yellow chest '\n",
      " 'and belly sits on a branch'))\n",
      "______________________________________eval_logprobs_unconditional - 0.3s, 0.0min\n",
      "________________________________________________________________________________\n",
      "[Memory] Calling textrec.automated_analyses.eval_logprobs_conditional...\n",
      "eval_logprobs_conditional(275449, ('a cat looking intrugued by someone taking a picture behind a glass woth red '\n",
      " 'wine in it.'))\n",
      "________________________________________eval_logprobs_conditional - 0.2s, 0.0min\n",
      "________________________________________________________________________________\n",
      "[Memory] Calling textrec.automated_analyses.eval_logprobs_unconditional...\n",
      "eval_logprobs_unconditional(('a cat looking intrugued by someone taking a picture behind a glass woth red '\n",
      " 'wine in it.'))\n",
      "______________________________________eval_logprobs_unconditional - 0.2s, 0.0min\n",
      "________________________________________________________________________________\n",
      "[Memory] Calling textrec.automated_analyses.eval_logprobs_conditional...\n",
      "eval_logprobs_conditional(396295, ('a stabdung shower with the doors shut and you can see colorful loofas '\n",
      " 'through the foggy door'))\n",
      "________________________________________eval_logprobs_conditional - 0.2s, 0.0min\n",
      "________________________________________________________________________________\n",
      "[Memory] Calling textrec.automated_analyses.eval_logprobs_unconditional...\n",
      "eval_logprobs_unconditional(('a stabdung shower with the doors shut and you can see colorful loofas '\n",
      " 'through the foggy door'))\n",
      "______________________________________eval_logprobs_unconditional - 0.2s, 0.0min\n",
      "________________________________________________________________________________\n",
      "[Memory] Calling textrec.automated_analyses.eval_logprobs_conditional...\n",
      "eval_logprobs_conditional(431140, ('a public bathroom that has everything nicr and neat in place and looks '\n",
      " 'recently cleaned'))\n",
      "________________________________________eval_logprobs_conditional - 0.2s, 0.0min\n",
      "________________________________________________________________________________\n",
      "[Memory] Calling textrec.automated_analyses.eval_logprobs_unconditional...\n",
      "eval_logprobs_unconditional(('a public bathroom that has everything nicr and neat in place and looks '\n",
      " 'recently cleaned'))\n",
      "______________________________________eval_logprobs_unconditional - 0.2s, 0.0min\n",
      "________________________________________________________________________________\n",
      "[Memory] Calling textrec.automated_analyses.eval_logprobs_conditional...\n",
      "eval_logprobs_conditional(227326, ('a black and white photo of a woman at her wedding slicing into a peice of '\n",
      " 'cake with someone in a camera helping'))\n",
      "________________________________________eval_logprobs_conditional - 0.3s, 0.0min\n",
      "________________________________________________________________________________\n",
      "[Memory] Calling textrec.automated_analyses.eval_logprobs_unconditional...\n",
      "eval_logprobs_unconditional(('a black and white photo of a woman at her wedding slicing into a peice of '\n",
      " 'cake with someone in a camera helping'))\n",
      "______________________________________eval_logprobs_unconditional - 0.3s, 0.0min\n",
      "________________________________________________________________________________\n",
      "[Memory] Calling textrec.automated_analyses.eval_logprobs_conditional...\n",
      "eval_logprobs_conditional(200451, ('a day by the water with twi kids and a man trying to fly kites with other '\n",
      " 'kites being up in the background already'))\n",
      "________________________________________eval_logprobs_conditional - 0.3s, 0.0min\n",
      "________________________________________________________________________________\n",
      "[Memory] Calling textrec.automated_analyses.eval_logprobs_unconditional...\n",
      "eval_logprobs_unconditional(('a day by the water with twi kids and a man trying to fly kites with other '\n",
      " 'kites being up in the background already'))\n",
      "______________________________________eval_logprobs_unconditional - 0.3s, 0.0min\n",
      "________________________________________________________________________________\n",
      "[Memory] Calling textrec.automated_analyses.eval_logprobs_conditional...\n",
      "eval_logprobs_conditional(223777, ('a railroad track with a train coming into the light blue and white train '\n",
      " 'station'))\n",
      "________________________________________eval_logprobs_conditional - 0.2s, 0.0min\n",
      "________________________________________________________________________________\n",
      "[Memory] Calling textrec.automated_analyses.eval_logprobs_unconditional...\n",
      "eval_logprobs_unconditional(('a railroad track with a train coming into the light blue and white train '\n",
      " 'station'))\n",
      "______________________________________eval_logprobs_unconditional - 0.2s, 0.0min\n",
      "________________________________________________________________________________\n",
      "[Memory] Calling textrec.automated_analyses.eval_logprobs_conditional...\n",
      "eval_logprobs_conditional(247576, ('a double decker bus drives though a town of medium sized white buildings '\n",
      " 'with a bunch of people walking outside'))\n",
      "________________________________________eval_logprobs_conditional - 0.2s, 0.0min\n",
      "________________________________________________________________________________\n",
      "[Memory] Calling textrec.automated_analyses.eval_logprobs_unconditional...\n",
      "eval_logprobs_unconditional(('a double decker bus drives though a town of medium sized white buildings '\n",
      " 'with a bunch of people walking outside'))\n",
      "______________________________________eval_logprobs_unconditional - 0.2s, 0.0min\n",
      "________________________________________________________________________________\n",
      "[Memory] Calling textrec.automated_analyses.eval_logprobs_conditional...\n",
      "eval_logprobs_conditional(71815, ('a guy in wa white shirt and brown shorts in trying to hit a tennis ball with '\n",
      " 'a tennis racket'))\n",
      "________________________________________eval_logprobs_conditional - 0.2s, 0.0min\n",
      "________________________________________________________________________________\n",
      "[Memory] Calling textrec.automated_analyses.eval_logprobs_unconditional...\n",
      "eval_logprobs_unconditional(('a guy in wa white shirt and brown shorts in trying to hit a tennis ball with '\n",
      " 'a tennis racket'))\n",
      "______________________________________eval_logprobs_unconditional - 0.2s, 0.0min\n",
      "________________________________________________________________________________\n",
      "[Memory] Calling textrec.automated_analyses.eval_logprobs_conditional...\n",
      "eval_logprobs_conditional(240275, ('a guy in a white top blacl bottom wet suit rides a small wave on his brown '\n",
      " 'surf board'))\n",
      "________________________________________eval_logprobs_conditional - 0.2s, 0.0min\n",
      "________________________________________________________________________________\n",
      "[Memory] Calling textrec.automated_analyses.eval_logprobs_unconditional...\n",
      "eval_logprobs_unconditional(('a guy in a white top blacl bottom wet suit rides a small wave on his brown '\n",
      " 'surf board'))\n",
      "______________________________________eval_logprobs_unconditional - 0.2s, 0.0min\n",
      "________________________________________________________________________________\n",
      "[Memory] Calling textrec.automated_analyses.eval_logprobs_conditional...\n",
      "eval_logprobs_conditional(527375, ('a silver laptop wirh a green vehicle on the screen next to an apple computer '\n",
      " 'thats also turned on'))\n",
      "________________________________________eval_logprobs_conditional - 0.2s, 0.0min\n",
      "________________________________________________________________________________\n",
      "[Memory] Calling textrec.automated_analyses.eval_logprobs_unconditional...\n",
      "eval_logprobs_unconditional(('a silver laptop wirh a green vehicle on the screen next to an apple computer '\n",
      " 'thats also turned on'))\n",
      "______________________________________eval_logprobs_unconditional - 0.2s, 0.0min\n",
      "________________________________________________________________________________\n",
      "[Memory] Calling textrec.automated_analyses.eval_logprobs_conditional...\n",
      "eval_logprobs_conditional(236272, ('a baseball player with a nlack shurt with red eight on it swinging his bat '\n",
      " 'at a ball'))\n",
      "________________________________________eval_logprobs_conditional - 0.2s, 0.0min\n",
      "________________________________________________________________________________\n",
      "[Memory] Calling textrec.automated_analyses.eval_logprobs_unconditional...\n",
      "eval_logprobs_unconditional(('a baseball player with a nlack shurt with red eight on it swinging his bat '\n",
      " 'at a ball'))\n"
     ]
    },
    {
     "name": "stdout",
     "output_type": "stream",
     "text": [
      "______________________________________eval_logprobs_unconditional - 0.2s, 0.0min\n",
      "________________________________________________________________________________\n",
      "[Memory] Calling textrec.automated_analyses.eval_logprobs_conditional...\n",
      "eval_logprobs_conditional(280480, ('a small bird with a black head and bead and wjite neck with white and brown '\n",
      " 'on his belly sit on a tree branch'))\n",
      "________________________________________eval_logprobs_conditional - 0.3s, 0.0min\n",
      "________________________________________________________________________________\n",
      "[Memory] Calling textrec.automated_analyses.eval_logprobs_unconditional...\n",
      "eval_logprobs_unconditional(('a small bird with a black head and bead and wjite neck with white and brown '\n",
      " 'on his belly sit on a tree branch'))\n",
      "______________________________________eval_logprobs_unconditional - 0.3s, 0.0min\n",
      "Randomization counts\n",
      "norecs,gated,always    1\n",
      "norecs,always,gated    1\n",
      "gated,always,norecs    1\n",
      "Name: conditions, dtype: int64\n"
     ]
    }
   ],
   "source": [
    "import warnings\n",
    "\n",
    "with warnings.catch_warnings():\n",
    "    warnings.simplefilter('error')\n",
    "    analyses = analyze_all(participants[batch], traits='NFC Extraversion Openness Trust')"
   ]
  },
  {
   "cell_type": "code",
   "execution_count": 14,
   "metadata": {},
   "outputs": [],
   "source": [
    "globals().update(analyses)"
   ]
  },
  {
   "cell_type": "code",
   "execution_count": 15,
   "metadata": {},
   "outputs": [
    {
     "data": {
      "text/plain": [
       "<matplotlib.axes._subplots.AxesSubplot at 0x11c9c4a20>"
      ]
     },
     "execution_count": 15,
     "metadata": {},
     "output_type": "execute_result"
    },
    {
     "data": {
      "image/png": "[encoded data removed]",
      "text/plain": [
       "<matplotlib.figure.Figure at 0x11c9c4390>"
      ]
     },
     "metadata": {},
     "output_type": "display_data"
    }
   ],
   "source": [
    "experiment_level.total_time.hist()"
   ]
  },
  {
   "cell_type": "code",
   "execution_count": 16,
   "metadata": {},
   "outputs": [
    {
     "data": {
      "text/plain": [
       "count     3.000000\n",
       "mean     23.628983\n",
       "std       3.413155\n",
       "min      20.967217\n",
       "25%      21.704983\n",
       "50%      22.442750\n",
       "75%      24.959867\n",
       "max      27.476983\n",
       "Name: total_time, dtype: float64"
      ]
     },
     "execution_count": 16,
     "metadata": {},
     "output_type": "execute_result"
    }
   ],
   "source": [
    "experiment_level.total_time.describe()"
   ]
  },
  {
   "cell_type": "code",
   "execution_count": 17,
   "metadata": {},
   "outputs": [
    {
     "data": {
      "text/plain": [
       "count    36.000000\n",
       "mean     49.932333\n",
       "std      19.760730\n",
       "min      17.880000\n",
       "25%      35.577750\n",
       "50%      47.685500\n",
       "75%      62.431000\n",
       "max      91.896000\n",
       "Name: seconds_spent_typing, dtype: float64"
      ]
     },
     "execution_count": 17,
     "metadata": {},
     "output_type": "execute_result"
    }
   ],
   "source": [
    "(trial_level.seconds_spent_typing).describe()"
   ]
  },
  {
   "cell_type": "code",
   "execution_count": 18,
   "metadata": {},
   "outputs": [
    {
     "data": {
      "text/plain": [
       "<matplotlib.axes._subplots.AxesSubplot at 0x11c0b4128>"
      ]
     },
     "execution_count": 18,
     "metadata": {},
     "output_type": "execute_result"
    },
    {
     "data": {
      "image/png": "[encoded data removed]",
      "text/plain": [
       "<matplotlib.figure.Figure at 0x11c9c4438>"
      ]
     },
     "metadata": {},
     "output_type": "display_data"
    }
   ],
   "source": [
    "# Fraction of time spent actually typing\n",
    "((trial_level.groupby('participant').seconds_spent_typing.sum() / 60) / trial_level.groupby('participant').total_time.mean()).hist()"
   ]
  },
  {
   "cell_type": "code",
   "execution_count": 19,
   "metadata": {},
   "outputs": [],
   "source": [
    "for kind in 'experiment block trial'.split():\n",
    "    analyses[f'{kind}_level'].to_csv(f'data/analyzed/{kind}_{batch}.csv')"
   ]
  },
  {
   "cell_type": "code",
   "execution_count": 20,
   "metadata": {},
   "outputs": [],
   "source": [
    "import seaborn as sns"
   ]
  },
  {
   "cell_type": "code",
   "execution_count": 21,
   "metadata": {},
   "outputs": [
    {
     "data": {
      "text/plain": [
       "<matplotlib.axes._subplots.AxesSubplot at 0x159f81dd8>"
      ]
     },
     "execution_count": 21,
     "metadata": {},
     "output_type": "execute_result"
    },
    {
     "data": {
      "image/png": "[encoded data removed]",
      "text/plain": [
       "<matplotlib.figure.Figure at 0x159f8ed68>"
      ]
     },
     "metadata": {},
     "output_type": "display_data"
    }
   ],
   "source": [
    "sns.barplot(x='condition', y='TLX_sum', data=block_level, capsize=.2)"
   ]
  },
  {
   "cell_type": "code",
   "execution_count": 22,
   "metadata": {},
   "outputs": [
    {
     "data": {
      "text/plain": [
       "<matplotlib.axes._subplots.AxesSubplot at 0x159beb6d8>"
      ]
     },
     "execution_count": 22,
     "metadata": {},
     "output_type": "execute_result"
    },
    {
     "data": {
      "image/png": "[encoded data removed]",
      "text/plain": [
       "<matplotlib.figure.Figure at 0x11ae7e8d0>"
      ]
     },
     "metadata": {},
     "output_type": "display_data"
    }
   ],
   "source": [
    "sns.barplot(x='condition', y='text_len', data=trial_level, capsize=.2)"
   ]
  },
  {
   "cell_type": "code",
   "execution_count": 23,
   "metadata": {},
   "outputs": [
    {
     "data": {
      "text/plain": [
       "<matplotlib.axes._subplots.AxesSubplot at 0x11df4d160>"
      ]
     },
     "execution_count": 23,
     "metadata": {},
     "output_type": "execute_result"
    },
    {
     "data": {
      "image/png": "[encoded data removed]",
      "text/plain": [
       "<matplotlib.figure.Figure at 0x159be7390>"
      ]
     },
     "metadata": {},
     "output_type": "display_data"
    }
   ],
   "source": [
    "sns.barplot(x='condition', y='num_tapBackspace', data=trial_level, capsize=.2)"
   ]
  },
  {
   "cell_type": "code",
   "execution_count": 25,
   "metadata": {},
   "outputs": [
    {
     "data": {
      "text/plain": [
       "<matplotlib.axes._subplots.AxesSubplot at 0x119f08cc0>"
      ]
     },
     "execution_count": 25,
     "metadata": {},
     "output_type": "execute_result"
    },
    {
     "data": {
      "image/png": "[encoded data removed]",
      "text/plain": [
       "<matplotlib.figure.Figure at 0x119c47710>"
      ]
     },
     "metadata": {},
     "output_type": "display_data"
    }
   ],
   "source": [
    "sns.barplot(x='condition', y='num_tapSugg_any', data=trial_level, capsize=.2)"
   ]
  },
  {
   "cell_type": "code",
   "execution_count": 26,
   "metadata": {},
   "outputs": [],
   "source": [
    "# summarize('2018-05-02')"
   ]
  },
  {
   "cell_type": "code",
   "execution_count": 27,
   "metadata": {},
   "outputs": [
    {
     "data": {
      "text/plain": [
       "(36, 3)"
      ]
     },
     "execution_count": 27,
     "metadata": {},
     "output_type": "execute_result"
    }
   ],
   "source": [
    "len(trial_level.text), len(set(trial_level.participant))"
   ]
  },
  {
   "cell_type": "code",
   "execution_count": 28,
   "metadata": {},
   "outputs": [
    {
     "data": {
      "text/plain": [
       "(36, 9)"
      ]
     },
     "execution_count": 28,
     "metadata": {},
     "output_type": "execute_result"
    }
   ],
   "source": [
    "len(trial_level), len(block_level)"
   ]
  },
  {
   "cell_type": "code",
   "execution_count": 29,
   "metadata": {},
   "outputs": [
    {
     "data": {
      "text/html": [
       "<div>\n",
       "<style scoped>\n",
       "    .dataframe tbody tr th:only-of-type {\n",
       "        vertical-align: middle;\n",
       "    }\n",
       "\n",
       "    .dataframe tbody tr th {\n",
       "        vertical-align: top;\n",
       "    }\n",
       "\n",
       "    .dataframe thead th {\n",
       "        text-align: right;\n",
       "    }\n",
       "</style>\n",
       "<table border=\"1\" class=\"dataframe\">\n",
       "  <thead>\n",
       "    <tr style=\"text-align: right;\">\n",
       "      <th>name</th>\n",
       "      <th>accurate-least-condition</th>\n",
       "      <th>accurate-most-condition</th>\n",
       "      <th>quick-least-condition</th>\n",
       "      <th>quick-most-condition</th>\n",
       "      <th>specific-least-condition</th>\n",
       "      <th>specific-most-condition</th>\n",
       "    </tr>\n",
       "  </thead>\n",
       "  <tbody>\n",
       "    <tr>\n",
       "      <th>always</th>\n",
       "      <td>0</td>\n",
       "      <td>2</td>\n",
       "      <td>0</td>\n",
       "      <td>2</td>\n",
       "      <td>0</td>\n",
       "      <td>2</td>\n",
       "    </tr>\n",
       "    <tr>\n",
       "      <th>gated</th>\n",
       "      <td>0</td>\n",
       "      <td>1</td>\n",
       "      <td>1</td>\n",
       "      <td>1</td>\n",
       "      <td>0</td>\n",
       "      <td>1</td>\n",
       "    </tr>\n",
       "    <tr>\n",
       "      <th>norecs</th>\n",
       "      <td>3</td>\n",
       "      <td>0</td>\n",
       "      <td>2</td>\n",
       "      <td>0</td>\n",
       "      <td>3</td>\n",
       "      <td>0</td>\n",
       "    </tr>\n",
       "  </tbody>\n",
       "</table>\n",
       "</div>"
      ],
      "text/plain": [
       "name    accurate-least-condition  accurate-most-condition  \\\n",
       "always                         0                        2   \n",
       "gated                          0                        1   \n",
       "norecs                         3                        0   \n",
       "\n",
       "name    quick-least-condition  quick-most-condition  specific-least-condition  \\\n",
       "always                      0                     2                         0   \n",
       "gated                       1                     1                         0   \n",
       "norecs                      2                     0                         3   \n",
       "\n",
       "name    specific-most-condition  \n",
       "always                        2  \n",
       "gated                         1  \n",
       "norecs                        0  "
      ]
     },
     "execution_count": 29,
     "metadata": {},
     "output_type": "execute_result"
    }
   ],
   "source": [
    "helpful_ranks_by_condition"
   ]
  },
  {
   "cell_type": "code",
   "execution_count": 133,
   "metadata": {},
   "outputs": [
    {
     "data": {
      "text/html": [
       "<div>\n",
       "<style scoped>\n",
       "    .dataframe tbody tr th:only-of-type {\n",
       "        vertical-align: middle;\n",
       "    }\n",
       "\n",
       "    .dataframe tbody tr th {\n",
       "        vertical-align: top;\n",
       "    }\n",
       "\n",
       "    .dataframe thead th {\n",
       "        text-align: right;\n",
       "    }\n",
       "</style>\n",
       "<table border=\"1\" class=\"dataframe\">\n",
       "  <thead>\n",
       "    <tr style=\"text-align: right;\">\n",
       "      <th>name</th>\n",
       "      <th>accurate-least-idx</th>\n",
       "      <th>accurate-most-idx</th>\n",
       "      <th>quick-least-idx</th>\n",
       "      <th>quick-most-idx</th>\n",
       "      <th>specific-least-idx</th>\n",
       "      <th>specific-most-idx</th>\n",
       "    </tr>\n",
       "  </thead>\n",
       "  <tbody>\n",
       "    <tr>\n",
       "      <th>0</th>\n",
       "      <td>2</td>\n",
       "      <td>0</td>\n",
       "      <td>0</td>\n",
       "      <td>1</td>\n",
       "      <td>2</td>\n",
       "      <td>0</td>\n",
       "    </tr>\n",
       "    <tr>\n",
       "      <th>1</th>\n",
       "      <td>1</td>\n",
       "      <td>1</td>\n",
       "      <td>2</td>\n",
       "      <td>1</td>\n",
       "      <td>1</td>\n",
       "      <td>1</td>\n",
       "    </tr>\n",
       "    <tr>\n",
       "      <th>2</th>\n",
       "      <td>0</td>\n",
       "      <td>2</td>\n",
       "      <td>1</td>\n",
       "      <td>1</td>\n",
       "      <td>0</td>\n",
       "      <td>2</td>\n",
       "    </tr>\n",
       "  </tbody>\n",
       "</table>\n",
       "</div>"
      ],
      "text/plain": [
       "name  accurate-least-idx  accurate-most-idx  quick-least-idx  quick-most-idx  \\\n",
       "0                      2                  0                0               1   \n",
       "1                      1                  1                2               1   \n",
       "2                      0                  2                1               1   \n",
       "\n",
       "name  specific-least-idx  specific-most-idx  \n",
       "0                      2                  0  \n",
       "1                      1                  1  \n",
       "2                      0                  2  "
      ]
     },
     "execution_count": 133,
     "metadata": {},
     "output_type": "execute_result"
    }
   ],
   "source": [
    "helpful_ranks_by_idx"
   ]
  },
  {
   "cell_type": "code",
   "execution_count": 134,
   "metadata": {},
   "outputs": [
    {
     "data": {
      "text/plain": [
       "count    3.000000\n",
       "mean     0.250000\n",
       "std      0.193132\n",
       "min      0.080000\n",
       "25%      0.145000\n",
       "50%      0.210000\n",
       "75%      0.335000\n",
       "max      0.460000\n",
       "Name: NFC, dtype: float64"
      ]
     },
     "execution_count": 134,
     "metadata": {},
     "output_type": "execute_result"
    }
   ],
   "source": [
    "experiment_level['NFC'].describe()"
   ]
  },
  {
   "cell_type": "code",
   "execution_count": 135,
   "metadata": {},
   "outputs": [
    {
     "data": {
      "text/plain": [
       "count    3.000000\n",
       "mean     0.186667\n",
       "std      0.166533\n",
       "min      0.000000\n",
       "25%      0.120000\n",
       "50%      0.240000\n",
       "75%      0.280000\n",
       "max      0.320000\n",
       "Name: Extraversion, dtype: float64"
      ]
     },
     "execution_count": 135,
     "metadata": {},
     "output_type": "execute_result"
    }
   ],
   "source": [
    "experiment_level['Extraversion'].describe()"
   ]
  }
 ],
 "metadata": {
  "kernelspec": {
   "display_name": "Python 3",
   "language": "python",
   "name": "python3"
  },
  "language_info": {
   "codemirror_mode": {
    "name": "ipython",
    "version": 3
   },
   "file_extension": ".py",
   "mimetype": "text/x-python",
   "name": "python",
   "nbconvert_exporter": "python",
   "pygments_lexer": "ipython3",
   "version": "3.6.4"
  }
 },
 "nbformat": 4,
 "nbformat_minor": 2
}
