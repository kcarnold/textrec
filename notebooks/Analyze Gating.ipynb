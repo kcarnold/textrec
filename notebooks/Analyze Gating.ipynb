{
 "cells": [
  {
   "cell_type": "markdown",
   "metadata": {},
   "source": [
    "# Analysis pipeline for Specificity"
   ]
  },
  {
   "cell_type": "markdown",
   "metadata": {},
   "source": [
    "## Preliminaries"
   ]
  },
  {
   "cell_type": "code",
   "execution_count": 1,
   "metadata": {},
   "outputs": [
    {
     "name": "stdout",
     "output_type": "stream",
     "text": [
      "/Users/kcarnold/code/textrec\n"
     ]
    }
   ],
   "source": [
    "%cd ~/code/textrec/"
   ]
  },
  {
   "cell_type": "code",
   "execution_count": 2,
   "metadata": {},
   "outputs": [],
   "source": [
    "import datetime\n",
    "import json\n",
    "import pathlib\n",
    "\n",
    "import pandas as pd\n",
    "import numpy as np\n",
    "import toolz\n",
    "from IPython.display import Image, HTML"
   ]
  },
  {
   "cell_type": "code",
   "execution_count": 50,
   "metadata": {},
   "outputs": [
    {
     "name": "stdout",
     "output_type": "stream",
     "text": [
      "Loading COCO captions\n",
      "Loading COCO id2url\n",
      "Done\n",
      "Loading SpaCy...done\n"
     ]
    },
    {
     "data": {
      "text/plain": [
       "(<module 'textrec.analysis_util' from '/Users/kcarnold/code/textrec/src/textrec/analysis_util.py'>,\n",
       " <module 'textrec.util' from '/Users/kcarnold/code/textrec/src/textrec/util.py'>,\n",
       " <module 'textrec.notebook_util' from '/Users/kcarnold/code/textrec/src/textrec/notebook_util.py'>,\n",
       " <module 'textrec.automated_analyses' from '/Users/kcarnold/code/textrec/src/textrec/automated_analyses.py'>)"
      ]
     },
     "execution_count": 50,
     "metadata": {},
     "output_type": "execute_result"
    }
   ],
   "source": [
    "from textrec.paths import paths\n",
    "from textrec import analysis_util, util, notebook_util, automated_analyses\n",
    "reload(analysis_util), reload(util), reload(notebook_util), reload(automated_analyses)"
   ]
  },
  {
   "cell_type": "code",
   "execution_count": 51,
   "metadata": {},
   "outputs": [],
   "source": [
    "from textrec.notebook_util import images, id2img, id2url, show_images"
   ]
  },
  {
   "cell_type": "code",
   "execution_count": 52,
   "metadata": {},
   "outputs": [],
   "source": [
    "# HTML(show_images([images_by_split['val'][0]['cocoid']]))"
   ]
  },
  {
   "cell_type": "code",
   "execution_count": 53,
   "metadata": {},
   "outputs": [],
   "source": [
    "%matplotlib inline"
   ]
  },
  {
   "cell_type": "markdown",
   "metadata": {},
   "source": [
    "## Load results of writing experiment"
   ]
  },
  {
   "cell_type": "code",
   "execution_count": 126,
   "metadata": {},
   "outputs": [],
   "source": [
    "%run -m textrec.batch_analysis"
   ]
  },
  {
   "cell_type": "code",
   "execution_count": 127,
   "metadata": {},
   "outputs": [
    {
     "data": {
      "text/plain": [
       "dict_keys(['2018-04-09', '2018-04-24', '2018-04-27', '2018-05-02-invalid', '2018-05-02-old', '2018-05-02', '2018-06-07-gcap'])"
      ]
     },
     "execution_count": 127,
     "metadata": {},
     "output_type": "execute_result"
    }
   ],
   "source": [
    "participants = get_participants_by_batch()\n",
    "participants.keys()"
   ]
  },
  {
   "cell_type": "code",
   "execution_count": 128,
   "metadata": {},
   "outputs": [],
   "source": [
    "batch = '2018-06-07-gcap'"
   ]
  },
  {
   "cell_type": "code",
   "execution_count": 129,
   "metadata": {},
   "outputs": [
    {
     "data": {
      "text/plain": [
       "3"
      ]
     },
     "execution_count": 129,
     "metadata": {},
     "output_type": "execute_result"
    }
   ],
   "source": [
    "len(participants[batch])"
   ]
  },
  {
   "cell_type": "code",
   "execution_count": 137,
   "metadata": {},
   "outputs": [
    {
     "name": "stdout",
     "output_type": "stream",
     "text": [
      "\n",
      "pmr872\n",
      "practice-0:norecs:a black cat napping on a sunny unpainted wood bench in front of a red wall\n",
      "\n",
      "final-0-0:norecs:a light brown cat with darker tabby markings sits at the edge of a table,  behind a partially visible glass of wine. \n",
      "final-0-1:norecs:a small bathroom with a toilet visible on the left and shower doors featuring prominently, from which hangs a tan colored bath towel.\n",
      "\n",
      "final-0-2:norecs:a toilet, sink and mirror, another toilet visible in the surface of the latter.\n",
      "\n",
      "final-0-3:norecs:a photographer guides a brides hand through the appropriate motions for cutting her wedding cake as the groom stands beside her.\n",
      "\n",
      "practice-1:lowConfidence:a man with black hair and glasses placing a large turkey into an upper oven\n",
      "\n",
      "final-1-0:lowConfidence:several kites are flying as a small group of people prepare their own kites for flight\n",
      "\n",
      "final-1-1:lowConfidence:a brown and tan train is stopped at an old fashioned blue and white station\n",
      "\n",
      "final-1-2:lowConfidence:a red double-decker bus approaches, traveling on a road which runs between buildings which look old and european\n",
      "\n",
      "final-1-3:lowConfidence:a tennis player prepares to hit a ball, his right side facing the viewer\n",
      "\n",
      "practice-2:highConfidence:a black and red vehicle with bikes on top and people standing nearby with umbrellas. \n",
      "final-2-0:highConfidence:a blonde man in white and black surfs a wave as he crouches partly downwards.\n",
      "\n",
      "final-2-1:highConfidence:a desk with an apple desktop and a laptop also holds speakers and has a shelf hanging above.\n",
      "\n",
      "final-2-2:highConfidence:a batter in white pants and a black shirt, the number eight on his jersey, swings a baseball bat.\n",
      "\n",
      "final-2-3:highConfidence:a small bird perched on a branch, colored black, white and tan.\n",
      "\n",
      "\n",
      "intro-use_predictive: Yes\n",
      "postTask-0-techDiff: No.\n",
      "postTask-0-other: No.\n",
      "postTask-1-techDiff: No\n",
      "postTask-1-other: No\n",
      "postTask-2-techDiff: No\n",
      "postTask-2-other: No\n",
      "\n",
      "postExp-helpfulRank-specific-most: Keyboard Design 3\n",
      "postExp-helpfulRank-specific-least: Keyboard Design 1\n",
      "postExp-helpfulRank-accurate-most: Keyboard Design 3\n",
      "postExp-helpfulRank-accurate-least: Keyboard Design 1\n",
      "postExp-helpfulRank-quick-most: Keyboard Design 1\n",
      "postExp-helpfulRank-quick-least: Keyboard Design 2\n",
      "postExp-verbalized_during: No\n",
      "postExp-age: 49\n",
      "postExp-gender: Male\n",
      "postExp-english_proficiency: Native or bilingual\n",
      "postExp-techDiff: No.\n",
      "postExp-other: Everything was fine. Thanks.\n",
      "\n",
      "Total time: 29.0m\n",
      "ExperimentScreen: 1223.3\n",
      "PostTaskSurvey: 177.4\n",
      "PostExpSurvey: 98.1\n",
      "Welcome: 94.0\n",
      "TaskDescription: 71.2\n",
      "StudyDesc: 28.2\n",
      "IntroSurvey: 27.2\n",
      "PostPractice: 12.6\n",
      "Instructions: 5.8\n",
      "\n",
      "8fwr56\n",
      "practice-0:lowConfidence:a black cat napping on a sunny unpainted wood bench in front of a red wall \n",
      "final-0-0:lowConfidence:a orange cat is on the table behind thre wine glass. \n",
      "final-0-1:lowConfidence:theres a towel hanging on a opaque shower door .\n",
      "\n",
      "final-0-2:lowConfidence:a roll of toilet paper sits on top of a porcelain toilet, next to a matching sink and and a mirror. \n",
      "final-0-3:lowConfidence:the photographer helped the couple cut the wedding cake. \n",
      "practice-1:norecs:a man with black hair and glasses placing a large turkey into an upper oven\n",
      "final-1-0:norecs:a family gets ready to fly kites. \n",
      "final-1-1:norecs:a train is leaving a baby blue station. \n",
      "final-1-2:norecs:a double decker bus goes down a old street. \n",
      "final-1-3:norecs:a tennis player thwacks the ball. \n",
      "practice-2:highConfidence:a black and red vehicle with bikes on top and people standing nearby with umbrellas. \n",
      "final-2-0:highConfidence:a surfer catches a wave and rides it. \n",
      "final-2-1:highConfidence:a office desk with two monitors \n",
      "final-2-2:highConfidence:the baseball player hits the ball. \n",
      "final-2-3:highConfidence:the bird is in focus in front of green. \n",
      "\n",
      "intro-use_predictive: Yes\n",
      "postExp-helpfulRank-specific-most: Keyboard Design 3\n",
      "postExp-helpfulRank-specific-least: Keyboard Design 2\n",
      "postExp-helpfulRank-accurate-most: Keyboard Design 3\n",
      "postExp-helpfulRank-accurate-least: Keyboard Design 2\n",
      "postExp-helpfulRank-quick-least: Keyboard Design 2\n",
      "postExp-helpfulRank-quick-most: Keyboard Design 3\n",
      "postExp-verbalized_during: No\n",
      "postExp-age: 27\n",
      "postExp-gender: Female\n",
      "postExp-english_proficiency: Native or bilingual\n",
      "\n",
      "Total time: 11.9m\n",
      "ExperimentScreen: 538.2\n",
      "PostTaskSurvey: 54.6\n",
      "Instructions: 39.0\n",
      "PostExpSurvey: 28.6\n",
      "TaskDescription: 20.8\n",
      "IntroSurvey: 11.0\n",
      "PostPractice: 8.8\n",
      "Welcome: 6.8\n",
      "StudyDesc: 6.4\n",
      "\n",
      "qxqm88\n",
      "practice-0:norecs:a black cat napping on a sunny unpainted wood bench in front of a red wall.\n",
      "\n",
      "final-0-0:norecs:a short hair, tan, tabby cat is sitting on a table past a half empty glass of red wine. \n",
      "final-0-1:norecs:a red bath sponge hangs in shower behind see through glass shower doors with a tan towel hanging in the front. \n",
      "final-0-2:norecs:a new, unwrapped roll of toilet paper sitting on back of a clean toilet next to a clean, white sink inside a bathroom. \n",
      "final-0-3:norecs:a black and white photo capturing a photographer showing rhe bride and groom how to cut the wedding cake. \n",
      "practice-1:highConfidence:a man with black hair and glasses placing a large turkey into an upper oven \n",
      "final-1-0:highConfidence:a man  flying kites with two girls on the beach \n",
      "final-1-1:highConfidence:a train coming into the train station. \n",
      "final-1-2:highConfidence:a red, double decker bus driving through the city. \n",
      "final-1-3:highConfidence:a tennis player in a tournament getting ready to swing and hit the tennis ball. \n",
      "practice-2:lowConfidence:a black and red vehicle with bikes on top and people standing nearby with umbrellas. \n",
      "final-2-0:lowConfidence:s man wearing a black wetsuit and white shirt is surfing a small wave. \n",
      "final-2-1:lowConfidence:an open silver laptop sitting on a tan desk next to a white keyboard, mouse and monitor. \n",
      "final-2-2:lowConfidence:a batter in grey pants and black jersey with a number eight is swinging the bat in a game. \n",
      "final-2-3:lowConfidence:a small black, white and brown bird perched on a branch. \n",
      "\n",
      "intro-use_predictive: Yes\n",
      "postTask-0-techDiff: No\n",
      "postTask-0-other: Having to backspace to fix an error was a pain.\n",
      "postTask-1-techDiff: None\n",
      "postTask-1-other: Much easier\n",
      "postTask-2-techDiff: None\n",
      "postTask-2-other: This one seemed a bit more difficult than the last\n",
      "postExp-helpfulRank-specific-most: Keyboard Design 2\n",
      "postExp-helpfulRank-specific-least: Keyboard Design 1\n",
      "postExp-helpfulRank-accurate-most: Keyboard Design 2\n",
      "postExp-helpfulRank-accurate-least: Keyboard Design 1\n",
      "postExp-helpfulRank-quick-most: Keyboard Design 2\n",
      "postExp-helpfulRank-quick-least: Keyboard Design 3\n",
      "postExp-verbalized_during: Yes\n",
      "postExp-age: 45\n",
      "postExp-gender: Female\n",
      "postExp-english_proficiency: Native or bilingual\n",
      "postExp-techDiff: None\n",
      "postExp-other: No, you can use my data.  Great survey!\n",
      "\n",
      "Total time: 27.2m\n",
      "ExperimentScreen: 1074.4\n",
      "PostTaskSurvey: 240.8\n",
      "PostExpSurvey: 149.8\n",
      "TaskDescription: 84.4\n",
      "IntroSurvey: 29.5\n",
      "StudyDesc: 22.2\n",
      "Welcome: 17.9\n",
      "PostPractice: 6.1\n",
      "Instructions: 4.9\n"
     ]
    }
   ],
   "source": [
    "summarize(participants[batch])"
   ]
  },
  {
   "cell_type": "code",
   "execution_count": 130,
   "metadata": {},
   "outputs": [
    {
     "name": "stdout",
     "output_type": "stream",
     "text": [
      "Randomization counts\n",
      "norecs,highConfidence,lowConfidence    1\n",
      "lowConfidence,norecs,highConfidence    1\n",
      "norecs,lowConfidence,highConfidence    1\n",
      "Name: conditions, dtype: int64\n"
     ]
    }
   ],
   "source": [
    "import warnings\n",
    "\n",
    "with warnings.catch_warnings():\n",
    "    warnings.simplefilter('error')\n",
    "    analyses = analyze_all(participants[batch], traits='NFC Extraversion Openness Trust')"
   ]
  },
  {
   "cell_type": "code",
   "execution_count": 131,
   "metadata": {},
   "outputs": [],
   "source": [
    "globals().update(analyses)"
   ]
  },
  {
   "cell_type": "code",
   "execution_count": 111,
   "metadata": {},
   "outputs": [
    {
     "data": {
      "text/plain": [
       "<matplotlib.axes._subplots.AxesSubplot at 0x141f404e0>"
      ]
     },
     "execution_count": 111,
     "metadata": {},
     "output_type": "execute_result"
    },
    {
     "data": {
      "image/png": "[encoded data removed]",
      "text/plain": [
       "<matplotlib.figure.Figure at 0x1e9784908>"
      ]
     },
     "metadata": {},
     "output_type": "display_data"
    }
   ],
   "source": [
    "experiment_level.total_time.hist()"
   ]
  },
  {
   "cell_type": "code",
   "execution_count": 112,
   "metadata": {},
   "outputs": [
    {
     "data": {
      "text/plain": [
       "count     3.000000\n",
       "mean     22.677983\n",
       "std       9.374482\n",
       "min      11.903117\n",
       "25%      19.534933\n",
       "50%      27.166750\n",
       "75%      28.065417\n",
       "max      28.964083\n",
       "Name: total_time, dtype: float64"
      ]
     },
     "execution_count": 112,
     "metadata": {},
     "output_type": "execute_result"
    }
   ],
   "source": [
    "experiment_level.total_time.describe()"
   ]
  },
  {
   "cell_type": "code",
   "execution_count": 113,
   "metadata": {},
   "outputs": [
    {
     "data": {
      "text/plain": [
       "count     36.000000\n",
       "mean      53.272889\n",
       "std       35.059621\n",
       "min        9.750000\n",
       "25%       23.183500\n",
       "50%       49.183500\n",
       "75%       72.213500\n",
       "max      140.377000\n",
       "Name: seconds_spent_typing, dtype: float64"
      ]
     },
     "execution_count": 113,
     "metadata": {},
     "output_type": "execute_result"
    }
   ],
   "source": [
    "(trial_level.seconds_spent_typing).describe()"
   ]
  },
  {
   "cell_type": "code",
   "execution_count": 114,
   "metadata": {},
   "outputs": [
    {
     "data": {
      "text/plain": [
       "<matplotlib.axes._subplots.AxesSubplot at 0x1ebe845f8>"
      ]
     },
     "execution_count": 114,
     "metadata": {},
     "output_type": "execute_result"
    },
    {
     "data": {
      "image/png": "[encoded data removed]",
      "text/plain": [
       "<matplotlib.figure.Figure at 0x124e47a20>"
      ]
     },
     "metadata": {},
     "output_type": "display_data"
    }
   ],
   "source": [
    "# Fraction of time spent actually typing\n",
    "((trial_level.groupby('participant').seconds_spent_typing.sum() / 60) / trial_level.groupby('participant').total_time.mean()).hist()"
   ]
  },
  {
   "cell_type": "code",
   "execution_count": 115,
   "metadata": {},
   "outputs": [],
   "source": [
    "for kind in 'experiment block trial'.split():\n",
    "    analyses[f'{kind}_level'].to_csv(f'data/analyzed/{kind}_{batch}.csv')"
   ]
  },
  {
   "cell_type": "code",
   "execution_count": 116,
   "metadata": {},
   "outputs": [],
   "source": [
    "import seaborn as sns"
   ]
  },
  {
   "cell_type": "code",
   "execution_count": 117,
   "metadata": {},
   "outputs": [
    {
     "data": {
      "text/plain": [
       "<matplotlib.axes._subplots.AxesSubplot at 0x1eb5f4898>"
      ]
     },
     "execution_count": 117,
     "metadata": {},
     "output_type": "execute_result"
    },
    {
     "data": {
      "image/png": "[encoded data removed]",
      "text/plain": [
       "<matplotlib.figure.Figure at 0x116e93278>"
      ]
     },
     "metadata": {},
     "output_type": "display_data"
    }
   ],
   "source": [
    "sns.barplot(x='condition', y='TLX_sum', data=block_level, capsize=.2)"
   ]
  },
  {
   "cell_type": "code",
   "execution_count": 118,
   "metadata": {},
   "outputs": [
    {
     "data": {
      "text/plain": [
       "<matplotlib.axes._subplots.AxesSubplot at 0x157155828>"
      ]
     },
     "execution_count": 118,
     "metadata": {},
     "output_type": "execute_result"
    },
    {
     "data": {
      "image/png": "[encoded data removed]",
      "text/plain": [
       "<matplotlib.figure.Figure at 0x116dabf28>"
      ]
     },
     "metadata": {},
     "output_type": "display_data"
    }
   ],
   "source": [
    "sns.barplot(x='condition', y='text_len', data=trial_level, capsize=.2)"
   ]
  },
  {
   "cell_type": "code",
   "execution_count": 119,
   "metadata": {},
   "outputs": [
    {
     "data": {
      "text/plain": [
       "<matplotlib.axes._subplots.AxesSubplot at 0x1ea8e66a0>"
      ]
     },
     "execution_count": 119,
     "metadata": {},
     "output_type": "execute_result"
    },
    {
     "data": {
      "image/png": "[encoded data removed]",
      "text/plain": [
       "<matplotlib.figure.Figure at 0x1170aaef0>"
      ]
     },
     "metadata": {},
     "output_type": "display_data"
    }
   ],
   "source": [
    "sns.barplot(x='condition', y='num_tapBackspace', data=trial_level, capsize=.2)"
   ]
  },
  {
   "cell_type": "code",
   "execution_count": null,
   "metadata": {},
   "outputs": [],
   "source": [
    "# summarize('2018-05-02')"
   ]
  },
  {
   "cell_type": "code",
   "execution_count": 122,
   "metadata": {},
   "outputs": [
    {
     "data": {
      "text/plain": [
       "(36, 3)"
      ]
     },
     "execution_count": 122,
     "metadata": {},
     "output_type": "execute_result"
    }
   ],
   "source": [
    "len(trial_level.text), len(set(trial_level.participant))"
   ]
  },
  {
   "cell_type": "code",
   "execution_count": 123,
   "metadata": {},
   "outputs": [
    {
     "data": {
      "text/plain": [
       "(36, 9)"
      ]
     },
     "execution_count": 123,
     "metadata": {},
     "output_type": "execute_result"
    }
   ],
   "source": [
    "len(trial_level), len(block_level)"
   ]
  },
  {
   "cell_type": "code",
   "execution_count": 132,
   "metadata": {},
   "outputs": [
    {
     "data": {
      "text/html": [
       "<div>\n",
       "<style scoped>\n",
       "    .dataframe tbody tr th:only-of-type {\n",
       "        vertical-align: middle;\n",
       "    }\n",
       "\n",
       "    .dataframe tbody tr th {\n",
       "        vertical-align: top;\n",
       "    }\n",
       "\n",
       "    .dataframe thead th {\n",
       "        text-align: right;\n",
       "    }\n",
       "</style>\n",
       "<table border=\"1\" class=\"dataframe\">\n",
       "  <thead>\n",
       "    <tr style=\"text-align: right;\">\n",
       "      <th>name</th>\n",
       "      <th>accurate-least-condition</th>\n",
       "      <th>accurate-most-condition</th>\n",
       "      <th>quick-least-condition</th>\n",
       "      <th>quick-most-condition</th>\n",
       "      <th>specific-least-condition</th>\n",
       "      <th>specific-most-condition</th>\n",
       "    </tr>\n",
       "  </thead>\n",
       "  <tbody>\n",
       "    <tr>\n",
       "      <th>highConfidence</th>\n",
       "      <td>0</td>\n",
       "      <td>3</td>\n",
       "      <td>0</td>\n",
       "      <td>2</td>\n",
       "      <td>0</td>\n",
       "      <td>3</td>\n",
       "    </tr>\n",
       "    <tr>\n",
       "      <th>lowConfidence</th>\n",
       "      <td>0</td>\n",
       "      <td>0</td>\n",
       "      <td>2</td>\n",
       "      <td>0</td>\n",
       "      <td>0</td>\n",
       "      <td>0</td>\n",
       "    </tr>\n",
       "    <tr>\n",
       "      <th>norecs</th>\n",
       "      <td>3</td>\n",
       "      <td>0</td>\n",
       "      <td>1</td>\n",
       "      <td>1</td>\n",
       "      <td>3</td>\n",
       "      <td>0</td>\n",
       "    </tr>\n",
       "  </tbody>\n",
       "</table>\n",
       "</div>"
      ],
      "text/plain": [
       "name            accurate-least-condition  accurate-most-condition  \\\n",
       "highConfidence                         0                        3   \n",
       "lowConfidence                          0                        0   \n",
       "norecs                                 3                        0   \n",
       "\n",
       "name            quick-least-condition  quick-most-condition  \\\n",
       "highConfidence                      0                     2   \n",
       "lowConfidence                       2                     0   \n",
       "norecs                              1                     1   \n",
       "\n",
       "name            specific-least-condition  specific-most-condition  \n",
       "highConfidence                         0                        3  \n",
       "lowConfidence                          0                        0  \n",
       "norecs                                 3                        0  "
      ]
     },
     "execution_count": 132,
     "metadata": {},
     "output_type": "execute_result"
    }
   ],
   "source": [
    "helpful_ranks_by_condition"
   ]
  },
  {
   "cell_type": "code",
   "execution_count": 133,
   "metadata": {},
   "outputs": [
    {
     "data": {
      "text/html": [
       "<div>\n",
       "<style scoped>\n",
       "    .dataframe tbody tr th:only-of-type {\n",
       "        vertical-align: middle;\n",
       "    }\n",
       "\n",
       "    .dataframe tbody tr th {\n",
       "        vertical-align: top;\n",
       "    }\n",
       "\n",
       "    .dataframe thead th {\n",
       "        text-align: right;\n",
       "    }\n",
       "</style>\n",
       "<table border=\"1\" class=\"dataframe\">\n",
       "  <thead>\n",
       "    <tr style=\"text-align: right;\">\n",
       "      <th>name</th>\n",
       "      <th>accurate-least-idx</th>\n",
       "      <th>accurate-most-idx</th>\n",
       "      <th>quick-least-idx</th>\n",
       "      <th>quick-most-idx</th>\n",
       "      <th>specific-least-idx</th>\n",
       "      <th>specific-most-idx</th>\n",
       "    </tr>\n",
       "  </thead>\n",
       "  <tbody>\n",
       "    <tr>\n",
       "      <th>0</th>\n",
       "      <td>2</td>\n",
       "      <td>0</td>\n",
       "      <td>0</td>\n",
       "      <td>1</td>\n",
       "      <td>2</td>\n",
       "      <td>0</td>\n",
       "    </tr>\n",
       "    <tr>\n",
       "      <th>1</th>\n",
       "      <td>1</td>\n",
       "      <td>1</td>\n",
       "      <td>2</td>\n",
       "      <td>1</td>\n",
       "      <td>1</td>\n",
       "      <td>1</td>\n",
       "    </tr>\n",
       "    <tr>\n",
       "      <th>2</th>\n",
       "      <td>0</td>\n",
       "      <td>2</td>\n",
       "      <td>1</td>\n",
       "      <td>1</td>\n",
       "      <td>0</td>\n",
       "      <td>2</td>\n",
       "    </tr>\n",
       "  </tbody>\n",
       "</table>\n",
       "</div>"
      ],
      "text/plain": [
       "name  accurate-least-idx  accurate-most-idx  quick-least-idx  quick-most-idx  \\\n",
       "0                      2                  0                0               1   \n",
       "1                      1                  1                2               1   \n",
       "2                      0                  2                1               1   \n",
       "\n",
       "name  specific-least-idx  specific-most-idx  \n",
       "0                      2                  0  \n",
       "1                      1                  1  \n",
       "2                      0                  2  "
      ]
     },
     "execution_count": 133,
     "metadata": {},
     "output_type": "execute_result"
    }
   ],
   "source": [
    "helpful_ranks_by_idx"
   ]
  },
  {
   "cell_type": "code",
   "execution_count": 134,
   "metadata": {},
   "outputs": [
    {
     "data": {
      "text/plain": [
       "count    3.000000\n",
       "mean     0.250000\n",
       "std      0.193132\n",
       "min      0.080000\n",
       "25%      0.145000\n",
       "50%      0.210000\n",
       "75%      0.335000\n",
       "max      0.460000\n",
       "Name: NFC, dtype: float64"
      ]
     },
     "execution_count": 134,
     "metadata": {},
     "output_type": "execute_result"
    }
   ],
   "source": [
    "experiment_level['NFC'].describe()"
   ]
  },
  {
   "cell_type": "code",
   "execution_count": 135,
   "metadata": {},
   "outputs": [
    {
     "data": {
      "text/plain": [
       "count    3.000000\n",
       "mean     0.186667\n",
       "std      0.166533\n",
       "min      0.000000\n",
       "25%      0.120000\n",
       "50%      0.240000\n",
       "75%      0.280000\n",
       "max      0.320000\n",
       "Name: Extraversion, dtype: float64"
      ]
     },
     "execution_count": 135,
     "metadata": {},
     "output_type": "execute_result"
    }
   ],
   "source": [
    "experiment_level['Extraversion'].describe()"
   ]
  }
 ],
 "metadata": {
  "kernelspec": {
   "display_name": "Python 3",
   "language": "python",
   "name": "python3"
  },
  "language_info": {
   "codemirror_mode": {
    "name": "ipython",
    "version": 3
   },
   "file_extension": ".py",
   "mimetype": "text/x-python",
   "name": "python",
   "nbconvert_exporter": "python",
   "pygments_lexer": "ipython3",
   "version": "3.6.4"
  }
 },
 "nbformat": 4,
 "nbformat_minor": 2
}
