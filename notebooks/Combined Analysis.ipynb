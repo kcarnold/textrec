{
 "cells": [
  {
   "cell_type": "markdown",
   "metadata": {},
   "source": [
    "# Analysis and Plotting"
   ]
  },
  {
   "cell_type": "markdown",
   "metadata": {},
   "source": [
    "## Preliminaries"
   ]
  },
  {
   "cell_type": "code",
   "execution_count": 46,
   "metadata": {},
   "outputs": [],
   "source": [
    "import os\n",
    "import datetime\n",
    "import json\n",
    "import pathlib\n",
    "import pandas as pd\n",
    "import numpy as np\n",
    "import matplotlib.pyplot as plt\n",
    "import seaborn as sns\n",
    "import toolz"
   ]
  },
  {
   "cell_type": "code",
   "execution_count": 2,
   "metadata": {},
   "outputs": [],
   "source": [
    "sns.set_context('paper')"
   ]
  },
  {
   "cell_type": "code",
   "execution_count": 3,
   "metadata": {},
   "outputs": [],
   "source": [
    "sns.set_style('whitegrid')"
   ]
  },
  {
   "cell_type": "code",
   "execution_count": 4,
   "metadata": {},
   "outputs": [],
   "source": [
    "if 'get_ipython' in globals():\n",
    "    get_ipython().run_line_magic('matplotlib', 'inline')\n",
    "    from IPython.display import Image, HTML\n",
    "else:\n",
    "    HTML = lambda *a, **kw: None"
   ]
  },
  {
   "cell_type": "code",
   "execution_count": 5,
   "metadata": {},
   "outputs": [
    {
     "name": "stdout",
     "output_type": "stream",
     "text": [
      "Loading COCO captions\n",
      "Loading COCO id2url\n",
      "Done\n"
     ]
    }
   ],
   "source": [
    "from textrec.paths import paths\n",
    "#from textrec import analysis_util, util, notebook_util\n",
    "#reload(analysis_util), reload(util), reload(notebook_util), reload(automated_analyses)\n",
    "from textrec.notebook_util import images, id2img, id2url, show_images"
   ]
  },
  {
   "cell_type": "code",
   "execution_count": 6,
   "metadata": {},
   "outputs": [],
   "source": [
    "os.chdir(paths.top_level)"
   ]
  },
  {
   "cell_type": "code",
   "execution_count": 7,
   "metadata": {},
   "outputs": [],
   "source": [
    "friendly_names = {\n",
    "    'ideal_taps_per_word_corrected': \"Taps per Typo-Corrected Word\"\n",
    "}"
   ]
  },
  {
   "cell_type": "markdown",
   "metadata": {},
   "source": [
    "## Load results of writing experiment"
   ]
  },
  {
   "cell_type": "markdown",
   "metadata": {},
   "source": [
    "Prerequisites: Run `make data/analyzed/combined_data.csv`."
   ]
  },
  {
   "cell_type": "code",
   "execution_count": 11,
   "metadata": {},
   "outputs": [],
   "source": [
    "experiments = ['gc1', 'spec2']"
   ]
  },
  {
   "cell_type": "code",
   "execution_count": 12,
   "metadata": {},
   "outputs": [],
   "source": [
    "experiment_level_data = pd.read_csv(paths.analyzed / f'combined_experiments.csv')\n",
    "block_level_data = pd.read_csv(paths.analyzed / f'combined_blocks.csv')\n",
    "trial_level_data = pd.read_csv(paths.analyzed / f'combined_data.csv', dtype={'stimulus': str})\n",
    "#trial_level_data = pd.read_csv(paths.analyzed / f'trial_{batch}.csv')\n",
    "#helpful_ranks_by_condition = pd.read_csv(paths.analyzed / f'helpful_ranks_by_condition_{batch}.csv').set_index('index')\n",
    "\n",
    "recs_trials = trial_level_data.query('condition != \"norecs\"')"
   ]
  },
  {
   "cell_type": "code",
   "execution_count": 8,
   "metadata": {},
   "outputs": [],
   "source": [
    "from collections import Counter, defaultdict"
   ]
  },
  {
   "cell_type": "code",
   "execution_count": 9,
   "metadata": {},
   "outputs": [
    {
     "name": "stdout",
     "output_type": "stream",
     "text": [
      "Loading ONMT models...\n",
      "coco_lm_adam_acc_46.00_ppl_16.32_e10_nooptim.pt\n",
      "Loading model parameters.\n",
      "coco_cap_adam_acc_48.73_ppl_12.56_e10_nooptim.pt\n",
      "Loading model parameters.\n",
      "Ready.\n",
      "Loading SpaCy...done\n"
     ]
    }
   ],
   "source": [
    "from textrec.automated_analyses import nlp"
   ]
  },
  {
   "cell_type": "code",
   "execution_count": 10,
   "metadata": {},
   "outputs": [],
   "source": [
    "import wordfreq"
   ]
  },
  {
   "cell_type": "code",
   "execution_count": 38,
   "metadata": {},
   "outputs": [],
   "source": [
    "counts = defaultdict(Counter)\n",
    "for idx, row in trial_level_data.loc[:,'experiment participant block idx idx_in_block condition corrected_text'.split()].iterrows():\n",
    "    row2 = dict(row)\n",
    "    for word in wordfreq.tokenize(row2.pop('corrected_text'), 'en'):\n",
    "        counts[row2['condition']][word] += 1"
   ]
  },
  {
   "cell_type": "code",
   "execution_count": 39,
   "metadata": {},
   "outputs": [
    {
     "data": {
      "text/plain": [
       "{'standard': 870, 'norecs': 927, 'gated': 715, 'contextual': 460}"
      ]
     },
     "execution_count": 39,
     "metadata": {},
     "output_type": "execute_result"
    }
   ],
   "source": [
    "{cond: len(count) for cond, count in counts.items()}"
   ]
  },
  {
   "cell_type": "code",
   "execution_count": 40,
   "metadata": {},
   "outputs": [
    {
     "data": {
      "text/plain": [
       "2972"
      ]
     },
     "execution_count": 40,
     "metadata": {},
     "output_type": "execute_result"
    }
   ],
   "source": [
    "all_words = sorted(tok for count in counts.values() for tok in count.keys())\n",
    "word2idx = {word: idx for idx, word in enumerate(all_words)}\n",
    "len(all_words)"
   ]
  },
  {
   "cell_type": "code",
   "execution_count": 41,
   "metadata": {},
   "outputs": [
    {
     "data": {
      "text/plain": [
       "['contextual', 'gated', 'norecs', 'standard']"
      ]
     },
     "execution_count": 41,
     "metadata": {},
     "output_type": "execute_result"
    }
   ],
   "source": [
    "conds = sorted(counts.keys())\n",
    "conds"
   ]
  },
  {
   "cell_type": "code",
   "execution_count": 69,
   "metadata": {},
   "outputs": [],
   "source": [
    "counts_by_cond = np.zeros((len(conds), len(all_words)))\n",
    "for cond, count in counts.items():\n",
    "    cond_idx = conds.index(cond)\n",
    "    for tok, n in count.items():\n",
    "        assert n\n",
    "#         assert tok != 'a'\n",
    "        counts_by_cond[cond_idx, word2idx[tok]] = n"
   ]
  },
  {
   "cell_type": "code",
   "execution_count": 70,
   "metadata": {},
   "outputs": [
    {
     "data": {
      "text/plain": [
       "1"
      ]
     },
     "execution_count": 70,
     "metadata": {},
     "output_type": "execute_result"
    }
   ],
   "source": [
    "n"
   ]
  },
  {
   "cell_type": "code",
   "execution_count": 71,
   "metadata": {},
   "outputs": [],
   "source": [
    "counts_by_cond[cond_idx, word2idx[tok]] = n"
   ]
  },
  {
   "cell_type": "code",
   "execution_count": 72,
   "metadata": {},
   "outputs": [
    {
     "ename": "AssertionError",
     "evalue": "1539",
     "output_type": "error",
     "traceback": [
      "\u001b[0;31m---------------------------------------------------------------------------\u001b[0m",
      "\u001b[0;31mAssertionError\u001b[0m                            Traceback (most recent call last)",
      "\u001b[0;32m<ipython-input-72-f792528e6031>\u001b[0m in \u001b[0;36m<module>\u001b[0;34m()\u001b[0m\n\u001b[0;32m----> 1\u001b[0;31m \u001b[0;32massert\u001b[0m \u001b[0mnp\u001b[0m\u001b[0;34m.\u001b[0m\u001b[0msum\u001b[0m\u001b[0;34m(\u001b[0m\u001b[0mtotal_counts\u001b[0m \u001b[0;34m==\u001b[0m \u001b[0;36m0\u001b[0m\u001b[0;34m)\u001b[0m \u001b[0;34m==\u001b[0m \u001b[0;36m0\u001b[0m\u001b[0;34m,\u001b[0m \u001b[0mnp\u001b[0m\u001b[0;34m.\u001b[0m\u001b[0msum\u001b[0m\u001b[0;34m(\u001b[0m\u001b[0mtotal_counts\u001b[0m \u001b[0;34m==\u001b[0m \u001b[0;36m0\u001b[0m\u001b[0;34m)\u001b[0m\u001b[0;34m\u001b[0m\u001b[0m\n\u001b[0m",
      "\u001b[0;31mAssertionError\u001b[0m: 1539"
     ]
    }
   ],
   "source": [
    "assert np.sum(total_counts == 0) == 0, np.sum(total_counts == 0)"
   ]
  },
  {
   "cell_type": "code",
   "execution_count": 43,
   "metadata": {},
   "outputs": [
    {
     "data": {
      "text/plain": [
       "['to', 'white', 'is', 'of', 'in', 'with', 'on', 'and', 'the', 'a']"
      ]
     },
     "execution_count": 43,
     "metadata": {},
     "output_type": "execute_result"
    }
   ],
   "source": [
    "total_counts = counts_by_cond.sum(axis=0)\n",
    "[all_words[idx] for idx in np.argsort(total_counts)[-10:]]"
   ]
  },
  {
   "cell_type": "code",
   "execution_count": 44,
   "metadata": {},
   "outputs": [
    {
     "name": "stderr",
     "output_type": "stream",
     "text": [
      "/Users/kcarnold/anaconda3/envs/py36/lib/python3.6/site-packages/ipykernel_launcher.py:1: RuntimeWarning: divide by zero encountered in true_divide\n",
      "  \"\"\"Entry point for launching an IPython kernel.\n",
      "/Users/kcarnold/anaconda3/envs/py36/lib/python3.6/site-packages/ipykernel_launcher.py:1: RuntimeWarning: invalid value encountered in true_divide\n",
      "  \"\"\"Entry point for launching an IPython kernel.\n"
     ]
    }
   ],
   "source": [
    "fracs = counts_by_cond / total_counts"
   ]
  },
  {
   "cell_type": "code",
   "execution_count": 51,
   "metadata": {},
   "outputs": [
    {
     "data": {
      "text/plain": [
       "('food', 1)"
      ]
     },
     "execution_count": 51,
     "metadata": {},
     "output_type": "execute_result"
    }
   ],
   "source": [
    "tok, n"
   ]
  },
  {
   "cell_type": "code",
   "execution_count": 52,
   "metadata": {},
   "outputs": [
    {
     "data": {
      "text/plain": [
       "927"
      ]
     },
     "execution_count": 52,
     "metadata": {},
     "output_type": "execute_result"
    }
   ],
   "source": [
    "word2idx['food']"
   ]
  },
  {
   "cell_type": "code",
   "execution_count": 53,
   "metadata": {},
   "outputs": [
    {
     "data": {
      "text/plain": [
       "1.0"
      ]
     },
     "execution_count": 53,
     "metadata": {},
     "output_type": "execute_result"
    }
   ],
   "source": [
    "counts_by_cond[cond_idx, 927]"
   ]
  },
  {
   "cell_type": "code",
   "execution_count": 54,
   "metadata": {},
   "outputs": [
    {
     "data": {
      "text/plain": [
       "1.0"
      ]
     },
     "execution_count": 54,
     "metadata": {},
     "output_type": "execute_result"
    }
   ],
   "source": [
    "total_counts[927]"
   ]
  },
  {
   "cell_type": "code",
   "execution_count": 58,
   "metadata": {},
   "outputs": [
    {
     "data": {
      "text/plain": [
       "array([   0,    1,    2, ..., 2964, 2966, 2967])"
      ]
     },
     "execution_count": 58,
     "metadata": {},
     "output_type": "execute_result"
    }
   ],
   "source": [
    "np.flatnonzero(total_counts == 0)"
   ]
  },
  {
   "cell_type": "code",
   "execution_count": 61,
   "metadata": {},
   "outputs": [
    {
     "data": {
      "text/plain": [
       "1335"
      ]
     },
     "execution_count": 61,
     "metadata": {},
     "output_type": "execute_result"
    }
   ],
   "source": [
    "counts['standard']['a']"
   ]
  },
  {
   "cell_type": "code",
   "execution_count": 59,
   "metadata": {},
   "outputs": [
    {
     "data": {
      "text/plain": [
       "'a'"
      ]
     },
     "execution_count": 59,
     "metadata": {},
     "output_type": "execute_result"
    }
   ],
   "source": [
    "all_words[0]"
   ]
  },
  {
   "cell_type": "code",
   "execution_count": 16,
   "metadata": {},
   "outputs": [],
   "source": [
    "import scipy.stats"
   ]
  },
  {
   "cell_type": "code",
   "execution_count": 10,
   "metadata": {},
   "outputs": [
    {
     "data": {
      "text/html": [
       "<div>\n",
       "<style scoped>\n",
       "    .dataframe tbody tr th:only-of-type {\n",
       "        vertical-align: middle;\n",
       "    }\n",
       "\n",
       "    .dataframe tbody tr th {\n",
       "        vertical-align: top;\n",
       "    }\n",
       "\n",
       "    .dataframe thead th {\n",
       "        text-align: right;\n",
       "    }\n",
       "</style>\n",
       "<table border=\"1\" class=\"dataframe\">\n",
       "  <thead>\n",
       "    <tr style=\"text-align: right;\">\n",
       "      <th></th>\n",
       "      <th>experiment</th>\n",
       "      <th>participant</th>\n",
       "      <th>age</th>\n",
       "      <th>english_proficiency</th>\n",
       "      <th>gender</th>\n",
       "      <th>helpfulRank-accurate-least-condition</th>\n",
       "      <th>helpfulRank-accurate-least-idx</th>\n",
       "      <th>helpfulRank-accurate-most-condition</th>\n",
       "      <th>helpfulRank-accurate-most-idx</th>\n",
       "      <th>helpfulRank-quick-least-condition</th>\n",
       "      <th>...</th>\n",
       "      <th>corrected_idealrecuse_gated</th>\n",
       "      <th>corrected_bow_recs_offered_gated</th>\n",
       "      <th>corrected_bow_recs_idealuse_gated</th>\n",
       "      <th>corrected_tapstotype_cond</th>\n",
       "      <th>corrected_efficiency</th>\n",
       "      <th>ideal_taps_per_word_corrected</th>\n",
       "      <th>first_block_condition</th>\n",
       "      <th>chars_per_sec_norecs_mean</th>\n",
       "      <th>chars_per_sec_ratio_to_norecs</th>\n",
       "      <th>chars_per_sec_ratio_to_norecs_log</th>\n",
       "    </tr>\n",
       "  </thead>\n",
       "  <tbody>\n",
       "  </tbody>\n",
       "</table>\n",
       "<p>0 rows × 143 columns</p>\n",
       "</div>"
      ],
      "text/plain": [
       "Empty DataFrame\n",
       "Columns: [experiment, participant, age, english_proficiency, gender, helpfulRank-accurate-least-condition, helpfulRank-accurate-least-idx, helpfulRank-accurate-most-condition, helpfulRank-accurate-most-idx, helpfulRank-quick-least-condition, helpfulRank-quick-least-idx, helpfulRank-quick-most-condition, helpfulRank-quick-most-idx, helpfulRank-specific-least-condition, helpfulRank-specific-least-idx, helpfulRank-specific-most-condition, helpfulRank-specific-most-idx, differences, other_exp, techDiff_exp, total_time, use_predictive, verbalized_during, condition_order, stimulus_order, num_trials_where_recs_used, NFC, NFC_boxcox, Extraversion, Extraversion_boxcox, Openness, Openness_boxcox, Trust, Trust_boxcox, block, condition, mental, physical, temporal, performance, effort, frustration, TLX_sum, sys-accurate, sys-fast, sys-specific, techDiff_block, other_block, idx, idx_in_block, stimulus, text, num_chars, num_words, num_tapBackspace, num_tapKey, num_tapSugg_any, num_tapSugg_full, num_tapSugg_part, num_taps, used_any_suggs, num_recs_seen, num_recs_full_seen, num_recs_full_gated, rec_use_full_per_seen, rec_use_full_per_seen_boxcox, rec_use_per_seen, rec_use_per_seen_boxcox, num_recs_used_on_mainline, num_recs_useful, relevant_use_frac, rec_use_per_word, delay_before_start, delay_before_start_boxcox, seconds_spent_typing, seconds_spent_typing_boxcox, characters_per_sec, characters_per_sec_boxcox, taps_per_second, taps_per_second_boxcox, backspaces_per_tap, backspaces_per_tap_boxcox, backspaces_per_char, backspaces_per_char_boxcox, extraneous_inputs, extraneous_inputs_boxcox, extraneous_inputs_per_input, extraneous_inputs_per_input_boxcox, extraneous_inputs_per_char, extraneous_inputs_per_char_boxcox, extraneous_inputs_per_word, extraneous_inputs_per_word_boxcox, ideal_taps_per_word, orig_tapstotype_norecs, orig_idealrecuse_norecs, orig_tapstotype_standard, orig_idealrecuse_standard, orig_bow_recs_offered_standard, orig_bow_recs_idealuse_standard, orig_tapstotype_gated, ...]\n",
       "Index: []\n",
       "\n",
       "[0 rows x 143 columns]"
      ]
     },
     "execution_count": 10,
     "metadata": {},
     "output_type": "execute_result"
    }
   ],
   "source": [
    "trial_level_data[trial_level_data['corrected_text'].isnull()]"
   ]
  },
  {
   "cell_type": "code",
   "execution_count": 11,
   "metadata": {},
   "outputs": [],
   "source": [
    "#experiment_level_data['NFC_quartile'] = np.floor(4 * experiment_level_data.NFC.rank(pct=True))"
   ]
  },
  {
   "cell_type": "code",
   "execution_count": 12,
   "metadata": {},
   "outputs": [],
   "source": [
    "#trial_level_data['NFC_quartile_trial'] = np.floor(4*trial_level_data.NFC.rank(pct=True))"
   ]
  },
  {
   "cell_type": "code",
   "execution_count": 13,
   "metadata": {},
   "outputs": [],
   "source": [
    "#t = pd.merge(experiment_level_data, trial_level_data, on='participant', how='right')\n",
    "#t[t.NFC_quartile_trial != t.NFC_quartile].loc[:, ['participant', 'NFC_x', 'NFC_quartile_trial', 'NFC_quartile']]"
   ]
  },
  {
   "cell_type": "code",
   "execution_count": 14,
   "metadata": {},
   "outputs": [],
   "source": [
    "for col in 'participant condition stimulus'.split():\n",
    "    trial_level_data[col] = trial_level_data[col].astype('category')"
   ]
  },
  {
   "cell_type": "code",
   "execution_count": 15,
   "metadata": {},
   "outputs": [],
   "source": [
    "def savefig(fn):\n",
    "    plt.savefig(str(paths.figures / f'combined_{fn}.pdf'), metadata={'creationDate': None})"
   ]
  },
  {
   "cell_type": "code",
   "execution_count": 16,
   "metadata": {},
   "outputs": [],
   "source": [
    "experiment_level_data.gender = experiment_level_data.gender.str.strip()"
   ]
  },
  {
   "cell_type": "code",
   "execution_count": 17,
   "metadata": {},
   "outputs": [
    {
     "data": {
      "text/plain": [
       "male      80\n",
       "female    58\n",
       "NaN        3\n",
       "Name: gender, dtype: int64"
      ]
     },
     "execution_count": 17,
     "metadata": {},
     "output_type": "execute_result"
    }
   ],
   "source": [
    "experiment_level_data.gender.value_counts(dropna=False)"
   ]
  },
  {
   "cell_type": "code",
   "execution_count": 18,
   "metadata": {},
   "outputs": [],
   "source": [
    "data = dict(\n",
    "    num_participants=len(set(trial_level_data.participant)),\n",
    "    non_male=(experiment_level_data.gender != 'male').sum().item(),\n",
    "    num_trials_per=trial_level_data.groupby('participant').size().mean().item(),\n",
    "    n_trials=len(trial_level_data))"
   ]
  },
  {
   "cell_type": "code",
   "execution_count": 19,
   "metadata": {},
   "outputs": [
    {
     "data": {
      "text/plain": [
       "{'num_participants': 141,\n",
       " 'non_male': 61,\n",
       " 'num_trials_per': 12.0,\n",
       " 'n_trials': 1692}"
      ]
     },
     "execution_count": 19,
     "metadata": {},
     "output_type": "execute_result"
    }
   ],
   "source": [
    "data"
   ]
  },
  {
   "cell_type": "code",
   "execution_count": 20,
   "metadata": {},
   "outputs": [],
   "source": [
    "for exp, group in experiment_level_data.groupby('experiment'):\n",
    "    data.setdefault(exp, {})\n",
    "    data[exp]['num_participants'] = len(group)\n",
    "    helpfulness_columns = [col for col in experiment_level_data.columns if col.startswith('helpfulRank')]\n",
    "    helpful_ranks = group[helpfulness_columns]\n",
    "    helpful_ranks = helpful_ranks.rename(columns={col: col[len('helpfulRank-'):] for col in helpfulness_columns})\n",
    "\n",
    "    helpful_ranks_by_condition = (\n",
    "        helpful_ranks[[col for col in helpful_ranks.columns if col.endswith('condition')]]\n",
    "        .apply(pd.value_counts)\n",
    "        .fillna(0).astype(int))\n",
    "    data[exp]['helpful_most_votes'] = (\n",
    "        helpful_ranks_by_condition\n",
    "        .loc[:,[col for col in helpful_ranks_by_condition.columns if 'most' in col]]\n",
    "        .sum(axis=1).to_dict())\n",
    "    data[exp]['helpful_least_votes'] = (\n",
    "        helpful_ranks_by_condition\n",
    "        .loc[:,[col for col in helpful_ranks_by_condition.columns if 'least' in col]]\n",
    "        .sum(axis=1).to_dict())"
   ]
  },
  {
   "cell_type": "code",
   "execution_count": 21,
   "metadata": {},
   "outputs": [
    {
     "data": {
      "text/plain": [
       "{'num_participants': 111,\n",
       " 'helpful_most_votes': {'gated': 102, 'norecs': 21, 'standard': 210},\n",
       " 'helpful_least_votes': {'gated': 38, 'norecs': 284, 'standard': 11}}"
      ]
     },
     "execution_count": 21,
     "metadata": {},
     "output_type": "execute_result"
    }
   ],
   "source": [
    "data['gc1']"
   ]
  },
  {
   "cell_type": "code",
   "execution_count": 22,
   "metadata": {},
   "outputs": [
    {
     "data": {
      "text/plain": [
       "{'num_participants': 30,\n",
       " 'helpful_most_votes': {'contextual': 56, 'norecs': 3, 'standard': 30},\n",
       " 'helpful_least_votes': {'contextual': 3, 'norecs': 83, 'standard': 4}}"
      ]
     },
     "execution_count": 22,
     "metadata": {},
     "output_type": "execute_result"
    }
   ],
   "source": [
    "data['spec2']"
   ]
  },
  {
   "cell_type": "code",
   "execution_count": 23,
   "metadata": {},
   "outputs": [],
   "source": [
    "helpfulness_columns = [col for col in experiment_level_data.columns if col.startswith('helpfulRank')]\n",
    "helpful_ranks = experiment_level_data[['experiment'] + helpfulness_columns]\n",
    "helpful_ranks = helpful_ranks.rename(columns={col: col[len('helpfulRank-'):] for col in helpfulness_columns})\n",
    "\n",
    "helpful_ranks_by_condition = (\n",
    "    helpful_ranks[['experiment']+[col for col in helpful_ranks.columns if col.endswith('condition')]]\n",
    "    .groupby('experiment').apply(lambda group: group.apply(pd.value_counts))\n",
    "    .fillna(0).astype(int))\n",
    "# helpful_ranks_by_idx = (\n",
    "#     helpful_ranks[[col for col in helpful_ranks.columns if col.endswith('idx')]]\n",
    "#     .apply(pd.value_counts)\n",
    "#     .fillna(0).astype(int))\n"
   ]
  },
  {
   "cell_type": "code",
   "execution_count": null,
   "metadata": {},
   "outputs": [],
   "source": []
  },
  {
   "cell_type": "code",
   "execution_count": 24,
   "metadata": {},
   "outputs": [
    {
     "data": {
      "text/html": [
       "Each of 141 participants (61 non-male) completed 12.0 trials per experiment, for a total of 1692 trials."
      ],
      "text/plain": [
       "<IPython.core.display.HTML object>"
      ]
     },
     "execution_count": 24,
     "metadata": {},
     "output_type": "execute_result"
    }
   ],
   "source": [
    "HTML(\"Each of {num_participants} participants ({non_male} non-male) completed {num_trials_per} trials per experiment, for a total of {n_trials} trials.\".format_map(data))"
   ]
  },
  {
   "cell_type": "code",
   "execution_count": 25,
   "metadata": {},
   "outputs": [
    {
     "data": {
      "text/html": [
       "Participants spent 30.8 +- 38.1 minutes total."
      ],
      "text/plain": [
       "<IPython.core.display.HTML object>"
      ]
     },
     "execution_count": 25,
     "metadata": {},
     "output_type": "execute_result"
    }
   ],
   "source": [
    "HTML(\"Participants spent {total_time_mean:.1f} +- {total_time_std:.1f} minutes total.\".format(\n",
    "    total_time_mean=experiment_level_data.total_time.mean(),\n",
    "    total_time_std=experiment_level_data.total_time.std()))"
   ]
  },
  {
   "cell_type": "code",
   "execution_count": 26,
   "metadata": {},
   "outputs": [
    {
     "name": "stdout",
     "output_type": "stream",
     "text": [
      "used_predictive {'Often': 64, 'Rarely': 47, 'Very_Rarely': 23, 'Almost_Always': 5, 'Never': 2}\n"
     ]
    }
   ],
   "source": [
    "data['used_predictive'] = {k.replace(' ', '_'): v for k, v in \n",
    "                                     experiment_level_data.use_predictive.value_counts().to_dict().items()}\n",
    "data['verbalized_during'] = experiment_level_data.verbalized_during.value_counts().to_dict()\n",
    "print('used_predictive', data['used_predictive'])"
   ]
  },
  {
   "cell_type": "code",
   "execution_count": 27,
   "metadata": {},
   "outputs": [
    {
     "data": {
      "text/html": [
       "\n",
       "Most participants reported (before beginning the study) that they used predictive typing on their phones:\n",
       "<table border=\"1\" class=\"dataframe\">\n",
       "  <thead>\n",
       "    <tr style=\"text-align: right;\">\n",
       "      <th></th>\n",
       "      <th>Used predictive typing?</th>\n",
       "    </tr>\n",
       "  </thead>\n",
       "  <tbody>\n",
       "    <tr>\n",
       "      <th>Often</th>\n",
       "      <td>64</td>\n",
       "    </tr>\n",
       "    <tr>\n",
       "      <th>Rarely</th>\n",
       "      <td>47</td>\n",
       "    </tr>\n",
       "    <tr>\n",
       "      <th>Very Rarely</th>\n",
       "      <td>23</td>\n",
       "    </tr>\n",
       "    <tr>\n",
       "      <th>Almost Always</th>\n",
       "      <td>5</td>\n",
       "    </tr>\n",
       "    <tr>\n",
       "      <th>Never</th>\n",
       "      <td>2</td>\n",
       "    </tr>\n",
       "  </tbody>\n",
       "</table>"
      ],
      "text/plain": [
       "<IPython.core.display.HTML object>"
      ]
     },
     "execution_count": 27,
     "metadata": {},
     "output_type": "execute_result"
    }
   ],
   "source": [
    "HTML(\"\"\"\n",
    "Most participants reported (before beginning the study) that they used predictive typing on their phones:\n",
    "\"\"\" + experiment_level_data.use_predictive.value_counts().to_frame(\"Used predictive typing?\").to_html())"
   ]
  },
  {
   "cell_type": "code",
   "execution_count": 28,
   "metadata": {},
   "outputs": [
    {
     "data": {
      "text/html": [
       "\n",
       "Several participants answered Yes to \"While you were writing, did you speak or whisper what you were writing?\":\n",
       "<table border=\"1\" class=\"dataframe\">\n",
       "  <thead>\n",
       "    <tr style=\"text-align: right;\">\n",
       "      <th></th>\n",
       "      <th>Verbalized?</th>\n",
       "    </tr>\n",
       "  </thead>\n",
       "  <tbody>\n",
       "    <tr>\n",
       "      <th>No</th>\n",
       "      <td>115</td>\n",
       "    </tr>\n",
       "    <tr>\n",
       "      <th>Yes</th>\n",
       "      <td>26</td>\n",
       "    </tr>\n",
       "  </tbody>\n",
       "</table>"
      ],
      "text/plain": [
       "<IPython.core.display.HTML object>"
      ]
     },
     "execution_count": 28,
     "metadata": {},
     "output_type": "execute_result"
    }
   ],
   "source": [
    "HTML(\"\"\"\n",
    "Several participants answered Yes to \"While you were writing, did you speak or whisper what you were writing?\":\n",
    "\"\"\" + experiment_level_data.verbalized_during.value_counts().to_frame(\"Verbalized?\").to_html())"
   ]
  },
  {
   "cell_type": "code",
   "execution_count": 29,
   "metadata": {},
   "outputs": [
    {
     "data": {
      "text/html": [
       "\n",
       "We collected 10 items each for NFC and Extraversion.\n",
       "We obtained a wider range of Extraversion than NFC.\n",
       "(Min and max scales normalized to 0 and 1 respectively.)"
      ],
      "text/plain": [
       "<IPython.core.display.HTML object>"
      ]
     },
     "execution_count": 29,
     "metadata": {},
     "output_type": "execute_result"
    },
    {
     "data": {
      "image/png": "[encoded data removed]",
      "text/plain": [
       "<matplotlib.figure.Figure at 0x1a3ef77828>"
      ]
     },
     "metadata": {},
     "output_type": "display_data"
    }
   ],
   "source": [
    "plt.close('all')\n",
    "experiment_level_data.plot.scatter(x='Extraversion', y='NFC');\n",
    "plt.xlim([0, 1])\n",
    "plt.ylim([0, 1]);\n",
    "savefig('trait_distribution')\n",
    "HTML(\"\"\"\n",
    "We collected 10 items each for NFC and Extraversion.\n",
    "We obtained a wider range of Extraversion than NFC.\n",
    "(Min and max scales normalized to 0 and 1 respectively.)\"\"\")"
   ]
  },
  {
   "cell_type": "code",
   "execution_count": 30,
   "metadata": {},
   "outputs": [],
   "source": [
    "def latexify_conds(txt):\n",
    "    for cond in 'norecs standard contextual gated'.split():\n",
    "        txt = txt.replace(cond, f'\\\\S{cond}')\n",
    "    return txt"
   ]
  },
  {
   "cell_type": "code",
   "execution_count": 31,
   "metadata": {},
   "outputs": [
    {
     "name": "stdout",
     "output_type": "stream",
     "text": [
      "\\begin{tabular}{llr}\n",
      "\\toprule\n",
      "      &                            &  Num participants \\\\\n",
      "experiment & condition\\_order &                   \\\\\n",
      "\\midrule\n",
      "gc1 & \\Sgated, \\Sstandard, \\Snorecs &                19 \\\\\n",
      "      & \\Sstandard, \\Sgated, \\Snorecs &                19 \\\\\n",
      "      & \\Sstandard, \\Snorecs, \\Sgated &                19 \\\\\n",
      "      & \\Sgated, \\Snorecs, \\Sstandard &                18 \\\\\n",
      "      & \\Snorecs, \\Sgated, \\Sstandard &                18 \\\\\n",
      "      & \\Snorecs, \\Sstandard, \\Sgated &                18 \\\\\n",
      "spec2 & \\Scontextual, \\Snorecs, \\Sstandard &                 5 \\\\\n",
      "      & \\Scontextual, \\Sstandard, \\Snorecs &                 5 \\\\\n",
      "      & \\Snorecs, \\Scontextual, \\Sstandard &                 5 \\\\\n",
      "      & \\Snorecs, \\Sstandard, \\Scontextual &                 5 \\\\\n",
      "      & \\Sstandard, \\Scontextual, \\Snorecs &                 5 \\\\\n",
      "      & \\Sstandard, \\Snorecs, \\Scontextual &                 5 \\\\\n",
      "\\bottomrule\n",
      "\\end{tabular}\n",
      "\n"
     ]
    }
   ],
   "source": [
    "covc = experiment_level_data.groupby('experiment').condition_order.value_counts()\n",
    "covc.name = 'Num participants'\n",
    "covc = covc.to_latex()\n",
    "covc = covc.replace(',', ', ')\n",
    "covc = latexify_conds(covc)\n",
    "print(covc)\n",
    "data['condition_order_table'] = covc"
   ]
  },
  {
   "cell_type": "code",
   "execution_count": 32,
   "metadata": {},
   "outputs": [
    {
     "data": {
      "text/html": [
       "<div>\n",
       "<style scoped>\n",
       "    .dataframe tbody tr th:only-of-type {\n",
       "        vertical-align: middle;\n",
       "    }\n",
       "\n",
       "    .dataframe tbody tr th {\n",
       "        vertical-align: top;\n",
       "    }\n",
       "\n",
       "    .dataframe thead th {\n",
       "        text-align: right;\n",
       "    }\n",
       "</style>\n",
       "<table border=\"1\" class=\"dataframe\">\n",
       "  <thead>\n",
       "    <tr style=\"text-align: right;\">\n",
       "      <th></th>\n",
       "      <th></th>\n",
       "      <th>condition_order</th>\n",
       "    </tr>\n",
       "    <tr>\n",
       "      <th>experiment</th>\n",
       "      <th>condition_order</th>\n",
       "      <th></th>\n",
       "    </tr>\n",
       "  </thead>\n",
       "  <tbody>\n",
       "    <tr>\n",
       "      <th rowspan=\"6\" valign=\"top\">gc1</th>\n",
       "      <th>gated,standard,norecs</th>\n",
       "      <td>19</td>\n",
       "    </tr>\n",
       "    <tr>\n",
       "      <th>standard,gated,norecs</th>\n",
       "      <td>19</td>\n",
       "    </tr>\n",
       "    <tr>\n",
       "      <th>standard,norecs,gated</th>\n",
       "      <td>19</td>\n",
       "    </tr>\n",
       "    <tr>\n",
       "      <th>gated,norecs,standard</th>\n",
       "      <td>18</td>\n",
       "    </tr>\n",
       "    <tr>\n",
       "      <th>norecs,gated,standard</th>\n",
       "      <td>18</td>\n",
       "    </tr>\n",
       "    <tr>\n",
       "      <th>norecs,standard,gated</th>\n",
       "      <td>18</td>\n",
       "    </tr>\n",
       "    <tr>\n",
       "      <th rowspan=\"6\" valign=\"top\">spec2</th>\n",
       "      <th>contextual,norecs,standard</th>\n",
       "      <td>5</td>\n",
       "    </tr>\n",
       "    <tr>\n",
       "      <th>contextual,standard,norecs</th>\n",
       "      <td>5</td>\n",
       "    </tr>\n",
       "    <tr>\n",
       "      <th>norecs,contextual,standard</th>\n",
       "      <td>5</td>\n",
       "    </tr>\n",
       "    <tr>\n",
       "      <th>norecs,standard,contextual</th>\n",
       "      <td>5</td>\n",
       "    </tr>\n",
       "    <tr>\n",
       "      <th>standard,contextual,norecs</th>\n",
       "      <td>5</td>\n",
       "    </tr>\n",
       "    <tr>\n",
       "      <th>standard,norecs,contextual</th>\n",
       "      <td>5</td>\n",
       "    </tr>\n",
       "  </tbody>\n",
       "</table>\n",
       "</div>"
      ],
      "text/plain": [
       "                                       condition_order\n",
       "experiment condition_order                            \n",
       "gc1        gated,standard,norecs                    19\n",
       "           standard,gated,norecs                    19\n",
       "           standard,norecs,gated                    19\n",
       "           gated,norecs,standard                    18\n",
       "           norecs,gated,standard                    18\n",
       "           norecs,standard,gated                    18\n",
       "spec2      contextual,norecs,standard                5\n",
       "           contextual,standard,norecs                5\n",
       "           norecs,contextual,standard                5\n",
       "           norecs,standard,contextual                5\n",
       "           standard,contextual,norecs                5\n",
       "           standard,norecs,contextual                5"
      ]
     },
     "execution_count": 32,
     "metadata": {},
     "output_type": "execute_result"
    }
   ],
   "source": [
    "experiment_level_data.groupby('experiment').condition_order.value_counts().to_frame()"
   ]
  },
  {
   "cell_type": "code",
   "execution_count": 33,
   "metadata": {},
   "outputs": [],
   "source": [
    "def summarize_means(df, by, outcome):\n",
    "    means = df.groupby(by)[outcome].mean()\n",
    "    data[f'{outcome}_means'] = means.to_dict()\n",
    "    for exp, group in df.groupby('experiment'):\n",
    "        data[exp][f'{outcome}_means'] = group.groupby(by)[outcome].mean().to_dict()\n",
    "    return ', '.join(f'{name}={group_mean:.2f}' for name, group_mean in means.iteritems())"
   ]
  },
  {
   "cell_type": "code",
   "execution_count": 34,
   "metadata": {},
   "outputs": [],
   "source": [
    "def analyze_outcome(df, by, outcome):\n",
    "    plt.close('all')\n",
    "    sns.barplot(x=by, y=outcome, data=df, capsize=.2)\n",
    "    plt.ylabel(friendly_names.get(outcome, outcome))\n",
    "    savefig(outcome)\n",
    "    return summarize_means(df, by, outcome)"
   ]
  },
  {
   "cell_type": "code",
   "execution_count": 35,
   "metadata": {},
   "outputs": [
    {
     "name": "stderr",
     "output_type": "stream",
     "text": [
      "/Users/kcarnold/anaconda3/envs/py36/lib/python3.6/site-packages/scipy/stats/stats.py:1706: FutureWarning: Using a non-tuple sequence for multidimensional indexing is deprecated; use `arr[tuple(seq)]` instead of `arr[seq]`. In the future this will be interpreted as an array index, `arr[np.array(seq)]`, which will result either in an error or a different result.\n",
      "  return np.add.reduce(sorted[indexer] * weights, axis=axis) / sumval\n"
     ]
    },
    {
     "data": {
      "text/plain": [
       "'contextual=8.97, gated=10.32, norecs=15.12, standard=9.33'"
      ]
     },
     "execution_count": 35,
     "metadata": {},
     "output_type": "execute_result"
    },
    {
     "data": {
      "image/png": "[encoded data removed]",
      "text/plain": [
       "<matplotlib.figure.Figure at 0x10bb87f60>"
      ]
     },
     "metadata": {},
     "output_type": "display_data"
    }
   ],
   "source": [
    "analyze_outcome(block_level_data, 'condition', 'TLX_sum')"
   ]
  },
  {
   "cell_type": "code",
   "execution_count": 36,
   "metadata": {},
   "outputs": [
    {
     "name": "stderr",
     "output_type": "stream",
     "text": [
      "/Users/kcarnold/anaconda3/envs/py36/lib/python3.6/site-packages/scipy/stats/stats.py:1706: FutureWarning: Using a non-tuple sequence for multidimensional indexing is deprecated; use `arr[tuple(seq)]` instead of `arr[seq]`. In the future this will be interpreted as an array index, `arr[np.array(seq)]`, which will result either in an error or a different result.\n",
      "  return np.add.reduce(sorted[indexer] * weights, axis=axis) / sumval\n"
     ]
    },
    {
     "data": {
      "image/png": "[encoded data removed]",
      "text/plain": [
       "<matplotlib.figure.Figure at 0x1a3f4984a8>"
      ]
     },
     "metadata": {},
     "output_type": "display_data"
    }
   ],
   "source": [
    "plt.close('all')\n",
    "tlxen = 'mental physical temporal performance effort frustration'.split()\n",
    "fig, axs = plt.subplots(2, 3, figsize=(10,6), sharey=True)\n",
    "plt.subplots_adjust(wspace=.4, hspace=.3)\n",
    "for i, facet in enumerate(tlxen):\n",
    "    ax = axs.ravel()[i]\n",
    "    sns.barplot(x='condition', y=facet, data=block_level_data, capsize=.2, ax=ax)\n",
    "savefig('tlx_parts')"
   ]
  },
  {
   "cell_type": "code",
   "execution_count": 37,
   "metadata": {},
   "outputs": [
    {
     "name": "stderr",
     "output_type": "stream",
     "text": [
      "/Users/kcarnold/anaconda3/envs/py36/lib/python3.6/site-packages/scipy/stats/stats.py:1706: FutureWarning: Using a non-tuple sequence for multidimensional indexing is deprecated; use `arr[tuple(seq)]` instead of `arr[seq]`. In the future this will be interpreted as an array index, `arr[np.array(seq)]`, which will result either in an error or a different result.\n",
      "  return np.add.reduce(sorted[indexer] * weights, axis=axis) / sumval\n"
     ]
    },
    {
     "data": {
      "text/plain": [
       "'contextual=72.41, gated=67.05, norecs=73.48, standard=68.80'"
      ]
     },
     "execution_count": 37,
     "metadata": {},
     "output_type": "execute_result"
    },
    {
     "data": {
      "image/png": "[encoded data removed]",
      "text/plain": [
       "<matplotlib.figure.Figure at 0x1a3f088048>"
      ]
     },
     "metadata": {},
     "output_type": "display_data"
    }
   ],
   "source": [
    "analyze_outcome(trial_level_data, 'condition', 'num_chars')"
   ]
  },
  {
   "cell_type": "code",
   "execution_count": 38,
   "metadata": {},
   "outputs": [
    {
     "name": "stderr",
     "output_type": "stream",
     "text": [
      "/Users/kcarnold/anaconda3/envs/py36/lib/python3.6/site-packages/scipy/stats/stats.py:1706: FutureWarning: Using a non-tuple sequence for multidimensional indexing is deprecated; use `arr[tuple(seq)]` instead of `arr[seq]`. In the future this will be interpreted as an array index, `arr[np.array(seq)]`, which will result either in an error or a different result.\n",
      "  return np.add.reduce(sorted[indexer] * weights, axis=axis) / sumval\n"
     ]
    },
    {
     "data": {
      "text/plain": [
       "'contextual=14.51, gated=13.19, norecs=14.49, standard=13.69'"
      ]
     },
     "execution_count": 38,
     "metadata": {},
     "output_type": "execute_result"
    },
    {
     "data": {
      "image/png": "[encoded data removed]",
      "text/plain": [
       "<matplotlib.figure.Figure at 0x1a3f4986a0>"
      ]
     },
     "metadata": {},
     "output_type": "display_data"
    }
   ],
   "source": [
    "analyze_outcome(trial_level_data, 'condition', 'num_words')"
   ]
  },
  {
   "cell_type": "code",
   "execution_count": 39,
   "metadata": {},
   "outputs": [
    {
     "name": "stderr",
     "output_type": "stream",
     "text": [
      "/Users/kcarnold/anaconda3/envs/py36/lib/python3.6/site-packages/scipy/stats/stats.py:1706: FutureWarning: Using a non-tuple sequence for multidimensional indexing is deprecated; use `arr[tuple(seq)]` instead of `arr[seq]`. In the future this will be interpreted as an array index, `arr[np.array(seq)]`, which will result either in an error or a different result.\n",
      "  return np.add.reduce(sorted[indexer] * weights, axis=axis) / sumval\n"
     ]
    },
    {
     "data": {
      "text/plain": [
       "'contextual=0.11, gated=0.13, norecs=0.21, standard=0.12'"
      ]
     },
     "execution_count": 39,
     "metadata": {},
     "output_type": "execute_result"
    },
    {
     "data": {
      "image/png": "[encoded data removed]",
      "text/plain": [
       "<matplotlib.figure.Figure at 0x1a3fecf780>"
      ]
     },
     "metadata": {},
     "output_type": "display_data"
    }
   ],
   "source": [
    "analyze_outcome(trial_level_data, 'condition', 'backspaces_per_char')"
   ]
  },
  {
   "cell_type": "code",
   "execution_count": 40,
   "metadata": {},
   "outputs": [
    {
     "name": "stderr",
     "output_type": "stream",
     "text": [
      "/Users/kcarnold/anaconda3/envs/py36/lib/python3.6/site-packages/scipy/stats/stats.py:1706: FutureWarning: Using a non-tuple sequence for multidimensional indexing is deprecated; use `arr[tuple(seq)]` instead of `arr[seq]`. In the future this will be interpreted as an array index, `arr[np.array(seq)]`, which will result either in an error or a different result.\n",
      "  return np.add.reduce(sorted[indexer] * weights, axis=axis) / sumval\n"
     ]
    },
    {
     "data": {
      "text/plain": [
       "'contextual=0.00, gated=0.00, norecs=0.00, standard=0.00'"
      ]
     },
     "execution_count": 40,
     "metadata": {},
     "output_type": "execute_result"
    },
    {
     "data": {
      "image/png": "[encoded data removed]",
      "text/plain": [
       "<matplotlib.figure.Figure at 0x1a3ff2db70>"
      ]
     },
     "metadata": {},
     "output_type": "display_data"
    }
   ],
   "source": [
    "analyze_outcome(trial_level_data, 'condition', 'uncorrected_errors_per_char')"
   ]
  },
  {
   "cell_type": "code",
   "execution_count": 41,
   "metadata": {},
   "outputs": [
    {
     "name": "stderr",
     "output_type": "stream",
     "text": [
      "/Users/kcarnold/anaconda3/envs/py36/lib/python3.6/site-packages/scipy/stats/stats.py:1706: FutureWarning: Using a non-tuple sequence for multidimensional indexing is deprecated; use `arr[tuple(seq)]` instead of `arr[seq]`. In the future this will be interpreted as an array index, `arr[np.array(seq)]`, which will result either in an error or a different result.\n",
      "  return np.add.reduce(sorted[indexer] * weights, axis=axis) / sumval\n"
     ]
    },
    {
     "data": {
      "text/plain": [
       "'contextual=7.43, gated=8.72, norecs=15.17, standard=8.46'"
      ]
     },
     "execution_count": 41,
     "metadata": {},
     "output_type": "execute_result"
    },
    {
     "data": {
      "image/png": "[encoded data removed]",
      "text/plain": [
       "<matplotlib.figure.Figure at 0x1a40305908>"
      ]
     },
     "metadata": {},
     "output_type": "display_data"
    }
   ],
   "source": [
    "analyze_outcome(trial_level_data, 'condition', 'num_tapBackspace')"
   ]
  },
  {
   "cell_type": "code",
   "execution_count": 42,
   "metadata": {},
   "outputs": [
    {
     "name": "stderr",
     "output_type": "stream",
     "text": [
      "/Users/kcarnold/anaconda3/envs/py36/lib/python3.6/site-packages/scipy/stats/stats.py:1706: FutureWarning: Using a non-tuple sequence for multidimensional indexing is deprecated; use `arr[tuple(seq)]` instead of `arr[seq]`. In the future this will be interpreted as an array index, `arr[np.array(seq)]`, which will result either in an error or a different result.\n",
      "  return np.add.reduce(sorted[indexer] * weights, axis=axis) / sumval\n"
     ]
    },
    {
     "data": {
      "text/plain": [
       "'contextual=2.17, gated=2.00, norecs=1.98, standard=2.11'"
      ]
     },
     "execution_count": 42,
     "metadata": {},
     "output_type": "execute_result"
    },
    {
     "data": {
      "image/png": "[encoded data removed]",
      "text/plain": [
       "<matplotlib.figure.Figure at 0x1a3f498898>"
      ]
     },
     "metadata": {},
     "output_type": "display_data"
    }
   ],
   "source": [
    "analyze_outcome(trial_level_data, 'condition', 'characters_per_sec')"
   ]
  },
  {
   "cell_type": "code",
   "execution_count": 43,
   "metadata": {},
   "outputs": [],
   "source": [
    "#analyze_outcome(recs_trials, 'condition', 'rec_use_full_frac')"
   ]
  },
  {
   "cell_type": "code",
   "execution_count": 44,
   "metadata": {},
   "outputs": [],
   "source": [
    "#analyze_outcome(trial_level_data, 'condition', 'extraneous_inputs_per_char')"
   ]
  },
  {
   "cell_type": "code",
   "execution_count": 45,
   "metadata": {},
   "outputs": [],
   "source": [
    "#analyze_outcome(recs_trials, 'condition', 'rec_use_frac')"
   ]
  },
  {
   "cell_type": "code",
   "execution_count": 70,
   "metadata": {},
   "outputs": [
    {
     "name": "stderr",
     "output_type": "stream",
     "text": [
      "/Users/kcarnold/anaconda3/envs/py36/lib/python3.6/site-packages/scipy/stats/stats.py:1706: FutureWarning: Using a non-tuple sequence for multidimensional indexing is deprecated; use `arr[tuple(seq)]` instead of `arr[seq]`. In the future this will be interpreted as an array index, `arr[np.array(seq)]`, which will result either in an error or a different result.\n",
      "  return np.add.reduce(sorted[indexer] * weights, axis=axis) / sumval\n"
     ]
    },
    {
     "data": {
      "image/png": "[encoded data removed]",
      "text/plain": [
       "<matplotlib.figure.Figure at 0x1a41625cf8>"
      ]
     },
     "metadata": {},
     "output_type": "display_data"
    }
   ],
   "source": [
    "axs = sns.barplot(data=trial_level_data, x='condition', y='num_words')\n",
    "for rect in list(axs.findobj(mpl.patches.Rectangle))[:-1]:\n",
    "    height = rect.get_height()\n",
    "    axs.text(rect.get_x() + rect.get_width()/2., 1.05*height,\n",
    "            '%d' % int(height),\n",
    "            ha='center', va='bottom')"
   ]
  },
  {
   "cell_type": "code",
   "execution_count": 68,
   "metadata": {},
   "outputs": [],
   "source": [
    "sns.barplot??"
   ]
  },
  {
   "cell_type": "code",
   "execution_count": 69,
   "metadata": {},
   "outputs": [
    {
     "data": {
      "text/plain": [
       "1.0"
      ]
     },
     "execution_count": 69,
     "metadata": {},
     "output_type": "execute_result"
    }
   ],
   "source": [
    "rect.get_height()"
   ]
  },
  {
   "cell_type": "code",
   "execution_count": 62,
   "metadata": {},
   "outputs": [],
   "source": [
    "import matplotlib as mpl"
   ]
  },
  {
   "cell_type": "code",
   "execution_count": 64,
   "metadata": {},
   "outputs": [],
   "source": []
  },
  {
   "cell_type": "code",
   "execution_count": 60,
   "metadata": {},
   "outputs": [
    {
     "data": {
      "text/plain": [
       "[<matplotlib.patches.Rectangle at 0x1a4147c940>,\n",
       " <matplotlib.patches.Rectangle at 0x1a4147cd68>,\n",
       " <matplotlib.patches.Rectangle at 0x1a4147cf60>,\n",
       " <matplotlib.patches.Rectangle at 0x1a41488358>,\n",
       " <matplotlib.lines.Line2D at 0x1a4147c908>,\n",
       " <matplotlib.lines.Line2D at 0x1a41488710>,\n",
       " <matplotlib.lines.Line2D at 0x1a41488c50>,\n",
       " <matplotlib.lines.Line2D at 0x1a414980b8>,\n",
       " <matplotlib.spines.Spine at 0x1a41277240>,\n",
       " <matplotlib.spines.Spine at 0x1a41293908>,\n",
       " <matplotlib.spines.Spine at 0x1a4129e2b0>,\n",
       " <matplotlib.spines.Spine at 0x1a4129e668>,\n",
       " <matplotlib.axis.XAxis at 0x1a4129e518>,\n",
       " <matplotlib.axis.YAxis at 0x1a413c96d8>,\n",
       " Text(0.5,1,''),\n",
       " Text(0,1,''),\n",
       " Text(1,1,''),\n",
       " <matplotlib.patches.Rectangle at 0x1a413d1780>]"
      ]
     },
     "execution_count": 60,
     "metadata": {},
     "output_type": "execute_result"
    }
   ],
   "source": [
    "axs.get_children()"
   ]
  },
  {
   "cell_type": "code",
   "execution_count": 46,
   "metadata": {},
   "outputs": [
    {
     "data": {
      "text/plain": [
       "0.7766831586684526"
      ]
     },
     "execution_count": 46,
     "metadata": {},
     "output_type": "execute_result"
    },
    {
     "data": {
      "image/png": "[encoded data removed]",
      "text/plain": [
       "<matplotlib.figure.Figure at 0x1a403fc6a0>"
      ]
     },
     "metadata": {},
     "output_type": "display_data"
    }
   ],
   "source": [
    "condition = 'gated'\n",
    "trials = trial_level_data[trial_level_data.condition == condition]\n",
    "useful_if_shown = (trials.orig_bow_recs_idealuse_cond / trials.orig_bow_recs_offered_cond)\n",
    "useful_if_shown.hist()\n",
    "useful_if_shown.mean()"
   ]
  },
  {
   "cell_type": "code",
   "execution_count": 47,
   "metadata": {},
   "outputs": [
    {
     "data": {
      "text/plain": [
       "0.6175835187655359"
      ]
     },
     "execution_count": 47,
     "metadata": {},
     "output_type": "execute_result"
    },
    {
     "data": {
      "image/png": "[encoded data removed]",
      "text/plain": [
       "<matplotlib.figure.Figure at 0x1a4046cb00>"
      ]
     },
     "metadata": {},
     "output_type": "display_data"
    }
   ],
   "source": [
    "condition = 'standard'\n",
    "trials = trial_level_data[trial_level_data.condition == condition]\n",
    "useful_if_shown = (trials.orig_bow_recs_idealuse_cond / trials.orig_bow_recs_offered_cond)\n",
    "useful_if_shown.hist()\n",
    "useful_if_shown.mean()"
   ]
  },
  {
   "cell_type": "code",
   "execution_count": 48,
   "metadata": {},
   "outputs": [],
   "source": [
    "weird_ttts = trial_level_data[trial_level_data.orig_tapstotype_cond > trial_level_data.num_taps]\n",
    "if len(weird_ttts) > 0:\n",
    "    print(\"SOME WEIRD TapsToType\")\n",
    "    print(weird_ttts.loc[:,['participant', 'stimulus', 'text', 'condition', 'num_taps', 'orig_tapstotype_cond']])"
   ]
  },
  {
   "cell_type": "code",
   "execution_count": 49,
   "metadata": {},
   "outputs": [
    {
     "name": "stdout",
     "output_type": "stream",
     "text": [
      "None\n",
      "\n",
      "No\n",
      "\n",
      "No\n",
      "\n",
      "No\n",
      "\n",
      "No\n",
      "\n",
      "Nope\n",
      "\n",
      "No\n",
      "\n",
      "No\n",
      "\n",
      "None\n",
      "\n",
      "None\n",
      "\n",
      "No\n",
      "\n",
      "No\n",
      "\n",
      "No\n",
      "\n",
      "No\n",
      "\n",
      "No\n",
      "\n",
      "No\n",
      "\n",
      "None\n",
      "\n",
      "No\n",
      "\n",
      "None\n",
      "\n",
      "No\n",
      "\n",
      "No\n",
      "\n",
      "No\n",
      "\n",
      "No\n",
      "\n",
      "No\n",
      "\n",
      "Na\n",
      "\n",
      "No.\n",
      "\n",
      "No\n",
      "\n",
      "No\n",
      "\n",
      "No\n",
      "\n",
      "No. \n",
      "\n",
      "None\n",
      "\n",
      "No\n",
      "\n",
      "No\n",
      "\n",
      "No\n",
      "\n",
      "None\n",
      "\n",
      "No\n",
      "\n",
      "No difficulties \n",
      "\n",
      "No.\n",
      "\n",
      "no\n",
      "\n",
      "No. \n",
      "\n",
      "No\n",
      "\n",
      "No\n",
      "\n",
      "No\n",
      "\n",
      "No\n",
      "\n",
      "None\n",
      "\n",
      "No\n",
      "\n",
      "No\n",
      "\n",
      "No\n",
      "\n",
      "No\n",
      "\n",
      "No\n",
      "\n",
      "No\n",
      "\n",
      "No\n",
      "\n",
      "No\n",
      "\n",
      "No\n",
      "\n",
      "No\n",
      "\n",
      "No\n",
      "\n",
      "No\n",
      "\n",
      "No\n",
      "\n",
      "No\n",
      "\n",
      "None.\n",
      "\n",
      "Nope\n",
      "\n",
      "No\n",
      "\n",
      "Nope\n",
      "\n",
      "No\n",
      "\n",
      "No\n",
      "\n",
      "No\n",
      "\n",
      "No\n",
      "\n",
      "No\n",
      "\n",
      "No\n",
      "\n",
      "No\n",
      "\n",
      "Nope\n",
      "\n",
      "No\n",
      "\n",
      "No\n",
      "\n",
      "None\n",
      "\n",
      "Nope\n",
      "\n",
      "No.\n",
      "\n",
      "No\n",
      "\n",
      "None\n",
      "\n",
      "No\n",
      "\n",
      "No\n",
      "\n",
      "No\n",
      "\n",
      "No\n",
      "\n",
      "No\n",
      "\n",
      "No.\n",
      "\n",
      "No\n",
      "\n",
      "N\n",
      "\n",
      "No\n",
      "\n",
      "No\n",
      "\n",
      "No\n",
      "\n",
      "No\n",
      "\n",
      "Everything was perfect.\n",
      "\n",
      "No\n",
      "\n",
      "No\n",
      "\n",
      "No\n",
      "\n",
      "No\n",
      "\n",
      "No\n",
      "\n",
      "No difficulties at all\n",
      "\n",
      "No\n",
      "\n",
      "No\n",
      "\n",
      "No\n",
      "\n",
      "Nope\n",
      "\n",
      "No\n",
      "\n",
      "No\n",
      "\n",
      "No\n",
      "\n",
      "No\n",
      "\n",
      "No\n",
      "\n",
      "No\n",
      "\n",
      "No\n"
     ]
    }
   ],
   "source": [
    "print('\\n\\n'.join(x for x in experiment_level_data['techDiff'] if isinstance(x,str)))"
   ]
  },
  {
   "cell_type": "code",
   "execution_count": 50,
   "metadata": {},
   "outputs": [
    {
     "name": "stdout",
     "output_type": "stream",
     "text": [
      "I think everything went well and the survey had no problems \n",
      "\n",
      "It went well but the second keyboard was frustrating. The lack of ability to edit errors was annoying \n",
      "\n",
      "The experiment was easy to understand\n",
      "\n",
      "It went fine. Not too bad. \n",
      "\n",
      "I thought it was better than most\n",
      "\n",
      "It was an interesting survey due to its uniqueness. \n",
      "\n",
      "I wish it worked better in landscape mode, since I find it easier to type that way\n",
      "\n",
      "It went well\n",
      "\n",
      "The experiment seemed to go pretty well, tough I did notice I ended up having some typos I didn't fix. I guess  I just accidentally overlooked them at the time, I apologize. I tried to be as accurate as possible.\n",
      "\n",
      "Thanks!\n",
      "\n",
      "I enjoyed the experiment! Nice change up from normal mturk studies. Appreciate you allowing me to participate.\n",
      "\n",
      "Enjoyed it.I wish I didn't have to do it in portrait mode - I am very slow that way.\n",
      "\n",
      "It was okay, as long as you got the data you were looking for. I hope my answers were acceptable. Thank you for letting me participate. \n",
      "\n",
      "Great experiment! I really enjoyed it even though the keyboards took a bit of getting used to! \n",
      "\n",
      "My screen keep getting big from hitting it over and over but that wasn't your fault\n",
      "\n",
      "Couldn't click next reliably on my tablet phone had to use a different phone\n",
      "\n",
      "It was interesting and everything worked well.\n",
      "\n",
      "Add afterwards text correction. Wow is it painful to see that I typed a b instead of an s and I have to backspace all the way back and retype stuff.\n",
      "\n",
      "It was a little different for me using the keyboard again like this cause I use Swype on my phone so it kinda sucked a little. The second keyboard was way too accurate that it was almost like the keyboard was tailored for the experiment\n",
      "\n",
      "Fun!  Thank you!\n",
      "\n",
      "That was fun! As I mentioned on a previous question, I think having to scroll the picture in the small space above the keyboard, with no way to minimize the keyboard, made things a little tricky. Besides that, I think it went very well! Thank you!\n",
      "\n",
      "Na\n",
      "\n",
      "Design 2 and 3 seemed identical to me, so I just chose 2 for my answers because I can’t choose both 2 and 3. Also, the question directly above that asks if there’s any reason you shouldn’t use my data doesn’t actually have an answer listed. But, no, there’s no reason you shouldn’t use my data.\n",
      "\n",
      "It was very easy and explained well also fun!\n",
      "\n",
      "Was interesting\n",
      "\n",
      "All is well\n",
      "\n",
      "I really missed the cursor position to make corrections. But this was fun. \n",
      "\n",
      "It went as well as possible I guess thanks\n",
      "\n",
      "This was fun give me more fam\n",
      "\n",
      "Good study thanks no comments  \n",
      "\n",
      "The question above doesn't give me buttons to respond to but I did take this study seriously and you can use my data.\n",
      "\n",
      "Everything was fine, it went well.\n",
      "\n",
      "It was really interesting. I wish I didn't have to erase the whole sentence when I realize an error to late. \n",
      "\n",
      "Everything seemed to go well.\n",
      "\n",
      "I think it would be better if the image came before the submit button \n",
      "\n",
      "It was fun and went well. \n",
      "\n",
      "All was well\n",
      "\n",
      "I liked the experiment overall, although aside from how the keyboards offered up recommendations I didn't really notice any significant differences\n",
      "\n",
      "Interesting experiment\n",
      "\n",
      "No issues. Thank you!\n",
      "\n",
      "It was fun! I had better luck typing on your keyboard than I do with Gboard. I liked how the buttons were spaced!!!\n",
      "\n",
      "I enjoyed it! Thank you :)\n",
      "\n",
      "It was easy and painless\n",
      "\n",
      "It was interesting. The site worked well.\n",
      "\n",
      "Great survey!\n",
      "\n",
      "It was very cool. I tried my best to fix all my typos but I still ended up with a few now that I review them. Sorry about that. Also the keyboards seemed similar to me.\n",
      "\n",
      "There is no reason that you shouldn’t use my data. And the experiment was fine, I’ll be at frustrating because I’ve gotten pretty dependent upon auto correct and speech to text.\n",
      "\n",
      "The keys seemed so tiny in all three. It was hard to type. \n",
      "\n",
      "I think it went fine. I enjoyed it\n",
      "\n",
      "Great survey \n",
      "\n",
      "It went surprisingly. I hope the captions written for sufficient. It takes a lot of creativity to make one.\n",
      "\n",
      "I enjoyed it a lot actually! \n",
      "\n",
      "It was fun!\n",
      "\n",
      "No ideas at the time\n",
      "\n",
      "Use my data. I'm slow on my phone, so I found this a challenge.\n",
      "\n",
      "Great, enjoyed it!\n",
      "\n",
      "This was interesting. I didn't think I used the autocorrection as much as I do! It was a little hard to view on my iPhoneSE screen.\n",
      "\n",
      "All good!\n",
      "\n",
      "I enjoyed it \n",
      "\n",
      "Experiment was good, I liked the 3rd keyboard a lot!\n",
      "\n",
      "Interesting and different. Tough to type on the last keyboard! I totally depend on auto correct it seems! \n",
      "\n",
      "I may have done a test like this before but it's been a long time, at least a year, and I feel like it wasn't exactly the same so I don't know if that disqualifies me\n",
      "\n",
      "No\n",
      "\n",
      "Loved this hit, thank you\n",
      "\n",
      "I enjoyed the experience\n",
      "\n",
      "I most prefer the method that allows you to swipe the keyboard. I was surprised that method want included\n",
      "\n",
      "I had fun with it! No improvements needed.\n",
      "\n",
      "Everything was fine. \n",
      "\n",
      "Experiment went well. I think it might be helpful to have a notification if we get disconnected from your server as I didn't realize for a couple captions (which I had to redo). I also found it difficult to distinguish between Keyboard 1 and 2. \n",
      "\n",
      "This went really well. I found it to be very engaging.\n",
      "\n",
      "Fair\n",
      "\n",
      "This was awesome!\n",
      "\n",
      "That was fun. Thanks for allowing me to participate. \n",
      "\n",
      "Everything went well!\n",
      "\n",
      "No\n",
      "\n",
      "I enjoyed this experiment and everything worked perfectly as is.\n",
      "\n",
      "I think the whole process was easy to understand.\n",
      "\n",
      "This was an interesting task \n",
      "\n",
      "This was fun! I hope my contribution helps you. \n",
      "\n",
      "I had fun!\n",
      "\n",
      "This experiment went really well, it was definitely harder using the second keyboard because my hands are so big, even on my larger sized phone.\n",
      "\n",
      "It went well. Please use my data.\n",
      "\n",
      "I really enjoyed this task. The directions were very clear. It was fun to use the different keyboards and writing the captions\n",
      "\n",
      "Thought it was interesting\n",
      "\n",
      "It was interesting\n",
      "\n",
      "I loved it\n",
      "\n",
      "Awesome. My fingers hurt a little. I miss the good old days of phones with physical keyboards like the Envy.\n",
      "\n",
      "I enjoyed this hit the way it was. I hope I did well. Thanks\n",
      "\n",
      "It was good. Thank you for the opportunity to do it \n",
      "\n",
      "It was interesting\n",
      "\n",
      "No I think the experience went smoothly, I didn't notice anything that needs to be fixed.\n",
      "\n",
      "That was fun! I didn't notice too much difference in the first two keyboards but much differences in the third. I'm glad to have auto correct back! Thanks for letting me play!\n",
      "\n",
      "This was really fun!! And I like how keyboard 3 basically told me how to write the sentence\n"
     ]
    }
   ],
   "source": [
    "print('\\n\\n'.join(x for x in experiment_level_data['other'] if isinstance(x, str)))"
   ]
  },
  {
   "cell_type": "code",
   "execution_count": 51,
   "metadata": {},
   "outputs": [
    {
     "name": "stderr",
     "output_type": "stream",
     "text": [
      "/Users/kcarnold/anaconda3/envs/py36/lib/python3.6/site-packages/scipy/stats/stats.py:1706: FutureWarning: Using a non-tuple sequence for multidimensional indexing is deprecated; use `arr[tuple(seq)]` instead of `arr[seq]`. In the future this will be interpreted as an array index, `arr[np.array(seq)]`, which will result either in an error or a different result.\n",
      "  return np.add.reduce(sorted[indexer] * weights, axis=axis) / sumval\n"
     ]
    },
    {
     "data": {
      "text/plain": [
       "'contextual=1.62, gated=1.74, norecs=1.78, standard=1.63'"
      ]
     },
     "execution_count": 51,
     "metadata": {},
     "output_type": "execute_result"
    },
    {
     "data": {
      "image/png": "[encoded data removed]",
      "text/plain": [
       "<matplotlib.figure.Figure at 0x1a4045ef60>"
      ]
     },
     "metadata": {},
     "output_type": "display_data"
    }
   ],
   "source": [
    "analyze_outcome(trial_level_data, 'condition', 'ideal_taps_per_word_corrected')"
   ]
  },
  {
   "cell_type": "code",
   "execution_count": 56,
   "metadata": {},
   "outputs": [
    {
     "data": {
      "text/plain": [
       "{'num_participants': 30,\n",
       " 'helpful_most_votes': {'contextual': 56, 'norecs': 3, 'standard': 30},\n",
       " 'helpful_least_votes': {'contextual': 3, 'norecs': 83, 'standard': 4},\n",
       " 'TLX_sum_means': {'contextual': 8.966666666666667,\n",
       "  'norecs': 15.633333333333333,\n",
       "  'standard': 9.5},\n",
       " 'num_chars_means': {'contextual': 72.40833333333333,\n",
       "  'gated': nan,\n",
       "  'norecs': 74.9,\n",
       "  'standard': 68.10833333333333},\n",
       " 'num_words_means': {'contextual': 14.508333333333333,\n",
       "  'gated': nan,\n",
       "  'norecs': 14.783333333333333,\n",
       "  'standard': 13.65},\n",
       " 'backspaces_per_char_means': {'contextual': 0.10692661006015898,\n",
       "  'gated': nan,\n",
       "  'norecs': 0.21856551252447962,\n",
       "  'standard': 0.0970735680906057},\n",
       " 'uncorrected_errors_per_char_means': {'contextual': 0.0007803126824865955,\n",
       "  'gated': nan,\n",
       "  'norecs': 0.0025008254921587156,\n",
       "  'standard': 0.0008869500618562064},\n",
       " 'num_tapBackspace_means': {'contextual': 7.433333333333334,\n",
       "  'gated': nan,\n",
       "  'norecs': 16.458333333333332,\n",
       "  'standard': 6.475},\n",
       " 'characters_per_sec_means': {'contextual': 2.167631972312576,\n",
       "  'gated': nan,\n",
       "  'norecs': 1.888382531218308,\n",
       "  'standard': 2.0928627440311636},\n",
       " 'ideal_taps_per_word_corrected_means': {'contextual': 1.6161496041464758,\n",
       "  'gated': nan,\n",
       "  'norecs': 1.7782975793096236,\n",
       "  'standard': 1.5341370141252884}}"
      ]
     },
     "execution_count": 56,
     "metadata": {},
     "output_type": "execute_result"
    }
   ],
   "source": [
    "data['spec2']"
   ]
  },
  {
   "cell_type": "code",
   "execution_count": 52,
   "metadata": {},
   "outputs": [],
   "source": [
    "import yaml"
   ]
  },
  {
   "cell_type": "code",
   "execution_count": 53,
   "metadata": {},
   "outputs": [],
   "source": [
    "data_fname = paths.analyzed / 'data.yaml'\n",
    "with open(data_fname, 'w') as f:\n",
    "    yaml.safe_dump(data, f)"
   ]
  },
  {
   "cell_type": "code",
   "execution_count": 54,
   "metadata": {},
   "outputs": [
    {
     "ename": "AssertionError",
     "evalue": "",
     "output_type": "error",
     "traceback": [
      "\u001b[0;31m---------------------------------------------------------------------------\u001b[0m",
      "\u001b[0;31mAssertionError\u001b[0m                            Traceback (most recent call last)",
      "\u001b[0;32m<ipython-input-54-a871fdc9ebee>\u001b[0m in \u001b[0;36m<module>\u001b[0;34m()\u001b[0m\n\u001b[0;32m----> 1\u001b[0;31m \u001b[0;32massert\u001b[0m \u001b[0;32mFalse\u001b[0m\u001b[0;34m\u001b[0m\u001b[0m\n\u001b[0m",
      "\u001b[0;31mAssertionError\u001b[0m: "
     ]
    }
   ],
   "source": [
    "assert False"
   ]
  },
  {
   "cell_type": "code",
   "execution_count": 13,
   "metadata": {},
   "outputs": [],
   "source": [
    "import tqdm"
   ]
  },
  {
   "cell_type": "code",
   "execution_count": 44,
   "metadata": {},
   "outputs": [],
   "source": [
    "gc1 = trial_level_data[trial_level_data.experiment == 'gc1'].copy()"
   ]
  },
  {
   "cell_type": "code",
   "execution_count": 15,
   "metadata": {},
   "outputs": [
    {
     "data": {
      "application/vnd.jupyter.widget-view+json": {
       "model_id": "7a7147d9fed84cce9cfedfa0909632ed",
       "version_major": 2,
       "version_minor": 0
      },
      "text/plain": [
       "HBox(children=(IntProgress(value=0, max=1332), HTML(value='')))"
      ]
     },
     "metadata": {},
     "output_type": "display_data"
    },
    {
     "name": "stdout",
     "output_type": "stream",
     "text": [
      "\n"
     ]
    }
   ],
   "source": [
    "all_docs = [nlp(text) for text in tqdm.tqdm_notebook(gc1.corrected_text)]"
   ]
  },
  {
   "cell_type": "code",
   "execution_count": 23,
   "metadata": {},
   "outputs": [],
   "source": [
    "by_pos = defaultdict(Counter)\n",
    "for doc in all_docs:\n",
    "    for token in doc:\n",
    "        by_pos[token.pos_][token.text.lower()] += 1"
   ]
  },
  {
   "cell_type": "code",
   "execution_count": 24,
   "metadata": {},
   "outputs": [
    {
     "data": {
      "text/plain": [
       "dict_keys(['DET', 'ADJ', 'PUNCT', 'CCONJ', 'NOUN', 'ADP', 'VERB', 'PART', 'ADV', 'PRON', 'NUM', 'X', 'PROPN', 'SYM'])"
      ]
     },
     "execution_count": 24,
     "metadata": {},
     "output_type": "execute_result"
    }
   ],
   "source": [
    "by_pos.keys()"
   ]
  },
  {
   "cell_type": "code",
   "execution_count": 29,
   "metadata": {},
   "outputs": [
    {
     "name": "stdout",
     "output_type": "stream",
     "text": [
      "black white tan colored grey brown many professional tall red blue dirty public yellow newlywed windy old colorful large historic far long haired other small silver mac blond male pink double quaint outdoor clean gray striped young multiple narrow about blonde wooden top tricolored thick left ready picturesque blurry big obfuscated generic fashioned mid past new beige multi - light empty clear busy opposing full turquoise open few unwrapped orange foggy nice neat medium sized wet green minimalistic different cathedral right fancy crowded basic unopened classic older looking caucasian scenic european most opaque visible various stainless more bent venetian workplace bright uniform several frosted sliding accessible extra perfect next hard organized handed closed surfer opposite sandy plain high first medieval numerous pale ornate half married chested unfocused dingy colourful incoming turf dark multicolored bewildered solitary dreary immaculate reminiscent sunny cerulean explosive frosty antiquated single isolated unused spare lower thin spartan rural dim tiny steamy urban active cute capped ugly inquisitive residential enough textured milky tidy back own beautiful regular pretty modern dashing dull semi tannish standard second london teal bluish majestic grassy womans alert little eyed attached greenish intense upper grungy bellied pixelated shiny nearby macintosh furnished complete luscious external interesting olive handicapped female tanned sullen backhanded typical british occupant deep yellowy smudged worried difficult popular unoccupied brownish burgundy broad blackish sparse metallic beveled woven rusty close middle fit aquamarine toned average\n"
     ]
    }
   ],
   "source": [
    "print(' '.join(by_pos['ADJ'].keys()))"
   ]
  },
  {
   "cell_type": "code",
   "execution_count": 30,
   "metadata": {},
   "outputs": [],
   "source": [
    "colors = \"black white tan grey brown red blue yellow silver blond pink gray blonde beige turquoise orange green teal bluish greenish olive yellowy brownish burgundy blackish aquamarine\".split()"
   ]
  },
  {
   "cell_type": "code",
   "execution_count": 31,
   "metadata": {},
   "outputs": [],
   "source": [
    "import re"
   ]
  },
  {
   "cell_type": "code",
   "execution_count": 36,
   "metadata": {},
   "outputs": [],
   "source": [
    "color_regex = re.compile(r'\\b({})\\b'.format('|'.join(colors)))"
   ]
  },
  {
   "cell_type": "code",
   "execution_count": 45,
   "metadata": {},
   "outputs": [],
   "source": [
    "gc1['has_color'] = [bool(color_regex.search(text)) for text in gc1.corrected_text]"
   ]
  },
  {
   "cell_type": "code",
   "execution_count": 47,
   "metadata": {},
   "outputs": [
    {
     "data": {
      "text/plain": [
       "<matplotlib.axes._subplots.AxesSubplot at 0x12fb5e8d0>"
      ]
     },
     "execution_count": 47,
     "metadata": {},
     "output_type": "execute_result"
    },
    {
     "data": {
      "image/png": "[encoded data removed]",
      "text/plain": [
       "<Figure size 432x288 with 1 Axes>"
      ]
     },
     "metadata": {
      "needs_background": "light"
     },
     "output_type": "display_data"
    }
   ],
   "source": [
    "sns.barplot(x='condition', y='has_color', data=gc1)"
   ]
  },
  {
   "cell_type": "code",
   "execution_count": null,
   "metadata": {},
   "outputs": [],
   "source": []
  },
  {
   "cell_type": "code",
   "execution_count": 12,
   "metadata": {},
   "outputs": [],
   "source": [
    "from textrec import onmt_model_2"
   ]
  },
  {
   "cell_type": "code",
   "execution_count": 13,
   "metadata": {},
   "outputs": [],
   "source": [
    "def get_recs_cap(cocoid, context, prefix=None):\n",
    "    return onmt_model_2.get_recs('coco_cap', str(cocoid), context, prefix=prefix)\n",
    "\n",
    "def get_recs_lm(cocoid, context, prefix=None):\n",
    "    return onmt_model_2.get_recs('coco_lm', '.', context, prefix=prefix)"
   ]
  },
  {
   "cell_type": "code",
   "execution_count": 49,
   "metadata": {},
   "outputs": [
    {
     "name": "stdout",
     "output_type": "stream",
     "text": [
      "0 a black white and tan colored bird perches on a branch and looks to its left\n",
      "1 a baseball player wearing a black shirt and grey pants swings at a baseball pitch with his bat\n",
      "2 a brown computer desk and shelf containing a pc laptop and many desk items\n",
      "3 a surfer rides a wave while wearing a white shirt and black pants\n",
      "4 a professional tennis player runs to backhand a tennis serve\n",
      "5 a city street with tall buildings people and a very tall red bus\n",
      "6 a brown train at a train station with white and blue walls\n",
      "7 people enjoying the beach and flying kites\n",
      "8 a newly wed couple cutting the wedding cake in black and white\n",
      "9 a bathroom featuring a white sink and toilet\n"
     ]
    }
   ],
   "source": [
    "discreps = []\n",
    "for idx in range(10):\n",
    "    stimulus = trial_level_data.stimulus.iloc[idx]\n",
    "    text = trial_level_data.text.iloc[idx]\n",
    "    text_without_punct = text.replace('.', '').replace(',', '')\n",
    "    tokens = text_without_punct.split()\n",
    "    print(idx, text_without_punct)\n",
    "    for condition in ['contextual', 'standard']:\n",
    "        get_recs = get_recs_lm if condition == 'standard' else get_recs_cap\n",
    "        for i in range(len(tokens) - 1):\n",
    "            context = tokens[:i]\n",
    "            next_word = tokens[i]\n",
    "            after_next_word = tokens[i + 1]\n",
    "            recs = [word for word, prob in get_recs_cap(stimulus, context)]\n",
    "            if after_next_word in recs:\n",
    "                discreps.append(dict(\n",
    "                    stimulus=stimulus, text=text,\n",
    "                    word_idx=i,\n",
    "                    context_word=context[-1] if i > 0 else \"\",\n",
    "                    skipped_word=next_word,\n",
    "                    skipped_to=after_next_word,\n",
    "                    next_word_also_reced=next_word in recs\n",
    "                ))\n"
   ]
  },
  {
   "cell_type": "code",
   "execution_count": 50,
   "metadata": {},
   "outputs": [
    {
     "ename": "AttributeError",
     "evalue": "'LazyConfigValue' object has no attribute 'lower'",
     "output_type": "error",
     "traceback": [
      "\u001b[0;31m---------------------------------------------------------------------------\u001b[0m",
      "\u001b[0;31mAttributeError\u001b[0m                            Traceback (most recent call last)",
      "\u001b[0;32m~/anaconda/lib/python3.6/site-packages/IPython/core/formatters.py\u001b[0m in \u001b[0;36m__call__\u001b[0;34m(self, obj)\u001b[0m\n\u001b[1;32m    343\u001b[0m             \u001b[0mmethod\u001b[0m \u001b[0;34m=\u001b[0m \u001b[0mget_real_method\u001b[0m\u001b[0;34m(\u001b[0m\u001b[0mobj\u001b[0m\u001b[0;34m,\u001b[0m \u001b[0mself\u001b[0m\u001b[0;34m.\u001b[0m\u001b[0mprint_method\u001b[0m\u001b[0;34m)\u001b[0m\u001b[0;34m\u001b[0m\u001b[0;34m\u001b[0m\u001b[0m\n\u001b[1;32m    344\u001b[0m             \u001b[0;32mif\u001b[0m \u001b[0mmethod\u001b[0m \u001b[0;32mis\u001b[0m \u001b[0;32mnot\u001b[0m \u001b[0;32mNone\u001b[0m\u001b[0;34m:\u001b[0m\u001b[0;34m\u001b[0m\u001b[0;34m\u001b[0m\u001b[0m\n\u001b[0;32m--> 345\u001b[0;31m                 \u001b[0;32mreturn\u001b[0m \u001b[0mmethod\u001b[0m\u001b[0;34m(\u001b[0m\u001b[0;34m)\u001b[0m\u001b[0;34m\u001b[0m\u001b[0;34m\u001b[0m\u001b[0m\n\u001b[0m\u001b[1;32m    346\u001b[0m             \u001b[0;32mreturn\u001b[0m \u001b[0;32mNone\u001b[0m\u001b[0;34m\u001b[0m\u001b[0;34m\u001b[0m\u001b[0m\n\u001b[1;32m    347\u001b[0m         \u001b[0;32melse\u001b[0m\u001b[0;34m:\u001b[0m\u001b[0;34m\u001b[0m\u001b[0;34m\u001b[0m\u001b[0m\n",
      "\u001b[0;32m~/anaconda/lib/python3.6/site-packages/pandas/core/frame.py\u001b[0m in \u001b[0;36m_repr_html_\u001b[0;34m(self)\u001b[0m\n\u001b[1;32m    646\u001b[0m         \u001b[0;31m# display HTML, so this check can be removed when support for\u001b[0m\u001b[0;34m\u001b[0m\u001b[0;34m\u001b[0m\u001b[0;34m\u001b[0m\u001b[0m\n\u001b[1;32m    647\u001b[0m         \u001b[0;31m# IPython 2.x is no longer needed.\u001b[0m\u001b[0;34m\u001b[0m\u001b[0;34m\u001b[0m\u001b[0;34m\u001b[0m\u001b[0m\n\u001b[0;32m--> 648\u001b[0;31m         \u001b[0;32mif\u001b[0m \u001b[0mconsole\u001b[0m\u001b[0;34m.\u001b[0m\u001b[0min_qtconsole\u001b[0m\u001b[0;34m(\u001b[0m\u001b[0;34m)\u001b[0m\u001b[0;34m:\u001b[0m\u001b[0;34m\u001b[0m\u001b[0;34m\u001b[0m\u001b[0m\n\u001b[0m\u001b[1;32m    649\u001b[0m             \u001b[0;31m# 'HTML output is disabled in QtConsole'\u001b[0m\u001b[0;34m\u001b[0m\u001b[0;34m\u001b[0m\u001b[0;34m\u001b[0m\u001b[0m\n\u001b[1;32m    650\u001b[0m             \u001b[0;32mreturn\u001b[0m \u001b[0;32mNone\u001b[0m\u001b[0;34m\u001b[0m\u001b[0;34m\u001b[0m\u001b[0m\n",
      "\u001b[0;32m~/anaconda/lib/python3.6/site-packages/pandas/io/formats/console.py\u001b[0m in \u001b[0;36min_qtconsole\u001b[0;34m()\u001b[0m\n\u001b[1;32m    118\u001b[0m             \u001b[0mip\u001b[0m\u001b[0;34m.\u001b[0m\u001b[0mconfig\u001b[0m\u001b[0;34m.\u001b[0m\u001b[0mget\u001b[0m\u001b[0;34m(\u001b[0m\u001b[0;34m'KernelApp'\u001b[0m\u001b[0;34m,\u001b[0m \u001b[0;34m{\u001b[0m\u001b[0;34m}\u001b[0m\u001b[0;34m)\u001b[0m\u001b[0;34m.\u001b[0m\u001b[0mget\u001b[0m\u001b[0;34m(\u001b[0m\u001b[0;34m'parent_appname'\u001b[0m\u001b[0;34m,\u001b[0m \u001b[0;34m\"\"\u001b[0m\u001b[0;34m)\u001b[0m \u001b[0;32mor\u001b[0m\u001b[0;34m\u001b[0m\u001b[0;34m\u001b[0m\u001b[0m\n\u001b[1;32m    119\u001b[0m             ip.config.get('IPKernelApp', {}).get('parent_appname', \"\"))\n\u001b[0;32m--> 120\u001b[0;31m         \u001b[0;32mif\u001b[0m \u001b[0;34m'qtconsole'\u001b[0m \u001b[0;32min\u001b[0m \u001b[0mfront_end\u001b[0m\u001b[0;34m.\u001b[0m\u001b[0mlower\u001b[0m\u001b[0;34m(\u001b[0m\u001b[0;34m)\u001b[0m\u001b[0;34m:\u001b[0m\u001b[0;34m\u001b[0m\u001b[0;34m\u001b[0m\u001b[0m\n\u001b[0m\u001b[1;32m    121\u001b[0m             \u001b[0;32mreturn\u001b[0m \u001b[0;32mTrue\u001b[0m\u001b[0;34m\u001b[0m\u001b[0;34m\u001b[0m\u001b[0m\n\u001b[1;32m    122\u001b[0m     \u001b[0;32mexcept\u001b[0m \u001b[0mNameError\u001b[0m\u001b[0;34m:\u001b[0m\u001b[0;34m\u001b[0m\u001b[0;34m\u001b[0m\u001b[0m\n",
      "\u001b[0;31mAttributeError\u001b[0m: 'LazyConfigValue' object has no attribute 'lower'"
     ]
    },
    {
     "data": {
      "text/plain": [
       "   context_word  next_word_also_reced skipped_to  skipped_word stimulus  \\\n",
       "0         black                 False        and         white   280480   \n",
       "1           tan                 False       bird       colored   280480   \n",
       "2         black                 False        and         white   280480   \n",
       "3           tan                 False       bird       colored   280480   \n",
       "4                                True   baseball             a   236272   \n",
       "5         black                 False        and         shirt   236272   \n",
       "6        swings                  True          a            at   236272   \n",
       "7             a                  True      pitch      baseball   236272   \n",
       "8                                True   baseball             a   236272   \n",
       "9         black                 False        and         shirt   236272   \n",
       "10       swings                  True          a            at   236272   \n",
       "11            a                  True      pitch      baseball   236272   \n",
       "12            a                 False   computer         brown   527375   \n",
       "13            a                 False     laptop            pc   527375   \n",
       "14           pc                 False        and        laptop   527375   \n",
       "15            a                 False   computer         brown   527375   \n",
       "16            a                 False     laptop            pc   527375   \n",
       "17           pc                 False        and        laptop   527375   \n",
       "18            a                 False     tennis  professional    71815   \n",
       "19            a                 False      serve        tennis    71815   \n",
       "20            a                 False     tennis  professional    71815   \n",
       "21            a                 False      serve        tennis    71815   \n",
       "22         city                  True       with        street   247576   \n",
       "23    buildings                 False        and        people   247576   \n",
       "24         city                  True       with        street   247576   \n",
       "25    buildings                 False        and        people   247576   \n",
       "26            a                 False      train         brown   223777   \n",
       "27            a                  True    station         train   223777   \n",
       "28            a                 False      train         brown   223777   \n",
       "29            a                  True    station         train   223777   \n",
       "30      wedding                  True         in          cake   227326   \n",
       "31      wedding                  True         in          cake   227326   \n",
       "32            a                  True       sink         white   431140   \n",
       "33        white                  True        and          sink   431140   \n",
       "34            a                  True       sink         white   431140   \n",
       "35        white                  True        and          sink   431140   \n",
       "\n",
       "                                                 text  word_idx  \n",
       "0   a black, white and tan colored bird perches on...         2  \n",
       "1   a black, white and tan colored bird perches on...         5  \n",
       "2   a black, white and tan colored bird perches on...         2  \n",
       "3   a black, white and tan colored bird perches on...         5  \n",
       "4   a baseball player wearing a black shirt and gr...         0  \n",
       "5   a baseball player wearing a black shirt and gr...         6  \n",
       "6   a baseball player wearing a black shirt and gr...        11  \n",
       "7   a baseball player wearing a black shirt and gr...        13  \n",
       "8   a baseball player wearing a black shirt and gr...         0  \n",
       "9   a baseball player wearing a black shirt and gr...         6  \n",
       "10  a baseball player wearing a black shirt and gr...        11  \n",
       "11  a baseball player wearing a black shirt and gr...        13  \n",
       "12  a brown computer desk and shelf containing a p...         1  \n",
       "13  a brown computer desk and shelf containing a p...         8  \n",
       "14  a brown computer desk and shelf containing a p...         9  \n",
       "15  a brown computer desk and shelf containing a p...         1  \n",
       "16  a brown computer desk and shelf containing a p...         8  \n",
       "17  a brown computer desk and shelf containing a p...         9  \n",
       "18  a professional tennis player runs to backhand ...         1  \n",
       "19  a professional tennis player runs to backhand ...         8  \n",
       "20  a professional tennis player runs to backhand ...         1  \n",
       "21  a professional tennis player runs to backhand ...         8  \n",
       "22  a city street with tall buildings, people and ...         2  \n",
       "23  a city street with tall buildings, people and ...         6  \n",
       "24  a city street with tall buildings, people and ...         2  \n",
       "25  a city street with tall buildings, people and ...         6  \n",
       "26  a brown train at a train station with white an...         1  \n",
       "27  a brown train at a train station with white an...         5  \n",
       "28  a brown train at a train station with white an...         1  \n",
       "29  a brown train at a train station with white an...         5  \n",
       "30  a newly wed couple cutting the wedding cake in...         7  \n",
       "31  a newly wed couple cutting the wedding cake in...         7  \n",
       "32       a bathroom featuring a white sink and toilet         4  \n",
       "33       a bathroom featuring a white sink and toilet         5  \n",
       "34       a bathroom featuring a white sink and toilet         4  \n",
       "35       a bathroom featuring a white sink and toilet         5  "
      ]
     },
     "execution_count": 50,
     "metadata": {},
     "output_type": "execute_result"
    }
   ],
   "source": [
    "pd.DataFrame(discreps)"
   ]
  },
  {
   "cell_type": "code",
   "execution_count": 16,
   "metadata": {},
   "outputs": [
    {
     "data": {
      "text/plain": [
       "[('and', -0.5987324714660645),\n",
       " ('cat', -1.9580035209655762),\n",
       " ('dog', -2.32011079788208)]"
      ]
     },
     "execution_count": 16,
     "metadata": {},
     "output_type": "execute_result"
    }
   ],
   "source": [
    "get_recs_lm(None, \"a black\".split())"
   ]
  },
  {
   "cell_type": "code",
   "execution_count": 18,
   "metadata": {},
   "outputs": [
    {
     "data": {
      "text/plain": [
       "['a',\n",
       " 'baseball',\n",
       " 'player',\n",
       " 'wearing',\n",
       " 'a',\n",
       " 'black',\n",
       " 'shirt',\n",
       " 'and',\n",
       " 'grey',\n",
       " 'pants',\n",
       " ',',\n",
       " 'swings',\n",
       " 'at',\n",
       " 'a',\n",
       " 'baseball',\n",
       " 'pitch',\n",
       " 'with',\n",
       " 'his',\n",
       " 'bat']"
      ]
     },
     "execution_count": 18,
     "metadata": {},
     "output_type": "execute_result"
    }
   ],
   "source": [
    "onmt_model_2.tokenize(trial_level_data.text.iloc[1])"
   ]
  },
  {
   "cell_type": "code",
   "execution_count": null,
   "metadata": {},
   "outputs": [],
   "source": []
  },
  {
   "cell_type": "code",
   "execution_count": null,
   "metadata": {},
   "outputs": [],
   "source": []
  },
  {
   "cell_type": "code",
   "execution_count": null,
   "metadata": {},
   "outputs": [],
   "source": []
  },
  {
   "cell_type": "code",
   "execution_count": null,
   "metadata": {},
   "outputs": [],
   "source": [
    "num_details = pd.read_csv(paths.data / 'num_details_spec1.csv').rename(columns={\n",
    "    'image_id': 'stimulus',\n",
    "    'text': 'corrected_text'\n",
    "})"
   ]
  },
  {
   "cell_type": "code",
   "execution_count": null,
   "metadata": {},
   "outputs": [],
   "source": [
    "with_num_details = pd.merge(\n",
    "    trial_level_data,\n",
    "    num_details,\n",
    "    on=('stimulus', 'corrected_text'),\n",
    "#     right_on=('image_id', 'text'),\n",
    "    how='outer')"
   ]
  },
  {
   "cell_type": "code",
   "execution_count": null,
   "metadata": {},
   "outputs": [],
   "source": [
    "with_num_details"
   ]
  },
  {
   "cell_type": "code",
   "execution_count": null,
   "metadata": {},
   "outputs": [],
   "source": [
    "sns.barplot(x='condition', y='num_details', data=with_num_details, capsize=.2)"
   ]
  },
  {
   "cell_type": "code",
   "execution_count": null,
   "metadata": {},
   "outputs": [],
   "source": [
    "with_num_details.num_details.describe()"
   ]
  },
  {
   "cell_type": "code",
   "execution_count": null,
   "metadata": {},
   "outputs": [],
   "source": [
    "print('\\n'.join(with_num_details.sort_values('num_details').text.iloc[-5:]))"
   ]
  },
  {
   "cell_type": "code",
   "execution_count": null,
   "metadata": {},
   "outputs": [],
   "source": [
    "with_num_details.to_csv('with_num_details.csv')"
   ]
  },
  {
   "cell_type": "markdown",
   "metadata": {},
   "source": [
    "Bonus the most specific captions for each image. Some participants wrote the most specific captions for several images, so they get mulitple bonuses."
   ]
  },
  {
   "cell_type": "code",
   "execution_count": null,
   "metadata": {},
   "outputs": [],
   "source": [
    "with_num_details.sort_values('num_details', ascending=False).drop_duplicates(['stimulus']).loc[:,['participant', 'corrected_text', 'num_details']].groupby('participant').size() * 0.50"
   ]
  },
  {
   "cell_type": "code",
   "execution_count": null,
   "metadata": {},
   "outputs": [],
   "source": [
    "from textrec import onmt_model_2"
   ]
  },
  {
   "cell_type": "code",
   "execution_count": null,
   "metadata": {},
   "outputs": [],
   "source": [
    "get_recs_cap(71815, 'a'.split(), prefix='t')"
   ]
  },
  {
   "cell_type": "code",
   "execution_count": null,
   "metadata": {},
   "outputs": [],
   "source": [
    "from functools import partial"
   ]
  },
  {
   "cell_type": "code",
   "execution_count": null,
   "metadata": {},
   "outputs": [],
   "source": [
    "txt = \"a tennis player swinging at a ball\"\n",
    "txt[:0].rsplit(' ', 1)"
   ]
  },
  {
   "cell_type": "code",
   "execution_count": null,
   "metadata": {},
   "outputs": [],
   "source": [
    "txt.rindex(' ')"
   ]
  },
  {
   "cell_type": "code",
   "execution_count": null,
   "metadata": {},
   "outputs": [],
   "source": [
    "def taps_to_type(rec_gen, txt):\n",
    "    actions = []\n",
    "    # Invariant: performing [actions] types txt[:idx]\n",
    "    idx = 0\n",
    "    while idx < len(txt):\n",
    "        sofar = txt[:idx]\n",
    "        if ' ' in sofar:\n",
    "            last_space_idx = sofar.rindex(' ')\n",
    "        else:\n",
    "            last_space_idx = -1\n",
    "        prefix = sofar[:last_space_idx + 1]\n",
    "        cur_word = sofar[last_space_idx + 1:]\n",
    "        cur_desired_word = txt[last_space_idx + 1:].split(' ', 1)[0]\n",
    "#         if cur_desired_word[-1] in ',.;-':\n",
    "#             cur_desired_word = cur_desired_word[:-1]\n",
    "#         print(repr(prefix), repr(cur_word), repr(cur_desired_word))\n",
    "        recs = rec_gen(onmt_model_2.tokenize(prefix), prefix=cur_word)\n",
    "        words = [word for word, rec in recs]\n",
    "        print(prefix, words)\n",
    "        if cur_desired_word in words:\n",
    "            actions.append(dict(type='rec', which=words.index(cur_desired_word), word=cur_desired_word))\n",
    "            idx = last_space_idx + 1 + len(cur_desired_word) + 1\n",
    "        else:\n",
    "            actions.append(dict(type='key', key=txt[idx]))\n",
    "            idx += 1\n",
    "        print(actions[-1])\n",
    "    return actions\n",
    "taps_to_type(partial(get_recs_cap, 71815), \"a young man wearing a red shirt and holding a white and red tennis racket\")"
   ]
  },
  {
   "cell_type": "code",
   "execution_count": null,
   "metadata": {},
   "outputs": [],
   "source": [
    "if False:\n",
    "    writer = pd.ExcelWriter('specificity_details.xlsx')\n",
    "    for stim, group in trial_level_data.groupby('stimulus'):\n",
    "        group.loc[:,['corrected_text']].to_excel(writer, str(stim))\n",
    "    writer.close()"
   ]
  },
  {
   "cell_type": "code",
   "execution_count": null,
   "metadata": {},
   "outputs": [],
   "source": [
    "if False:\n",
    "    for stim, txts in trial_level_data.groupby('stimulus').text:\n",
    "        print()\n",
    "        print(stim)\n",
    "        print('\\n'.join(txts))\n",
    "        txts.to_csv(f'{stim}.csv', index=False)"
   ]
  },
  {
   "cell_type": "code",
   "execution_count": null,
   "metadata": {},
   "outputs": [],
   "source": []
  },
  {
   "cell_type": "code",
   "execution_count": null,
   "metadata": {},
   "outputs": [],
   "source": [
    "%load_ext rpy2.ipython"
   ]
  },
  {
   "cell_type": "code",
   "execution_count": null,
   "metadata": {},
   "outputs": [],
   "source": [
    "%%R\n",
    "install.packages(\"brms\")\n"
   ]
  },
  {
   "cell_type": "code",
   "execution_count": null,
   "metadata": {},
   "outputs": [],
   "source": [
    "%%R\n",
    "library(ARTool)"
   ]
  },
  {
   "cell_type": "code",
   "execution_count": null,
   "metadata": {},
   "outputs": [],
   "source": [
    "trial_level_filtered = trial_level_data.loc[:, 'participant block condition stimulus ideal_taps_per_word_corrected'.split()]"
   ]
  },
  {
   "cell_type": "code",
   "execution_count": null,
   "metadata": {},
   "outputs": [],
   "source": [
    "%Rpush trial_level_filtered"
   ]
  },
  {
   "cell_type": "code",
   "execution_count": null,
   "metadata": {},
   "outputs": [],
   "source": [
    "%%R\n",
    "summary(trial_level_filtered)"
   ]
  },
  {
   "cell_type": "code",
   "execution_count": null,
   "metadata": {},
   "outputs": [],
   "source": [
    "%%R\n",
    "transformed <- art(ideal_taps_per_word_corrected ~ condition + (1|participant) + (1|stimulus), data=trial_level_filtered)"
   ]
  },
  {
   "cell_type": "code",
   "execution_count": null,
   "metadata": {},
   "outputs": [],
   "source": [
    "%%R\n",
    "summary(transformed)"
   ]
  },
  {
   "cell_type": "code",
   "execution_count": null,
   "metadata": {},
   "outputs": [],
   "source": [
    "%%R\n",
    "anova(transformed)"
   ]
  },
  {
   "cell_type": "code",
   "execution_count": null,
   "metadata": {},
   "outputs": [],
   "source": []
  }
 ],
 "metadata": {
  "kernelspec": {
   "display_name": "Python 3",
   "language": "python",
   "name": "python3"
  },
  "language_info": {
   "codemirror_mode": {
    "name": "ipython",
    "version": 3
   },
   "file_extension": ".py",
   "mimetype": "text/x-python",
   "name": "python",
   "nbconvert_exporter": "python",
   "pygments_lexer": "ipython3",
   "version": "3.6.7"
  },
  "toc": {
   "base_numbering": 1,
   "nav_menu": {},
   "number_sections": true,
   "sideBar": true,
   "skip_h1_title": false,
   "title_cell": "Table of Contents",
   "title_sidebar": "Contents",
   "toc_cell": false,
   "toc_position": {},
   "toc_section_display": true,
   "toc_window_display": false
  }
 },
 "nbformat": 4,
 "nbformat_minor": 2
}
