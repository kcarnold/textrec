{
 "cells": [
  {
   "cell_type": "markdown",
   "metadata": {},
   "source": [
    "# Analysis pipeline for Gating"
   ]
  },
  {
   "cell_type": "markdown",
   "metadata": {},
   "source": [
    "## Preliminaries"
   ]
  },
  {
   "cell_type": "code",
   "execution_count": 1,
   "metadata": {},
   "outputs": [
    {
     "name": "stdout",
     "output_type": "stream",
     "text": [
      "/Users/kcarnold/code/textrec\n"
     ]
    }
   ],
   "source": [
    "%cd ~/code/textrec/"
   ]
  },
  {
   "cell_type": "code",
   "execution_count": 2,
   "metadata": {},
   "outputs": [],
   "source": [
    "%matplotlib inline\n",
    "import datetime\n",
    "import json\n",
    "import pathlib\n",
    "import pandas as pd\n",
    "import numpy as np\n",
    "import seaborn as sns\n",
    "import toolz\n",
    "from IPython.display import Image, HTML"
   ]
  },
  {
   "cell_type": "code",
   "execution_count": 3,
   "metadata": {},
   "outputs": [
    {
     "name": "stdout",
     "output_type": "stream",
     "text": [
      "Loading COCO captions\n",
      "Loading COCO id2url\n",
      "Done\n"
     ]
    },
    {
     "name": "stderr",
     "output_type": "stream",
     "text": [
      "/Users/kcarnold/anaconda3/envs/py36/lib/python3.6/site-packages/h5py/__init__.py:36: FutureWarning: Conversion of the second argument of issubdtype from `float` to `np.floating` is deprecated. In future, it will be treated as `np.float64 == np.dtype(float).type`.\n",
      "  from ._conv import register_converters as _register_converters\n"
     ]
    },
    {
     "name": "stdout",
     "output_type": "stream",
     "text": [
      "Loading ONMT models...\n",
      "coco_lm_adam_acc_46.00_ppl_16.32_e10_nooptim.pt\n",
      "Loading model parameters.\n",
      "coco_cap_adam_acc_48.73_ppl_12.56_e10_nooptim.pt\n",
      "Loading model parameters.\n",
      "Ready.\n",
      "Loading SpaCy...done\n",
      "Loading COCO captions\n",
      "Loading COCO id2url\n",
      "Done\n",
      "Loading SpaCy...done\n"
     ]
    }
   ],
   "source": [
    "from textrec.paths import paths\n",
    "from textrec import analysis_util, util, notebook_util, automated_analyses\n",
    "reload(analysis_util), reload(util), reload(notebook_util), reload(automated_analyses)\n",
    "from textrec.notebook_util import images, id2img, id2url, show_images"
   ]
  },
  {
   "cell_type": "code",
   "execution_count": 4,
   "metadata": {},
   "outputs": [],
   "source": [
    "# HTML(show_images([images_by_split['val'][0]['cocoid']]))"
   ]
  },
  {
   "cell_type": "markdown",
   "metadata": {},
   "source": [
    "## Load results of writing experiment"
   ]
  },
  {
   "cell_type": "markdown",
   "metadata": {},
   "source": [
    "Prerequisites: Run `textrec.logs_to_csv {batch_name}` and `textrec.gruntwork {batch_name}`."
   ]
  },
  {
   "cell_type": "code",
   "execution_count": 46,
   "metadata": {},
   "outputs": [],
   "source": [
    "batch = 'gc1'\n",
    "experiment_level_data = pd.read_csv(paths.analyzed / f'experiment_{batch}.csv')\n",
    "block_level_data = pd.read_csv(paths.analyzed / f'block_{batch}.csv')\n",
    "trial_level_data = pd.read_csv(paths.analyzed / f'trial_withmanual_{batch}.csv')\n",
    "helpful_ranks_by_condition = pd.read_csv(paths.analyzed / f'helpful_ranks_by_condition_{batch}.csv')"
   ]
  },
  {
   "cell_type": "code",
   "execution_count": 47,
   "metadata": {},
   "outputs": [
    {
     "data": {
      "text/html": [
       "<div>\n",
       "<style scoped>\n",
       "    .dataframe tbody tr th:only-of-type {\n",
       "        vertical-align: middle;\n",
       "    }\n",
       "\n",
       "    .dataframe tbody tr th {\n",
       "        vertical-align: top;\n",
       "    }\n",
       "\n",
       "    .dataframe thead th {\n",
       "        text-align: right;\n",
       "    }\n",
       "</style>\n",
       "<table border=\"1\" class=\"dataframe\">\n",
       "  <thead>\n",
       "    <tr style=\"text-align: right;\">\n",
       "      <th></th>\n",
       "      <th>accurate-least-condition</th>\n",
       "      <th>accurate-most-condition</th>\n",
       "      <th>quick-least-condition</th>\n",
       "      <th>quick-most-condition</th>\n",
       "      <th>specific-least-condition</th>\n",
       "      <th>specific-most-condition</th>\n",
       "    </tr>\n",
       "    <tr>\n",
       "      <th>index</th>\n",
       "      <th></th>\n",
       "      <th></th>\n",
       "      <th></th>\n",
       "      <th></th>\n",
       "      <th></th>\n",
       "      <th></th>\n",
       "    </tr>\n",
       "  </thead>\n",
       "  <tbody>\n",
       "    <tr>\n",
       "      <th>always</th>\n",
       "      <td>0</td>\n",
       "      <td>14</td>\n",
       "      <td>0</td>\n",
       "      <td>14</td>\n",
       "      <td>0</td>\n",
       "      <td>13</td>\n",
       "    </tr>\n",
       "    <tr>\n",
       "      <th>gated</th>\n",
       "      <td>2</td>\n",
       "      <td>3</td>\n",
       "      <td>2</td>\n",
       "      <td>3</td>\n",
       "      <td>0</td>\n",
       "      <td>4</td>\n",
       "    </tr>\n",
       "    <tr>\n",
       "      <th>norecs</th>\n",
       "      <td>15</td>\n",
       "      <td>0</td>\n",
       "      <td>15</td>\n",
       "      <td>0</td>\n",
       "      <td>17</td>\n",
       "      <td>0</td>\n",
       "    </tr>\n",
       "  </tbody>\n",
       "</table>\n",
       "</div>"
      ],
      "text/plain": [
       "        accurate-least-condition  accurate-most-condition  \\\n",
       "index                                                       \n",
       "always                         0                       14   \n",
       "gated                          2                        3   \n",
       "norecs                        15                        0   \n",
       "\n",
       "        quick-least-condition  quick-most-condition  specific-least-condition  \\\n",
       "index                                                                           \n",
       "always                      0                    14                         0   \n",
       "gated                       2                     3                         0   \n",
       "norecs                     15                     0                        17   \n",
       "\n",
       "        specific-most-condition  \n",
       "index                            \n",
       "always                       13  \n",
       "gated                         4  \n",
       "norecs                        0  "
      ]
     },
     "execution_count": 47,
     "metadata": {},
     "output_type": "execute_result"
    }
   ],
   "source": [
    "helpful_ranks_by_condition.set_index('index')"
   ]
  },
  {
   "cell_type": "code",
   "execution_count": 48,
   "metadata": {},
   "outputs": [
    {
     "data": {
      "text/html": [
       "Each of 17 participants (10 non-male) completed 12.0 trials per experiment, for a total of 204 trials."
      ],
      "text/plain": [
       "<IPython.core.display.HTML object>"
      ]
     },
     "execution_count": 48,
     "metadata": {},
     "output_type": "execute_result"
    }
   ],
   "source": [
    "HTML(\"Each of {num_participants} participants ({non_male} non-male) completed {num_trials_per} trials per experiment, for a total of {n_trials} trials.\".format(\n",
    "    num_participants=len(set(trial_level_data.participant)),\n",
    "    non_male=(experiment_level_data.gender == 'Male').sum(),\n",
    "    num_trials_per=trial_level_data.groupby('participant').size().mean(),\n",
    "    n_trials=len(trial_level_data)))"
   ]
  },
  {
   "cell_type": "code",
   "execution_count": 49,
   "metadata": {},
   "outputs": [
    {
     "data": {
      "text/html": [
       "Participants spent 24.8 +- 12.4 minutes total."
      ],
      "text/plain": [
       "<IPython.core.display.HTML object>"
      ]
     },
     "execution_count": 49,
     "metadata": {},
     "output_type": "execute_result"
    }
   ],
   "source": [
    "HTML(\"Participants spent {total_time_mean:.1f} +- {total_time_std:.1f} minutes total.\".format(\n",
    "    total_time_mean=experiment_level_data.total_time.mean(),\n",
    "    total_time_std=experiment_level_data.total_time.std()))"
   ]
  },
  {
   "cell_type": "code",
   "execution_count": 50,
   "metadata": {},
   "outputs": [],
   "source": [
    "def summarize_means(df, by, outcome):\n",
    "    return ', '.join(f'{name}={group_mean:.2f}' for name, group_mean in df.groupby(by)[outcome].mean().iteritems())"
   ]
  },
  {
   "cell_type": "code",
   "execution_count": 51,
   "metadata": {},
   "outputs": [],
   "source": [
    "trial_level_data['num_words'] = trial_level_data.text.apply(lambda x: len(x.split()))\n",
    "trial_level_data['num_recs_full_total'] = trial_level_data['num_recs_full_gated'] + trial_level_data['num_recs_full_seen']"
   ]
  },
  {
   "cell_type": "code",
   "execution_count": 52,
   "metadata": {},
   "outputs": [
    {
     "data": {
      "text/plain": [
       "<matplotlib.axes._subplots.AxesSubplot at 0x16e8b1d30>"
      ]
     },
     "execution_count": 52,
     "metadata": {},
     "output_type": "execute_result"
    },
    {
     "data": {
      "image/png": "[encoded data removed]",
      "text/plain": [
       "<matplotlib.figure.Figure at 0x16e9f14e0>"
      ]
     },
     "metadata": {},
     "output_type": "display_data"
    }
   ],
   "source": [
    "trial_level_data.plot.scatter(x='num_words', y='num_recs_full_total')"
   ]
  },
  {
   "cell_type": "code",
   "execution_count": 54,
   "metadata": {},
   "outputs": [
    {
     "data": {
      "text/plain": [
       "participant                                                                        26f62q\n",
       "age                                                                                    33\n",
       "english_proficiency                                                   Native or bilingual\n",
       "gender                                                                               Male\n",
       "helpfulRank-accurate-least-condition                                               norecs\n",
       "helpfulRank-accurate-least-idx                                                          0\n",
       "helpfulRank-accurate-most-condition                                                always\n",
       "helpfulRank-accurate-most-idx                                                           2\n",
       "helpfulRank-quick-least-condition                                                  norecs\n",
       "helpfulRank-quick-least-idx                                                             0\n",
       "helpfulRank-quick-most-condition                                                   always\n",
       "helpfulRank-quick-most-idx                                                              2\n",
       "helpfulRank-specific-least-condition                                               norecs\n",
       "helpfulRank-specific-least-idx                                                          0\n",
       "helpfulRank-specific-most-condition                                                always\n",
       "helpfulRank-specific-most-idx                                                           2\n",
       "other_exp                                                                            None\n",
       "techDiff_exp                                                                           No\n",
       "total_time                                                                        15.5337\n",
       "use_predictive                                                                     Rarely\n",
       "verbalized_during                                                                    True\n",
       "NFC                                                                                  0.21\n",
       "Extraversion                                                                        -0.28\n",
       "Openness                                                                             0.07\n",
       "Trust                                                                                0.32\n",
       "block                                                                                   0\n",
       "condition                                                                          norecs\n",
       "mental                                                                                  1\n",
       "physical                                                                                0\n",
       "temporal                                                                                2\n",
       "                                                              ...                        \n",
       "sys-accurate                                                                            4\n",
       "sys-fast                                                                                3\n",
       "sys-specific                                                                            3\n",
       "techDiff_block                                                                         No\n",
       "other_block                                                                            No\n",
       "idx                                                                                     3\n",
       "idx_in_block                                                                            3\n",
       "stimulus                                                                           227326\n",
       "text                                    a newlywed couple cutting their wedding cake t...\n",
       "text_len                                                                               72\n",
       "num_tapBackspace                                                                        0\n",
       "num_tapKey                                                                             72\n",
       "num_tapSugg_any                                                                         0\n",
       "num_tapSugg_full                                                                        0\n",
       "num_tapSugg_part                                                                        0\n",
       "num_taps                                                                               72\n",
       "used_any_suggs                                                                      False\n",
       "num_recs_full_seen                                                                     12\n",
       "num_recs_full_gated                                                                     0\n",
       "rec_use_full_frac                                                                       0\n",
       "characters_per_sec                                                                2.67151\n",
       "delay_before_start                                                                  3.423\n",
       "seconds_spent_typing                                                               26.951\n",
       "taps_per_second                                                                   2.67151\n",
       "final_text_for_correction               a newlywed couple cutting their wedding cake t...\n",
       "corrected_text                          a newlywed couple cutting their wedding cake t...\n",
       "uncorrected_errors                                                                      0\n",
       "all_errors                                                                              0\n",
       "num_words                                                                              12\n",
       "num_recs_full_total                                                                    12\n",
       "Name: 3, Length: 64, dtype: object"
      ]
     },
     "execution_count": 54,
     "metadata": {},
     "output_type": "execute_result"
    }
   ],
   "source": [
    "trial_level_data.iloc[3]"
   ]
  },
  {
   "cell_type": "code",
   "execution_count": 75,
   "metadata": {},
   "outputs": [],
   "source": [
    "trial_level_data['frac_visible_full'] = trial_level_data['num_recs_full_seen'] / trial_level_data['num_recs_full_total']\n",
    "# trial_level_data['frac_visible_any'] = trial_level_data['num_re']"
   ]
  },
  {
   "cell_type": "code",
   "execution_count": 76,
   "metadata": {},
   "outputs": [
    {
     "data": {
      "text/plain": [
       "<matplotlib.axes._subplots.AxesSubplot at 0x16e1d0390>"
      ]
     },
     "execution_count": 76,
     "metadata": {},
     "output_type": "execute_result"
    },
    {
     "data": {
      "image/png": "[encoded data removed]",
      "text/plain": [
       "<matplotlib.figure.Figure at 0x16db1ad30>"
      ]
     },
     "metadata": {},
     "output_type": "display_data"
    }
   ],
   "source": [
    "trial_level_data.frac_visible_full.hist()"
   ]
  },
  {
   "cell_type": "code",
   "execution_count": 84,
   "metadata": {},
   "outputs": [
    {
     "name": "stdout",
     "output_type": "stream",
     "text": [
      "________________________________________________________________________________\n",
      "[Memory] Calling textrec.analysis_util.get_log_analysis_raw...\n",
      "get_log_analysis_raw('/Users/kcarnold/code/textrec/logs/26f62q.jsonl', 1037403, git_rev='f57aaec', analysis_files={ 'analyze.js': 'f24414e722aeef392360f4da123b36705f6895e0',\n",
      "  'run-analysis': '11083c5f51c5c469297e930142323920f09fe548',\n",
      "  'src/Analyzer.js': 'aacc7b0e5849eb7639139c099a9aa77f5ff5a5f1'})\n"
     ]
    },
    {
     "ename": "AnalysisException",
     "evalue": "Assertion failed\nAssertion failed\nAssertion failed\nAssertion failed\nAssertion failed\nAssertion failed\nAssertion failed\nAssertion failed\nAssertion failed\nAssertion failed\nAssertion failed\nAssertion failed\nAssertion failed\nAssertion failed\nAssertion failed\nAssertion failed\nAssertion failed\nAssertion failed\nAssertion failed\nAssertion failed\nAssertion failed\nAssertion failed\nAssertion failed\nAssertion failed\nAssertion failed\nAssertion failed\nAssertion failed\nAssertion failed\nAssertion failed\nAssertion failed\nAssertion failed\nAssertion failed\nAssertion failed\nAssertion failed\nAssertion failed\nAssertion failed\nAssertion failed\nAssertion failed\nAssertion failed\nAssertion failed\nAssertion failed\nAssertion failed\nAssertion failed\nAssertion failed\nAssertion failed\nAssertion failed\nAssertion failed\nAssertion failed\nAssertion failed\nAssertion failed\nAssertion failed\nAssertion failed\nAssertion failed\nAssertion failed\nAssertion failed\nAssertion failed\nAssertion failed\nAssertion failed\nAssertion failed\nAssertion failed\nAssertion failed\nAssertion failed\nAssertion failed\nAssertion failed\nAssertion failed\nAssertion failed\nAssertion failed\nAssertion failed\nAssertion failed\nAssertion failed\nAssertion failed\nAssertion failed\nAssertion failed\nAssertion failed\nAssertion failed\nAssertion failed\nAssertion failed\nAssertion failed\nAssertion failed\nAssertion failed\nAssertion failed\nAssertion failed\nAssertion failed\nAssertion failed\nAssertion failed\nAssertion failed\nAssertion failed\nAssertion failed\nAssertion failed\nAssertion failed\nAssertion failed\nAssertion failed\nAssertion failed\nAssertion failed\nAssertion failed\nAssertion failed\nAssertion failed\nAssertion failed\nAssertion failed\nAssertion failed\nAssertion failed\nAssertion failed\nTypeError: Cannot read property 'sofar' of undefined\n    at /Users/kcarnold/code/textrec/src/frontend/src/Analyzer.js:199:30\n    at Array.forEach (<anonymous>)\n    at processLogGivenState (/Users/kcarnold/code/textrec/src/frontend/src/Analyzer.js:39:7)\n    at _callee3$ (/Users/kcarnold/code/textrec/src/frontend/src/Analyzer.js:340:12)\n    at tryCatch (/Users/kcarnold/code/textrec/src/frontend/node_modules/babel-runtime/node_modules/regenerator-runtime/runtime.js:62:40)\n    at Generator.invoke [as _invoke] (/Users/kcarnold/code/textrec/src/frontend/node_modules/babel-runtime/node_modules/regenerator-runtime/runtime.js:296:22)\n    at Generator.prototype.(anonymous function) [as next] (/Users/kcarnold/code/textrec/src/frontend/node_modules/babel-runtime/node_modules/regenerator-runtime/runtime.js:114:21)\n    at step (/Users/kcarnold/code/textrec/src/frontend/src/Analyzer.js:129:191)\n    at /Users/kcarnold/code/textrec/src/frontend/src/Analyzer.js:129:361\n    at process._tickCallback (internal/process/next_tick.js:68:7) 'TypeError: Cannot read property \\'sofar\\' of undefined\\n    at /Users/kcarnold/code/textrec/src/frontend/src/Analyzer.js:199:30\\n    at Array.forEach (<anonymous>)\\n    at processLogGivenState (/Users/kcarnold/code/textrec/src/frontend/src/Analyzer.js:39:7)\\n    at _callee3$ (/Users/kcarnold/code/textrec/src/frontend/src/Analyzer.js:340:12)\\n    at tryCatch (/Users/kcarnold/code/textrec/src/frontend/node_modules/babel-runtime/node_modules/regenerator-runtime/runtime.js:62:40)\\n    at Generator.invoke [as _invoke] (/Users/kcarnold/code/textrec/src/frontend/node_modules/babel-runtime/node_modules/regenerator-runtime/runtime.js:296:22)\\n    at Generator.prototype.(anonymous function) [as next] (/Users/kcarnold/code/textrec/src/frontend/node_modules/babel-runtime/node_modules/regenerator-runtime/runtime.js:114:21)\\n    at step (/Users/kcarnold/code/textrec/src/frontend/src/Analyzer.js:129:191)\\n    at /Users/kcarnold/code/textrec/src/frontend/src/Analyzer.js:129:361\\n    at process._tickCallback (internal/process/next_tick.js:68:7)'\nTypeError: Cannot read property 'sofar' of undefined\n    at /Users/kcarnold/code/textrec/src/frontend/src/Analyzer.js:199:30\n    at Array.forEach (<anonymous>)\n    at processLogGivenState (/Users/kcarnold/code/textrec/src/frontend/src/Analyzer.js:39:7)\n    at _callee3$ (/Users/kcarnold/code/textrec/src/frontend/src/Analyzer.js:340:12)\n    at tryCatch (/Users/kcarnold/code/textrec/src/frontend/node_modules/babel-runtime/node_modules/regenerator-runtime/runtime.js:62:40)\n    at Generator.invoke [as _invoke] (/Users/kcarnold/code/textrec/src/frontend/node_modules/babel-runtime/node_modules/regenerator-runtime/runtime.js:296:22)\n    at Generator.prototype.(anonymous function) [as next] (/Users/kcarnold/code/textrec/src/frontend/node_modules/babel-runtime/node_modules/regenerator-runtime/runtime.js:114:21)\n    at step (/Users/kcarnold/code/textrec/src/frontend/src/Analyzer.js:129:191)\n    at /Users/kcarnold/code/textrec/src/frontend/src/Analyzer.js:129:361\n    at process._tickCallback (internal/process/next_tick.js:68:7)\n",
     "output_type": "error",
     "traceback": [
      "\u001b[0;31m---------------------------------------------------------------------------\u001b[0m",
      "\u001b[0;31mAnalysisException\u001b[0m                         Traceback (most recent call last)",
      "\u001b[0;32m<ipython-input-84-96ec3c50c7c6>\u001b[0m in \u001b[0;36m<module>\u001b[0;34m()\u001b[0m\n\u001b[0;32m----> 1\u001b[0;31m \u001b[0manalysis\u001b[0m \u001b[0;34m=\u001b[0m \u001b[0manalysis_util\u001b[0m\u001b[0;34m.\u001b[0m\u001b[0mget_log_analysis\u001b[0m\u001b[0;34m(\u001b[0m\u001b[0;34m'26f62q'\u001b[0m\u001b[0;34m)\u001b[0m\u001b[0;34m\u001b[0m\u001b[0m\n\u001b[0m",
      "\u001b[0;32m~/code/textrec/src/textrec/analysis_util.py\u001b[0m in \u001b[0;36mget_log_analysis\u001b[0;34m(participant, git_rev)\u001b[0m\n\u001b[1;32m     61\u001b[0m     \u001b[0mlogfile_size\u001b[0m \u001b[0;34m=\u001b[0m \u001b[0mos\u001b[0m\u001b[0;34m.\u001b[0m\u001b[0mpath\u001b[0m\u001b[0;34m.\u001b[0m\u001b[0mgetsize\u001b[0m\u001b[0;34m(\u001b[0m\u001b[0mlogpath\u001b[0m\u001b[0;34m)\u001b[0m\u001b[0;34m\u001b[0m\u001b[0m\n\u001b[1;32m     62\u001b[0m \u001b[0;34m\u001b[0m\u001b[0m\n\u001b[0;32m---> 63\u001b[0;31m     \u001b[0mresult\u001b[0m \u001b[0;34m=\u001b[0m \u001b[0mget_log_analysis_raw\u001b[0m\u001b[0;34m(\u001b[0m\u001b[0mstr\u001b[0m\u001b[0;34m(\u001b[0m\u001b[0mlogpath\u001b[0m\u001b[0;34m)\u001b[0m\u001b[0;34m,\u001b[0m \u001b[0mlogfile_size\u001b[0m\u001b[0;34m,\u001b[0m \u001b[0mgit_rev\u001b[0m\u001b[0;34m=\u001b[0m\u001b[0mgit_rev\u001b[0m\u001b[0;34m,\u001b[0m \u001b[0manalysis_files\u001b[0m\u001b[0;34m=\u001b[0m\u001b[0manalysis_files\u001b[0m\u001b[0;34m)\u001b[0m\u001b[0;34m\u001b[0m\u001b[0m\n\u001b[0m\u001b[1;32m     64\u001b[0m     \u001b[0manalyzed\u001b[0m \u001b[0;34m=\u001b[0m \u001b[0mjson\u001b[0m\u001b[0;34m.\u001b[0m\u001b[0mloads\u001b[0m\u001b[0;34m(\u001b[0m\u001b[0mresult\u001b[0m\u001b[0;34m)\u001b[0m\u001b[0;34m\u001b[0m\u001b[0m\n\u001b[1;32m     65\u001b[0m     \u001b[0manalyzed\u001b[0m\u001b[0;34m[\u001b[0m\u001b[0;34m'git_rev'\u001b[0m\u001b[0;34m]\u001b[0m \u001b[0;34m=\u001b[0m \u001b[0mgit_rev\u001b[0m\u001b[0;34m\u001b[0m\u001b[0m\n",
      "\u001b[0;32m~/anaconda3/envs/py36/lib/python3.6/site-packages/joblib/memory.py\u001b[0m in \u001b[0;36m__call__\u001b[0;34m(self, *args, **kwargs)\u001b[0m\n\u001b[1;32m    560\u001b[0m \u001b[0;34m\u001b[0m\u001b[0m\n\u001b[1;32m    561\u001b[0m     \u001b[0;32mdef\u001b[0m \u001b[0m__call__\u001b[0m\u001b[0;34m(\u001b[0m\u001b[0mself\u001b[0m\u001b[0;34m,\u001b[0m \u001b[0;34m*\u001b[0m\u001b[0margs\u001b[0m\u001b[0;34m,\u001b[0m \u001b[0;34m**\u001b[0m\u001b[0mkwargs\u001b[0m\u001b[0;34m)\u001b[0m\u001b[0;34m:\u001b[0m\u001b[0;34m\u001b[0m\u001b[0m\n\u001b[0;32m--> 562\u001b[0;31m         \u001b[0;32mreturn\u001b[0m \u001b[0mself\u001b[0m\u001b[0;34m.\u001b[0m\u001b[0m_cached_call\u001b[0m\u001b[0;34m(\u001b[0m\u001b[0margs\u001b[0m\u001b[0;34m,\u001b[0m \u001b[0mkwargs\u001b[0m\u001b[0;34m)\u001b[0m\u001b[0;34m[\u001b[0m\u001b[0;36m0\u001b[0m\u001b[0;34m]\u001b[0m\u001b[0;34m\u001b[0m\u001b[0m\n\u001b[0m\u001b[1;32m    563\u001b[0m \u001b[0;34m\u001b[0m\u001b[0m\n\u001b[1;32m    564\u001b[0m     \u001b[0;32mdef\u001b[0m \u001b[0m__reduce__\u001b[0m\u001b[0;34m(\u001b[0m\u001b[0mself\u001b[0m\u001b[0;34m)\u001b[0m\u001b[0;34m:\u001b[0m\u001b[0;34m\u001b[0m\u001b[0m\n",
      "\u001b[0;32m~/anaconda3/envs/py36/lib/python3.6/site-packages/joblib/memory.py\u001b[0m in \u001b[0;36m_cached_call\u001b[0;34m(self, args, kwargs)\u001b[0m\n\u001b[1;32m    508\u001b[0m                           \u001b[0;34m'directory %s'\u001b[0m\u001b[0;34m\u001b[0m\u001b[0m\n\u001b[1;32m    509\u001b[0m                         % (name, argument_hash, output_dir))\n\u001b[0;32m--> 510\u001b[0;31m             \u001b[0mout\u001b[0m\u001b[0;34m,\u001b[0m \u001b[0mmetadata\u001b[0m \u001b[0;34m=\u001b[0m \u001b[0mself\u001b[0m\u001b[0;34m.\u001b[0m\u001b[0mcall\u001b[0m\u001b[0;34m(\u001b[0m\u001b[0;34m*\u001b[0m\u001b[0margs\u001b[0m\u001b[0;34m,\u001b[0m \u001b[0;34m**\u001b[0m\u001b[0mkwargs\u001b[0m\u001b[0;34m)\u001b[0m\u001b[0;34m\u001b[0m\u001b[0m\n\u001b[0m\u001b[1;32m    511\u001b[0m             \u001b[0;32mif\u001b[0m \u001b[0mself\u001b[0m\u001b[0;34m.\u001b[0m\u001b[0mmmap_mode\u001b[0m \u001b[0;32mis\u001b[0m \u001b[0;32mnot\u001b[0m \u001b[0;32mNone\u001b[0m\u001b[0;34m:\u001b[0m\u001b[0;34m\u001b[0m\u001b[0m\n\u001b[1;32m    512\u001b[0m                 \u001b[0;31m# Memmap the output at the first call to be consistent with\u001b[0m\u001b[0;34m\u001b[0m\u001b[0;34m\u001b[0m\u001b[0m\n",
      "\u001b[0;32m~/anaconda3/envs/py36/lib/python3.6/site-packages/joblib/memory.py\u001b[0m in \u001b[0;36mcall\u001b[0;34m(self, *args, **kwargs)\u001b[0m\n\u001b[1;32m    742\u001b[0m         \u001b[0;32mif\u001b[0m \u001b[0mself\u001b[0m\u001b[0;34m.\u001b[0m\u001b[0m_verbose\u001b[0m \u001b[0;34m>\u001b[0m \u001b[0;36m0\u001b[0m\u001b[0;34m:\u001b[0m\u001b[0;34m\u001b[0m\u001b[0m\n\u001b[1;32m    743\u001b[0m             \u001b[0mprint\u001b[0m\u001b[0;34m(\u001b[0m\u001b[0mformat_call\u001b[0m\u001b[0;34m(\u001b[0m\u001b[0mself\u001b[0m\u001b[0;34m.\u001b[0m\u001b[0mfunc\u001b[0m\u001b[0;34m,\u001b[0m \u001b[0margs\u001b[0m\u001b[0;34m,\u001b[0m \u001b[0mkwargs\u001b[0m\u001b[0;34m)\u001b[0m\u001b[0;34m)\u001b[0m\u001b[0;34m\u001b[0m\u001b[0m\n\u001b[0;32m--> 744\u001b[0;31m         \u001b[0moutput\u001b[0m \u001b[0;34m=\u001b[0m \u001b[0mself\u001b[0m\u001b[0;34m.\u001b[0m\u001b[0mfunc\u001b[0m\u001b[0;34m(\u001b[0m\u001b[0;34m*\u001b[0m\u001b[0margs\u001b[0m\u001b[0;34m,\u001b[0m \u001b[0;34m**\u001b[0m\u001b[0mkwargs\u001b[0m\u001b[0;34m)\u001b[0m\u001b[0;34m\u001b[0m\u001b[0m\n\u001b[0m\u001b[1;32m    745\u001b[0m         \u001b[0mself\u001b[0m\u001b[0;34m.\u001b[0m\u001b[0m_persist_output\u001b[0m\u001b[0;34m(\u001b[0m\u001b[0moutput\u001b[0m\u001b[0;34m,\u001b[0m \u001b[0moutput_dir\u001b[0m\u001b[0;34m)\u001b[0m\u001b[0;34m\u001b[0m\u001b[0m\n\u001b[1;32m    746\u001b[0m         \u001b[0mduration\u001b[0m \u001b[0;34m=\u001b[0m \u001b[0mtime\u001b[0m\u001b[0;34m.\u001b[0m\u001b[0mtime\u001b[0m\u001b[0;34m(\u001b[0m\u001b[0;34m)\u001b[0m \u001b[0;34m-\u001b[0m \u001b[0mstart_time\u001b[0m\u001b[0;34m\u001b[0m\u001b[0m\n",
      "\u001b[0;32m~/code/textrec/src/textrec/analysis_util.py\u001b[0m in \u001b[0;36mget_log_analysis_raw\u001b[0;34m(logpath, logfile_size, git_rev, analysis_files)\u001b[0m\n\u001b[1;32m     40\u001b[0m         \u001b[0;32mif\u001b[0m \u001b[0mlen\u001b[0m\u001b[0;34m(\u001b[0m\u001b[0mcompletion\u001b[0m\u001b[0;34m.\u001b[0m\u001b[0mstderr\u001b[0m\u001b[0;34m)\u001b[0m \u001b[0;34m!=\u001b[0m \u001b[0;36m0\u001b[0m\u001b[0;34m:\u001b[0m\u001b[0;34m\u001b[0m\u001b[0m\n\u001b[1;32m     41\u001b[0m             \u001b[0mstderr\u001b[0m \u001b[0;34m=\u001b[0m \u001b[0mcompletion\u001b[0m\u001b[0;34m.\u001b[0m\u001b[0mstderr\u001b[0m\u001b[0;34m.\u001b[0m\u001b[0mdecode\u001b[0m\u001b[0;34m(\u001b[0m\u001b[0;34m'utf-8'\u001b[0m\u001b[0;34m)\u001b[0m\u001b[0;34m\u001b[0m\u001b[0m\n\u001b[0;32m---> 42\u001b[0;31m             \u001b[0;32mraise\u001b[0m \u001b[0mAnalysisException\u001b[0m\u001b[0;34m(\u001b[0m\u001b[0mstderr\u001b[0m\u001b[0;34m)\u001b[0m\u001b[0;34m\u001b[0m\u001b[0m\n\u001b[0m\u001b[1;32m     43\u001b[0m         \u001b[0mresult\u001b[0m \u001b[0;34m=\u001b[0m \u001b[0mcompletion\u001b[0m\u001b[0;34m.\u001b[0m\u001b[0mstdout\u001b[0m\u001b[0;34m\u001b[0m\u001b[0m\n\u001b[1;32m     44\u001b[0m         \u001b[0;32massert\u001b[0m \u001b[0mlen\u001b[0m\u001b[0;34m(\u001b[0m\u001b[0mresult\u001b[0m\u001b[0;34m)\u001b[0m \u001b[0;34m>\u001b[0m \u001b[0;36m0\u001b[0m\u001b[0;34m\u001b[0m\u001b[0m\n",
      "\u001b[0;31mAnalysisException\u001b[0m: Assertion failed\nAssertion failed\nAssertion failed\nAssertion failed\nAssertion failed\nAssertion failed\nAssertion failed\nAssertion failed\nAssertion failed\nAssertion failed\nAssertion failed\nAssertion failed\nAssertion failed\nAssertion failed\nAssertion failed\nAssertion failed\nAssertion failed\nAssertion failed\nAssertion failed\nAssertion failed\nAssertion failed\nAssertion failed\nAssertion failed\nAssertion failed\nAssertion failed\nAssertion failed\nAssertion failed\nAssertion failed\nAssertion failed\nAssertion failed\nAssertion failed\nAssertion failed\nAssertion failed\nAssertion failed\nAssertion failed\nAssertion failed\nAssertion failed\nAssertion failed\nAssertion failed\nAssertion failed\nAssertion failed\nAssertion failed\nAssertion failed\nAssertion failed\nAssertion failed\nAssertion failed\nAssertion failed\nAssertion failed\nAssertion failed\nAssertion failed\nAssertion failed\nAssertion failed\nAssertion failed\nAssertion failed\nAssertion failed\nAssertion failed\nAssertion failed\nAssertion failed\nAssertion failed\nAssertion failed\nAssertion failed\nAssertion failed\nAssertion failed\nAssertion failed\nAssertion failed\nAssertion failed\nAssertion failed\nAssertion failed\nAssertion failed\nAssertion failed\nAssertion failed\nAssertion failed\nAssertion failed\nAssertion failed\nAssertion failed\nAssertion failed\nAssertion failed\nAssertion failed\nAssertion failed\nAssertion failed\nAssertion failed\nAssertion failed\nAssertion failed\nAssertion failed\nAssertion failed\nAssertion failed\nAssertion failed\nAssertion failed\nAssertion failed\nAssertion failed\nAssertion failed\nAssertion failed\nAssertion failed\nAssertion failed\nAssertion failed\nAssertion failed\nAssertion failed\nAssertion failed\nAssertion failed\nAssertion failed\nAssertion failed\nAssertion failed\nTypeError: Cannot read property 'sofar' of undefined\n    at /Users/kcarnold/code/textrec/src/frontend/src/Analyzer.js:199:30\n    at Array.forEach (<anonymous>)\n    at processLogGivenState (/Users/kcarnold/code/textrec/src/frontend/src/Analyzer.js:39:7)\n    at _callee3$ (/Users/kcarnold/code/textrec/src/frontend/src/Analyzer.js:340:12)\n    at tryCatch (/Users/kcarnold/code/textrec/src/frontend/node_modules/babel-runtime/node_modules/regenerator-runtime/runtime.js:62:40)\n    at Generator.invoke [as _invoke] (/Users/kcarnold/code/textrec/src/frontend/node_modules/babel-runtime/node_modules/regenerator-runtime/runtime.js:296:22)\n    at Generator.prototype.(anonymous function) [as next] (/Users/kcarnold/code/textrec/src/frontend/node_modules/babel-runtime/node_modules/regenerator-runtime/runtime.js:114:21)\n    at step (/Users/kcarnold/code/textrec/src/frontend/src/Analyzer.js:129:191)\n    at /Users/kcarnold/code/textrec/src/frontend/src/Analyzer.js:129:361\n    at process._tickCallback (internal/process/next_tick.js:68:7) 'TypeError: Cannot read property \\'sofar\\' of undefined\\n    at /Users/kcarnold/code/textrec/src/frontend/src/Analyzer.js:199:30\\n    at Array.forEach (<anonymous>)\\n    at processLogGivenState (/Users/kcarnold/code/textrec/src/frontend/src/Analyzer.js:39:7)\\n    at _callee3$ (/Users/kcarnold/code/textrec/src/frontend/src/Analyzer.js:340:12)\\n    at tryCatch (/Users/kcarnold/code/textrec/src/frontend/node_modules/babel-runtime/node_modules/regenerator-runtime/runtime.js:62:40)\\n    at Generator.invoke [as _invoke] (/Users/kcarnold/code/textrec/src/frontend/node_modules/babel-runtime/node_modules/regenerator-runtime/runtime.js:296:22)\\n    at Generator.prototype.(anonymous function) [as next] (/Users/kcarnold/code/textrec/src/frontend/node_modules/babel-runtime/node_modules/regenerator-runtime/runtime.js:114:21)\\n    at step (/Users/kcarnold/code/textrec/src/frontend/src/Analyzer.js:129:191)\\n    at /Users/kcarnold/code/textrec/src/frontend/src/Analyzer.js:129:361\\n    at process._tickCallback (internal/process/next_tick.js:68:7)'\nTypeError: Cannot read property 'sofar' of undefined\n    at /Users/kcarnold/code/textrec/src/frontend/src/Analyzer.js:199:30\n    at Array.forEach (<anonymous>)\n    at processLogGivenState (/Users/kcarnold/code/textrec/src/frontend/src/Analyzer.js:39:7)\n    at _callee3$ (/Users/kcarnold/code/textrec/src/frontend/src/Analyzer.js:340:12)\n    at tryCatch (/Users/kcarnold/code/textrec/src/frontend/node_modules/babel-runtime/node_modules/regenerator-runtime/runtime.js:62:40)\n    at Generator.invoke [as _invoke] (/Users/kcarnold/code/textrec/src/frontend/node_modules/babel-runtime/node_modules/regenerator-runtime/runtime.js:296:22)\n    at Generator.prototype.(anonymous function) [as next] (/Users/kcarnold/code/textrec/src/frontend/node_modules/babel-runtime/node_modules/regenerator-runtime/runtime.js:114:21)\n    at step (/Users/kcarnold/code/textrec/src/frontend/src/Analyzer.js:129:191)\n    at /Users/kcarnold/code/textrec/src/frontend/src/Analyzer.js:129:361\n    at process._tickCallback (internal/process/next_tick.js:68:7)\n"
     ]
    }
   ],
   "source": [
    "analysis = analysis_util.get_log_analysis('26f62q')"
   ]
  },
  {
   "cell_type": "code",
   "execution_count": 82,
   "metadata": {},
   "outputs": [
    {
     "data": {
      "text/plain": [
       "'gated'"
      ]
     },
     "execution_count": 82,
     "metadata": {},
     "output_type": "execute_result"
    }
   ],
   "source": [
    "page = analysis['byExpPage']['final-1-1']\n",
    "page['condition']"
   ]
  },
  {
   "cell_type": "code",
   "execution_count": 83,
   "metadata": {},
   "outputs": [
    {
     "data": {
      "text/plain": [
       "{'request_id': 3,\n",
       " 'sofar': 'an ',\n",
       " 'cur_word': [],\n",
       " 'flags': {'threshold': -0.989417552947998},\n",
       " 'timestamp': 1529450898455,\n",
       " 'context': 'an ',\n",
       " 'recs': {'predictions': [{'words': []}, {'words': []}, {'words': []}]},\n",
       " 'latency': 189,\n",
       " 'action': {'type': 'tapKey',\n",
       "  'key': 'i',\n",
       "  'x': 331,\n",
       "  'y': 402,\n",
       "  'jsTimestamp': 1529450898893,\n",
       "  'kind': 'p',\n",
       "  'pyTimestamp': 1529450898.9670098,\n",
       "  'participant_id': '26f62q'}}"
      ]
     },
     "execution_count": 83,
     "metadata": {},
     "output_type": "execute_result"
    }
   ],
   "source": [
    "page['displayedSuggs'][3]"
   ]
  },
  {
   "cell_type": "code",
   "execution_count": 79,
   "metadata": {},
   "outputs": [
    {
     "data": {
      "text/plain": [
       "[(True, ''),\n",
       " (True, 'a'),\n",
       " (True, 'an'),\n",
       " (True, 'AN '),\n",
       " (True, 'AN i'),\n",
       " (True, 'AN il'),\n",
       " (True, 'AN ild'),\n",
       " (False, 'AN ILD '),\n",
       " (False, 'AN ild'),\n",
       " (True, 'AN il'),\n",
       " (True, 'AN i'),\n",
       " (True, 'AN '),\n",
       " (True, 'AN o'),\n",
       " (True, 'AN ol'),\n",
       " (True, 'AN OLD '),\n",
       " (False, 'AN OLD pa'),\n",
       " (True, 'AN OLD pas'),\n",
       " (True, 'AN OLD pass'),\n",
       " (True, 'AN OLD PASSENGER '),\n",
       " (True, 'AN OLD PASSENGER t'),\n",
       " (True, 'AN OLD PASSENGER tr'),\n",
       " (True, 'AN OLD PASSENGER tra'),\n",
       " (True, 'AN OLD PASSENGER trai'),\n",
       " (True, 'AN OLD PASSENGER TRAIN '),\n",
       " (True, 'AN OLD PASSENGER TRAIN a'),\n",
       " (True, 'AN OLD PASSENGER TRAIN ap'),\n",
       " (True, 'AN OLD PASSENGER TRAIN app'),\n",
       " (True, 'AN OLD PASSENGER TRAIN appr'),\n",
       " (True, 'AN OLD PASSENGER TRAIN appro'),\n",
       " (True, 'AN OLD PASSENGER TRAIN approa'),\n",
       " (True, 'AN OLD PASSENGER TRAIN approac'),\n",
       " (True, 'AN OLD PASSENGER TRAIN approach'),\n",
       " (True, 'AN OLD PASSENGER TRAIN approachi'),\n",
       " (True, 'AN OLD PASSENGER TRAIN approachin'),\n",
       " (True, 'AN OLD PASSENGER TRAIN approaching'),\n",
       " (True, 'AN OLD PASSENGER TRAIN APPROACHING '),\n",
       " (True, 'AN OLD PASSENGER TRAIN APPROACHING t'),\n",
       " (True, 'AN OLD PASSENGER TRAIN APPROACHING th'),\n",
       " (True, 'AN OLD PASSENGER TRAIN APPROACHING the'),\n",
       " (True, 'AN OLD PASSENGER TRAIN APPROACHING theb'),\n",
       " (True, 'AN OLD PASSENGER TRAIN APPROACHING thebt'),\n",
       " (True, 'AN OLD PASSENGER TRAIN APPROACHING theb'),\n",
       " (True, 'AN OLD PASSENGER TRAIN APPROACHING the'),\n",
       " (True, 'AN OLD PASSENGER TRAIN APPROACHING THE '),\n",
       " (True, 'AN OLD PASSENGER TRAIN APPROACHING THE t'),\n",
       " (True, 'AN OLD PASSENGER TRAIN APPROACHING THE tr'),\n",
       " (True, 'AN OLD PASSENGER TRAIN APPROACHING THE TRAIN '),\n",
       " (True, 'AN OLD PASSENGER TRAIN APPROACHING THE TRAIN s'),\n",
       " (True, 'AN OLD PASSENGER TRAIN APPROACHING THE TRAIN st'),\n",
       " (True, 'AN OLD PASSENGER TRAIN APPROACHING THE TRAIN sto'),\n",
       " (True, 'AN OLD PASSENGER TRAIN APPROACHING THE TRAIN stop'),\n",
       " (True, 'AN OLD PASSENGER TRAIN APPROACHING THE TRAIN STOP '),\n",
       " (True, 'AN OLD PASSENGER TRAIN APPROACHING THE TRAIN STOP i'),\n",
       " (True, 'AN OLD PASSENGER TRAIN APPROACHING THE TRAIN STOP in'),\n",
       " (True, 'AN OLD PASSENGER TRAIN APPROACHING THE TRAIN STOP IN '),\n",
       " (True, 'AN OLD PASSENGER TRAIN APPROACHING THE TRAIN STOP IN a'),\n",
       " (True, 'AN OLD PASSENGER TRAIN APPROACHING THE TRAIN STOP IN an'),\n",
       " (False, 'AN OLD PASSENGER TRAIN APPROACHING THE TRAIN STOP IN AN i'),\n",
       " (True, 'AN OLD PASSENGER TRAIN APPROACHING THE TRAIN STOP IN AN il'),\n",
       " (True, 'AN OLD PASSENGER TRAIN APPROACHING THE TRAIN STOP IN AN ild'),\n",
       " (True, 'AN OLD PASSENGER TRAIN APPROACHING THE TRAIN STOP IN AN il'),\n",
       " (True, 'AN OLD PASSENGER TRAIN APPROACHING THE TRAIN STOP IN AN i'),\n",
       " (False, 'AN OLD PASSENGER TRAIN APPROACHING THE TRAIN STOP IN AN '),\n",
       " (True, 'AN OLD PASSENGER TRAIN APPROACHING THE TRAIN STOP IN AN o'),\n",
       " (True, 'AN OLD PASSENGER TRAIN APPROACHING THE TRAIN STOP IN AN ol'),\n",
       " (True, 'AN OLD PASSENGER TRAIN APPROACHING THE TRAIN STOP IN AN old'),\n",
       " (True, 'AN OLD PASSENGER TRAIN APPROACHING THE TRAIN STOP IN AN OLD, '),\n",
       " (True, 'AN OLD PASSENGER TRAIN APPROACHING THE TRAIN STOP IN AN OLD, c'),\n",
       " (True, 'AN OLD PASSENGER TRAIN APPROACHING THE TRAIN STOP IN AN OLD, co'),\n",
       " (True, 'AN OLD PASSENGER TRAIN APPROACHING THE TRAIN STOP IN AN OLD, col'),\n",
       " (False, 'AN OLD PASSENGER TRAIN APPROACHING THE TRAIN STOP IN AN OLD, colo'),\n",
       " (False, 'AN OLD PASSENGER TRAIN APPROACHING THE TRAIN STOP IN AN OLD, color'),\n",
       " (True, 'AN OLD PASSENGER TRAIN APPROACHING THE TRAIN STOP IN AN OLD, colorf'),\n",
       " (True,\n",
       "  'AN OLD PASSENGER TRAIN APPROACHING THE TRAIN STOP IN AN OLD, colorfu'),\n",
       " (True,\n",
       "  'AN OLD PASSENGER TRAIN APPROACHING THE TRAIN STOP IN AN OLD, COLORFUL '),\n",
       " (True,\n",
       "  'AN OLD PASSENGER TRAIN APPROACHING THE TRAIN STOP IN AN OLD, COLORFUL t'),\n",
       " (True,\n",
       "  'AN OLD PASSENGER TRAIN APPROACHING THE TRAIN STOP IN AN OLD, COLORFUL to'),\n",
       " (True,\n",
       "  'AN OLD PASSENGER TRAIN APPROACHING THE TRAIN STOP IN AN OLD, COLORFUL tow'),\n",
       " (True,\n",
       "  'AN OLD PASSENGER TRAIN APPROACHING THE TRAIN STOP IN AN OLD, COLORFUL town'),\n",
       " (True,\n",
       "  'AN OLD PASSENGER TRAIN APPROACHING THE TRAIN STOP IN AN OLD, COLORFUL TOWN. ')]"
      ]
     },
     "execution_count": 79,
     "metadata": {},
     "output_type": "execute_result"
    }
   ],
   "source": [
    "[\n",
    "    (rec['recs'] is not None, rec['sofar'].upper() + ''.join(x['letter'] for x in rec['cur_word']))\n",
    "    for rec in page['displayedSuggs'] if rec is not None]"
   ]
  },
  {
   "cell_type": "code",
   "execution_count": 58,
   "metadata": {},
   "outputs": [
    {
     "data": {
      "text/html": [
       "The average cognitive load was higher in the no-recommendations condition (always=9.35, gated=11.12, norecs=14.06)"
      ],
      "text/plain": [
       "<IPython.core.display.HTML object>"
      ]
     },
     "execution_count": 58,
     "metadata": {},
     "output_type": "execute_result"
    },
    {
     "data": {
      "image/png": "[encoded data removed]",
      "text/plain": [
       "<matplotlib.figure.Figure at 0x16e12f3c8>"
      ]
     },
     "metadata": {},
     "output_type": "display_data"
    }
   ],
   "source": [
    "sns.barplot(x='condition', y='TLX_sum', data=block_level_data, capsize=.2)\n",
    "HTML(\"The average cognitive load was higher in the no-recommendations condition ({})\".format(\n",
    "    summarize_means(block_level_data, 'condition', 'TLX_sum')))"
   ]
  },
  {
   "cell_type": "code",
   "execution_count": 59,
   "metadata": {},
   "outputs": [
    {
     "data": {
      "text/html": [
       "Text length was slightly longer in no-recommendations (always=64.76, gated=66.93, norecs=71.68)."
      ],
      "text/plain": [
       "<IPython.core.display.HTML object>"
      ]
     },
     "execution_count": 59,
     "metadata": {},
     "output_type": "execute_result"
    },
    {
     "data": {
      "image/png": "[encoded data removed]",
      "text/plain": [
       "<matplotlib.figure.Figure at 0x16e621320>"
      ]
     },
     "metadata": {},
     "output_type": "display_data"
    }
   ],
   "source": [
    "sns.barplot(x='condition', y='text_len', data=trial_level_data, capsize=.2);\n",
    "HTML(\"Text length was slightly longer in no-recommendations ({}).\".format(\n",
    "    summarize_means(trial_level_data, 'condition', 'text_len')))"
   ]
  },
  {
   "cell_type": "code",
   "execution_count": 60,
   "metadata": {},
   "outputs": [
    {
     "data": {
      "text/html": [
       "Participants made more errors (corrected + uncorrected) in the no-recommendations condition (always=5.91, gated=8.53, norecs=12.40)."
      ],
      "text/plain": [
       "<IPython.core.display.HTML object>"
      ]
     },
     "execution_count": 60,
     "metadata": {},
     "output_type": "execute_result"
    },
    {
     "data": {
      "image/png": "[encoded data removed]",
      "text/plain": [
       "<matplotlib.figure.Figure at 0x12fb60c88>"
      ]
     },
     "metadata": {},
     "output_type": "display_data"
    }
   ],
   "source": [
    "sns.barplot(x='condition', y='all_errors', data=trial_level_data, capsize=.2)\n",
    "HTML(\"Participants made more errors (corrected + uncorrected) in the no-recommendations condition ({}).\".format(\n",
    "    summarize_means(trial_level_data, 'condition', 'all_errors')))"
   ]
  },
  {
   "cell_type": "code",
   "execution_count": 61,
   "metadata": {},
   "outputs": [
    {
     "data": {
      "text/html": [
       "Participants were slightly faster in the recommendations conditions (characters per second: always=2.10, gated=1.93, norecs=1.93)."
      ],
      "text/plain": [
       "<IPython.core.display.HTML object>"
      ]
     },
     "execution_count": 61,
     "metadata": {},
     "output_type": "execute_result"
    },
    {
     "data": {
      "image/png": "[encoded data removed]",
      "text/plain": [
       "<matplotlib.figure.Figure at 0x16e726898>"
      ]
     },
     "metadata": {},
     "output_type": "display_data"
    }
   ],
   "source": [
    "sns.barplot(x='condition', y='characters_per_sec', data=trial_level_data, capsize=.2)\n",
    "HTML(\"Participants were slightly faster in the recommendations conditions (characters per second: {}).\".format(\n",
    "    summarize_means(trial_level_data, 'condition', 'characters_per_sec')))"
   ]
  },
  {
   "cell_type": "code",
   "execution_count": 57,
   "metadata": {},
   "outputs": [
    {
     "data": {
      "text/html": [
       "Participants used available recommendations much more often when they were always shown (use rate: always=0.35, gated=0.15, norecs=0.00)."
      ],
      "text/plain": [
       "<IPython.core.display.HTML object>"
      ]
     },
     "execution_count": 57,
     "metadata": {},
     "output_type": "execute_result"
    },
    {
     "data": {
      "image/png": "[encoded data removed]",
      "text/plain": [
       "<matplotlib.figure.Figure at 0x12fb73400>"
      ]
     },
     "metadata": {},
     "output_type": "display_data"
    }
   ],
   "source": [
    "sns.barplot(x='condition', y='rec_use_full_frac', data=trial_level_data, capsize=.2)\n",
    "HTML(\"Participants used available recommendations much more often when they were always shown (use rate: {}).\".format(\n",
    "    summarize_means(trial_level_data, 'condition', 'rec_use_full_frac')))"
   ]
  },
  {
   "cell_type": "code",
   "execution_count": null,
   "metadata": {},
   "outputs": [],
   "source": []
  },
  {
   "cell_type": "code",
   "execution_count": 17,
   "metadata": {},
   "outputs": [
    {
     "name": "stdout",
     "output_type": "stream",
     "text": [
      "No\n",
      "\n",
      "None\n",
      "\n",
      "None\n",
      "\n",
      "No\n",
      "\n",
      "None\n",
      "\n",
      "None\n",
      "\n",
      "None\n",
      "\n",
      "No\n",
      "\n",
      "no\n",
      "\n",
      "No\n",
      "\n",
      "No\n",
      "\n",
      "None\n",
      "\n",
      "No\n",
      "\n",
      "No\n",
      "\n",
      "No\n",
      "\n",
      "No\n",
      "\n",
      "No\n"
     ]
    }
   ],
   "source": [
    "print('\\n\\n'.join(x for x in experiment_level_data['techDiff'] if x is not None))"
   ]
  },
  {
   "cell_type": "code",
   "execution_count": 20,
   "metadata": {},
   "outputs": [
    {
     "name": "stdout",
     "output_type": "stream",
     "text": [
      "None\n",
      "\n",
      "None\n",
      "\n",
      "None\n",
      "\n",
      "It went well\n",
      "\n",
      "None\n",
      "\n",
      "None\n",
      "\n",
      "None\n",
      "\n",
      "All is well\n",
      "\n",
      "None\n",
      "\n",
      "None\n",
      "\n",
      "None\n",
      "\n",
      "The keys seemed so tiny in all three. It was hard to type. \n",
      "\n",
      "None\n",
      "\n",
      "Great, enjoyed it!\n",
      "\n",
      "I enjoyed the experience\n"
     ]
    }
   ],
   "source": [
    "print('\\n\\n'.join(x for x in experiment_level_data['other'] if isinstance(x, str)))"
   ]
  },
  {
   "cell_type": "code",
   "execution_count": null,
   "metadata": {},
   "outputs": [],
   "source": []
  }
 ],
 "metadata": {
  "kernelspec": {
   "display_name": "Python 3",
   "language": "python",
   "name": "python3"
  },
  "language_info": {
   "codemirror_mode": {
    "name": "ipython",
    "version": 3
   },
   "file_extension": ".py",
   "mimetype": "text/x-python",
   "name": "python",
   "nbconvert_exporter": "python",
   "pygments_lexer": "ipython3",
   "version": "3.6.4"
  }
 },
 "nbformat": 4,
 "nbformat_minor": 2
}
