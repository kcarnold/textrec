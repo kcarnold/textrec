{
 "cells": [
  {
   "cell_type": "code",
   "execution_count": 1,
   "metadata": {},
   "outputs": [],
   "source": [
    "import json\n",
    "from collections import Counter\n",
    "import toolz\n",
    "from IPython.display import Image, HTML\n",
    "import tqdm"
   ]
  },
  {
   "cell_type": "code",
   "execution_count": 2,
   "metadata": {},
   "outputs": [],
   "source": [
    "images = json.load(open('/Users/kcarnold/src/ImageCaptioning.pytorch/data/dataset_coco.json'))['images']"
   ]
  },
  {
   "cell_type": "code",
   "execution_count": 3,
   "metadata": {},
   "outputs": [],
   "source": [
    "id2url = {img['id']: img['coco_url'] for img in\n",
    "              json.load(open('/Data/COCO/annotations/captions_train2017.json'))['images'] +\n",
    "              json.load(open('/Data/COCO/annotations/captions_val2017.json'))['images']\n",
    "         }"
   ]
  },
  {
   "cell_type": "code",
   "execution_count": 4,
   "metadata": {},
   "outputs": [
    {
     "data": {
      "text/plain": [
       "Counter({'restval': 30504, 'test': 5000, 'train': 82783, 'val': 5000})"
      ]
     },
     "execution_count": 4,
     "metadata": {},
     "output_type": "execute_result"
    }
   ],
   "source": [
    "Counter(img['split'] for img in images)"
   ]
  },
  {
   "cell_type": "code",
   "execution_count": 5,
   "metadata": {},
   "outputs": [
    {
     "data": {
      "text/plain": [
       "5000"
      ]
     },
     "execution_count": 5,
     "metadata": {},
     "output_type": "execute_result"
    }
   ],
   "source": [
    "images_by_split = toolz.groupby('split', images)\n",
    "valid_images = images_by_split['val']\n",
    "len(valid_images)"
   ]
  },
  {
   "cell_type": "code",
   "execution_count": 6,
   "metadata": {},
   "outputs": [],
   "source": [
    "def coco_url(cocoid):\n",
    "    return id2url[cocoid]\n",
    "#     return f'http://images.cocodataset.org/train2017/{cocoid:012d}.jpg'"
   ]
  },
  {
   "cell_type": "code",
   "execution_count": 7,
   "metadata": {},
   "outputs": [
    {
     "data": {
      "text/plain": [
       "'http://images.cocodataset.org/train2017/000000184613.jpg'"
      ]
     },
     "execution_count": 7,
     "metadata": {},
     "output_type": "execute_result"
    }
   ],
   "source": [
    "coco_url(valid_images[0]['cocoid'])"
   ]
  },
  {
   "cell_type": "code",
   "execution_count": 8,
   "metadata": {},
   "outputs": [],
   "source": [
    "from sklearn.feature_extraction.text import TfidfVectorizer, CountVectorizer, TfidfTransformer"
   ]
  },
  {
   "cell_type": "code",
   "execution_count": 11,
   "metadata": {},
   "outputs": [],
   "source": [
    "def join_captions(image):\n",
    "    return '\\n'.join(' '.join(sent['tokens']) for sent in image['sentences'])"
   ]
  },
  {
   "cell_type": "code",
   "execution_count": 12,
   "metadata": {},
   "outputs": [],
   "source": [
    "joined_captions = [join_captions(image) for image in images]"
   ]
  },
  {
   "cell_type": "code",
   "execution_count": 42,
   "metadata": {},
   "outputs": [],
   "source": [
    "vectorizer = TfidfVectorizer(\n",
    "    ngram_range=(1,2),\n",
    "    #analyzer=lambda image: [tok for sent in image['sentences'] for tok in sent['tokens']],\n",
    "    min_df=5)\n",
    "vectorizer.fit(joined_captions)\n",
    "valid_img_by_word = vectorizer.transform([join_captions(img) for img in images_by_split['val']])"
   ]
  },
  {
   "cell_type": "code",
   "execution_count": 43,
   "metadata": {},
   "outputs": [
    {
     "data": {
      "text/plain": [
       "<5000x96019 sparse matrix of type '<class 'numpy.float64'>'\n",
       "\twith 294544 stored elements in Compressed Sparse Row format>"
      ]
     },
     "execution_count": 43,
     "metadata": {},
     "output_type": "execute_result"
    }
   ],
   "source": [
    "valid_img_by_word"
   ]
  },
  {
   "cell_type": "code",
   "execution_count": 31,
   "metadata": {},
   "outputs": [],
   "source": [
    "def show_images(indices):\n",
    "    valid_images = images_by_split['val']\n",
    "    def img(idx):\n",
    "        img = valid_images[idx]\n",
    "        captions = '\\n'.join(\n",
    "            '<div>{}</div>'.format(sent)\n",
    "            for sent in toolz.pluck('raw', img['sentences'])\n",
    "        )\n",
    "        return '<div style=\"display: inline-block;\"><div>{}</div><img src=\"{}\">{}</div>'.format(img['cocoid'], coco_url(img['cocoid']), captions)\n",
    "\n",
    "    return '\\n'.join(img(idx) for idx in indices)\n"
   ]
  },
  {
   "cell_type": "code",
   "execution_count": 69,
   "metadata": {},
   "outputs": [],
   "source": [
    "id2str = vectorizer.get_feature_names()"
   ]
  },
  {
   "cell_type": "code",
   "execution_count": 73,
   "metadata": {},
   "outputs": [
    {
     "name": "stdout",
     "output_type": "stream",
     "text": [
      "and 0.049313356601274304\n",
      "and groom 0.24176942501198595\n",
      "bride 0.2359050975189118\n",
      "bride and 0.24083625480048207\n",
      "cake 0.15828851385295933\n",
      "cake while 0.26344799436349564\n",
      "cutting 0.17432786940553632\n",
      "cutting their 0.27101955826310037\n",
      "groom 0.23939787098188633\n",
      "groom cutting 0.2866464364987647\n",
      "guides 0.2965858315013846\n",
      "photographer 0.24734421301588444\n",
      "their 0.12373290091753768\n",
      "their wedding 0.25553476029747846\n",
      "them 0.1477141345464511\n",
      "wedding 0.2207734177910256\n",
      "wedding cake 0.23606300763758728\n",
      "while 0.10336581020863053\n",
      "while photographer 0.34779625254339697\n"
     ]
    }
   ],
   "source": [
    "# query_sent = 'a busy city street with cars and people along the streets with high-rise buildings on both sides'\n",
    "# query_sent = 'a bath room with a white toilet and a white washbasin'\n",
    "# query_sent = 'a busy street in a historic town with a red bus driving on the street.'\n",
    "# query_sent = 'a tennis player hits a ball during a game'\n",
    "query_sent = 'a bride and groom cutting their wedding cake, while a photographer guides them'\n",
    "query_vec = vectorizer.transform([query_sent])\n",
    "for k, v in query_vec.todok().items():\n",
    "    print(id2str[k[1]], v)"
   ]
  },
  {
   "cell_type": "code",
   "execution_count": null,
   "metadata": {},
   "outputs": [],
   "source": []
  },
  {
   "cell_type": "code",
   "execution_count": 74,
   "metadata": {},
   "outputs": [
    {
     "data": {
      "text/html": [
       "<div style=\"display: inline-block;\"><div>227326</div><img src=\"http://images.cocodataset.org/train2017/000000227326.jpg\"><div>A man and woman that is standing near a cake.</div>\n",
       "<div>a man and woman cut into a wedding cake </div>\n",
       "<div>A bride and groom are getting help to cut the cake.</div>\n",
       "<div>A couple who is cutting their wedding cake together.</div>\n",
       "<div>A bride and groom cutting a wedding cake while the photographer gives directions.</div></div>\n",
       "<div style=\"display: inline-block;\"><div>523217</div><img src=\"http://images.cocodataset.org/train2017/000000523217.jpg\"><div>Two people are cutting into a cake at a celebration.</div>\n",
       "<div>A bride and groom are about to cut their wedding cake. </div>\n",
       "<div>a bride and groom cutting their wedding cake</div>\n",
       "<div>A man and woman standing in front of a large cake.</div>\n",
       "<div>a married couple cut into a wedding cake </div></div>\n",
       "<div style=\"display: inline-block;\"><div>459721</div><img src=\"http://images.cocodataset.org/train2017/000000459721.jpg\"><div>a newly wedded couple cutting their wedding cake</div>\n",
       "<div>A couple with a knife cutting into a cake.</div>\n",
       "<div>a just married couple slicing a wedding cake together</div>\n",
       "<div>A bride and groom cutting into their wedding cake together,</div>\n",
       "<div>Bride and Groom shown attempting to cut their cake together.</div></div>\n",
       "<div style=\"display: inline-block;\"><div>485172</div><img src=\"http://images.cocodataset.org/train2017/000000485172.jpg\"><div>Woman in white wedding dress, and guy in suit and tie pose for camera</div>\n",
       "<div>A bride in a wedding dress poses with her newlywed husband. </div>\n",
       "<div> a man and a woman have gotten married </div>\n",
       "<div>A couple stand together in wedding attire outside.</div>\n",
       "<div>A bride and groom posing for a picture.</div></div>\n",
       "<div style=\"display: inline-block;\"><div>356337</div><img src=\"http://images.cocodataset.org/train2017/000000356337.jpg\"><div>A man in a white shirt and a woman in a white dress hold a knife over a blue decorated cake.</div>\n",
       "<div>a newly married couple cutting up a colorful wedding cake.</div>\n",
       "<div>A couple cut a bright, neon cake together.</div>\n",
       "<div>THERE IS A COUPLE THAT IS CUTTING A CKAE \n",
       "</div>\n",
       "<div>Man and woman cutting a ceremonial cake, together.</div></div>\n",
       "<div style=\"display: inline-block;\"><div>395890</div><img src=\"http://images.cocodataset.org/train2017/000000395890.jpg\"><div>Couple in dress outfit standing in front of the white table with books on it. </div>\n",
       "<div>A couple is standing together posing next to a table</div>\n",
       "<div>A woman in a white dress and a man in a suit.</div>\n",
       "<div>A man and a women who are standing next to each other.</div>\n",
       "<div>The bride and groom stand beside a cake shaped like a stack of books. </div></div>\n",
       "<div style=\"display: inline-block;\"><div>370591</div><img src=\"http://images.cocodataset.org/train2017/000000370591.jpg\"><div>A group of solders cutting up a sheet cake.</div>\n",
       "<div>three people in uniform cutting a cake on a table.</div>\n",
       "<div>Three members of the military cut an anniversary cake while a large group looks on.</div>\n",
       "<div>Three men cut a cake with a large group of men behind them.</div>\n",
       "<div>Three people in uniform cutting a cake with others watching.</div></div>\n",
       "<div style=\"display: inline-block;\"><div>495438</div><img src=\"http://images.cocodataset.org/train2017/000000495438.jpg\"><div>A shirtless person cutting a heart shaped cake with a knife.</div>\n",
       "<div>A birthday cake in the shape of a heart is being cut.</div>\n",
       "<div>A child cutting a birthday cake on a table </div>\n",
       "<div>Close up of an arm cutting a birthday cake.</div>\n",
       "<div>A child is cutting a birthday cake with a knife.</div></div>\n",
       "<div style=\"display: inline-block;\"><div>253282</div><img src=\"http://images.cocodataset.org/train2017/000000253282.jpg\"><div>A number of heart shaped boxes stacked on top of each other.</div>\n",
       "<div>A large triple layer cake with two glass birds on top of it.</div>\n",
       "<div>A wedding cake is decorated with love birds. </div>\n",
       "<div>A heart shaped cake with a pair of dove decorations sitting on top.</div>\n",
       "<div>a close up of a cake on a table</div></div>\n",
       "<div style=\"display: inline-block;\"><div>32001</div><img src=\"http://images.cocodataset.org/train2017/000000032001.jpg\"><div>A woman smiling with a white birthday cake and a man standing nearby holding a baby. </div>\n",
       "<div>A small family; a woman is holding a birthday cake with two candles as a man holds a little boy.</div>\n",
       "<div>A women who is holding a birthday cake.</div>\n",
       "<div>A lady holding a lite cake while a man holding a baby looks on.</div>\n",
       "<div>A woman holding a lighted birthday cake, as a man hold the child.</div></div>"
      ],
      "text/plain": [
       "<IPython.core.display.HTML object>"
      ]
     },
     "execution_count": 74,
     "metadata": {},
     "output_type": "execute_result"
    }
   ],
   "source": [
    "HTML(show_images(np.argsort(valid_img_by_word.dot(query_vec.T).A.ravel())[-10:][::-1]))"
   ]
  },
  {
   "cell_type": "markdown",
   "metadata": {},
   "source": [
    "# Similar Pairs"
   ]
  },
  {
   "cell_type": "code",
   "execution_count": 12,
   "metadata": {},
   "outputs": [],
   "source": [
    "import scipy.sparse"
   ]
  },
  {
   "cell_type": "code",
   "execution_count": 13,
   "metadata": {},
   "outputs": [],
   "source": [
    "sims = scipy.sparse.triu(valid_img_by_word.dot(valid_img_by_word.T), 1)\n",
    "sims = sims.tocoo()"
   ]
  },
  {
   "cell_type": "code",
   "execution_count": 14,
   "metadata": {},
   "outputs": [
    {
     "data": {
      "text/plain": [
       "<5000x5000 sparse matrix of type '<class 'numpy.float64'>'\n",
       "\twith 12497377 stored elements in COOrdinate format>"
      ]
     },
     "execution_count": 14,
     "metadata": {},
     "output_type": "execute_result"
    }
   ],
   "source": [
    "sims"
   ]
  },
  {
   "cell_type": "code",
   "execution_count": 15,
   "metadata": {},
   "outputs": [
    {
     "data": {
      "text/plain": [
       "array([ 309873, 1407884, 2690014,  311103, 1407850, 2687441, 1407954,\n",
       "       1407943,  312064, 1407857])"
      ]
     },
     "execution_count": 15,
     "metadata": {},
     "output_type": "execute_result"
    }
   ],
   "source": [
    "sorts = np.argsort(sims.data)[::-1]\n",
    "sorts[-10:]"
   ]
  },
  {
   "cell_type": "code",
   "execution_count": 16,
   "metadata": {},
   "outputs": [],
   "source": [
    "def get_most_similar_unique_pairs(sim_matrix_coo, num_pairs):\n",
    "    similar_pairs = []\n",
    "    used_images = set()\n",
    "    for data_idx in np.argsort(sim_matrix_coo.data)[::-1]:\n",
    "        a = sim_matrix_coo.row[data_idx]\n",
    "        b = sim_matrix_coo.col[data_idx]\n",
    "        if a in used_images or b in used_images:\n",
    "            continue\n",
    "        used_images.add(a)\n",
    "        used_images.add(b)\n",
    "        similar_pairs.append((a, b))\n",
    "        if len(similar_pairs) == num_pairs:\n",
    "            break\n",
    "    return similar_pairs\n",
    "similar_pairs = get_most_similar_unique_pairs(scipy.sparse.triu(valid_img_by_word.dot(valid_img_by_word.T), 1).tocoo(), 12)"
   ]
  },
  {
   "cell_type": "code",
   "execution_count": 17,
   "metadata": {},
   "outputs": [
    {
     "data": {
      "text/plain": [
       "[(836, 3414),\n",
       " (3322, 3323),\n",
       " (2622, 4295),\n",
       " (563, 1758),\n",
       " (1642, 3163),\n",
       " (3716, 3835),\n",
       " (4352, 4353),\n",
       " (489, 1614),\n",
       " (2024, 3063),\n",
       " (472, 1968),\n",
       " (1370, 3440),\n",
       " (1894, 3559)]"
      ]
     },
     "execution_count": 17,
     "metadata": {},
     "output_type": "execute_result"
    }
   ],
   "source": [
    "similar_pairs"
   ]
  },
  {
   "cell_type": "code",
   "execution_count": 19,
   "metadata": {},
   "outputs": [
    {
     "data": {
      "text/html": [
       "<div style=\"display: inline-block;\"><div>236272</div><img src=\"http://images.cocodataset.org/train2017/000000236272.jpg\"><div>A baseball player swinging his bat at a baseball game. </div>\n",
       "<div>A baseball player has just swung his bat.</div>\n",
       "<div>A baseball hitter swinging his bat during a baseball game.</div>\n",
       "<div>A baseball player playing on a baseball field.</div>\n",
       "<div>A baseball batter swinging at a baseball pitch.</div></div>\n",
       "<div style=\"display: inline-block;\"><div>467791</div><img src=\"http://images.cocodataset.org/train2017/000000467791.jpg\"><div>A baseball player swinging a bat on a field.</div>\n",
       "<div>A batter swinging at a pitch at a baseball game with a runner on first base.</div>\n",
       "<div>a baseball game where the batter just swung the bat </div>\n",
       "<div>A baseball player swinging his bat at the plate.</div>\n",
       "<div>Baseball players are playing baseball on a baseball field.</div></div>\n",
       "<div style=\"display: inline-block;\"><div>247576</div><img src=\"http://images.cocodataset.org/train2017/000000247576.jpg\"><div>A red double decker bus driving down the street</div>\n",
       "<div>A large red double decker bus traveling down a street surrounded by tall buildings.</div>\n",
       "<div>A double decker bus driving down the street</div>\n",
       "<div>Double decker bus moving through the center of an old downtown area. </div>\n",
       "<div>A busy city street with a double Decker bus. </div></div>\n",
       "<div style=\"display: inline-block;\"><div>315976</div><img src=\"http://images.cocodataset.org/train2017/000000315976.jpg\"><div>a red double decker bus is seen coming up the street</div>\n",
       "<div>A red double bus is traveling down the road. </div>\n",
       "<div>A double decker bus is on a street.</div>\n",
       "<div>A red double decker bus driving down a street.</div>\n",
       "<div>A red double decker bus is riding down the road.  </div></div>\n",
       "<div style=\"display: inline-block;\"><div>313214</div><img src=\"http://images.cocodataset.org/train2017/000000313214.jpg\"><div>A group of people flying kites at the beach.</div>\n",
       "<div>people on a sandy beach flying multi-colored kites</div>\n",
       "<div>People flying high kites on beach with city background</div>\n",
       "<div>People together on a beach flying several kites.</div>\n",
       "<div>Several people on a beach flying their kites.</div></div>\n",
       "<div style=\"display: inline-block;\"><div>200451</div><img src=\"http://images.cocodataset.org/train2017/000000200451.jpg\"><div>A group of people standing on top of a sandy beach.</div>\n",
       "<div>A picture of people on the beach flying kites. </div>\n",
       "<div>A crowd of people are flying kites with long tails on the beach.</div>\n",
       "<div>A group of people standing on the beach flying kites</div>\n",
       "<div>Several people flying colorful kites on a beach.</div></div>\n",
       "<div style=\"display: inline-block;\"><div>527375</div><img src=\"http://images.cocodataset.org/train2017/000000527375.jpg\"><div>A computer desk topped with a desktop computer and a laptop.</div>\n",
       "<div>Two computers and a keyboard sit on a desk</div>\n",
       "<div>A desk with a laptop and a desktop computer.</div>\n",
       "<div>A desk with a laptop and desktop computer.</div>\n",
       "<div>A desk top computer and a laptop sitting on a wooden desk.</div></div>\n",
       "<div style=\"display: inline-block;\"><div>164170</div><img src=\"http://images.cocodataset.org/train2017/000000164170.jpg\"><div>A desktop computer sitting on top of a wooden desk.</div>\n",
       "<div>Images on a computer screen on a desk while another laptop on the desk sits blank.</div>\n",
       "<div>A computer desk with a monitor, phone, and laptop on top of it.</div>\n",
       "<div>A desktop and laptop computer on a desk. </div>\n",
       "<div>A desk with a computer monitor, a mouse, a keyboard and a laptop computer.</div></div>\n",
       "<div style=\"display: inline-block;\"><div>341011</div><img src=\"http://images.cocodataset.org/train2017/000000341011.jpg\"><div>a bathroom with a toilet sitting next to a sink </div>\n",
       "<div>A white sink and toilet in a room.</div>\n",
       "<div>A bathroom with a mirror, sinks, toilet and toilet roll.</div>\n",
       "<div>A bathroom that has a toilet sink and mirror in it.</div>\n",
       "<div>A bathroom with a toilet next to a sink.</div></div>\n",
       "<div style=\"display: inline-block;\"><div>431140</div><img src=\"http://images.cocodataset.org/val2017/000000431140.jpg\"><div>A toilet and sink side by side in a bathroom and a mirror. </div>\n",
       "<div>A bathroom with a sink, mirror, and toilet with handicap rail.</div>\n",
       "<div>A toilet and sink that is in a bathroom.</div>\n",
       "<div>A bathroom with a white toilet and a white sink and a mirror</div>\n",
       "<div>A bathroom with sink, mirror, and toilet in it.</div></div>\n",
       "<div style=\"display: inline-block;\"><div>280480</div><img src=\"http://images.cocodataset.org/train2017/000000280480.jpg\"><div>A bird is sitting on a branch among unfocused trees</div>\n",
       "<div>A bird sitting on a branch of a tree.</div>\n",
       "<div>A bird sitting on the branch of a tree.</div>\n",
       "<div>A small bird sitting on a branch in a tree</div>\n",
       "<div>A picture of a bird sitting on a tree branch</div></div>\n",
       "<div style=\"display: inline-block;\"><div>440500</div><img src=\"http://images.cocodataset.org/train2017/000000440500.jpg\"><div>A bird sitting in a tree on a branch.</div>\n",
       "<div>A small bird perched on a branch of a tree </div>\n",
       "<div>A SMALL BIRD SITTING ON A SMALL BRANCH IN A TREE.</div>\n",
       "<div>A small bird perched on top of a tree branch.</div>\n",
       "<div>Small bird perched on a branch in a wooded area.</div></div>\n",
       "<div style=\"display: inline-block;\"><div>349130</div><img src=\"http://images.cocodataset.org/train2017/000000349130.jpg\"><div>A cat sitting on a table behind a glass filled with wine. </div>\n",
       "<div>A cat sitting by a glass of wine.</div>\n",
       "<div>A cat is sitting on the kitchen table staring at a glass.</div>\n",
       "<div>A cat is sitting in front of a glass of wine.</div>\n",
       "<div>A cat is sitting on a chair looking at a glass of wine.</div></div>\n",
       "<div style=\"display: inline-block;\"><div>275449</div><img src=\"http://images.cocodataset.org/train2017/000000275449.jpg\"><div>A is cat seated near a wine glass. </div>\n",
       "<div>A glass of wine placed next to a cat</div>\n",
       "<div>A cat and half empty glass of wine sitting on a table.</div>\n",
       "<div>Glass of red wine with mottled cat behind on table.</div>\n",
       "<div>A glass of wine sitting on a table in front of a grey cat.</div></div>\n",
       "<div style=\"display: inline-block;\"><div>240739</div><img src=\"http://images.cocodataset.org/train2017/000000240739.jpg\"><div>A tennis player is swinging to hit the ball.</div>\n",
       "<div>A man playing tennis on a tennis court during the day.</div>\n",
       "<div>man playing tennis on an outdoor tennis court</div>\n",
       "<div>A man hitting a tennis ball on a tennis court.</div>\n",
       "<div>A man hitting a tennis ball with a racquet on a court.</div></div>\n",
       "<div style=\"display: inline-block;\"><div>71815</div><img src=\"http://images.cocodataset.org/train2017/000000071815.jpg\"><div>A guy playing tennis about to hit the ball. </div>\n",
       "<div>A MAN IS HITTING A TENNIS BALL WITH A TENNIS RACKET</div>\n",
       "<div>A tennis player preparing to hit the tennis ball.</div>\n",
       "<div>a tennis player in a white shirt is playing tennis</div>\n",
       "<div>A man swinging at the ball on a tennis court.</div></div>\n",
       "<div style=\"display: inline-block;\"><div>223777</div><img src=\"http://images.cocodataset.org/train2017/000000223777.jpg\"><div>A train car pulling away from a train station next to a forest.</div>\n",
       "<div>A train on a train track at a train depot.</div>\n",
       "<div>A train pulling into a station with buildings</div>\n",
       "<div>A train rolls down the tracks at the train station.</div>\n",
       "<div>A train is waiting at a small train station.</div></div>\n",
       "<div style=\"display: inline-block;\"><div>401320</div><img src=\"http://images.cocodataset.org/train2017/000000401320.jpg\"><div>A train pulling into a train station pulling a line of train cars behind it.</div>\n",
       "<div>A train engine with several boxcars waiting at a train station.</div>\n",
       "<div>An older yellow train pulling into a station.</div>\n",
       "<div>A train stopped on a train track next to a train platform.</div>\n",
       "<div>a train sitting on the track while a man looks at it</div></div>\n",
       "<div style=\"display: inline-block;\"><div>476864</div><img src=\"http://images.cocodataset.org/train2017/000000476864.jpg\"><div>A surfer in a wetsuit riding a wave</div>\n",
       "<div>A surfer rides a wave in the ocean.</div>\n",
       "<div>A man on a surfboard riding a wave.</div>\n",
       "<div>A man riding a wave on top of a surfboard.</div>\n",
       "<div>A man in a wet suit riding a high wave on his surfboard. </div></div>\n",
       "<div style=\"display: inline-block;\"><div>240275</div><img src=\"http://images.cocodataset.org/train2017/000000240275.jpg\"><div>A surfer rides a wave in the ocean.</div>\n",
       "<div>a man is riding a wave on a board</div>\n",
       "<div>a man is riding a surfboard at the beach</div>\n",
       "<div>A man riding a surfboard on top of a wave.</div>\n",
       "<div>A surfer heads down the incline of a wave.</div></div>\n",
       "<div style=\"display: inline-block;\"><div>227326</div><img src=\"http://images.cocodataset.org/train2017/000000227326.jpg\"><div>A man and woman that is standing near a cake.</div>\n",
       "<div>a man and woman cut into a wedding cake </div>\n",
       "<div>A bride and groom are getting help to cut the cake.</div>\n",
       "<div>A couple who is cutting their wedding cake together.</div>\n",
       "<div>A bride and groom cutting a wedding cake while the photographer gives directions.</div></div>\n",
       "<div style=\"display: inline-block;\"><div>523217</div><img src=\"http://images.cocodataset.org/train2017/000000523217.jpg\"><div>Two people are cutting into a cake at a celebration.</div>\n",
       "<div>A bride and groom are about to cut their wedding cake. </div>\n",
       "<div>a bride and groom cutting their wedding cake</div>\n",
       "<div>A man and woman standing in front of a large cake.</div>\n",
       "<div>a married couple cut into a wedding cake </div></div>\n",
       "<div style=\"display: inline-block;\"><div>301595</div><img src=\"http://images.cocodataset.org/train2017/000000301595.jpg\"><div>A shower and a white toilet in a small bathroom.</div>\n",
       "<div>A bathroom that has a glass shower door.</div>\n",
       "<div>a bathroom with a toilet and a sink and a shower</div>\n",
       "<div>a bathroom with a glass shower and white toilet</div>\n",
       "<div>A bathroom with a toilet, shower stall, sink and a mirror.</div></div>\n",
       "<div style=\"display: inline-block;\"><div>396295</div><img src=\"http://images.cocodataset.org/train2017/000000396295.jpg\"><div>A bathroom shower with towel hanging from the door.</div>\n",
       "<div>A bathroom scene with a shower and toilet in view</div>\n",
       "<div>A shower with a sliding glass door in a small bathroom.</div>\n",
       "<div>A small dirty bathroom with walk in shower and toilet</div>\n",
       "<div>A white toilet and a shower in a room.</div></div>"
      ],
      "text/plain": [
       "<IPython.core.display.HTML object>"
      ]
     },
     "execution_count": 19,
     "metadata": {},
     "output_type": "execute_result"
    }
   ],
   "source": [
    "HTML('\\n'.join(show_images(pair) for pair in similar_pairs))"
   ]
  },
  {
   "cell_type": "code",
   "execution_count": 115,
   "metadata": {},
   "outputs": [],
   "source": [
    "def get_stimulus_images():\n",
    "    sim_matrix_coo = scipy.sparse.triu(valid_img_by_word.dot(valid_img_by_word.T), 1).tocoo()\n",
    "    similar_pairs = list(map(list, get_most_similar_unique_pairs(sim_matrix_coo, 12)))\n",
    "    rs = np.random.RandomState(0)\n",
    "    rs.shuffle(similar_pairs)\n",
    "    for pair in similar_pairs:\n",
    "        rs.shuffle(pair)\n",
    "    return similar_pairs\n",
    "stimuli = get_stimulus_images()"
   ]
  },
  {
   "cell_type": "code",
   "execution_count": 116,
   "metadata": {},
   "outputs": [
    {
     "data": {
      "text/html": [
       "<div style=\"display: inline-block;\"><img src=\"http://images.cocodataset.org/train2017/000000275449.jpg\"><div>A is cat seated near a wine glass. </div>\n",
       "<div>A glass of wine placed next to a cat</div>\n",
       "<div>A cat and half empty glass of wine sitting on a table.</div>\n",
       "<div>Glass of red wine with mottled cat behind on table.</div>\n",
       "<div>A glass of wine sitting on a table in front of a grey cat.</div></div>\n",
       "<div style=\"display: inline-block;\"><img src=\"http://images.cocodataset.org/train2017/000000349130.jpg\"><div>A cat sitting on a table behind a glass filled with wine. </div>\n",
       "<div>A cat sitting by a glass of wine.</div>\n",
       "<div>A cat is sitting on the kitchen table staring at a glass.</div>\n",
       "<div>A cat is sitting in front of a glass of wine.</div>\n",
       "<div>A cat is sitting on a chair looking at a glass of wine.</div></div>\n",
       "<div style=\"display: inline-block;\"><img src=\"http://images.cocodataset.org/train2017/000000396295.jpg\"><div>A bathroom shower with towel hanging from the door.</div>\n",
       "<div>A bathroom scene with a shower and toilet in view</div>\n",
       "<div>A shower with a sliding glass door in a small bathroom.</div>\n",
       "<div>A small dirty bathroom with walk in shower and toilet</div>\n",
       "<div>A white toilet and a shower in a room.</div></div>\n",
       "<div style=\"display: inline-block;\"><img src=\"http://images.cocodataset.org/train2017/000000301595.jpg\"><div>A shower and a white toilet in a small bathroom.</div>\n",
       "<div>A bathroom that has a glass shower door.</div>\n",
       "<div>a bathroom with a toilet and a sink and a shower</div>\n",
       "<div>a bathroom with a glass shower and white toilet</div>\n",
       "<div>A bathroom with a toilet, shower stall, sink and a mirror.</div></div>\n",
       "<div style=\"display: inline-block;\"><img src=\"http://images.cocodataset.org/val2017/000000431140.jpg\"><div>A toilet and sink side by side in a bathroom and a mirror. </div>\n",
       "<div>A bathroom with a sink, mirror, and toilet with handicap rail.</div>\n",
       "<div>A toilet and sink that is in a bathroom.</div>\n",
       "<div>A bathroom with a white toilet and a white sink and a mirror</div>\n",
       "<div>A bathroom with sink, mirror, and toilet in it.</div></div>\n",
       "<div style=\"display: inline-block;\"><img src=\"http://images.cocodataset.org/train2017/000000341011.jpg\"><div>a bathroom with a toilet sitting next to a sink </div>\n",
       "<div>A white sink and toilet in a room.</div>\n",
       "<div>A bathroom with a mirror, sinks, toilet and toilet roll.</div>\n",
       "<div>A bathroom that has a toilet sink and mirror in it.</div>\n",
       "<div>A bathroom with a toilet next to a sink.</div></div>\n",
       "<div style=\"display: inline-block;\"><img src=\"http://images.cocodataset.org/train2017/000000227326.jpg\"><div>A man and woman that is standing near a cake.</div>\n",
       "<div>a man and woman cut into a wedding cake </div>\n",
       "<div>A bride and groom are getting help to cut the cake.</div>\n",
       "<div>A couple who is cutting their wedding cake together.</div>\n",
       "<div>A bride and groom cutting a wedding cake while the photographer gives directions.</div></div>\n",
       "<div style=\"display: inline-block;\"><img src=\"http://images.cocodataset.org/train2017/000000523217.jpg\"><div>Two people are cutting into a cake at a celebration.</div>\n",
       "<div>A bride and groom are about to cut their wedding cake. </div>\n",
       "<div>a bride and groom cutting their wedding cake</div>\n",
       "<div>A man and woman standing in front of a large cake.</div>\n",
       "<div>a married couple cut into a wedding cake </div></div>\n",
       "<div style=\"display: inline-block;\"><img src=\"http://images.cocodataset.org/train2017/000000200451.jpg\"><div>A group of people standing on top of a sandy beach.</div>\n",
       "<div>A picture of people on the beach flying kites. </div>\n",
       "<div>A crowd of people are flying kites with long tails on the beach.</div>\n",
       "<div>A group of people standing on the beach flying kites</div>\n",
       "<div>Several people flying colorful kites on a beach.</div></div>\n",
       "<div style=\"display: inline-block;\"><img src=\"http://images.cocodataset.org/train2017/000000313214.jpg\"><div>A group of people flying kites at the beach.</div>\n",
       "<div>people on a sandy beach flying multi-colored kites</div>\n",
       "<div>People flying high kites on beach with city background</div>\n",
       "<div>People together on a beach flying several kites.</div>\n",
       "<div>Several people on a beach flying their kites.</div></div>\n",
       "<div style=\"display: inline-block;\"><img src=\"http://images.cocodataset.org/train2017/000000223777.jpg\"><div>A train car pulling away from a train station next to a forest.</div>\n",
       "<div>A train on a train track at a train depot.</div>\n",
       "<div>A train pulling into a station with buildings</div>\n",
       "<div>A train rolls down the tracks at the train station.</div>\n",
       "<div>A train is waiting at a small train station.</div></div>\n",
       "<div style=\"display: inline-block;\"><img src=\"http://images.cocodataset.org/train2017/000000401320.jpg\"><div>A train pulling into a train station pulling a line of train cars behind it.</div>\n",
       "<div>A train engine with several boxcars waiting at a train station.</div>\n",
       "<div>An older yellow train pulling into a station.</div>\n",
       "<div>A train stopped on a train track next to a train platform.</div>\n",
       "<div>a train sitting on the track while a man looks at it</div></div>\n",
       "<div style=\"display: inline-block;\"><img src=\"http://images.cocodataset.org/train2017/000000247576.jpg\"><div>A red double decker bus driving down the street</div>\n",
       "<div>A large red double decker bus traveling down a street surrounded by tall buildings.</div>\n",
       "<div>A double decker bus driving down the street</div>\n",
       "<div>Double decker bus moving through the center of an old downtown area. </div>\n",
       "<div>A busy city street with a double Decker bus. </div></div>\n",
       "<div style=\"display: inline-block;\"><img src=\"http://images.cocodataset.org/train2017/000000315976.jpg\"><div>a red double decker bus is seen coming up the street</div>\n",
       "<div>A red double bus is traveling down the road. </div>\n",
       "<div>A double decker bus is on a street.</div>\n",
       "<div>A red double decker bus driving down a street.</div>\n",
       "<div>A red double decker bus is riding down the road.  </div></div>\n",
       "<div style=\"display: inline-block;\"><img src=\"http://images.cocodataset.org/train2017/000000071815.jpg\"><div>A guy playing tennis about to hit the ball. </div>\n",
       "<div>A MAN IS HITTING A TENNIS BALL WITH A TENNIS RACKET</div>\n",
       "<div>A tennis player preparing to hit the tennis ball.</div>\n",
       "<div>a tennis player in a white shirt is playing tennis</div>\n",
       "<div>A man swinging at the ball on a tennis court.</div></div>\n",
       "<div style=\"display: inline-block;\"><img src=\"http://images.cocodataset.org/train2017/000000240739.jpg\"><div>A tennis player is swinging to hit the ball.</div>\n",
       "<div>A man playing tennis on a tennis court during the day.</div>\n",
       "<div>man playing tennis on an outdoor tennis court</div>\n",
       "<div>A man hitting a tennis ball on a tennis court.</div>\n",
       "<div>A man hitting a tennis ball with a racquet on a court.</div></div>\n",
       "<div style=\"display: inline-block;\"><img src=\"http://images.cocodataset.org/train2017/000000240275.jpg\"><div>A surfer rides a wave in the ocean.</div>\n",
       "<div>a man is riding a wave on a board</div>\n",
       "<div>a man is riding a surfboard at the beach</div>\n",
       "<div>A man riding a surfboard on top of a wave.</div>\n",
       "<div>A surfer heads down the incline of a wave.</div></div>\n",
       "<div style=\"display: inline-block;\"><img src=\"http://images.cocodataset.org/train2017/000000476864.jpg\"><div>A surfer in a wetsuit riding a wave</div>\n",
       "<div>A surfer rides a wave in the ocean.</div>\n",
       "<div>A man on a surfboard riding a wave.</div>\n",
       "<div>A man riding a wave on top of a surfboard.</div>\n",
       "<div>A man in a wet suit riding a high wave on his surfboard. </div></div>\n",
       "<div style=\"display: inline-block;\"><img src=\"http://images.cocodataset.org/train2017/000000527375.jpg\"><div>A computer desk topped with a desktop computer and a laptop.</div>\n",
       "<div>Two computers and a keyboard sit on a desk</div>\n",
       "<div>A desk with a laptop and a desktop computer.</div>\n",
       "<div>A desk with a laptop and desktop computer.</div>\n",
       "<div>A desk top computer and a laptop sitting on a wooden desk.</div></div>\n",
       "<div style=\"display: inline-block;\"><img src=\"http://images.cocodataset.org/train2017/000000164170.jpg\"><div>A desktop computer sitting on top of a wooden desk.</div>\n",
       "<div>Images on a computer screen on a desk while another laptop on the desk sits blank.</div>\n",
       "<div>A computer desk with a monitor, phone, and laptop on top of it.</div>\n",
       "<div>A desktop and laptop computer on a desk. </div>\n",
       "<div>A desk with a computer monitor, a mouse, a keyboard and a laptop computer.</div></div>\n",
       "<div style=\"display: inline-block;\"><img src=\"http://images.cocodataset.org/train2017/000000236272.jpg\"><div>A baseball player swinging his bat at a baseball game. </div>\n",
       "<div>A baseball player has just swung his bat.</div>\n",
       "<div>A baseball hitter swinging his bat during a baseball game.</div>\n",
       "<div>A baseball player playing on a baseball field.</div>\n",
       "<div>A baseball batter swinging at a baseball pitch.</div></div>\n",
       "<div style=\"display: inline-block;\"><img src=\"http://images.cocodataset.org/train2017/000000467791.jpg\"><div>A baseball player swinging a bat on a field.</div>\n",
       "<div>A batter swinging at a pitch at a baseball game with a runner on first base.</div>\n",
       "<div>a baseball game where the batter just swung the bat </div>\n",
       "<div>A baseball player swinging his bat at the plate.</div>\n",
       "<div>Baseball players are playing baseball on a baseball field.</div></div>\n",
       "<div style=\"display: inline-block;\"><img src=\"http://images.cocodataset.org/train2017/000000280480.jpg\"><div>A bird is sitting on a branch among unfocused trees</div>\n",
       "<div>A bird sitting on a branch of a tree.</div>\n",
       "<div>A bird sitting on the branch of a tree.</div>\n",
       "<div>A small bird sitting on a branch in a tree</div>\n",
       "<div>A picture of a bird sitting on a tree branch</div></div>\n",
       "<div style=\"display: inline-block;\"><img src=\"http://images.cocodataset.org/train2017/000000440500.jpg\"><div>A bird sitting in a tree on a branch.</div>\n",
       "<div>A small bird perched on a branch of a tree </div>\n",
       "<div>A SMALL BIRD SITTING ON A SMALL BRANCH IN A TREE.</div>\n",
       "<div>A small bird perched on top of a tree branch.</div>\n",
       "<div>Small bird perched on a branch in a wooded area.</div></div>"
      ],
      "text/plain": [
       "<IPython.core.display.HTML object>"
      ]
     },
     "execution_count": 116,
     "metadata": {},
     "output_type": "execute_result"
    }
   ],
   "source": [
    "HTML('\\n'.join(show_images(pair) for pair in stimuli))"
   ]
  },
  {
   "cell_type": "markdown",
   "metadata": {},
   "source": [
    "# Here are the images that we're using in the experiment!"
   ]
  },
  {
   "cell_type": "code",
   "execution_count": 118,
   "metadata": {},
   "outputs": [
    {
     "data": {
      "text/plain": [
       "[[275449, 349130],\n",
       " [396295, 301595],\n",
       " [431140, 341011],\n",
       " [227326, 523217],\n",
       " [200451, 313214],\n",
       " [223777, 401320],\n",
       " [247576, 315976],\n",
       " [71815, 240739],\n",
       " [240275, 476864],\n",
       " [527375, 164170],\n",
       " [236272, 467791],\n",
       " [280480, 440500]]"
      ]
     },
     "execution_count": 118,
     "metadata": {},
     "output_type": "execute_result"
    }
   ],
   "source": [
    "[[valid_images[i]['cocoid'] for i in pair] for pair in stimuli]"
   ]
  },
  {
   "cell_type": "code",
   "execution_count": 100,
   "metadata": {},
   "outputs": [
    {
     "data": {
      "text/plain": [
       "3.0180957701134536"
      ]
     },
     "execution_count": 100,
     "metadata": {},
     "output_type": "execute_result"
    }
   ],
   "source": [
    "\n",
    "vectorizer.idf_[vectorizer.vocabulary_['person']]"
   ]
  },
  {
   "cell_type": "code",
   "execution_count": 77,
   "metadata": {},
   "outputs": [],
   "source": [
    "def show_caps(indices):\n",
    "    print('\\n\\n'.join(\n",
    "        '\\n'.join([sent['raw'] for sent in images_by_split['val'][idx]['sentences']])\n",
    "        for idx in indices))"
   ]
  },
  {
   "cell_type": "code",
   "execution_count": 104,
   "metadata": {},
   "outputs": [
    {
     "data": {
      "text/plain": [
       "236272"
      ]
     },
     "execution_count": 104,
     "metadata": {},
     "output_type": "execute_result"
    }
   ],
   "source": [
    "valid_images[836]['cocoid']"
   ]
  },
  {
   "cell_type": "code",
   "execution_count": 95,
   "metadata": {},
   "outputs": [
    {
     "data": {
      "text/html": [
       "<div style=\"display: inline-block;\"><img src=\"http://images.cocodataset.org/train2017/000000236272.jpg\"><div>A baseball player swinging his bat at a baseball game. </div>\n",
       "<div>A baseball player has just swung his bat.</div>\n",
       "<div>A baseball hitter swinging his bat during a baseball game.</div>\n",
       "<div>A baseball player playing on a baseball field.</div>\n",
       "<div>A baseball batter swinging at a baseball pitch.</div></div>\n",
       "<div style=\"display: inline-block;\"><img src=\"http://images.cocodataset.org/train2017/000000336654.jpg\"><div>Professional baseball player at bat at citi stadium.</div>\n",
       "<div>A baseball player standing on a baseball field swinging a bat. </div>\n",
       "<div>A baseball player has just swung his bat at a pitch.</div>\n",
       "<div>A baseball player has swung a baseball bat.</div>\n",
       "<div>A baseball player swinging his bat in front of a crowd.</div></div>"
      ],
      "text/plain": [
       "<IPython.core.display.HTML object>"
      ]
     },
     "execution_count": 95,
     "metadata": {},
     "output_type": "execute_result"
    }
   ],
   "source": [
    "# HTML(show_images([153, 3323]))\n",
    "# HTML(show_images([489, 1614]))\n",
    "HTML(show_images([836, 1508]))\n",
    "# HTML(show_images([4352, 4353]))"
   ]
  },
  {
   "cell_type": "code",
   "execution_count": 35,
   "metadata": {},
   "outputs": [
    {
     "data": {
      "text/plain": [
       "['A child holding a flowered umbrella and petting a yak.',\n",
       " 'A young man holding an umbrella next to a herd of cattle.',\n",
       " 'a young boy barefoot holding an umbrella touching the horn of a cow',\n",
       " 'A young boy with an umbrella who is touching the horn of a cow.',\n",
       " 'A boy holding an umbrella while standing next to livestock.']"
      ]
     },
     "execution_count": 35,
     "metadata": {},
     "output_type": "execute_result"
    }
   ],
   "source": [
    "[sent['raw'] for sent in images_by_split['val'][0]['sentences']]"
   ]
  },
  {
   "cell_type": "code",
   "execution_count": 42,
   "metadata": {},
   "outputs": [
    {
     "data": {
      "text/plain": [
       "array([ 293, 1648,  755, 4121, 3980, 1459, 3607,  943, 2166,    0])"
      ]
     },
     "execution_count": 42,
     "metadata": {},
     "output_type": "execute_result"
    }
   ],
   "source": [
    "np.argsort(sims[0].A[0])[-10:]"
   ]
  },
  {
   "cell_type": "code",
   "execution_count": 53,
   "metadata": {},
   "outputs": [],
   "source": [
    "closest_data_indices = np.argsort(sims.data)"
   ]
  },
  {
   "cell_type": "code",
   "execution_count": 46,
   "metadata": {},
   "outputs": [],
   "source": [
    "from sklearn.metrics import pairwise"
   ]
  },
  {
   "cell_type": "code",
   "execution_count": 50,
   "metadata": {},
   "outputs": [
    {
     "data": {
      "text/plain": [
       "(array([2165]), array([0.91825199]))"
      ]
     },
     "execution_count": 50,
     "metadata": {},
     "output_type": "execute_result"
    }
   ],
   "source": [
    "pairwise.pairwise_distances_argmin_min(valid_img_by_word[0], valid_img_by_word[1:])\n"
   ]
  },
  {
   "cell_type": "code",
   "execution_count": 52,
   "metadata": {},
   "outputs": [
    {
     "data": {
      "text/plain": [
       "['Young boy holding an umbrella on a rainy day.',\n",
       " 'The boy is walking in the rain with an umbrella.',\n",
       " 'a boy holding an umbrella as he walks down the road ',\n",
       " 'a young boy walks towards the camera holding an umbrella ',\n",
       " 'A young boy with an umbrella covering on a rainy day']"
      ]
     },
     "execution_count": 52,
     "metadata": {},
     "output_type": "execute_result"
    }
   ],
   "source": [
    "[sent['raw'] for sent in images_by_split['val'][2166]['sentences']]"
   ]
  },
  {
   "cell_type": "code",
   "execution_count": 45,
   "metadata": {},
   "outputs": [
    {
     "name": "stdout",
     "output_type": "stream",
     "text": [
      "A child holding a flowered umbrella and petting a yak.\n",
      "A young man holding an umbrella next to a herd of cattle.\n",
      "a young boy barefoot holding an umbrella touching the horn of a cow\n",
      "A young boy with an umbrella who is touching the horn of a cow.\n",
      "A boy holding an umbrella while standing next to livestock.\n",
      "\n",
      "Young boy holding an umbrella on a rainy day.\n",
      "The boy is walking in the rain with an umbrella.\n",
      "a boy holding an umbrella as he walks down the road \n",
      "a young boy walks towards the camera holding an umbrella \n",
      "A young boy with an umbrella covering on a rainy day\n",
      "\n",
      "A woman walking down a street holding an umbrella.\n",
      "A woman with an umbrella and a man walking.\n",
      "A woman is standing beside an older gentleman while holding an umbrella.\n",
      "A woman holding an umbrella while a man walks behind her.\n",
      "A woman walking with a man and holding an umbrella looks off to the side. \n",
      "\n",
      "an image of a woman holding an umbrella with her coat on\n",
      "A woman holding an umbrella in the rain\n",
      "A woman holding a white umbrella with a sleek car in the background.\n",
      "A woman holding an umbrella is standing near a sports car track.\n",
      "A woman with an umbrella standing next to a parking lot.\n",
      "\n",
      "A young lady poses for a photograph while holding an umbrella.\n",
      "A woman on a sidewalk holding an umbrella.\n",
      "A beautiful woman walking down a sidewalk while looking over her should and carrying a blue umbrella.\n",
      "A girl holds an umbrella and looks back.\n",
      "a  young girl holding an umbrella and walking down the sidewalk\n",
      "\n",
      "A woman is standing on cobblestone with an umbrella.\n",
      "A woman in blue jeans and a black coat stands under a blue umbrella.\n",
      "a person holding an open umbrella posing for a photo\n",
      "A woman stands in the sun holding an umbrella \n",
      "A woman on the street holding an umbrella.\n",
      "\n",
      "a close up of a child holding a closed umbrella\n",
      "A young girl stands holding a red umbrella.\n",
      "A little girl holding an umbrella in her hand.\n",
      "A little girl holding a red umbrella in her hand.\n",
      "A small asian girl holding a red umbrella.\n",
      "\n",
      "A woman holding an umbrella standing next to a black wall.\n",
      "A woman is standing under her umbrella in the rain.\n",
      "A woman holding a brown umbrella standing behind another umbrella on the street.\n",
      "Woman with umbrella standing on sidewalk in the rain.\n",
      "Woman with umbrella on a rainy day, near a broken, abandoned umbrella.\n",
      "\n",
      "A man is holding an umbrella beside a truck.\n",
      "A man is walking by a truck holding an umbrella.\n",
      "A man walking past a truck with an umbrella.\n",
      "Black and white image of man with an umbrella on a city street.\n",
      "A black and white picture of a man with an umbrella standing in front of a truck.\n",
      "\n",
      "A man sitting outside under an umbrella using a laptop.\n",
      "a man that is under a blue umbrella\n",
      "A man in a suite sitting in a chair with a laptop and holding an umbrella.\n",
      "A young man dressed in a suit sits under an umbrella. \n",
      "A man sitting on a chair with a laptop holding an umbrella.\n"
     ]
    }
   ],
   "source": [
    "print('\\n\\n'.join([\n",
    "    '\\n'.join([sent['raw'] for sent in images_by_split['val'][idx]['sentences']])\n",
    "    for idx in np.argsort(sims[0].A[0])[-10:][::-1]]))"
   ]
  },
  {
   "cell_type": "code",
   "execution_count": null,
   "metadata": {},
   "outputs": [],
   "source": []
  },
  {
   "cell_type": "code",
   "execution_count": null,
   "metadata": {},
   "outputs": [],
   "source": []
  },
  {
   "cell_type": "code",
   "execution_count": null,
   "metadata": {},
   "outputs": [],
   "source": []
  },
  {
   "cell_type": "code",
   "execution_count": 9,
   "metadata": {},
   "outputs": [
    {
     "name": "stderr",
     "output_type": "stream",
     "text": [
      "/Users/kcarnold/anaconda3/envs/py36/lib/python3.6/site-packages/h5py/__init__.py:36: FutureWarning: Conversion of the second argument of issubdtype from `float` to `np.floating` is deprecated. In future, it will be treated as `np.float64 == np.dtype(float).type`.\n",
      "  from ._conv import register_converters as _register_converters\n"
     ]
    }
   ],
   "source": [
    "import h5py"
   ]
  },
  {
   "cell_type": "code",
   "execution_count": 30,
   "metadata": {},
   "outputs": [],
   "source": [
    "img_data_file = h5py.File('/Users/kcarnold/code/textrec/models-aside/feats_by_imgid.h5')"
   ]
  },
  {
   "cell_type": "code",
   "execution_count": 31,
   "metadata": {},
   "outputs": [],
   "source": [
    "def get_vec_for_image(cocoid):\n",
    "    return img_data_file[str(cocoid)][:].mean(axis=0)"
   ]
  },
  {
   "cell_type": "code",
   "execution_count": 32,
   "metadata": {},
   "outputs": [
    {
     "data": {
      "application/vnd.jupyter.widget-view+json": {
       "model_id": "cd7da254c0554a61bd9ae02f2a475a30",
       "version_major": 2,
       "version_minor": 0
      },
      "text/html": [
       "<p>Failed to display Jupyter Widget of type <code>HBox</code>.</p>\n",
       "<p>\n",
       "  If you're reading this message in Jupyter Notebook or JupyterLab, it may mean\n",
       "  that the widgets JavaScript is still loading. If this message persists, it\n",
       "  likely means that the widgets JavaScript library is either not installed or\n",
       "  not enabled. See the <a href=\"https://ipywidgets.readthedocs.io/en/stable/user_install.html\">Jupyter\n",
       "  Widgets Documentation</a> for setup instructions.\n",
       "</p>\n",
       "<p>\n",
       "  If you're reading this message in another notebook frontend (for example, a static\n",
       "  rendering on GitHub or <a href=\"https://nbviewer.jupyter.org/\">NBViewer</a>),\n",
       "  it may mean that your frontend doesn't currently support widgets.\n",
       "</p>\n"
      ],
      "text/plain": [
       "HBox(children=(IntProgress(value=0, max=123287), HTML(value='')))"
      ]
     },
     "metadata": {},
     "output_type": "display_data"
    },
    {
     "name": "stdout",
     "output_type": "stream",
     "text": [
      "\n"
     ]
    }
   ],
   "source": [
    "mean_features = np.array([get_vec_for_image(img['cocoid']) for img in tqdm.tqdm_notebook(images)])"
   ]
  },
  {
   "cell_type": "code",
   "execution_count": null,
   "metadata": {},
   "outputs": [],
   "source": [
    "from sklearn.metrics import pairwise_distances"
   ]
  },
  {
   "cell_type": "code",
   "execution_count": null,
   "metadata": {},
   "outputs": [],
   "source": [
    "pdists = pairwise_distances(mean_features)"
   ]
  },
  {
   "cell_type": "code",
   "execution_count": null,
   "metadata": {},
   "outputs": [],
   "source": [
    "def show_similar_images(valid_idx, n=10):\n",
    "    return '\\n'.join(\n",
    "        '<img src=\"{}\">'.format(coco_url(valid_images[idx]['cocoid']))\n",
    "        for idx in np.argsort(pdists[valid_idx])[:n])\n",
    "HTML(show_similar_images(1))"
   ]
  },
  {
   "cell_type": "code",
   "execution_count": null,
   "metadata": {},
   "outputs": [],
   "source": []
  },
  {
   "cell_type": "code",
   "execution_count": 18,
   "metadata": {},
   "outputs": [
    {
     "data": {
      "text/html": [
       "<img src=\"http://images.cocodataset.org/train2017/000000360772.jpg\">\n",
       "<img src=\"http://images.cocodataset.org/train2017/000000575946.jpg\">\n",
       "<img src=\"http://images.cocodataset.org/train2017/000000572399.jpg\">\n",
       "<img src=\"http://images.cocodataset.org/train2017/000000030432.jpg\">\n",
       "<img src=\"http://images.cocodataset.org/val2017/000000431140.jpg\">\n",
       "<img src=\"http://images.cocodataset.org/train2017/000000431352.jpg\">\n",
       "<img src=\"http://images.cocodataset.org/train2017/000000098895.jpg\">\n",
       "<img src=\"http://images.cocodataset.org/train2017/000000071618.jpg\">\n",
       "<img src=\"http://images.cocodataset.org/train2017/000000144809.jpg\">\n",
       "<img src=\"http://images.cocodataset.org/train2017/000000485916.jpg\">"
      ],
      "text/plain": [
       "<IPython.core.display.HTML object>"
      ]
     },
     "execution_count": 18,
     "metadata": {},
     "output_type": "execute_result"
    }
   ],
   "source": [
    "HTML(show_similar_images(3))"
   ]
  }
 ],
 "metadata": {
  "kernelspec": {
   "display_name": "Python 3",
   "language": "python",
   "name": "python3"
  },
  "language_info": {
   "codemirror_mode": {
    "name": "ipython",
    "version": 3
   },
   "file_extension": ".py",
   "mimetype": "text/x-python",
   "name": "python",
   "nbconvert_exporter": "python",
   "pygments_lexer": "ipython3",
   "version": "3.6.4"
  }
 },
 "nbformat": 4,
 "nbformat_minor": 2
}
