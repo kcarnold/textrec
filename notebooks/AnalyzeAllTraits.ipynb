{
 "cells": [
  {
   "cell_type": "code",
   "execution_count": null,
   "metadata": {},
   "outputs": [],
   "source": [
    "import pandas as pd\n",
    "import numpy as np\n",
    "%matplotlib inline\n",
    "import seaborn as sns\n",
    "import matplotlib.pyplot as plt"
   ]
  },
  {
   "cell_type": "code",
   "execution_count": null,
   "metadata": {},
   "outputs": [],
   "source": [
    "from textrec.paths import paths"
   ]
  },
  {
   "cell_type": "code",
   "execution_count": null,
   "metadata": {},
   "outputs": [],
   "source": [
    "experiments = ['gc1', 'spec1']\n",
    "frames = [pd.read_csv(paths.analyzed / f'trial_withmanual_{exp}.csv') for exp in experiments]\n",
    "# Approach based on https://stackoverflow.com/a/48064892/69707\n",
    "columns_ordered = []\n",
    "for frame in frames:\n",
    "    for col in frame.columns:\n",
    "        if col not in columns_ordered:\n",
    "            columns_ordered.append(col)\n",
    "all_data = pd.concat(\n",
    "    frames,\n",
    "    keys=experiments,\n",
    "    names=('experiment', '_idx'))[columns_ordered].reset_index(level=0).reset_index(drop=True)"
   ]
  },
  {
   "cell_type": "code",
   "execution_count": null,
   "metadata": {},
   "outputs": [],
   "source": [
    "all_data['condition_mapped'] = all_data.condition.map(lambda x: {'always': 'general'}.get(x,x))"
   ]
  },
  {
   "cell_type": "code",
   "execution_count": null,
   "metadata": {},
   "outputs": [],
   "source": [
    "all_data['condition_order_mapped'] = all_data.condition_order.map(lambda x: x.replace('always', 'general'))"
   ]
  },
  {
   "cell_type": "code",
   "execution_count": null,
   "metadata": {},
   "outputs": [],
   "source": [
    "norecs_speed = all_data[all_data.condition == 'norecs'].groupby('participant').characters_per_sec.mean()\n",
    "with_norecs_speed = pd.merge(\n",
    "    all_data,\n",
    "    norecs_speed.to_frame('chars_per_sec_norecs_mean'),\n",
    "    left_on='participant',\n",
    "    right_index=True)\n",
    "with_norecs_speed"
   ]
  },
  {
   "cell_type": "code",
   "execution_count": null,
   "metadata": {},
   "outputs": [],
   "source": [
    "with_norecs_speed['chars_per_sec_ratio_to_norecs'] = with_norecs_speed.characters_per_sec / with_norecs_speed.chars_per_sec_norecs_mean"
   ]
  },
  {
   "cell_type": "code",
   "execution_count": null,
   "metadata": {},
   "outputs": [],
   "source": [
    "with_norecs_speed['chars_per_sec_ratio_to_norecs_log'] = np.log(with_norecs_speed.chars_per_sec_ratio_to_norecs)"
   ]
  },
  {
   "cell_type": "code",
   "execution_count": null,
   "metadata": {},
   "outputs": [],
   "source": [
    "import scipy.stats"
   ]
  },
  {
   "cell_type": "code",
   "execution_count": null,
   "metadata": {},
   "outputs": [],
   "source": [
    "with_norecs_speed['chars_per_sec_ratio_to_norecs_boxcox'], boxcox_lambda = scipy.stats.boxcox(with_norecs_speed.chars_per_sec_ratio_to_norecs)"
   ]
  },
  {
   "cell_type": "code",
   "execution_count": null,
   "metadata": {},
   "outputs": [],
   "source": [
    "with_norecs_speed.to_csv(paths.analyzed / 'combined_traits.csv', index=False)"
   ]
  },
  {
   "cell_type": "code",
   "execution_count": null,
   "metadata": {},
   "outputs": [],
   "source": []
  }
 ],
 "metadata": {
  "kernelspec": {
   "display_name": "Python 3",
   "language": "python",
   "name": "python3"
  },
  "language_info": {
   "codemirror_mode": {
    "name": "ipython",
    "version": 3
   },
   "file_extension": ".py",
   "mimetype": "text/x-python",
   "name": "python",
   "nbconvert_exporter": "python",
   "pygments_lexer": "ipython3",
   "version": "3.6.4"
  }
 },
 "nbformat": 4,
 "nbformat_minor": 2
}
