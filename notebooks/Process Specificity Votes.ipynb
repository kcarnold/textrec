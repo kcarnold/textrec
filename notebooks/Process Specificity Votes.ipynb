{
 "cells": [
  {
   "cell_type": "code",
   "execution_count": 1,
   "metadata": {},
   "outputs": [
    {
     "name": "stdout",
     "output_type": "stream",
     "text": [
      "/Users/kcarnold/code/textrec\n"
     ]
    }
   ],
   "source": [
    "%cd ~/code/textrec/"
   ]
  },
  {
   "cell_type": "code",
   "execution_count": 2,
   "metadata": {},
   "outputs": [],
   "source": [
    "import json\n",
    "import pandas as pd\n",
    "%matplotlib inline\n",
    "from textrec.paths import paths"
   ]
  },
  {
   "cell_type": "code",
   "execution_count": 26,
   "metadata": {},
   "outputs": [],
   "source": [
    "# batch = 'spec1'\n",
    "batch = 'gc1'"
   ]
  },
  {
   "cell_type": "code",
   "execution_count": 45,
   "metadata": {},
   "outputs": [
    {
     "name": "stdout",
     "output_type": "stream",
     "text": [
      "3 156\n"
     ]
    }
   ],
   "source": [
    "result_files = list(paths.gruntwork.glob(f\"pairwise_mturk_{batch}*.csv\"))\n",
    "votes_by_HIT = pd.concat([pd.read_csv(str(f)) for f in result_files], axis=0, ignore_index=True)\n",
    "print(len(result_files), len(votes_by_HIT))"
   ]
  },
  {
   "cell_type": "code",
   "execution_count": 29,
   "metadata": {},
   "outputs": [
    {
     "name": "stdout",
     "output_type": "stream",
     "text": [
      "MISSING A39UN3PEIRSPCG 6\n",
      "MISSING A39UN3PEIRSPCG 7\n",
      "MISSING A39UN3PEIRSPCG 8\n",
      "MISSING A39UN3PEIRSPCG 9\n",
      "MISSING A39UN3PEIRSPCG 8\n",
      "MISSING A39UN3PEIRSPCG 9\n",
      "MISSING A7OY2DNQAQ73P 1\n",
      "MISSING A7OY2DNQAQ73P 2\n",
      "MISSING A7OY2DNQAQ73P 3\n",
      "MISSING A7OY2DNQAQ73P 4\n",
      "MISSING A7OY2DNQAQ73P 5\n",
      "MISSING A7OY2DNQAQ73P 6\n",
      "MISSING A7OY2DNQAQ73P 7\n",
      "MISSING A7OY2DNQAQ73P 8\n",
      "MISSING A7OY2DNQAQ73P 9\n"
     ]
    }
   ],
   "source": [
    "votes = []\n",
    "for i, row in votes_by_HIT.iterrows():\n",
    "    res = json.loads(row['Answer.results'])\n",
    "    stim = row['Input.stim_idx']\n",
    "    worker = row['WorkerId']\n",
    "    for idx, result in enumerate(res):\n",
    "        if result['isLeft'] is None:\n",
    "            print(\"MISSING\", worker, idx)\n",
    "            continue\n",
    "        winner = result['left']\n",
    "        loser = result['right']\n",
    "        if not result['isLeft']:\n",
    "            winner, loser = loser, winner\n",
    "        votes.append(dict(\n",
    "            stim=stim,\n",
    "            winning_cond=winner['condition'],\n",
    "            losing_cond=loser['condition'],\n",
    "            winning_text=winner['text'],\n",
    "            losing_text=loser['text'],\n",
    "            worker=worker,\n",
    "            item_idx=idx\n",
    "        ))"
   ]
  },
  {
   "cell_type": "code",
   "execution_count": 46,
   "metadata": {},
   "outputs": [],
   "source": [
    "import random"
   ]
  },
  {
   "cell_type": "code",
   "execution_count": 53,
   "metadata": {},
   "outputs": [
    {
     "data": {
      "text/plain": [
       "{'stim': 11,\n",
       " 'winning_cond': 'gated',\n",
       " 'losing_cond': 'norecs',\n",
       " 'winning_text': 'a bird perched on a tree branch on a sunny day',\n",
       " 'losing_text': 'a black and white bird near a tree',\n",
       " 'worker': 'A1A6DUWWGNEE4W',\n",
       " 'item_idx': 6}"
      ]
     },
     "execution_count": 53,
     "metadata": {},
     "output_type": "execute_result"
    }
   ],
   "source": [
    "random.choice(votes)"
   ]
  },
  {
   "cell_type": "code",
   "execution_count": 30,
   "metadata": {},
   "outputs": [
    {
     "data": {
      "text/plain": [
       "1545"
      ]
     },
     "execution_count": 30,
     "metadata": {},
     "output_type": "execute_result"
    }
   ],
   "source": [
    "len(votes)"
   ]
  },
  {
   "cell_type": "code",
   "execution_count": 31,
   "metadata": {},
   "outputs": [
    {
     "data": {
      "text/plain": [
       "gated     556\n",
       "norecs    552\n",
       "always    437\n",
       "Name: winning_cond, dtype: int64"
      ]
     },
     "execution_count": 31,
     "metadata": {},
     "output_type": "execute_result"
    }
   ],
   "source": [
    "pd.DataFrame(votes).winning_cond.value_counts()"
   ]
  },
  {
   "cell_type": "code",
   "execution_count": 32,
   "metadata": {},
   "outputs": [],
   "source": [
    "from collections import Counter, defaultdict"
   ]
  },
  {
   "cell_type": "code",
   "execution_count": 33,
   "metadata": {},
   "outputs": [],
   "source": [
    "def normalize_pair(winner, loser):\n",
    "    if winner > loser:\n",
    "        return (winner, loser, True)\n",
    "    else:\n",
    "        return (loser, winner, False)"
   ]
  },
  {
   "cell_type": "code",
   "execution_count": 34,
   "metadata": {},
   "outputs": [],
   "source": [
    "pairs = defaultdict(Counter)\n",
    "for vote in votes:\n",
    "    a, b, res = normalize_pair(vote['winning_cond'], vote['losing_cond'])\n",
    "    pairs[a, b][res] += 1\n",
    "pairs = {f'{a} > {b}': [res[True], res[False]] for (a, b), res in pairs.items()}"
   ]
  },
  {
   "cell_type": "code",
   "execution_count": 35,
   "metadata": {},
   "outputs": [
    {
     "data": {
      "text/plain": [
       "{'norecs > gated': [306, 312],\n",
       " 'norecs > always': [246, 218],\n",
       " 'gated > always': [244, 219]}"
      ]
     },
     "execution_count": 35,
     "metadata": {},
     "output_type": "execute_result"
    }
   ],
   "source": [
    "pairs"
   ]
  },
  {
   "cell_type": "code",
   "execution_count": 36,
   "metadata": {},
   "outputs": [],
   "source": [
    "from scipy.stats import binom_test"
   ]
  },
  {
   "cell_type": "code",
   "execution_count": 37,
   "metadata": {},
   "outputs": [
    {
     "data": {
      "text/plain": [
       "{'norecs > gated': 0.8406177157468877,\n",
       " 'norecs > always': 0.20999773766649116,\n",
       " 'gated > always': 0.2646691633766017}"
      ]
     },
     "execution_count": 37,
     "metadata": {},
     "output_type": "execute_result"
    }
   ],
   "source": [
    "{vs: binom_test(stats) for vs, stats in pairs.items()}"
   ]
  },
  {
   "cell_type": "code",
   "execution_count": 39,
   "metadata": {},
   "outputs": [],
   "source": [
    "conditions = sorted({vote['winning_cond'] for vote in votes})"
   ]
  },
  {
   "cell_type": "code",
   "execution_count": 40,
   "metadata": {},
   "outputs": [],
   "source": [
    "cond2idx = {cond: idx for idx, cond in enumerate(conditions)}"
   ]
  },
  {
   "cell_type": "code",
   "execution_count": 41,
   "metadata": {},
   "outputs": [],
   "source": [
    "import choix"
   ]
  },
  {
   "cell_type": "code",
   "execution_count": 42,
   "metadata": {},
   "outputs": [],
   "source": [
    "mean, cov = choix.ep_pairwise(3, [(cond2idx[vote['winning_cond']], cond2idx[vote['losing_cond']]) for vote in votes], alpha=1e-1)"
   ]
  },
  {
   "cell_type": "code",
   "execution_count": 43,
   "metadata": {},
   "outputs": [
    {
     "data": {
      "text/plain": [
       "array([-0.0764387 ,  0.04356118,  0.03287752])"
      ]
     },
     "execution_count": 43,
     "metadata": {},
     "output_type": "execute_result"
    }
   ],
   "source": [
    "mean"
   ]
  },
  {
   "cell_type": "code",
   "execution_count": 44,
   "metadata": {},
   "outputs": [
    {
     "data": {
      "text/plain": [
       "array([[3.33526128, 3.33236829, 3.33237043],\n",
       "       [3.33236829, 3.33499668, 3.33263502],\n",
       "       [3.33237043, 3.33263502, 3.33499455]])"
      ]
     },
     "execution_count": 44,
     "metadata": {},
     "output_type": "execute_result"
    }
   ],
   "source": [
    "cov"
   ]
  },
  {
   "cell_type": "code",
   "execution_count": null,
   "metadata": {},
   "outputs": [],
   "source": []
  }
 ],
 "metadata": {
  "kernelspec": {
   "display_name": "Python 3",
   "language": "python",
   "name": "python3"
  },
  "language_info": {
   "codemirror_mode": {
    "name": "ipython",
    "version": 3
   },
   "file_extension": ".py",
   "mimetype": "text/x-python",
   "name": "python",
   "nbconvert_exporter": "python",
   "pygments_lexer": "ipython3",
   "version": "3.6.7"
  },
  "toc": {
   "base_numbering": 1,
   "nav_menu": {},
   "number_sections": true,
   "sideBar": true,
   "skip_h1_title": false,
   "title_cell": "Table of Contents",
   "title_sidebar": "Contents",
   "toc_cell": false,
   "toc_position": {},
   "toc_section_display": true,
   "toc_window_display": false
  }
 },
 "nbformat": 4,
 "nbformat_minor": 2
}
