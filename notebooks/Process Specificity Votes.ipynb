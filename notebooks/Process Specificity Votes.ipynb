{
 "cells": [
  {
   "cell_type": "code",
   "execution_count": 2,
   "metadata": {},
   "outputs": [
    {
     "name": "stdout",
     "output_type": "stream",
     "text": [
      "/Users/kcarnold/code/textrec\n"
     ]
    }
   ],
   "source": [
    "%cd ~/code/textrec/"
   ]
  },
  {
   "cell_type": "code",
   "execution_count": 3,
   "metadata": {},
   "outputs": [],
   "source": [
    "import json\n",
    "import pandas as pd\n",
    "%matplotlib inline\n",
    "from textrec.paths import paths"
   ]
  },
  {
   "cell_type": "code",
   "execution_count": 17,
   "metadata": {},
   "outputs": [],
   "source": [
    "batch = 'gc1'"
   ]
  },
  {
   "cell_type": "code",
   "execution_count": 18,
   "metadata": {},
   "outputs": [],
   "source": [
    "result_files = list(paths.gruntwork.glob(f\"pairwise_mturk_{batch}*.csv\"))\n",
    "votes_by_HIT = pd.concat([pd.read_csv(str(f)) for f in result_files], axis=0, ignore_index=True)"
   ]
  },
  {
   "cell_type": "code",
   "execution_count": 19,
   "metadata": {},
   "outputs": [
    {
     "data": {
      "text/plain": [
       "Index(['HITId', 'HITTypeId', 'Title', 'Description', 'Keywords', 'Reward',\n",
       "       'CreationTime', 'MaxAssignments', 'RequesterAnnotation',\n",
       "       'AssignmentDurationInSeconds', 'AutoApprovalDelayInSeconds',\n",
       "       'Expiration', 'NumberOfSimilarHITs', 'LifetimeInSeconds',\n",
       "       'AssignmentId', 'WorkerId', 'AssignmentStatus', 'AcceptTime',\n",
       "       'SubmitTime', 'AutoApprovalTime', 'ApprovalTime', 'RejectionTime',\n",
       "       'RequesterFeedback', 'WorkTimeInSeconds', 'LifetimeApprovalRate',\n",
       "       'Last30DaysApprovalRate', 'Last7DaysApprovalRate', 'Input.stim_idx',\n",
       "       'Answer.feedback', 'Answer.results', 'Approve', 'Reject'],\n",
       "      dtype='object')"
      ]
     },
     "execution_count": 19,
     "metadata": {},
     "output_type": "execute_result"
    }
   ],
   "source": [
    "votes_by_HIT.columns"
   ]
  },
  {
   "cell_type": "code",
   "execution_count": 20,
   "metadata": {},
   "outputs": [
    {
     "name": "stdout",
     "output_type": "stream",
     "text": [
      "MISSING A39UN3PEIRSPCG 6\n",
      "MISSING A39UN3PEIRSPCG 7\n",
      "MISSING A39UN3PEIRSPCG 8\n",
      "MISSING A39UN3PEIRSPCG 9\n",
      "MISSING A39UN3PEIRSPCG 8\n",
      "MISSING A39UN3PEIRSPCG 9\n"
     ]
    }
   ],
   "source": [
    "votes = []\n",
    "for i, row in votes_by_HIT.iterrows():\n",
    "    res = json.loads(row['Answer.results'])\n",
    "    stim = row['Input.stim_idx']\n",
    "    worker = row['WorkerId']\n",
    "    for idx, result in enumerate(res):\n",
    "        if result['isLeft'] is None:\n",
    "            print(\"MISSING\", worker, idx)\n",
    "            continue\n",
    "        winner = result['left']\n",
    "        loser = result['right']\n",
    "        if not result['isLeft']:\n",
    "            winner, loser = loser, winner\n",
    "        votes.append(dict(\n",
    "            stim=stim,\n",
    "            winning_cond=winner['condition'],\n",
    "            losing_cond=loser['condition'],\n",
    "            winning_text=winner['text'],\n",
    "            losing_text=loser['text'],\n",
    "            worker=worker,\n",
    "            item_idx=idx\n",
    "        ))"
   ]
  },
  {
   "cell_type": "code",
   "execution_count": 21,
   "metadata": {},
   "outputs": [
    {
     "data": {
      "text/plain": [
       "954"
      ]
     },
     "execution_count": 21,
     "metadata": {},
     "output_type": "execute_result"
    }
   ],
   "source": [
    "len(votes)"
   ]
  },
  {
   "cell_type": "code",
   "execution_count": 22,
   "metadata": {},
   "outputs": [
    {
     "data": {
      "text/plain": [
       "gated     344\n",
       "norecs    337\n",
       "always    273\n",
       "Name: winning_cond, dtype: int64"
      ]
     },
     "execution_count": 22,
     "metadata": {},
     "output_type": "execute_result"
    }
   ],
   "source": [
    "pd.DataFrame(votes).winning_cond.value_counts()"
   ]
  },
  {
   "cell_type": "code",
   "execution_count": 23,
   "metadata": {},
   "outputs": [],
   "source": [
    "from collections import Counter, defaultdict"
   ]
  },
  {
   "cell_type": "code",
   "execution_count": 24,
   "metadata": {},
   "outputs": [],
   "source": [
    "def normalize_pair(winner, loser):\n",
    "    if winner > loser:\n",
    "        return (winner, loser, True)\n",
    "    else:\n",
    "        return (loser, winner, False)"
   ]
  },
  {
   "cell_type": "code",
   "execution_count": 25,
   "metadata": {},
   "outputs": [],
   "source": [
    "pairs = defaultdict(Counter)\n",
    "for vote in votes:\n",
    "    a, b, res = normalize_pair(vote['winning_cond'], vote['losing_cond'])\n",
    "    pairs[a, b][res] += 1\n",
    "pairs = {f'{a} > {b}': [res[True], res[False]] for (a, b), res in pairs.items()}"
   ]
  },
  {
   "cell_type": "code",
   "execution_count": 26,
   "metadata": {},
   "outputs": [
    {
     "data": {
      "text/plain": [
       "{'norecs > gated': [183, 198],\n",
       " 'norecs > always': [154, 133],\n",
       " 'gated > always': [146, 140]}"
      ]
     },
     "execution_count": 26,
     "metadata": {},
     "output_type": "execute_result"
    }
   ],
   "source": [
    "pairs"
   ]
  },
  {
   "cell_type": "code",
   "execution_count": 27,
   "metadata": {},
   "outputs": [],
   "source": [
    "from scipy.stats import binom_test"
   ]
  },
  {
   "cell_type": "code",
   "execution_count": 28,
   "metadata": {},
   "outputs": [
    {
     "data": {
      "text/plain": [
       "{'norecs > gated': 0.473272319538945,\n",
       " 'norecs > always': 0.23772336278505046,\n",
       " 'gated > always': 0.7675530279201782}"
      ]
     },
     "execution_count": 28,
     "metadata": {},
     "output_type": "execute_result"
    }
   ],
   "source": [
    "{vs: binom_test(stats) for vs, stats in pairs.items()}"
   ]
  },
  {
   "cell_type": "code",
   "execution_count": null,
   "metadata": {},
   "outputs": [],
   "source": []
  }
 ],
 "metadata": {
  "kernelspec": {
   "display_name": "Python 3",
   "language": "python",
   "name": "python3"
  },
  "language_info": {
   "codemirror_mode": {
    "name": "ipython",
    "version": 3
   },
   "file_extension": ".py",
   "mimetype": "text/x-python",
   "name": "python",
   "nbconvert_exporter": "python",
   "pygments_lexer": "ipython3",
   "version": "3.6.4"
  }
 },
 "nbformat": 4,
 "nbformat_minor": 2
}
