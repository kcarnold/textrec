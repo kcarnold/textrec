{
 "cells": [
  {
   "cell_type": "code",
   "execution_count": 1,
   "metadata": {},
   "outputs": [],
   "source": [
    "%matplotlib inline\n",
    "import datetime\n",
    "import json\n",
    "import pathlib\n",
    "import pandas as pd\n",
    "import numpy as np\n",
    "import matplotlib.pyplot as plt\n",
    "import seaborn as sns\n",
    "import toolz\n",
    "from IPython.display import Image, HTML"
   ]
  },
  {
   "cell_type": "markdown",
   "metadata": {},
   "source": [
    "# Measuring Specificity"
   ]
  },
  {
   "cell_type": "markdown",
   "metadata": {},
   "source": [
    "We use paired comparisons to analyze specificity and accuracy. For a target image $x$ and a fixed set of imposter images $Y$, the **specific accuracy** of a caption is the fraction of comparisons that chose $x$. \n",
    "\n",
    "We start with our dataset of paired comparisons."
   ]
  },
  {
   "cell_type": "code",
   "execution_count": 2,
   "metadata": {},
   "outputs": [],
   "source": [
    "captions = [\n",
    "    \"exactly how are both the dog and the person going to fit on that skateboard?\",\n",
    "    \"the dark haired dog is trying to ride on the skateboard.\",\n",
    "    \"a person in shorts and a black dog both have one foot on a skateboard.\",\n",
    "    \"a dog with a black head and black legs and ears standing up has one black paw on a black skateboard with white wheels and a guy with black and white shoes and white socks has one foot on the skateboard also and there are bikes and other people in the background\"\n",
    "]"
   ]
  },
  {
   "cell_type": "code",
   "execution_count": 3,
   "metadata": {},
   "outputs": [
    {
     "data": {
      "text/plain": [
       "{'exactly how are both the dog and the person going to fit on that skateboard?': ['dog-and-guy-on-skateboard',\n",
       "  'dog-and-guy-next-to-skateboard'],\n",
       " 'the dark haired dog is trying to ride on the skateboard.': ['just-dog-on-skateboard'],\n",
       " 'a person in shorts and a black dog both have one foot on a skateboard.': ['dog-and-guy-on-skateboard'],\n",
       " 'a dog with a black head and black legs and ears standing up has one black paw on a black skateboard with white wheels and a guy with black and white shoes and white socks has one foot on the skateboard also and there are bikes and other people in the background': ['dog-and-guy-on-skateboard',\n",
       "  'just-dog-on-skateboard',\n",
       "  'guy-on-skateboard-holding-dog',\n",
       "  'dog-and-guy-next-to-skateboard']}"
      ]
     },
     "execution_count": 3,
     "metadata": {},
     "output_type": "execute_result"
    }
   ],
   "source": [
    "alternatives = 'dog-and-guy-on-skateboard just-dog-on-skateboard guy-on-skateboard-holding-dog dog-and-guy-next-to-skateboard'.split()\n",
    "target = alternatives[0]\n",
    "imposters = alternatives[1:]\n",
    "applies_to = [\n",
    "    'dog-and-guy-on-skateboard dog-and-guy-next-to-skateboard'.split(),\n",
    "    'just-dog-on-skateboard'.split(),\n",
    "    'dog-and-guy-on-skateboard'.split(),\n",
    "    'dog-and-guy-on-skateboard just-dog-on-skateboard guy-on-skateboard-holding-dog dog-and-guy-next-to-skateboard'.split()\n",
    "]\n",
    "applies_to = {cap: tgts for cap, tgts in zip(captions, applies_to)}\n",
    "applies_to"
   ]
  },
  {
   "cell_type": "code",
   "execution_count": 4,
   "metadata": {},
   "outputs": [
    {
     "data": {
      "text/plain": [
       "[['dog-and-guy-on-skateboard', 'just-dog-on-skateboard'],\n",
       " ['dog-and-guy-on-skateboard', 'guy-on-skateboard-holding-dog'],\n",
       " ['dog-and-guy-next-to-skateboard', 'dog-and-guy-on-skateboard']]"
      ]
     },
     "execution_count": 4,
     "metadata": {},
     "output_type": "execute_result"
    }
   ],
   "source": [
    "import random\n",
    "random.seed(0)\n",
    "pairs = [[target, imposter] for imposter in imposters]\n",
    "for pair in pairs:\n",
    "    random.shuffle(pair)\n",
    "pairs"
   ]
  },
  {
   "cell_type": "code",
   "execution_count": null,
   "metadata": {},
   "outputs": [],
   "source": []
  },
  {
   "cell_type": "code",
   "execution_count": 5,
   "metadata": {},
   "outputs": [
    {
     "data": {
      "text/plain": [
       "[0, 0, 1]"
      ]
     },
     "execution_count": 5,
     "metadata": {},
     "output_type": "execute_result"
    }
   ],
   "source": [
    "def fake_answer_pairs_for_caption(applies, pairs):\n",
    "    outcomes = []\n",
    "    for a, b in pairs:\n",
    "        choices = []\n",
    "        if a in applies:\n",
    "            choices.append(0)\n",
    "        if b in applies:\n",
    "            choices.append(1)\n",
    "        if len(choices) == 0:\n",
    "            choices = [0, 1]\n",
    "        outcomes.append(random.choice(choices))\n",
    "    return outcomes\n",
    "fake_answer_pairs_for_caption(applies_to[captions[0]], pairs)"
   ]
  },
  {
   "cell_type": "code",
   "execution_count": 6,
   "metadata": {},
   "outputs": [],
   "source": [
    "fake_comparisons_data = []\n",
    "for caption in captions:\n",
    "    for annotator in range(5):\n",
    "        for pair, outcome in zip(pairs, fake_answer_pairs_for_caption(applies_to[caption], pairs)):\n",
    "            picked = pair[outcome]\n",
    "            fake_comparisons_data.append(dict(\n",
    "                caption=caption,\n",
    "                annotator=annotator,\n",
    "                pair=pair,\n",
    "                picked=picked))"
   ]
  },
  {
   "cell_type": "code",
   "execution_count": 7,
   "metadata": {},
   "outputs": [
    {
     "data": {
      "text/plain": [
       "60"
      ]
     },
     "execution_count": 7,
     "metadata": {},
     "output_type": "execute_result"
    }
   ],
   "source": [
    "data = pd.DataFrame(fake_comparisons_data)\n",
    "len(data)"
   ]
  },
  {
   "cell_type": "code",
   "execution_count": 8,
   "metadata": {},
   "outputs": [
    {
     "data": {
      "text/plain": [
       "caption\n",
       "a dog with a black head and black legs and ears standing up has one black paw on a black skateboard with white wheels and a guy with black and white shoes and white socks has one foot on the skateboard also and there are bikes and other people in the background    0.333333\n",
       "the dark haired dog is trying to ride on the skateboard.                                                                                                                                                                                                                 0.400000\n",
       "exactly how are both the dog and the person going to fit on that skateboard?                                                                                                                                                                                             0.933333\n",
       "a person in shorts and a black dog both have one foot on a skateboard.                                                                                                                                                                                                   1.000000\n",
       "Name: picked_correct, dtype: float64"
      ]
     },
     "execution_count": 8,
     "metadata": {},
     "output_type": "execute_result"
    }
   ],
   "source": [
    "data['picked_correct'] = data['picked'] == 'dog-and-guy-on-skateboard'\n",
    "data.groupby('caption').picked_correct.mean().sort_values()"
   ]
  },
  {
   "cell_type": "markdown",
   "metadata": {},
   "source": [
    "# Final analyses"
   ]
  },
  {
   "cell_type": "markdown",
   "metadata": {},
   "source": [
    "We find a main effect of writing condition on outcome specificity."
   ]
  },
  {
   "cell_type": "code",
   "execution_count": 9,
   "metadata": {},
   "outputs": [],
   "source": [
    "%load_ext rpy2.ipython"
   ]
  },
  {
   "cell_type": "code",
   "execution_count": 14,
   "metadata": {},
   "outputs": [],
   "source": [
    "results = pd.DataFrame([\n",
    "    dict(participant=participant, condition=condition)\n",
    "    for participant in 'abc def ghi'.split() for condition in 'general specific norecs'.split()\n",
    "])\n",
    "results['participant'] = results['participant'].astype('category')\n",
    "results['condition'] = results['condition'].astype('category')\n",
    "results['specificity'] = np.random.randn(len(results))"
   ]
  },
  {
   "cell_type": "code",
   "execution_count": 15,
   "metadata": {},
   "outputs": [],
   "source": [
    "%%R\n",
    "#install.packages(\"ARTool\")\n",
    "library(ARTool)"
   ]
  },
  {
   "cell_type": "code",
   "execution_count": 16,
   "metadata": {},
   "outputs": [
    {
     "data": {
      "text/plain": [
       "    condition participant  specificity     \n",
       " general :3   abc:3       Min.   :-2.3097  \n",
       " norecs  :3   def:3       1st Qu.:-0.9336  \n",
       " specific:3   ghi:3       Median :-0.2099  \n",
       "                          Mean   :-0.3794  \n",
       "                          3rd Qu.: 0.6537  \n",
       "                          Max.   : 1.0500  \n"
      ]
     },
     "metadata": {},
     "output_type": "display_data"
    }
   ],
   "source": [
    "%%R -i results\n",
    "summary(results)"
   ]
  },
  {
   "cell_type": "code",
   "execution_count": 17,
   "metadata": {},
   "outputs": [
    {
     "data": {
      "text/plain": [
       "Analysis of Variance of Aligned Rank Transformed Data\n",
       "\n",
       "Table Type: Analysis of Deviance Table (Type III Wald F tests with Kenward-Roger df) \n",
       "Model: Mixed Effects (lmer)\n",
       "Response: art(specificity)\n",
       "\n",
       "             F Df Df.res    Pr(>F)   \n",
       "1 condition 31  2      4 0.0036731 **\n",
       "---\n",
       "Signif. codes:   0 ‘***’ 0.001 ‘**’ 0.01 ‘*’ 0.05 ‘.’ 0.1 ‘ ’ 1 \n"
      ]
     },
     "metadata": {},
     "output_type": "display_data"
    }
   ],
   "source": [
    "%%R -i results\n",
    "transformed <- art(specificity ~ condition + (1|participant), data=results)\n",
    "summary(transformed)\n",
    "anova(transformed)"
   ]
  },
  {
   "cell_type": "code",
   "execution_count": null,
   "metadata": {},
   "outputs": [],
   "source": []
  },
  {
   "cell_type": "code",
   "execution_count": null,
   "metadata": {},
   "outputs": [],
   "source": []
  }
 ],
 "metadata": {
  "kernelspec": {
   "display_name": "Python 3",
   "language": "python",
   "name": "python3"
  },
  "language_info": {
   "codemirror_mode": {
    "name": "ipython",
    "version": 3
   },
   "file_extension": ".py",
   "mimetype": "text/x-python",
   "name": "python",
   "nbconvert_exporter": "python",
   "pygments_lexer": "ipython3",
   "version": "3.6.4"
  }
 },
 "nbformat": 4,
 "nbformat_minor": 2
}
