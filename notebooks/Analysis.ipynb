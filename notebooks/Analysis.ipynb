{
 "cells": [
  {
   "cell_type": "markdown",
   "metadata": {},
   "source": [
    "# Analysis pipeline"
   ]
  },
  {
   "cell_type": "markdown",
   "metadata": {},
   "source": [
    "## Preliminaries"
   ]
  },
  {
   "cell_type": "code",
   "execution_count": 679,
   "metadata": {},
   "outputs": [],
   "source": [
    "import os\n",
    "import datetime\n",
    "import json\n",
    "import pathlib\n",
    "import pandas as pd\n",
    "import numpy as np\n",
    "import matplotlib.pyplot as plt\n",
    "import seaborn as sns\n",
    "import toolz"
   ]
  },
  {
   "cell_type": "code",
   "execution_count": 680,
   "metadata": {},
   "outputs": [],
   "source": [
    "if 'get_ipython' in globals():\n",
    "    get_ipython().run_line_magic('matplotlib', 'inline')\n",
    "    from IPython.display import Image, HTML\n",
    "else:\n",
    "    HTML = lambda *a, **kw: None"
   ]
  },
  {
   "cell_type": "code",
   "execution_count": 681,
   "metadata": {},
   "outputs": [],
   "source": [
    "from textrec.paths import paths\n",
    "from textrec import analysis_util, util, notebook_util\n",
    "#reload(analysis_util), reload(util), reload(notebook_util), reload(automated_analyses)\n",
    "from textrec.notebook_util import images, id2img, id2url, show_images"
   ]
  },
  {
   "cell_type": "code",
   "execution_count": 682,
   "metadata": {},
   "outputs": [],
   "source": [
    "os.chdir(paths.top_level)"
   ]
  },
  {
   "cell_type": "code",
   "execution_count": 683,
   "metadata": {},
   "outputs": [],
   "source": [
    "# HTML(show_images([images_by_split['val'][0]['cocoid']]))"
   ]
  },
  {
   "cell_type": "markdown",
   "metadata": {},
   "source": [
    "## Load results of writing experiment"
   ]
  },
  {
   "cell_type": "markdown",
   "metadata": {},
   "source": [
    "Prerequisites: Run `textrec.logs_to_csv {batch_name}` and `textrec.gruntwork {batch_name}`."
   ]
  },
  {
   "cell_type": "code",
   "execution_count": 684,
   "metadata": {},
   "outputs": [],
   "source": [
    "batch = os.environ.get('BATCH', 'gc1')\n",
    "experiment_level_data = pd.read_csv(paths.analyzed / f'experiment_{batch}.csv')\n",
    "block_level_data = pd.read_csv(paths.analyzed / f'block_{batch}.csv')\n",
    "trial_level_data = pd.read_csv(paths.analyzed / f'trial_withmanual_{batch}.csv')\n",
    "#trial_level_data = pd.read_csv(paths.analyzed / f'trial_{batch}.csv')\n",
    "helpful_ranks_by_condition = pd.read_csv(paths.analyzed / f'helpful_ranks_by_condition_{batch}.csv').set_index('index')"
   ]
  },
  {
   "cell_type": "code",
   "execution_count": 685,
   "metadata": {},
   "outputs": [],
   "source": [
    "def savefig(fn):\n",
    "    plt.savefig(str(paths.figures / f'{batch}_{fn}.pdf'), metadata={'creationDate': None})"
   ]
  },
  {
   "cell_type": "code",
   "execution_count": 686,
   "metadata": {},
   "outputs": [
    {
     "data": {
      "text/plain": [
       "{'female', 'female ', 'male'}"
      ]
     },
     "execution_count": 686,
     "metadata": {},
     "output_type": "execute_result"
    }
   ],
   "source": [
    "set(experiment_level_data.gender)"
   ]
  },
  {
   "cell_type": "code",
   "execution_count": 687,
   "metadata": {},
   "outputs": [],
   "source": [
    "data = dict(\n",
    "    num_participants=len(set(trial_level_data.participant)),\n",
    "    non_male=(experiment_level_data.gender != 'male').sum().item(),\n",
    "    num_trials_per=trial_level_data.groupby('participant').size().mean().item(),\n",
    "    n_trials=len(trial_level_data))"
   ]
  },
  {
   "cell_type": "code",
   "execution_count": 688,
   "metadata": {},
   "outputs": [
    {
     "data": {
      "text/plain": [
       "{'always': 70, 'gated': 24, 'norecs': 2}"
      ]
     },
     "execution_count": 688,
     "metadata": {},
     "output_type": "execute_result"
    }
   ],
   "source": [
    "data['helpful_most_votes'] = helpful_ranks_by_condition.loc[:,[col for col in helpful_ranks_by_condition.columns if 'most' in col]].sum(axis=1).to_dict()\n",
    "data['helpful_most_votes']"
   ]
  },
  {
   "cell_type": "code",
   "execution_count": 689,
   "metadata": {},
   "outputs": [],
   "source": [
    "data['helpful_least_votes'] = helpful_ranks_by_condition.loc[:,[col for col in helpful_ranks_by_condition.columns if 'least' in col]].sum(axis=1).to_dict()"
   ]
  },
  {
   "cell_type": "code",
   "execution_count": 690,
   "metadata": {},
   "outputs": [
    {
     "data": {
      "text/html": [
       "Each of 32 participants (13 non-male) completed 12.0 trials per experiment, for a total of 384 trials."
      ],
      "text/plain": [
       "<IPython.core.display.HTML object>"
      ]
     },
     "execution_count": 690,
     "metadata": {},
     "output_type": "execute_result"
    }
   ],
   "source": [
    "HTML(\"Each of {num_participants} participants ({non_male} non-male) completed {num_trials_per} trials per experiment, for a total of {n_trials} trials.\".format_map(data))"
   ]
  },
  {
   "cell_type": "code",
   "execution_count": 691,
   "metadata": {},
   "outputs": [
    {
     "data": {
      "text/html": [
       "Participants spent 27.5 +- 18.5 minutes total."
      ],
      "text/plain": [
       "<IPython.core.display.HTML object>"
      ]
     },
     "execution_count": 691,
     "metadata": {},
     "output_type": "execute_result"
    }
   ],
   "source": [
    "HTML(\"Participants spent {total_time_mean:.1f} +- {total_time_std:.1f} minutes total.\".format(\n",
    "    total_time_mean=experiment_level_data.total_time.mean(),\n",
    "    total_time_std=experiment_level_data.total_time.std()))"
   ]
  },
  {
   "cell_type": "code",
   "execution_count": 692,
   "metadata": {},
   "outputs": [
    {
     "data": {
      "text/plain": [
       "Index(['participant', 'age', 'english_proficiency', 'gender',\n",
       "       'helpfulRank-accurate-least-condition',\n",
       "       'helpfulRank-accurate-least-idx', 'helpfulRank-accurate-most-condition',\n",
       "       'helpfulRank-accurate-most-idx', 'helpfulRank-quick-least-condition',\n",
       "       'helpfulRank-quick-least-idx', 'helpfulRank-quick-most-condition',\n",
       "       'helpfulRank-quick-most-idx', 'helpfulRank-specific-least-condition',\n",
       "       'helpfulRank-specific-least-idx', 'helpfulRank-specific-most-condition',\n",
       "       'helpfulRank-specific-most-idx', 'other', 'techDiff', 'total_time',\n",
       "       'use_predictive', 'verbalized_during', 'condition_order',\n",
       "       'num_trials_where_recs_used', 'rec_use_group', 'NFC', 'NFC_boxcox',\n",
       "       'Extraversion', 'Extraversion_boxcox', 'Openness', 'Openness_boxcox',\n",
       "       'Trust', 'Trust_boxcox'],\n",
       "      dtype='object')"
      ]
     },
     "execution_count": 692,
     "metadata": {},
     "output_type": "execute_result"
    }
   ],
   "source": [
    "experiment_level_data.columns"
   ]
  },
  {
   "cell_type": "code",
   "execution_count": null,
   "metadata": {},
   "outputs": [],
   "source": []
  },
  {
   "cell_type": "code",
   "execution_count": 693,
   "metadata": {},
   "outputs": [
    {
     "name": "stdout",
     "output_type": "stream",
     "text": [
      "used_predictive {'Often': 14, 'Rarely': 11, 'Very_Rarely': 6, 'Almost_Always': 1}\n"
     ]
    }
   ],
   "source": [
    "data['used_predictive'] = {k.replace(' ', '_'): v for k, v in \n",
    "                                     experiment_level_data.use_predictive.value_counts().to_dict().items()}\n",
    "data['verbalized_during'] = experiment_level_data.verbalized_during.value_counts().to_dict()\n",
    "data['rec_use_group'] = experiment_level_data.rec_use_group.value_counts().to_dict()\n",
    "print('used_predictive', data['used_predictive'])"
   ]
  },
  {
   "cell_type": "code",
   "execution_count": 694,
   "metadata": {},
   "outputs": [
    {
     "data": {
      "text/html": [
       "\n",
       "Most participants reported (before beginning the study) that they used predictive typing on their phones:\n",
       "<table border=\"1\" class=\"dataframe\">\n",
       "  <thead>\n",
       "    <tr style=\"text-align: right;\">\n",
       "      <th></th>\n",
       "      <th>Used predictive typing?</th>\n",
       "    </tr>\n",
       "  </thead>\n",
       "  <tbody>\n",
       "    <tr>\n",
       "      <th>Often</th>\n",
       "      <td>14</td>\n",
       "    </tr>\n",
       "    <tr>\n",
       "      <th>Rarely</th>\n",
       "      <td>11</td>\n",
       "    </tr>\n",
       "    <tr>\n",
       "      <th>Very Rarely</th>\n",
       "      <td>6</td>\n",
       "    </tr>\n",
       "    <tr>\n",
       "      <th>Almost Always</th>\n",
       "      <td>1</td>\n",
       "    </tr>\n",
       "  </tbody>\n",
       "</table>"
      ],
      "text/plain": [
       "<IPython.core.display.HTML object>"
      ]
     },
     "execution_count": 694,
     "metadata": {},
     "output_type": "execute_result"
    }
   ],
   "source": [
    "HTML(\"\"\"\n",
    "Most participants reported (before beginning the study) that they used predictive typing on their phones:\n",
    "\"\"\" + experiment_level_data.use_predictive.value_counts().to_frame(\"Used predictive typing?\").to_html())"
   ]
  },
  {
   "cell_type": "code",
   "execution_count": 695,
   "metadata": {},
   "outputs": [
    {
     "data": {
      "text/html": [
       "\n",
       "Several participants answered Yes to \"While you were writing, did you speak or whisper what you were writing?\":\n",
       "<table border=\"1\" class=\"dataframe\">\n",
       "  <thead>\n",
       "    <tr style=\"text-align: right;\">\n",
       "      <th></th>\n",
       "      <th>Verbalized?</th>\n",
       "    </tr>\n",
       "  </thead>\n",
       "  <tbody>\n",
       "    <tr>\n",
       "      <th>No</th>\n",
       "      <td>29</td>\n",
       "    </tr>\n",
       "    <tr>\n",
       "      <th>Yes</th>\n",
       "      <td>3</td>\n",
       "    </tr>\n",
       "  </tbody>\n",
       "</table>"
      ],
      "text/plain": [
       "<IPython.core.display.HTML object>"
      ]
     },
     "execution_count": 695,
     "metadata": {},
     "output_type": "execute_result"
    }
   ],
   "source": [
    "HTML(\"\"\"\n",
    "Several participants answered Yes to \"While you were writing, did you speak or whisper what you were writing?\":\n",
    "\"\"\" + experiment_level_data.verbalized_during.value_counts().to_frame(\"Verbalized?\").to_html())"
   ]
  },
  {
   "cell_type": "code",
   "execution_count": 696,
   "metadata": {},
   "outputs": [
    {
     "data": {
      "text/html": [
       "\n",
       "We collected 10 items each for NFC and Extraversion.\n",
       "We obtained a wider range of Extraversion than NFC.\n",
       "(Min and max scales normalized to 0 and 1 respectively.)"
      ],
      "text/plain": [
       "<IPython.core.display.HTML object>"
      ]
     },
     "execution_count": 696,
     "metadata": {},
     "output_type": "execute_result"
    },
    {
     "data": {
      "image/png": "[encoded data removed]",
      "text/plain": [
       "<matplotlib.figure.Figure at 0x1a444e5da0>"
      ]
     },
     "metadata": {},
     "output_type": "display_data"
    }
   ],
   "source": [
    "experiment_level_data.plot.scatter(x='Extraversion', y='NFC');\n",
    "plt.xlim([0, 1])\n",
    "plt.ylim([0, 1]);\n",
    "savefig('trait_distribution')\n",
    "HTML(\"\"\"\n",
    "We collected 10 items each for NFC and Extraversion.\n",
    "We obtained a wider range of Extraversion than NFC.\n",
    "(Min and max scales normalized to 0 and 1 respectively.)\"\"\")"
   ]
  },
  {
   "cell_type": "code",
   "execution_count": 697,
   "metadata": {},
   "outputs": [],
   "source": [
    "def latexify_conds(txt):\n",
    "    for cond in 'norecs specific general'.split():\n",
    "        txt = txt.replace(cond, f'\\\\S{cond}')\n",
    "    return txt"
   ]
  },
  {
   "cell_type": "code",
   "execution_count": 698,
   "metadata": {},
   "outputs": [
    {
     "name": "stdout",
     "output_type": "stream",
     "text": [
      "\\begin{tabular}{lr}\n",
      "\\toprule\n",
      "{} &  Num participants \\\\\n",
      "\\midrule\n",
      "\\Snorecs, gated, always &                 6 \\\\\n",
      "always, gated, \\Snorecs &                 6 \\\\\n",
      "gated, \\Snorecs, always &                 5 \\\\\n",
      "always, \\Snorecs, gated &                 5 \\\\\n",
      "\\Snorecs, always, gated &                 5 \\\\\n",
      "gated, always, \\Snorecs &                 5 \\\\\n",
      "\\bottomrule\n",
      "\\end{tabular}\n",
      "\n"
     ]
    }
   ],
   "source": [
    "covc = experiment_level_data.condition_order.value_counts()\n",
    "covc.name = 'Num participants'\n",
    "covc = covc.to_latex()\n",
    "covc = covc.replace(',', ', ')\n",
    "covc = latexify_conds(covc)\n",
    "print(covc)\n",
    "data['condition_order_table'] = covc"
   ]
  },
  {
   "cell_type": "code",
   "execution_count": 699,
   "metadata": {},
   "outputs": [
    {
     "data": {
      "text/html": [
       "When running this experiment, the experiment software was configured to randomize the order\n",
       "of conditions seen by each subject, not to attempt to counterbalance order.\n",
       "This was fixed in subsequent experiments.<table border=\"1\" class=\"dataframe\">\n",
       "  <thead>\n",
       "    <tr style=\"text-align: right;\">\n",
       "      <th></th>\n",
       "      <th>condition_order</th>\n",
       "    </tr>\n",
       "  </thead>\n",
       "  <tbody>\n",
       "    <tr>\n",
       "      <th>norecs,gated,always</th>\n",
       "      <td>6</td>\n",
       "    </tr>\n",
       "    <tr>\n",
       "      <th>always,gated,norecs</th>\n",
       "      <td>6</td>\n",
       "    </tr>\n",
       "    <tr>\n",
       "      <th>gated,norecs,always</th>\n",
       "      <td>5</td>\n",
       "    </tr>\n",
       "    <tr>\n",
       "      <th>always,norecs,gated</th>\n",
       "      <td>5</td>\n",
       "    </tr>\n",
       "    <tr>\n",
       "      <th>norecs,always,gated</th>\n",
       "      <td>5</td>\n",
       "    </tr>\n",
       "    <tr>\n",
       "      <th>gated,always,norecs</th>\n",
       "      <td>5</td>\n",
       "    </tr>\n",
       "  </tbody>\n",
       "</table>"
      ],
      "text/plain": [
       "<IPython.core.display.HTML object>"
      ]
     },
     "execution_count": 699,
     "metadata": {},
     "output_type": "execute_result"
    }
   ],
   "source": [
    "HTML(\"\"\"When running this experiment, the experiment software was configured to randomize the order\n",
    "of conditions seen by each subject, not to attempt to counterbalance order.\n",
    "This was fixed in subsequent experiments.\"\"\"\n",
    "     + experiment_level_data.condition_order.value_counts().to_frame().to_html())"
   ]
  },
  {
   "cell_type": "code",
   "execution_count": 700,
   "metadata": {},
   "outputs": [],
   "source": [
    "def summarize_means(df, by, outcome):\n",
    "    means = df.groupby(by)[outcome].mean()\n",
    "    data[f'{outcome}_means'] = means.to_dict()\n",
    "    return ', '.join(f'{name}={group_mean:.2f}' for name, group_mean in means.iteritems())"
   ]
  },
  {
   "cell_type": "code",
   "execution_count": 701,
   "metadata": {},
   "outputs": [],
   "source": [
    "def analyze_outcome(df, by, outcome):\n",
    "    plt.close('all')\n",
    "    sns.barplot(x=by, y=outcome, data=df, capsize=.2)\n",
    "    savefig(outcome)\n",
    "    return summarize_means(df, by, outcome)"
   ]
  },
  {
   "cell_type": "code",
   "execution_count": 702,
   "metadata": {},
   "outputs": [
    {
     "data": {
      "text/html": [
       "The average cognitive load was higher in the no-recommendations condition (always=10.06, gated=11.53, norecs=14.56)"
      ],
      "text/plain": [
       "<IPython.core.display.HTML object>"
      ]
     },
     "execution_count": 702,
     "metadata": {},
     "output_type": "execute_result"
    },
    {
     "data": {
      "image/png": "[encoded data removed]",
      "text/plain": [
       "<matplotlib.figure.Figure at 0x1a488dfcc0>"
      ]
     },
     "metadata": {},
     "output_type": "display_data"
    }
   ],
   "source": [
    "sns.barplot(x='condition', y='TLX_sum', data=block_level_data, capsize=.2)\n",
    "HTML(\"The average cognitive load was higher in the no-recommendations condition ({})\".format(\n",
    "    analyze_outcome(block_level_data, 'condition', 'TLX_sum')))"
   ]
  },
  {
   "cell_type": "code",
   "execution_count": 703,
   "metadata": {},
   "outputs": [
    {
     "data": {
      "text/plain": [
       "'always=10.06, gated=11.53, norecs=14.56'"
      ]
     },
     "execution_count": 703,
     "metadata": {},
     "output_type": "execute_result"
    },
    {
     "data": {
      "image/png": "[encoded data removed]",
      "text/plain": [
       "<matplotlib.figure.Figure at 0x1a45160898>"
      ]
     },
     "metadata": {},
     "output_type": "display_data"
    }
   ],
   "source": [
    "analyze_outcome(block_level_data, 'condition', 'TLX_sum')"
   ]
  },
  {
   "cell_type": "code",
   "execution_count": 704,
   "metadata": {},
   "outputs": [
    {
     "data": {
      "image/png": "[encoded data removed]",
      "text/plain": [
       "<matplotlib.figure.Figure at 0x1a48a21b70>"
      ]
     },
     "metadata": {},
     "output_type": "display_data"
    }
   ],
   "source": [
    "plt.close('all')\n",
    "tlxen = 'mental physical temporal performance effort frustration'.split()\n",
    "fig, axs = plt.subplots(2, 3, figsize=(10,6), sharey=True)\n",
    "plt.subplots_adjust(wspace=.4, hspace=.3)\n",
    "for i, facet in enumerate(tlxen):\n",
    "    ax = axs.ravel()[i]\n",
    "    sns.barplot(x='condition', y=facet, data=block_level_data, capsize=.2, ax=ax)\n",
    "savefig('tlx_parts')"
   ]
  },
  {
   "cell_type": "code",
   "execution_count": 705,
   "metadata": {},
   "outputs": [
    {
     "data": {
      "text/html": [
       "There was no difference in text length between conditions (always=74.85, gated=70.62, norecs=76.65)."
      ],
      "text/plain": [
       "<IPython.core.display.HTML object>"
      ]
     },
     "execution_count": 705,
     "metadata": {},
     "output_type": "execute_result"
    },
    {
     "data": {
      "image/png": "[encoded data removed]",
      "text/plain": [
       "<matplotlib.figure.Figure at 0x1a4575fa58>"
      ]
     },
     "metadata": {},
     "output_type": "display_data"
    }
   ],
   "source": [
    "HTML(\"There was no difference in text length between conditions ({}).\".format(\n",
    "    analyze_outcome(trial_level_data, 'condition', 'num_chars')))"
   ]
  },
  {
   "cell_type": "code",
   "execution_count": 706,
   "metadata": {},
   "outputs": [
    {
     "data": {
      "text/plain": [
       "'always=14.95, gated=13.95, norecs=15.09'"
      ]
     },
     "execution_count": 706,
     "metadata": {},
     "output_type": "execute_result"
    },
    {
     "data": {
      "image/png": "[encoded data removed]",
      "text/plain": [
       "<matplotlib.figure.Figure at 0x1a4d158ba8>"
      ]
     },
     "metadata": {},
     "output_type": "display_data"
    }
   ],
   "source": [
    "analyze_outcome(trial_level_data, 'condition', 'num_words')"
   ]
  },
  {
   "cell_type": "code",
   "execution_count": 707,
   "metadata": {},
   "outputs": [
    {
     "data": {
      "text/plain": [
       "'always=0.12, gated=0.14, norecs=0.17'"
      ]
     },
     "execution_count": 707,
     "metadata": {},
     "output_type": "execute_result"
    },
    {
     "data": {
      "image/png": "[encoded data removed]",
      "text/plain": [
       "<matplotlib.figure.Figure at 0x1a441c0828>"
      ]
     },
     "metadata": {},
     "output_type": "display_data"
    }
   ],
   "source": [
    "analyze_outcome(trial_level_data, 'condition', 'backspaces_per_char')"
   ]
  },
  {
   "cell_type": "code",
   "execution_count": 708,
   "metadata": {},
   "outputs": [
    {
     "data": {
      "text/plain": [
       "'always=0.00, gated=0.00, norecs=0.00'"
      ]
     },
     "execution_count": 708,
     "metadata": {},
     "output_type": "execute_result"
    },
    {
     "data": {
      "image/png": "[encoded data removed]",
      "text/plain": [
       "<matplotlib.figure.Figure at 0x1a456fc9b0>"
      ]
     },
     "metadata": {},
     "output_type": "display_data"
    }
   ],
   "source": [
    "analyze_outcome(trial_level_data, 'condition', 'uncorrected_errors_per_char')"
   ]
  },
  {
   "cell_type": "code",
   "execution_count": 709,
   "metadata": {},
   "outputs": [
    {
     "data": {
      "text/plain": [
       "'always=9.45, gated=9.30, norecs=13.15'"
      ]
     },
     "execution_count": 709,
     "metadata": {},
     "output_type": "execute_result"
    },
    {
     "data": {
      "image/png": "[encoded data removed]",
      "text/plain": [
       "<matplotlib.figure.Figure at 0x1a490b52e8>"
      ]
     },
     "metadata": {},
     "output_type": "display_data"
    }
   ],
   "source": [
    "analyze_outcome(trial_level_data, 'condition', 'num_tapBackspace')"
   ]
  },
  {
   "cell_type": "code",
   "execution_count": 710,
   "metadata": {},
   "outputs": [
    {
     "data": {
      "text/html": [
       "Participants made more errors (corrected + uncorrected) in the no-recommendations condition (always=9.55, gated=9.35, norecs=13.42)."
      ],
      "text/plain": [
       "<IPython.core.display.HTML object>"
      ]
     },
     "execution_count": 710,
     "metadata": {},
     "output_type": "execute_result"
    },
    {
     "data": {
      "image/png": "[encoded data removed]",
      "text/plain": [
       "<matplotlib.figure.Figure at 0x1a4a3f80f0>"
      ]
     },
     "metadata": {},
     "output_type": "display_data"
    }
   ],
   "source": [
    "sns.barplot(x='condition', y='all_errors', data=trial_level_data, capsize=.2)\n",
    "HTML(\"Participants made more errors (corrected + uncorrected) in the no-recommendations condition ({}).\".format(\n",
    "    summarize_means(trial_level_data, 'condition', 'all_errors')))"
   ]
  },
  {
   "cell_type": "code",
   "execution_count": 711,
   "metadata": {},
   "outputs": [
    {
     "data": {
      "text/html": [
       "Participants were slightly faster in the recommendations conditions (characters per second: always=2.24, gated=2.06, norecs=2.07)."
      ],
      "text/plain": [
       "<IPython.core.display.HTML object>"
      ]
     },
     "execution_count": 711,
     "metadata": {},
     "output_type": "execute_result"
    },
    {
     "data": {
      "image/png": "[encoded data removed]",
      "text/plain": [
       "<matplotlib.figure.Figure at 0x1a477fda20>"
      ]
     },
     "metadata": {},
     "output_type": "display_data"
    }
   ],
   "source": [
    "HTML(\"Participants were slightly faster in the recommendations conditions (characters per second: {}).\".format(\n",
    "    analyze_outcome(trial_level_data, 'condition', 'characters_per_sec')))"
   ]
  },
  {
   "cell_type": "code",
   "execution_count": 712,
   "metadata": {},
   "outputs": [
    {
     "data": {
      "text/html": [
       "Participants used available recommendations slightly more often when they were specific (use rate: always=0.28, gated=0.29, norecs=nan)."
      ],
      "text/plain": [
       "<IPython.core.display.HTML object>"
      ]
     },
     "execution_count": 712,
     "metadata": {},
     "output_type": "execute_result"
    },
    {
     "data": {
      "image/png": "[encoded data removed]",
      "text/plain": [
       "<matplotlib.figure.Figure at 0x1a4b840ac8>"
      ]
     },
     "metadata": {},
     "output_type": "display_data"
    }
   ],
   "source": [
    "sns.barplot(x='condition', y='rec_use_full_frac', data=trial_level_data, capsize=.2)\n",
    "HTML(\"Participants used available recommendations slightly more often when they were specific (use rate: {}).\".format(\n",
    "    summarize_means(trial_level_data, 'condition', 'rec_use_full_frac')))"
   ]
  },
  {
   "cell_type": "code",
   "execution_count": 713,
   "metadata": {},
   "outputs": [
    {
     "data": {
      "text/plain": [
       "'always=0.50, gated=0.56, norecs=0.34'"
      ]
     },
     "execution_count": 713,
     "metadata": {},
     "output_type": "execute_result"
    },
    {
     "data": {
      "image/png": "[encoded data removed]",
      "text/plain": [
       "<matplotlib.figure.Figure at 0x1a48b30748>"
      ]
     },
     "metadata": {},
     "output_type": "display_data"
    }
   ],
   "source": [
    "analyze_outcome(trial_level_data, 'condition', 'extraneous_inputs_per_char')"
   ]
  },
  {
   "cell_type": "code",
   "execution_count": 714,
   "metadata": {},
   "outputs": [
    {
     "data": {
      "text/plain": [
       "'always=3.21, gated=3.29, norecs=3.01'"
      ]
     },
     "execution_count": 714,
     "metadata": {},
     "output_type": "execute_result"
    },
    {
     "data": {
      "image/png": "[encoded data removed]",
      "text/plain": [
       "<matplotlib.figure.Figure at 0x1a48670d68>"
      ]
     },
     "metadata": {},
     "output_type": "display_data"
    }
   ],
   "source": [
    "analyze_outcome(trial_level_data, 'condition', 'extraneous_inputs_boxcox')"
   ]
  },
  {
   "cell_type": "code",
   "execution_count": 715,
   "metadata": {},
   "outputs": [
    {
     "data": {
      "text/plain": [
       "'always=0.26, gated=0.24, norecs=nan'"
      ]
     },
     "execution_count": 715,
     "metadata": {},
     "output_type": "execute_result"
    },
    {
     "data": {
      "image/png": "[encoded data removed]",
      "text/plain": [
       "<matplotlib.figure.Figure at 0x1a471df240>"
      ]
     },
     "metadata": {},
     "output_type": "display_data"
    }
   ],
   "source": [
    "analyze_outcome(trial_level_data, 'condition', 'rec_use_frac')"
   ]
  },
  {
   "cell_type": "code",
   "execution_count": 716,
   "metadata": {},
   "outputs": [
    {
     "data": {
      "text/plain": [
       "'always=0.28, gated=0.29, norecs=nan'"
      ]
     },
     "execution_count": 716,
     "metadata": {},
     "output_type": "execute_result"
    },
    {
     "data": {
      "image/png": "[encoded data removed]",
      "text/plain": [
       "<matplotlib.figure.Figure at 0x1a4464ab38>"
      ]
     },
     "metadata": {},
     "output_type": "display_data"
    }
   ],
   "source": [
    "analyze_outcome(trial_level_data, 'condition', 'rec_use_full_frac')"
   ]
  },
  {
   "cell_type": "code",
   "execution_count": 717,
   "metadata": {},
   "outputs": [
    {
     "data": {
      "text/plain": [
       "'always=-3.20, gated=-3.38, norecs=-3.61'"
      ]
     },
     "execution_count": 717,
     "metadata": {},
     "output_type": "execute_result"
    },
    {
     "data": {
      "image/png": "[encoded data removed]",
      "text/plain": [
       "<matplotlib.figure.Figure at 0x1a48b5bf98>"
      ]
     },
     "metadata": {},
     "output_type": "display_data"
    }
   ],
   "source": [
    "analyze_outcome(trial_level_data, 'condition', 'logprob_unconditional')"
   ]
  },
  {
   "cell_type": "code",
   "execution_count": 718,
   "metadata": {},
   "outputs": [
    {
     "data": {
      "text/plain": [
       "'always=-3.02, gated=-3.17, norecs=-3.40'"
      ]
     },
     "execution_count": 718,
     "metadata": {},
     "output_type": "execute_result"
    },
    {
     "data": {
      "image/png": "[encoded data removed]",
      "text/plain": [
       "<matplotlib.figure.Figure at 0x1a48e593c8>"
      ]
     },
     "metadata": {},
     "output_type": "display_data"
    }
   ],
   "source": [
    "analyze_outcome(trial_level_data, 'condition', 'logprob_conditional')"
   ]
  },
  {
   "cell_type": "code",
   "execution_count": 719,
   "metadata": {},
   "outputs": [
    {
     "data": {
      "text/plain": [
       "'always=15.95, gated=19.27, norecs=22.97'"
      ]
     },
     "execution_count": 719,
     "metadata": {},
     "output_type": "execute_result"
    },
    {
     "data": {
      "image/png": "[encoded data removed]",
      "text/plain": [
       "<matplotlib.figure.Figure at 0x1a47342cf8>"
      ]
     },
     "metadata": {},
     "output_type": "display_data"
    }
   ],
   "source": [
    "analyze_outcome(trial_level_data, 'condition', 'perplexity_per_word_blind_to_image')"
   ]
  },
  {
   "cell_type": "code",
   "execution_count": 720,
   "metadata": {},
   "outputs": [
    {
     "data": {
      "text/plain": [
       "0.7598678448287823"
      ]
     },
     "execution_count": 720,
     "metadata": {},
     "output_type": "execute_result"
    },
    {
     "data": {
      "image/png": "[encoded data removed]",
      "text/plain": [
       "<matplotlib.figure.Figure at 0x1a48f85d30>"
      ]
     },
     "metadata": {},
     "output_type": "display_data"
    }
   ],
   "source": [
    "condition = 'gated'\n",
    "trials = trial_level_data[trial_level_data.condition == condition]\n",
    "useful_if_shown = (trials.orig_bow_recs_idealuse_cond / trials.orig_bow_recs_offered_cond)\n",
    "useful_if_shown.hist()\n",
    "useful_if_shown.mean()"
   ]
  },
  {
   "cell_type": "code",
   "execution_count": 721,
   "metadata": {},
   "outputs": [
    {
     "data": {
      "text/plain": [
       "0.612033357080716"
      ]
     },
     "execution_count": 721,
     "metadata": {},
     "output_type": "execute_result"
    },
    {
     "data": {
      "image/png": "[encoded data removed]",
      "text/plain": [
       "<matplotlib.figure.Figure at 0x1a4ca0d8d0>"
      ]
     },
     "metadata": {},
     "output_type": "display_data"
    }
   ],
   "source": [
    "condition = 'always'\n",
    "trials = trial_level_data[trial_level_data.condition == condition]\n",
    "useful_if_shown = (trials.orig_bow_recs_idealuse_cond / trials.orig_bow_recs_offered_cond)\n",
    "useful_if_shown.hist()\n",
    "useful_if_shown.mean()"
   ]
  },
  {
   "cell_type": "code",
   "execution_count": 722,
   "metadata": {},
   "outputs": [],
   "source": [
    "weird_ttts = trial_level_data[trial_level_data.orig_tapstotype_cond > trial_level_data.num_taps]\n",
    "if len(weird_ttts) > 0:\n",
    "    print(\"SOME WEIRD TapsToType\")\n",
    "    print(weird_ttts.loc[:,['participant', 'stimulus', 'text', 'condition', 'num_taps', 'orig_tapstotype_cond']])"
   ]
  },
  {
   "cell_type": "code",
   "execution_count": 723,
   "metadata": {},
   "outputs": [
    {
     "name": "stdout",
     "output_type": "stream",
     "text": [
      "No\n",
      "\n",
      "No\n",
      "\n",
      "None\n",
      "\n",
      "None\n",
      "\n",
      "None\n",
      "\n",
      "No\n",
      "\n",
      "No\n",
      "\n",
      "No\n",
      "\n",
      "None\n",
      "\n",
      "No\n",
      "\n",
      "None\n",
      "\n",
      "None\n",
      "\n",
      "No.\n",
      "\n",
      "No\n",
      "\n",
      "None\n",
      "\n",
      "No\n",
      "\n",
      "None\n",
      "\n",
      "No\n",
      "\n",
      "no\n",
      "\n",
      "No\n",
      "\n",
      "None\n",
      "\n",
      "No\n",
      "\n",
      "No\n",
      "\n",
      "None\n",
      "\n",
      "Nope\n",
      "\n",
      "No\n",
      "\n",
      "No\n",
      "\n",
      "No\n",
      "\n",
      "None\n",
      "\n",
      "No.\n",
      "\n",
      "No\n",
      "\n",
      "No\n"
     ]
    }
   ],
   "source": [
    "print('\\n\\n'.join(x for x in experiment_level_data['techDiff'] if x is not None))"
   ]
  },
  {
   "cell_type": "code",
   "execution_count": 724,
   "metadata": {},
   "outputs": [
    {
     "name": "stdout",
     "output_type": "stream",
     "text": [
      "None\n",
      "\n",
      "None\n",
      "\n",
      "None\n",
      "\n",
      "None\n",
      "\n",
      "None\n",
      "\n",
      "It went well\n",
      "\n",
      "Thanks!\n",
      "\n",
      "Enjoyed it.I wish I didn't have to do it in portrait mode - I am very slow that way.\n",
      "\n",
      "None\n",
      "\n",
      "My screen keep getting big from hitting it over and over but that wasn't your fault\n",
      "\n",
      "None\n",
      "\n",
      "None\n",
      "\n",
      "Design 2 and 3 seemed identical to me, so I just chose 2 for my answers because I can’t choose both 2 and 3. Also, the question directly above that asks if there’s any reason you shouldn’t use my data doesn’t actually have an answer listed. But, no, there’s no reason you shouldn’t use my data.\n",
      "\n",
      "None\n",
      "\n",
      "None\n",
      "\n",
      "All is well\n",
      "\n",
      "The question above doesn't give me buttons to respond to but I did take this study seriously and you can use my data.\n",
      "\n",
      "Everything was fine, it went well.\n",
      "\n",
      "None\n",
      "\n",
      "None\n",
      "\n",
      "None\n",
      "\n",
      "None\n",
      "\n",
      "None\n",
      "\n",
      "The keys seemed so tiny in all three. It was hard to type. \n",
      "\n",
      "None\n",
      "\n",
      "None\n",
      "\n",
      "Great, enjoyed it!\n",
      "\n",
      "None\n",
      "\n",
      "None\n",
      "\n",
      "I enjoyed the experience\n"
     ]
    }
   ],
   "source": [
    "print('\\n\\n'.join(x for x in experiment_level_data['other'] if isinstance(x, str)))"
   ]
  },
  {
   "cell_type": "code",
   "execution_count": 725,
   "metadata": {},
   "outputs": [
    {
     "data": {
      "text/plain": [
       "Index(['participant', 'age', 'english_proficiency', 'gender',\n",
       "       'helpfulRank-accurate-least-condition',\n",
       "       'helpfulRank-accurate-least-idx', 'helpfulRank-accurate-most-condition',\n",
       "       'helpfulRank-accurate-most-idx', 'helpfulRank-quick-least-condition',\n",
       "       'helpfulRank-quick-least-idx',\n",
       "       ...\n",
       "       'corrected_tapstotype_gated', 'corrected_idealrecuse_gated',\n",
       "       'corrected_bow_recs_offered_gated', 'corrected_bow_recs_idealuse_gated',\n",
       "       'corrected_tapstotype_always', 'corrected_idealrecuse_always',\n",
       "       'corrected_bow_recs_offered_always',\n",
       "       'corrected_bow_recs_idealuse_always', 'corrected_tapstotype_cond',\n",
       "       'corrected_efficiency'],\n",
       "      dtype='object', length=138)"
      ]
     },
     "execution_count": 725,
     "metadata": {},
     "output_type": "execute_result"
    }
   ],
   "source": [
    "trial_level_data.columns"
   ]
  },
  {
   "cell_type": "code",
   "execution_count": 726,
   "metadata": {},
   "outputs": [],
   "source": [
    "import yaml"
   ]
  },
  {
   "cell_type": "code",
   "execution_count": 727,
   "metadata": {},
   "outputs": [],
   "source": [
    "data_fname = paths.analyzed / 'data.yaml'\n",
    "if data_fname.exists():\n",
    "    with open(data_fname, 'r') as f:\n",
    "        yaml_data = yaml.safe_load(f)\n",
    "else:\n",
    "    yaml_data = {}"
   ]
  },
  {
   "cell_type": "code",
   "execution_count": 728,
   "metadata": {},
   "outputs": [],
   "source": [
    "yaml_data[batch] = data"
   ]
  },
  {
   "cell_type": "code",
   "execution_count": 729,
   "metadata": {},
   "outputs": [],
   "source": [
    "with open(data_fname, 'w') as f:\n",
    "    yaml.safe_dump(yaml_data, f)"
   ]
  },
  {
   "cell_type": "code",
   "execution_count": 730,
   "metadata": {},
   "outputs": [
    {
     "ename": "AssertionError",
     "evalue": "",
     "output_type": "error",
     "traceback": [
      "\u001b[0;31m---------------------------------------------------------------------------\u001b[0m",
      "\u001b[0;31mAssertionError\u001b[0m                            Traceback (most recent call last)",
      "\u001b[0;32m<ipython-input-730-a871fdc9ebee>\u001b[0m in \u001b[0;36m<module>\u001b[0;34m()\u001b[0m\n\u001b[0;32m----> 1\u001b[0;31m \u001b[0;32massert\u001b[0m \u001b[0;32mFalse\u001b[0m\u001b[0;34m\u001b[0m\u001b[0m\n\u001b[0m",
      "\u001b[0;31mAssertionError\u001b[0m: "
     ]
    }
   ],
   "source": [
    "assert False"
   ]
  },
  {
   "cell_type": "code",
   "execution_count": null,
   "metadata": {},
   "outputs": [],
   "source": []
  },
  {
   "cell_type": "code",
   "execution_count": null,
   "metadata": {},
   "outputs": [],
   "source": []
  },
  {
   "cell_type": "code",
   "execution_count": null,
   "metadata": {},
   "outputs": [],
   "source": [
    "import pickle\n",
    "pickle.dump({batch: data}, open(paths.analyzed / 'data.pkl', 'wb'), -1)"
   ]
  },
  {
   "cell_type": "code",
   "execution_count": null,
   "metadata": {},
   "outputs": [],
   "source": [
    "num_details = pd.read_csv(paths.data / 'num_details_spec1.csv').rename(columns={\n",
    "    'image_id': 'stimulus',\n",
    "    'text': 'corrected_text'\n",
    "})"
   ]
  },
  {
   "cell_type": "code",
   "execution_count": null,
   "metadata": {},
   "outputs": [],
   "source": [
    "with_num_details = pd.merge(\n",
    "    trial_level_data,\n",
    "    num_details,\n",
    "    on=('stimulus', 'corrected_text'),\n",
    "#     right_on=('image_id', 'text'),\n",
    "    how='outer')"
   ]
  },
  {
   "cell_type": "code",
   "execution_count": null,
   "metadata": {},
   "outputs": [],
   "source": [
    "with_num_details"
   ]
  },
  {
   "cell_type": "code",
   "execution_count": null,
   "metadata": {},
   "outputs": [],
   "source": [
    "sns.barplot(x='condition', y='num_details', data=with_num_details, capsize=.2)"
   ]
  },
  {
   "cell_type": "code",
   "execution_count": null,
   "metadata": {},
   "outputs": [],
   "source": [
    "with_num_details.num_details.describe()"
   ]
  },
  {
   "cell_type": "code",
   "execution_count": null,
   "metadata": {},
   "outputs": [],
   "source": [
    "print('\\n'.join(with_num_details.sort_values('num_details').text.iloc[-5:]))"
   ]
  },
  {
   "cell_type": "code",
   "execution_count": null,
   "metadata": {},
   "outputs": [],
   "source": [
    "with_num_details.to_csv('with_num_details.csv')"
   ]
  },
  {
   "cell_type": "markdown",
   "metadata": {},
   "source": [
    "Bonus the most specific captions for each image. Some participants wrote the most specific captions for several images, so they get mulitple bonuses."
   ]
  },
  {
   "cell_type": "code",
   "execution_count": null,
   "metadata": {},
   "outputs": [],
   "source": [
    "with_num_details.sort_values('num_details', ascending=False).drop_duplicates(['stimulus']).loc[:,['participant', 'corrected_text', 'num_details']].groupby('participant').size() * 0.50"
   ]
  },
  {
   "cell_type": "code",
   "execution_count": null,
   "metadata": {},
   "outputs": [],
   "source": [
    "from textrec import onmt_model_2"
   ]
  },
  {
   "cell_type": "code",
   "execution_count": null,
   "metadata": {},
   "outputs": [],
   "source": [
    "def get_recs_cap(cocoid, context, prefix=None):\n",
    "    return onmt_model_2.get_recs('coco_cap', str(cocoid), context, prefix=prefix)\n",
    "\n",
    "def get_recs_lm(cocoid, context, prefix=None):\n",
    "    return onmt_model_2.get_recs('coco_lm', '.', context, prefix=prefix)"
   ]
  },
  {
   "cell_type": "code",
   "execution_count": null,
   "metadata": {},
   "outputs": [],
   "source": [
    "get_recs_cap(71815, 'a'.split(), prefix='t')"
   ]
  },
  {
   "cell_type": "code",
   "execution_count": null,
   "metadata": {},
   "outputs": [],
   "source": [
    "from functools import partial"
   ]
  },
  {
   "cell_type": "code",
   "execution_count": null,
   "metadata": {},
   "outputs": [],
   "source": [
    "txt = \"a tennis player swinging at a ball\"\n",
    "txt[:0].rsplit(' ', 1)"
   ]
  },
  {
   "cell_type": "code",
   "execution_count": null,
   "metadata": {},
   "outputs": [],
   "source": [
    "txt.rindex(' ')"
   ]
  },
  {
   "cell_type": "code",
   "execution_count": null,
   "metadata": {},
   "outputs": [],
   "source": [
    "def taps_to_type(rec_gen, txt):\n",
    "    actions = []\n",
    "    # Invariant: performing [actions] types txt[:idx]\n",
    "    idx = 0\n",
    "    while idx < len(txt):\n",
    "        sofar = txt[:idx]\n",
    "        if ' ' in sofar:\n",
    "            last_space_idx = sofar.rindex(' ')\n",
    "        else:\n",
    "            last_space_idx = -1\n",
    "        prefix = sofar[:last_space_idx + 1]\n",
    "        cur_word = sofar[last_space_idx + 1:]\n",
    "        cur_desired_word = txt[last_space_idx + 1:].split(' ', 1)[0]\n",
    "#         if cur_desired_word[-1] in ',.;-':\n",
    "#             cur_desired_word = cur_desired_word[:-1]\n",
    "#         print(repr(prefix), repr(cur_word), repr(cur_desired_word))\n",
    "        recs = rec_gen(onmt_model_2.tokenize(prefix), prefix=cur_word)\n",
    "        words = [word for word, rec in recs]\n",
    "        print(prefix, words)\n",
    "        if cur_desired_word in words:\n",
    "            actions.append(dict(type='rec', which=words.index(cur_desired_word), word=cur_desired_word))\n",
    "            idx = last_space_idx + 1 + len(cur_desired_word) + 1\n",
    "        else:\n",
    "            actions.append(dict(type='key', key=txt[idx]))\n",
    "            idx += 1\n",
    "        print(actions[-1])\n",
    "    return actions\n",
    "taps_to_type(partial(get_recs_cap, 71815), \"a young man wearing a red shirt and holding a white and red tennis racket\")"
   ]
  },
  {
   "cell_type": "code",
   "execution_count": null,
   "metadata": {},
   "outputs": [],
   "source": [
    "if False:\n",
    "    writer = pd.ExcelWriter('specificity_details.xlsx')\n",
    "    for stim, group in trial_level_data.groupby('stimulus'):\n",
    "        group.loc[:,['corrected_text']].to_excel(writer, str(stim))\n",
    "    writer.close()"
   ]
  },
  {
   "cell_type": "code",
   "execution_count": null,
   "metadata": {},
   "outputs": [],
   "source": [
    "if False:\n",
    "    for stim, txts in trial_level_data.groupby('stimulus').text:\n",
    "        print()\n",
    "        print(stim)\n",
    "        print('\\n'.join(txts))\n",
    "        txts.to_csv(f'{stim}.csv', index=False)"
   ]
  }
 ],
 "metadata": {
  "kernelspec": {
   "display_name": "Python 3",
   "language": "python",
   "name": "python3"
  },
  "language_info": {
   "codemirror_mode": {
    "name": "ipython",
    "version": 3
   },
   "file_extension": ".py",
   "mimetype": "text/x-python",
   "name": "python",
   "nbconvert_exporter": "python",
   "pygments_lexer": "ipython3",
   "version": "3.6.4"
  }
 },
 "nbformat": 4,
 "nbformat_minor": 2
}
