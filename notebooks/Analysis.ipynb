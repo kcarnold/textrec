{
 "cells": [
  {
   "cell_type": "markdown",
   "metadata": {},
   "source": [
    "# Analysis pipeline"
   ]
  },
  {
   "cell_type": "markdown",
   "metadata": {},
   "source": [
    "## Preliminaries"
   ]
  },
  {
   "cell_type": "code",
   "execution_count": 57,
   "metadata": {},
   "outputs": [],
   "source": [
    "import os\n",
    "import datetime\n",
    "import json\n",
    "import pathlib\n",
    "import pandas as pd\n",
    "import numpy as np\n",
    "import matplotlib.pyplot as plt\n",
    "import seaborn as sns\n",
    "import toolz"
   ]
  },
  {
   "cell_type": "code",
   "execution_count": 58,
   "metadata": {},
   "outputs": [],
   "source": [
    "if 'get_ipython' in globals():\n",
    "    get_ipython().run_line_magic('matplotlib', 'inline')\n",
    "    from IPython.display import Image, HTML\n",
    "else:\n",
    "    HTML = lambda *a, **kw: None"
   ]
  },
  {
   "cell_type": "code",
   "execution_count": 59,
   "metadata": {},
   "outputs": [],
   "source": [
    "from textrec.paths import paths\n",
    "from textrec import analysis_util, util, notebook_util\n",
    "#reload(analysis_util), reload(util), reload(notebook_util), reload(automated_analyses)\n",
    "from textrec.notebook_util import images, id2img, id2url, show_images"
   ]
  },
  {
   "cell_type": "code",
   "execution_count": 60,
   "metadata": {},
   "outputs": [],
   "source": [
    "os.chdir(paths.top_level)"
   ]
  },
  {
   "cell_type": "code",
   "execution_count": 61,
   "metadata": {},
   "outputs": [],
   "source": [
    "# HTML(show_images([images_by_split['val'][0]['cocoid']]))"
   ]
  },
  {
   "cell_type": "markdown",
   "metadata": {},
   "source": [
    "## Load results of writing experiment"
   ]
  },
  {
   "cell_type": "markdown",
   "metadata": {},
   "source": [
    "Prerequisites: Run `textrec.logs_to_csv {batch_name}` and `textrec.gruntwork {batch_name}`."
   ]
  },
  {
   "cell_type": "code",
   "execution_count": 62,
   "metadata": {},
   "outputs": [],
   "source": [
    "batch = os.environ.get('BATCH', 'gc1')\n",
    "experiment_level_data = pd.read_csv(paths.analyzed / f'experiment_{batch}.csv')\n",
    "block_level_data = pd.read_csv(paths.analyzed / f'block_{batch}.csv')\n",
    "trial_level_data = pd.read_csv(paths.analyzed / f'trial_withmanual_{batch}.csv')\n",
    "#trial_level_data = pd.read_csv(paths.analyzed / f'trial_{batch}.csv')\n",
    "helpful_ranks_by_condition = pd.read_csv(paths.analyzed / f'helpful_ranks_by_condition_{batch}.csv').set_index('index')"
   ]
  },
  {
   "cell_type": "code",
   "execution_count": 63,
   "metadata": {},
   "outputs": [],
   "source": [
    "def savefig(fn):\n",
    "    plt.savefig(str(paths.figures / f'{batch}_{fn}.pdf'), metadata={'creationDate': None})"
   ]
  },
  {
   "cell_type": "code",
   "execution_count": 64,
   "metadata": {},
   "outputs": [],
   "source": [
    "experiment_level_data.gender = experiment_level_data.gender.str.strip()"
   ]
  },
  {
   "cell_type": "code",
   "execution_count": 65,
   "metadata": {},
   "outputs": [
    {
     "data": {
      "text/plain": [
       "{'female', 'make', 'male', 'none'}"
      ]
     },
     "execution_count": 65,
     "metadata": {},
     "output_type": "execute_result"
    }
   ],
   "source": [
    "set(experiment_level_data.gender)"
   ]
  },
  {
   "cell_type": "code",
   "execution_count": 66,
   "metadata": {},
   "outputs": [],
   "source": [
    "data = dict(\n",
    "    num_participants=len(set(trial_level_data.participant)),\n",
    "    non_male=(experiment_level_data.gender != 'male').sum().item(),\n",
    "    num_trials_per=trial_level_data.groupby('participant').size().mean().item(),\n",
    "    n_trials=len(trial_level_data))"
   ]
  },
  {
   "cell_type": "code",
   "execution_count": 67,
   "metadata": {},
   "outputs": [
    {
     "data": {
      "text/plain": [
       "{'always': 147, 'gated': 62, 'norecs': 10}"
      ]
     },
     "execution_count": 67,
     "metadata": {},
     "output_type": "execute_result"
    }
   ],
   "source": [
    "data['helpful_most_votes'] = helpful_ranks_by_condition.loc[:,[col for col in helpful_ranks_by_condition.columns if 'most' in col]].sum(axis=1).to_dict()\n",
    "data['helpful_most_votes']"
   ]
  },
  {
   "cell_type": "code",
   "execution_count": 68,
   "metadata": {},
   "outputs": [],
   "source": [
    "data['helpful_least_votes'] = helpful_ranks_by_condition.loc[:,[col for col in helpful_ranks_by_condition.columns if 'least' in col]].sum(axis=1).to_dict()"
   ]
  },
  {
   "cell_type": "code",
   "execution_count": 69,
   "metadata": {},
   "outputs": [
    {
     "data": {
      "text/html": [
       "Each of 73 participants (33 non-male) completed 12.0 trials per experiment, for a total of 876 trials."
      ],
      "text/plain": [
       "<IPython.core.display.HTML object>"
      ]
     },
     "execution_count": 69,
     "metadata": {},
     "output_type": "execute_result"
    }
   ],
   "source": [
    "HTML(\"Each of {num_participants} participants ({non_male} non-male) completed {num_trials_per} trials per experiment, for a total of {n_trials} trials.\".format_map(data))"
   ]
  },
  {
   "cell_type": "code",
   "execution_count": 70,
   "metadata": {},
   "outputs": [
    {
     "data": {
      "text/html": [
       "Participants spent 25.4 +- 15.2 minutes total."
      ],
      "text/plain": [
       "<IPython.core.display.HTML object>"
      ]
     },
     "execution_count": 70,
     "metadata": {},
     "output_type": "execute_result"
    }
   ],
   "source": [
    "HTML(\"Participants spent {total_time_mean:.1f} +- {total_time_std:.1f} minutes total.\".format(\n",
    "    total_time_mean=experiment_level_data.total_time.mean(),\n",
    "    total_time_std=experiment_level_data.total_time.std()))"
   ]
  },
  {
   "cell_type": "code",
   "execution_count": 71,
   "metadata": {},
   "outputs": [
    {
     "data": {
      "text/plain": [
       "Index(['participant', 'age', 'english_proficiency', 'gender',\n",
       "       'helpfulRank-accurate-least-condition',\n",
       "       'helpfulRank-accurate-least-idx', 'helpfulRank-accurate-most-condition',\n",
       "       'helpfulRank-accurate-most-idx', 'helpfulRank-quick-least-condition',\n",
       "       'helpfulRank-quick-least-idx', 'helpfulRank-quick-most-condition',\n",
       "       'helpfulRank-quick-most-idx', 'helpfulRank-specific-least-condition',\n",
       "       'helpfulRank-specific-least-idx', 'helpfulRank-specific-most-condition',\n",
       "       'helpfulRank-specific-most-idx', 'differences', 'other', 'techDiff',\n",
       "       'total_time', 'use_predictive', 'verbalized_during', 'condition_order',\n",
       "       'num_trials_where_recs_used', 'rec_use_group', 'NFC', 'NFC_boxcox',\n",
       "       'Extraversion', 'Extraversion_boxcox', 'Openness', 'Openness_boxcox',\n",
       "       'Trust', 'Trust_boxcox'],\n",
       "      dtype='object')"
      ]
     },
     "execution_count": 71,
     "metadata": {},
     "output_type": "execute_result"
    }
   ],
   "source": [
    "experiment_level_data.columns"
   ]
  },
  {
   "cell_type": "code",
   "execution_count": null,
   "metadata": {},
   "outputs": [],
   "source": []
  },
  {
   "cell_type": "code",
   "execution_count": 72,
   "metadata": {},
   "outputs": [
    {
     "name": "stdout",
     "output_type": "stream",
     "text": [
      "used_predictive {'Often': 32, 'Rarely': 23, 'Very_Rarely': 14, 'Almost_Always': 4}\n"
     ]
    }
   ],
   "source": [
    "data['used_predictive'] = {k.replace(' ', '_'): v for k, v in \n",
    "                                     experiment_level_data.use_predictive.value_counts().to_dict().items()}\n",
    "data['verbalized_during'] = experiment_level_data.verbalized_during.value_counts().to_dict()\n",
    "data['rec_use_group'] = experiment_level_data.rec_use_group.value_counts().to_dict()\n",
    "print('used_predictive', data['used_predictive'])"
   ]
  },
  {
   "cell_type": "code",
   "execution_count": 73,
   "metadata": {},
   "outputs": [
    {
     "data": {
      "text/html": [
       "\n",
       "Most participants reported (before beginning the study) that they used predictive typing on their phones:\n",
       "<table border=\"1\" class=\"dataframe\">\n",
       "  <thead>\n",
       "    <tr style=\"text-align: right;\">\n",
       "      <th></th>\n",
       "      <th>Used predictive typing?</th>\n",
       "    </tr>\n",
       "  </thead>\n",
       "  <tbody>\n",
       "    <tr>\n",
       "      <th>Often</th>\n",
       "      <td>32</td>\n",
       "    </tr>\n",
       "    <tr>\n",
       "      <th>Rarely</th>\n",
       "      <td>23</td>\n",
       "    </tr>\n",
       "    <tr>\n",
       "      <th>Very Rarely</th>\n",
       "      <td>14</td>\n",
       "    </tr>\n",
       "    <tr>\n",
       "      <th>Almost Always</th>\n",
       "      <td>4</td>\n",
       "    </tr>\n",
       "  </tbody>\n",
       "</table>"
      ],
      "text/plain": [
       "<IPython.core.display.HTML object>"
      ]
     },
     "execution_count": 73,
     "metadata": {},
     "output_type": "execute_result"
    }
   ],
   "source": [
    "HTML(\"\"\"\n",
    "Most participants reported (before beginning the study) that they used predictive typing on their phones:\n",
    "\"\"\" + experiment_level_data.use_predictive.value_counts().to_frame(\"Used predictive typing?\").to_html())"
   ]
  },
  {
   "cell_type": "code",
   "execution_count": 74,
   "metadata": {},
   "outputs": [
    {
     "data": {
      "text/html": [
       "\n",
       "Several participants answered Yes to \"While you were writing, did you speak or whisper what you were writing?\":\n",
       "<table border=\"1\" class=\"dataframe\">\n",
       "  <thead>\n",
       "    <tr style=\"text-align: right;\">\n",
       "      <th></th>\n",
       "      <th>Verbalized?</th>\n",
       "    </tr>\n",
       "  </thead>\n",
       "  <tbody>\n",
       "    <tr>\n",
       "      <th>No</th>\n",
       "      <td>62</td>\n",
       "    </tr>\n",
       "    <tr>\n",
       "      <th>Yes</th>\n",
       "      <td>11</td>\n",
       "    </tr>\n",
       "  </tbody>\n",
       "</table>"
      ],
      "text/plain": [
       "<IPython.core.display.HTML object>"
      ]
     },
     "execution_count": 74,
     "metadata": {},
     "output_type": "execute_result"
    }
   ],
   "source": [
    "HTML(\"\"\"\n",
    "Several participants answered Yes to \"While you were writing, did you speak or whisper what you were writing?\":\n",
    "\"\"\" + experiment_level_data.verbalized_during.value_counts().to_frame(\"Verbalized?\").to_html())"
   ]
  },
  {
   "cell_type": "code",
   "execution_count": 75,
   "metadata": {},
   "outputs": [
    {
     "data": {
      "text/html": [
       "\n",
       "We collected 10 items each for NFC and Extraversion.\n",
       "We obtained a wider range of Extraversion than NFC.\n",
       "(Min and max scales normalized to 0 and 1 respectively.)"
      ],
      "text/plain": [
       "<IPython.core.display.HTML object>"
      ]
     },
     "execution_count": 75,
     "metadata": {},
     "output_type": "execute_result"
    },
    {
     "data": {
      "image/png": "[encoded data removed]",
      "text/plain": [
       "<matplotlib.figure.Figure at 0x1a385985c0>"
      ]
     },
     "metadata": {},
     "output_type": "display_data"
    }
   ],
   "source": [
    "experiment_level_data.plot.scatter(x='Extraversion', y='NFC');\n",
    "plt.xlim([0, 1])\n",
    "plt.ylim([0, 1]);\n",
    "savefig('trait_distribution')\n",
    "HTML(\"\"\"\n",
    "We collected 10 items each for NFC and Extraversion.\n",
    "We obtained a wider range of Extraversion than NFC.\n",
    "(Min and max scales normalized to 0 and 1 respectively.)\"\"\")"
   ]
  },
  {
   "cell_type": "code",
   "execution_count": 76,
   "metadata": {},
   "outputs": [],
   "source": [
    "def latexify_conds(txt):\n",
    "    for cond in 'norecs specific general'.split():\n",
    "        txt = txt.replace(cond, f'\\\\S{cond}')\n",
    "    return txt"
   ]
  },
  {
   "cell_type": "code",
   "execution_count": 77,
   "metadata": {},
   "outputs": [
    {
     "name": "stdout",
     "output_type": "stream",
     "text": [
      "\\begin{tabular}{lr}\n",
      "\\toprule\n",
      "{} &  Num participants \\\\\n",
      "\\midrule\n",
      "always, gated, \\Snorecs &                13 \\\\\n",
      "always, \\Snorecs, gated &                12 \\\\\n",
      "gated, \\Snorecs, always &                12 \\\\\n",
      "\\Snorecs, gated, always &                12 \\\\\n",
      "gated, always, \\Snorecs &                12 \\\\\n",
      "\\Snorecs, always, gated &                12 \\\\\n",
      "\\bottomrule\n",
      "\\end{tabular}\n",
      "\n"
     ]
    }
   ],
   "source": [
    "covc = experiment_level_data.condition_order.value_counts()\n",
    "covc.name = 'Num participants'\n",
    "covc = covc.to_latex()\n",
    "covc = covc.replace(',', ', ')\n",
    "covc = latexify_conds(covc)\n",
    "print(covc)\n",
    "data['condition_order_table'] = covc"
   ]
  },
  {
   "cell_type": "code",
   "execution_count": 78,
   "metadata": {},
   "outputs": [
    {
     "data": {
      "text/html": [
       "When running this experiment, the experiment software was configured to randomize the order\n",
       "of conditions seen by each subject, not to attempt to counterbalance order.\n",
       "This was fixed in subsequent experiments.<table border=\"1\" class=\"dataframe\">\n",
       "  <thead>\n",
       "    <tr style=\"text-align: right;\">\n",
       "      <th></th>\n",
       "      <th>condition_order</th>\n",
       "    </tr>\n",
       "  </thead>\n",
       "  <tbody>\n",
       "    <tr>\n",
       "      <th>always,gated,norecs</th>\n",
       "      <td>13</td>\n",
       "    </tr>\n",
       "    <tr>\n",
       "      <th>always,norecs,gated</th>\n",
       "      <td>12</td>\n",
       "    </tr>\n",
       "    <tr>\n",
       "      <th>gated,norecs,always</th>\n",
       "      <td>12</td>\n",
       "    </tr>\n",
       "    <tr>\n",
       "      <th>norecs,gated,always</th>\n",
       "      <td>12</td>\n",
       "    </tr>\n",
       "    <tr>\n",
       "      <th>gated,always,norecs</th>\n",
       "      <td>12</td>\n",
       "    </tr>\n",
       "    <tr>\n",
       "      <th>norecs,always,gated</th>\n",
       "      <td>12</td>\n",
       "    </tr>\n",
       "  </tbody>\n",
       "</table>"
      ],
      "text/plain": [
       "<IPython.core.display.HTML object>"
      ]
     },
     "execution_count": 78,
     "metadata": {},
     "output_type": "execute_result"
    }
   ],
   "source": [
    "HTML(\"\"\"When running this experiment, the experiment software was configured to randomize the order\n",
    "of conditions seen by each subject, not to attempt to counterbalance order.\n",
    "This was fixed in subsequent experiments.\"\"\"\n",
    "     + experiment_level_data.condition_order.value_counts().to_frame().to_html())"
   ]
  },
  {
   "cell_type": "code",
   "execution_count": 79,
   "metadata": {},
   "outputs": [],
   "source": [
    "def summarize_means(df, by, outcome):\n",
    "    means = df.groupby(by)[outcome].mean()\n",
    "    data[f'{outcome}_means'] = means.to_dict()\n",
    "    return ', '.join(f'{name}={group_mean:.2f}' for name, group_mean in means.iteritems())"
   ]
  },
  {
   "cell_type": "code",
   "execution_count": 80,
   "metadata": {},
   "outputs": [],
   "source": [
    "def analyze_outcome(df, by, outcome):\n",
    "    plt.close('all')\n",
    "    sns.barplot(x=by, y=outcome, data=df, capsize=.2)\n",
    "    savefig(outcome)\n",
    "    return summarize_means(df, by, outcome)"
   ]
  },
  {
   "cell_type": "code",
   "execution_count": 81,
   "metadata": {},
   "outputs": [
    {
     "data": {
      "text/html": [
       "The average cognitive load was higher in the no-recommendations condition (always=8.75, gated=10.14, norecs=14.85)"
      ],
      "text/plain": [
       "<IPython.core.display.HTML object>"
      ]
     },
     "execution_count": 81,
     "metadata": {},
     "output_type": "execute_result"
    },
    {
     "data": {
      "image/png": "[encoded data removed]",
      "text/plain": [
       "<matplotlib.figure.Figure at 0x1a3aa712b0>"
      ]
     },
     "metadata": {},
     "output_type": "display_data"
    }
   ],
   "source": [
    "sns.barplot(x='condition', y='TLX_sum', data=block_level_data, capsize=.2)\n",
    "HTML(\"The average cognitive load was higher in the no-recommendations condition ({})\".format(\n",
    "    analyze_outcome(block_level_data, 'condition', 'TLX_sum')))"
   ]
  },
  {
   "cell_type": "code",
   "execution_count": 82,
   "metadata": {},
   "outputs": [
    {
     "data": {
      "text/plain": [
       "'always=8.75, gated=10.14, norecs=14.85'"
      ]
     },
     "execution_count": 82,
     "metadata": {},
     "output_type": "execute_result"
    },
    {
     "data": {
      "image/png": "[encoded data removed]",
      "text/plain": [
       "<matplotlib.figure.Figure at 0x1a3ace3048>"
      ]
     },
     "metadata": {},
     "output_type": "display_data"
    }
   ],
   "source": [
    "analyze_outcome(block_level_data, 'condition', 'TLX_sum')"
   ]
  },
  {
   "cell_type": "code",
   "execution_count": 83,
   "metadata": {},
   "outputs": [
    {
     "data": {
      "image/png": "[encoded data removed]",
      "text/plain": [
       "<matplotlib.figure.Figure at 0x1a384e2cf8>"
      ]
     },
     "metadata": {},
     "output_type": "display_data"
    }
   ],
   "source": [
    "plt.close('all')\n",
    "tlxen = 'mental physical temporal performance effort frustration'.split()\n",
    "fig, axs = plt.subplots(2, 3, figsize=(10,6), sharey=True)\n",
    "plt.subplots_adjust(wspace=.4, hspace=.3)\n",
    "for i, facet in enumerate(tlxen):\n",
    "    ax = axs.ravel()[i]\n",
    "    sns.barplot(x='condition', y=facet, data=block_level_data, capsize=.2, ax=ax)\n",
    "savefig('tlx_parts')"
   ]
  },
  {
   "cell_type": "code",
   "execution_count": 84,
   "metadata": {},
   "outputs": [
    {
     "data": {
      "text/html": [
       "There was no difference in text length between conditions (always=71.23, gated=68.15, norecs=75.26)."
      ],
      "text/plain": [
       "<IPython.core.display.HTML object>"
      ]
     },
     "execution_count": 84,
     "metadata": {},
     "output_type": "execute_result"
    },
    {
     "data": {
      "image/png": "[encoded data removed]",
      "text/plain": [
       "<matplotlib.figure.Figure at 0x1a3b44c4e0>"
      ]
     },
     "metadata": {},
     "output_type": "display_data"
    }
   ],
   "source": [
    "HTML(\"There was no difference in text length between conditions ({}).\".format(\n",
    "    analyze_outcome(trial_level_data, 'condition', 'num_chars')))"
   ]
  },
  {
   "cell_type": "code",
   "execution_count": 85,
   "metadata": {},
   "outputs": [
    {
     "data": {
      "text/plain": [
       "'always=14.13, gated=13.45, norecs=14.83'"
      ]
     },
     "execution_count": 85,
     "metadata": {},
     "output_type": "execute_result"
    },
    {
     "data": {
      "image/png": "[encoded data removed]",
      "text/plain": [
       "<matplotlib.figure.Figure at 0x1a3ad802e8>"
      ]
     },
     "metadata": {},
     "output_type": "display_data"
    }
   ],
   "source": [
    "analyze_outcome(trial_level_data, 'condition', 'num_words')"
   ]
  },
  {
   "cell_type": "code",
   "execution_count": 86,
   "metadata": {},
   "outputs": [
    {
     "data": {
      "text/plain": [
       "'always=0.12, gated=0.13, norecs=0.19'"
      ]
     },
     "execution_count": 86,
     "metadata": {},
     "output_type": "execute_result"
    },
    {
     "data": {
      "image/png": "[encoded data removed]",
      "text/plain": [
       "<matplotlib.figure.Figure at 0x1a3b6d0a90>"
      ]
     },
     "metadata": {},
     "output_type": "display_data"
    }
   ],
   "source": [
    "analyze_outcome(trial_level_data, 'condition', 'backspaces_per_char')"
   ]
  },
  {
   "cell_type": "code",
   "execution_count": 87,
   "metadata": {},
   "outputs": [
    {
     "data": {
      "text/plain": [
       "'always=0.00, gated=0.00, norecs=0.00'"
      ]
     },
     "execution_count": 87,
     "metadata": {},
     "output_type": "execute_result"
    },
    {
     "data": {
      "image/png": "[encoded data removed]",
      "text/plain": [
       "<matplotlib.figure.Figure at 0x1a3b6d0cf8>"
      ]
     },
     "metadata": {},
     "output_type": "display_data"
    }
   ],
   "source": [
    "analyze_outcome(trial_level_data, 'condition', 'uncorrected_errors_per_char')"
   ]
  },
  {
   "cell_type": "code",
   "execution_count": 88,
   "metadata": {},
   "outputs": [
    {
     "data": {
      "text/plain": [
       "'always=9.18, gated=8.46, norecs=14.25'"
      ]
     },
     "execution_count": 88,
     "metadata": {},
     "output_type": "execute_result"
    },
    {
     "data": {
      "image/png": "[encoded data removed]",
      "text/plain": [
       "<matplotlib.figure.Figure at 0x1a3b925278>"
      ]
     },
     "metadata": {},
     "output_type": "display_data"
    }
   ],
   "source": [
    "analyze_outcome(trial_level_data, 'condition', 'num_tapBackspace')"
   ]
  },
  {
   "cell_type": "code",
   "execution_count": 89,
   "metadata": {},
   "outputs": [
    {
     "data": {
      "text/html": [
       "Participants made more errors (corrected + uncorrected) in the no-recommendations condition (always=9.25, gated=8.52, norecs=14.46)."
      ],
      "text/plain": [
       "<IPython.core.display.HTML object>"
      ]
     },
     "execution_count": 89,
     "metadata": {},
     "output_type": "execute_result"
    },
    {
     "data": {
      "image/png": "[encoded data removed]",
      "text/plain": [
       "<matplotlib.figure.Figure at 0x1a3b5837f0>"
      ]
     },
     "metadata": {},
     "output_type": "display_data"
    }
   ],
   "source": [
    "sns.barplot(x='condition', y='all_errors', data=trial_level_data, capsize=.2)\n",
    "HTML(\"Participants made more errors (corrected + uncorrected) in the no-recommendations condition ({}).\".format(\n",
    "    summarize_means(trial_level_data, 'condition', 'all_errors')))"
   ]
  },
  {
   "cell_type": "code",
   "execution_count": 90,
   "metadata": {},
   "outputs": [
    {
     "data": {
      "text/html": [
       "Participants were slightly faster in the recommendations conditions (characters per second: always=2.14, gated=2.08, norecs=2.08)."
      ],
      "text/plain": [
       "<IPython.core.display.HTML object>"
      ]
     },
     "execution_count": 90,
     "metadata": {},
     "output_type": "execute_result"
    },
    {
     "data": {
      "image/png": "[encoded data removed]",
      "text/plain": [
       "<matplotlib.figure.Figure at 0x1a3bade4e0>"
      ]
     },
     "metadata": {},
     "output_type": "display_data"
    }
   ],
   "source": [
    "HTML(\"Participants were slightly faster in the recommendations conditions (characters per second: {}).\".format(\n",
    "    analyze_outcome(trial_level_data, 'condition', 'characters_per_sec')))"
   ]
  },
  {
   "cell_type": "code",
   "execution_count": 91,
   "metadata": {},
   "outputs": [
    {
     "data": {
      "text/html": [
       "Participants used available recommendations slightly more often when they were specific (use rate: always=0.28, gated=0.27, norecs=nan)."
      ],
      "text/plain": [
       "<IPython.core.display.HTML object>"
      ]
     },
     "execution_count": 91,
     "metadata": {},
     "output_type": "execute_result"
    },
    {
     "data": {
      "image/png": "[encoded data removed]",
      "text/plain": [
       "<matplotlib.figure.Figure at 0x1a3bb12eb8>"
      ]
     },
     "metadata": {},
     "output_type": "display_data"
    }
   ],
   "source": [
    "sns.barplot(x='condition', y='rec_use_full_frac', data=trial_level_data, capsize=.2)\n",
    "HTML(\"Participants used available recommendations slightly more often when they were specific (use rate: {}).\".format(\n",
    "    summarize_means(trial_level_data, 'condition', 'rec_use_full_frac')))"
   ]
  },
  {
   "cell_type": "code",
   "execution_count": 92,
   "metadata": {},
   "outputs": [
    {
     "data": {
      "text/plain": [
       "'always=0.50, gated=0.54, norecs=0.38'"
      ]
     },
     "execution_count": 92,
     "metadata": {},
     "output_type": "execute_result"
    },
    {
     "data": {
      "image/png": "[encoded data removed]",
      "text/plain": [
       "<matplotlib.figure.Figure at 0x1a3be5ad30>"
      ]
     },
     "metadata": {},
     "output_type": "display_data"
    }
   ],
   "source": [
    "analyze_outcome(trial_level_data, 'condition', 'extraneous_inputs_per_char')"
   ]
  },
  {
   "cell_type": "code",
   "execution_count": 93,
   "metadata": {},
   "outputs": [
    {
     "data": {
      "text/plain": [
       "'always=2.95, gated=3.02, norecs=2.85'"
      ]
     },
     "execution_count": 93,
     "metadata": {},
     "output_type": "execute_result"
    },
    {
     "data": {
      "image/png": "[encoded data removed]",
      "text/plain": [
       "<matplotlib.figure.Figure at 0x1a3bb12940>"
      ]
     },
     "metadata": {},
     "output_type": "display_data"
    }
   ],
   "source": [
    "analyze_outcome(trial_level_data, 'condition', 'extraneous_inputs_boxcox')"
   ]
  },
  {
   "cell_type": "code",
   "execution_count": 94,
   "metadata": {},
   "outputs": [
    {
     "data": {
      "text/plain": [
       "'always=0.26, gated=0.25, norecs=nan'"
      ]
     },
     "execution_count": 94,
     "metadata": {},
     "output_type": "execute_result"
    },
    {
     "data": {
      "image/png": "[encoded data removed]",
      "text/plain": [
       "<matplotlib.figure.Figure at 0x1a3c0a1e80>"
      ]
     },
     "metadata": {},
     "output_type": "display_data"
    }
   ],
   "source": [
    "analyze_outcome(trial_level_data, 'condition', 'rec_use_frac')"
   ]
  },
  {
   "cell_type": "code",
   "execution_count": 95,
   "metadata": {},
   "outputs": [
    {
     "data": {
      "text/plain": [
       "'always=0.28, gated=0.27, norecs=nan'"
      ]
     },
     "execution_count": 95,
     "metadata": {},
     "output_type": "execute_result"
    },
    {
     "data": {
      "image/png": "[encoded data removed]",
      "text/plain": [
       "<matplotlib.figure.Figure at 0x1a3c11d160>"
      ]
     },
     "metadata": {},
     "output_type": "display_data"
    }
   ],
   "source": [
    "analyze_outcome(trial_level_data, 'condition', 'rec_use_full_frac')"
   ]
  },
  {
   "cell_type": "code",
   "execution_count": 96,
   "metadata": {},
   "outputs": [
    {
     "data": {
      "text/plain": [
       "'always=-3.12, gated=-3.26, norecs=-3.45'"
      ]
     },
     "execution_count": 96,
     "metadata": {},
     "output_type": "execute_result"
    },
    {
     "data": {
      "image/png": "[encoded data removed]",
      "text/plain": [
       "<matplotlib.figure.Figure at 0x1a3c2c0898>"
      ]
     },
     "metadata": {},
     "output_type": "display_data"
    }
   ],
   "source": [
    "analyze_outcome(trial_level_data, 'condition', 'logprob_unconditional')"
   ]
  },
  {
   "cell_type": "code",
   "execution_count": 97,
   "metadata": {},
   "outputs": [
    {
     "data": {
      "text/plain": [
       "'always=-2.95, gated=-3.00, norecs=-3.21'"
      ]
     },
     "execution_count": 97,
     "metadata": {},
     "output_type": "execute_result"
    },
    {
     "data": {
      "image/png": "[encoded data removed]",
      "text/plain": [
       "<matplotlib.figure.Figure at 0x1a3c1139e8>"
      ]
     },
     "metadata": {},
     "output_type": "display_data"
    }
   ],
   "source": [
    "analyze_outcome(trial_level_data, 'condition', 'logprob_conditional')"
   ]
  },
  {
   "cell_type": "code",
   "execution_count": 98,
   "metadata": {},
   "outputs": [
    {
     "data": {
      "text/plain": [
       "'always=14.25, gated=16.23, norecs=18.33'"
      ]
     },
     "execution_count": 98,
     "metadata": {},
     "output_type": "execute_result"
    },
    {
     "data": {
      "image/png": "[encoded data removed]",
      "text/plain": [
       "<matplotlib.figure.Figure at 0x1a3af93b00>"
      ]
     },
     "metadata": {},
     "output_type": "display_data"
    }
   ],
   "source": [
    "analyze_outcome(trial_level_data, 'condition', 'perplexity_per_word_blind_to_image')"
   ]
  },
  {
   "cell_type": "code",
   "execution_count": 99,
   "metadata": {},
   "outputs": [
    {
     "data": {
      "text/plain": [
       "0.780635403409376"
      ]
     },
     "execution_count": 99,
     "metadata": {},
     "output_type": "execute_result"
    },
    {
     "data": {
      "image/png": "[encoded data removed]",
      "text/plain": [
       "<matplotlib.figure.Figure at 0x1a3c1134a8>"
      ]
     },
     "metadata": {},
     "output_type": "display_data"
    }
   ],
   "source": [
    "condition = 'gated'\n",
    "trials = trial_level_data[trial_level_data.condition == condition]\n",
    "useful_if_shown = (trials.orig_bow_recs_idealuse_cond / trials.orig_bow_recs_offered_cond)\n",
    "useful_if_shown.hist()\n",
    "useful_if_shown.mean()"
   ]
  },
  {
   "cell_type": "code",
   "execution_count": 100,
   "metadata": {},
   "outputs": [
    {
     "data": {
      "text/plain": [
       "0.6180690629314277"
      ]
     },
     "execution_count": 100,
     "metadata": {},
     "output_type": "execute_result"
    },
    {
     "data": {
      "image/png": "[encoded data removed]",
      "text/plain": [
       "<matplotlib.figure.Figure at 0x1a3bef4978>"
      ]
     },
     "metadata": {},
     "output_type": "display_data"
    }
   ],
   "source": [
    "condition = 'always'\n",
    "trials = trial_level_data[trial_level_data.condition == condition]\n",
    "useful_if_shown = (trials.orig_bow_recs_idealuse_cond / trials.orig_bow_recs_offered_cond)\n",
    "useful_if_shown.hist()\n",
    "useful_if_shown.mean()"
   ]
  },
  {
   "cell_type": "code",
   "execution_count": 101,
   "metadata": {},
   "outputs": [],
   "source": [
    "weird_ttts = trial_level_data[trial_level_data.orig_tapstotype_cond > trial_level_data.num_taps]\n",
    "if len(weird_ttts) > 0:\n",
    "    print(\"SOME WEIRD TapsToType\")\n",
    "    print(weird_ttts.loc[:,['participant', 'stimulus', 'text', 'condition', 'num_taps', 'orig_tapstotype_cond']])"
   ]
  },
  {
   "cell_type": "code",
   "execution_count": 102,
   "metadata": {},
   "outputs": [
    {
     "name": "stdout",
     "output_type": "stream",
     "text": [
      "No\n",
      "\n",
      "No\n",
      "\n",
      "No\n",
      "\n",
      "No\n",
      "\n",
      "None\n",
      "\n",
      "None\n",
      "\n",
      "None\n",
      "\n",
      "None\n",
      "\n",
      "No\n",
      "\n",
      "No\n",
      "\n",
      "No\n",
      "\n",
      "No\n",
      "\n",
      "None\n",
      "\n",
      "None\n",
      "\n",
      "No\n",
      "\n",
      "None\n",
      "\n",
      "No\n",
      "\n",
      "None\n",
      "\n",
      "No\n",
      "\n",
      "No\n",
      "\n",
      "None\n",
      "\n",
      "No.\n",
      "\n",
      "No\n",
      "\n",
      "None\n",
      "\n",
      "None\n",
      "\n",
      "No\n",
      "\n",
      "No. \n",
      "\n",
      "None\n",
      "\n",
      "None\n",
      "\n",
      "No\n",
      "\n",
      "None\n",
      "\n",
      "No\n",
      "\n",
      "No difficulties \n",
      "\n",
      "None\n",
      "\n",
      "No.\n",
      "\n",
      "None\n",
      "\n",
      "no\n",
      "\n",
      "No\n",
      "\n",
      "No\n",
      "\n",
      "None\n",
      "\n",
      "None\n",
      "\n",
      "None\n",
      "\n",
      "None\n",
      "\n",
      "No\n",
      "\n",
      "None\n",
      "\n",
      "No\n",
      "\n",
      "No\n",
      "\n",
      "No\n",
      "\n",
      "No\n",
      "\n",
      "No\n",
      "\n",
      "None\n",
      "\n",
      "None\n",
      "\n",
      "None\n",
      "\n",
      "No\n",
      "\n",
      "No\n",
      "\n",
      "None.\n",
      "\n",
      "Nope\n",
      "\n",
      "No\n",
      "\n",
      "No\n",
      "\n",
      "No\n",
      "\n",
      "No\n",
      "\n",
      "No\n",
      "\n",
      "No\n",
      "\n",
      "Nope\n",
      "\n",
      "None\n",
      "\n",
      "No.\n",
      "\n",
      "No\n",
      "\n",
      "None\n",
      "\n",
      "No\n",
      "\n",
      "No\n",
      "\n",
      "No\n",
      "\n",
      "None\n",
      "\n",
      "No\n"
     ]
    }
   ],
   "source": [
    "print('\\n\\n'.join(x for x in experiment_level_data['techDiff'] if x is not None))"
   ]
  },
  {
   "cell_type": "code",
   "execution_count": 103,
   "metadata": {},
   "outputs": [
    {
     "name": "stdout",
     "output_type": "stream",
     "text": [
      "None\n",
      "\n",
      "None\n",
      "\n",
      "It went fine. Not too bad. \n",
      "\n",
      "I thought it was better than most\n",
      "\n",
      "None\n",
      "\n",
      "None\n",
      "\n",
      "None\n",
      "\n",
      "None\n",
      "\n",
      "It went well\n",
      "\n",
      "Thanks!\n",
      "\n",
      "I enjoyed the experiment! Nice change up from normal mturk studies. Appreciate you allowing me to participate.\n",
      "\n",
      "Enjoyed it.I wish I didn't have to do it in portrait mode - I am very slow that way.\n",
      "\n",
      "None\n",
      "\n",
      "Great experiment! I really enjoyed it even though the keyboards took a bit of getting used to! \n",
      "\n",
      "My screen keep getting big from hitting it over and over but that wasn't your fault\n",
      "\n",
      "None\n",
      "\n",
      "Couldn't click next reliably on my tablet phone had to use a different phone\n",
      "\n",
      "None\n",
      "\n",
      "It was a little different for me using the keyboard again like this cause I use Swype on my phone so it kinda sucked a little. The second keyboard was way too accurate that it was almost like the keyboard was tailored for the experiment\n",
      "\n",
      "Fun!  Thank you!\n",
      "\n",
      "That was fun! As I mentioned on a previous question, I think having to scroll the picture in the small space above the keyboard, with no way to minimize the keyboard, made things a little tricky. Besides that, I think it went very well! Thank you!\n",
      "\n",
      "Design 2 and 3 seemed identical to me, so I just chose 2 for my answers because I can’t choose both 2 and 3. Also, the question directly above that asks if there’s any reason you shouldn’t use my data doesn’t actually have an answer listed. But, no, there’s no reason you shouldn’t use my data.\n",
      "\n",
      "None\n",
      "\n",
      "None\n",
      "\n",
      "Was interesting\n",
      "\n",
      "All is well\n",
      "\n",
      "I really missed the cursor position to make corrections. But this was fun. \n",
      "\n",
      "None\n",
      "\n",
      "None\n",
      "\n",
      "This was fun give me more fam\n",
      "\n",
      "The question above doesn't give me buttons to respond to but I did take this study seriously and you can use my data.\n",
      "\n",
      "Everything was fine, it went well.\n",
      "\n",
      "It was really interesting. I wish I didn't have to erase the whole sentence when I realize an error to late. \n",
      "\n",
      "None\n",
      "\n",
      "Everything seemed to go well.\n",
      "\n",
      "I think it would be better if the image came before the submit button \n",
      "\n",
      "None\n",
      "\n",
      "None\n",
      "\n",
      "All was well\n",
      "\n",
      "I liked the experiment overall, although aside from how the keyboards offered up recommendations I didn't really notice any significant differences\n",
      "\n",
      "None\n",
      "\n",
      "None\n",
      "\n",
      "Interesting experiment\n",
      "\n",
      "None\n",
      "\n",
      "No issues. Thank you!\n",
      "\n",
      "It was fun! I had better luck typing on your keyboard than I do with Gboard. I liked how the buttons were spaced!!!\n",
      "\n",
      "It was easy and painless\n",
      "\n",
      "It was interesting. The site worked well.\n",
      "\n",
      "None\n",
      "\n",
      "Great survey!\n",
      "\n",
      "None\n",
      "\n",
      "The keys seemed so tiny in all three. It was hard to type. \n",
      "\n",
      "None\n",
      "\n",
      "None\n",
      "\n",
      "None\n",
      "\n",
      "It went surprisingly. I hope the captions written for sufficient. It takes a lot of creativity to make one.\n",
      "\n",
      "None\n",
      "\n",
      "I enjoyed it a lot actually! \n",
      "\n",
      "It was fun!\n",
      "\n",
      "No ideas at the time\n",
      "\n",
      "None\n",
      "\n",
      "Great, enjoyed it!\n",
      "\n",
      "All good!\n",
      "\n",
      "None\n",
      "\n",
      "None\n",
      "\n",
      "No\n",
      "\n",
      "Loved this hit, thank you\n",
      "\n",
      "I enjoyed the experience\n",
      "\n",
      "I most prefer the method that allows you to swipe the keyboard. I was surprised that method want included\n",
      "\n",
      "I had fun with it! No improvements needed.\n",
      "\n",
      "Everything was fine. \n"
     ]
    }
   ],
   "source": [
    "print('\\n\\n'.join(x for x in experiment_level_data['other'] if isinstance(x, str)))"
   ]
  },
  {
   "cell_type": "code",
   "execution_count": 104,
   "metadata": {},
   "outputs": [
    {
     "data": {
      "text/plain": [
       "Index(['participant', 'age', 'english_proficiency', 'gender',\n",
       "       'helpfulRank-accurate-least-condition',\n",
       "       'helpfulRank-accurate-least-idx', 'helpfulRank-accurate-most-condition',\n",
       "       'helpfulRank-accurate-most-idx', 'helpfulRank-quick-least-condition',\n",
       "       'helpfulRank-quick-least-idx',\n",
       "       ...\n",
       "       'corrected_tapstotype_gated', 'corrected_idealrecuse_gated',\n",
       "       'corrected_bow_recs_offered_gated', 'corrected_bow_recs_idealuse_gated',\n",
       "       'corrected_tapstotype_always', 'corrected_idealrecuse_always',\n",
       "       'corrected_bow_recs_offered_always',\n",
       "       'corrected_bow_recs_idealuse_always', 'corrected_tapstotype_cond',\n",
       "       'corrected_efficiency'],\n",
       "      dtype='object', length=137)"
      ]
     },
     "execution_count": 104,
     "metadata": {},
     "output_type": "execute_result"
    }
   ],
   "source": [
    "trial_level_data.columns"
   ]
  },
  {
   "cell_type": "code",
   "execution_count": 105,
   "metadata": {},
   "outputs": [],
   "source": [
    "import yaml"
   ]
  },
  {
   "cell_type": "code",
   "execution_count": 106,
   "metadata": {},
   "outputs": [],
   "source": [
    "data_fname = paths.analyzed / 'data.yaml'\n",
    "if data_fname.exists():\n",
    "    with open(data_fname, 'r') as f:\n",
    "        yaml_data = yaml.safe_load(f)\n",
    "else:\n",
    "    yaml_data = {}"
   ]
  },
  {
   "cell_type": "code",
   "execution_count": 107,
   "metadata": {},
   "outputs": [],
   "source": [
    "yaml_data[batch] = data"
   ]
  },
  {
   "cell_type": "code",
   "execution_count": 108,
   "metadata": {},
   "outputs": [],
   "source": [
    "with open(data_fname, 'w') as f:\n",
    "    yaml.safe_dump(yaml_data, f)"
   ]
  },
  {
   "cell_type": "code",
   "execution_count": 109,
   "metadata": {},
   "outputs": [
    {
     "ename": "AssertionError",
     "evalue": "",
     "output_type": "error",
     "traceback": [
      "\u001b[0;31m---------------------------------------------------------------------------\u001b[0m",
      "\u001b[0;31mAssertionError\u001b[0m                            Traceback (most recent call last)",
      "\u001b[0;32m<ipython-input-109-a871fdc9ebee>\u001b[0m in \u001b[0;36m<module>\u001b[0;34m()\u001b[0m\n\u001b[0;32m----> 1\u001b[0;31m \u001b[0;32massert\u001b[0m \u001b[0;32mFalse\u001b[0m\u001b[0;34m\u001b[0m\u001b[0m\n\u001b[0m",
      "\u001b[0;31mAssertionError\u001b[0m: "
     ]
    }
   ],
   "source": [
    "assert False"
   ]
  },
  {
   "cell_type": "code",
   "execution_count": null,
   "metadata": {},
   "outputs": [],
   "source": []
  },
  {
   "cell_type": "code",
   "execution_count": null,
   "metadata": {},
   "outputs": [],
   "source": []
  },
  {
   "cell_type": "code",
   "execution_count": null,
   "metadata": {},
   "outputs": [],
   "source": [
    "import pickle\n",
    "pickle.dump({batch: data}, open(paths.analyzed / 'data.pkl', 'wb'), -1)"
   ]
  },
  {
   "cell_type": "code",
   "execution_count": null,
   "metadata": {},
   "outputs": [],
   "source": [
    "num_details = pd.read_csv(paths.data / 'num_details_spec1.csv').rename(columns={\n",
    "    'image_id': 'stimulus',\n",
    "    'text': 'corrected_text'\n",
    "})"
   ]
  },
  {
   "cell_type": "code",
   "execution_count": null,
   "metadata": {},
   "outputs": [],
   "source": [
    "with_num_details = pd.merge(\n",
    "    trial_level_data,\n",
    "    num_details,\n",
    "    on=('stimulus', 'corrected_text'),\n",
    "#     right_on=('image_id', 'text'),\n",
    "    how='outer')"
   ]
  },
  {
   "cell_type": "code",
   "execution_count": null,
   "metadata": {},
   "outputs": [],
   "source": [
    "with_num_details"
   ]
  },
  {
   "cell_type": "code",
   "execution_count": null,
   "metadata": {},
   "outputs": [],
   "source": [
    "sns.barplot(x='condition', y='num_details', data=with_num_details, capsize=.2)"
   ]
  },
  {
   "cell_type": "code",
   "execution_count": null,
   "metadata": {},
   "outputs": [],
   "source": [
    "with_num_details.num_details.describe()"
   ]
  },
  {
   "cell_type": "code",
   "execution_count": null,
   "metadata": {},
   "outputs": [],
   "source": [
    "print('\\n'.join(with_num_details.sort_values('num_details').text.iloc[-5:]))"
   ]
  },
  {
   "cell_type": "code",
   "execution_count": null,
   "metadata": {},
   "outputs": [],
   "source": [
    "with_num_details.to_csv('with_num_details.csv')"
   ]
  },
  {
   "cell_type": "markdown",
   "metadata": {},
   "source": [
    "Bonus the most specific captions for each image. Some participants wrote the most specific captions for several images, so they get mulitple bonuses."
   ]
  },
  {
   "cell_type": "code",
   "execution_count": null,
   "metadata": {},
   "outputs": [],
   "source": [
    "with_num_details.sort_values('num_details', ascending=False).drop_duplicates(['stimulus']).loc[:,['participant', 'corrected_text', 'num_details']].groupby('participant').size() * 0.50"
   ]
  },
  {
   "cell_type": "code",
   "execution_count": null,
   "metadata": {},
   "outputs": [],
   "source": [
    "from textrec import onmt_model_2"
   ]
  },
  {
   "cell_type": "code",
   "execution_count": null,
   "metadata": {},
   "outputs": [],
   "source": [
    "def get_recs_cap(cocoid, context, prefix=None):\n",
    "    return onmt_model_2.get_recs('coco_cap', str(cocoid), context, prefix=prefix)\n",
    "\n",
    "def get_recs_lm(cocoid, context, prefix=None):\n",
    "    return onmt_model_2.get_recs('coco_lm', '.', context, prefix=prefix)"
   ]
  },
  {
   "cell_type": "code",
   "execution_count": null,
   "metadata": {},
   "outputs": [],
   "source": [
    "get_recs_cap(71815, 'a'.split(), prefix='t')"
   ]
  },
  {
   "cell_type": "code",
   "execution_count": null,
   "metadata": {},
   "outputs": [],
   "source": [
    "from functools import partial"
   ]
  },
  {
   "cell_type": "code",
   "execution_count": null,
   "metadata": {},
   "outputs": [],
   "source": [
    "txt = \"a tennis player swinging at a ball\"\n",
    "txt[:0].rsplit(' ', 1)"
   ]
  },
  {
   "cell_type": "code",
   "execution_count": null,
   "metadata": {},
   "outputs": [],
   "source": [
    "txt.rindex(' ')"
   ]
  },
  {
   "cell_type": "code",
   "execution_count": null,
   "metadata": {},
   "outputs": [],
   "source": [
    "def taps_to_type(rec_gen, txt):\n",
    "    actions = []\n",
    "    # Invariant: performing [actions] types txt[:idx]\n",
    "    idx = 0\n",
    "    while idx < len(txt):\n",
    "        sofar = txt[:idx]\n",
    "        if ' ' in sofar:\n",
    "            last_space_idx = sofar.rindex(' ')\n",
    "        else:\n",
    "            last_space_idx = -1\n",
    "        prefix = sofar[:last_space_idx + 1]\n",
    "        cur_word = sofar[last_space_idx + 1:]\n",
    "        cur_desired_word = txt[last_space_idx + 1:].split(' ', 1)[0]\n",
    "#         if cur_desired_word[-1] in ',.;-':\n",
    "#             cur_desired_word = cur_desired_word[:-1]\n",
    "#         print(repr(prefix), repr(cur_word), repr(cur_desired_word))\n",
    "        recs = rec_gen(onmt_model_2.tokenize(prefix), prefix=cur_word)\n",
    "        words = [word for word, rec in recs]\n",
    "        print(prefix, words)\n",
    "        if cur_desired_word in words:\n",
    "            actions.append(dict(type='rec', which=words.index(cur_desired_word), word=cur_desired_word))\n",
    "            idx = last_space_idx + 1 + len(cur_desired_word) + 1\n",
    "        else:\n",
    "            actions.append(dict(type='key', key=txt[idx]))\n",
    "            idx += 1\n",
    "        print(actions[-1])\n",
    "    return actions\n",
    "taps_to_type(partial(get_recs_cap, 71815), \"a young man wearing a red shirt and holding a white and red tennis racket\")"
   ]
  },
  {
   "cell_type": "code",
   "execution_count": null,
   "metadata": {},
   "outputs": [],
   "source": [
    "if False:\n",
    "    writer = pd.ExcelWriter('specificity_details.xlsx')\n",
    "    for stim, group in trial_level_data.groupby('stimulus'):\n",
    "        group.loc[:,['corrected_text']].to_excel(writer, str(stim))\n",
    "    writer.close()"
   ]
  },
  {
   "cell_type": "code",
   "execution_count": null,
   "metadata": {},
   "outputs": [],
   "source": [
    "if False:\n",
    "    for stim, txts in trial_level_data.groupby('stimulus').text:\n",
    "        print()\n",
    "        print(stim)\n",
    "        print('\\n'.join(txts))\n",
    "        txts.to_csv(f'{stim}.csv', index=False)"
   ]
  },
  {
   "cell_type": "code",
   "execution_count": null,
   "metadata": {},
   "outputs": [],
   "source": []
  },
  {
   "cell_type": "code",
   "execution_count": 110,
   "metadata": {},
   "outputs": [],
   "source": [
    "%load_ext rpy2.ipython"
   ]
  },
  {
   "cell_type": "code",
   "execution_count": 111,
   "metadata": {},
   "outputs": [
    {
     "name": "stderr",
     "output_type": "stream",
     "text": [
      "/Users/kcarnold/anaconda3/envs/py36/lib/python3.6/site-packages/rpy2/rinterface/__init__.py:145: RRuntimeWarning: also installing the dependencies ‘miniUI’, ‘PKI’, ‘RCurl’, ‘RJSONIO’, ‘packrat’, ‘igraph’, ‘StanHeaders’, ‘ggridges’, ‘colourpicker’, ‘dygraphs’, ‘gtools’, ‘rsconnect’, ‘shinyjs’, ‘shinythemes’, ‘threejs’, ‘mvtnorm’, ‘Brobdingnag’, ‘rstan’, ‘loo’, ‘rstantools’, ‘bayesplot’, ‘shinystan’, ‘bridgesampling’, ‘matrixStats’, ‘nleqslv’, ‘coda’\n",
      "\n",
      "\n",
      "  warnings.warn(x, RRuntimeWarning)\n",
      "/Users/kcarnold/anaconda3/envs/py36/lib/python3.6/site-packages/rpy2/rinterface/__init__.py:145: RRuntimeWarning: trying URL 'https://cran.rstudio.com/src/contrib/miniUI_0.1.1.1.tar.gz'\n",
      "\n",
      "  warnings.warn(x, RRuntimeWarning)\n",
      "/Users/kcarnold/anaconda3/envs/py36/lib/python3.6/site-packages/rpy2/rinterface/__init__.py:145: RRuntimeWarning: Content type 'application/x-gzip'\n",
      "  warnings.warn(x, RRuntimeWarning)\n",
      "/Users/kcarnold/anaconda3/envs/py36/lib/python3.6/site-packages/rpy2/rinterface/__init__.py:145: RRuntimeWarning:  length 97958 bytes (95 KB)\n",
      "\n",
      "  warnings.warn(x, RRuntimeWarning)\n",
      "/Users/kcarnold/anaconda3/envs/py36/lib/python3.6/site-packages/rpy2/rinterface/__init__.py:145: RRuntimeWarning: =\n",
      "  warnings.warn(x, RRuntimeWarning)\n",
      "/Users/kcarnold/anaconda3/envs/py36/lib/python3.6/site-packages/rpy2/rinterface/__init__.py:145: RRuntimeWarning: \n",
      "\n",
      "  warnings.warn(x, RRuntimeWarning)\n",
      "/Users/kcarnold/anaconda3/envs/py36/lib/python3.6/site-packages/rpy2/rinterface/__init__.py:145: RRuntimeWarning: downloaded 95 KB\n",
      "\n",
      "\n",
      "  warnings.warn(x, RRuntimeWarning)\n",
      "/Users/kcarnold/anaconda3/envs/py36/lib/python3.6/site-packages/rpy2/rinterface/__init__.py:145: RRuntimeWarning: trying URL 'https://cran.rstudio.com/src/contrib/PKI_0.1-5.1.tar.gz'\n",
      "\n",
      "  warnings.warn(x, RRuntimeWarning)\n",
      "/Users/kcarnold/anaconda3/envs/py36/lib/python3.6/site-packages/rpy2/rinterface/__init__.py:145: RRuntimeWarning:  length 69591 bytes (67 KB)\n",
      "\n",
      "  warnings.warn(x, RRuntimeWarning)\n",
      "/Users/kcarnold/anaconda3/envs/py36/lib/python3.6/site-packages/rpy2/rinterface/__init__.py:145: RRuntimeWarning: downloaded 67 KB\n",
      "\n",
      "\n",
      "  warnings.warn(x, RRuntimeWarning)\n",
      "/Users/kcarnold/anaconda3/envs/py36/lib/python3.6/site-packages/rpy2/rinterface/__init__.py:145: RRuntimeWarning: trying URL 'https://cran.rstudio.com/src/contrib/RCurl_1.95-4.11.tar.gz'\n",
      "\n",
      "  warnings.warn(x, RRuntimeWarning)\n",
      "/Users/kcarnold/anaconda3/envs/py36/lib/python3.6/site-packages/rpy2/rinterface/__init__.py:145: RRuntimeWarning:  length 916667 bytes (895 KB)\n",
      "\n",
      "  warnings.warn(x, RRuntimeWarning)\n",
      "/Users/kcarnold/anaconda3/envs/py36/lib/python3.6/site-packages/rpy2/rinterface/__init__.py:145: RRuntimeWarning: downloaded 895 KB\n",
      "\n",
      "\n",
      "  warnings.warn(x, RRuntimeWarning)\n",
      "/Users/kcarnold/anaconda3/envs/py36/lib/python3.6/site-packages/rpy2/rinterface/__init__.py:145: RRuntimeWarning: trying URL 'https://cran.rstudio.com/src/contrib/RJSONIO_1.3-0.tar.gz'\n",
      "\n",
      "  warnings.warn(x, RRuntimeWarning)\n",
      "/Users/kcarnold/anaconda3/envs/py36/lib/python3.6/site-packages/rpy2/rinterface/__init__.py:145: RRuntimeWarning:  length 1148375 bytes (1.1 MB)\n",
      "\n",
      "  warnings.warn(x, RRuntimeWarning)\n",
      "/Users/kcarnold/anaconda3/envs/py36/lib/python3.6/site-packages/rpy2/rinterface/__init__.py:145: RRuntimeWarning: downloaded 1.1 MB\n",
      "\n",
      "\n",
      "  warnings.warn(x, RRuntimeWarning)\n",
      "/Users/kcarnold/anaconda3/envs/py36/lib/python3.6/site-packages/rpy2/rinterface/__init__.py:145: RRuntimeWarning: trying URL 'https://cran.rstudio.com/src/contrib/packrat_0.4.9-3.tar.gz'\n",
      "\n",
      "  warnings.warn(x, RRuntimeWarning)\n",
      "/Users/kcarnold/anaconda3/envs/py36/lib/python3.6/site-packages/rpy2/rinterface/__init__.py:145: RRuntimeWarning:  length 126158 bytes (123 KB)\n",
      "\n",
      "  warnings.warn(x, RRuntimeWarning)\n",
      "/Users/kcarnold/anaconda3/envs/py36/lib/python3.6/site-packages/rpy2/rinterface/__init__.py:145: RRuntimeWarning: downloaded 123 KB\n",
      "\n",
      "\n",
      "  warnings.warn(x, RRuntimeWarning)\n",
      "/Users/kcarnold/anaconda3/envs/py36/lib/python3.6/site-packages/rpy2/rinterface/__init__.py:145: RRuntimeWarning: trying URL 'https://cran.rstudio.com/src/contrib/igraph_1.2.2.tar.gz'\n",
      "\n",
      "  warnings.warn(x, RRuntimeWarning)\n",
      "/Users/kcarnold/anaconda3/envs/py36/lib/python3.6/site-packages/rpy2/rinterface/__init__.py:145: RRuntimeWarning:  length 2703110 bytes (2.6 MB)\n",
      "\n",
      "  warnings.warn(x, RRuntimeWarning)\n",
      "/Users/kcarnold/anaconda3/envs/py36/lib/python3.6/site-packages/rpy2/rinterface/__init__.py:145: RRuntimeWarning: downloaded 2.6 MB\n",
      "\n",
      "\n",
      "  warnings.warn(x, RRuntimeWarning)\n",
      "/Users/kcarnold/anaconda3/envs/py36/lib/python3.6/site-packages/rpy2/rinterface/__init__.py:145: RRuntimeWarning: trying URL 'https://cran.rstudio.com/src/contrib/StanHeaders_2.17.2.tar.gz'\n",
      "\n",
      "  warnings.warn(x, RRuntimeWarning)\n",
      "/Users/kcarnold/anaconda3/envs/py36/lib/python3.6/site-packages/rpy2/rinterface/__init__.py:145: RRuntimeWarning:  length 955082 bytes (932 KB)\n",
      "\n",
      "  warnings.warn(x, RRuntimeWarning)\n",
      "/Users/kcarnold/anaconda3/envs/py36/lib/python3.6/site-packages/rpy2/rinterface/__init__.py:145: RRuntimeWarning: downloaded 932 KB\n",
      "\n",
      "\n",
      "  warnings.warn(x, RRuntimeWarning)\n",
      "/Users/kcarnold/anaconda3/envs/py36/lib/python3.6/site-packages/rpy2/rinterface/__init__.py:145: RRuntimeWarning: trying URL 'https://cran.rstudio.com/src/contrib/ggridges_0.5.0.tar.gz'\n",
      "\n",
      "  warnings.warn(x, RRuntimeWarning)\n",
      "/Users/kcarnold/anaconda3/envs/py36/lib/python3.6/site-packages/rpy2/rinterface/__init__.py:145: RRuntimeWarning:  length 1967724 bytes (1.9 MB)\n",
      "\n",
      "  warnings.warn(x, RRuntimeWarning)\n",
      "/Users/kcarnold/anaconda3/envs/py36/lib/python3.6/site-packages/rpy2/rinterface/__init__.py:145: RRuntimeWarning: downloaded 1.9 MB\n",
      "\n",
      "\n",
      "  warnings.warn(x, RRuntimeWarning)\n",
      "/Users/kcarnold/anaconda3/envs/py36/lib/python3.6/site-packages/rpy2/rinterface/__init__.py:145: RRuntimeWarning: trying URL 'https://cran.rstudio.com/src/contrib/colourpicker_1.0.tar.gz'\n",
      "\n",
      "  warnings.warn(x, RRuntimeWarning)\n",
      "/Users/kcarnold/anaconda3/envs/py36/lib/python3.6/site-packages/rpy2/rinterface/__init__.py:145: RRuntimeWarning:  length 1897585 bytes (1.8 MB)\n",
      "\n",
      "  warnings.warn(x, RRuntimeWarning)\n",
      "/Users/kcarnold/anaconda3/envs/py36/lib/python3.6/site-packages/rpy2/rinterface/__init__.py:145: RRuntimeWarning: downloaded 1.8 MB\n",
      "\n",
      "\n",
      "  warnings.warn(x, RRuntimeWarning)\n",
      "/Users/kcarnold/anaconda3/envs/py36/lib/python3.6/site-packages/rpy2/rinterface/__init__.py:145: RRuntimeWarning: trying URL 'https://cran.rstudio.com/src/contrib/dygraphs_1.1.1.6.tar.gz'\n",
      "\n",
      "  warnings.warn(x, RRuntimeWarning)\n",
      "/Users/kcarnold/anaconda3/envs/py36/lib/python3.6/site-packages/rpy2/rinterface/__init__.py:145: RRuntimeWarning:  length 318939 bytes (311 KB)\n",
      "\n",
      "  warnings.warn(x, RRuntimeWarning)\n",
      "/Users/kcarnold/anaconda3/envs/py36/lib/python3.6/site-packages/rpy2/rinterface/__init__.py:145: RRuntimeWarning: downloaded 311 KB\n",
      "\n",
      "\n",
      "  warnings.warn(x, RRuntimeWarning)\n",
      "/Users/kcarnold/anaconda3/envs/py36/lib/python3.6/site-packages/rpy2/rinterface/__init__.py:145: RRuntimeWarning: trying URL 'https://cran.rstudio.com/src/contrib/gtools_3.8.1.tar.gz'\n",
      "\n",
      "  warnings.warn(x, RRuntimeWarning)\n",
      "/Users/kcarnold/anaconda3/envs/py36/lib/python3.6/site-packages/rpy2/rinterface/__init__.py:145: RRuntimeWarning:  length 187516 bytes (183 KB)\n",
      "\n",
      "  warnings.warn(x, RRuntimeWarning)\n",
      "/Users/kcarnold/anaconda3/envs/py36/lib/python3.6/site-packages/rpy2/rinterface/__init__.py:145: RRuntimeWarning: downloaded 183 KB\n",
      "\n",
      "\n",
      "  warnings.warn(x, RRuntimeWarning)\n",
      "/Users/kcarnold/anaconda3/envs/py36/lib/python3.6/site-packages/rpy2/rinterface/__init__.py:145: RRuntimeWarning: trying URL 'https://cran.rstudio.com/src/contrib/rsconnect_0.8.8.tar.gz'\n",
      "\n",
      "  warnings.warn(x, RRuntimeWarning)\n",
      "/Users/kcarnold/anaconda3/envs/py36/lib/python3.6/site-packages/rpy2/rinterface/__init__.py:145: RRuntimeWarning:  length 245177 bytes (239 KB)\n",
      "\n",
      "  warnings.warn(x, RRuntimeWarning)\n",
      "/Users/kcarnold/anaconda3/envs/py36/lib/python3.6/site-packages/rpy2/rinterface/__init__.py:145: RRuntimeWarning: downloaded 239 KB\n",
      "\n",
      "\n",
      "  warnings.warn(x, RRuntimeWarning)\n",
      "/Users/kcarnold/anaconda3/envs/py36/lib/python3.6/site-packages/rpy2/rinterface/__init__.py:145: RRuntimeWarning: trying URL 'https://cran.rstudio.com/src/contrib/shinyjs_1.0.tar.gz'\n",
      "\n",
      "  warnings.warn(x, RRuntimeWarning)\n",
      "/Users/kcarnold/anaconda3/envs/py36/lib/python3.6/site-packages/rpy2/rinterface/__init__.py:145: RRuntimeWarning:  length 954365 bytes (931 KB)\n",
      "\n",
      "  warnings.warn(x, RRuntimeWarning)\n",
      "/Users/kcarnold/anaconda3/envs/py36/lib/python3.6/site-packages/rpy2/rinterface/__init__.py:145: RRuntimeWarning: downloaded 931 KB\n",
      "\n",
      "\n",
      "  warnings.warn(x, RRuntimeWarning)\n",
      "/Users/kcarnold/anaconda3/envs/py36/lib/python3.6/site-packages/rpy2/rinterface/__init__.py:145: RRuntimeWarning: trying URL 'https://cran.rstudio.com/src/contrib/shinythemes_1.1.1.tar.gz'\n",
      "\n",
      "  warnings.warn(x, RRuntimeWarning)\n",
      "/Users/kcarnold/anaconda3/envs/py36/lib/python3.6/site-packages/rpy2/rinterface/__init__.py:145: RRuntimeWarning:  length 990752 bytes (967 KB)\n",
      "\n",
      "  warnings.warn(x, RRuntimeWarning)\n"
     ]
    },
    {
     "name": "stderr",
     "output_type": "stream",
     "text": [
      "/Users/kcarnold/anaconda3/envs/py36/lib/python3.6/site-packages/rpy2/rinterface/__init__.py:145: RRuntimeWarning: downloaded 967 KB\n",
      "\n",
      "\n",
      "  warnings.warn(x, RRuntimeWarning)\n",
      "/Users/kcarnold/anaconda3/envs/py36/lib/python3.6/site-packages/rpy2/rinterface/__init__.py:145: RRuntimeWarning: trying URL 'https://cran.rstudio.com/src/contrib/threejs_0.3.1.tar.gz'\n",
      "\n",
      "  warnings.warn(x, RRuntimeWarning)\n",
      "/Users/kcarnold/anaconda3/envs/py36/lib/python3.6/site-packages/rpy2/rinterface/__init__.py:145: RRuntimeWarning:  length 843444 bytes (823 KB)\n",
      "\n",
      "  warnings.warn(x, RRuntimeWarning)\n",
      "/Users/kcarnold/anaconda3/envs/py36/lib/python3.6/site-packages/rpy2/rinterface/__init__.py:145: RRuntimeWarning: downloaded 823 KB\n",
      "\n",
      "\n",
      "  warnings.warn(x, RRuntimeWarning)\n",
      "/Users/kcarnold/anaconda3/envs/py36/lib/python3.6/site-packages/rpy2/rinterface/__init__.py:145: RRuntimeWarning: trying URL 'https://cran.rstudio.com/src/contrib/mvtnorm_1.0-8.tar.gz'\n",
      "\n",
      "  warnings.warn(x, RRuntimeWarning)\n",
      "/Users/kcarnold/anaconda3/envs/py36/lib/python3.6/site-packages/rpy2/rinterface/__init__.py:145: RRuntimeWarning:  length 159539 bytes (155 KB)\n",
      "\n",
      "  warnings.warn(x, RRuntimeWarning)\n",
      "/Users/kcarnold/anaconda3/envs/py36/lib/python3.6/site-packages/rpy2/rinterface/__init__.py:145: RRuntimeWarning: downloaded 155 KB\n",
      "\n",
      "\n",
      "  warnings.warn(x, RRuntimeWarning)\n",
      "/Users/kcarnold/anaconda3/envs/py36/lib/python3.6/site-packages/rpy2/rinterface/__init__.py:145: RRuntimeWarning: trying URL 'https://cran.rstudio.com/src/contrib/Brobdingnag_1.2-6.tar.gz'\n",
      "\n",
      "  warnings.warn(x, RRuntimeWarning)\n",
      "/Users/kcarnold/anaconda3/envs/py36/lib/python3.6/site-packages/rpy2/rinterface/__init__.py:145: RRuntimeWarning:  length 261836 bytes (255 KB)\n",
      "\n",
      "  warnings.warn(x, RRuntimeWarning)\n",
      "/Users/kcarnold/anaconda3/envs/py36/lib/python3.6/site-packages/rpy2/rinterface/__init__.py:145: RRuntimeWarning: downloaded 255 KB\n",
      "\n",
      "\n",
      "  warnings.warn(x, RRuntimeWarning)\n",
      "/Users/kcarnold/anaconda3/envs/py36/lib/python3.6/site-packages/rpy2/rinterface/__init__.py:145: RRuntimeWarning: trying URL 'https://cran.rstudio.com/src/contrib/rstan_2.17.3.tar.gz'\n",
      "\n",
      "  warnings.warn(x, RRuntimeWarning)\n",
      "/Users/kcarnold/anaconda3/envs/py36/lib/python3.6/site-packages/rpy2/rinterface/__init__.py:145: RRuntimeWarning:  length 747202 bytes (729 KB)\n",
      "\n",
      "  warnings.warn(x, RRuntimeWarning)\n",
      "/Users/kcarnold/anaconda3/envs/py36/lib/python3.6/site-packages/rpy2/rinterface/__init__.py:145: RRuntimeWarning: downloaded 729 KB\n",
      "\n",
      "\n",
      "  warnings.warn(x, RRuntimeWarning)\n",
      "/Users/kcarnold/anaconda3/envs/py36/lib/python3.6/site-packages/rpy2/rinterface/__init__.py:145: RRuntimeWarning: trying URL 'https://cran.rstudio.com/src/contrib/loo_2.0.0.tar.gz'\n",
      "\n",
      "  warnings.warn(x, RRuntimeWarning)\n",
      "/Users/kcarnold/anaconda3/envs/py36/lib/python3.6/site-packages/rpy2/rinterface/__init__.py:145: RRuntimeWarning:  length 645724 bytes (630 KB)\n",
      "\n",
      "  warnings.warn(x, RRuntimeWarning)\n",
      "/Users/kcarnold/anaconda3/envs/py36/lib/python3.6/site-packages/rpy2/rinterface/__init__.py:145: RRuntimeWarning: downloaded 630 KB\n",
      "\n",
      "\n",
      "  warnings.warn(x, RRuntimeWarning)\n",
      "/Users/kcarnold/anaconda3/envs/py36/lib/python3.6/site-packages/rpy2/rinterface/__init__.py:145: RRuntimeWarning: trying URL 'https://cran.rstudio.com/src/contrib/rstantools_1.5.1.tar.gz'\n",
      "\n",
      "  warnings.warn(x, RRuntimeWarning)\n",
      "/Users/kcarnold/anaconda3/envs/py36/lib/python3.6/site-packages/rpy2/rinterface/__init__.py:145: RRuntimeWarning:  length 63203 bytes (61 KB)\n",
      "\n",
      "  warnings.warn(x, RRuntimeWarning)\n",
      "/Users/kcarnold/anaconda3/envs/py36/lib/python3.6/site-packages/rpy2/rinterface/__init__.py:145: RRuntimeWarning: downloaded 61 KB\n",
      "\n",
      "\n",
      "  warnings.warn(x, RRuntimeWarning)\n",
      "/Users/kcarnold/anaconda3/envs/py36/lib/python3.6/site-packages/rpy2/rinterface/__init__.py:145: RRuntimeWarning: trying URL 'https://cran.rstudio.com/src/contrib/bayesplot_1.6.0.tar.gz'\n",
      "\n",
      "  warnings.warn(x, RRuntimeWarning)\n",
      "/Users/kcarnold/anaconda3/envs/py36/lib/python3.6/site-packages/rpy2/rinterface/__init__.py:145: RRuntimeWarning:  length 6484418 bytes (6.2 MB)\n",
      "\n",
      "  warnings.warn(x, RRuntimeWarning)\n",
      "/Users/kcarnold/anaconda3/envs/py36/lib/python3.6/site-packages/rpy2/rinterface/__init__.py:145: RRuntimeWarning: downloaded 6.2 MB\n",
      "\n",
      "\n",
      "  warnings.warn(x, RRuntimeWarning)\n",
      "/Users/kcarnold/anaconda3/envs/py36/lib/python3.6/site-packages/rpy2/rinterface/__init__.py:145: RRuntimeWarning: trying URL 'https://cran.rstudio.com/src/contrib/shinystan_2.5.0.tar.gz'\n",
      "\n",
      "  warnings.warn(x, RRuntimeWarning)\n",
      "/Users/kcarnold/anaconda3/envs/py36/lib/python3.6/site-packages/rpy2/rinterface/__init__.py:145: RRuntimeWarning:  length 2400413 bytes (2.3 MB)\n",
      "\n",
      "  warnings.warn(x, RRuntimeWarning)\n",
      "/Users/kcarnold/anaconda3/envs/py36/lib/python3.6/site-packages/rpy2/rinterface/__init__.py:145: RRuntimeWarning: downloaded 2.3 MB\n",
      "\n",
      "\n",
      "  warnings.warn(x, RRuntimeWarning)\n",
      "/Users/kcarnold/anaconda3/envs/py36/lib/python3.6/site-packages/rpy2/rinterface/__init__.py:145: RRuntimeWarning: trying URL 'https://cran.rstudio.com/src/contrib/bridgesampling_0.5-2.tar.gz'\n",
      "\n",
      "  warnings.warn(x, RRuntimeWarning)\n",
      "/Users/kcarnold/anaconda3/envs/py36/lib/python3.6/site-packages/rpy2/rinterface/__init__.py:145: RRuntimeWarning:  length 1030836 bytes (1006 KB)\n",
      "\n",
      "  warnings.warn(x, RRuntimeWarning)\n",
      "/Users/kcarnold/anaconda3/envs/py36/lib/python3.6/site-packages/rpy2/rinterface/__init__.py:145: RRuntimeWarning: downloaded 1006 KB\n",
      "\n",
      "\n",
      "  warnings.warn(x, RRuntimeWarning)\n",
      "/Users/kcarnold/anaconda3/envs/py36/lib/python3.6/site-packages/rpy2/rinterface/__init__.py:145: RRuntimeWarning: trying URL 'https://cran.rstudio.com/src/contrib/matrixStats_0.54.0.tar.gz'\n",
      "\n",
      "  warnings.warn(x, RRuntimeWarning)\n",
      "/Users/kcarnold/anaconda3/envs/py36/lib/python3.6/site-packages/rpy2/rinterface/__init__.py:145: RRuntimeWarning:  length 183731 bytes (179 KB)\n",
      "\n",
      "  warnings.warn(x, RRuntimeWarning)\n",
      "/Users/kcarnold/anaconda3/envs/py36/lib/python3.6/site-packages/rpy2/rinterface/__init__.py:145: RRuntimeWarning: downloaded 179 KB\n",
      "\n",
      "\n",
      "  warnings.warn(x, RRuntimeWarning)\n",
      "/Users/kcarnold/anaconda3/envs/py36/lib/python3.6/site-packages/rpy2/rinterface/__init__.py:145: RRuntimeWarning: trying URL 'https://cran.rstudio.com/src/contrib/nleqslv_3.3.2.tar.gz'\n",
      "\n",
      "  warnings.warn(x, RRuntimeWarning)\n",
      "/Users/kcarnold/anaconda3/envs/py36/lib/python3.6/site-packages/rpy2/rinterface/__init__.py:145: RRuntimeWarning:  length 83731 bytes (81 KB)\n",
      "\n",
      "  warnings.warn(x, RRuntimeWarning)\n",
      "/Users/kcarnold/anaconda3/envs/py36/lib/python3.6/site-packages/rpy2/rinterface/__init__.py:145: RRuntimeWarning: downloaded 81 KB\n",
      "\n",
      "\n",
      "  warnings.warn(x, RRuntimeWarning)\n",
      "/Users/kcarnold/anaconda3/envs/py36/lib/python3.6/site-packages/rpy2/rinterface/__init__.py:145: RRuntimeWarning: trying URL 'https://cran.rstudio.com/src/contrib/coda_0.19-1.tar.gz'\n",
      "\n",
      "  warnings.warn(x, RRuntimeWarning)\n",
      "/Users/kcarnold/anaconda3/envs/py36/lib/python3.6/site-packages/rpy2/rinterface/__init__.py:145: RRuntimeWarning:  length 73734 bytes (72 KB)\n",
      "\n",
      "  warnings.warn(x, RRuntimeWarning)\n",
      "/Users/kcarnold/anaconda3/envs/py36/lib/python3.6/site-packages/rpy2/rinterface/__init__.py:145: RRuntimeWarning: downloaded 72 KB\n",
      "\n",
      "\n",
      "  warnings.warn(x, RRuntimeWarning)\n",
      "/Users/kcarnold/anaconda3/envs/py36/lib/python3.6/site-packages/rpy2/rinterface/__init__.py:145: RRuntimeWarning: trying URL 'https://cran.rstudio.com/src/contrib/brms_2.4.0.tar.gz'\n",
      "\n",
      "  warnings.warn(x, RRuntimeWarning)\n",
      "/Users/kcarnold/anaconda3/envs/py36/lib/python3.6/site-packages/rpy2/rinterface/__init__.py:145: RRuntimeWarning:  length 5028148 bytes (4.8 MB)\n",
      "\n",
      "  warnings.warn(x, RRuntimeWarning)\n",
      "/Users/kcarnold/anaconda3/envs/py36/lib/python3.6/site-packages/rpy2/rinterface/__init__.py:145: RRuntimeWarning: downloaded 4.8 MB\n",
      "\n",
      "\n",
      "  warnings.warn(x, RRuntimeWarning)\n",
      "/Users/kcarnold/anaconda3/envs/py36/lib/python3.6/site-packages/rpy2/rinterface/__init__.py:145: RRuntimeWarning: \n",
      "  warnings.warn(x, RRuntimeWarning)\n",
      "/Users/kcarnold/anaconda3/envs/py36/lib/python3.6/site-packages/rpy2/rinterface/__init__.py:145: RRuntimeWarning: The downloaded source packages are in\n",
      "\t‘/private/var/folders/rq/w129w0b97vs3rd7z03b2xzf80000gq/T/RtmpOoJGGM/downloaded_packages’\n",
      "  warnings.warn(x, RRuntimeWarning)\n",
      "/Users/kcarnold/anaconda3/envs/py36/lib/python3.6/site-packages/rpy2/rinterface/__init__.py:145: RRuntimeWarning: Updating HTML index of packages in '.Library'\n",
      "\n",
      "  warnings.warn(x, RRuntimeWarning)\n",
      "/Users/kcarnold/anaconda3/envs/py36/lib/python3.6/site-packages/rpy2/rinterface/__init__.py:145: RRuntimeWarning: Making 'packages.html' ...\n",
      "  warnings.warn(x, RRuntimeWarning)\n"
     ]
    },
    {
     "name": "stderr",
     "output_type": "stream",
     "text": [
      "/Users/kcarnold/anaconda3/envs/py36/lib/python3.6/site-packages/rpy2/rinterface/__init__.py:145: RRuntimeWarning:  done\n",
      "\n",
      "  warnings.warn(x, RRuntimeWarning)\n"
     ]
    }
   ],
   "source": [
    "%%R\n",
    "install.packages(\"brms\")\n"
   ]
  }
 ],
 "metadata": {
  "kernelspec": {
   "display_name": "Python 3",
   "language": "python",
   "name": "python3"
  },
  "language_info": {
   "codemirror_mode": {
    "name": "ipython",
    "version": 3
   },
   "file_extension": ".py",
   "mimetype": "text/x-python",
   "name": "python",
   "nbconvert_exporter": "python",
   "pygments_lexer": "ipython3",
   "version": "3.6.4"
  }
 },
 "nbformat": 4,
 "nbformat_minor": 2
}
