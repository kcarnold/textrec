{
 "cells": [
  {
   "cell_type": "markdown",
   "metadata": {},
   "source": [
    "# Analysis pipeline for Specificity"
   ]
  },
  {
   "cell_type": "markdown",
   "metadata": {},
   "source": [
    "## Preliminaries"
   ]
  },
  {
   "cell_type": "code",
   "execution_count": 1,
   "metadata": {},
   "outputs": [
    {
     "name": "stdout",
     "output_type": "stream",
     "text": [
      "/Users/kcarnold/code/textrec\n"
     ]
    }
   ],
   "source": [
    "%cd ~/code/textrec/"
   ]
  },
  {
   "cell_type": "code",
   "execution_count": 2,
   "metadata": {},
   "outputs": [],
   "source": [
    "import datetime\n",
    "import json\n",
    "import pathlib\n",
    "\n",
    "import pandas as pd\n",
    "import numpy as np\n",
    "import toolz\n",
    "from IPython.display import Image, HTML"
   ]
  },
  {
   "cell_type": "code",
   "execution_count": 3,
   "metadata": {},
   "outputs": [
    {
     "data": {
      "text/plain": [
       "(<module 'textrec.analysis_util' from '/Users/kcarnold/code/textrec/src/textrec/analysis_util.py'>,\n",
       " <module 'textrec.util' from '/Users/kcarnold/code/textrec/src/textrec/util.py'>)"
      ]
     },
     "execution_count": 3,
     "metadata": {},
     "output_type": "execute_result"
    }
   ],
   "source": [
    "from textrec.paths import paths\n",
    "from textrec import analysis_util, util\n",
    "reload(analysis_util), reload(util)"
   ]
  },
  {
   "cell_type": "markdown",
   "metadata": {},
   "source": [
    "Download Karpathy's version of the COCO captions dataset. This has the train-test split that is more commonly used in the literature, as well as pre-tokenized captions."
   ]
  },
  {
   "cell_type": "code",
   "execution_count": 4,
   "metadata": {},
   "outputs": [],
   "source": [
    "images = util.get_coco_captions()\n",
    "images_by_split = toolz.groupby('split', images)"
   ]
  },
  {
   "cell_type": "code",
   "execution_count": 5,
   "metadata": {},
   "outputs": [],
   "source": [
    "id2img = {img['cocoid']: img for img in images}"
   ]
  },
  {
   "cell_type": "code",
   "execution_count": 6,
   "metadata": {},
   "outputs": [],
   "source": [
    "id2url = util.get_coco_id2url()"
   ]
  },
  {
   "cell_type": "code",
   "execution_count": 7,
   "metadata": {},
   "outputs": [],
   "source": [
    "def show_images(indices):\n",
    "    def img(idx):\n",
    "        img = id2img[idx]\n",
    "        captions = '\\n'.join(\n",
    "            '<div>{}</div>'.format(sent)\n",
    "            for sent in toolz.pluck('raw', img['sentences'])\n",
    "        )\n",
    "        return '<div style=\"display: inline-block;\"><div>{}/{}</div><img src=\"{}\">{}</div>'.format(\n",
    "            img['split'], img['cocoid'], id2url[img['cocoid']], captions)\n",
    "\n",
    "    return '\\n'.join(img(idx) for idx in indices)"
   ]
  },
  {
   "cell_type": "code",
   "execution_count": 8,
   "metadata": {},
   "outputs": [
    {
     "data": {
      "text/html": [
       "<div style=\"display: inline-block;\"><div>val/184613</div><img src=\"http://images.cocodataset.org/train2017/000000184613.jpg\"><div>A child holding a flowered umbrella and petting a yak.</div>\n",
       "<div>A young man holding an umbrella next to a herd of cattle.</div>\n",
       "<div>a young boy barefoot holding an umbrella touching the horn of a cow</div>\n",
       "<div>A young boy with an umbrella who is touching the horn of a cow.</div>\n",
       "<div>A boy holding an umbrella while standing next to livestock.</div></div>"
      ],
      "text/plain": [
       "<IPython.core.display.HTML object>"
      ]
     },
     "execution_count": 8,
     "metadata": {},
     "output_type": "execute_result"
    }
   ],
   "source": [
    "HTML(show_images([images_by_split['val'][0]['cocoid']]))"
   ]
  },
  {
   "cell_type": "markdown",
   "metadata": {},
   "source": [
    "## Load results of writing experiment"
   ]
  },
  {
   "cell_type": "code",
   "execution_count": 9,
   "metadata": {},
   "outputs": [],
   "source": [
    "%run -m textrec.batch_analysis"
   ]
  },
  {
   "cell_type": "code",
   "execution_count": 10,
   "metadata": {},
   "outputs": [],
   "source": [
    "participants = get_participants_by_batch()"
   ]
  },
  {
   "cell_type": "code",
   "execution_count": 11,
   "metadata": {},
   "outputs": [
    {
     "data": {
      "text/plain": [
       "dict_keys(['2018-04-09', '2018-04-24', '2018-04-27', '2018-05-02-invalid', '2018-05-02'])"
      ]
     },
     "execution_count": 11,
     "metadata": {},
     "output_type": "execute_result"
    }
   ],
   "source": [
    "participants.keys()"
   ]
  },
  {
   "cell_type": "code",
   "execution_count": 12,
   "metadata": {},
   "outputs": [
    {
     "name": "stdout",
     "output_type": "stream",
     "text": [
      "\n",
      "h52x67\n",
      "practice-0:specific:a black cat napping on a sunny unpainted wood bench in front of a red wall\n",
      "final-0-0:specific:a cat sitting next to a glass bowl, looking up to the camera\n",
      "final-0-1:specific:a shower with dirty glass doors has a beige towel hanging on the outside\n",
      "final-0-2:specific:there is no image here \n",
      "practice-1:norecs:a man with black hair and glasses placing a large turkey into an upper oven\n",
      "final-1-0:norecs:a bride and groom cutting their wedding cake, while a photographer guides them\n",
      "final-1-1:norecs:a man helping his children fly a multicolor butterfly kite on a clear day\n",
      "final-1-2:norecs:a passenger train approaching a small quaint station with a blue and white building on the background\n",
      "practice-2:general:a black and red vehicle with bikes on top and people standing nearby with umbrellas. \n",
      "final-2-0:general:a busy street in a historic town with a red bus driving on the street. \n",
      "final-2-1:general:a tennis player hits a ball during a game \n",
      "final-2-2:general:a surfer riding a wave on a sunny day \n",
      "\n",
      "intro-use_predictive: Yes\n",
      "postTask-0-techDiff: There was no image in he third task.\n",
      "postTask-0-other: The keyboard seemed to have the words I wanted already there, on many of them all I had to do was touch the word.\n",
      "postTask-1-techDiff: None.\n",
      "postTask-1-other: It was a little more challenging this time, because there were no predicted words. Also I had to be extra careful with spelling!\n",
      "postTask-2-techDiff: No.\n",
      "postTask-2-other: This also had predicted words, but somehow I had a harder time coming up with good descriptions. The photos seemed too generic for some reason.\n",
      "postExp-helpfulRank-specific-most: Keyboard Design 1\n",
      "postExp-helpfulRank-specific-least: Keyboard Design 2\n",
      "postExp-helpfulRank-accurate-most: Keyboard Design 1\n",
      "postExp-helpfulRank-accurate-least: Keyboard Design 2\n",
      "postExp-helpfulRank-quick-most: Keyboard Design 1\n",
      "postExp-helpfulRank-quick-least: Keyboard Design 2\n",
      "postExp-verbalized_during: No\n",
      "postExp-age: 41\n",
      "postExp-gender: Female\n",
      "postExp-english_proficiency: Native or bilingual\n",
      "postExp-techDiff: Just the fact that the third photo in keyboard 1 never loaded.\n",
      "postExp-other: It was fun! Just feel a little unsure that I will be penalized for not writing a caption for the third photo on keyboard 1. I hope that was OK. Thank you!\n",
      "\n",
      "Total time: 47.0m\n",
      "ExperimentScreen: 2094.0\n",
      "PostTaskSurvey: 276.4\n",
      "PostExpSurvey: 156.4\n",
      "Instructions: 127.3\n",
      "TaskDescription: 72.3\n",
      "Welcome: 34.8\n",
      "StudyDesc: 31.9\n",
      "IntroSurvey: 15.5\n",
      "PostPractice: 9.9\n",
      "\n",
      "jvccx2\n",
      "practice-0:general:a black cat napping on a sunny unpainted wood bench in front of a red wall \n",
      "final-0-0:general:a yellow cat with strips is setting on a place mat  on a table behind a half of glass of red wine\n",
      "final-0-1:general:a small bath with a shower with a blue mat on the floor\n",
      "final-0-2:general:a bath room with a white toilet and a white washbasin \n",
      "practice-1:norecs:a man with black hair and glasses placing a large turkey into an upper oven\n",
      "final-1-0:norecs:a newly wedded couple cutting there wedding cake with a lady helping the bride cut the cake\n",
      "final-1-1:norecs:a group of people flying kites on a beach and its a beautiful day\n",
      "final-1-2:norecs:a train station with three building to the left it is a nice sunny day\n",
      "practice-2:specific:a black and red vehicle with bikes on top and people standing nearby with umbrellas. \n",
      "final-2-0:specific:a busy city street with cars and people along the streets with high-rise buildings on both sides\n",
      "final-2-1:specific:a tennis player is trying hard to return the ball oronto is written in the grass\n",
      "final-2-2:specific:a surfer is riding a wave the water looks so refreshing its a beautiful day \n",
      "\n",
      "intro-use_predictive: Yes\n",
      "postTask-0-techDiff: None\n",
      "postTask-0-other: Fun study\n",
      "postTask-1-techDiff: None\n",
      "postTask-1-other: The key board was difficult\n",
      "postTask-2-techDiff: None\n",
      "postExp-helpfulRank-specific-most: Keyboard Design 3\n",
      "postExp-helpfulRank-specific-least: Keyboard Design 3\n",
      "postExp-helpfulRank-accurate-most: Keyboard Design 3\n",
      "postExp-helpfulRank-accurate-least: Keyboard Design 2\n",
      "postExp-helpfulRank-quick-most: Keyboard Design 3\n",
      "postExp-helpfulRank-quick-least: Keyboard Design 2\n",
      "postExp-verbalized_during: Yes\n",
      "postExp-age: 36\n",
      "postExp-gender: Male\n",
      "postExp-english_proficiency: Native or bilingual\n",
      "postExp-techDiff: None\n",
      "postExp-other: Use  my data\n",
      "\n",
      "Total time: 34.9m\n",
      "ExperimentScreen: 1478.8\n",
      "PostTaskSurvey: 274.4\n",
      "PostExpSurvey: 125.0\n",
      "TaskDescription: 70.6\n",
      "PostPractice: 38.5\n",
      "Welcome: 36.4\n",
      "IntroSurvey: 27.0\n",
      "StudyDesc: 25.1\n",
      "Instructions: 16.6\n",
      "\n",
      "36x2r3\n",
      "practice-0:norecs:a black cat napping on a sunny unpainted wood bench in front of a red wall\n",
      "final-0-0:norecs:a tricolor cat is sitting in front of a partially full wine glass\n",
      "final-0-1:norecs:someome is using a shower but it's hard to see due to the opaque glass\n",
      "final-0-2:norecs:a clean bathroom with a white sink near a white toilet\n",
      "practice-1:specific:a man with black hair and glasses placing a large turkey into an upper oven\n",
      "final-1-0:specific:a black and white photo or a large man and a woman cutting thwir wedding cake\n",
      "final-1-1:specific:colorful kites are flown above a sandy beach by two children and an adult\n",
      "final-1-2:specific:a brown trai  pulls into the tracka next to some colorful buildings\n",
      "practice-2:general:a black and red vehicle with bikes on top and people standing nearby with umbrellas. \n",
      "final-2-0:general:a red trolley drives through a stree surrounded by plain brick buildings. \n",
      "final-2-1:general:a tennis player is ready to hit the tennis ball across the court. \n",
      "final-2-2:general:a surfer leans forward to ride a wave\n",
      "\n",
      "intro-use_predictive: Yes\n",
      "postTask-0-techDiff: No\n",
      "postTask-0-other: None\n",
      "postTask-1-techDiff: None\n",
      "postTask-1-other: None\n",
      "postTask-2-techDiff: None\n",
      "postTask-2-other: None\n",
      "postExp-helpfulRank-specific-most: Keyboard Design 2\n",
      "postExp-helpfulRank-specific-least: Keyboard Design 3\n",
      "postExp-helpfulRank-accurate-most: Keyboard Design 2\n",
      "postExp-helpfulRank-accurate-least: Keyboard Design 3\n",
      "postExp-helpfulRank-quick-most: Keyboard Design 1\n",
      "postExp-helpfulRank-quick-least: Keyboard Design 3\n",
      "postExp-verbalized_during: No\n",
      "postExp-age: 24\n",
      "postExp-gender: Female\n",
      "postExp-english_proficiency: Native or bilingual\n",
      "postExp-techDiff: Mone\n",
      "postExp-other: None\n",
      "\n",
      "Total time: 10.2m\n",
      "ExperimentScreen: 332.4\n",
      "PostTaskSurvey: 92.8\n",
      "TaskDescription: 75.7\n",
      "PostExpSurvey: 46.4\n",
      "Welcome: 26.7\n",
      "StudyDesc: 16.6\n",
      "IntroSurvey: 11.9\n",
      "Instructions: 6.1\n",
      "PostPractice: 3.6\n",
      "\n",
      "qmwvwv\n",
      "practice-0:specific:a black cat napping on a sunny unpainted wood bench in front of a red wall \n",
      "final-0-0:specific:brown cat is crouching in the background of a glass of wine\n",
      "final-0-1:specific:brown towel is hanging on a sliding shower door\n",
      "final-0-2:specific:toilet paper roll is on top of the toilet in a mellow yellow painted bathroom \n",
      "practice-1:norecs:a man with black hair and glasses placing a large turkey into an upper oven\n",
      "final-1-0:norecs:wedding photographer is guiding a bride and groom as to how they should cut their cake\n",
      "final-1-1:norecs:man and two girls are flying butterfly kites on a very windy and cloudy day\n",
      "final-1-2:norecs:a train passes by a series of brightly blue and white station buildings\n",
      "practice-2:general:a black and red vehicle with bikes on top and people standing nearby with umbrellas. \n",
      "final-2-0:general:a red two story city bus is driving in a european city with pedestrians all around \n",
      "final-2-1:general:a tennis player is about to hit the tennis ball \n",
      "final-2-2:general:a surfer in a white and black suit is leaning forward and riding a wave \n",
      "\n",
      "intro-use_predictive: No\n",
      "postTask-0-techDiff: None\n",
      "postTask-1-techDiff: None\n",
      "postExp-helpfulRank-specific-most: Keyboard Design 3\n",
      "postExp-helpfulRank-specific-least: Keyboard Design 2\n",
      "postExp-helpfulRank-accurate-most: Keyboard Design 3\n",
      "postExp-helpfulRank-accurate-least: Keyboard Design 2\n",
      "postExp-helpfulRank-quick-most: Keyboard Design 3\n",
      "postExp-helpfulRank-quick-least: Keyboard Design 2\n",
      "postExp-verbalized_during: No\n",
      "postExp-age: 30\n",
      "postExp-gender: Female\n",
      "postExp-english_proficiency: Native or bilingual\n",
      "\n",
      "Total time: 13.6m\n",
      "ExperimentScreen: 550.7\n",
      "PostTaskSurvey: 112.8\n",
      "PostExpSurvey: 48.3\n",
      "TaskDescription: 41.2\n",
      "StudyDesc: 18.9\n",
      "IntroSurvey: 17.6\n",
      "Welcome: 12.1\n",
      "PostPractice: 10.6\n",
      "Instructions: 3.9\n",
      "\n",
      "77j4mf\n"
     ]
    },
    {
     "name": "stdout",
     "output_type": "stream",
     "text": [
      "practice-0:norecs:a black cat napping on a sunny unpainted wood bench in front of a red wall\n",
      "final-0-0:norecs:a glass of red wine sitting in fronf of a brown cat with brown stripes on a brown mat\n",
      "final-0-1:norecs:a beige towel hangs over the rightmost shower door both of which are wet with water\n",
      "final-0-2:norecs:a toilet with the seat down and a roll of toilet paper on top is next to a white sink\n",
      "practice-1:specific:a man with black hair and glasses placing a large turkey into an upper oven\n",
      "final-1-0:specific:a husband, bride and female all stand in front of a table holding a knife cutting a cake\n",
      "final-1-1:specific:two children and one adult stand on the beach holding kites and flying them into the sky \n",
      "final-1-2:specific:a train on the tracks passes a white house with blue paint before approaching another white house\n",
      "practice-2:general:a black and red vehicle with bikes on top and people standing nearby with umbrellas. \n",
      "final-2-0:general:a red double-decker bus passes a group of people to its lefg while a black car looks to pass\n",
      "final-2-1:general:a man with a tennis racket, white shirt and shoes holds his racket back in order to hit the ball\n",
      "final-2-2:general:a man with a white shirt and blue pants stands on a surfboard as the wave rises\n",
      "\n",
      "intro-use_predictive: Yes\n",
      "postTask-0-other: Annoying \n",
      "postExp-helpfulRank-specific-most: Keyboard Design 2\n",
      "postExp-helpfulRank-specific-least: Keyboard Design 1\n",
      "postExp-helpfulRank-accurate-most: Keyboard Design 2\n",
      "postExp-helpfulRank-accurate-least: Keyboard Design 1\n",
      "postExp-helpfulRank-quick-most: Keyboard Design 2\n",
      "postExp-helpfulRank-quick-least: Keyboard Design 1\n",
      "postExp-verbalized_during: No\n",
      "postExp-age: 23\n",
      "postExp-gender: Male\n",
      "postExp-english_proficiency: Native or bilingual\n",
      "postExp-other: This was very annoying\n",
      "\n",
      "Total time: 13.2m\n",
      "ExperimentScreen: 490.0\n",
      "PostTaskSurvey: 168.1\n",
      "Welcome: 43.3\n",
      "PostExpSurvey: 41.7\n",
      "TaskDescription: 24.0\n",
      "IntroSurvey: 11.3\n",
      "StudyDesc: 9.8\n",
      "PostPractice: 3.5\n",
      "Instructions: 3.3\n",
      "\n",
      "692c8j\n",
      "practice-0:norecs:a black cat napping on a sunny unpainted wood bench in front of a red wall\n",
      "final-0-0:norecs:a tabby cat standing behind a glass of wine stares at me\n",
      "final-0-1:norecs:a tan towel hangs in front of a glass shower\n",
      "final-0-2:norecs:a wrapped roll of toilet paper sits on top of a toilet in front if a metal bar and next to a porcelain sink. \n",
      "practice-1:general:a man with black hair and glasses placing a large turkey into an upper oven \n",
      "final-1-0:general:a woman in a wedding dress cuts a cake with her husband and the photographer. \n",
      "final-1-1:general:a man flies a butterfly kite with his two daughters. \n",
      "final-1-2:general:a train is approaching the station and passing in front of blue and white buildings \n",
      "practice-2:specific:a black and red vehicle with bikes on top and people standing nearby with umbrellas. \n",
      "final-2-0:specific:a double decker red bus drives down a crowded street with a car behind it. \n",
      "final-2-1:specific:a tennis player uses his backhand to swing at a tennis ball on a green and blue court \n",
      "final-2-2:specific:a blonde man in a wetsuit surfs a wave. \n",
      "\n",
      "intro-use_predictive: Yes\n",
      "postTask-0-techDiff: No\n",
      "postTask-1-techDiff: No\n",
      "postTask-1-other: No\n",
      "postTask-2-techDiff: No\n",
      "postExp-helpfulRank-specific-most: Keyboard Design 3\n",
      "postExp-helpfulRank-specific-least: Keyboard Design 1\n",
      "postExp-helpfulRank-accurate-most: Keyboard Design 3\n",
      "postExp-helpfulRank-accurate-least: Keyboard Design 1\n",
      "postExp-helpfulRank-quick-most: Keyboard Design 3\n",
      "postExp-helpfulRank-quick-least: Keyboard Design 1\n",
      "postExp-verbalized_during: Yes\n",
      "postExp-age: 27\n",
      "postExp-gender: Female\n",
      "postExp-english_proficiency: Native or bilingual\n",
      "postExp-techDiff: No \n",
      "\n",
      "Total time: 24.7m\n",
      "ExperimentScreen: 1063.2\n",
      "PostTaskSurvey: 185.6\n",
      "StudyDesc: 54.5\n",
      "Welcome: 51.7\n",
      "TaskDescription: 50.0\n",
      "PostExpSurvey: 47.3\n",
      "IntroSurvey: 17.5\n",
      "PostPractice: 8.2\n",
      "Instructions: 6.4\n",
      "\n",
      "gg65g6\n",
      "practice-0:general:a black cat napping on a sunny unpainted wood bench in front of a red wall \n",
      "final-0-0:general:a car is sitting on a table behind a wine glass with red wine in it. \n",
      "final-0-1:general:i see a standing shower with two hazy sliding glass doors and a towel hanging off of one. \n",
      "final-0-2:general:its a public restroom with a white sink and toilet. \n",
      "practice-1:norecs:a man with black hair and glasses placing a large turkey into an upper oven\n",
      "final-1-0:norecs:a bride and groom are both holding onto the same knife to cut their wedding cake. \n",
      "final-1-1:norecs:kids at a beach flying colourful kites. \n",
      "final-1-2:norecs:a train is pulling into the train station. \n",
      "practice-2:specific:a black and red vehicle with bikes on top and people standing nearby with umbrellas. \n",
      "final-2-0:specific:a busy city street with cars, a large red bus and pedestrians going about their day. \n",
      "final-2-1:specific:roger federer about to back hand a tennis ball in a tennis match. \n",
      "final-2-2:specific:a male surfer riding on his surfboard in the ocean. \n",
      "\n",
      "intro-use_predictive: Yes\n",
      "postTask-0-techDiff: None.\n",
      "postTask-1-techDiff: None.\n",
      "postTask-2-techDiff: None.\n",
      "postExp-helpfulRank-specific-most: Keyboard Design 3\n",
      "postExp-helpfulRank-specific-least: Keyboard Design 2\n",
      "postExp-helpfulRank-accurate-most: Keyboard Design 3\n",
      "postExp-helpfulRank-accurate-least: Keyboard Design 2\n",
      "postExp-helpfulRank-quick-most: Keyboard Design 3\n",
      "postExp-helpfulRank-quick-least: Keyboard Design 2\n",
      "postExp-verbalized_during: No\n",
      "postExp-age: 26\n",
      "postExp-gender: Male\n",
      "postExp-english_proficiency: Native or bilingual\n",
      "postExp-techDiff: None.\n",
      "postExp-other: No problems, hit was fine. Really liked the third board, it was the best one by far.\n",
      "\n",
      "Total time: 17.9m\n",
      "ExperimentScreen: 623.5\n",
      "PostTaskSurvey: 179.3\n",
      "PostExpSurvey: 117.0\n",
      "TaskDescription: 63.2\n",
      "Welcome: 31.6\n",
      "StudyDesc: 25.8\n",
      "IntroSurvey: 22.0\n",
      "PostPractice: 8.2\n",
      "Instructions: 3.9\n",
      "\n",
      "5c39rx\n",
      "practice-0:specific:a black cat napping on a sunny unpainted wood bench in front of a red wall \n",
      "final-0-0:specific:an orange cat is laying near a wine glass with red wine\n",
      "final-0-1:specific:a rusty and dirty shower in the bathroom has a tan towel over its handle\n",
      "final-0-2:specific:there is a roll of toilet paper on the lid of the toilet in a small bathroom \n",
      "practice-1:general:a man with black hair and glasses placing a large turkey into an upper oven \n",
      "final-1-0:general:a photographer is helping the bride and groom cut the cake \n",
      "final-1-1:general:a man in a red shirt is helping his children fly a large rainbow-colored kite \n",
      "final-1-2:general:an old fashioned train is coming into the station \n",
      "practice-2:norecs:a black and red vehicle with bikes on top and people standing nearby with umbrellas. \n",
      "final-2-0:norecs:a red double-decker bus is coming down the street\n",
      "final-2-1:norecs:a tennis player in a white shirt and tan shorts is about to hit back the tennis ball\n",
      "final-2-2:norecs:a surfer in a white and blue wetsuit is riding the waves\n",
      "\n",
      "intro-use_predictive: Yes\n",
      "postTask-2-techDiff: No issues\n",
      "postExp-helpfulRank-specific-most: Keyboard Design 2\n",
      "postExp-helpfulRank-specific-least: Keyboard Design 3\n",
      "postExp-helpfulRank-accurate-most: Keyboard Design 2\n",
      "postExp-helpfulRank-accurate-least: Keyboard Design 3\n",
      "postExp-helpfulRank-quick-most: Keyboard Design 2\n",
      "postExp-helpfulRank-quick-least: Keyboard Design 3\n",
      "postExp-verbalized_during: No\n",
      "postExp-age: 29\n",
      "postExp-gender: Male\n",
      "postExp-english_proficiency: Native or bilingual\n",
      "postExp-techDiff: No\n",
      "\n",
      "Total time: 16.6m\n",
      "ExperimentScreen: 560.4\n",
      "PostTaskSurvey: 140.0\n",
      "Welcome: 93.3\n",
      "TaskDescription: 82.2\n",
      "PostExpSurvey: 65.9\n",
      "StudyDesc: 24.9\n",
      "IntroSurvey: 17.0\n",
      "PostPractice: 9.2\n",
      "Instructions: 5.2\n",
      "\n",
      "fvwhpc\n",
      "practice-0:general:a black cat napping on a sunny unpainted wood bench in front of a red wall \n",
      "final-0-0:general:a cat looks up from behind a glass of red wine \n",
      "final-0-1:general:a sliding glass shower door with a bath mat hanging on it \n",
      "final-0-2:general:a view of a bathroom looking toward the toilet from behind the sink \n",
      "practice-1:specific:a man with black hair and glasses placing a large turkey into an upper oven \n",
      "final-1-0:specific:a black and white picture of a bride and groom cutting their wedding cake with a photographer helping them pose \n",
      "final-1-1:specific:six kites flying in a blue sky above a field \n",
      "final-1-2:specific:a train passing a few small buildings, perhaps the station \n",
      "practice-2:norecs:a black and red vehicle with bikes on top and people standing nearby with umbrellas. \n",
      "final-2-0:norecs:a red double-decker bus and car on a street running between old, ornate buildings\n",
      "final-2-1:norecs:a tennis player about to hit a tennis ball with a backhand\n",
      "final-2-2:norecs:a surfer in a wetsuit riding a fairly small wave\n",
      "\n",
      "intro-use_predictive: Yes\n",
      "postTask-0-techDiff: Nope\n",
      "postTask-0-other: Not yet\n",
      "postTask-1-techDiff: Nope\n",
      "postTask-1-other: Nope\n",
      "postTask-2-techDiff: Nope\n",
      "postTask-2-other: Not yet\n",
      "postExp-helpfulRank-specific-least: Keyboard Design 3\n",
      "postExp-helpfulRank-specific-most: Keyboard Design 2\n",
      "postExp-helpfulRank-accurate-most: Keyboard Design 2\n",
      "postExp-helpfulRank-accurate-least: Keyboard Design 3\n",
      "postExp-helpfulRank-quick-most: Keyboard Design 1\n",
      "postExp-helpfulRank-quick-least: Keyboard Design 3\n",
      "postExp-verbalized_during: No\n",
      "postExp-age: 41\n",
      "postExp-gender: Male\n",
      "postExp-english_proficiency: Native or bilingual\n",
      "postExp-techDiff: Nope\n",
      "postExp-other: Can I type this one on the computer? One: I love the fact that after going to this page straight from the HIT on my computer, the page stayed synced when I went to it from my phone. There are some HITs I've done that could really benefit from that little nicety. Two: I feel like the suggestions really tend toward making me lazy, to some small extent. Having to type it all, you have to think about what to say, whereas faced with suggested options, you might say to yourself \"Yeah, that'll do.\" Three: I didn't notice much of a difference between the first two keyboards, honestly. \n",
      "\n",
      "Total time: 23.9m\n",
      "ExperimentScreen: 730.5\n",
      "PostExpSurvey: 323.3\n",
      "PostTaskSurvey: 191.3\n",
      "Welcome: 104.4\n",
      "TaskDescription: 36.0\n",
      "IntroSurvey: 18.1\n",
      "StudyDesc: 15.1\n",
      "PostPractice: 7.1\n",
      "Instructions: 5.3\n",
      "\n",
      "4ggxj8\n"
     ]
    },
    {
     "name": "stdout",
     "output_type": "stream",
     "text": [
      "practice-0:norecs:a black cat napping on a sunny unpainted wood bench in front of a red wall\n",
      "final-0-0:norecs:a gray and beige cat looks upward as a half full glass of wine can be seen in the foreground\n",
      "final-0-1:norecs:a closed shower door with crackled glass encases some hanging colored toiletries\n",
      "final-0-2:norecs:a white bathroom sink and toilet with a mirror and a roll of unopened toilet paper\n",
      "practice-1:general:a man with black hair and glasses placing a large turkey into an upper oven \n",
      "final-1-0:general:a man in a tuxexo and a woman in a gown are show how to cut their wedding cake by a woman holding a camera \n",
      "final-1-1:general:a man in a red shirt and two children stand on the beach and fly kites\n",
      "final-1-2:general:an old train runs on the tracks in front of powder blue and white buildings\n",
      "practice-2:specific:a black and red vehicle with bikes on top and people standing nearby with umbrellas. \n",
      "final-2-0:specific:a gorgeous european city with tall gothic buildings and a red trolley on the street between them. at \n",
      "final-2-1:specific:a male tennis player in a pink shirt prepares to return a volley in toronto\n",
      "final-2-2:specific:a surfer in a full bodysuit rides a wave expertly \n",
      "\n",
      "intro-use_predictive: Yes\n",
      "postTask-0-techDiff: No\n",
      "postTask-0-other: This is an outstanding HIT!\n",
      "postTask-1-techDiff: No\n",
      "postTask-1-other: I like the auto fill as it helps boost speed\n",
      "postTask-2-techDiff: No\n",
      "postTask-2-other: No\n",
      "postExp-helpfulRank-specific-most: Keyboard Design 1\n",
      "postExp-helpfulRank-specific-least: Keyboard Design 3\n",
      "postExp-helpfulRank-accurate-least: Keyboard Design 3\n",
      "postExp-helpfulRank-accurate-most: Keyboard Design 1\n",
      "postExp-helpfulRank-quick-most: Keyboard Design 3\n",
      "postExp-helpfulRank-quick-least: Keyboard Design 1\n",
      "postExp-verbalized_during: No\n",
      "postExp-age: 43\n",
      "postExp-gender: Male\n",
      "postExp-english_proficiency: Native or bilingual\n",
      "postExp-techDiff: No\n",
      "postExp-other: It went well but my initial survey responses might not be in complete alignment with my final responses on this page.  That's because seeing my captions on this page gave me a better perspective with the benefit of hindsight.  Thanks for the HIT!  I did my best and hope the data is useful!\n",
      "\n",
      "Total time: 25.7m\n",
      "ExperimentScreen: 906.9\n",
      "PostExpSurvey: 290.3\n",
      "PostTaskSurvey: 181.2\n",
      "TaskDescription: 77.7\n",
      "Welcome: 28.9\n",
      "IntroSurvey: 22.0\n",
      "StudyDesc: 21.9\n",
      "PostPractice: 6.0\n",
      "Instructions: 5.5\n",
      "\n",
      "26w4jv\n",
      "practice-0:specific:a black cat napping on a sunny unpainted wood bench in front of a red wall \n",
      "final-0-0:specific:a cat sitting on top of the table next to a wine glass \n",
      "final-0-1:specific:a shower with a towel hanging on the handle of the door \n",
      "final-0-2:specific:a bathroom with a toilet and sink and with a roll of toilet paper on the toilet \n",
      "practice-1:general:a man with black hair and glasses placing a large turkey into an upper oven \n",
      "final-1-0:general:a man and woman getting assistance cutting their wedding cake \n",
      "final-1-1:general:a man assisting children with flying kites \n",
      "final-1-2:general:a train is traveling on the tracks through a marketplace \n",
      "practice-2:norecs:a black and red vehicle with bikes on top and people standing nearby with umbrellas. \n",
      "final-2-0:norecs:a red city bus heading  down the street\n",
      "final-2-1:norecs:a man with a tennis rackett forcefully swinging at the tennis ball\n",
      "final-2-2:norecs:a man-woman gracefully riding a wave using a surfboard. \n",
      "\n",
      "intro-use_predictive: Yes\n",
      "postTask-0-techDiff: None\n",
      "postTask-0-other: None\n",
      "postTask-1-techDiff: None\n",
      "postTask-1-other: None\n",
      "postTask-2-techDiff: None\n",
      "postTask-2-other: None\n",
      "postExp-helpfulRank-specific-most: Keyboard Design 1\n",
      "postExp-helpfulRank-specific-least: Keyboard Design 3\n",
      "postExp-helpfulRank-accurate-most: Keyboard Design 1\n",
      "postExp-helpfulRank-accurate-least: Keyboard Design 1\n",
      "postExp-helpfulRank-quick-most: Keyboard Design 1\n",
      "postExp-helpfulRank-quick-least: Keyboard Design 3\n",
      "postExp-verbalized_during: No\n",
      "postExp-age: 37\n",
      "postExp-gender: Female\n",
      "postExp-english_proficiency: Native or bilingual\n",
      "postExp-techDiff: None\n",
      "postExp-other: No, I really enjoyed this task ☺️\n",
      "\n",
      "Total time: 24.7m\n",
      "ExperimentScreen: 781.6\n",
      "PostTaskSurvey: 188.0\n",
      "Welcome: 156.7\n",
      "PostExpSurvey: 154.4\n",
      "TaskDescription: 88.2\n",
      "IntroSurvey: 46.4\n",
      "StudyDesc: 40.7\n",
      "PostPractice: 13.9\n",
      "Instructions: 12.7\n",
      "\n",
      "7g8xw8\n",
      "practice-0:general:a black cat napping on a sunny unpainted wood bench in front of a red wall\n",
      "final-0-0:general:a curious orange and black cat with yellow eyes is crouched on a tan sisal rug and is partly obstructed by a half full glass of red wine \n",
      "final-0-1:general:a tan towel is hanging from a chrome handle on a textured glass shower door\n",
      "final-0-2:general:in a drab yellow bathroom is a very clinical white sink with an unadorned mirror above and adjacent white toilet with a roll of toilet paper on top\n",
      "practice-1:norecs:a man with black hair and glasses placing a large turkey into an upper oven\n",
      "final-1-0:norecs:a woman in a bridal gown stands next to a man in a tuxedo in front of a weding cake while a photographer explains how to position her hand for a photi\n",
      "final-1-1:norecs:a man in a red shirt with two children are on a beach holding a multi-colored kite while other people fly kites in the background\n",
      "final-1-2:norecs:an old train is stopped on the train tracks in front of a lovely cape cod cottage with bright blue trim and adjacent matching cottages\n",
      "practice-2:specific:a black and red vehicle with bikes on top and people standing nearby with umbrellas. \n",
      "final-2-0:specific:a red double decker bus is traveling down a busy european street lined with historic buildings and people on the sidewalks. \n",
      "final-2-1:specific:a tennis player is swinging his racket on a green tennis court with writing on the grass. \n",
      "final-2-2:specific:a blonde surfer in a black and white wetsuit is riding a large wave in the water. \n",
      "\n",
      "intro-use_predictive: Yes\n",
      "postTask-0-techDiff: No\n",
      "postTask-0-other: Was a good experience \n",
      "postTask-1-techDiff: No\n",
      "postTask-1-other: This was absolutely horrible \n",
      "postTask-2-techDiff: No\n",
      "postTask-2-other: Way better than the last one \n",
      "postExp-helpfulRank-specific-most: Keyboard Design 1\n",
      "postExp-helpfulRank-specific-least: Keyboard Design 2\n",
      "postExp-helpfulRank-accurate-most: Keyboard Design 1\n",
      "postExp-helpfulRank-accurate-least: Keyboard Design 2\n",
      "postExp-helpfulRank-quick-most: Keyboard Design 1\n",
      "postExp-helpfulRank-quick-least: Keyboard Design 2\n",
      "postExp-verbalized_during: No\n",
      "postExp-age: 39\n",
      "postExp-gender: Male\n",
      "postExp-english_proficiency: Native or bilingual\n",
      "postExp-techDiff: No\n",
      "postExp-other: Everything was great. First and third were pretty equal. Second was awful.\n",
      "\n",
      "Total time: 33.7m\n",
      "ExperimentScreen: 1206.6\n",
      "Welcome: 417.2\n",
      "PostTaskSurvey: 158.6\n",
      "PostExpSurvey: 137.5\n",
      "TaskDescription: 52.0\n",
      "StudyDesc: 20.5\n",
      "IntroSurvey: 15.9\n",
      "PostPractice: 7.3\n",
      "Instructions: 4.5\n",
      "\n",
      "533r6c\n",
      "practice-0:general:a black cat napping on a sunny unpainted wood bench in front of a red wall \n",
      "final-0-0:general:a  brownish-orange cat with yellow eyes is look to his left past a glass of red wine  \n",
      "final-0-1:general:a person is taking a shower in a shower with very opaque sliding doors  \n",
      "final-0-2:general:a bathroom with one white sink and a white toilet with a toilet paper roll on the back lid sits next to the sink which has a mirror above it which shows the exact same toilet across the room \n",
      "practice-1:norecs:a man with black hair and glasses placing a large turkey into an upper oven\n",
      "final-1-0:norecs:a obvious dressed bride and groom at a wedding reception are cutting into their wedding cake with the help of the photographer whose hand is guiding theirs\n",
      "final-1-1:norecs:a man and his two children are flying multicolored kites on a sandy beach \n",
      "final-1-2:norecs:a brown colored train is parked at an outdoor train station with three blue and white buildings\n",
      "practice-2:specific:a black and red vehicle with bikes on top and people standing nearby with umbrellas. \n",
      "final-2-0:specific:a city view of a busy london street filled with a black car and a red double decker bus driving on the street. many people fill the sidewalk mostly the right side\n",
      "final-2-1:specific:a male tennis player is on a tennis court with the letters toronto on the mat. the man is swinging his red racket at a yellow tennis ball\n",
      "final-2-2:specific:a male surfer in a white shirt black sleeves and black pants is surfing waves on a white surfboard \n",
      "\n",
      "intro-use_predictive: Yes\n",
      "postExp-helpfulRank-specific-most: Keyboard Design 3\n",
      "postExp-helpfulRank-specific-least: Keyboard Design 2\n",
      "postExp-helpfulRank-accurate-most: Keyboard Design 3\n",
      "postExp-helpfulRank-accurate-least: Keyboard Design 2\n",
      "postExp-helpfulRank-quick-most: Keyboard Design 3\n",
      "postExp-helpfulRank-quick-least: Keyboard Design 2\n",
      "postExp-verbalized_during: Yes\n",
      "postExp-age: 28\n",
      "postExp-gender: Female\n",
      "postExp-english_proficiency: Native or bilingual\n",
      "postExp-other: Being able to not have to backspace to redo typing\n",
      "\n",
      "Total time: 67.0m\n",
      "ExperimentScreen: 1647.5\n",
      "Welcome: 855.5\n",
      "TaskDescription: 583.0\n",
      "PostTaskSurvey: 320.5\n",
      "PostExpSurvey: 241.0\n",
      "IntroSurvey: 175.9\n",
      "StudyDesc: 173.7\n",
      "PostPractice: 14.2\n",
      "Instructions: 9.2\n",
      "\n",
      "7jcm37\n",
      "practice-0:general:a black cat napping on a sunny unpainted wood bench in front of a red wall \n",
      "final-0-0:general:a half full glass of red wine on a table in front of a calico cat\n",
      "\n",
      "final-0-1:general:a beige towel hanging on a translucent glass shower door\n",
      "final-0-2:general:a white toilet and a white sink with a mirror above the sink \n",
      "practice-1:specific:a man with black hair and glasses placing a large turkey into an upper oven \n",
      "final-1-0:specific:a photographer holding the hand of a bride and groom as they cut their wedding cake \n",
      "final-1-1:specific:a msn helping two kids try to fly a kite on the beach \n",
      "final-1-2:specific:a train leaving a train station that has a blue and white building \n",
      "practice-2:norecs:a black and red vehicle with bikes on top and people standing nearby with umbrellas. \n",
      "final-2-0:norecs:a double decker bus driving down a street with old architecture buildings\n",
      "final-2-1:norecs:a tennis player returning a shot on a court in the rogers centre in toronto\n",
      "final-2-2:norecs:a man with blonde hair and a white and black wetsuit surfing a wave. \n",
      "\n",
      "intro-use_predictive: Yes\n",
      "postTask-0-techDiff: No\n",
      "postTask-0-other: No\n",
      "postTask-1-techDiff: No\n",
      "postTask-1-other: No\n",
      "postTask-2-techDiff: No\n",
      "postTask-2-other: No\n",
      "postExp-helpfulRank-specific-most: Keyboard Design 2\n",
      "postExp-helpfulRank-specific-least: Keyboard Design 3\n",
      "postExp-helpfulRank-accurate-most: Keyboard Design 2\n",
      "postExp-helpfulRank-accurate-least: Keyboard Design 3\n",
      "postExp-helpfulRank-quick-most: Keyboard Design 2\n",
      "postExp-helpfulRank-quick-least: Keyboard Design 3\n",
      "postExp-verbalized_during: No\n",
      "postExp-age: 46\n",
      "postExp-gender: Male\n",
      "postExp-english_proficiency: Native or bilingual\n",
      "postExp-techDiff: No\n",
      "postExp-other: It went smooth no issues \n",
      "\n",
      "Total time: 19.5m\n",
      "ExperimentScreen: 726.8\n",
      "PostTaskSurvey: 126.8\n",
      "PostExpSurvey: 87.7\n",
      "Welcome: 79.8\n",
      "TaskDescription: 74.6\n",
      "IntroSurvey: 36.2\n",
      "StudyDesc: 19.7\n",
      "PostPractice: 9.0\n",
      "Instructions: 8.5\n",
      "\n",
      "wf4c3m\n"
     ]
    },
    {
     "name": "stdout",
     "output_type": "stream",
     "text": [
      "practice-0:general:a black cat napping on a sunny unpainted wood bench in front of a red wall \n",
      "final-0-0:general:a wine glass with red wine less than half full and an orange striped tabby cat in the background behind the glass\n",
      "final-0-1:general:sliding glass, frosted, shower doors with a tan towel hanging on the handle and a white toilet with a blue floor rug\n",
      "final-0-2:general:a bathroom sink and mirror and toilet with a silver handle attached to the wall behind it\n",
      "practice-1:specific:a man with black hair and glasses placing a large turkey into an upper oven\n",
      "final-1-0:specific:a groom and bride slicing a white wedding cake on the banquet food table \n",
      "final-1-1:specific:some people on a sandy beach flying kites with a clear blue sky \n",
      "final-1-2:specific:some train tracks with a train on it traveling beside some white and blue buildings with green trees in the background and a clear blue sky \n",
      "practice-2:norecs:a black and red vehicle with bikes on top and people standing nearby with umbrellas. \n",
      "final-2-0:norecs:a downtown city street and buildings with a vehicle and a bus and some people standing and walking on the sidewalk\n",
      "final-2-1:norecs:a professional tennis court with a professional tennis player hitting at a tennis ball\n",
      "final-2-2:norecs:a surfer in the ocean surfing on a wave\n",
      "\n",
      "intro-use_predictive: Yes\n",
      "postTask-0-techDiff: No. Except what was already explained about the keyboard having to use backspace if I need to correct a word. It won't let me tsp the curser on the exact place I need to correct. But I'm assuming that's part of the keyboard experiment so I wouldn't classify that as technical difficulty. \n",
      "postTask-0-other: Pleasant and interesting experiment. \n",
      "postTask-1-techDiff: No\n",
      "postTask-1-other: N/a\n",
      "postTask-2-techDiff: I noticed the keyboard didn't offer word suggestions to choose from. \n",
      "postTask-2-other: N/a\n",
      "postExp-helpfulRank-specific-most: Keyboard Design 2\n",
      "postExp-helpfulRank-specific-least: Keyboard Design 3\n",
      "postExp-helpfulRank-accurate-most: Keyboard Design 2\n",
      "postExp-helpfulRank-accurate-least: Keyboard Design 3\n",
      "postExp-helpfulRank-quick-most: Keyboard Design 2\n",
      "postExp-helpfulRank-quick-least: Keyboard Design 3\n",
      "postExp-verbalized_during: Yes\n",
      "postExp-age: 46\n",
      "postExp-gender: Female\n",
      "postExp-english_proficiency: Native or bilingual\n",
      "postExp-techDiff: No. \n",
      "postExp-other: The experiment was pleasant. The keyboards one and two were very similar. I'm not sure I noticed a big difference between them. Definitely the option to pinpoint correct would be a good option as  is auto correct. But that's it that I can think of.\n",
      "\n",
      "Total time: 67.0m\n",
      "ExperimentScreen: 1730.7\n",
      "PostTaskSurvey: 712.7\n",
      "IntroSurvey: 439.3\n",
      "Welcome: 415.7\n",
      "PostExpSurvey: 394.0\n",
      "TaskDescription: 194.4\n",
      "StudyDesc: 73.7\n",
      "Instructions: 46.9\n",
      "PostPractice: 10.8\n",
      "\n",
      "3267ww\n",
      "practice-0:specific:a black cat napping on a sunny unpainted wood bench in front of a red wall \n",
      "final-0-0:specific:a cat is sitting behind a glass of wine\n",
      "\n",
      "final-0-1:specific:a toilet and a shower door hanging with a towel \n",
      "final-0-2:specific:a toilet with a roll of toilet paper and a sink \n",
      "practice-1:norecs:a man with black hair and glasses placing a large turkey into an upper oven\n",
      "final-1-0:norecs:a bride and a groom are cutting a cake with the help of a woman\n",
      "final-1-1:norecs:one adult and two kids are playing with kites\n",
      "final-1-2:norecs:a train is coming on a rail road\n",
      "practice-2:general:a black and red vehicle with bikes on top and people standing nearby with umbrellas. \n",
      "final-2-0:general:a red double-decker bus driving on the road, many people walking on the sidewalk\n",
      "\n",
      "final-2-1:general:an adult is holding a tennis racket trying to hit a ball \n",
      "final-2-2:general:a man is standing on water with skis \n",
      "\n",
      "intro-use_predictive: Yes\n",
      "postExp-helpfulRank-specific-most: Keyboard Design 1\n",
      "postExp-helpfulRank-specific-least: Keyboard Design 2\n",
      "postExp-helpfulRank-accurate-most: Keyboard Design 1\n",
      "postExp-helpfulRank-accurate-least: Keyboard Design 2\n",
      "postExp-helpfulRank-quick-most: Keyboard Design 1\n",
      "postExp-helpfulRank-quick-least: Keyboard Design 2\n",
      "postExp-verbalized_during: No\n",
      "postExp-age: 28\n",
      "postExp-gender: Female\n",
      "postExp-english_proficiency: Fluent\n",
      "\n",
      "Total time: 11.7m\n",
      "ExperimentScreen: 502.9\n",
      "PostTaskSurvey: 100.7\n",
      "PostExpSurvey: 50.7\n",
      "IntroSurvey: 18.6\n",
      "Welcome: 11.4\n",
      "Instructions: 6.0\n",
      "TaskDescription: 5.6\n",
      "PostPractice: 5.3\n",
      "StudyDesc: 2.0\n",
      "\n",
      "9f5xwx\n",
      "practice-0:specific:a black cat napping on a sunny unpainted wood bench in front of a red wall \n",
      "final-0-0:specific:a cat behind a glass vase \n",
      "final-0-1:specific:a shower door \n",
      "final-0-2:specific:a bathroom with a sink and a toilet \n",
      "practice-1:norecs:a man with black hair and glasses placing a large turkey into an upper oven\n",
      "final-1-0:norecs:an old timey wedding\n",
      "final-1-1:norecs:kites in the sky\n",
      "final-1-2:norecs:train on tracks next to homes\n",
      "practice-2:general:a black and red vehicle with bikes on top and people standing nearby with umbrellas. \n",
      "final-2-0:general:old european architecture \n",
      "final-2-1:general:man playing tennis \n",
      "final-2-2:general:man surfing \n",
      "\n",
      "intro-use_predictive: Yes\n",
      "postExp-helpfulRank-specific-most: Keyboard Design 1\n",
      "postExp-helpfulRank-specific-least: Keyboard Design 1\n",
      "postExp-helpfulRank-accurate-most: Keyboard Design 1\n",
      "postExp-helpfulRank-accurate-least: Keyboard Design 1\n",
      "postExp-helpfulRank-quick-most: Keyboard Design 1\n",
      "postExp-helpfulRank-quick-least: Keyboard Design 1\n",
      "postExp-verbalized_during: No\n",
      "postExp-age: 21\n",
      "postExp-gender: Male\n",
      "postExp-english_proficiency: Native or bilingual\n",
      "\n",
      "Total time: 122.4m\n",
      "ExperimentScreen: 7187.1\n",
      "PostTaskSurvey: 75.4\n",
      "PostExpSurvey: 36.7\n",
      "IntroSurvey: 11.7\n",
      "TaskDescription: 11.2\n",
      "StudyDesc: 10.6\n",
      "Welcome: 7.3\n",
      "Instructions: 3.3\n",
      "PostPractice: 2.7\n",
      "\n",
      "74v545\n",
      "practice-0:norecs:a black cat napping on a sunny unpainted wood bench in front of a red wall\n",
      "final-0-0:norecs:a glass of wine in front of a cat on a mat on a table\n",
      "final-0-1:norecs:a bathroom towel hanging on a shower door with a toilet in view\n",
      "final-0-2:norecs:a restroom containing a porcelain toilet and sink. a mirror sits above the sunk on the wall. \n",
      "practice-1:general:a man with black hair and glasses placing a large turkey into an upper oven \n",
      "final-1-0:general:a black and white photo of a wedding. the groom and a camerawoman are helping the bride cut the wedding cake on the table filled with glasses and chocloates. \n",
      "final-1-1:general:a family is flying several kites on a beach on a clear day. the kites are very colorful. \n",
      "final-1-2:general:the image shows a railroad track with a train on it further out in te distance. multiple white building hug the side if the track, with some woods behind them. \n",
      "practice-2:specific:a black and red vehicle with bikes on top and people standing nearby with umbrellas. \n",
      "final-2-0:specific:the photo shows a downtown scene of a city. there are old buildings everywhere, and a red bus is prominent in the middle of the road. many people walk down the sidewalks. \n",
      "final-2-1:specific:a tennis olayer is ready to hit the ball back to the opponent who is off screen. they are on a professional sponsored court. \n",
      "final-2-2:specific:a blonde surfer wearing a wetsuit rides an ocean wave. the water looks clear. \n",
      "\n",
      "intro-use_predictive: Yes\n",
      "postTask-0-techDiff: No difficulties here\n",
      "postTask-1-techDiff: Nope\n",
      "postTask-2-techDiff: No\n",
      "postExp-helpfulRank-specific-least: Keyboard Design 1\n",
      "postExp-helpfulRank-specific-most: Keyboard Design 2\n",
      "postExp-helpfulRank-accurate-most: Keyboard Design 3\n",
      "postExp-helpfulRank-accurate-least: Keyboard Design 2\n",
      "postExp-helpfulRank-quick-most: Keyboard Design 3\n",
      "postExp-helpfulRank-quick-least: Keyboard Design 1\n",
      "postExp-verbalized_during: No\n",
      "postExp-age: 26\n",
      "postExp-gender: Male\n",
      "postExp-english_proficiency: Native or bilingual\n",
      "postExp-techDiff: No\n",
      "\n",
      "Total time: 13.8m\n",
      "ExperimentScreen: 654.9\n",
      "PostTaskSurvey: 86.5\n",
      "PostExpSurvey: 52.7\n",
      "IntroSurvey: 9.6\n",
      "Instructions: 6.3\n",
      "PostPractice: 6.1\n",
      "Welcome: 5.0\n",
      "TaskDescription: 2.9\n",
      "StudyDesc: 1.3\n",
      "\n",
      "vxjcf7\n",
      "practice-0:general:a black cat napping on a sunny unpainted wood bench in front of a red wall \n",
      "final-0-0:general:an orange and brown cat looks at a glass of red wine\n",
      "final-0-1:general:a beige towel hangs up on the outside of an enclosed shower containing toiletries \n",
      "final-0-2:general:a toilet paper roll sits on a toilet next to a mirror and a white porcelain sink\n",
      "practice-1:specific:a man with black hair and glasses placing a large turkey into an upper oven \n",
      "final-1-0:specific:a bride and a groom are seen cutting a cake with a photographer in black and white \n",
      "final-1-1:specific:several multicolored kites with streamers are seen soaring above the heads of people\n",
      "final-1-2:specific:a brown train is seen at a station near some colorful buildings and trees \n",
      "practice-2:norecs:a black and red vehicle with bikes on top and people standing nearby with umbrellas. \n",
      "final-2-0:norecs:dozens of people line the gray sidewalks adjacent to tall buildings as a two deck bus and vehicle progress on the street\n",
      "final-2-1:norecs:a male tennis player wearing khacki shorts swings towards the yellow tennis ball on the green and blue court\n",
      "final-2-2:norecs:a surfer wearing black and white decends from a small wave in the blue ocean\n",
      "\n",
      "intro-use_predictive: Yes\n",
      "postExp-helpfulRank-specific-most: Keyboard Design 1\n",
      "postExp-helpfulRank-specific-least: Keyboard Design 3\n",
      "postExp-helpfulRank-accurate-most: Keyboard Design 2\n",
      "postExp-helpfulRank-accurate-least: Keyboard Design 3\n",
      "postExp-helpfulRank-quick-most: Keyboard Design 2\n",
      "postExp-helpfulRank-quick-least: Keyboard Design 3\n",
      "postExp-verbalized_during: No\n",
      "postExp-age: 34\n",
      "postExp-gender: Male\n",
      "postExp-english_proficiency: Native or bilingual\n",
      "postExp-other: Had to scroll to see the entire image, seems like it slowed down the task a bit. Other than that, task was fluid, progressed at a good pace.\n",
      "\n",
      "Total time: 37.8m\n",
      "ExperimentScreen: 936.1\n",
      "PostExpSurvey: 389.5\n",
      "IntroSurvey: 301.8\n",
      "Welcome: 208.4\n",
      "PostTaskSurvey: 207.4\n",
      "TaskDescription: 104.9\n",
      "StudyDesc: 72.5\n",
      "PostPractice: 39.4\n",
      "Instructions: 10.7\n"
     ]
    }
   ],
   "source": [
    "# summarize('2018-04-27')\n",
    "summarize('2018-05-02')"
   ]
  },
  {
   "cell_type": "code",
   "execution_count": 13,
   "metadata": {},
   "outputs": [],
   "source": [
    "trial_data = get_trial_data('2018-05-02')"
   ]
  },
  {
   "cell_type": "code",
   "execution_count": 14,
   "metadata": {},
   "outputs": [],
   "source": [
    "for trial in trial_data:\n",
    "    trial['text'] = trial['text'].strip()"
   ]
  },
  {
   "cell_type": "markdown",
   "metadata": {},
   "source": [
    "I had the wrong URL for one image when one person ran it."
   ]
  },
  {
   "cell_type": "code",
   "execution_count": 15,
   "metadata": {},
   "outputs": [],
   "source": [
    "# trial_data = [trial for trial in trial_data if not (trial['stimulus'] == 431140 and trial['participant'] == 'h52x67')]\n",
    "trial_data = [trial for trial in trial_data if not trial['participant'] == 'h52x67']"
   ]
  },
  {
   "cell_type": "code",
   "execution_count": 16,
   "metadata": {
    "scrolled": true
   },
   "outputs": [
    {
     "data": {
      "text/plain": [
       "162"
      ]
     },
     "execution_count": 16,
     "metadata": {},
     "output_type": "execute_result"
    }
   ],
   "source": [
    "len(list(toolz.pluck('text', trial_data)))"
   ]
  },
  {
   "cell_type": "code",
   "execution_count": 17,
   "metadata": {},
   "outputs": [
    {
     "data": {
      "text/plain": [
       "18"
      ]
     },
     "execution_count": 17,
     "metadata": {},
     "output_type": "execute_result"
    }
   ],
   "source": [
    "len(set(toolz.pluck('participant', trial_data)))"
   ]
  },
  {
   "cell_type": "code",
   "execution_count": 18,
   "metadata": {},
   "outputs": [],
   "source": [
    "# pd.DataFrame(trial_data).to_clipboard()"
   ]
  },
  {
   "cell_type": "markdown",
   "metadata": {},
   "source": [
    "# Generate nAFC task"
   ]
  },
  {
   "cell_type": "markdown",
   "metadata": {},
   "source": [
    "For each stimulus image, choose a foil set. It should be about equally difficult for each condition. Simplest approach: find the nearest caption to the concatenation of all captions we got for that image.\n",
    "\n",
    "TODO: should we be computing similarities of individual captions, rather than complete images?"
   ]
  },
  {
   "cell_type": "code",
   "execution_count": 19,
   "metadata": {},
   "outputs": [],
   "source": [
    "cap_vectorizer, caption_vecs = util.get_vectorized_captions()"
   ]
  },
  {
   "cell_type": "code",
   "execution_count": 20,
   "metadata": {},
   "outputs": [
    {
     "data": {
      "text/plain": [
       "(123287, 9952)"
      ]
     },
     "execution_count": 20,
     "metadata": {},
     "output_type": "execute_result"
    }
   ],
   "source": [
    "caption_vecs.shape"
   ]
  },
  {
   "cell_type": "code",
   "execution_count": 21,
   "metadata": {},
   "outputs": [
    {
     "data": {
      "text/plain": [
       "'http://images.cocodataset.org/train2017/000000570528.jpg'"
      ]
     },
     "execution_count": 21,
     "metadata": {},
     "output_type": "execute_result"
    }
   ],
   "source": [
    "id2url[570528]"
   ]
  },
  {
   "cell_type": "code",
   "execution_count": 22,
   "metadata": {},
   "outputs": [
    {
     "data": {
      "text/plain": [
       "dict_keys([275449, 396295, 431140, 227326, 200451, 223777, 247576, 71815, 240275])"
      ]
     },
     "execution_count": 22,
     "metadata": {},
     "output_type": "execute_result"
    }
   ],
   "source": [
    "concat_captions = {stimulus: '\\n'.join(toolz.pluck('text', trials))\n",
    "                   for stimulus, trials in toolz.groupby('stimulus', trial_data).items()}\n",
    "concat_captions.keys()"
   ]
  },
  {
   "cell_type": "code",
   "execution_count": 23,
   "metadata": {},
   "outputs": [
    {
     "name": "stdout",
     "output_type": "stream",
     "text": [
      "a small bath with a shower with a blue mat on the floor\n",
      "someome is using a shower but it's hard to see due to the opaque glass\n",
      "brown towel is hanging on a sliding shower door\n",
      "a beige towel hangs over the rightmost shower door both of which are wet with water\n",
      "a tan towel hangs in front of a glass shower\n",
      "i see a standing shower with two hazy sliding glass doors and a towel hanging off of one.\n",
      "a rusty and dirty shower in the bathroom has a tan towel over its handle\n",
      "a sliding glass shower door with a bath mat hanging on it\n",
      "a closed shower door with crackled glass encases some hanging colored toiletries\n",
      "a shower with a towel hanging on the handle of the door\n",
      "a tan towel is hanging from a chrome handle on a textured glass shower door\n",
      "a person is taking a shower in a shower with very opaque sliding doors\n",
      "a beige towel hanging on a translucent glass shower door\n",
      "sliding glass, frosted, shower doors with a tan towel hanging on the handle and a white toilet with a blue floor rug\n",
      "a toilet and a shower door hanging with a towel\n",
      "a shower door\n",
      "a bathroom towel hanging on a shower door with a toilet in view\n",
      "a beige towel hangs up on the outside of an enclosed shower containing toiletries\n"
     ]
    }
   ],
   "source": [
    "# print(concat_captions[71815])\n",
    "# print(concat_captions[275449])\n",
    "print(concat_captions[396295])"
   ]
  },
  {
   "cell_type": "markdown",
   "metadata": {},
   "source": [
    "For 275449, the foil images are fixated on the 'wine'. But unsurprising, since all but one caption mentions it, and it's probably less common than \"cat\"."
   ]
  },
  {
   "cell_type": "code",
   "execution_count": null,
   "metadata": {},
   "outputs": [],
   "source": []
  },
  {
   "cell_type": "code",
   "execution_count": 24,
   "metadata": {
    "scrolled": false
   },
   "outputs": [
    {
     "name": "stdout",
     "output_type": "stream",
     "text": [
      "a closed shower door with crackled glass encases some hanging colored toiletries\n"
     ]
    },
    {
     "data": {
      "text/html": [
       "<div style=\"display: inline-block;\"><div>restval/409842</div><img src=\"http://images.cocodataset.org/train2017/000000409842.jpg\"><div>A shower door with a white towel hanging from it.</div>\n",
       "<div>A towels hanging from a towels rack outside a shower.</div>\n",
       "<div>A white towel hanging on a glass shower door.</div>\n",
       "<div>A white towel hanging on a glass shower door.</div>\n",
       "<div>A frameless glass shower door with a white towel hanging from the handle. </div></div>\n",
       "<div style=\"display: inline-block;\"><div>restval/503200</div><img src=\"http://images.cocodataset.org/train2017/000000503200.jpg\"><div>A shower has a removable shower head and a glass door.</div>\n",
       "<div>Shower head in Bathroom with beige colored wall.</div>\n",
       "<div>A large shower with hanging faucet and hose</div>\n",
       "<div>A shower that has a detachable attachment. </div>\n",
       "<div>A bathroom with a see through glass shower</div></div>\n",
       "<div style=\"display: inline-block;\"><div>train/233737</div><img src=\"http://images.cocodataset.org/train2017/000000233737.jpg\"><div>A white sink and a shower in a small room.</div>\n",
       "<div>A white shower that has open glass doors.</div>\n",
       "<div>A shower with a glass door in the bathroom beside the sink and toilet. </div>\n",
       "<div>A view of a bathroom with black tile floor and a stand up shower with a glass door. </div>\n",
       "<div>A bathroom with a shower with see through floors . </div></div>\n",
       "<div style=\"display: inline-block;\"><div>train/90065</div><img src=\"http://images.cocodataset.org/train2017/000000090065.jpg\"><div>The glass shower door of the bathroom is closed.</div>\n",
       "<div>The interior of a bathroom with a glassed in shower.</div>\n",
       "<div>A shower with a frosted glass, next to a mirror and a sink.</div>\n",
       "<div>A bathroom area with sink, mirror and standup shower.</div>\n",
       "<div>A bathroom has a sink and shower with a frosted shower door.</div></div>\n",
       "<div style=\"display: inline-block;\"><div>restval/157084</div><img src=\"http://images.cocodataset.org/train2017/000000157084.jpg\"><div>A bathroom with a walk in shower next to a toilet.</div>\n",
       "<div>A bathroom with yellow tile on the shower wall </div>\n",
       "<div>A glass shower door near a sink counter.</div>\n",
       "<div>Walk in shower rooms with clear glass are popular. </div>\n",
       "<div>A bathroom with a shower that has all glass for the wall on the door side.</div></div>\n",
       "<div style=\"display: inline-block;\"><div>train/357656</div><img src=\"http://images.cocodataset.org/train2017/000000357656.jpg\"><div>A bathroom with a bathtub and a door made out of glass.</div>\n",
       "<div>Light shines into a bathroom with toilet and shower.</div>\n",
       "<div>A small bathroom with a glass fronted shower tub combo</div>\n",
       "<div>A shower in a bathroom with a glass door</div>\n",
       "<div>A bathroom has a glass door on the shower and tub.</div></div>\n",
       "<div style=\"display: inline-block;\"><div>val/396295</div><img src=\"http://images.cocodataset.org/train2017/000000396295.jpg\"><div>A bathroom shower with towel hanging from the door.</div>\n",
       "<div>A bathroom scene with a shower and toilet in view</div>\n",
       "<div>A shower with a sliding glass door in a small bathroom.</div>\n",
       "<div>A small dirty bathroom with walk in shower and toilet</div>\n",
       "<div>A white toilet and a shower in a room.</div></div>\n",
       "<div style=\"display: inline-block;\"><div>restval/510852</div><img src=\"http://images.cocodataset.org/train2017/000000510852.jpg\"><div>A double headed shower, with the curtain open.</div>\n",
       "<div>A glass cube window behind a glass shower door.</div>\n",
       "<div>a shower with a window a vanity and a mirror</div>\n",
       "<div>A white bathroom shower with glass brick window and glass shower doors.</div>\n",
       "<div>A bathroom with two shower heads, a window, a sink and towel in it. </div></div>\n",
       "<div style=\"display: inline-block;\"><div>train/571618</div><img src=\"http://images.cocodataset.org/train2017/000000571618.jpg\"><div>a bath room with a sink a stand up shower and a mirror</div>\n",
       "<div>A bathroom with black tile has a glass shower door.</div>\n",
       "<div>A small black tiled bathroom with a sink and shower tub combination</div>\n",
       "<div>A bathroom that has a shower with a glass door.</div>\n",
       "<div>A bathroom with a mirror, sink and glass pane shower.</div></div>\n",
       "<div style=\"display: inline-block;\"><div>train/220428</div><img src=\"http://images.cocodataset.org/train2017/000000220428.jpg\"><div>a bathroom with a sink and glass shower doors</div>\n",
       "<div>A large walk in shower sitting inside of a bathroom.</div>\n",
       "<div>A white bathroom has a large shower door.</div>\n",
       "<div>A bathroom with a sink and a glass shower door.</div>\n",
       "<div>A bathroom with a large shower and a vanity with  a mirror.</div></div>"
      ],
      "text/plain": [
       "<IPython.core.display.HTML object>"
      ]
     },
     "execution_count": 24,
     "metadata": {},
     "output_type": "execute_result"
    }
   ],
   "source": [
    "def get_similar_images(caption, n=10):\n",
    "    query_vec = cap_vectorizer.transform([caption])\n",
    "    similarity = caption_vecs.dot(query_vec.T).A.ravel()\n",
    "    return [images[idx]['cocoid'] for idx in np.argsort(similarity)[-n:][::-1]]\n",
    "query_caption = concat_captions[396295].replace('wine', '') #trial_data[0]['text']\n",
    "# query_caption = \"a rusty and dirty shower in the bathroom has a tan towel over its handle\"\n",
    "# query_caption = \"a sliding glass shower door with a bath mat hanging on it\"\n",
    "query_caption = \"a closed shower door with crackled glass encases some hanging colored toiletries\"\n",
    "print(query_caption)\n",
    "HTML(show_images(get_similar_images(query_caption)))"
   ]
  },
  {
   "cell_type": "code",
   "execution_count": 25,
   "metadata": {},
   "outputs": [
    {
     "data": {
      "text/plain": [
       "[510852, 212082, 372775, 396295, 409842, 262284, 233737, 503200, 490872, 98257]"
      ]
     },
     "execution_count": 25,
     "metadata": {},
     "output_type": "execute_result"
    }
   ],
   "source": [
    "def get_foil_set(*, stimulus, caption, rs):\n",
    "    similar_images = get_similar_images(caption, n=10)\n",
    "    if stimulus not in similar_images:\n",
    "        print(\"Inserting\", stimulus, 'into foil set')\n",
    "        similar_images[-1] = stimulus\n",
    "    rs.shuffle(similar_images)\n",
    "    return similar_images\n",
    "stimulus = trial_data[1]['stimulus']\n",
    "get_foil_set(stimulus=stimulus, caption=concat_captions[stimulus], rs=np.random.RandomState(1234))"
   ]
  },
  {
   "cell_type": "code",
   "execution_count": 26,
   "metadata": {},
   "outputs": [
    {
     "name": "stdout",
     "output_type": "stream",
     "text": [
      "Inserting 200451 into foil set\n",
      "Inserting 223777 into foil set\n",
      "Inserting 240275 into foil set\n",
      "Inserting 431140 into foil set\n"
     ]
    }
   ],
   "source": [
    "rs = np.random.RandomState(1234)\n",
    "foil_sets = {\n",
    "    stimulus: get_foil_set(stimulus=stimulus, caption=concat_captions[stimulus], rs=rs)\n",
    "    for stimulus in sorted(concat_captions.keys())}"
   ]
  },
  {
   "cell_type": "markdown",
   "metadata": {},
   "source": [
    "Group tasks so that (1) each annotator never gets the same target image twice and (2) each annotator never sees two captions from the same person. Do this by assigning trials round-robin to annotators:\n",
    "\n",
    "annotator 1: p0i0,p1i1,p2i2,...p9i9\n",
    "annotator 2: p10i0,p11i1,...p19i9\n",
    "\n",
    "or..."
   ]
  },
  {
   "cell_type": "code",
   "execution_count": 27,
   "metadata": {},
   "outputs": [],
   "source": [
    "import random\n",
    "def shuffled(lst):\n",
    "    lst = lst[:]\n",
    "    random.shuffle(lst)\n",
    "    return lst"
   ]
  },
  {
   "cell_type": "code",
   "execution_count": 28,
   "metadata": {},
   "outputs": [],
   "source": [
    "trials_by_img = toolz.groupby('stimulus', trial_data)\n",
    "trials_by_img = {stimulus: shuffled(trials) for stimulus, trials in trials_by_img.items()}\n",
    "annotators = []\n",
    "while not any(len(trials) == 0 for trials in trials_by_img.values()):\n",
    "    trials_for_annotator = []\n",
    "    for stimulus, trials in trials_by_img.items():\n",
    "        trials_for_annotator.append(trials.pop(0))\n",
    "    annotators.append(shuffled(trials_for_annotator))\n",
    "assert all(len(trials) == 0 for trials in trials_by_img.values())"
   ]
  },
  {
   "cell_type": "code",
   "execution_count": 29,
   "metadata": {},
   "outputs": [
    {
     "data": {
      "text/plain": [
       "{275449: [],\n",
       " 396295: [],\n",
       " 431140: [],\n",
       " 227326: [],\n",
       " 200451: [],\n",
       " 223777: [],\n",
       " 247576: [],\n",
       " 71815: [],\n",
       " 240275: []}"
      ]
     },
     "execution_count": 29,
     "metadata": {},
     "output_type": "execute_result"
    }
   ],
   "source": [
    "trials_by_img"
   ]
  },
  {
   "cell_type": "code",
   "execution_count": 30,
   "metadata": {},
   "outputs": [
    {
     "data": {
      "text/plain": [
       "[{'participant': '4ggxj8',\n",
       "  'block': 1,\n",
       "  'idx_in_block': 1,\n",
       "  'idx': 4,\n",
       "  'condition': 'general',\n",
       "  'text': 'a man in a red shirt and two children stand on the beach and fly kites',\n",
       "  'stimulus': 200451},\n",
       " {'participant': '3267ww',\n",
       "  'block': 2,\n",
       "  'idx_in_block': 1,\n",
       "  'idx': 7,\n",
       "  'condition': 'general',\n",
       "  'text': 'an adult is holding a tennis racket trying to hit a ball',\n",
       "  'stimulus': 71815},\n",
       " {'participant': 'qmwvwv',\n",
       "  'block': 2,\n",
       "  'idx_in_block': 0,\n",
       "  'idx': 6,\n",
       "  'condition': 'general',\n",
       "  'text': 'a red two story city bus is driving in a european city with pedestrians all around',\n",
       "  'stimulus': 247576},\n",
       " {'participant': '9f5xwx',\n",
       "  'block': 0,\n",
       "  'idx_in_block': 0,\n",
       "  'idx': 0,\n",
       "  'condition': 'specific',\n",
       "  'text': 'a cat behind a glass vase',\n",
       "  'stimulus': 275449},\n",
       " {'participant': '26w4jv',\n",
       "  'block': 0,\n",
       "  'idx_in_block': 1,\n",
       "  'idx': 1,\n",
       "  'condition': 'specific',\n",
       "  'text': 'a shower with a towel hanging on the handle of the door',\n",
       "  'stimulus': 396295},\n",
       " {'participant': '5c39rx',\n",
       "  'block': 1,\n",
       "  'idx_in_block': 0,\n",
       "  'idx': 3,\n",
       "  'condition': 'general',\n",
       "  'text': 'a photographer is helping the bride and groom cut the cake',\n",
       "  'stimulus': 227326},\n",
       " {'participant': 'qmwvwv',\n",
       "  'block': 2,\n",
       "  'idx_in_block': 2,\n",
       "  'idx': 8,\n",
       "  'condition': 'general',\n",
       "  'text': 'a surfer in a white and black suit is leaning forward and riding a wave',\n",
       "  'stimulus': 240275},\n",
       " {'participant': 'jvccx2',\n",
       "  'block': 1,\n",
       "  'idx_in_block': 2,\n",
       "  'idx': 5,\n",
       "  'condition': 'norecs',\n",
       "  'text': 'a train station with three building to the left it is a nice sunny day',\n",
       "  'stimulus': 223777},\n",
       " {'participant': '36x2r3',\n",
       "  'block': 0,\n",
       "  'idx_in_block': 2,\n",
       "  'idx': 2,\n",
       "  'condition': 'norecs',\n",
       "  'text': 'a clean bathroom with a white sink near a white toilet',\n",
       "  'stimulus': 431140}]"
      ]
     },
     "execution_count": 30,
     "metadata": {},
     "output_type": "execute_result"
    }
   ],
   "source": [
    "annotators[4]"
   ]
  },
  {
   "cell_type": "code",
   "execution_count": 32,
   "metadata": {},
   "outputs": [
    {
     "data": {
      "text/plain": [
       "18"
      ]
     },
     "execution_count": 32,
     "metadata": {},
     "output_type": "execute_result"
    }
   ],
   "source": [
    "len(annotators)"
   ]
  },
  {
   "cell_type": "code",
   "execution_count": 33,
   "metadata": {},
   "outputs": [],
   "source": [
    "def make_task(stimulus, text):\n",
    "    foil_set = foil_sets[stimulus]\n",
    "    return dict(\n",
    "        description=text,\n",
    "        correct_idx=foil_set.index(stimulus),\n",
    "        images=[id2url[idx] for idx in foil_set]\n",
    "    )"
   ]
  },
  {
   "cell_type": "code",
   "execution_count": 34,
   "metadata": {},
   "outputs": [
    {
     "data": {
      "text/plain": [
       "{'description': 'a black and white photo or a large man and a woman cutting thwir wedding cake',\n",
       " 'correct_idx': 7,\n",
       " 'images': ['http://images.cocodataset.org/train2017/000000352892.jpg',\n",
       "  'http://images.cocodataset.org/val2017/000000263969.jpg',\n",
       "  'http://images.cocodataset.org/train2017/000000564058.jpg',\n",
       "  'http://images.cocodataset.org/train2017/000000082990.jpg',\n",
       "  'http://images.cocodataset.org/train2017/000000466456.jpg',\n",
       "  'http://images.cocodataset.org/train2017/000000312289.jpg',\n",
       "  'http://images.cocodataset.org/train2017/000000086147.jpg',\n",
       "  'http://images.cocodataset.org/train2017/000000227326.jpg',\n",
       "  'http://images.cocodataset.org/train2017/000000119065.jpg',\n",
       "  'http://images.cocodataset.org/train2017/000000561454.jpg']}"
      ]
     },
     "execution_count": 34,
     "metadata": {},
     "output_type": "execute_result"
    }
   ],
   "source": [
    "trial = annotators[0][0]\n",
    "make_task(trial['stimulus'], trial['text'])"
   ]
  },
  {
   "cell_type": "code",
   "execution_count": 36,
   "metadata": {},
   "outputs": [],
   "source": [
    "pd.DataFrame([\n",
    "    json.dumps([make_task(trial['stimulus'], trial['text']) for trial in annotator_trials])\n",
    "    for annotator_trials in annotators], columns=['task']\n",
    ").to_csv(str(paths.data / 'anno-tasks' / 'guesses.csv'), index=False)"
   ]
  },
  {
   "cell_type": "markdown",
   "metadata": {},
   "source": [
    "### Load MTurk results so far"
   ]
  },
  {
   "cell_type": "code",
   "execution_count": null,
   "metadata": {},
   "outputs": [],
   "source": [
    "result_files = list((paths.data / 'mturk').glob('*-guesstheimage.csv'))\n",
    "mturk_nafc_results = (\n",
    "    pd.concat([pd.read_csv(str(f)) for f in result_files], axis=0, ignore_index=True)\n",
    "    if len(result_files)\n",
    "    else pd.DataFrame([], columns=['Answer.description', 'Answer.guesses', 'Input.correct_idx']))\n",
    "mturk_nafc_results = mturk_nafc_results.rename(columns={'Input.correct_idx': 'correctIdx'})\n",
    "print(\"Loaded\", len(mturk_nafc_results), \"guess task results\")"
   ]
  },
  {
   "cell_type": "code",
   "execution_count": null,
   "metadata": {},
   "outputs": [],
   "source": [
    "mturk_nafc_results['guesses'] = mturk_nafc_results['Answer.guesses'].map(json.loads)"
   ]
  },
  {
   "cell_type": "code",
   "execution_count": null,
   "metadata": {},
   "outputs": [],
   "source": [
    "mturk_nafc_results['guess_indices'] = [[guess['idx'] for guess in row.guesses] for row in mturk_nafc_results.itertuples()]\n",
    "mturk_nafc_results['guessed_right_sometime'] = [row.correctIdx in row.guess_indices for row in mturk_nafc_results.itertuples()]"
   ]
  },
  {
   "cell_type": "code",
   "execution_count": null,
   "metadata": {},
   "outputs": [],
   "source": [
    "mturk_nafc_results = mturk_nafc_results[mturk_nafc_results['guessed_right_sometime']]\n",
    "print(len(mturk_nafc_results), \"remain\")"
   ]
  },
  {
   "cell_type": "code",
   "execution_count": null,
   "metadata": {},
   "outputs": [],
   "source": [
    "mturk_nafc_results['num_guesses'] = [row.guess_indices.index(row.correctIdx) + 1 for row in mturk_nafc_results.itertuples()]"
   ]
  },
  {
   "cell_type": "code",
   "execution_count": null,
   "metadata": {},
   "outputs": [],
   "source": [
    "num_responses_by_caption = mturk_nafc_results.groupby('Answer.description').size().to_dict()"
   ]
  },
  {
   "cell_type": "markdown",
   "metadata": {},
   "source": [
    "### Generate tasks remaining"
   ]
  },
  {
   "cell_type": "code",
   "execution_count": null,
   "metadata": {},
   "outputs": [],
   "source": [
    "trials_todo = [trial for trial in trial_data if num_responses_by_caption.get(trial['text'], 0) < 3]\n",
    "len(trial_data), len(trials_todo)"
   ]
  },
  {
   "cell_type": "code",
   "execution_count": null,
   "metadata": {},
   "outputs": [],
   "source": [
    "i = 0\n",
    "while True:\n",
    "    out_fn = paths.top_level / 'HITs' / f'{datetime.date.today().isoformat()}-{i}-nAFC.csv'\n",
    "    if not out_fn.exists():\n",
    "        break\n",
    "    i += 1\n",
    "out_fn"
   ]
  },
  {
   "cell_type": "code",
   "execution_count": null,
   "metadata": {},
   "outputs": [],
   "source": [
    "rs = np.random.RandomState(1234)\n",
    "pd.DataFrame([make_task(trial, rs) for trial in trials_todo]).to_csv(out_fn, index=False)"
   ]
  },
  {
   "cell_type": "markdown",
   "metadata": {},
   "source": [
    "### Generate the actual HIT text..."
   ]
  },
  {
   "cell_type": "code",
   "execution_count": null,
   "metadata": {},
   "outputs": [],
   "source": [
    "from jinja2 import Template\n",
    "html = Template(open(paths.top_level / 'HITs' / '2018-05-04-image-description-match.jinja.html').read()).render(dict(\n",
    "    description='${description}',\n",
    "    images=['${image_%d_url}' % i for i in range(10)]))"
   ]
  },
  {
   "cell_type": "code",
   "execution_count": null,
   "metadata": {},
   "outputs": [],
   "source": [
    "html2 = html\n",
    "trial = trial_data[18+7*9]\n",
    "for k, v in make_task(trial['stimulus'], trial['text']).items():\n",
    "    html2 = html2.replace('${' + k + '}', str(v))\n",
    "HTML('<div style=\"height: 1000px; position: relative;\">'+html2+'</div>')\n",
    "# print(html2)"
   ]
  },
  {
   "cell_type": "code",
   "execution_count": null,
   "metadata": {},
   "outputs": [],
   "source": []
  },
  {
   "cell_type": "code",
   "execution_count": null,
   "metadata": {},
   "outputs": [],
   "source": []
  },
  {
   "cell_type": "code",
   "execution_count": null,
   "metadata": {},
   "outputs": [],
   "source": []
  },
  {
   "cell_type": "code",
   "execution_count": null,
   "metadata": {},
   "outputs": [],
   "source": []
  },
  {
   "cell_type": "code",
   "execution_count": null,
   "metadata": {},
   "outputs": [],
   "source": []
  },
  {
   "cell_type": "code",
   "execution_count": null,
   "metadata": {},
   "outputs": [],
   "source": [
    "import subprocess\n",
    "subprocess.Popen('pbcopy', stdin=subprocess.PIPE).communicate(html.encode('utf-8'))"
   ]
  },
  {
   "cell_type": "markdown",
   "metadata": {},
   "source": [
    "# Analyze MTurk results"
   ]
  },
  {
   "cell_type": "code",
   "execution_count": null,
   "metadata": {},
   "outputs": [],
   "source": [
    "mturk_nafc_results.groupby('Answer.description').num_guesses.mean().to_dict()"
   ]
  },
  {
   "cell_type": "code",
   "execution_count": null,
   "metadata": {},
   "outputs": [],
   "source": [
    "%matplotlib inline"
   ]
  },
  {
   "cell_type": "code",
   "execution_count": null,
   "metadata": {},
   "outputs": [],
   "source": [
    "(mturk_nafc_results['WorkTimeInSeconds'][mturk_nafc_results['WorkTimeInSeconds'] < 5*60] / 60).hist(bins=30)"
   ]
  },
  {
   "cell_type": "code",
   "execution_count": null,
   "metadata": {},
   "outputs": [],
   "source": [
    "np.median(mturk_nafc_results['WorkTimeInSeconds'] / 60) * 9/60"
   ]
  },
  {
   "cell_type": "code",
   "execution_count": null,
   "metadata": {},
   "outputs": [],
   "source": [
    "(\n",
    "    15 # participants\n",
    "    * 3 # conditions per participant\n",
    "    * 3 # captions per condition\n",
    "    - 1 # image not shown\n",
    ") * 3 # annotators per description\n"
   ]
  },
  {
   "cell_type": "code",
   "execution_count": null,
   "metadata": {},
   "outputs": [],
   "source": [
    "    * .24 # reward per annotator\n",
    ") * 1.2 # MTurk 20% fee"
   ]
  },
  {
   "cell_type": "markdown",
   "metadata": {},
   "source": [
    "Did the same worker see the same target image multiple times?"
   ]
  },
  {
   "cell_type": "code",
   "execution_count": null,
   "metadata": {},
   "outputs": [],
   "source": [
    "next(data.iterrows())[1]['Input.image_0_url']"
   ]
  },
  {
   "cell_type": "code",
   "execution_count": null,
   "metadata": {},
   "outputs": [],
   "source": [
    "mturk_nafc_results['target_image_url'] = [row['Input.image_'+str(row['correctIdx'])+\"_url\"] for _, row in mturk_nafc_results.iterrows()]"
   ]
  },
  {
   "cell_type": "code",
   "execution_count": null,
   "metadata": {},
   "outputs": [],
   "source": [
    "bad_worker_image_pairs = set()\n",
    "for worker_id, data in mturk_nafc_results.groupby('WorkerId'):\n",
    "    target_images = [row['target_image_url'] for _, row in data.iterrows()]\n",
    "    if len(target_images) != len(set(target_images)):\n",
    "#         print(worker_id)\n",
    "        value_counts = pd.Series(target_images).value_counts()\n",
    "        value_counts = value_counts[value_counts > 1]\n",
    "#         print(value_counts)\n",
    "        for img in value_counts.index:\n",
    "            bad_worker_image_pairs.add((worker_id, img))\n",
    "bad_worker_image_pairs\n",
    "\n",
    "annotation_row_is_bad = [\n",
    "    (row['WorkerId'], row['target_image_url']) in bad_worker_image_pairs\n",
    "    for _, row in mturk_nafc_results.iterrows()\n",
    "]\n",
    "mturk_nafc_results['row_is_bad'] = annotation_row_is_bad"
   ]
  },
  {
   "cell_type": "code",
   "execution_count": null,
   "metadata": {},
   "outputs": [],
   "source": [
    "mturk_nafc_results['row_is_bad'].mean()"
   ]
  },
  {
   "cell_type": "code",
   "execution_count": null,
   "metadata": {},
   "outputs": [],
   "source": [
    "guess_results = mturk_nafc_results[~mturk_nafc_results['row_is_bad']].rename(columns={'Answer.description': 'text'})"
   ]
  },
  {
   "cell_type": "code",
   "execution_count": null,
   "metadata": {},
   "outputs": [],
   "source": [
    "len(mturk_nafc_results)"
   ]
  },
  {
   "cell_type": "code",
   "execution_count": null,
   "metadata": {},
   "outputs": [],
   "source": [
    "len(guess_results), len(trial_data)"
   ]
  },
  {
   "cell_type": "code",
   "execution_count": null,
   "metadata": {},
   "outputs": [],
   "source": [
    "trial_data"
   ]
  },
  {
   "cell_type": "code",
   "execution_count": null,
   "metadata": {},
   "outputs": [],
   "source": [
    "annotator_level_data = pd.merge(\n",
    "    pd.DataFrame(trial_data).rename(columns={'participant': 'writer'}),\n",
    "    guess_results.rename(columns={'WorkerId': 'guesser'}).drop(['HITId', 'HITTypeId', 'Title', 'Description', 'Keywords', 'RequesterAnnotation', 'guesses'], axis=1),\n",
    "    on='text', validate='1:m', how='right')\n",
    "annotator_level_data\n",
    "    #.groupby().num_guesses.mean().to_frame('mean_num_guesses'),\n",
    "#     left_on='text', right_index=True).groupby('condition').mean_num_guesses.aggregate(['mean', 'std'])"
   ]
  },
  {
   "cell_type": "code",
   "execution_count": null,
   "metadata": {},
   "outputs": [],
   "source": [
    "annotator_level_data.columns"
   ]
  },
  {
   "cell_type": "code",
   "execution_count": null,
   "metadata": {},
   "outputs": [],
   "source": [
    "annotator_level_data.to_csv('annotator_level_data_2018-05-15.csv', index=False)"
   ]
  },
  {
   "cell_type": "code",
   "execution_count": null,
   "metadata": {},
   "outputs": [],
   "source": [
    "%load_ext rpy2.ipython"
   ]
  },
  {
   "cell_type": "code",
   "execution_count": null,
   "metadata": {},
   "outputs": [],
   "source": [
    "%%R\n",
    "library(lme4)\n",
    "library(ggplot2)"
   ]
  },
  {
   "cell_type": "code",
   "execution_count": null,
   "metadata": {},
   "outputs": [],
   "source": [
    "%%R -i annotator_level_data\n",
    "(model = lmer(num_guesses ~ condition + (1|writer) + (1|guesser) + (1|target_image_url), annotator_level_data))"
   ]
  },
  {
   "cell_type": "code",
   "execution_count": null,
   "metadata": {},
   "outputs": [],
   "source": [
    "%%R -i annotator_level_data\n",
    "(null_model = lmer(num_guesses ~ (1|writer) + (1|guesser) + (1|target_image_url), annotator_level_data))"
   ]
  },
  {
   "cell_type": "code",
   "execution_count": null,
   "metadata": {},
   "outputs": [],
   "source": [
    "%%R\n",
    "library(pbkrtest)"
   ]
  },
  {
   "cell_type": "code",
   "execution_count": null,
   "metadata": {},
   "outputs": [],
   "source": [
    "%%R\n",
    "(kr <- KRmodcomp(model, null_model))"
   ]
  },
  {
   "cell_type": "code",
   "execution_count": null,
   "metadata": {},
   "outputs": [],
   "source": [
    "%%R -i annotator_level_data\n",
    "(glm.full = glmer(num_guesses ~ condition + (1|writer) + (1|target_image_url), annotator_level_data, family=poisson()))\n",
    "#  (1|guesser)"
   ]
  },
  {
   "cell_type": "code",
   "execution_count": null,
   "metadata": {},
   "outputs": [],
   "source": [
    "%%R\n",
    "(glm.null = glmer(num_guesses ~ (1|writer) + (1|target_image_url), annotator_level_data, family=poisson()))"
   ]
  },
  {
   "cell_type": "code",
   "execution_count": null,
   "metadata": {},
   "outputs": [],
   "source": [
    "%%R\n",
    "confint(glm.full)"
   ]
  },
  {
   "cell_type": "code",
   "execution_count": null,
   "metadata": {},
   "outputs": [],
   "source": [
    "%%R\n",
    "anova(glm.full, glm.null, test=\"Chisq\")"
   ]
  },
  {
   "cell_type": "code",
   "execution_count": null,
   "metadata": {},
   "outputs": [],
   "source": []
  },
  {
   "cell_type": "code",
   "execution_count": null,
   "metadata": {},
   "outputs": [],
   "source": [
    "results = pd.DataFrame([dict(trial, specificity=specificity_lookup[trial['text'].strip()]) for trial in trial_data])\n",
    "for col in ['condition', 'participant']:\n",
    "    results[col] = results[col].astype('category')\n",
    "results.info()"
   ]
  },
  {
   "cell_type": "code",
   "execution_count": null,
   "metadata": {},
   "outputs": [],
   "source": [
    "results.groupby('condition').specificity.mean()"
   ]
  },
  {
   "cell_type": "code",
   "execution_count": null,
   "metadata": {},
   "outputs": [],
   "source": []
  },
  {
   "cell_type": "code",
   "execution_count": null,
   "metadata": {},
   "outputs": [],
   "source": [
    "pd.DataFrame(trial_data).sample(frac=1.0).sort_values('stimulus').to_csv('trial_data_by_stimulus.csv')"
   ]
  },
  {
   "cell_type": "code",
   "execution_count": null,
   "metadata": {},
   "outputs": [],
   "source": []
  },
  {
   "cell_type": "code",
   "execution_count": null,
   "metadata": {},
   "outputs": [],
   "source": []
  },
  {
   "cell_type": "markdown",
   "metadata": {},
   "source": [
    "# How many images does this caption apply to?"
   ]
  },
  {
   "cell_type": "code",
   "execution_count": null,
   "metadata": {},
   "outputs": [],
   "source": [
    "data = pd.read_csv(\"/Users/kcarnold/Downloads/Submitted Captions - Sheet1.csv\").iloc[:,:6]"
   ]
  },
  {
   "cell_type": "code",
   "execution_count": null,
   "metadata": {},
   "outputs": [],
   "source": [
    "data"
   ]
  },
  {
   "cell_type": "code",
   "execution_count": null,
   "metadata": {},
   "outputs": [],
   "source": [
    "data.shape"
   ]
  },
  {
   "cell_type": "code",
   "execution_count": null,
   "metadata": {},
   "outputs": [],
   "source": [
    "data = data.dropna().copy()\n",
    "data.shape"
   ]
  },
  {
   "cell_type": "code",
   "execution_count": null,
   "metadata": {},
   "outputs": [],
   "source": [
    "data['is_unique'] = (data.iloc[:,5] == '1')\n",
    "data.is_unique.mean()"
   ]
  },
  {
   "cell_type": "code",
   "execution_count": null,
   "metadata": {},
   "outputs": [],
   "source": [
    "data.groupby(['block', 'idx_in_block', 'condition']).is_unique.mean()"
   ]
  },
  {
   "cell_type": "code",
   "execution_count": null,
   "metadata": {},
   "outputs": [],
   "source": [
    "data['participant'] = data['participant'].astype('category')\n",
    "data['condition'] = data['condition'].astype('category')"
   ]
  },
  {
   "cell_type": "code",
   "execution_count": null,
   "metadata": {},
   "outputs": [],
   "source": [
    "data.groupby('condition').is_unique.mean()"
   ]
  },
  {
   "cell_type": "code",
   "execution_count": null,
   "metadata": {},
   "outputs": [],
   "source": [
    "%%R -i data\n",
    "transformed <- art(is_unique ~ condition + (1|participant), data=data)\n",
    "summary(transformed)\n",
    "anova(transformed)"
   ]
  },
  {
   "cell_type": "code",
   "execution_count": null,
   "metadata": {},
   "outputs": [],
   "source": [
    "example = trial_data[-1]['text']\n",
    "example"
   ]
  },
  {
   "cell_type": "markdown",
   "metadata": {},
   "source": [
    "Concepts: traffic light. COCO doesn't have \"pedestian crossing sign\". There are 4330 images with traffic lights in them in COCO. That's way too much. Looking at Visual Genome."
   ]
  },
  {
   "cell_type": "markdown",
   "metadata": {},
   "source": [
    "Visual Genome synsets are potentially best, but they're sometimes inaccurate. e.g., \"18 wheeler\" is \"cyclist.n.01\". So let's consider an object a match if matches either the synset or object name."
   ]
  },
  {
   "cell_type": "code",
   "execution_count": null,
   "metadata": {},
   "outputs": [],
   "source": [
    "vg_base = pathlib.Path('/Data/VisualGenome')\n",
    "image_objects = json.load(open(vg_base / 'objects.json'))"
   ]
  },
  {
   "cell_type": "code",
   "execution_count": null,
   "metadata": {},
   "outputs": [],
   "source": [
    "img_by_id = {img['image_id']: img for img in image_objects}"
   ]
  },
  {
   "cell_type": "code",
   "execution_count": null,
   "metadata": {},
   "outputs": [],
   "source": [
    "obj_synsets = json.load(open(vg_base / 'object_synsets.json'))"
   ]
  },
  {
   "cell_type": "code",
   "execution_count": null,
   "metadata": {},
   "outputs": [],
   "source": [
    "obj_attributes = json.load(open(vg_base / 'attributes.json'))"
   ]
  },
  {
   "cell_type": "code",
   "execution_count": null,
   "metadata": {},
   "outputs": [],
   "source": [
    "len(obj_attributes), len(image_objects)"
   ]
  },
  {
   "cell_type": "code",
   "execution_count": null,
   "metadata": {},
   "outputs": [],
   "source": [
    "obj_attributes[0].keys()"
   ]
  },
  {
   "cell_type": "code",
   "execution_count": null,
   "metadata": {},
   "outputs": [],
   "source": [
    "attributes_by_img = {att['image_id']: att['attributes'] for att in obj_attributes}"
   ]
  },
  {
   "cell_type": "code",
   "execution_count": null,
   "metadata": {},
   "outputs": [],
   "source": [
    "attributes_by_img[61514]"
   ]
  },
  {
   "cell_type": "code",
   "execution_count": null,
   "metadata": {},
   "outputs": [],
   "source": [
    "# def has_object(obj_name):\n",
    "#     return {\n",
    "#         img['image_id'] for img in image_objects\n",
    "#         if any(obj_name in '\\n'.join(obj['names']) for obj in img['objects'])\n",
    "#            }\n",
    "def has_object(imgid, obj_name):\n",
    "    return any(obj_name in '\\n'.join(obj['names']) for obj in attributes_by_img[imgid])"
   ]
  },
  {
   "cell_type": "code",
   "execution_count": null,
   "metadata": {},
   "outputs": [],
   "source": [
    "# def has_synset(obj_synset):\n",
    "#     return {\n",
    "#         img['image_id'] for img in image_objects\n",
    "#         if any(obj_synset in obj['synsets'] for obj in img['objects'])}\n",
    "def has_synset(imgid, obj_synset):\n",
    "    return any(obj_synset in obj['synsets'] for obj in attributes_by_img[imgid])"
   ]
  },
  {
   "cell_type": "code",
   "execution_count": null,
   "metadata": {},
   "outputs": [],
   "source": [
    "def has_obj_with_attr(imgid, obj_name, attr):\n",
    "    return any(\n",
    "        (obj_name in '\\n'.join(obj['names'])) and (attr in obj.get('attributes', []))\n",
    "        for obj in attributes_by_img[imgid])\n",
    "\n",
    "def has_synset_with_attr(imgid, obj_synset, attr):\n",
    "    return any(\n",
    "        (obj_synset in obj['synsets']) and (attr in obj.get('attributes', []))\n",
    "        for obj in attributes_by_img[imgid])\n",
    "\n",
    "def has_obj_without_attr(imgid, obj_name, attr):\n",
    "    return any(\n",
    "        (obj_name in '\\n'.join(obj['names'])) and (attr not in obj.get('attributes', []))\n",
    "        for obj in attributes_by_img[imgid])\n",
    "\n",
    "def has_synset_without_attr(imgid, obj_synset, attr):\n",
    "    return any(\n",
    "        (obj_synset in obj['synsets']) and (attr not in obj.get('attributes', []))\n",
    "        for obj in attributes_by_img[imgid])"
   ]
  },
  {
   "cell_type": "code",
   "execution_count": null,
   "metadata": {},
   "outputs": [],
   "source": [
    "obj_synsets['pedestrian sign']"
   ]
  },
  {
   "cell_type": "code",
   "execution_count": null,
   "metadata": {},
   "outputs": [],
   "source": [
    "# candidates = (\n",
    "#     (has_object('pedestrian sign') | has_object('pedestrian crossing sign') | has_object('crossing sign') | has_object('sign')) &\n",
    "#     (has_object('traffic light') | has_synset('traffic_light.n.01'))\n",
    "# )\n",
    "candidates = {\n",
    "    imgid for imgid in attributes_by_img.keys()\n",
    "    if (\n",
    "        (\n",
    "            has_object(imgid, 'pedestrian sign') |\n",
    "            has_object(imgid, 'pedestrian crossing sign') |\n",
    "            has_object(imgid, 'crossing sign') |\n",
    "            has_obj_with_attr(imgid, 'sign', 'yellow')\n",
    "        ) & (\n",
    "            has_obj_without_attr(imgid, 'traffic light', 'red') |\n",
    "            has_synset_without_attr(imgid, 'traffic_light.n.01', 'red')\n",
    "        ))}\n",
    "len(candidates)"
   ]
  },
  {
   "cell_type": "code",
   "execution_count": null,
   "metadata": {
    "scrolled": true
   },
   "outputs": [],
   "source": [
    "show_images(candidates)"
   ]
  },
  {
   "cell_type": "code",
   "execution_count": null,
   "metadata": {},
   "outputs": [],
   "source": []
  },
  {
   "cell_type": "code",
   "execution_count": null,
   "metadata": {},
   "outputs": [],
   "source": [
    "[img['image_id'] for img in image_objects if '61514' in img.get('image_url', '')]\n",
    "#Image(img_by_id[61514]['image_url'])"
   ]
  },
  {
   "cell_type": "code",
   "execution_count": null,
   "metadata": {},
   "outputs": [],
   "source": [
    "img_by_id[61514]"
   ]
  },
  {
   "cell_type": "markdown",
   "metadata": {},
   "source": [
    "# Measuring Specificity"
   ]
  },
  {
   "cell_type": "markdown",
   "metadata": {},
   "source": [
    "We use paired comparisons to analyze specificity and accuracy. For a target image $x$ and a fixed set of imposter images $Y$, the **specific accuracy** of a caption is the fraction of comparisons that chose $x$. \n",
    "\n",
    "We start with our dataset of paired comparisons."
   ]
  },
  {
   "cell_type": "code",
   "execution_count": null,
   "metadata": {},
   "outputs": [],
   "source": [
    "captions = [\n",
    "    \"exactly how are both the dog and the person going to fit on that skateboard?\",\n",
    "    \"the dark haired dog is trying to ride on the skateboard.\",\n",
    "    \"a person in shorts and a black dog both have one foot on a skateboard.\",\n",
    "    \"a dog with a black head and black legs and ears standing up has one black paw on a black skateboard with white wheels and a guy with black and white shoes and white socks has one foot on the skateboard also and there are bikes and other people in the background\"\n",
    "]"
   ]
  },
  {
   "cell_type": "code",
   "execution_count": null,
   "metadata": {},
   "outputs": [],
   "source": [
    "alternatives = 'dog-and-guy-on-skateboard just-dog-on-skateboard guy-on-skateboard-holding-dog dog-and-guy-next-to-skateboard'.split()\n",
    "target = alternatives[0]\n",
    "imposters = alternatives[1:]\n",
    "applies_to = [\n",
    "    'dog-and-guy-on-skateboard dog-and-guy-next-to-skateboard'.split(),\n",
    "    'just-dog-on-skateboard'.split(),\n",
    "    'dog-and-guy-on-skateboard'.split(),\n",
    "    'dog-and-guy-on-skateboard just-dog-on-skateboard guy-on-skateboard-holding-dog dog-and-guy-next-to-skateboard'.split()\n",
    "]\n",
    "applies_to = {cap: tgts for cap, tgts in zip(captions, applies_to)}\n",
    "applies_to"
   ]
  },
  {
   "cell_type": "code",
   "execution_count": null,
   "metadata": {},
   "outputs": [],
   "source": [
    "import random\n",
    "random.seed(0)\n",
    "pairs = [[target, imposter] for imposter in imposters]\n",
    "for pair in pairs:\n",
    "    random.shuffle(pair)\n",
    "pairs"
   ]
  },
  {
   "cell_type": "code",
   "execution_count": null,
   "metadata": {},
   "outputs": [],
   "source": []
  },
  {
   "cell_type": "code",
   "execution_count": null,
   "metadata": {},
   "outputs": [],
   "source": [
    "def fake_answer_pairs_for_caption(applies, pairs):\n",
    "    outcomes = []\n",
    "    for a, b in pairs:\n",
    "        choices = []\n",
    "        if a in applies:\n",
    "            choices.append(0)\n",
    "        if b in applies:\n",
    "            choices.append(1)\n",
    "        if len(choices) == 0:\n",
    "            choices = [0, 1]\n",
    "        outcomes.append(random.choice(choices))\n",
    "    return outcomes\n",
    "fake_answer_pairs_for_caption(applies_to[captions[0]], pairs)"
   ]
  },
  {
   "cell_type": "code",
   "execution_count": null,
   "metadata": {},
   "outputs": [],
   "source": [
    "fake_comparisons_data = []\n",
    "for caption in captions:\n",
    "    for annotator in range(5):\n",
    "        for pair, outcome in zip(pairs, fake_answer_pairs_for_caption(applies_to[caption], pairs)):\n",
    "            picked = pair[outcome]\n",
    "            fake_comparisons_data.append(dict(\n",
    "                caption=caption,\n",
    "                annotator=annotator,\n",
    "                pair=pair,\n",
    "                picked=picked))"
   ]
  },
  {
   "cell_type": "code",
   "execution_count": null,
   "metadata": {},
   "outputs": [],
   "source": [
    "data = pd.DataFrame(fake_comparisons_data)\n",
    "len(data)"
   ]
  },
  {
   "cell_type": "code",
   "execution_count": null,
   "metadata": {},
   "outputs": [],
   "source": [
    "data['picked_correct'] = data['picked'] == 'dog-and-guy-on-skateboard'\n",
    "data.groupby('caption').picked_correct.mean().sort_values()"
   ]
  },
  {
   "cell_type": "markdown",
   "metadata": {},
   "source": [
    "# Final analyses"
   ]
  },
  {
   "cell_type": "markdown",
   "metadata": {},
   "source": [
    "We find a main effect of writing condition on outcome specificity."
   ]
  },
  {
   "cell_type": "code",
   "execution_count": null,
   "metadata": {},
   "outputs": [],
   "source": [
    "%load_ext rpy2.ipython"
   ]
  },
  {
   "cell_type": "code",
   "execution_count": null,
   "metadata": {},
   "outputs": [],
   "source": [
    "results = pd.DataFrame([\n",
    "    dict(participant_id=participant_id, condition=condition)\n",
    "    for participant_id in 'abc def ghi'.split() for condition in 'general specific norecs'.split()\n",
    "])\n",
    "results['participant_id'] = results['participant_id'].astype('category')\n",
    "results['condition'] = results['condition'].astype('category')\n",
    "results['specificity'] = np.random.randn(len(results))"
   ]
  },
  {
   "cell_type": "code",
   "execution_count": null,
   "metadata": {},
   "outputs": [],
   "source": [
    "%%R\n",
    "#install.packages(\"ARTool\")\n",
    "library(ARTool)"
   ]
  },
  {
   "cell_type": "code",
   "execution_count": null,
   "metadata": {},
   "outputs": [],
   "source": [
    "%%R -i results\n",
    "summary(results)"
   ]
  },
  {
   "cell_type": "code",
   "execution_count": null,
   "metadata": {},
   "outputs": [],
   "source": [
    "%%R -i results\n",
    "transformed <- art(specificity ~ condition + (1|participant), data=results)\n",
    "summary(transformed)\n",
    "anova(transformed)"
   ]
  },
  {
   "cell_type": "code",
   "execution_count": null,
   "metadata": {},
   "outputs": [],
   "source": []
  }
 ],
 "metadata": {
  "kernelspec": {
   "display_name": "Python 3",
   "language": "python",
   "name": "python3"
  },
  "language_info": {
   "codemirror_mode": {
    "name": "ipython",
    "version": 3
   },
   "file_extension": ".py",
   "mimetype": "text/x-python",
   "name": "python",
   "nbconvert_exporter": "python",
   "pygments_lexer": "ipython3",
   "version": "3.6.4"
  }
 },
 "nbformat": 4,
 "nbformat_minor": 2
}
