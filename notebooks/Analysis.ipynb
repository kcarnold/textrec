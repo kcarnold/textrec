{
 "cells": [
  {
   "cell_type": "markdown",
   "metadata": {},
   "source": [
    "# Analysis pipeline"
   ]
  },
  {
   "cell_type": "markdown",
   "metadata": {},
   "source": [
    "## Preliminaries"
   ]
  },
  {
   "cell_type": "code",
   "execution_count": 400,
   "metadata": {},
   "outputs": [],
   "source": [
    "import os\n",
    "import datetime\n",
    "import json\n",
    "import pathlib\n",
    "import pandas as pd\n",
    "import numpy as np\n",
    "import matplotlib.pyplot as plt\n",
    "import seaborn as sns\n",
    "import toolz"
   ]
  },
  {
   "cell_type": "code",
   "execution_count": 401,
   "metadata": {},
   "outputs": [],
   "source": [
    "if 'get_ipython' in globals():\n",
    "    get_ipython().run_line_magic('matplotlib', 'inline')\n",
    "    from IPython.display import Image, HTML\n",
    "else:\n",
    "    HTML = lambda *a, **kw: None"
   ]
  },
  {
   "cell_type": "code",
   "execution_count": 402,
   "metadata": {},
   "outputs": [],
   "source": [
    "from textrec.paths import paths\n",
    "from textrec import analysis_util, util, notebook_util\n",
    "#reload(analysis_util), reload(util), reload(notebook_util), reload(automated_analyses)\n",
    "from textrec.notebook_util import images, id2img, id2url, show_images"
   ]
  },
  {
   "cell_type": "code",
   "execution_count": 403,
   "metadata": {},
   "outputs": [],
   "source": [
    "os.chdir(paths.top_level)"
   ]
  },
  {
   "cell_type": "code",
   "execution_count": 404,
   "metadata": {},
   "outputs": [],
   "source": [
    "# HTML(show_images([images_by_split['val'][0]['cocoid']]))"
   ]
  },
  {
   "cell_type": "markdown",
   "metadata": {},
   "source": [
    "## Load results of writing experiment"
   ]
  },
  {
   "cell_type": "markdown",
   "metadata": {},
   "source": [
    "Prerequisites: Run `textrec.logs_to_csv {batch_name}` and `textrec.gruntwork {batch_name}`."
   ]
  },
  {
   "cell_type": "code",
   "execution_count": 405,
   "metadata": {},
   "outputs": [],
   "source": [
    "batch = os.environ.get('BATCH', 'spec1')\n",
    "experiment_level_data = pd.read_csv(paths.analyzed / f'experiment_{batch}.csv')\n",
    "block_level_data = pd.read_csv(paths.analyzed / f'block_{batch}.csv')\n",
    "trial_level_data = pd.read_csv(paths.analyzed / f'trial_withmanual_{batch}.csv')\n",
    "helpful_ranks_by_condition = pd.read_csv(paths.analyzed / f'helpful_ranks_by_condition_{batch}.csv').set_index('index')"
   ]
  },
  {
   "cell_type": "code",
   "execution_count": 406,
   "metadata": {},
   "outputs": [],
   "source": [
    "def savefig(fn):\n",
    "    plt.savefig(str(paths.figures / f'{batch}_{fn}.pdf'), metadata={'creationDate': None})"
   ]
  },
  {
   "cell_type": "code",
   "execution_count": 407,
   "metadata": {},
   "outputs": [
    {
     "data": {
      "text/plain": [
       "{'female', 'male'}"
      ]
     },
     "execution_count": 407,
     "metadata": {},
     "output_type": "execute_result"
    }
   ],
   "source": [
    "set(experiment_level_data.gender)"
   ]
  },
  {
   "cell_type": "code",
   "execution_count": 408,
   "metadata": {},
   "outputs": [],
   "source": [
    "data = dict(\n",
    "    num_participants=len(set(trial_level_data.participant)),\n",
    "    non_male=(experiment_level_data.gender != 'male').sum().item(),\n",
    "    num_trials_per=trial_level_data.groupby('participant').size().mean().item(),\n",
    "    n_trials=len(trial_level_data))"
   ]
  },
  {
   "cell_type": "code",
   "execution_count": 409,
   "metadata": {},
   "outputs": [
    {
     "data": {
      "text/plain": [
       "{'general': 15, 'norecs': 6, 'specific': 54}"
      ]
     },
     "execution_count": 409,
     "metadata": {},
     "output_type": "execute_result"
    }
   ],
   "source": [
    "data['helpful_most_votes'] = helpful_ranks_by_condition.loc[:,[col for col in helpful_ranks_by_condition.columns if 'most' in col]].sum(axis=1).to_dict()\n",
    "data['helpful_most_votes']"
   ]
  },
  {
   "cell_type": "code",
   "execution_count": 410,
   "metadata": {},
   "outputs": [],
   "source": [
    "data['helpful_least_votes'] = helpful_ranks_by_condition.loc[:,[col for col in helpful_ranks_by_condition.columns if 'least' in col]].sum(axis=1).to_dict()"
   ]
  },
  {
   "cell_type": "code",
   "execution_count": 411,
   "metadata": {},
   "outputs": [
    {
     "data": {
      "text/html": [
       "Each of 24 participants (9 non-male) completed 9.0 trials per experiment, for a total of 216 trials."
      ],
      "text/plain": [
       "<IPython.core.display.HTML object>"
      ]
     },
     "execution_count": 411,
     "metadata": {},
     "output_type": "execute_result"
    }
   ],
   "source": [
    "HTML(\"Each of {num_participants} participants ({non_male} non-male) completed {num_trials_per} trials per experiment, for a total of {n_trials} trials.\".format_map(data))"
   ]
  },
  {
   "cell_type": "code",
   "execution_count": 412,
   "metadata": {},
   "outputs": [
    {
     "data": {
      "text/html": [
       "Participants spent 29.1 +- 24.9 minutes total."
      ],
      "text/plain": [
       "<IPython.core.display.HTML object>"
      ]
     },
     "execution_count": 412,
     "metadata": {},
     "output_type": "execute_result"
    }
   ],
   "source": [
    "HTML(\"Participants spent {total_time_mean:.1f} +- {total_time_std:.1f} minutes total.\".format(\n",
    "    total_time_mean=experiment_level_data.total_time.mean(),\n",
    "    total_time_std=experiment_level_data.total_time.std()))"
   ]
  },
  {
   "cell_type": "code",
   "execution_count": 413,
   "metadata": {},
   "outputs": [
    {
     "data": {
      "text/plain": [
       "Index(['participant', 'age', 'english_proficiency', 'gender',\n",
       "       'helpfulRank-accurate-least-condition',\n",
       "       'helpfulRank-accurate-least-idx', 'helpfulRank-accurate-most-condition',\n",
       "       'helpfulRank-accurate-most-idx', 'helpfulRank-quick-least-condition',\n",
       "       'helpfulRank-quick-least-idx', 'helpfulRank-quick-most-condition',\n",
       "       'helpfulRank-quick-most-idx', 'helpfulRank-specific-least-condition',\n",
       "       'helpfulRank-specific-least-idx', 'helpfulRank-specific-most-condition',\n",
       "       'helpfulRank-specific-most-idx', 'other', 'techDiff', 'total_time',\n",
       "       'use_predictive', 'verbalized_during', 'condition_order',\n",
       "       'num_trials_where_recs_used', 'rec_use_group', 'NFC', 'Extraversion'],\n",
       "      dtype='object')"
      ]
     },
     "execution_count": 413,
     "metadata": {},
     "output_type": "execute_result"
    }
   ],
   "source": [
    "experiment_level_data.columns"
   ]
  },
  {
   "cell_type": "code",
   "execution_count": null,
   "metadata": {},
   "outputs": [],
   "source": []
  },
  {
   "cell_type": "code",
   "execution_count": 414,
   "metadata": {},
   "outputs": [
    {
     "name": "stdout",
     "output_type": "stream",
     "text": [
      "used_predictive {'Yes': 22, 'No': 2}\n"
     ]
    }
   ],
   "source": [
    "data['used_predictive'] = {k.replace(' ', '_'): v for k, v in \n",
    "                                     experiment_level_data.use_predictive.value_counts().to_dict().items()}\n",
    "data['verbalized_during'] = experiment_level_data.verbalized_during.value_counts().to_dict()\n",
    "data['rec_use_group'] = experiment_level_data.rec_use_group.value_counts().to_dict()\n",
    "print('used_predictive', data['used_predictive'])"
   ]
  },
  {
   "cell_type": "code",
   "execution_count": 415,
   "metadata": {},
   "outputs": [
    {
     "data": {
      "text/html": [
       "\n",
       "Most participants reported (before beginning the study) that they used predictive typing on their phones:\n",
       "<table border=\"1\" class=\"dataframe\">\n",
       "  <thead>\n",
       "    <tr style=\"text-align: right;\">\n",
       "      <th></th>\n",
       "      <th>Used predictive typing?</th>\n",
       "    </tr>\n",
       "  </thead>\n",
       "  <tbody>\n",
       "    <tr>\n",
       "      <th>Yes</th>\n",
       "      <td>22</td>\n",
       "    </tr>\n",
       "    <tr>\n",
       "      <th>No</th>\n",
       "      <td>2</td>\n",
       "    </tr>\n",
       "  </tbody>\n",
       "</table>"
      ],
      "text/plain": [
       "<IPython.core.display.HTML object>"
      ]
     },
     "execution_count": 415,
     "metadata": {},
     "output_type": "execute_result"
    }
   ],
   "source": [
    "HTML(\"\"\"\n",
    "Most participants reported (before beginning the study) that they used predictive typing on their phones:\n",
    "\"\"\" + experiment_level_data.use_predictive.value_counts().to_frame(\"Used predictive typing?\").to_html())"
   ]
  },
  {
   "cell_type": "code",
   "execution_count": 416,
   "metadata": {},
   "outputs": [
    {
     "data": {
      "text/html": [
       "\n",
       "Several participants answered Yes to \"While you were writing, did you speak or whisper what you were writing?\":\n",
       "<table border=\"1\" class=\"dataframe\">\n",
       "  <thead>\n",
       "    <tr style=\"text-align: right;\">\n",
       "      <th></th>\n",
       "      <th>Verbalized?</th>\n",
       "    </tr>\n",
       "  </thead>\n",
       "  <tbody>\n",
       "    <tr>\n",
       "      <th>No</th>\n",
       "      <td>20</td>\n",
       "    </tr>\n",
       "    <tr>\n",
       "      <th>Yes</th>\n",
       "      <td>4</td>\n",
       "    </tr>\n",
       "  </tbody>\n",
       "</table>"
      ],
      "text/plain": [
       "<IPython.core.display.HTML object>"
      ]
     },
     "execution_count": 416,
     "metadata": {},
     "output_type": "execute_result"
    }
   ],
   "source": [
    "HTML(\"\"\"\n",
    "Several participants answered Yes to \"While you were writing, did you speak or whisper what you were writing?\":\n",
    "\"\"\" + experiment_level_data.verbalized_during.value_counts().to_frame(\"Verbalized?\").to_html())"
   ]
  },
  {
   "cell_type": "code",
   "execution_count": 417,
   "metadata": {},
   "outputs": [
    {
     "data": {
      "text/html": [
       "\n",
       "We collected 10 items each for NFC and Extraversion.\n",
       "We obtained a wider range of Extraversion than NFC.\n",
       "(Min and max scales normalized to 0 and 1 respectively.)"
      ],
      "text/plain": [
       "<IPython.core.display.HTML object>"
      ]
     },
     "execution_count": 417,
     "metadata": {},
     "output_type": "execute_result"
    },
    {
     "data": {
      "image/png": "[encoded data removed]",
      "text/plain": [
       "<matplotlib.figure.Figure at 0x1a45672fd0>"
      ]
     },
     "metadata": {},
     "output_type": "display_data"
    }
   ],
   "source": [
    "experiment_level_data.plot.scatter(x='Extraversion', y='NFC');\n",
    "plt.xlim([0, 1])\n",
    "plt.ylim([0, 1]);\n",
    "savefig('trait_distribution')\n",
    "HTML(\"\"\"\n",
    "We collected 10 items each for NFC and Extraversion.\n",
    "We obtained a wider range of Extraversion than NFC.\n",
    "(Min and max scales normalized to 0 and 1 respectively.)\"\"\")"
   ]
  },
  {
   "cell_type": "code",
   "execution_count": 418,
   "metadata": {},
   "outputs": [],
   "source": [
    "def latexify_conds(txt):\n",
    "    for cond in 'norecs specific general'.split():\n",
    "        txt = txt.replace(cond, f'\\\\S{cond}')\n",
    "    return txt"
   ]
  },
  {
   "cell_type": "code",
   "execution_count": 419,
   "metadata": {},
   "outputs": [
    {
     "name": "stdout",
     "output_type": "stream",
     "text": [
      "\\begin{tabular}{lr}\n",
      "\\toprule\n",
      "{} &  Num participants \\\\\n",
      "\\midrule\n",
      "\\Snorecs, \\Sgeneral, \\Sspecific &                 6 \\\\\n",
      "\\Snorecs, \\Sspecific, \\Sgeneral &                 4 \\\\\n",
      "\\Sgeneral, \\Sspecific, \\Snorecs &                 4 \\\\\n",
      "\\Sgeneral, \\Snorecs, \\Sspecific &                 4 \\\\\n",
      "\\Sspecific, \\Sgeneral, \\Snorecs &                 3 \\\\\n",
      "\\Sspecific, \\Snorecs, \\Sgeneral &                 3 \\\\\n",
      "\\bottomrule\n",
      "\\end{tabular}\n",
      "\n"
     ]
    }
   ],
   "source": [
    "covc = experiment_level_data.condition_order.value_counts()\n",
    "covc.name = 'Num participants'\n",
    "covc = covc.to_latex()\n",
    "covc = covc.replace(',', ', ')\n",
    "covc = latexify_conds(covc)\n",
    "print(covc)\n",
    "data['condition_order_table'] = covc"
   ]
  },
  {
   "cell_type": "code",
   "execution_count": 420,
   "metadata": {},
   "outputs": [
    {
     "data": {
      "text/html": [
       "When running this experiment, the experiment software was configured to randomize the order\n",
       "of conditions seen by each subject, not to attempt to counterbalance order.\n",
       "This was fixed in subsequent experiments.<table border=\"1\" class=\"dataframe\">\n",
       "  <thead>\n",
       "    <tr style=\"text-align: right;\">\n",
       "      <th></th>\n",
       "      <th>condition_order</th>\n",
       "    </tr>\n",
       "  </thead>\n",
       "  <tbody>\n",
       "    <tr>\n",
       "      <th>norecs,general,specific</th>\n",
       "      <td>6</td>\n",
       "    </tr>\n",
       "    <tr>\n",
       "      <th>norecs,specific,general</th>\n",
       "      <td>4</td>\n",
       "    </tr>\n",
       "    <tr>\n",
       "      <th>general,specific,norecs</th>\n",
       "      <td>4</td>\n",
       "    </tr>\n",
       "    <tr>\n",
       "      <th>general,norecs,specific</th>\n",
       "      <td>4</td>\n",
       "    </tr>\n",
       "    <tr>\n",
       "      <th>specific,general,norecs</th>\n",
       "      <td>3</td>\n",
       "    </tr>\n",
       "    <tr>\n",
       "      <th>specific,norecs,general</th>\n",
       "      <td>3</td>\n",
       "    </tr>\n",
       "  </tbody>\n",
       "</table>"
      ],
      "text/plain": [
       "<IPython.core.display.HTML object>"
      ]
     },
     "execution_count": 420,
     "metadata": {},
     "output_type": "execute_result"
    }
   ],
   "source": [
    "HTML(\"\"\"When running this experiment, the experiment software was configured to randomize the order\n",
    "of conditions seen by each subject, not to attempt to counterbalance order.\n",
    "This was fixed in subsequent experiments.\"\"\"\n",
    "     + experiment_level_data.condition_order.value_counts().to_frame().to_html())"
   ]
  },
  {
   "cell_type": "code",
   "execution_count": 421,
   "metadata": {},
   "outputs": [],
   "source": [
    "def summarize_means(df, by, outcome):\n",
    "    means = df.groupby(by)[outcome].mean()\n",
    "    data[f'{outcome}_means'] = means.to_dict()\n",
    "    return ', '.join(f'{name}={group_mean:.2f}' for name, group_mean in means.iteritems())"
   ]
  },
  {
   "cell_type": "code",
   "execution_count": 422,
   "metadata": {},
   "outputs": [],
   "source": [
    "def analyze_outcome(df, by, outcome):\n",
    "    plt.close('all')\n",
    "    sns.barplot(x=by, y=outcome, data=df, capsize=.2)\n",
    "    savefig(outcome)\n",
    "    return summarize_means(df, by, outcome)"
   ]
  },
  {
   "cell_type": "code",
   "execution_count": 423,
   "metadata": {},
   "outputs": [
    {
     "data": {
      "text/html": [
       "The average cognitive load was higher in the no-recommendations condition (general=10.62, norecs=15.96, specific=9.75)"
      ],
      "text/plain": [
       "<IPython.core.display.HTML object>"
      ]
     },
     "execution_count": 423,
     "metadata": {},
     "output_type": "execute_result"
    },
    {
     "data": {
      "image/png": "[encoded data removed]",
      "text/plain": [
       "<matplotlib.figure.Figure at 0x1a4b40a8d0>"
      ]
     },
     "metadata": {},
     "output_type": "display_data"
    }
   ],
   "source": [
    "sns.barplot(x='condition', y='TLX_sum', data=block_level_data, capsize=.2)\n",
    "HTML(\"The average cognitive load was higher in the no-recommendations condition ({})\".format(\n",
    "    analyze_outcome(block_level_data, 'condition', 'TLX_sum')))"
   ]
  },
  {
   "cell_type": "code",
   "execution_count": 424,
   "metadata": {},
   "outputs": [
    {
     "data": {
      "text/plain": [
       "'general=10.62, norecs=15.96, specific=9.75'"
      ]
     },
     "execution_count": 424,
     "metadata": {},
     "output_type": "execute_result"
    },
    {
     "data": {
      "image/png": "[encoded data removed]",
      "text/plain": [
       "<matplotlib.figure.Figure at 0x1a444e5668>"
      ]
     },
     "metadata": {},
     "output_type": "display_data"
    }
   ],
   "source": [
    "analyze_outcome(block_level_data, 'condition', 'TLX_sum')"
   ]
  },
  {
   "cell_type": "code",
   "execution_count": 425,
   "metadata": {},
   "outputs": [
    {
     "data": {
      "image/png": "[encoded data removed]",
      "text/plain": [
       "<matplotlib.figure.Figure at 0x1a226f8668>"
      ]
     },
     "metadata": {},
     "output_type": "display_data"
    }
   ],
   "source": [
    "plt.close('all')\n",
    "tlxen = 'mental physical temporal performance effort frustration'.split()\n",
    "fig, axs = plt.subplots(2, 3, figsize=(10,6), sharey=True)\n",
    "plt.subplots_adjust(wspace=.4, hspace=.3)\n",
    "for i, facet in enumerate(tlxen):\n",
    "    ax = axs.ravel()[i]\n",
    "    sns.barplot(x='condition', y=facet, data=block_level_data, capsize=.2, ax=ax)\n",
    "savefig('tlx_parts')"
   ]
  },
  {
   "cell_type": "code",
   "execution_count": 426,
   "metadata": {},
   "outputs": [
    {
     "data": {
      "text/html": [
       "There was no difference in text length between conditions (general=75.31, norecs=73.10, specific=76.26)."
      ],
      "text/plain": [
       "<IPython.core.display.HTML object>"
      ]
     },
     "execution_count": 426,
     "metadata": {},
     "output_type": "execute_result"
    },
    {
     "data": {
      "image/png": "[encoded data removed]",
      "text/plain": [
       "<matplotlib.figure.Figure at 0x1a45908dd8>"
      ]
     },
     "metadata": {},
     "output_type": "display_data"
    }
   ],
   "source": [
    "HTML(\"There was no difference in text length between conditions ({}).\".format(\n",
    "    analyze_outcome(trial_level_data, 'condition', 'num_chars')))"
   ]
  },
  {
   "cell_type": "code",
   "execution_count": 427,
   "metadata": {},
   "outputs": [
    {
     "data": {
      "text/plain": [
       "'general=14.94, norecs=14.53, specific=15.10'"
      ]
     },
     "execution_count": 427,
     "metadata": {},
     "output_type": "execute_result"
    },
    {
     "data": {
      "image/png": "[encoded data removed]",
      "text/plain": [
       "<matplotlib.figure.Figure at 0x1a45db1240>"
      ]
     },
     "metadata": {},
     "output_type": "display_data"
    }
   ],
   "source": [
    "analyze_outcome(trial_level_data, 'condition', 'num_words')"
   ]
  },
  {
   "cell_type": "code",
   "execution_count": 428,
   "metadata": {},
   "outputs": [
    {
     "data": {
      "text/plain": [
       "'general=0.14, norecs=0.25, specific=0.14'"
      ]
     },
     "execution_count": 428,
     "metadata": {},
     "output_type": "execute_result"
    },
    {
     "data": {
      "image/png": "[encoded data removed]",
      "text/plain": [
       "<matplotlib.figure.Figure at 0x1a45672ba8>"
      ]
     },
     "metadata": {},
     "output_type": "display_data"
    }
   ],
   "source": [
    "analyze_outcome(trial_level_data, 'condition', 'backspaces_per_char')"
   ]
  },
  {
   "cell_type": "code",
   "execution_count": 429,
   "metadata": {},
   "outputs": [
    {
     "data": {
      "text/plain": [
       "'general=0.00, norecs=0.00, specific=0.00'"
      ]
     },
     "execution_count": 429,
     "metadata": {},
     "output_type": "execute_result"
    },
    {
     "data": {
      "image/png": "[encoded data removed]",
      "text/plain": [
       "<matplotlib.figure.Figure at 0x1a4555d128>"
      ]
     },
     "metadata": {},
     "output_type": "display_data"
    }
   ],
   "source": [
    "analyze_outcome(trial_level_data, 'condition', 'uncorrected_errors_per_char')"
   ]
  },
  {
   "cell_type": "code",
   "execution_count": 430,
   "metadata": {},
   "outputs": [
    {
     "data": {
      "text/plain": [
       "'general=11.14, norecs=19.56, specific=11.89'"
      ]
     },
     "execution_count": 430,
     "metadata": {},
     "output_type": "execute_result"
    },
    {
     "data": {
      "image/png": "[encoded data removed]",
      "text/plain": [
       "<matplotlib.figure.Figure at 0x1a45731390>"
      ]
     },
     "metadata": {},
     "output_type": "display_data"
    }
   ],
   "source": [
    "analyze_outcome(trial_level_data, 'condition', 'num_tapBackspace')"
   ]
  },
  {
   "cell_type": "code",
   "execution_count": 431,
   "metadata": {},
   "outputs": [
    {
     "data": {
      "text/html": [
       "Participants made more errors (corrected + uncorrected) in the no-recommendations condition (general=11.36, norecs=19.74, specific=12.01)."
      ],
      "text/plain": [
       "<IPython.core.display.HTML object>"
      ]
     },
     "execution_count": 431,
     "metadata": {},
     "output_type": "execute_result"
    },
    {
     "data": {
      "image/png": "[encoded data removed]",
      "text/plain": [
       "<matplotlib.figure.Figure at 0x1a44f40da0>"
      ]
     },
     "metadata": {},
     "output_type": "display_data"
    }
   ],
   "source": [
    "sns.barplot(x='condition', y='all_errors', data=trial_level_data, capsize=.2)\n",
    "HTML(\"Participants made more errors (corrected + uncorrected) in the no-recommendations condition ({}).\".format(\n",
    "    summarize_means(trial_level_data, 'condition', 'all_errors')))"
   ]
  },
  {
   "cell_type": "code",
   "execution_count": 432,
   "metadata": {},
   "outputs": [
    {
     "data": {
      "text/html": [
       "Participants were slightly faster in the recommendations conditions (characters per second: general=1.92, norecs=1.71, specific=1.99)."
      ],
      "text/plain": [
       "<IPython.core.display.HTML object>"
      ]
     },
     "execution_count": 432,
     "metadata": {},
     "output_type": "execute_result"
    },
    {
     "data": {
      "image/png": "[encoded data removed]",
      "text/plain": [
       "<matplotlib.figure.Figure at 0x1a4503d470>"
      ]
     },
     "metadata": {},
     "output_type": "display_data"
    }
   ],
   "source": [
    "HTML(\"Participants were slightly faster in the recommendations conditions (characters per second: {}).\".format(\n",
    "    analyze_outcome(trial_level_data, 'condition', 'characters_per_sec')))"
   ]
  },
  {
   "cell_type": "code",
   "execution_count": 433,
   "metadata": {},
   "outputs": [
    {
     "data": {
      "text/html": [
       "Participants used available recommendations slightly more often when they were specific (use rate: general=0.20, norecs=nan, specific=0.28)."
      ],
      "text/plain": [
       "<IPython.core.display.HTML object>"
      ]
     },
     "execution_count": 433,
     "metadata": {},
     "output_type": "execute_result"
    },
    {
     "data": {
      "image/png": "[encoded data removed]",
      "text/plain": [
       "<matplotlib.figure.Figure at 0x1a441abb00>"
      ]
     },
     "metadata": {},
     "output_type": "display_data"
    }
   ],
   "source": [
    "sns.barplot(x='condition', y='rec_use_full_frac', data=trial_level_data, capsize=.2)\n",
    "HTML(\"Participants used available recommendations slightly more often when they were specific (use rate: {}).\".format(\n",
    "    summarize_means(trial_level_data, 'condition', 'rec_use_full_frac')))"
   ]
  },
  {
   "cell_type": "code",
   "execution_count": 434,
   "metadata": {},
   "outputs": [
    {
     "data": {
      "text/plain": [
       "'general=0.58, norecs=0.51, specific=0.56'"
      ]
     },
     "execution_count": 434,
     "metadata": {},
     "output_type": "execute_result"
    },
    {
     "data": {
      "image/png": "[encoded data removed]",
      "text/plain": [
       "<matplotlib.figure.Figure at 0x1a44a85d68>"
      ]
     },
     "metadata": {},
     "output_type": "display_data"
    }
   ],
   "source": [
    "analyze_outcome(trial_level_data, 'condition', 'extraneous_inputs_per_char')"
   ]
  },
  {
   "cell_type": "code",
   "execution_count": 435,
   "metadata": {},
   "outputs": [
    {
     "data": {
      "text/plain": [
       "'general=4.00, norecs=3.78, specific=3.91'"
      ]
     },
     "execution_count": 435,
     "metadata": {},
     "output_type": "execute_result"
    },
    {
     "data": {
      "image/png": "[encoded data removed]",
      "text/plain": [
       "<matplotlib.figure.Figure at 0x1a4cdadb38>"
      ]
     },
     "metadata": {},
     "output_type": "display_data"
    }
   ],
   "source": [
    "analyze_outcome(trial_level_data, 'condition', 'extraneous_inputs_boxcox')"
   ]
  },
  {
   "cell_type": "code",
   "execution_count": 436,
   "metadata": {},
   "outputs": [
    {
     "data": {
      "text/plain": [
       "'general=0.53, norecs=nan, specific=0.60'"
      ]
     },
     "execution_count": 436,
     "metadata": {},
     "output_type": "execute_result"
    },
    {
     "data": {
      "image/png": "[encoded data removed]",
      "text/plain": [
       "<matplotlib.figure.Figure at 0x1a4cd5efd0>"
      ]
     },
     "metadata": {},
     "output_type": "display_data"
    }
   ],
   "source": [
    "analyze_outcome(trial_level_data, 'condition', 'rec_appropriation_rate')"
   ]
  },
  {
   "cell_type": "code",
   "execution_count": 437,
   "metadata": {},
   "outputs": [
    {
     "data": {
      "text/plain": [
       "'general=-3.36, norecs=-3.82, specific=-3.30'"
      ]
     },
     "execution_count": 437,
     "metadata": {},
     "output_type": "execute_result"
    },
    {
     "data": {
      "image/png": "[encoded data removed]",
      "text/plain": [
       "<matplotlib.figure.Figure at 0x1a4cdad7f0>"
      ]
     },
     "metadata": {},
     "output_type": "display_data"
    }
   ],
   "source": [
    "analyze_outcome(trial_level_data, 'condition', 'logprob_unconditional')"
   ]
  },
  {
   "cell_type": "code",
   "execution_count": 438,
   "metadata": {},
   "outputs": [
    {
     "data": {
      "text/plain": [
       "'general=-3.26, norecs=-3.69, specific=-2.94'"
      ]
     },
     "execution_count": 438,
     "metadata": {},
     "output_type": "execute_result"
    },
    {
     "data": {
      "image/png": "[encoded data removed]",
      "text/plain": [
       "<matplotlib.figure.Figure at 0x1a4c66bcc0>"
      ]
     },
     "metadata": {},
     "output_type": "display_data"
    }
   ],
   "source": [
    "analyze_outcome(trial_level_data, 'condition', 'logprob_conditional')"
   ]
  },
  {
   "cell_type": "code",
   "execution_count": 439,
   "metadata": {},
   "outputs": [
    {
     "data": {
      "text/plain": [
       "'general=14.11, norecs=27.96, specific=16.93'"
      ]
     },
     "execution_count": 439,
     "metadata": {},
     "output_type": "execute_result"
    },
    {
     "data": {
      "image/png": "[encoded data removed]",
      "text/plain": [
       "<matplotlib.figure.Figure at 0x1a4b5a1be0>"
      ]
     },
     "metadata": {},
     "output_type": "display_data"
    }
   ],
   "source": [
    "analyze_outcome(trial_level_data, 'condition', 'perplexity_per_word_blind_to_image')"
   ]
  },
  {
   "cell_type": "code",
   "execution_count": null,
   "metadata": {},
   "outputs": [],
   "source": []
  },
  {
   "cell_type": "code",
   "execution_count": 440,
   "metadata": {},
   "outputs": [
    {
     "name": "stdout",
     "output_type": "stream",
     "text": [
      "None\n",
      "\n",
      "None\n",
      "\n",
      "Mone\n",
      "\n",
      "No\n",
      "\n",
      "None\n",
      "\n",
      "None\n",
      "\n",
      "No\n",
      "\n",
      "No issues\n",
      "\n",
      "No \n",
      "\n",
      "No\n",
      "\n",
      "None\n",
      "\n",
      "No\n",
      "\n",
      "No\n",
      "\n",
      "None\n",
      "\n",
      "None\n",
      "\n",
      "Nope\n",
      "\n",
      "None.\n",
      "\n",
      "No\n",
      "\n",
      "None\n",
      "\n",
      "None\n",
      "\n",
      "None\n",
      "\n",
      "None\n",
      "\n",
      "None\n",
      "\n",
      "No. \n"
     ]
    }
   ],
   "source": [
    "print('\\n\\n'.join(x for x in experiment_level_data['techDiff'] if x is not None))"
   ]
  },
  {
   "cell_type": "code",
   "execution_count": 441,
   "metadata": {},
   "outputs": [
    {
     "name": "stdout",
     "output_type": "stream",
     "text": [
      "No, I really enjoyed this task ☺️\n",
      "\n",
      "None\n",
      "\n",
      "None\n",
      "\n",
      "It went well but my initial survey responses might not be in complete alignment with my final responses on this page.  That's because seeing my captions on this page gave me a better perspective with the benefit of hindsight.  Thanks for the HIT!  I did my best and hope the data is useful!\n",
      "\n",
      "Being able to not have to backspace to redo typing\n",
      "\n",
      "None\n",
      "\n",
      "None\n",
      "\n",
      "None\n",
      "\n",
      "None\n",
      "\n",
      "None\n",
      "\n",
      "This was very annoying\n",
      "\n",
      "Everything was great. First and third were pretty equal. Second was awful.\n",
      "\n",
      "It went smooth no issues \n",
      "\n",
      "None\n",
      "\n",
      "Everything went smoothly. Thank you\n",
      "\n",
      "Can I type this one on the computer? One: I love the fact that after going to this page straight from the HIT on my computer, the page stayed synced when I went to it from my phone. There are some HITs I've done that could really benefit from that little nicety. Two: I feel like the suggestions really tend toward making me lazy, to some small extent. Having to type it all, you have to think about what to say, whereas faced with suggested options, you might say to yourself \"Yeah, that'll do.\" Three: I didn't notice much of a difference between the first two keyboards, honestly. \n",
      "\n",
      "No problems, hit was fine. Really liked the third board, it was the best one by far.\n",
      "\n",
      "I really enjoyed this experiment. Well done!! Thank you for considering my data.\n",
      "\n",
      "There were no problems in taking this study\n",
      "\n",
      "Use  my data\n",
      "\n",
      "None\n",
      "\n",
      "None\n",
      "\n",
      "Had to scroll to see the entire image, seems like it slowed down the task a bit. Other than that, task was fluid, progressed at a good pace.\n",
      "\n",
      "The experiment was pleasant. The keyboards one and two were very similar. I'm not sure I noticed a big difference between them. Definitely the option to pinpoint correct would be a good option as  is auto correct. But that's it that I can think of.\n"
     ]
    }
   ],
   "source": [
    "print('\\n\\n'.join(x for x in experiment_level_data['other'] if isinstance(x, str)))"
   ]
  },
  {
   "cell_type": "code",
   "execution_count": 442,
   "metadata": {},
   "outputs": [
    {
     "data": {
      "text/plain": [
       "Index(['participant', 'age', 'english_proficiency', 'gender',\n",
       "       'helpfulRank-accurate-least-condition',\n",
       "       'helpfulRank-accurate-least-idx', 'helpfulRank-accurate-most-condition',\n",
       "       'helpfulRank-accurate-most-idx', 'helpfulRank-quick-least-condition',\n",
       "       'helpfulRank-quick-least-idx',\n",
       "       ...\n",
       "       'corrected_tapstotype_general', 'corrected_idealrecuse_general',\n",
       "       'corrected_tapstotype_specific', 'corrected_idealrecuse_specific',\n",
       "       'corrected_tapstotype_gated', 'corrected_idealrecuse_gated',\n",
       "       'corrected_tapstotype_always', 'corrected_idealrecuse_always',\n",
       "       'corrected_tapstotype_cond', 'corrected_efficiency'],\n",
       "      dtype='object', length=111)"
      ]
     },
     "execution_count": 442,
     "metadata": {},
     "output_type": "execute_result"
    }
   ],
   "source": [
    "trial_level_data.columns"
   ]
  },
  {
   "cell_type": "code",
   "execution_count": 443,
   "metadata": {},
   "outputs": [],
   "source": [
    "import yaml"
   ]
  },
  {
   "cell_type": "code",
   "execution_count": 444,
   "metadata": {},
   "outputs": [],
   "source": [
    "data_fname = paths.analyzed / 'data.yaml'\n",
    "if data_fname.exists():\n",
    "    with open(data_fname, 'r') as f:\n",
    "        yaml_data = yaml.safe_load(f)\n",
    "else:\n",
    "    yaml_data = {}"
   ]
  },
  {
   "cell_type": "code",
   "execution_count": 445,
   "metadata": {},
   "outputs": [],
   "source": [
    "yaml_data[batch] = data"
   ]
  },
  {
   "cell_type": "code",
   "execution_count": 446,
   "metadata": {},
   "outputs": [],
   "source": [
    "with open(data_fname, 'w') as f:\n",
    "    yaml.safe_dump(yaml_data, f)"
   ]
  },
  {
   "cell_type": "code",
   "execution_count": 447,
   "metadata": {},
   "outputs": [
    {
     "ename": "AssertionError",
     "evalue": "",
     "output_type": "error",
     "traceback": [
      "\u001b[0;31m---------------------------------------------------------------------------\u001b[0m",
      "\u001b[0;31mAssertionError\u001b[0m                            Traceback (most recent call last)",
      "\u001b[0;32m<ipython-input-447-a871fdc9ebee>\u001b[0m in \u001b[0;36m<module>\u001b[0;34m()\u001b[0m\n\u001b[0;32m----> 1\u001b[0;31m \u001b[0;32massert\u001b[0m \u001b[0;32mFalse\u001b[0m\u001b[0;34m\u001b[0m\u001b[0m\n\u001b[0m",
      "\u001b[0;31mAssertionError\u001b[0m: "
     ]
    }
   ],
   "source": [
    "assert False"
   ]
  },
  {
   "cell_type": "code",
   "execution_count": null,
   "metadata": {},
   "outputs": [],
   "source": []
  },
  {
   "cell_type": "code",
   "execution_count": null,
   "metadata": {},
   "outputs": [],
   "source": []
  },
  {
   "cell_type": "code",
   "execution_count": null,
   "metadata": {},
   "outputs": [],
   "source": [
    "import pickle\n",
    "pickle.dump({batch: data}, open(paths.analyzed / 'data.pkl', 'wb'), -1)"
   ]
  },
  {
   "cell_type": "code",
   "execution_count": null,
   "metadata": {},
   "outputs": [],
   "source": [
    "num_details = pd.read_csv(paths.data / 'num_details_spec1.csv').rename(columns={\n",
    "    'image_id': 'stimulus',\n",
    "    'text': 'corrected_text'\n",
    "})"
   ]
  },
  {
   "cell_type": "code",
   "execution_count": null,
   "metadata": {},
   "outputs": [],
   "source": [
    "with_num_details = pd.merge(\n",
    "    trial_level_data,\n",
    "    num_details,\n",
    "    on=('stimulus', 'corrected_text'),\n",
    "#     right_on=('image_id', 'text'),\n",
    "    how='outer')"
   ]
  },
  {
   "cell_type": "code",
   "execution_count": null,
   "metadata": {},
   "outputs": [],
   "source": [
    "with_num_details"
   ]
  },
  {
   "cell_type": "code",
   "execution_count": null,
   "metadata": {},
   "outputs": [],
   "source": [
    "sns.barplot(x='condition', y='num_details', data=with_num_details, capsize=.2)"
   ]
  },
  {
   "cell_type": "code",
   "execution_count": null,
   "metadata": {},
   "outputs": [],
   "source": [
    "with_num_details.num_details.describe()"
   ]
  },
  {
   "cell_type": "code",
   "execution_count": null,
   "metadata": {},
   "outputs": [],
   "source": [
    "print('\\n'.join(with_num_details.sort_values('num_details').text.iloc[-5:]))"
   ]
  },
  {
   "cell_type": "code",
   "execution_count": null,
   "metadata": {},
   "outputs": [],
   "source": [
    "with_num_details.to_csv('with_num_details.csv')"
   ]
  },
  {
   "cell_type": "markdown",
   "metadata": {},
   "source": [
    "Bonus the most specific captions for each image. Some participants wrote the most specific captions for several images, so they get mulitple bonuses."
   ]
  },
  {
   "cell_type": "code",
   "execution_count": null,
   "metadata": {},
   "outputs": [],
   "source": [
    "with_num_details.sort_values('num_details', ascending=False).drop_duplicates(['stimulus']).loc[:,['participant', 'corrected_text', 'num_details']].groupby('participant').size() * 0.50"
   ]
  },
  {
   "cell_type": "code",
   "execution_count": null,
   "metadata": {},
   "outputs": [],
   "source": [
    "from textrec import onmt_model_2"
   ]
  },
  {
   "cell_type": "code",
   "execution_count": null,
   "metadata": {},
   "outputs": [],
   "source": [
    "def get_recs_cap(cocoid, context, prefix=None):\n",
    "    return onmt_model_2.get_recs('coco_cap', str(cocoid), context, prefix=prefix)\n",
    "\n",
    "def get_recs_lm(cocoid, context, prefix=None):\n",
    "    return onmt_model_2.get_recs('coco_lm', '.', context, prefix=prefix)"
   ]
  },
  {
   "cell_type": "code",
   "execution_count": null,
   "metadata": {},
   "outputs": [],
   "source": [
    "get_recs_cap(71815, 'a'.split(), prefix='t')"
   ]
  },
  {
   "cell_type": "code",
   "execution_count": null,
   "metadata": {},
   "outputs": [],
   "source": [
    "from functools import partial"
   ]
  },
  {
   "cell_type": "code",
   "execution_count": null,
   "metadata": {},
   "outputs": [],
   "source": [
    "txt = \"a tennis player swinging at a ball\"\n",
    "txt[:0].rsplit(' ', 1)"
   ]
  },
  {
   "cell_type": "code",
   "execution_count": null,
   "metadata": {},
   "outputs": [],
   "source": [
    "txt.rindex(' ')"
   ]
  },
  {
   "cell_type": "code",
   "execution_count": null,
   "metadata": {},
   "outputs": [],
   "source": [
    "def taps_to_type(rec_gen, txt):\n",
    "    actions = []\n",
    "    # Invariant: performing [actions] types txt[:idx]\n",
    "    idx = 0\n",
    "    while idx < len(txt):\n",
    "        sofar = txt[:idx]\n",
    "        if ' ' in sofar:\n",
    "            last_space_idx = sofar.rindex(' ')\n",
    "        else:\n",
    "            last_space_idx = -1\n",
    "        prefix = sofar[:last_space_idx + 1]\n",
    "        cur_word = sofar[last_space_idx + 1:]\n",
    "        cur_desired_word = txt[last_space_idx + 1:].split(' ', 1)[0]\n",
    "#         if cur_desired_word[-1] in ',.;-':\n",
    "#             cur_desired_word = cur_desired_word[:-1]\n",
    "#         print(repr(prefix), repr(cur_word), repr(cur_desired_word))\n",
    "        recs = rec_gen(onmt_model_2.tokenize(prefix), prefix=cur_word)\n",
    "        words = [word for word, rec in recs]\n",
    "        print(prefix, words)\n",
    "        if cur_desired_word in words:\n",
    "            actions.append(dict(type='rec', which=words.index(cur_desired_word), word=cur_desired_word))\n",
    "            idx = last_space_idx + 1 + len(cur_desired_word) + 1\n",
    "        else:\n",
    "            actions.append(dict(type='key', key=txt[idx]))\n",
    "            idx += 1\n",
    "        print(actions[-1])\n",
    "    return actions\n",
    "taps_to_type(partial(get_recs_cap, 71815), \"a young man wearing a red shirt and holding a white and red tennis racket\")"
   ]
  },
  {
   "cell_type": "code",
   "execution_count": null,
   "metadata": {},
   "outputs": [],
   "source": [
    "if False:\n",
    "    writer = pd.ExcelWriter('specificity_details.xlsx')\n",
    "    for stim, group in trial_level_data.groupby('stimulus'):\n",
    "        group.loc[:,['corrected_text']].to_excel(writer, str(stim))\n",
    "    writer.close()"
   ]
  },
  {
   "cell_type": "code",
   "execution_count": null,
   "metadata": {},
   "outputs": [],
   "source": [
    "if False:\n",
    "    for stim, txts in trial_level_data.groupby('stimulus').text:\n",
    "        print()\n",
    "        print(stim)\n",
    "        print('\\n'.join(txts))\n",
    "        txts.to_csv(f'{stim}.csv', index=False)"
   ]
  }
 ],
 "metadata": {
  "kernelspec": {
   "display_name": "Python 3",
   "language": "python",
   "name": "python3"
  },
  "language_info": {
   "codemirror_mode": {
    "name": "ipython",
    "version": 3
   },
   "file_extension": ".py",
   "mimetype": "text/x-python",
   "name": "python",
   "nbconvert_exporter": "python",
   "pygments_lexer": "ipython3",
   "version": "3.6.4"
  }
 },
 "nbformat": 4,
 "nbformat_minor": 2
}
