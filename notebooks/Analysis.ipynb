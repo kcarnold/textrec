{
 "cells": [
  {
   "cell_type": "markdown",
   "metadata": {},
   "source": [
    "# Analysis pipeline for Specificity"
   ]
  },
  {
   "cell_type": "markdown",
   "metadata": {},
   "source": [
    "## Preliminaries"
   ]
  },
  {
   "cell_type": "code",
   "execution_count": 1,
   "metadata": {},
   "outputs": [
    {
     "name": "stdout",
     "output_type": "stream",
     "text": [
      "/Users/kcarnold/code/textrec\n"
     ]
    }
   ],
   "source": [
    "%cd ~/code/textrec/"
   ]
  },
  {
   "cell_type": "code",
   "execution_count": 2,
   "metadata": {},
   "outputs": [],
   "source": [
    "import datetime\n",
    "import json\n",
    "import pathlib\n",
    "\n",
    "import pandas as pd\n",
    "import numpy as np\n",
    "import toolz\n",
    "from IPython.display import Image, HTML"
   ]
  },
  {
   "cell_type": "code",
   "execution_count": 3,
   "metadata": {},
   "outputs": [
    {
     "name": "stdout",
     "output_type": "stream",
     "text": [
      "Loading COCO captions\n",
      "Loading COCO id2url\n",
      "Done\n"
     ]
    },
    {
     "name": "stderr",
     "output_type": "stream",
     "text": [
      "/Users/kcarnold/anaconda3/envs/py36/lib/python3.6/site-packages/h5py/__init__.py:36: FutureWarning: Conversion of the second argument of issubdtype from `float` to `np.floating` is deprecated. In future, it will be treated as `np.float64 == np.dtype(float).type`.\n",
      "  from ._conv import register_converters as _register_converters\n"
     ]
    },
    {
     "name": "stdout",
     "output_type": "stream",
     "text": [
      "Loading ONMT models...\n",
      "coco_lm_adam_acc_46.00_ppl_16.32_e10_nooptim.pt\n",
      "Loading model parameters.\n",
      "coco_cap_adam_acc_48.73_ppl_12.56_e10_nooptim.pt\n",
      "Loading model parameters.\n",
      "Ready.\n",
      "Loading SpaCy...done\n",
      "Loading COCO captions\n",
      "Loading COCO id2url\n",
      "Done\n",
      "Loading SpaCy...done\n"
     ]
    },
    {
     "data": {
      "text/plain": [
       "(<module 'textrec.analysis_util' from '/Users/kcarnold/code/textrec/src/textrec/analysis_util.py'>,\n",
       " <module 'textrec.util' from '/Users/kcarnold/code/textrec/src/textrec/util.py'>,\n",
       " <module 'textrec.notebook_util' from '/Users/kcarnold/code/textrec/src/textrec/notebook_util.py'>,\n",
       " <module 'textrec.automated_analyses' from '/Users/kcarnold/code/textrec/src/textrec/automated_analyses.py'>)"
      ]
     },
     "execution_count": 3,
     "metadata": {},
     "output_type": "execute_result"
    }
   ],
   "source": [
    "from textrec.paths import paths\n",
    "from textrec import analysis_util, util, notebook_util, automated_analyses\n",
    "reload(analysis_util), reload(util), reload(notebook_util), reload(automated_analyses)"
   ]
  },
  {
   "cell_type": "code",
   "execution_count": 4,
   "metadata": {},
   "outputs": [],
   "source": [
    "from textrec.notebook_util import images, id2img, id2url, show_images"
   ]
  },
  {
   "cell_type": "code",
   "execution_count": 5,
   "metadata": {},
   "outputs": [],
   "source": [
    "# HTML(show_images([images_by_split['val'][0]['cocoid']]))"
   ]
  },
  {
   "cell_type": "code",
   "execution_count": 23,
   "metadata": {},
   "outputs": [],
   "source": [
    "%matplotlib inline"
   ]
  },
  {
   "cell_type": "markdown",
   "metadata": {},
   "source": [
    "## Load results of writing experiment"
   ]
  },
  {
   "cell_type": "code",
   "execution_count": 79,
   "metadata": {},
   "outputs": [],
   "source": [
    "%run -m textrec.batch_analysis"
   ]
  },
  {
   "cell_type": "code",
   "execution_count": 80,
   "metadata": {},
   "outputs": [
    {
     "data": {
      "text/plain": [
       "dict_keys(['2018-04-09', '2018-04-24', '2018-04-27', '2018-05-02-invalid', '2018-05-02-old', '2018-05-02'])"
      ]
     },
     "execution_count": 80,
     "metadata": {},
     "output_type": "execute_result"
    }
   ],
   "source": [
    "participants = get_participants_by_batch()\n",
    "participants.keys()"
   ]
  },
  {
   "cell_type": "code",
   "execution_count": 81,
   "metadata": {},
   "outputs": [],
   "source": [
    "batch = '2018-05-02'"
   ]
  },
  {
   "cell_type": "code",
   "execution_count": 82,
   "metadata": {},
   "outputs": [
    {
     "data": {
      "text/plain": [
       "25"
      ]
     },
     "execution_count": 82,
     "metadata": {},
     "output_type": "execute_result"
    }
   ],
   "source": [
    "len(participants[batch])"
   ]
  },
  {
   "cell_type": "code",
   "execution_count": 83,
   "metadata": {},
   "outputs": [
    {
     "name": "stdout",
     "output_type": "stream",
     "text": [
      "________________________________________________________________________________\n",
      "[Memory] Calling textrec.analysis_util.get_log_analysis_raw...\n",
      "get_log_analysis_raw('/Users/kcarnold/code/textrec/logs/jvccx2.jsonl', 1182696, git_rev='c2933d0', analysis_files={ 'analyze.js': '76f95f2156828639ea7c756411b37a4e03cdd403',\n",
      "  'run-analysis': '11083c5f51c5c469297e930142323920f09fe548',\n",
      "  'src/Analyzer.js': 'd79a1fdaecf06d56f65bb104d8c00eba820773f1'})\n",
      "_____________________________________________get_log_analysis_raw - 2.8s, 0.0min\n",
      "________________________________________________________________________________\n",
      "[Memory] Calling textrec.analysis_util.get_log_analysis_raw...\n",
      "get_log_analysis_raw('/Users/kcarnold/code/textrec/logs/36x2r3.jsonl', 930883, git_rev='c651507', analysis_files={ 'analyze.js': '76f95f2156828639ea7c756411b37a4e03cdd403',\n",
      "  'run-analysis': '11083c5f51c5c469297e930142323920f09fe548',\n",
      "  'src/Analyzer.js': 'd79a1fdaecf06d56f65bb104d8c00eba820773f1'})\n",
      "_____________________________________________get_log_analysis_raw - 2.6s, 0.0min\n",
      "________________________________________________________________________________\n",
      "[Memory] Calling textrec.analysis_util.get_log_analysis_raw...\n",
      "get_log_analysis_raw('/Users/kcarnold/code/textrec/logs/gg65g6.jsonl', 1128766, git_rev='c651507', analysis_files={ 'analyze.js': '76f95f2156828639ea7c756411b37a4e03cdd403',\n",
      "  'run-analysis': '11083c5f51c5c469297e930142323920f09fe548',\n",
      "  'src/Analyzer.js': 'd79a1fdaecf06d56f65bb104d8c00eba820773f1'})\n",
      "_____________________________________________get_log_analysis_raw - 2.8s, 0.0min\n",
      "________________________________________________________________________________\n",
      "[Memory] Calling textrec.analysis_util.get_log_analysis_raw...\n",
      "get_log_analysis_raw('/Users/kcarnold/code/textrec/logs/692c8j.jsonl', 1010672, git_rev='c651507', analysis_files={ 'analyze.js': '76f95f2156828639ea7c756411b37a4e03cdd403',\n",
      "  'run-analysis': '11083c5f51c5c469297e930142323920f09fe548',\n",
      "  'src/Analyzer.js': 'd79a1fdaecf06d56f65bb104d8c00eba820773f1'})\n",
      "_____________________________________________get_log_analysis_raw - 2.6s, 0.0min\n",
      "________________________________________________________________________________\n",
      "[Memory] Calling textrec.analysis_util.get_log_analysis_raw...\n",
      "get_log_analysis_raw('/Users/kcarnold/code/textrec/logs/qmwvwv.jsonl', 991608, git_rev='c651507', analysis_files={ 'analyze.js': '76f95f2156828639ea7c756411b37a4e03cdd403',\n",
      "  'run-analysis': '11083c5f51c5c469297e930142323920f09fe548',\n",
      "  'src/Analyzer.js': 'd79a1fdaecf06d56f65bb104d8c00eba820773f1'})\n",
      "_____________________________________________get_log_analysis_raw - 2.6s, 0.0min\n",
      "________________________________________________________________________________\n",
      "[Memory] Calling textrec.analysis_util.get_log_analysis_raw...\n",
      "get_log_analysis_raw('/Users/kcarnold/code/textrec/logs/77j4mf.jsonl', 1660899, git_rev='c651507', analysis_files={ 'analyze.js': '76f95f2156828639ea7c756411b37a4e03cdd403',\n",
      "  'run-analysis': '11083c5f51c5c469297e930142323920f09fe548',\n",
      "  'src/Analyzer.js': 'd79a1fdaecf06d56f65bb104d8c00eba820773f1'})\n",
      "_____________________________________________get_log_analysis_raw - 2.7s, 0.0min\n",
      "________________________________________________________________________________\n",
      "[Memory] Calling textrec.analysis_util.get_log_analysis_raw...\n",
      "get_log_analysis_raw('/Users/kcarnold/code/textrec/logs/4ggxj8.jsonl', 1235323, git_rev='25a4b8a', analysis_files={ 'analyze.js': '76f95f2156828639ea7c756411b37a4e03cdd403',\n",
      "  'run-analysis': '11083c5f51c5c469297e930142323920f09fe548',\n",
      "  'src/Analyzer.js': 'd79a1fdaecf06d56f65bb104d8c00eba820773f1'})\n",
      "_____________________________________________get_log_analysis_raw - 2.6s, 0.0min\n",
      "________________________________________________________________________________\n",
      "[Memory] Calling textrec.analysis_util.get_log_analysis_raw...\n",
      "get_log_analysis_raw('/Users/kcarnold/code/textrec/logs/5c39rx.jsonl', 769106, git_rev='25a4b8a', analysis_files={ 'analyze.js': '76f95f2156828639ea7c756411b37a4e03cdd403',\n",
      "  'run-analysis': '11083c5f51c5c469297e930142323920f09fe548',\n",
      "  'src/Analyzer.js': 'd79a1fdaecf06d56f65bb104d8c00eba820773f1'})\n",
      "_____________________________________________get_log_analysis_raw - 2.5s, 0.0min\n",
      "________________________________________________________________________________\n",
      "[Memory] Calling textrec.analysis_util.get_log_analysis_raw...\n",
      "get_log_analysis_raw('/Users/kcarnold/code/textrec/logs/fvwhpc.jsonl', 905497, git_rev='25a4b8a', analysis_files={ 'analyze.js': '76f95f2156828639ea7c756411b37a4e03cdd403',\n",
      "  'run-analysis': '11083c5f51c5c469297e930142323920f09fe548',\n",
      "  'src/Analyzer.js': 'd79a1fdaecf06d56f65bb104d8c00eba820773f1'})\n",
      "_____________________________________________get_log_analysis_raw - 2.6s, 0.0min\n",
      "________________________________________________________________________________\n",
      "[Memory] Calling textrec.analysis_util.get_log_analysis_raw...\n",
      "get_log_analysis_raw('/Users/kcarnold/code/textrec/logs/26w4jv.jsonl', 794527, git_rev='25a4b8a', analysis_files={ 'analyze.js': '76f95f2156828639ea7c756411b37a4e03cdd403',\n",
      "  'run-analysis': '11083c5f51c5c469297e930142323920f09fe548',\n",
      "  'src/Analyzer.js': 'd79a1fdaecf06d56f65bb104d8c00eba820773f1'})\n",
      "_____________________________________________get_log_analysis_raw - 2.5s, 0.0min\n",
      "________________________________________________________________________________\n",
      "[Memory] Calling textrec.analysis_util.get_log_analysis_raw...\n",
      "get_log_analysis_raw('/Users/kcarnold/code/textrec/logs/7g8xw8.jsonl', 1540490, git_rev='25a4b8a', analysis_files={ 'analyze.js': '76f95f2156828639ea7c756411b37a4e03cdd403',\n",
      "  'run-analysis': '11083c5f51c5c469297e930142323920f09fe548',\n",
      "  'src/Analyzer.js': 'd79a1fdaecf06d56f65bb104d8c00eba820773f1'})\n",
      "_____________________________________________get_log_analysis_raw - 2.8s, 0.0min\n",
      "________________________________________________________________________________\n",
      "[Memory] Calling textrec.analysis_util.get_log_analysis_raw...\n",
      "get_log_analysis_raw('/Users/kcarnold/code/textrec/logs/533r6c.jsonl', 1930753, git_rev='25a4b8a', analysis_files={ 'analyze.js': '76f95f2156828639ea7c756411b37a4e03cdd403',\n",
      "  'run-analysis': '11083c5f51c5c469297e930142323920f09fe548',\n",
      "  'src/Analyzer.js': 'd79a1fdaecf06d56f65bb104d8c00eba820773f1'})\n",
      "_____________________________________________get_log_analysis_raw - 2.8s, 0.0min\n",
      "________________________________________________________________________________\n",
      "[Memory] Calling textrec.analysis_util.get_log_analysis_raw...\n",
      "get_log_analysis_raw('/Users/kcarnold/code/textrec/logs/74v545.jsonl', 1646485, git_rev='25a4b8a', analysis_files={ 'analyze.js': '76f95f2156828639ea7c756411b37a4e03cdd403',\n",
      "  'run-analysis': '11083c5f51c5c469297e930142323920f09fe548',\n",
      "  'src/Analyzer.js': 'd79a1fdaecf06d56f65bb104d8c00eba820773f1'})\n",
      "_____________________________________________get_log_analysis_raw - 2.9s, 0.0min\n",
      "________________________________________________________________________________\n",
      "[Memory] Calling textrec.analysis_util.get_log_analysis_raw...\n",
      "get_log_analysis_raw('/Users/kcarnold/code/textrec/logs/vxjcf7.jsonl', 1383299, git_rev='25a4b8a', analysis_files={ 'analyze.js': '76f95f2156828639ea7c756411b37a4e03cdd403',\n",
      "  'run-analysis': '11083c5f51c5c469297e930142323920f09fe548',\n",
      "  'src/Analyzer.js': 'd79a1fdaecf06d56f65bb104d8c00eba820773f1'})\n",
      "_____________________________________________get_log_analysis_raw - 2.9s, 0.0min\n",
      "________________________________________________________________________________\n",
      "[Memory] Calling textrec.analysis_util.get_log_analysis_raw...\n",
      "get_log_analysis_raw('/Users/kcarnold/code/textrec/logs/9f5xwx.jsonl', 491600, git_rev='25a4b8a', analysis_files={ 'analyze.js': '76f95f2156828639ea7c756411b37a4e03cdd403',\n",
      "  'run-analysis': '11083c5f51c5c469297e930142323920f09fe548',\n",
      "  'src/Analyzer.js': 'd79a1fdaecf06d56f65bb104d8c00eba820773f1'})\n",
      "_____________________________________________get_log_analysis_raw - 2.4s, 0.0min\n",
      "________________________________________________________________________________\n",
      "[Memory] Calling textrec.analysis_util.get_log_analysis_raw...\n",
      "get_log_analysis_raw('/Users/kcarnold/code/textrec/logs/3267ww.jsonl', 468147, git_rev='25a4b8a', analysis_files={ 'analyze.js': '76f95f2156828639ea7c756411b37a4e03cdd403',\n",
      "  'run-analysis': '11083c5f51c5c469297e930142323920f09fe548',\n",
      "  'src/Analyzer.js': 'd79a1fdaecf06d56f65bb104d8c00eba820773f1'})\n"
     ]
    },
    {
     "name": "stdout",
     "output_type": "stream",
     "text": [
      "_____________________________________________get_log_analysis_raw - 2.4s, 0.0min\n",
      "________________________________________________________________________________\n",
      "[Memory] Calling textrec.analysis_util.get_log_analysis_raw...\n",
      "get_log_analysis_raw('/Users/kcarnold/code/textrec/logs/wf4c3m.jsonl', 1780009, git_rev='25a4b8a', analysis_files={ 'analyze.js': '76f95f2156828639ea7c756411b37a4e03cdd403',\n",
      "  'run-analysis': '11083c5f51c5c469297e930142323920f09fe548',\n",
      "  'src/Analyzer.js': 'd79a1fdaecf06d56f65bb104d8c00eba820773f1'})\n",
      "_____________________________________________get_log_analysis_raw - 2.7s, 0.0min\n",
      "________________________________________________________________________________\n",
      "[Memory] Calling textrec.analysis_util.get_log_analysis_raw...\n",
      "get_log_analysis_raw('/Users/kcarnold/code/textrec/logs/7jcm37.jsonl', 808574, git_rev='25a4b8a', analysis_files={ 'analyze.js': '76f95f2156828639ea7c756411b37a4e03cdd403',\n",
      "  'run-analysis': '11083c5f51c5c469297e930142323920f09fe548',\n",
      "  'src/Analyzer.js': 'd79a1fdaecf06d56f65bb104d8c00eba820773f1'})\n",
      "_____________________________________________get_log_analysis_raw - 2.5s, 0.0min\n",
      "________________________________________________________________________________\n",
      "[Memory] Calling textrec.analysis_util.get_log_analysis_raw...\n",
      "get_log_analysis_raw('/Users/kcarnold/code/textrec/logs/cf9p8m.jsonl', 909078, git_rev='25a4b8a', analysis_files={ 'analyze.js': '76f95f2156828639ea7c756411b37a4e03cdd403',\n",
      "  'run-analysis': '11083c5f51c5c469297e930142323920f09fe548',\n",
      "  'src/Analyzer.js': 'd79a1fdaecf06d56f65bb104d8c00eba820773f1'})\n",
      "_____________________________________________get_log_analysis_raw - 2.6s, 0.0min\n",
      "________________________________________________________________________________\n",
      "[Memory] Calling textrec.analysis_util.get_log_analysis_raw...\n",
      "get_log_analysis_raw('/Users/kcarnold/code/textrec/logs/phqcw9.jsonl', 1227466, git_rev='25a4b8a', analysis_files={ 'analyze.js': '76f95f2156828639ea7c756411b37a4e03cdd403',\n",
      "  'run-analysis': '11083c5f51c5c469297e930142323920f09fe548',\n",
      "  'src/Analyzer.js': 'd79a1fdaecf06d56f65bb104d8c00eba820773f1'})\n",
      "_____________________________________________get_log_analysis_raw - 2.6s, 0.0min\n",
      "________________________________________________________________________________\n",
      "[Memory] Calling textrec.analysis_util.get_log_analysis_raw...\n",
      "get_log_analysis_raw('/Users/kcarnold/code/textrec/logs/5jj59g.jsonl', 1041656, git_rev='25a4b8a', analysis_files={ 'analyze.js': '76f95f2156828639ea7c756411b37a4e03cdd403',\n",
      "  'run-analysis': '11083c5f51c5c469297e930142323920f09fe548',\n",
      "  'src/Analyzer.js': 'd79a1fdaecf06d56f65bb104d8c00eba820773f1'})\n",
      "_____________________________________________get_log_analysis_raw - 2.6s, 0.0min\n",
      "________________________________________________________________________________\n",
      "[Memory] Calling textrec.analysis_util.get_log_analysis_raw...\n",
      "get_log_analysis_raw('/Users/kcarnold/code/textrec/logs/gw3w72.jsonl', 563501, git_rev='25a4b8a', analysis_files={ 'analyze.js': '76f95f2156828639ea7c756411b37a4e03cdd403',\n",
      "  'run-analysis': '11083c5f51c5c469297e930142323920f09fe548',\n",
      "  'src/Analyzer.js': 'd79a1fdaecf06d56f65bb104d8c00eba820773f1'})\n",
      "_____________________________________________get_log_analysis_raw - 2.5s, 0.0min\n",
      "________________________________________________________________________________\n",
      "[Memory] Calling textrec.analysis_util.get_log_analysis_raw...\n",
      "get_log_analysis_raw('/Users/kcarnold/code/textrec/logs/559x69.jsonl', 914668, git_rev='25a4b8a', analysis_files={ 'analyze.js': '76f95f2156828639ea7c756411b37a4e03cdd403',\n",
      "  'run-analysis': '11083c5f51c5c469297e930142323920f09fe548',\n",
      "  'src/Analyzer.js': 'd79a1fdaecf06d56f65bb104d8c00eba820773f1'})\n",
      "_____________________________________________get_log_analysis_raw - 2.6s, 0.0min\n",
      "________________________________________________________________________________\n",
      "[Memory] Calling textrec.analysis_util.get_log_analysis_raw...\n",
      "get_log_analysis_raw('/Users/kcarnold/code/textrec/logs/gvwqp6.jsonl', 579578, git_rev='25a4b8a', analysis_files={ 'analyze.js': '76f95f2156828639ea7c756411b37a4e03cdd403',\n",
      "  'run-analysis': '11083c5f51c5c469297e930142323920f09fe548',\n",
      "  'src/Analyzer.js': 'd79a1fdaecf06d56f65bb104d8c00eba820773f1'})\n",
      "_____________________________________________get_log_analysis_raw - 2.4s, 0.0min\n",
      "Randomization counts\n",
      "norecs,general,specific    6\n",
      "norecs,specific,general    4\n",
      "general,norecs,specific    4\n",
      "general,specific,norecs    4\n",
      "specific,norecs,general    3\n",
      "specific,general,norecs    3\n",
      "Name: conditions, dtype: int64\n"
     ]
    }
   ],
   "source": [
    "analyses = analyze_all(participants[batch])"
   ]
  },
  {
   "cell_type": "code",
   "execution_count": 60,
   "metadata": {},
   "outputs": [
    {
     "data": {
      "text/plain": [
       "<matplotlib.axes._subplots.AxesSubplot at 0x11884d0b8>"
      ]
     },
     "execution_count": 60,
     "metadata": {},
     "output_type": "execute_result"
    },
    {
     "data": {
      "image/png": "[encoded data removed]",
      "text/plain": [
       "<matplotlib.figure.Figure at 0x11a603278>"
      ]
     },
     "metadata": {},
     "output_type": "display_data"
    }
   ],
   "source": [
    "analyses['experiment_level'].total_time.hist()"
   ]
  },
  {
   "cell_type": "code",
   "execution_count": 66,
   "metadata": {},
   "outputs": [
    {
     "data": {
      "text/plain": [
       "count     25.000000\n",
       "mean      29.823653\n",
       "std       24.657435\n",
       "min       10.203233\n",
       "25%       14.506700\n",
       "50%       22.852350\n",
       "75%       33.666833\n",
       "max      122.433150\n",
       "Name: total_time, dtype: float64"
      ]
     },
     "execution_count": 66,
     "metadata": {},
     "output_type": "execute_result"
    }
   ],
   "source": [
    "analyses['experiment_level'].total_time.describe()"
   ]
  },
  {
   "cell_type": "code",
   "execution_count": 87,
   "metadata": {},
   "outputs": [
    {
     "data": {
      "text/plain": [
       "count    216.000000\n",
       "mean      49.999917\n",
       "std       39.276310\n",
       "min        4.398000\n",
       "25%       28.859750\n",
       "50%       39.560000\n",
       "75%       56.145250\n",
       "max      293.595000\n",
       "Name: seconds_spent_typing, dtype: float64"
      ]
     },
     "execution_count": 87,
     "metadata": {},
     "output_type": "execute_result"
    }
   ],
   "source": [
    "(trial_level.seconds_spent_typing).describe()"
   ]
  },
  {
   "cell_type": "code",
   "execution_count": 73,
   "metadata": {},
   "outputs": [
    {
     "data": {
      "text/plain": [
       "<matplotlib.axes._subplots.AxesSubplot at 0x11b12c4e0>"
      ]
     },
     "execution_count": 73,
     "metadata": {},
     "output_type": "execute_result"
    },
    {
     "data": {
      "image/png": "[encoded data removed]",
      "text/plain": [
       "<matplotlib.figure.Figure at 0x119ee3710>"
      ]
     },
     "metadata": {},
     "output_type": "display_data"
    }
   ],
   "source": [
    "# Fraction of time spent actually typing\n",
    "((trial_level.groupby('participant').seconds_spent_typing.sum() / 60) / trial_level.groupby('participant').total_time.mean()).hist()"
   ]
  },
  {
   "cell_type": "code",
   "execution_count": 61,
   "metadata": {},
   "outputs": [],
   "source": [
    "for kind in 'experiment block trial'.split():\n",
    "    analyses[f'{kind}_level'].to_csv(f'data/analyzed/{kind}_{batch}.csv')"
   ]
  },
  {
   "cell_type": "code",
   "execution_count": 62,
   "metadata": {},
   "outputs": [],
   "source": [
    "globals().update(analyses)"
   ]
  },
  {
   "cell_type": "code",
   "execution_count": 63,
   "metadata": {},
   "outputs": [],
   "source": [
    "import seaborn as sns"
   ]
  },
  {
   "cell_type": "code",
   "execution_count": 64,
   "metadata": {},
   "outputs": [
    {
     "data": {
      "text/plain": [
       "<matplotlib.axes._subplots.AxesSubplot at 0x118bb4240>"
      ]
     },
     "execution_count": 64,
     "metadata": {},
     "output_type": "execute_result"
    },
    {
     "data": {
      "image/png": "[encoded data removed]",
      "text/plain": [
       "<matplotlib.figure.Figure at 0x11b6ee8d0>"
      ]
     },
     "metadata": {},
     "output_type": "display_data"
    }
   ],
   "source": [
    "sns.barplot(x='condition', y='TLX_sum', data=block_level, capsize=.2)"
   ]
  },
  {
   "cell_type": "code",
   "execution_count": null,
   "metadata": {},
   "outputs": [],
   "source": []
  },
  {
   "cell_type": "code",
   "execution_count": null,
   "metadata": {},
   "outputs": [],
   "source": [
    "sns.barplot(x='condition', y='text_len', data=trial_level, capsize=.2)"
   ]
  },
  {
   "cell_type": "code",
   "execution_count": null,
   "metadata": {},
   "outputs": [],
   "source": [
    "sns.barplot(x='condition', y='num_tapBackspace', data=trial_level, capsize=.2)"
   ]
  },
  {
   "cell_type": "code",
   "execution_count": null,
   "metadata": {},
   "outputs": [],
   "source": [
    "print('\\n\\n'.join(x for x in experiment_level_pivot['techDiff'] if x is not None))"
   ]
  },
  {
   "cell_type": "code",
   "execution_count": null,
   "metadata": {},
   "outputs": [],
   "source": [
    "print('\\n\\n'.join(x for x in experiment_level_pivot['other'] if x is not None))"
   ]
  },
  {
   "cell_type": "code",
   "execution_count": null,
   "metadata": {},
   "outputs": [],
   "source": []
  },
  {
   "cell_type": "code",
   "execution_count": null,
   "metadata": {},
   "outputs": [],
   "source": []
  },
  {
   "cell_type": "code",
   "execution_count": null,
   "metadata": {},
   "outputs": [],
   "source": []
  },
  {
   "cell_type": "code",
   "execution_count": null,
   "metadata": {},
   "outputs": [],
   "source": []
  },
  {
   "cell_type": "code",
   "execution_count": 92,
   "metadata": {},
   "outputs": [
    {
     "data": {
      "text/plain": [
       "'a surfer in the ocean surfing on a wave'"
      ]
     },
     "execution_count": 92,
     "metadata": {},
     "output_type": "execute_result"
    }
   ],
   "source": [
    "text = trial_level.text.iloc[-1]\n",
    "text"
   ]
  },
  {
   "cell_type": "code",
   "execution_count": 91,
   "metadata": {},
   "outputs": [],
   "source": [
    "from nltk.corpus import wordnet as wn"
   ]
  },
  {
   "cell_type": "code",
   "execution_count": 119,
   "metadata": {},
   "outputs": [
    {
     "data": {
      "text/plain": [
       "[('a', 'a', 'DET'),\n",
       " ('train', 'train', 'NOUN'),\n",
       " ('is', 'be', 'VERB'),\n",
       " ('traveling', 'travel', 'VERB'),\n",
       " ('on', 'on', 'ADP'),\n",
       " ('the', 'the', 'DET'),\n",
       " ('tracks', 'track', 'NOUN'),\n",
       " ('through', 'through', 'ADP'),\n",
       " ('a', 'a', 'DET'),\n",
       " ('marketplace', 'marketplace', 'NOUN')]"
      ]
     },
     "execution_count": 119,
     "metadata": {},
     "output_type": "execute_result"
    }
   ],
   "source": [
    "[(tok.orth_, tok.lemma_, tok.pos_) for tok in  automated_analyses.nlp(trial_level.text.iloc[5])]"
   ]
  },
  {
   "cell_type": "code",
   "execution_count": 125,
   "metadata": {},
   "outputs": [
    {
     "data": {
      "text/plain": [
       "'s'"
      ]
     },
     "execution_count": 125,
     "metadata": {},
     "output_type": "execute_result"
    }
   ],
   "source": [
    "wn.ADJ_SAT"
   ]
  },
  {
   "cell_type": "code",
   "execution_count": 123,
   "metadata": {},
   "outputs": [
    {
     "data": {
      "text/plain": [
       "[Synset('red.s.01'), Synset('crimson.s.02'), Synset('crimson.s.03')]"
      ]
     },
     "execution_count": 123,
     "metadata": {},
     "output_type": "execute_result"
    }
   ],
   "source": [
    "wn.synsets('red', wn.ADJ)"
   ]
  },
  {
   "cell_type": "code",
   "execution_count": 129,
   "metadata": {},
   "outputs": [
    {
     "data": {
      "text/plain": [
       "0"
      ]
     },
     "execution_count": 129,
     "metadata": {},
     "output_type": "execute_result"
    }
   ],
   "source": [
    "wn.synsets('quickly', wn.ADV)[0].max_depth()"
   ]
  },
  {
   "cell_type": "code",
   "execution_count": 131,
   "metadata": {},
   "outputs": [],
   "source": [
    "wn.synsets?"
   ]
  },
  {
   "cell_type": "code",
   "execution_count": 137,
   "metadata": {},
   "outputs": [],
   "source": [
    "from nltk import wsd"
   ]
  },
  {
   "cell_type": "code",
   "execution_count": null,
   "metadata": {},
   "outputs": [],
   "source": [
    "wsd.lesk()"
   ]
  },
  {
   "cell_type": "code",
   "execution_count": 142,
   "metadata": {},
   "outputs": [
    {
     "name": "stderr",
     "output_type": "stream",
     "text": [
      "Warming up PyWSD (takes ~10 secs)... took 10.516539812088013 secs.\n"
     ]
    }
   ],
   "source": [
    "import pywsd"
   ]
  },
  {
   "cell_type": "code",
   "execution_count": 149,
   "metadata": {},
   "outputs": [
    {
     "name": "stdout",
     "output_type": "stream",
     "text": [
      "a red double-decker bus is coming down the street\n",
      "red                  of a color at the end of the color spectrum (next to orange); resembling the color of blood or cherries or tomatoes or rubies\n",
      "double-decker        a vehicle carrying many passengers; used for public transport\n",
      "bus                  a vehicle carrying many passengers; used for public transport\n",
      "coming               reach or enter a state, relation, condition, use, or position\n",
      "street               people living or working on the same street\n"
     ]
    }
   ],
   "source": [
    "text = trial_level.text.iloc[60]\n",
    "print(text)\n",
    "for tok, ss in pywsd.disambiguate(text):\n",
    "    if ss is not None:\n",
    "        print(f'{tok:20s} {ss.definition()}')"
   ]
  },
  {
   "cell_type": "code",
   "execution_count": 139,
   "metadata": {},
   "outputs": [
    {
     "name": "stdout",
     "output_type": "stream",
     "text": [
      "a bathroom with a toilet and sink and with a roll of toilet paper on the toilet\n",
      "bathroom.n.01 a room (as in a residence) containing a bathtub or shower and usually a washbasin and toilet 8\n",
      "toilet.n.04 the act of dressing and preparing yourself 9\n",
      "sinkhole.n.01 a depression in the ground communicating with a subterranean passage (especially in limestone) and formed by solution or by collapse of a cavern roof 5\n",
      "roll.v.17 take the shape of a roll or cylinder 2\n",
      "toilet.n.04 the act of dressing and preparing yourself 9\n",
      "paper.n.05 a scholarly article describing the results of observations or stating hypotheses 8\n",
      "toilet.n.04 the act of dressing and preparing yourself 9\n"
     ]
    }
   ],
   "source": [
    "text = trial_level.text.iloc[2]\n",
    "print(text)\n",
    "spacy_to_wn = {\n",
    "    'ADJ': wn.ADJ,\n",
    "#     'ADV': wn.ADV,\n",
    "    'NOUN': wn.NOUN,\n",
    "    'VERB': wn.VERB,    \n",
    "}\n",
    "doc = automated_analyses.nlp(text)\n",
    "toks = [tok.orth_ for tok in doc]\n",
    "for tok in doc:\n",
    "    if tok.pos_ not in spacy_to_wn:\n",
    "        continue\n",
    "    ss = wsd.lesk(toks, tok.lemma_)\n",
    "#         for ss in wn.synsets(tok.lemma_, spacy_to_wn[tok.pos_])[:1]:\n",
    "    print(ss.name(), ss.definition(), ss.max_depth())"
   ]
  },
  {
   "cell_type": "code",
   "execution_count": 141,
   "metadata": {},
   "outputs": [
    {
     "data": {
      "text/plain": [
       "[Synset('toilet.n.01'),\n",
       " Synset('toilet.n.02'),\n",
       " Synset('gutter.n.02'),\n",
       " Synset('toilet.n.04')]"
      ]
     },
     "execution_count": 141,
     "metadata": {},
     "output_type": "execute_result"
    }
   ],
   "source": [
    "wn.synsets('toilet')"
   ]
  },
  {
   "cell_type": "code",
   "execution_count": 133,
   "metadata": {},
   "outputs": [
    {
     "data": {
      "text/plain": [
       "'the act of dressing and preparing yourself'"
      ]
     },
     "execution_count": 133,
     "metadata": {},
     "output_type": "execute_result"
    }
   ],
   "source": [
    "ss.definition()"
   ]
  },
  {
   "cell_type": "code",
   "execution_count": 112,
   "metadata": {},
   "outputs": [
    {
     "data": {
      "text/plain": [
       "'surfer.n.01'"
      ]
     },
     "execution_count": 112,
     "metadata": {},
     "output_type": "execute_result"
    }
   ],
   "source": [
    "ss.name()"
   ]
  },
  {
   "cell_type": "code",
   "execution_count": 99,
   "metadata": {},
   "outputs": [],
   "source": [
    "ss=wn.synsets('surfer', wn.NOUN)[0]"
   ]
  },
  {
   "cell_type": "code",
   "execution_count": 104,
   "metadata": {},
   "outputs": [
    {
     "data": {
      "text/plain": [
       "[Synset('swimmer.n.02')]"
      ]
     },
     "execution_count": 104,
     "metadata": {},
     "output_type": "execute_result"
    }
   ],
   "source": [
    "ss.hypernyms()"
   ]
  },
  {
   "cell_type": "code",
   "execution_count": 105,
   "metadata": {},
   "outputs": [
    {
     "data": {
      "text/plain": [
       "[]"
      ]
     },
     "execution_count": 105,
     "metadata": {},
     "output_type": "execute_result"
    }
   ],
   "source": [
    "ss.instance_hypernyms()"
   ]
  },
  {
   "cell_type": "code",
   "execution_count": null,
   "metadata": {},
   "outputs": [],
   "source": [
    "participant_id = participants['2018-05-02'][0]\n",
    "analyzed = analysis_util.get_log_analysis(participant_id)"
   ]
  },
  {
   "cell_type": "code",
   "execution_count": null,
   "metadata": {},
   "outputs": [],
   "source": [
    "page_data = analyzed['byExpPage']['final-0-0']"
   ]
  },
  {
   "cell_type": "code",
   "execution_count": null,
   "metadata": {},
   "outputs": [],
   "source": [
    "page_data['firstEventTimestamp']"
   ]
  },
  {
   "cell_type": "code",
   "execution_count": null,
   "metadata": {},
   "outputs": [],
   "source": [
    "actions = ['actions']\n",
    "timestamps = [action['jsTimestamp'] / 1000 for action in actions]\n",
    "np.diff(timestamps)"
   ]
  },
  {
   "cell_type": "code",
   "execution_count": null,
   "metadata": {},
   "outputs": [],
   "source": [
    "analyzed['screenTimes']"
   ]
  },
  {
   "cell_type": "code",
   "execution_count": null,
   "metadata": {},
   "outputs": [],
   "source": [
    "Counter(action['type'] for action in page_data['actions'])"
   ]
  },
  {
   "cell_type": "code",
   "execution_count": null,
   "metadata": {},
   "outputs": [],
   "source": []
  },
  {
   "cell_type": "code",
   "execution_count": null,
   "metadata": {},
   "outputs": [],
   "source": []
  },
  {
   "cell_type": "code",
   "execution_count": null,
   "metadata": {},
   "outputs": [],
   "source": []
  },
  {
   "cell_type": "markdown",
   "metadata": {},
   "source": [
    "# Generate nAFC task"
   ]
  },
  {
   "cell_type": "markdown",
   "metadata": {},
   "source": [
    "For each stimulus image, choose a foil set. It should be about equally difficult for each condition. Simplest approach: find the nearest caption to the concatenation of all captions we got for that image.\n",
    "\n",
    "TODO: should we be computing similarities of individual captions, rather than complete images?"
   ]
  },
  {
   "cell_type": "code",
   "execution_count": null,
   "metadata": {},
   "outputs": [],
   "source": [
    "cap_vectorizer, caption_vecs = util.get_vectorized_captions()"
   ]
  },
  {
   "cell_type": "code",
   "execution_count": null,
   "metadata": {},
   "outputs": [],
   "source": [
    "caption_vecs.shape"
   ]
  },
  {
   "cell_type": "code",
   "execution_count": null,
   "metadata": {},
   "outputs": [],
   "source": [
    "id2url[570528]"
   ]
  },
  {
   "cell_type": "code",
   "execution_count": null,
   "metadata": {},
   "outputs": [],
   "source": [
    "concat_captions = {stimulus: '\\n'.join(toolz.pluck('text', trials))\n",
    "                   for stimulus, trials in toolz.groupby('stimulus', trial_data).items()}\n",
    "concat_captions.keys()"
   ]
  },
  {
   "cell_type": "code",
   "execution_count": null,
   "metadata": {},
   "outputs": [],
   "source": [
    "# print(concat_captions[71815])\n",
    "# print(concat_captions[275449])\n",
    "print(concat_captions[396295])"
   ]
  },
  {
   "cell_type": "markdown",
   "metadata": {},
   "source": [
    "For 275449, the foil images are fixated on the 'wine'. But unsurprising, since all but one caption mentions it, and it's probably less common than \"cat\"."
   ]
  },
  {
   "cell_type": "code",
   "execution_count": null,
   "metadata": {},
   "outputs": [],
   "source": []
  },
  {
   "cell_type": "code",
   "execution_count": null,
   "metadata": {
    "scrolled": false
   },
   "outputs": [],
   "source": [
    "def get_similar_images(caption, n=10):\n",
    "    query_vec = cap_vectorizer.transform([caption])\n",
    "    similarity = caption_vecs.dot(query_vec.T).A.ravel()\n",
    "    return [images[idx]['cocoid'] for idx in np.argsort(similarity)[-n:][::-1]]\n",
    "query_caption = concat_captions[396295].replace('wine', '') #trial_data[0]['text']\n",
    "# query_caption = \"a rusty and dirty shower in the bathroom has a tan towel over its handle\"\n",
    "# query_caption = \"a sliding glass shower door with a bath mat hanging on it\"\n",
    "query_caption = \"a closed shower door with crackled glass encases some hanging colored toiletries\"\n",
    "# print(query_caption)\n",
    "# HTML(show_images(get_similar_images(query_caption)))"
   ]
  },
  {
   "cell_type": "code",
   "execution_count": null,
   "metadata": {},
   "outputs": [],
   "source": [
    "def get_foil_set(*, stimulus, caption, rs):\n",
    "    similar_images = get_similar_images(caption, n=10)\n",
    "    if stimulus not in similar_images:\n",
    "        print(\"Inserting\", stimulus, 'into foil set')\n",
    "        similar_images[-1] = stimulus\n",
    "    rs.shuffle(similar_images)\n",
    "    return similar_images\n",
    "stimulus = trial_data[1]['stimulus']\n",
    "get_foil_set(stimulus=stimulus, caption=concat_captions[stimulus], rs=np.random.RandomState(1234))"
   ]
  },
  {
   "cell_type": "code",
   "execution_count": null,
   "metadata": {},
   "outputs": [],
   "source": [
    "rs = np.random.RandomState(1234)\n",
    "foil_sets = {\n",
    "    stimulus: get_foil_set(stimulus=stimulus, caption=concat_captions[stimulus], rs=rs)\n",
    "    for stimulus in sorted(concat_captions.keys())}"
   ]
  },
  {
   "cell_type": "markdown",
   "metadata": {},
   "source": [
    "Group tasks so that (1) each annotator never gets the same target image twice and (2) each annotator never sees two captions from the same person. The latter criterion cannot always be met, though, since the number of annotators may not evenly divide the number of participants."
   ]
  },
  {
   "cell_type": "code",
   "execution_count": null,
   "metadata": {},
   "outputs": [],
   "source": [
    "import random\n",
    "def shuffled(lst):\n",
    "    lst = lst[:]\n",
    "    random.shuffle(lst)\n",
    "    return lst"
   ]
  },
  {
   "cell_type": "code",
   "execution_count": null,
   "metadata": {},
   "outputs": [],
   "source": [
    "while True:\n",
    "    trials_by_img = toolz.groupby('stimulus', shuffled(trial_data))\n",
    "    annotators = []\n",
    "    while not any(len(trials) == 0 for trials in trials_by_img.values()):\n",
    "        trials_for_annotator = []\n",
    "        participants_seen_by_annotator = set()\n",
    "        for stimulus, trials in trials_by_img.items():\n",
    "            for i in range(len(trials)):\n",
    "                participant = trials[i]['participant']\n",
    "                if participant not in participants_seen_by_annotator:\n",
    "                    trials_for_annotator.append(trials.pop(i))\n",
    "                    participants_seen_by_annotator.add(participant)\n",
    "                    break\n",
    "            else:\n",
    "#                 print(\"Have to use the same participant again\")\n",
    "                trials_for_annotator.append(trials.pop(0))\n",
    "\n",
    "        annotators.append(shuffled(trials_for_annotator))\n",
    "    if all(len(set(toolz.pluck('participant', trials))) == len(trials) for trials in annotators):\n",
    "        break\n",
    "    assert all(len(trials) == 0 for trials in trials_by_img.values())"
   ]
  },
  {
   "cell_type": "code",
   "execution_count": null,
   "metadata": {},
   "outputs": [],
   "source": [
    "a = annotators[:]"
   ]
  },
  {
   "cell_type": "code",
   "execution_count": null,
   "metadata": {},
   "outputs": [],
   "source": [
    "trials_by_img"
   ]
  },
  {
   "cell_type": "markdown",
   "metadata": {},
   "source": [
    "Check that each annotator never gets the same target image twice"
   ]
  },
  {
   "cell_type": "code",
   "execution_count": null,
   "metadata": {},
   "outputs": [],
   "source": [
    "assert all(len(set(toolz.pluck('stimulus', trials))) == len(trials) for trials in annotators)"
   ]
  },
  {
   "cell_type": "markdown",
   "metadata": {},
   "source": [
    "Check that each annotator never sees two captions from the same person."
   ]
  },
  {
   "cell_type": "code",
   "execution_count": null,
   "metadata": {},
   "outputs": [],
   "source": [
    "assert all(len(set(toolz.pluck('participant', trials))) == len(trials) for trials in annotators)"
   ]
  },
  {
   "cell_type": "code",
   "execution_count": null,
   "metadata": {},
   "outputs": [],
   "source": [
    "[len(trials) for trials in annotators]"
   ]
  },
  {
   "cell_type": "code",
   "execution_count": null,
   "metadata": {},
   "outputs": [],
   "source": [
    "len(annotators)"
   ]
  },
  {
   "cell_type": "code",
   "execution_count": null,
   "metadata": {},
   "outputs": [],
   "source": [
    "def make_task(stimulus, text):\n",
    "    foil_set = foil_sets[stimulus]\n",
    "    return dict(\n",
    "        description=text,\n",
    "        correct_idx=foil_set.index(stimulus),\n",
    "        images=[id2url[idx] for idx in foil_set]\n",
    "    )"
   ]
  },
  {
   "cell_type": "code",
   "execution_count": null,
   "metadata": {},
   "outputs": [],
   "source": [
    "trial = annotators[0][0]\n",
    "make_task(trial['stimulus'], trial['text'])"
   ]
  },
  {
   "cell_type": "code",
   "execution_count": null,
   "metadata": {},
   "outputs": [],
   "source": [
    "guesses_task = pd.DataFrame([\n",
    "    json.dumps([make_task(trial['stimulus'], trial['text']) for trial in annotator_trials])\n",
    "    for annotator_trials in annotators], columns=['task'])\n",
    "guesses_task.iloc[:1].to_csv(str(paths.data / 'anno-tasks' / 'guesses_test.csv'), index=False)\n",
    "guesses_task.iloc[1:].to_csv(str(paths.data / 'anno-tasks' / 'guesses_remain.csv'), index=False)\n",
    "guesses_task.to_csv(str(paths.data / 'anno-tasks' / 'guesses.csv'), index=False)"
   ]
  },
  {
   "cell_type": "markdown",
   "metadata": {},
   "source": [
    "### Load MTurk results so far"
   ]
  },
  {
   "cell_type": "code",
   "execution_count": null,
   "metadata": {},
   "outputs": [],
   "source": [
    "result_files = list((paths.data / 'mturk').glob('*-guesses.csv'))\n",
    "batched_guesses_results = (\n",
    "    pd.concat([pd.read_csv(str(f)) for f in result_files], axis=0, ignore_index=True)\n",
    ")"
   ]
  },
  {
   "cell_type": "code",
   "execution_count": null,
   "metadata": {},
   "outputs": [],
   "source": [
    "%matplotlib inline"
   ]
  },
  {
   "cell_type": "code",
   "execution_count": null,
   "metadata": {},
   "outputs": [],
   "source": [
    "(batched_guesses_results['WorkTimeInSeconds']/60).hist(bins=30)"
   ]
  },
  {
   "cell_type": "code",
   "execution_count": null,
   "metadata": {},
   "outputs": [],
   "source": [
    "def get_active_dur(results):\n",
    "    pages = json.loads(results)\n",
    "    try:\n",
    "        first_guess = pages[0]['guesses'][0]['timestamp']\n",
    "        last_guess = pages[-1]['guesses'][-1]['timestamp']\n",
    "        return (last_guess - first_guess) / 1000 / 60\n",
    "    except IndexError:\n",
    "        # Something failed in the UI probably...\n",
    "        return None\n",
    "batched_guesses_results['Answer.results'].apply(get_active_dur).hist()\n",
    "batched_guesses_results['Answer.results'].apply(get_active_dur).describe()\n",
    "        "
   ]
  },
  {
   "cell_type": "code",
   "execution_count": null,
   "metadata": {},
   "outputs": [],
   "source": [
    "batched_guesses_results[batched_guesses_results['Answer.results'].apply(lambda x: '\"guesses\":[]' in x)].T"
   ]
  },
  {
   "cell_type": "code",
   "execution_count": null,
   "metadata": {},
   "outputs": [],
   "source": [
    "%debug"
   ]
  },
  {
   "cell_type": "code",
   "execution_count": null,
   "metadata": {},
   "outputs": [],
   "source": [
    "guesses_results = []\n",
    "for i, row in batched_guesses_results.iterrows():\n",
    "    for page in json.loads(row['Answer.results']):\n",
    "#         print(page)\n",
    "        guess_indices = [guess['idx'] for guess in page['guesses']]\n",
    "        if len(guess_indices) == 0:\n",
    "            print(\"UI fail\", row['WorkerId'])\n",
    "            continue\n",
    "#         guessed_right_sometime = [row.correctIdx in row.guess_indices for row in mturk_nafc_results.itertuples()]\n",
    "        stimulus_url = [img for img in page['images'] if img['isCorrect']][0]['url']\n",
    "        guesses_results.append(dict(\n",
    "            guesser=row['WorkerId'],\n",
    "            description=page['description'],\n",
    "            num_guesses=len(guess_indices),\n",
    "            stimulus_url=stimulus_url))\n",
    "pd.DataFrame(guesses_results)"
   ]
  },
  {
   "cell_type": "code",
   "execution_count": null,
   "metadata": {},
   "outputs": [],
   "source": [
    "num_responses_by_caption = mturk_nafc_results.groupby('Answer.description').size().to_dict()"
   ]
  },
  {
   "cell_type": "markdown",
   "metadata": {},
   "source": [
    "### Generate tasks remaining"
   ]
  },
  {
   "cell_type": "code",
   "execution_count": null,
   "metadata": {},
   "outputs": [],
   "source": [
    "# trials_todo = [trial for trial in trial_data if num_responses_by_caption.get(trial['text'], 0) < 3]\n",
    "# len(trial_data), len(trials_todo)"
   ]
  },
  {
   "cell_type": "code",
   "execution_count": null,
   "metadata": {},
   "outputs": [],
   "source": [
    "# i = 0\n",
    "# while True:\n",
    "#     out_fn = paths.data / 'anno-tasks' / f'{datetime.date.today().isoformat()}-{i}-nAFC.csv'\n",
    "#     if not out_fn.exists():\n",
    "#         break\n",
    "#     i += 1\n",
    "# out_fn"
   ]
  },
  {
   "cell_type": "code",
   "execution_count": null,
   "metadata": {},
   "outputs": [],
   "source": [
    "# rs = np.random.RandomState(1234)\n",
    "# pd.DataFrame([make_task(trial, rs) for trial in trials_todo]).to_csv(out_fn, index=False)"
   ]
  },
  {
   "cell_type": "markdown",
   "metadata": {},
   "source": [
    "### Generate the actual HIT text..."
   ]
  },
  {
   "cell_type": "code",
   "execution_count": null,
   "metadata": {},
   "outputs": [],
   "source": [
    "from jinja2 import Template\n",
    "html = Template(open(paths.top_level / 'HITs' / '2018-05-04-image-description-match.jinja.html').read()).render(dict(\n",
    "    description='${description}',\n",
    "    images=['${image_%d_url}' % i for i in range(10)]))"
   ]
  },
  {
   "cell_type": "code",
   "execution_count": null,
   "metadata": {},
   "outputs": [],
   "source": [
    "html2 = html\n",
    "trial = trial_data[18+7*9]\n",
    "for k, v in make_task(trial['stimulus'], trial['text']).items():\n",
    "    html2 = html2.replace('${' + k + '}', str(v))\n",
    "HTML('<div style=\"height: 1000px; position: relative;\">'+html2+'</div>')\n",
    "# print(html2)"
   ]
  },
  {
   "cell_type": "code",
   "execution_count": null,
   "metadata": {},
   "outputs": [],
   "source": []
  },
  {
   "cell_type": "code",
   "execution_count": null,
   "metadata": {},
   "outputs": [],
   "source": []
  },
  {
   "cell_type": "code",
   "execution_count": null,
   "metadata": {},
   "outputs": [],
   "source": []
  },
  {
   "cell_type": "code",
   "execution_count": null,
   "metadata": {},
   "outputs": [],
   "source": []
  },
  {
   "cell_type": "code",
   "execution_count": null,
   "metadata": {},
   "outputs": [],
   "source": []
  },
  {
   "cell_type": "code",
   "execution_count": null,
   "metadata": {},
   "outputs": [],
   "source": [
    "import subprocess\n",
    "subprocess.Popen('pbcopy', stdin=subprocess.PIPE).communicate(html.encode('utf-8'))"
   ]
  },
  {
   "cell_type": "markdown",
   "metadata": {},
   "source": [
    "# Analyze MTurk results"
   ]
  },
  {
   "cell_type": "code",
   "execution_count": null,
   "metadata": {},
   "outputs": [],
   "source": [
    "mturk_nafc_results.groupby('Answer.description').num_guesses.mean().to_dict()"
   ]
  },
  {
   "cell_type": "code",
   "execution_count": null,
   "metadata": {},
   "outputs": [],
   "source": [
    "%matplotlib inline"
   ]
  },
  {
   "cell_type": "code",
   "execution_count": null,
   "metadata": {},
   "outputs": [],
   "source": [
    "(mturk_nafc_results['WorkTimeInSeconds'][mturk_nafc_results['WorkTimeInSeconds'] < 5*60] / 60).hist(bins=30)"
   ]
  },
  {
   "cell_type": "code",
   "execution_count": null,
   "metadata": {},
   "outputs": [],
   "source": [
    "np.median(mturk_nafc_results['WorkTimeInSeconds'] / 60) * 9/60"
   ]
  },
  {
   "cell_type": "code",
   "execution_count": null,
   "metadata": {},
   "outputs": [],
   "source": [
    "(\n",
    "    15 # participants\n",
    "    * 3 # conditions per participant\n",
    "    * 3 # captions per condition\n",
    "    - 1 # image not shown\n",
    ") * 3 # annotators per description\n"
   ]
  },
  {
   "cell_type": "code",
   "execution_count": null,
   "metadata": {},
   "outputs": [],
   "source": [
    "    * .24 # reward per annotator\n",
    ") * 1.2 # MTurk 20% fee"
   ]
  },
  {
   "cell_type": "markdown",
   "metadata": {},
   "source": [
    "Did the same worker see the same target image multiple times?"
   ]
  },
  {
   "cell_type": "code",
   "execution_count": null,
   "metadata": {},
   "outputs": [],
   "source": [
    "next(data.iterrows())[1]['Input.image_0_url']"
   ]
  },
  {
   "cell_type": "code",
   "execution_count": null,
   "metadata": {},
   "outputs": [],
   "source": [
    "mturk_nafc_results['target_image_url'] = [row['Input.image_'+str(row['correctIdx'])+\"_url\"] for _, row in mturk_nafc_results.iterrows()]"
   ]
  },
  {
   "cell_type": "code",
   "execution_count": null,
   "metadata": {},
   "outputs": [],
   "source": [
    "bad_worker_image_pairs = set()\n",
    "for worker_id, data in mturk_nafc_results.groupby('WorkerId'):\n",
    "    target_images = [row['target_image_url'] for _, row in data.iterrows()]\n",
    "    if len(target_images) != len(set(target_images)):\n",
    "#         print(worker_id)\n",
    "        value_counts = pd.Series(target_images).value_counts()\n",
    "        value_counts = value_counts[value_counts > 1]\n",
    "#         print(value_counts)\n",
    "        for img in value_counts.index:\n",
    "            bad_worker_image_pairs.add((worker_id, img))\n",
    "bad_worker_image_pairs\n",
    "\n",
    "annotation_row_is_bad = [\n",
    "    (row['WorkerId'], row['target_image_url']) in bad_worker_image_pairs\n",
    "    for _, row in mturk_nafc_results.iterrows()\n",
    "]\n",
    "mturk_nafc_results['row_is_bad'] = annotation_row_is_bad"
   ]
  },
  {
   "cell_type": "code",
   "execution_count": null,
   "metadata": {},
   "outputs": [],
   "source": [
    "mturk_nafc_results['row_is_bad'].mean()"
   ]
  },
  {
   "cell_type": "code",
   "execution_count": null,
   "metadata": {},
   "outputs": [],
   "source": [
    "guess_results = mturk_nafc_results[~mturk_nafc_results['row_is_bad']].rename(columns={'Answer.description': 'text'})"
   ]
  },
  {
   "cell_type": "code",
   "execution_count": null,
   "metadata": {},
   "outputs": [],
   "source": [
    "len(mturk_nafc_results)"
   ]
  },
  {
   "cell_type": "code",
   "execution_count": null,
   "metadata": {},
   "outputs": [],
   "source": [
    "len(guess_results), len(trial_data)"
   ]
  },
  {
   "cell_type": "code",
   "execution_count": null,
   "metadata": {},
   "outputs": [],
   "source": [
    "trial_data"
   ]
  },
  {
   "cell_type": "code",
   "execution_count": null,
   "metadata": {},
   "outputs": [],
   "source": [
    "annotator_level_data = pd.merge(\n",
    "    pd.DataFrame(trial_data).rename(columns={'participant': 'writer'}),\n",
    "    guess_results.rename(columns={'WorkerId': 'guesser'}).drop(['HITId', 'HITTypeId', 'Title', 'Description', 'Keywords', 'RequesterAnnotation', 'guesses'], axis=1),\n",
    "    on='text', validate='1:m', how='right')\n",
    "annotator_level_data\n",
    "    #.groupby().num_guesses.mean().to_frame('mean_num_guesses'),\n",
    "#     left_on='text', right_index=True).groupby('condition').mean_num_guesses.aggregate(['mean', 'std'])"
   ]
  },
  {
   "cell_type": "code",
   "execution_count": null,
   "metadata": {},
   "outputs": [],
   "source": [
    "guesses_results[0]"
   ]
  },
  {
   "cell_type": "code",
   "execution_count": null,
   "metadata": {},
   "outputs": [],
   "source": [
    "annotator_level_data = pd.merge(\n",
    "    pd.DataFrame(trial_data).rename(columns={'participant': 'writer'}),\n",
    "    pd.DataFrame(guesses_results).rename(columns={'description': 'text'}),\n",
    "    on='text', validate='1:m', how='right')\n",
    "annotator_level_data\n",
    "    #.groupby().num_guesses.mean().to_frame('mean_num_guesses'),\n",
    "#     left_on='text', right_index=True).groupby('condition').mean_num_guesses.aggregate(['mean', 'std'])"
   ]
  },
  {
   "cell_type": "code",
   "execution_count": null,
   "metadata": {},
   "outputs": [],
   "source": [
    "annotator_level_data.columns"
   ]
  },
  {
   "cell_type": "code",
   "execution_count": null,
   "metadata": {},
   "outputs": [],
   "source": [
    "annotator_level_data.to_csv('annotator_level_data_2018-05-22v2.csv', index=False)"
   ]
  },
  {
   "cell_type": "code",
   "execution_count": null,
   "metadata": {},
   "outputs": [],
   "source": [
    "(annotator_level_data['num_guesses'] == 1).mean()"
   ]
  },
  {
   "cell_type": "code",
   "execution_count": null,
   "metadata": {},
   "outputs": [],
   "source": [
    "%pwd"
   ]
  },
  {
   "cell_type": "code",
   "execution_count": null,
   "metadata": {},
   "outputs": [],
   "source": [
    "%load_ext rpy2.ipython"
   ]
  },
  {
   "cell_type": "code",
   "execution_count": null,
   "metadata": {},
   "outputs": [],
   "source": [
    "%%R\n",
    "library(lme4)\n",
    "library(ggplot2)"
   ]
  },
  {
   "cell_type": "code",
   "execution_count": null,
   "metadata": {},
   "outputs": [],
   "source": [
    "%%R -i annotator_level_data\n",
    "(model = lmer(num_guesses ~ condition + (1|writer) + (1|guesser) + (1|stimulus), annotator_level_data))"
   ]
  },
  {
   "cell_type": "code",
   "execution_count": null,
   "metadata": {},
   "outputs": [],
   "source": [
    "%%R -i annotator_level_data\n",
    "(null_model = lmer(num_guesses ~ (1|writer) + (1|guesser) + (1|stimulus), annotator_level_data))"
   ]
  },
  {
   "cell_type": "code",
   "execution_count": null,
   "metadata": {},
   "outputs": [],
   "source": [
    "%%R\n",
    "library(pbkrtest)"
   ]
  },
  {
   "cell_type": "code",
   "execution_count": null,
   "metadata": {},
   "outputs": [],
   "source": [
    "%%R\n",
    "(kr <- KRmodcomp(model, null_model))"
   ]
  },
  {
   "cell_type": "code",
   "execution_count": null,
   "metadata": {},
   "outputs": [],
   "source": [
    "%%R -i annotator_level_data\n",
    "(glm.full = glmer(num_guesses ~ condition + (1|writer) + (1+guesser) + (1|stimulus), annotator_level_data, family=poisson()))"
   ]
  },
  {
   "cell_type": "code",
   "execution_count": null,
   "metadata": {},
   "outputs": [],
   "source": [
    "%%R\n",
    "(glm.null = glmer(num_guesses ~ (1|writer) + (1+guesser) + (1|stimulus), annotator_level_data, family=poisson()))"
   ]
  },
  {
   "cell_type": "code",
   "execution_count": null,
   "metadata": {},
   "outputs": [],
   "source": [
    "%%R\n",
    "#confint(glm.full)"
   ]
  },
  {
   "cell_type": "code",
   "execution_count": null,
   "metadata": {},
   "outputs": [],
   "source": [
    "%%R\n",
    "anova(glm.full, glm.null, test=\"Chisq\")"
   ]
  },
  {
   "cell_type": "code",
   "execution_count": null,
   "metadata": {},
   "outputs": [],
   "source": [
    "%%R -i annotator_level_data\n",
    "(nb_model = glmer.nb(num_guesses ~ condition + (1|writer) + (1+guesser) + (1|stimulus), annotator_level_data))"
   ]
  },
  {
   "cell_type": "code",
   "execution_count": null,
   "metadata": {},
   "outputs": [],
   "source": [
    "%%R -i annotator_level_data\n",
    "(nb_model.null = glmer.nb(num_guesses ~ (1|writer) + (1+guesser) + (1|stimulus), annotator_level_data))"
   ]
  },
  {
   "cell_type": "code",
   "execution_count": null,
   "metadata": {},
   "outputs": [],
   "source": [
    "%%R\n",
    "anova(nb_model, nb_model.null, test=\"Chisq\")"
   ]
  },
  {
   "cell_type": "code",
   "execution_count": null,
   "metadata": {},
   "outputs": [],
   "source": []
  },
  {
   "cell_type": "code",
   "execution_count": null,
   "metadata": {},
   "outputs": [],
   "source": [
    "results = pd.DataFrame([dict(trial, specificity=specificity_lookup[trial['text'].strip()]) for trial in trial_data])\n",
    "for col in ['condition', 'participant']:\n",
    "    results[col] = results[col].astype('category')\n",
    "results.info()"
   ]
  },
  {
   "cell_type": "code",
   "execution_count": null,
   "metadata": {},
   "outputs": [],
   "source": [
    "results.groupby('condition').specificity.mean()"
   ]
  },
  {
   "cell_type": "code",
   "execution_count": null,
   "metadata": {},
   "outputs": [],
   "source": []
  },
  {
   "cell_type": "code",
   "execution_count": null,
   "metadata": {},
   "outputs": [],
   "source": [
    "pd.DataFrame(trial_data).sample(frac=1.0).sort_values('stimulus').to_csv('trial_data_by_stimulus.csv')"
   ]
  },
  {
   "cell_type": "code",
   "execution_count": null,
   "metadata": {},
   "outputs": [],
   "source": []
  },
  {
   "cell_type": "code",
   "execution_count": null,
   "metadata": {},
   "outputs": [],
   "source": []
  },
  {
   "cell_type": "markdown",
   "metadata": {},
   "source": [
    "# How many images does this caption apply to?"
   ]
  },
  {
   "cell_type": "code",
   "execution_count": null,
   "metadata": {},
   "outputs": [],
   "source": [
    "data = pd.read_csv(\"/Users/kcarnold/Downloads/Submitted Captions - Sheet1.csv\").iloc[:,:6]"
   ]
  },
  {
   "cell_type": "code",
   "execution_count": null,
   "metadata": {},
   "outputs": [],
   "source": [
    "data"
   ]
  },
  {
   "cell_type": "code",
   "execution_count": null,
   "metadata": {},
   "outputs": [],
   "source": [
    "data.shape"
   ]
  },
  {
   "cell_type": "code",
   "execution_count": null,
   "metadata": {},
   "outputs": [],
   "source": [
    "data = data.dropna().copy()\n",
    "data.shape"
   ]
  },
  {
   "cell_type": "code",
   "execution_count": null,
   "metadata": {},
   "outputs": [],
   "source": [
    "data['is_unique'] = (data.iloc[:,5] == '1')\n",
    "data.is_unique.mean()"
   ]
  },
  {
   "cell_type": "code",
   "execution_count": null,
   "metadata": {},
   "outputs": [],
   "source": [
    "data.groupby(['block', 'idx_in_block', 'condition']).is_unique.mean()"
   ]
  },
  {
   "cell_type": "code",
   "execution_count": null,
   "metadata": {},
   "outputs": [],
   "source": [
    "data['participant'] = data['participant'].astype('category')\n",
    "data['condition'] = data['condition'].astype('category')"
   ]
  },
  {
   "cell_type": "code",
   "execution_count": null,
   "metadata": {},
   "outputs": [],
   "source": [
    "data.groupby('condition').is_unique.mean()"
   ]
  },
  {
   "cell_type": "code",
   "execution_count": null,
   "metadata": {},
   "outputs": [],
   "source": [
    "%%R -i data\n",
    "transformed <- art(is_unique ~ condition + (1|participant), data=data)\n",
    "summary(transformed)\n",
    "anova(transformed)"
   ]
  },
  {
   "cell_type": "code",
   "execution_count": null,
   "metadata": {},
   "outputs": [],
   "source": [
    "example = trial_data[-1]['text']\n",
    "example"
   ]
  },
  {
   "cell_type": "markdown",
   "metadata": {},
   "source": [
    "Concepts: traffic light. COCO doesn't have \"pedestian crossing sign\". There are 4330 images with traffic lights in them in COCO. That's way too much. Looking at Visual Genome."
   ]
  },
  {
   "cell_type": "markdown",
   "metadata": {},
   "source": [
    "Visual Genome synsets are potentially best, but they're sometimes inaccurate. e.g., \"18 wheeler\" is \"cyclist.n.01\". So let's consider an object a match if matches either the synset or object name."
   ]
  },
  {
   "cell_type": "code",
   "execution_count": null,
   "metadata": {},
   "outputs": [],
   "source": [
    "vg_base = pathlib.Path('/Data/VisualGenome')\n",
    "image_objects = json.load(open(vg_base / 'objects.json'))"
   ]
  },
  {
   "cell_type": "code",
   "execution_count": null,
   "metadata": {},
   "outputs": [],
   "source": [
    "img_by_id = {img['image_id']: img for img in image_objects}"
   ]
  },
  {
   "cell_type": "code",
   "execution_count": null,
   "metadata": {},
   "outputs": [],
   "source": [
    "obj_synsets = json.load(open(vg_base / 'object_synsets.json'))"
   ]
  },
  {
   "cell_type": "code",
   "execution_count": null,
   "metadata": {},
   "outputs": [],
   "source": [
    "obj_attributes = json.load(open(vg_base / 'attributes.json'))"
   ]
  },
  {
   "cell_type": "code",
   "execution_count": null,
   "metadata": {},
   "outputs": [],
   "source": [
    "len(obj_attributes), len(image_objects)"
   ]
  },
  {
   "cell_type": "code",
   "execution_count": null,
   "metadata": {},
   "outputs": [],
   "source": [
    "obj_attributes[0].keys()"
   ]
  },
  {
   "cell_type": "code",
   "execution_count": null,
   "metadata": {},
   "outputs": [],
   "source": [
    "attributes_by_img = {att['image_id']: att['attributes'] for att in obj_attributes}"
   ]
  },
  {
   "cell_type": "code",
   "execution_count": null,
   "metadata": {},
   "outputs": [],
   "source": [
    "attributes_by_img[61514]"
   ]
  },
  {
   "cell_type": "code",
   "execution_count": null,
   "metadata": {},
   "outputs": [],
   "source": [
    "# def has_object(obj_name):\n",
    "#     return {\n",
    "#         img['image_id'] for img in image_objects\n",
    "#         if any(obj_name in '\\n'.join(obj['names']) for obj in img['objects'])\n",
    "#            }\n",
    "def has_object(imgid, obj_name):\n",
    "    return any(obj_name in '\\n'.join(obj['names']) for obj in attributes_by_img[imgid])"
   ]
  },
  {
   "cell_type": "code",
   "execution_count": null,
   "metadata": {},
   "outputs": [],
   "source": [
    "# def has_synset(obj_synset):\n",
    "#     return {\n",
    "#         img['image_id'] for img in image_objects\n",
    "#         if any(obj_synset in obj['synsets'] for obj in img['objects'])}\n",
    "def has_synset(imgid, obj_synset):\n",
    "    return any(obj_synset in obj['synsets'] for obj in attributes_by_img[imgid])"
   ]
  },
  {
   "cell_type": "code",
   "execution_count": null,
   "metadata": {},
   "outputs": [],
   "source": [
    "def has_obj_with_attr(imgid, obj_name, attr):\n",
    "    return any(\n",
    "        (obj_name in '\\n'.join(obj['names'])) and (attr in obj.get('attributes', []))\n",
    "        for obj in attributes_by_img[imgid])\n",
    "\n",
    "def has_synset_with_attr(imgid, obj_synset, attr):\n",
    "    return any(\n",
    "        (obj_synset in obj['synsets']) and (attr in obj.get('attributes', []))\n",
    "        for obj in attributes_by_img[imgid])\n",
    "\n",
    "def has_obj_without_attr(imgid, obj_name, attr):\n",
    "    return any(\n",
    "        (obj_name in '\\n'.join(obj['names'])) and (attr not in obj.get('attributes', []))\n",
    "        for obj in attributes_by_img[imgid])\n",
    "\n",
    "def has_synset_without_attr(imgid, obj_synset, attr):\n",
    "    return any(\n",
    "        (obj_synset in obj['synsets']) and (attr not in obj.get('attributes', []))\n",
    "        for obj in attributes_by_img[imgid])"
   ]
  },
  {
   "cell_type": "code",
   "execution_count": null,
   "metadata": {},
   "outputs": [],
   "source": [
    "obj_synsets['pedestrian sign']"
   ]
  },
  {
   "cell_type": "code",
   "execution_count": null,
   "metadata": {},
   "outputs": [],
   "source": [
    "# candidates = (\n",
    "#     (has_object('pedestrian sign') | has_object('pedestrian crossing sign') | has_object('crossing sign') | has_object('sign')) &\n",
    "#     (has_object('traffic light') | has_synset('traffic_light.n.01'))\n",
    "# )\n",
    "candidates = {\n",
    "    imgid for imgid in attributes_by_img.keys()\n",
    "    if (\n",
    "        (\n",
    "            has_object(imgid, 'pedestrian sign') |\n",
    "            has_object(imgid, 'pedestrian crossing sign') |\n",
    "            has_object(imgid, 'crossing sign') |\n",
    "            has_obj_with_attr(imgid, 'sign', 'yellow')\n",
    "        ) & (\n",
    "            has_obj_without_attr(imgid, 'traffic light', 'red') |\n",
    "            has_synset_without_attr(imgid, 'traffic_light.n.01', 'red')\n",
    "        ))}\n",
    "len(candidates)"
   ]
  },
  {
   "cell_type": "code",
   "execution_count": null,
   "metadata": {
    "scrolled": true
   },
   "outputs": [],
   "source": [
    "show_images(candidates)"
   ]
  },
  {
   "cell_type": "code",
   "execution_count": null,
   "metadata": {},
   "outputs": [],
   "source": []
  },
  {
   "cell_type": "code",
   "execution_count": null,
   "metadata": {},
   "outputs": [],
   "source": [
    "[img['image_id'] for img in image_objects if '61514' in img.get('image_url', '')]\n",
    "#Image(img_by_id[61514]['image_url'])"
   ]
  },
  {
   "cell_type": "code",
   "execution_count": null,
   "metadata": {},
   "outputs": [],
   "source": [
    "img_by_id[61514]"
   ]
  },
  {
   "cell_type": "markdown",
   "metadata": {},
   "source": [
    "# Measuring Specificity"
   ]
  },
  {
   "cell_type": "markdown",
   "metadata": {},
   "source": [
    "We use paired comparisons to analyze specificity and accuracy. For a target image $x$ and a fixed set of imposter images $Y$, the **specific accuracy** of a caption is the fraction of comparisons that chose $x$. \n",
    "\n",
    "We start with our dataset of paired comparisons."
   ]
  },
  {
   "cell_type": "code",
   "execution_count": null,
   "metadata": {},
   "outputs": [],
   "source": [
    "captions = [\n",
    "    \"exactly how are both the dog and the person going to fit on that skateboard?\",\n",
    "    \"the dark haired dog is trying to ride on the skateboard.\",\n",
    "    \"a person in shorts and a black dog both have one foot on a skateboard.\",\n",
    "    \"a dog with a black head and black legs and ears standing up has one black paw on a black skateboard with white wheels and a guy with black and white shoes and white socks has one foot on the skateboard also and there are bikes and other people in the background\"\n",
    "]"
   ]
  },
  {
   "cell_type": "code",
   "execution_count": null,
   "metadata": {},
   "outputs": [],
   "source": [
    "alternatives = 'dog-and-guy-on-skateboard just-dog-on-skateboard guy-on-skateboard-holding-dog dog-and-guy-next-to-skateboard'.split()\n",
    "target = alternatives[0]\n",
    "imposters = alternatives[1:]\n",
    "applies_to = [\n",
    "    'dog-and-guy-on-skateboard dog-and-guy-next-to-skateboard'.split(),\n",
    "    'just-dog-on-skateboard'.split(),\n",
    "    'dog-and-guy-on-skateboard'.split(),\n",
    "    'dog-and-guy-on-skateboard just-dog-on-skateboard guy-on-skateboard-holding-dog dog-and-guy-next-to-skateboard'.split()\n",
    "]\n",
    "applies_to = {cap: tgts for cap, tgts in zip(captions, applies_to)}\n",
    "applies_to"
   ]
  },
  {
   "cell_type": "code",
   "execution_count": null,
   "metadata": {},
   "outputs": [],
   "source": [
    "import random\n",
    "random.seed(0)\n",
    "pairs = [[target, imposter] for imposter in imposters]\n",
    "for pair in pairs:\n",
    "    random.shuffle(pair)\n",
    "pairs"
   ]
  },
  {
   "cell_type": "code",
   "execution_count": null,
   "metadata": {},
   "outputs": [],
   "source": []
  },
  {
   "cell_type": "code",
   "execution_count": null,
   "metadata": {},
   "outputs": [],
   "source": [
    "def fake_answer_pairs_for_caption(applies, pairs):\n",
    "    outcomes = []\n",
    "    for a, b in pairs:\n",
    "        choices = []\n",
    "        if a in applies:\n",
    "            choices.append(0)\n",
    "        if b in applies:\n",
    "            choices.append(1)\n",
    "        if len(choices) == 0:\n",
    "            choices = [0, 1]\n",
    "        outcomes.append(random.choice(choices))\n",
    "    return outcomes\n",
    "fake_answer_pairs_for_caption(applies_to[captions[0]], pairs)"
   ]
  },
  {
   "cell_type": "code",
   "execution_count": null,
   "metadata": {},
   "outputs": [],
   "source": [
    "fake_comparisons_data = []\n",
    "for caption in captions:\n",
    "    for annotator in range(5):\n",
    "        for pair, outcome in zip(pairs, fake_answer_pairs_for_caption(applies_to[caption], pairs)):\n",
    "            picked = pair[outcome]\n",
    "            fake_comparisons_data.append(dict(\n",
    "                caption=caption,\n",
    "                annotator=annotator,\n",
    "                pair=pair,\n",
    "                picked=picked))"
   ]
  },
  {
   "cell_type": "code",
   "execution_count": null,
   "metadata": {},
   "outputs": [],
   "source": [
    "data = pd.DataFrame(fake_comparisons_data)\n",
    "len(data)"
   ]
  },
  {
   "cell_type": "code",
   "execution_count": null,
   "metadata": {},
   "outputs": [],
   "source": [
    "data['picked_correct'] = data['picked'] == 'dog-and-guy-on-skateboard'\n",
    "data.groupby('caption').picked_correct.mean().sort_values()"
   ]
  },
  {
   "cell_type": "markdown",
   "metadata": {},
   "source": [
    "# Final analyses"
   ]
  },
  {
   "cell_type": "markdown",
   "metadata": {},
   "source": [
    "We find a main effect of writing condition on outcome specificity."
   ]
  },
  {
   "cell_type": "code",
   "execution_count": null,
   "metadata": {},
   "outputs": [],
   "source": [
    "%load_ext rpy2.ipython"
   ]
  },
  {
   "cell_type": "code",
   "execution_count": null,
   "metadata": {},
   "outputs": [],
   "source": [
    "results = pd.DataFrame([\n",
    "    dict(participant_id=participant_id, condition=condition)\n",
    "    for participant_id in 'abc def ghi'.split() for condition in 'general specific norecs'.split()\n",
    "])\n",
    "results['participant_id'] = results['participant_id'].astype('category')\n",
    "results['condition'] = results['condition'].astype('category')\n",
    "results['specificity'] = np.random.randn(len(results))"
   ]
  },
  {
   "cell_type": "code",
   "execution_count": null,
   "metadata": {},
   "outputs": [],
   "source": [
    "%%R\n",
    "#install.packages(\"ARTool\")\n",
    "library(ARTool)"
   ]
  },
  {
   "cell_type": "code",
   "execution_count": null,
   "metadata": {},
   "outputs": [],
   "source": [
    "%%R -i results\n",
    "summary(results)"
   ]
  },
  {
   "cell_type": "code",
   "execution_count": null,
   "metadata": {},
   "outputs": [],
   "source": [
    "%%R -i results\n",
    "transformed <- art(specificity ~ condition + (1|participant), data=results)\n",
    "summary(transformed)\n",
    "anova(transformed)"
   ]
  },
  {
   "cell_type": "code",
   "execution_count": null,
   "metadata": {},
   "outputs": [],
   "source": []
  }
 ],
 "metadata": {
  "kernelspec": {
   "display_name": "Python 3",
   "language": "python",
   "name": "python3"
  },
  "language_info": {
   "codemirror_mode": {
    "name": "ipython",
    "version": 3
   },
   "file_extension": ".py",
   "mimetype": "text/x-python",
   "name": "python",
   "nbconvert_exporter": "python",
   "pygments_lexer": "ipython3",
   "version": "3.6.4"
  }
 },
 "nbformat": 4,
 "nbformat_minor": 2
}
