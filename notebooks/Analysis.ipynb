{
 "cells": [
  {
   "cell_type": "markdown",
   "metadata": {},
   "source": [
    "# Analysis pipeline for Specificity"
   ]
  },
  {
   "cell_type": "markdown",
   "metadata": {},
   "source": [
    "## Preliminaries"
   ]
  },
  {
   "cell_type": "code",
   "execution_count": 2,
   "metadata": {},
   "outputs": [
    {
     "name": "stdout",
     "output_type": "stream",
     "text": [
      "/Users/kcarnold/code/textrec\n"
     ]
    }
   ],
   "source": [
    "%cd ~/code/textrec/"
   ]
  },
  {
   "cell_type": "code",
   "execution_count": 3,
   "metadata": {},
   "outputs": [],
   "source": [
    "%matplotlib inline\n",
    "import datetime\n",
    "import json\n",
    "import pathlib\n",
    "import pandas as pd\n",
    "import numpy as np\n",
    "import matplotlib.pyplot as plt\n",
    "import seaborn as sns\n",
    "import toolz\n",
    "from IPython.display import Image, HTML"
   ]
  },
  {
   "cell_type": "code",
   "execution_count": 4,
   "metadata": {},
   "outputs": [
    {
     "name": "stdout",
     "output_type": "stream",
     "text": [
      "Loading COCO captions\n",
      "Loading COCO id2url\n",
      "Done\n"
     ]
    },
    {
     "name": "stderr",
     "output_type": "stream",
     "text": [
      "/Users/kcarnold/anaconda3/envs/py36/lib/python3.6/site-packages/h5py/__init__.py:36: FutureWarning: Conversion of the second argument of issubdtype from `float` to `np.floating` is deprecated. In future, it will be treated as `np.float64 == np.dtype(float).type`.\n",
      "  from ._conv import register_converters as _register_converters\n"
     ]
    },
    {
     "name": "stdout",
     "output_type": "stream",
     "text": [
      "Loading ONMT models...\n",
      "coco_lm_adam_acc_46.00_ppl_16.32_e10_nooptim.pt\n",
      "Loading model parameters.\n",
      "coco_cap_adam_acc_48.73_ppl_12.56_e10_nooptim.pt\n",
      "Loading model parameters.\n",
      "Ready.\n",
      "Loading SpaCy...done\n",
      "Loading COCO captions\n",
      "Loading COCO id2url\n",
      "Done\n",
      "Loading SpaCy...done\n"
     ]
    }
   ],
   "source": [
    "from textrec.paths import paths\n",
    "from textrec import analysis_util, util, notebook_util, automated_analyses\n",
    "reload(analysis_util), reload(util), reload(notebook_util), reload(automated_analyses)\n",
    "from textrec.notebook_util import images, id2img, id2url, show_images"
   ]
  },
  {
   "cell_type": "code",
   "execution_count": 5,
   "metadata": {},
   "outputs": [],
   "source": [
    "# HTML(show_images([images_by_split['val'][0]['cocoid']]))"
   ]
  },
  {
   "cell_type": "markdown",
   "metadata": {},
   "source": [
    "## Load results of writing experiment"
   ]
  },
  {
   "cell_type": "markdown",
   "metadata": {},
   "source": [
    "Prerequisites: Run `textrec.logs_to_csv {batch_name}` and `textrec.gruntwork {batch_name}`."
   ]
  },
  {
   "cell_type": "code",
   "execution_count": 12,
   "metadata": {},
   "outputs": [
    {
     "data": {
      "text/plain": [
       "array([275449, 396295, 431140, 227326, 200451, 223777, 247576,  71815,\n",
       "       240275])"
      ]
     },
     "execution_count": 12,
     "metadata": {},
     "output_type": "execute_result"
    }
   ],
   "source": [
    "trial_level_data.stimulus.unique()"
   ]
  },
  {
   "cell_type": "code",
   "execution_count": 6,
   "metadata": {},
   "outputs": [],
   "source": [
    "batch = 'spec1'\n",
    "experiment_level_data = pd.read_csv(paths.analyzed / f'experiment_{batch}.csv')\n",
    "block_level_data = pd.read_csv(paths.analyzed / f'block_{batch}.csv')\n",
    "trial_level_data = pd.read_csv(paths.analyzed / f'trial_withmanual_{batch}.csv')\n",
    "helpful_ranks_by_condition = pd.read_csv(paths.analyzed / f'helpful_ranks_by_condition_{batch}.csv')"
   ]
  },
  {
   "cell_type": "code",
   "execution_count": 7,
   "metadata": {},
   "outputs": [
    {
     "data": {
      "text/html": [
       "<div>\n",
       "<style scoped>\n",
       "    .dataframe tbody tr th:only-of-type {\n",
       "        vertical-align: middle;\n",
       "    }\n",
       "\n",
       "    .dataframe tbody tr th {\n",
       "        vertical-align: top;\n",
       "    }\n",
       "\n",
       "    .dataframe thead th {\n",
       "        text-align: right;\n",
       "    }\n",
       "</style>\n",
       "<table border=\"1\" class=\"dataframe\">\n",
       "  <thead>\n",
       "    <tr style=\"text-align: right;\">\n",
       "      <th></th>\n",
       "      <th>accurate-least-condition</th>\n",
       "      <th>accurate-most-condition</th>\n",
       "      <th>quick-least-condition</th>\n",
       "      <th>quick-most-condition</th>\n",
       "      <th>specific-least-condition</th>\n",
       "      <th>specific-most-condition</th>\n",
       "    </tr>\n",
       "    <tr>\n",
       "      <th>index</th>\n",
       "      <th></th>\n",
       "      <th></th>\n",
       "      <th></th>\n",
       "      <th></th>\n",
       "      <th></th>\n",
       "      <th></th>\n",
       "    </tr>\n",
       "  </thead>\n",
       "  <tbody>\n",
       "    <tr>\n",
       "      <th>general</th>\n",
       "      <td>2</td>\n",
       "      <td>4</td>\n",
       "      <td>1</td>\n",
       "      <td>5</td>\n",
       "      <td>2</td>\n",
       "      <td>6</td>\n",
       "    </tr>\n",
       "    <tr>\n",
       "      <th>norecs</th>\n",
       "      <td>19</td>\n",
       "      <td>2</td>\n",
       "      <td>22</td>\n",
       "      <td>2</td>\n",
       "      <td>20</td>\n",
       "      <td>2</td>\n",
       "    </tr>\n",
       "    <tr>\n",
       "      <th>specific</th>\n",
       "      <td>4</td>\n",
       "      <td>19</td>\n",
       "      <td>2</td>\n",
       "      <td>18</td>\n",
       "      <td>3</td>\n",
       "      <td>17</td>\n",
       "    </tr>\n",
       "  </tbody>\n",
       "</table>\n",
       "</div>"
      ],
      "text/plain": [
       "          accurate-least-condition  accurate-most-condition  \\\n",
       "index                                                         \n",
       "general                          2                        4   \n",
       "norecs                          19                        2   \n",
       "specific                         4                       19   \n",
       "\n",
       "          quick-least-condition  quick-most-condition  \\\n",
       "index                                                   \n",
       "general                       1                     5   \n",
       "norecs                       22                     2   \n",
       "specific                      2                    18   \n",
       "\n",
       "          specific-least-condition  specific-most-condition  \n",
       "index                                                        \n",
       "general                          2                        6  \n",
       "norecs                          20                        2  \n",
       "specific                         3                       17  "
      ]
     },
     "execution_count": 7,
     "metadata": {},
     "output_type": "execute_result"
    }
   ],
   "source": [
    "helpful_ranks_by_condition.set_index('index')"
   ]
  },
  {
   "cell_type": "code",
   "execution_count": 9,
   "metadata": {},
   "outputs": [],
   "source": [
    "import pickle"
   ]
  },
  {
   "cell_type": "code",
   "execution_count": 11,
   "metadata": {},
   "outputs": [],
   "source": [
    "data = dict(spec1=dict(\n",
    "    num_participants=len(set(trial_level_data.participant)),\n",
    "    non_male=(experiment_level_data.gender == 'Male').sum(),\n",
    "    num_trials_per=trial_level_data.groupby('participant').size().mean(),\n",
    "    n_trials=len(trial_level_data)))\n",
    "pickle.dump(data, open(paths.analyzed / 'data.pkl', 'wb'), -1)"
   ]
  },
  {
   "cell_type": "code",
   "execution_count": 51,
   "metadata": {},
   "outputs": [
    {
     "data": {
      "text/html": [
       "Each of 24 participants (15 non-male) completed 9.0 trials per experiment, for a total of 216 trials."
      ],
      "text/plain": [
       "<IPython.core.display.HTML object>"
      ]
     },
     "execution_count": 51,
     "metadata": {},
     "output_type": "execute_result"
    }
   ],
   "source": [
    "HTML(\"Each of {num_participants} participants ({non_male} non-male) completed {num_trials_per} trials per experiment, for a total of {n_trials} trials.\".format(\n",
    "    num_participants=len(set(trial_level_data.participant)),\n",
    "    non_male=(experiment_level_data.gender == 'Male').sum(),\n",
    "    num_trials_per=trial_level_data.groupby('participant').size().mean(),\n",
    "    n_trials=len(trial_level_data)))"
   ]
  },
  {
   "cell_type": "code",
   "execution_count": 52,
   "metadata": {},
   "outputs": [
    {
     "data": {
      "text/html": [
       "Participants spent 29.8 +- 24.7 minutes total."
      ],
      "text/plain": [
       "<IPython.core.display.HTML object>"
      ]
     },
     "execution_count": 52,
     "metadata": {},
     "output_type": "execute_result"
    }
   ],
   "source": [
    "HTML(\"Participants spent {total_time_mean:.1f} +- {total_time_std:.1f} minutes total.\".format(\n",
    "    total_time_mean=experiment_level_data.total_time.mean(),\n",
    "    total_time_std=experiment_level_data.total_time.std()))"
   ]
  },
  {
   "cell_type": "code",
   "execution_count": 53,
   "metadata": {},
   "outputs": [
    {
     "data": {
      "text/plain": [
       "Index(['participant', 'age', 'english_proficiency', 'gender',\n",
       "       'helpfulRank-accurate-least-condition',\n",
       "       'helpfulRank-accurate-least-idx', 'helpfulRank-accurate-most-condition',\n",
       "       'helpfulRank-accurate-most-idx', 'helpfulRank-quick-least-condition',\n",
       "       'helpfulRank-quick-least-idx', 'helpfulRank-quick-most-condition',\n",
       "       'helpfulRank-quick-most-idx', 'helpfulRank-specific-least-condition',\n",
       "       'helpfulRank-specific-least-idx', 'helpfulRank-specific-most-condition',\n",
       "       'helpfulRank-specific-most-idx', 'other', 'techDiff', 'total_time',\n",
       "       'use_predictive', 'verbalized_during', 'condition_order', 'NFC',\n",
       "       'Extraversion'],\n",
       "      dtype='object')"
      ]
     },
     "execution_count": 53,
     "metadata": {},
     "output_type": "execute_result"
    }
   ],
   "source": [
    "experiment_level_data.columns"
   ]
  },
  {
   "cell_type": "code",
   "execution_count": 67,
   "metadata": {},
   "outputs": [
    {
     "data": {
      "text/html": [
       "\n",
       "Most participants reported (before beginning the study) that they used predictive typing on their phones:\n",
       "<table border=\"1\" class=\"dataframe\">\n",
       "  <thead>\n",
       "    <tr style=\"text-align: right;\">\n",
       "      <th></th>\n",
       "      <th>Used predictive typing?</th>\n",
       "    </tr>\n",
       "  </thead>\n",
       "  <tbody>\n",
       "    <tr>\n",
       "      <th>Yes</th>\n",
       "      <td>23</td>\n",
       "    </tr>\n",
       "    <tr>\n",
       "      <th>No</th>\n",
       "      <td>2</td>\n",
       "    </tr>\n",
       "  </tbody>\n",
       "</table>"
      ],
      "text/plain": [
       "<IPython.core.display.HTML object>"
      ]
     },
     "execution_count": 67,
     "metadata": {},
     "output_type": "execute_result"
    }
   ],
   "source": [
    "HTML(\"\"\"\n",
    "Most participants reported (before beginning the study) that they used predictive typing on their phones:\n",
    "\"\"\" + experiment_level_data.use_predictive.value_counts().to_frame(\"Used predictive typing?\").to_html())"
   ]
  },
  {
   "cell_type": "code",
   "execution_count": 68,
   "metadata": {},
   "outputs": [
    {
     "data": {
      "text/html": [
       "\n",
       "Several participants answered Yes to \"While you were writing, did you speak or whisper what you were writing?\":\n",
       "<table border=\"1\" class=\"dataframe\">\n",
       "  <thead>\n",
       "    <tr style=\"text-align: right;\">\n",
       "      <th></th>\n",
       "      <th>Verbalized?</th>\n",
       "    </tr>\n",
       "  </thead>\n",
       "  <tbody>\n",
       "    <tr>\n",
       "      <th>No</th>\n",
       "      <td>21</td>\n",
       "    </tr>\n",
       "    <tr>\n",
       "      <th>Yes</th>\n",
       "      <td>4</td>\n",
       "    </tr>\n",
       "  </tbody>\n",
       "</table>"
      ],
      "text/plain": [
       "<IPython.core.display.HTML object>"
      ]
     },
     "execution_count": 68,
     "metadata": {},
     "output_type": "execute_result"
    }
   ],
   "source": [
    "HTML(\"\"\"\n",
    "Several participants answered Yes to \"While you were writing, did you speak or whisper what you were writing?\":\n",
    "\"\"\" + experiment_level_data.verbalized_during.value_counts().to_frame(\"Verbalized?\").to_html())"
   ]
  },
  {
   "cell_type": "code",
   "execution_count": 69,
   "metadata": {},
   "outputs": [
    {
     "data": {
      "text/html": [
       "\n",
       "We collected 10 items each for NFC and Extraversion.\n",
       "We obtained a wider range of Extraversion than NFC.\n",
       "(Min and max scales normalized to 0 and 1 respectively.)"
      ],
      "text/plain": [
       "<IPython.core.display.HTML object>"
      ]
     },
     "execution_count": 69,
     "metadata": {},
     "output_type": "execute_result"
    },
    {
     "data": {
      "image/png": "[encoded data removed]",
      "text/plain": [
       "<matplotlib.figure.Figure at 0x1420d1c18>"
      ]
     },
     "metadata": {},
     "output_type": "display_data"
    }
   ],
   "source": [
    "experiment_level_data.plot.scatter(x='Extraversion', y='NFC');\n",
    "plt.xlim([0, 1])\n",
    "plt.ylim([0, 1]);\n",
    "HTML(\"\"\"\n",
    "We collected 10 items each for NFC and Extraversion.\n",
    "We obtained a wider range of Extraversion than NFC.\n",
    "(Min and max scales normalized to 0 and 1 respectively.)\"\"\")"
   ]
  },
  {
   "cell_type": "code",
   "execution_count": 65,
   "metadata": {},
   "outputs": [
    {
     "data": {
      "text/html": [
       "When running this experiment, the experiment software was configured to randomize the order\n",
       "of conditions seen by each subject, not to attempt to counterbalance order.\n",
       "This was fixed in subsequent experiments.<table border=\"1\" class=\"dataframe\">\n",
       "  <thead>\n",
       "    <tr style=\"text-align: right;\">\n",
       "      <th></th>\n",
       "      <th>condition_order</th>\n",
       "    </tr>\n",
       "  </thead>\n",
       "  <tbody>\n",
       "    <tr>\n",
       "      <th>norecs,general,specific</th>\n",
       "      <td>6</td>\n",
       "    </tr>\n",
       "    <tr>\n",
       "      <th>general,norecs,specific</th>\n",
       "      <td>4</td>\n",
       "    </tr>\n",
       "    <tr>\n",
       "      <th>norecs,specific,general</th>\n",
       "      <td>4</td>\n",
       "    </tr>\n",
       "    <tr>\n",
       "      <th>general,specific,norecs</th>\n",
       "      <td>4</td>\n",
       "    </tr>\n",
       "    <tr>\n",
       "      <th>specific,norecs,general</th>\n",
       "      <td>3</td>\n",
       "    </tr>\n",
       "    <tr>\n",
       "      <th>specific,general,norecs</th>\n",
       "      <td>3</td>\n",
       "    </tr>\n",
       "  </tbody>\n",
       "</table>"
      ],
      "text/plain": [
       "<IPython.core.display.HTML object>"
      ]
     },
     "execution_count": 65,
     "metadata": {},
     "output_type": "execute_result"
    }
   ],
   "source": [
    "HTML(\"\"\"When running this experiment, the experiment software was configured to randomize the order\n",
    "of conditions seen by each subject, not to attempt to counterbalance order.\n",
    "This was fixed in subsequent experiments.\"\"\"\n",
    "     + experiment_level_data.condition_order.value_counts().to_frame().to_html())"
   ]
  },
  {
   "cell_type": "code",
   "execution_count": 9,
   "metadata": {},
   "outputs": [],
   "source": [
    "def summarize_means(df, by, outcome):\n",
    "    return ', '.join(f'{name}={group_mean:.2f}' for name, group_mean in df.groupby(by)[outcome].mean().iteritems())"
   ]
  },
  {
   "cell_type": "code",
   "execution_count": 9,
   "metadata": {},
   "outputs": [
    {
     "data": {
      "text/html": [
       "The average cognitive load was higher in the no-recommendations condition (general=10.72, norecs=15.88, specific=10.12)"
      ],
      "text/plain": [
       "<IPython.core.display.HTML object>"
      ]
     },
     "execution_count": 9,
     "metadata": {},
     "output_type": "execute_result"
    },
    {
     "data": {
      "image/png": "[encoded data removed]",
      "text/plain": [
       "<matplotlib.figure.Figure at 0x140aaf5f8>"
      ]
     },
     "metadata": {},
     "output_type": "display_data"
    }
   ],
   "source": [
    "sns.barplot(x='condition', y='TLX_sum', data=block_level_data, capsize=.2)\n",
    "HTML(\"The average cognitive load was higher in the no-recommendations condition ({})\".format(\n",
    "    summarize_means(block_level_data, 'condition', 'TLX_sum')))"
   ]
  },
  {
   "cell_type": "code",
   "execution_count": 10,
   "metadata": {},
   "outputs": [
    {
     "data": {
      "text/html": [
       "There was no difference in text length between conditions (general=75.31, norecs=73.10, specific=76.26)."
      ],
      "text/plain": [
       "<IPython.core.display.HTML object>"
      ]
     },
     "execution_count": 10,
     "metadata": {},
     "output_type": "execute_result"
    },
    {
     "data": {
      "image/png": "[encoded data removed]",
      "text/plain": [
       "<matplotlib.figure.Figure at 0x10846d048>"
      ]
     },
     "metadata": {},
     "output_type": "display_data"
    }
   ],
   "source": [
    "sns.barplot(x='condition', y='text_len', data=trial_level_data, capsize=.2);\n",
    "HTML(\"There was no difference in text length between conditions ({}).\".format(\n",
    "    summarize_means(trial_level_data, 'condition', 'text_len')))"
   ]
  },
  {
   "cell_type": "code",
   "execution_count": 11,
   "metadata": {},
   "outputs": [
    {
     "data": {
      "text/html": [
       "Participants made more errors (corrected + uncorrected) in the no-recommendations condition (general=11.32, norecs=19.74, specific=12.00)."
      ],
      "text/plain": [
       "<IPython.core.display.HTML object>"
      ]
     },
     "execution_count": 11,
     "metadata": {},
     "output_type": "execute_result"
    },
    {
     "data": {
      "image/png": "[encoded data removed]",
      "text/plain": [
       "<matplotlib.figure.Figure at 0x143e78e10>"
      ]
     },
     "metadata": {},
     "output_type": "display_data"
    }
   ],
   "source": [
    "sns.barplot(x='condition', y='all_errors', data=trial_level_data, capsize=.2)\n",
    "HTML(\"Participants made more errors (corrected + uncorrected) in the no-recommendations condition ({}).\".format(\n",
    "    summarize_means(trial_level_data, 'condition', 'all_errors')))"
   ]
  },
  {
   "cell_type": "code",
   "execution_count": 12,
   "metadata": {},
   "outputs": [
    {
     "data": {
      "text/html": [
       "Participants were slightly faster in the recommendations conditions (characters per second: general=1.94, norecs=1.72, specific=2.02)."
      ],
      "text/plain": [
       "<IPython.core.display.HTML object>"
      ]
     },
     "execution_count": 12,
     "metadata": {},
     "output_type": "execute_result"
    },
    {
     "data": {
      "image/png": "[encoded data removed]",
      "text/plain": [
       "<matplotlib.figure.Figure at 0x143e5abe0>"
      ]
     },
     "metadata": {},
     "output_type": "display_data"
    }
   ],
   "source": [
    "sns.barplot(x='condition', y='characters_per_sec', data=trial_level_data, capsize=.2)\n",
    "HTML(\"Participants were slightly faster in the recommendations conditions (characters per second: {}).\".format(\n",
    "    summarize_means(trial_level_data, 'condition', 'characters_per_sec')))"
   ]
  },
  {
   "cell_type": "code",
   "execution_count": 19,
   "metadata": {},
   "outputs": [
    {
     "data": {
      "text/html": [
       "Participants used available recommendations slightly more often when they were specific (use rate: general=0.33, norecs=0.00, specific=0.48)."
      ],
      "text/plain": [
       "<IPython.core.display.HTML object>"
      ]
     },
     "execution_count": 19,
     "metadata": {},
     "output_type": "execute_result"
    },
    {
     "data": {
      "image/png": "[encoded data removed]",
      "text/plain": [
       "<matplotlib.figure.Figure at 0x1428d6400>"
      ]
     },
     "metadata": {},
     "output_type": "display_data"
    }
   ],
   "source": [
    "sns.barplot(x='condition', y='rec_use_full_frac', data=trial_level_data, capsize=.2)\n",
    "HTML(\"Participants used available recommendations slightly more often when they were specific (use rate: {}).\".format(\n",
    "    summarize_means(trial_level_data, 'condition', 'rec_use_full_frac')))"
   ]
  },
  {
   "cell_type": "code",
   "execution_count": null,
   "metadata": {},
   "outputs": [],
   "source": []
  },
  {
   "cell_type": "code",
   "execution_count": 20,
   "metadata": {},
   "outputs": [
    {
     "name": "stdout",
     "output_type": "stream",
     "text": [
      "None\n",
      "\n",
      "None\n",
      "\n",
      "Mone\n",
      "\n",
      "No\n",
      "\n",
      "None\n",
      "\n",
      "None\n",
      "\n",
      "No\n",
      "\n",
      "No issues\n",
      "\n",
      "No \n",
      "\n",
      "No\n",
      "\n",
      "None\n",
      "\n",
      "No\n",
      "\n",
      "No\n",
      "\n",
      "None\n",
      "\n",
      "None\n",
      "\n",
      "Nope\n",
      "\n",
      "None.\n",
      "\n",
      "No\n",
      "\n",
      "None\n",
      "\n",
      "Just the fact that the third photo in keyboard 1 never loaded.\n",
      "\n",
      "None\n",
      "\n",
      "None\n",
      "\n",
      "None\n",
      "\n",
      "None\n",
      "\n",
      "No. \n"
     ]
    }
   ],
   "source": [
    "print('\\n\\n'.join(x for x in experiment_level_data['techDiff'] if x is not None))"
   ]
  },
  {
   "cell_type": "code",
   "execution_count": 22,
   "metadata": {},
   "outputs": [
    {
     "name": "stdout",
     "output_type": "stream",
     "text": [
      "No, I really enjoyed this task ☺️\n",
      "\n",
      "None\n",
      "\n",
      "None\n",
      "\n",
      "It went well but my initial survey responses might not be in complete alignment with my final responses on this page.  That's because seeing my captions on this page gave me a better perspective with the benefit of hindsight.  Thanks for the HIT!  I did my best and hope the data is useful!\n",
      "\n",
      "Being able to not have to backspace to redo typing\n",
      "\n",
      "None\n",
      "\n",
      "None\n",
      "\n",
      "None\n",
      "\n",
      "None\n",
      "\n",
      "None\n",
      "\n",
      "This was very annoying\n",
      "\n",
      "Everything was great. First and third were pretty equal. Second was awful.\n",
      "\n",
      "It went smooth no issues \n",
      "\n",
      "None\n",
      "\n",
      "Everything went smoothly. Thank you\n",
      "\n",
      "Can I type this one on the computer? One: I love the fact that after going to this page straight from the HIT on my computer, the page stayed synced when I went to it from my phone. There are some HITs I've done that could really benefit from that little nicety. Two: I feel like the suggestions really tend toward making me lazy, to some small extent. Having to type it all, you have to think about what to say, whereas faced with suggested options, you might say to yourself \"Yeah, that'll do.\" Three: I didn't notice much of a difference between the first two keyboards, honestly. \n",
      "\n",
      "No problems, hit was fine. Really liked the third board, it was the best one by far.\n",
      "\n",
      "I really enjoyed this experiment. Well done!! Thank you for considering my data.\n",
      "\n",
      "There were no problems in taking this study\n",
      "\n",
      "It was fun! Just feel a little unsure that I will be penalized for not writing a caption for the third photo on keyboard 1. I hope that was OK. Thank you!\n",
      "\n",
      "Use  my data\n",
      "\n",
      "None\n",
      "\n",
      "None\n",
      "\n",
      "Had to scroll to see the entire image, seems like it slowed down the task a bit. Other than that, task was fluid, progressed at a good pace.\n",
      "\n",
      "The experiment was pleasant. The keyboards one and two were very similar. I'm not sure I noticed a big difference between them. Definitely the option to pinpoint correct would be a good option as  is auto correct. But that's it that I can think of.\n"
     ]
    }
   ],
   "source": [
    "print('\\n\\n'.join(x for x in experiment_level_data['other'] if isinstance(x, str)))"
   ]
  },
  {
   "cell_type": "code",
   "execution_count": 78,
   "metadata": {},
   "outputs": [],
   "source": [
    "writer = pd.ExcelWriter('specificity_details.xlsx')\n",
    "for stim, group in trial_level_data.groupby('stimulus'):\n",
    "    group.loc[:,['corrected_text']].to_excel(writer, str(stim))\n",
    "writer.close()"
   ]
  },
  {
   "cell_type": "code",
   "execution_count": 74,
   "metadata": {},
   "outputs": [
    {
     "name": "stdout",
     "output_type": "stream",
     "text": [
      "\n",
      "71815\n",
      "a man with a tennis rackett forcefully swinging at the tennis ball\n",
      "an adult is holding a tennis racket trying to hit a ball\n",
      "a tennis player is ready to hit the tennis ball across the court.\n",
      "a male tennis player in a pink shirt prepares to return a volley in toronto\n",
      "a male tennis player is on a tennis court with the letters toronto on the mat. the man is swinging his red racket at a yellow tennis ball\n",
      "a tennis player lunges across the court towards the ball with his tennis racquet.\n",
      "a tennis player in a white shirt and tan shorts is about to hit back the tennis ball\n",
      "a tennis player on the court about to swing and hit a ball appproaching him\n",
      "a tennis player uses his backhand to swing at a tennis ball on a green and blue court\n",
      "a tennis olayer is ready to hit the ball back to the opponent who is off screen. they are on a professional sponsored court.\n",
      "a man with a tennis racket, white shirt and shoes holds his racket back in order to hit the ball\n",
      "a tennis player is swinging his racket on a green tennis court with writing on the grass.\n",
      "a tennis player returning a shot on a court in the rogers centre in toronto\n",
      "man playing tennis\n",
      "a man is standing in a field with a tennins racket swinging at a ball\n",
      "a tennis player about to hit a tennis ball with a backhand\n",
      "roger federer about to back hand a tennis ball in a tennis match.\n",
      "a male tennis player hits the ball with his racket on the tennis court.\n",
      "the tennis player is swinging his racket at a tennis ball in front of him.\n",
      "a tennis player is trying hard to return the ball oronto is written in the grass\n",
      "roger federer moves towards the tennis ball, intently ready to smack it and win\n",
      "a tennis player is about to hit the tennis ball\n",
      "a male tennis player wearing khacki shorts swings towards the yellow tennis ball on the green and blue court\n",
      "a professional tennis court with a professional tennis player hitting at a tennis ball\n",
      "\n",
      "200451\n",
      "a man assisting children with flying kites\n",
      "one adult and two kids are playing with kites\n",
      "colorful kites are flown above a sandy beach by two children and an adult\n",
      "a man in a red shirt and two children stand on the beach and fly kites\n",
      "a man and his two children are flying multicolored kites on a sandy beach\n",
      "there is one kite flying over four other kites on a blue sky.\n",
      "a man in a red shirt is helping his children fly a large rainbow-colored kite\n",
      "a man and two children about to fly kites with people in the background flying kites above the beach\n",
      "a man flies a butterfly kite with his two daughters.\n",
      "a family is flying several kites on a beach on a clear day. the kites are very colorful.\n",
      "two children and one adult stand on the beach holding kites and flying them into the sky\n",
      "a man in a red shirt with two children are on a beach holding a multi-colored kite while other people fly kites in the background\n",
      "a msn helping two kids try to fly a kite on the beach\n",
      "kites in the sky\n",
      "families stand around by the water flying kites on a sunny day\n",
      "six kites flying in a blue sky above a field\n",
      "kids at a beach flying colourful kites.\n",
      "a family flies their kites together at a beach in the sun\n",
      "people are standing on the beach flying colorful kites\n",
      "a group of people flying kites on a beach and its a beautiful day\n",
      "two children with an adult flying kites on the beach around others doing the same in the afternoon\n",
      "man and two girls are flying butterfly kites on a very windy and cloudy day\n",
      "several multicolored kites with streamers are seen soaring above the heads of people\n",
      "some people on a sandy beach flying kites with a clear blue sky\n",
      "\n",
      "223777\n",
      "a train is traveling on the tracks through a marketplace\n",
      "a train is coming on a rail road\n",
      "a brown trai  pulls into the tracka next to some colorful buildings\n",
      "an old train runs on the tracks in front of powder blue and white buildings\n",
      "a brown colored train is parked at an outdoor train station with three blue and white buildings\n",
      "a train is arriving at a quaint beach side looking station.\n",
      "an old fashioned train is coming into the station\n",
      "an old train about to arrive at a station stop with no people present\n",
      "a train is approaching the station and passing in front of blue and white buildings\n",
      "the image shows a railroad track with a train on it further out in te distance. multiple white building hug the side if the track, with some woods behind them.\n",
      "a train on the tracks passes a white house with blue paint before approaching another white house\n",
      "an old train is stopped on the train tracks in front of a lovely cape cod cottage with bright blue trim and adjacent matching cottages\n",
      "a train leaving a train station that has a blue and white building\n",
      "train on tracks next to homes\n",
      "a train sits on a set of tracks inbetween two platforms resting next to three blue and white buildings\n",
      "a train passing a few small buildings, perhaps the station\n",
      "a train is pulling into the train station.\n",
      "a train is traveling down the tracks near a rail road station\n",
      "there is a train stopped at a train station platform\n",
      "a train station with three building to the left it is a nice sunny day\n",
      "a landscape of a train stop with an old-looking brownish train and a few brightly colored buildings to one side\n",
      "a train passes by a series of brightly blue and white station buildings\n",
      "a brown train is seen at a station near some colorful buildings and trees\n",
      "some train tracks with a train on it traveling beside some white and blue buildings with green trees in the background and a clear blue sky\n",
      "\n",
      "227326\n",
      "a man and woman getting assistance cutting their wedding cake\n",
      "a bride and a groom are cutting a cake with the help of a woman\n",
      "a black and white photo or a large man and a woman cutting thwir wedding cake\n",
      "a man in a tuxexo and a woman in a gown are show how to cut their wedding cake by a woman holding a camera\n",
      "a obvious dressed bride and groom at a wedding reception are cutting into their wedding cake with the help of the photographer whose hand is guiding theirs\n",
      "the photographer helps the bride and groom cut the wedding cake.\n",
      "a photographer is helping the bride and groom cut the cake\n",
      "a bride and groom cutting a cake with the photographer showing them how to cut the four tier cake\n",
      "a woman in a wedding dress cuts a cake with her husband and the photographer.\n",
      "a black and white photo of a wedding. the groom and a camerawoman are helping the bride cut the wedding cake on the table filled with glasses and chocloates.\n",
      "a husband, bride and female all stand in front of a table holding a knife cutting a cake\n",
      "a woman in a bridal gown stands next to a man in a tuxedo in front of a weding cake while a photographer explains how to position her hand for a photi\n",
      "a photographer holding the hand of a bride and groom as they cut their wedding cake\n",
      "an old timey wedding\n",
      "a woman in black helps a bride and groom cut into their wedding cake\n",
      "a black and white picture of a bride and groom cutting their wedding cake with a photographer helping them pose\n",
      "a bride and groom are both holding onto the same knife to cut their wedding cake.\n",
      "a bride and groom cut a wedding cake together\n",
      "a woman is standing next to a couple in front of a cake with a knife in it and holding the other womans hands\n",
      "a newly wedded couple cutting there wedding cake with a lady helping the bride cut the cake\n",
      "a black-and-white picture of a young couple cuttinf the wedding cake with the help of a young photographer at the wedding event\n",
      "wedding photographer is guiding a bride and groom as to how they should cut their cake\n",
      "a bride and a groom are seen cutting a cake with a photographer in black and white\n",
      "a groom and bride slicing a white wedding cake on the banquet food table\n",
      "\n",
      "240275\n",
      "a man-woman gracefully riding a wave using a surfboard.\n",
      "a man is standing on water with skis\n",
      "a surfer leans forward to ride a wave\n",
      "a surfer in a full bodysuit rides a wave expertly\n",
      "a male surfer in a white shirt black sleeves and black pants is surfing waves on a white surfboard\n",
      "a surfer wearing a wetsuit is catching a wave.\n",
      "a surfer in a white and blue wetsuit is riding the waves\n",
      "a surfer on a a surfboard riding wave in the ocean\n",
      "a blonde man in a wetsuit surfs a wave.\n",
      "a blonde surfer wearing a wetsuit rides an ocean wave. the water looks clear.\n",
      "a man with a white shirt and blue pants stands on a surfboard as the wave rises\n",
      "a blonde surfer in a black and white wetsuit is riding a large wave in the water.\n",
      "a man with blonde hair and a white and black wetsuit surfing a wave.\n",
      "man surfing\n",
      "a blonde haired man surfs on a surfboard in the ocean\n",
      "a surfer in a wetsuit riding a fairly small wave\n",
      "a male surfer riding on his surfboard in the ocean.\n",
      "a surfer rides the crest of the waves in the ocean.\n",
      "a man riding a wave on top of a surfboard in the middle of the ocean with his surfboard\n",
      "a surfer is riding a wave the water looks so refreshing its a beautiful day\n",
      "a young blond man in a water suit catching a small wave on his surfboard\n",
      "a surfer in a white and black suit is leaning forward and riding a wave\n",
      "a surfer wearing black and white decends from a small wave in the blue ocean\n",
      "a surfer in the ocean surfing on a wave\n",
      "\n",
      "247576\n",
      "a red city bus heading  down the street\n",
      "a red double-decker bus driving on the road, many people walking on the sidewalk\n",
      "a red trolley drives through a stree surrounded by plain brick buildings.\n",
      "a gorgeous european city with tall gothic buildings and a red trolley on the street between them. at\n",
      "a city view of a busy london street filled with a black car and a red double decker bus driving on the street. many people fill the sidewalk mostly the right side\n",
      "a double-decker bus drives through a busy city street in london.\n",
      "a red double-decker bus is coming down the street\n",
      "a large street with people on the sidewalk while a red double decker bus approaches a pedestrian crossing.\n",
      "a double decker red bus drives down a crowded street with a car behind it.\n",
      "the photo shows a downtown scene of a city. there are old buildings everywhere, and a red bus is prominent in the middle of the road. many people walk down the sidewalks.\n",
      "a red double-decker bus passes a group of people to its lefg while a black car looks to pass\n",
      "a red double decker bus is traveling down a busy european street lined with historic buildings and people on the sidewalks.\n",
      "a double decker bus driving down a street with old architecture buildings\n",
      "old european architecture\n",
      "a red double-decker bus driving down a street next to tall buildings and a cloudy sky in london.\n",
      "a red double-decker bus and car on a street running between old, ornate buildings\n",
      "a busy city street with cars, a large red bus and pedestrians going about their day.\n",
      "a double decker bus traveling down the middle of the street in the city streets.\n",
      "there are people walking down the street with a red double decker bus in the middle of the street\n",
      "a busy city street with cars and people along the streets with high-rise buildings on both sides\n",
      "looking down a london street on a crowded evening with a london double bus in clear focus and old-style buildings next to each other on both sides\n",
      "a red two story city bus is driving in a european city with pedestrians all around\n",
      "dozens of people line the gray sidewalks adjacent to tall buildings as a two deck bus and vehicle progress on the street\n",
      "a downtown city street and buildings with a vehicle and a bus and some people standing and walking on the sidewalk\n",
      "\n",
      "275449\n",
      "a cat sitting on top of the table next to a wine glass\n",
      "a cat is sitting behind a glass of wine\n",
      "a tricolor cat is sitting in front of a partially full wine glass\n",
      "a gray and beige cat looks upward as a half full glass of wine can be seen in the foreground\n",
      "a  brownish-orange cat with yellow eyes is look to his left past a glass of red wine\n",
      "a cat sits on a table behind a barely filled wine glass.\n",
      "an orange cat is laying near a wine glass with red wine\n",
      "a cat sitting on a placemat on a table behind a wineglass\n",
      "a tabby cat standing behind a glass of wine stares at me\n",
      "a glass of wine in front of a cat on a mat on a table\n",
      "a glass of red wine sitting in fronf of a brown cat with brown stripes on a brown mat\n",
      "a curious orange and black cat with yellow eyes is crouched on a tan sisal rug and is partly obstructed by a half full glass of red wine\n",
      "a half full glass of red wine on a table in front of a calico cat\n",
      "a cat behind a glass vase\n",
      "a brown and tan cat lays behind a glass of red wine\n",
      "a cat looks up from behind a glass of red wine\n",
      "a car is sitting on a table behind a wine glass with red wine in it.\n",
      "a chubby faced brown and yellow tabby cat looks beyond a glass of red wine\n",
      "a tabby cat is sitting in front of a wine glass\n",
      "a yellow cat with strips is setting on a place mat  on a table behind a half of glass of red wine\n",
      "a curious cat sits perched upon a table, next to a glass of wine\n",
      "brown cat is crouching in the background of a glass of wine\n",
      "an orange and brown cat looks at a glass of red wine\n",
      "a wine glass with red wine less than half full and an orange striped tabby cat in the background behind the glass\n",
      "\n",
      "396295\n",
      "a shower with a towel hanging on the handle of the door\n",
      "a toilet and a shower door hanging with a towel\n",
      "someome is using a shower but it's hard to see due to the opaque glass\n",
      "a closed shower door with crackled glass encases some hanging colored toiletries\n",
      "a person is taking a shower in a shower with very opaque sliding doors\n",
      "a loofah and other items are blurry looking through an opaque shower door.\n",
      "a rusty and dirty shower in the bathroom has a tan towel over its handle\n",
      "a closed shower with a pattern on the door making it hard to see inside\n",
      "a tan towel hangs in front of a glass shower\n",
      "a bathroom towel hanging on a shower door with a toilet in view\n",
      "a beige towel hangs over the rightmost shower door both of which are wet with water\n",
      "a tan towel is hanging from a chrome handle on a textured glass shower door\n",
      "a beige towel hanging on a translucent glass shower door\n",
      "a shower door\n",
      "a beige towel sits on a glass shower door\n",
      "a sliding glass shower door with a bath mat hanging on it\n",
      "i see a standing shower with two hazy sliding glass doors and a towel hanging off of one.\n",
      "a towel folded over a rack on sliding shower doors\n",
      "the doors to the shower are closed and made of glass you can partially see through.\n",
      "a small bath with a shower with a blue mat on the floor\n",
      "a closed wavy glass door in the bathroom peers intk the walk in shower\n",
      "brown towel is hanging on a sliding shower door\n",
      "a beige towel hangs up on the outside of an enclosed shower containing toiletries\n",
      "sliding glass, frosted, shower doors with a tan towel hanging on the handle and a white toilet with a blue floor rug\n",
      "\n",
      "431140\n",
      "a bathroom with a toilet and sink and with a roll of toilet paper on the toilet\n",
      "a toilet with a roll of toilet paper and a sink\n",
      "a clean bathroom with a white sink near a white toilet\n",
      "a white bathroom sink and toilet with a mirror and a roll of unopened toilet paper\n",
      "a bathroom with one white sink and a white toilet with a toilet paper roll on the back lid sits next to the sink which has a mirror above it which shows the exact same toilet across the room\n",
      "a toilet has a roll of toilet paper on it, and there is a sink that matches it to the right.\n",
      "there is a roll of toilet paper on the lid of the toilet in a small bathroom\n",
      "a sink, mirror and toilet, all in white with a roll of toilet paper on the toilet\n",
      "a wrapped roll of toilet paper sits on top of a toilet in front if a metal bar and next to a porcelain sink.\n",
      "a restroom containing a porcelain toilet and sink. a mirror sits above the sunk on the wall.\n",
      "a toilet with the seat down and a roll of toilet paper on top is next to a white sink\n",
      "in a drab yellow bathroom is a very clinical white sink with an unadorned mirror above and adjacent white toilet with a roll of toilet paper on top\n",
      "a white toilet and a white sink with a mirror above the sink\n",
      "a bathroom with a sink and a toilet\n",
      "an unopened roll of toilet tissue rests upon a white toilet\n",
      "a view of a bathroom looking toward the toilet from behind the sink\n",
      "its a public restroom with a white sink and toilet.\n",
      "a bathroom with a white sink and white toilet. a roll of unwrapped toilet paper sits on the bowl\n",
      "the mirror shows there are more than one toliets in this bathroom.\n",
      "a bath room with a white toilet and a white washbasin\n",
      "a toilet paper sits on top of a toilet next to the sink, in a plain bathroom\n",
      "toilet paper roll is on top of the toilet in a mellow yellow painted bathroom\n",
      "a toilet paper roll sits on a toilet next to a mirror and a white porcelain sink\n",
      "a bathroom sink and mirror and toilet with a silver handle attached to the wall behind it\n"
     ]
    }
   ],
   "source": [
    "for stim, txts in trial_level_data.groupby('stimulus').text:\n",
    "    print()\n",
    "    print(stim)\n",
    "    print('\\n'.join(txts))\n",
    "    txts.to_csv(f'{stim}.csv', index=False)"
   ]
  }
 ],
 "metadata": {
  "kernelspec": {
   "display_name": "Python 3",
   "language": "python",
   "name": "python3"
  },
  "language_info": {
   "codemirror_mode": {
    "name": "ipython",
    "version": 3
   },
   "file_extension": ".py",
   "mimetype": "text/x-python",
   "name": "python",
   "nbconvert_exporter": "python",
   "pygments_lexer": "ipython3",
   "version": "3.6.4"
  }
 },
 "nbformat": 4,
 "nbformat_minor": 2
}
